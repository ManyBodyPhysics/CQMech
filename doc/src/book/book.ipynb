{
 "metadata": {},
 "nbformat": 3,
 "nbformat_minor": 0,
 "worksheets": [
  {
   "cells": [
    {
     "cell_type": "markdown",
     "metadata": {},
     "source": [
      "<!-- Note on the Springer T2 style: here we use the modifications -->\n",
      "<!-- introduced in t2do.sty and svmonodo.sty (both are bundled with DocOnce). -->\n",
      "\n",
      "# Nuclear Many-body Physics; a Computational Approach\n",
      "**May 4, 2015**\n",
      "\n",
      "# Preface\n",
      "<div id=\"ch:preface\"></div>\n",
      "\n",
      "\n",
      "Nearly all of physics is many-body physics at the most  \n",
      "microscopic level of understanding.\n",
      "A theoretical understanding of the behavior of quantum mechanical systems with many interacting particles,\n",
      "accompanied with experiments and simulations,   \n",
      "is a  great challenge and provides fundamental insights into systems governed by quantum mechanical principles.\n",
      "\n",
      "Many-body physics  applications range from condensed matter physics\n",
      "(for example antiferromagnets, quantum liquids and solids, plasmas, metals,\n",
      "superconductors), nuclear and high energy physics (for example nuclear matter, finite\n",
      "nuclei, quark-gluon plasmas), dense matter astrophysics (for example  neutron\n",
      "stars, white dwarfs), atoms and molecules (for example electron correlations,\n",
      "reactions, quantum chemistry), and elementary particles\n",
      "(for example quantum field theory, lattice gauge field models). \n",
      "\n",
      "Microscopic many-body methodologies have attained a high degree of\n",
      "sophistication in the last decades, from both theoretical and\n",
      "applicative  points of view. These developments have allowed\n",
      "researchers to adapt these technologies to a much wider range of physical\n",
      "systems, and to obtain quantitative descriptions of many \n",
      "observables. \n",
      "\n",
      "Several of these methods have been developed independently of each other.\n",
      "In some  cases the same methods have been applied and studied in different\n",
      "fields of research with little overlap and exchange of knowledge. \n",
      "A classic example is the development of coupled-cluster approaches,\n",
      "which originated from the nuclear many-body problem in the late fifties.\n",
      "These methods were adapted and refined \n",
      "to extremely high precision and predicability by quantum chemists over \n",
      "the next four decades. The developments comprised, and still do,  \n",
      "both methodological innovations and the usage of advances in high-performance computing.    \n",
      "As time elapsed,   \n",
      "the overlap with the original nuclear many-body problem vanished gradually, \n",
      "dwindling almost to a non-vanishing exchange of knowledge and methodologies. \n",
      "These methods were however revived in nuclear physics towards the turn of the last century and offer now a viable approach\n",
      "to *ab initio* We would like to come with a warning here, since it is our feeling that the \n",
      "labelling *ab initio* attached to many titles of scientific articles nowadays, has reached an inflationary stage. \n",
      "With *ab initio* we will mean solving Schroedinger's or Dirac's many-particle equations starting with the presumably best \n",
      "inter-particle Hamiltonian, making no approximations. The particles that make up the many-body problem will be approximated \n",
      "as the constituent ones. \n",
      "In the nuclear many-body problem\n",
      "these are various baryons such as protons, neutrons, isobars and hyperons and low-mass mesons. All many-body approaches discussed in this text involve\n",
      "some approximations, and only few of them, if any,  can reach the glorious stage of being truely *ab initio*.\n",
      "Truely *ab initio* in nuclear physics means to solve the many-body problem starting with quarks and gluons.\n",
      "nuclear structure  studies of nuclei,   spanning the whole range of stable closed-shell and several open-shell nuclei. \n",
      "\n",
      "\n",
      "Many of the developments are also not \n",
      "always readily accessible to a larger community of\n",
      "researchers and especially to the young and uninitiated ones. A notorious exception is \n",
      "again the quantum chemistry community, where highly effecient codes and methods are made available.  \n",
      "Numerical packages like\n",
      "Gamess, Dalton and Gaussian provide a reliable computational \n",
      "platform for many  chemical applications and studies.\n",
      "In other fields this is not always the case.     \n",
      "\n",
      "Nuclear physics, where we have our basic research experience, is such a field.\n",
      "This book aims therefore at giving you an overview \n",
      "of widely used quantum mechanical  many-body methods. We want also to provide you with computational tools in order to enable you\n",
      "to perform studies of realistic systems  in nuclear physics. \n",
      "The methods we discuss are however not limited to applications\n",
      "in nuclear physics, rather, with  minor  changes one can apply them to other fields, from quantum chemistry, via studies of atoms and\n",
      "molecules to materials science and solid state devices such as quantum dots.  \n",
      "\n",
      "Typical methods we will discuss are \n",
      "configuration interaction and large-scale diagonalization.methods (shell-model in nuclear physics), perturbative many-body methods, \n",
      "coupled cluster theory, Green's function approaches, various Monte Carlo methods, extensions to weakly  bound systems and links\n",
      "from *ab initio* methods to  density functional and mean field theories. \n",
      "The methods we have chosen are those which enjoy a great degree of popularity in low and intermediate energy nuclear physics, \n",
      "but due to both our limited knowledge\n",
      "and due to space considerations, some of these will be treated in rather cavalier way.\n",
      "\n",
      "Focussing on methods and tools only is however not necessarily a recipe for success, as we all know a \n",
      "a bad workman quarrels with his tools. Our aim is to provide \n",
      "you with a didactical description\n",
      "of some of these  powerful methods and tools with the purpose of allowing you to\n",
      "gain further insights and a possible working experience in modern many-body methods.\n",
      "There are several textbooks on the market which cover specific \n",
      "many-body methods and/or applications, but almost none of them\n",
      "presents an updated and comparative description of various many-body methods. The reason for choosing such an approach\n",
      "is that we want you, the reader, to gain the experience and form your own opinion on the suitability and applicability\n",
      "of specific methods. Too often you may have met many-body practitioners\n",
      "claiming 'my method is better than your method because...'.  We wish to avoid such a pitfal, although ours, as any other approach,\n",
      "is tainted by our biases, preferences and obviously ignorance about all possible details. \n",
      "\n",
      "We also  want  to shed light, in a hopefully unbiased way, on possible interplays and\n",
      "differences between the various many-body methods with a focus\n",
      "on the physics content. \n",
      "We have therefore selected several physical systems,\n",
      "from simple models to realistic cases,  whose properties can be\n",
      "described within the theoretical frameworks presented here.\n",
      "In this text we will expose you to problems which tour many nuclear physics applications, \n",
      "from the basic forces which bind nucleons together to compact objects such as neutron stars.  \n",
      "Our hope is that the material we have provided   allows an eventual reader to  assess \n",
      "by himself/herself the pro and cons of the methods discussed.\n",
      "\n",
      "Moreover,  the text can be used and read as a large project. Each chapter ends with a specific project. The code you end up developing \n",
      "for that particular project, can in turn be  reused in the next chapter and its pertaining project.  To give you an example,\n",
      "in chapter xx you will end up constructing your own nucleon-nucleon interaction and solve its Schr\\\"odinger equation using the Lippman-Schwinger\n",
      "equation.  This solution results in the so-called $T$-matrix  which in turn can be related to the experimental phase shifts.\n",
      "The Lippman-Schwinger equation can easily be modified to account for a given nuclear medium, resulting in the \n",
      "so-called $G$-matrix.  In chapter xx you end up computing such an effective interaction, using similarity transformations as well.\n",
      "With these codes, you are in turn in the position where you can define effective interactions for say coupled-cluster calculations\n",
      "(the topic of chapter xx) or shell-model effective interactions (topics for chapter xx and xx).\n",
      "\n",
      "Our hope is that this will enable  you to assess at a much deeper level the pros and cons of the various methods.  \n",
      "We believe firmly that knowledge of the strengths and weaknesses of a given method allows you to realize where\n",
      "improvements can be made.   The text has also a strong focus on computational issues, from how to build up large many-body codes \n",
      "to parallelization and high-performance computing topics.\n",
      "\n",
      "\n",
      "\n",
      "This texts spans some four hundred pages, and with the promised wide scope we aim at, \n",
      "there have to be topics which will not be dealt with properly.\n",
      "In particular we will not cover  reaction theories.  \n",
      "For reaction theories we provide all the inputs needed to compute\n",
      "onebody densities, spectroscopic factors and optical potentials. \n",
      "For density functional theories we discuss how one can constrain the exchange correlations based on *ab initio* methods.\n",
      "Furthermore, when it comes to the underlying nuclear forces, we will assume that various baryons and mesons are the \n",
      "effective degrees of freedom, limiting ourselves to low and intermediate energy nuclear physics.  A discussion of recent \n",
      "advances in lattice quantumchromodynamics (QCD) and its link to effective field theories is also outside the scope\n",
      "of this book, although we will refer to advances in these fields as well and link the construction of nuclear forces to\n",
      "undergoing research in effective field theory and lattice QCD.  \n",
      "The material on infinite matter can be extended to finite temperatures, but we do not \n",
      "adventure into the realm of heavy-ion collisions and the search of the holy grail of quark-gluon plasma. \n",
      "We will throughout pay loyalty to a physical world governed by the degrees of freedom of baryons and mesons.\n",
      "We apologize for these shortcomings, which are mainly due to\n",
      "our lack of detailed research knowledge in the above fields. To be a jack of all trades leads normally to mastering none.\n",
      "\n",
      "A final warning however.\n",
      "This text is not a text on many-body theories, rather it is\n",
      "a text on applications and implementations of many-body theories. This applies also to many of the algoritms  we discuss.  We do not go into\n",
      "details about for example Gaussian quadrature or the mathematical foundations of random walks and the Metropolis algorithm.  We will often simply state results, but add \n",
      "enough references to tutorial texts so that you can look up the missing wonders of numerical mathematics yourself.\n",
      "Similarly,  handling of angular momenta and their recouplings via $3j$, $6j$ or $9j$ symbols should  not  come as a bolt out from the blue. But again, don't despair,\n",
      "we'll guide you safely to the appropriate literature.\n",
      "\n",
      "We have therefore taken the liberty to have  certain expectations about you, the potential reader.  \n",
      "We assume that you are at least a graduate student who is embarking on studies in \n",
      "nuclear physics and that\n",
      "you have some familiarity with basic nuclear physics, angular momentum theory and many-body theory, \n",
      "typically at the level of texts like those of Talmi, Fetter and Walecka, Blaizot and Ripka, Dickhoff and Van Neck or similar monographs (add refs later). \n",
      "We will obviously state and repeat the basic rules and theorems, but will not go into derivations.  \n",
      "Some of the derivations will however be left to you via various exercises interspersed througout the text.\n",
      "\n",
      "\n",
      "Friends/colleagues bla bla  and sponsors bla bla. also add that errors, misunderstandings etc are mainly due to ourselves!!\n",
      "\n",
      "\n",
      "\n",
      "\n",
      "\n",
      "\n",
      "\n",
      "\n",
      "\n",
      "\n",
      "\n",
      "\n",
      "\n",
      "\n",
      "\n",
      "\n",
      "\n",
      "\n",
      "\n",
      "\n",
      "# Experimental data and definitions of the many-body problem\n",
      "<div id=\"ch:spdata\"></div>\n",
      "\n",
      "## Introduction\n",
      "\n",
      "To understand why matter is stable, and thereby shed light on the limits of \n",
      "nuclear stability, is one of the \n",
      "overarching aims and intellectual challenges \n",
      "of basic research in nuclear physics. To relate the stability of matter\n",
      "to the underlying fundamental forces and particles of nature as manifested in nuclear matter, is central\n",
      "to present and planned rare isotope facilities. \n",
      "Important properties of nuclear systems which can reveal information about these topics \n",
      "are for example masses, and thereby binding energies, and density distributions of nuclei.  \n",
      "These are quantities which convey important information on \n",
      "the shell structure of nuclei, with their \n",
      "pertinent magic numbers and shell closures or the  eventual disappearence of the latter \n",
      "away from  the valley of stability.\n",
      "\n",
      "Neutron-rich nuclei are particularly interesting for the above endeavour. As a particular chain\n",
      "of isotopes becomes more and more neutron rich, one reaches finally the limit of stability, the so-called\n",
      "dripline, where one additional neutron makes the next isotopes unstable with respect \n",
      "to the previous ones. The appearence or not of magic numbers and shell structures,\n",
      "the formation of neutron skins and halos\n",
      "can thence be probed via investigations of quantities like  the binding energy\n",
      "or the charge radii and neutron rms radii of neutron-rich nuclei. \n",
      "These quantities have in turn important \n",
      "consequences for theoretical models of nuclear structure and their application in astrophysics.\n",
      "For example, the neutron radius of $\\,{}^{208}\\mbox{Pb}$, recently extracted from the PREX \n",
      "experiment at Jefferson Laboratory  can be used to constrain the equation of state of \n",
      "neutron matter. A related quantity to the\n",
      "neutron rms radius $r_n^{\\mathrm{rms}}=\\langle r^2\\rangle_n^{1/2}$ is the neutron skin \n",
      "$r_{\\mathrm{skin}}=r_n^{\\mathrm{rms}}-r_p^{\\mathrm{rms}}$,\n",
      "where $r_p^{\\mathrm{rms}}$ is the corresponding proton rms radius.  \n",
      "There are several properties which relate the thickness of the neutron skin to quantities in nuclei and \n",
      "nuclear matter, such as the symmetry energy at the saturation point for nuclear matter, the slope\n",
      "of the equation of state for neutron matter\n",
      "or the low-energy electric dipole strength due to the pigmy dipole resonance. \n",
      "See Ref. <http://iopscience.iop.org/1402-4896/2013/T152> for several interesting discussions of these topics. \n",
      "\n",
      "\n",
      "Having access to precise measurements of masses, radii, and\n",
      "electromagnetic moments for a wide range of nuclei allows to study\n",
      "trends with varying neutron excess. A quantitative description of\n",
      "various experimental data with quantified uncertainty still remains a\n",
      "major challenge for nuclear structure theory.  Global theoretical\n",
      "studies of isotopic chains, such as the Ca chain shown in the figure below here, make it possible to test systematic\n",
      "properties of effective interactions between nucleons. Such calculations also\n",
      "provide critical tests of limitations of many-body methods. As one\n",
      "approaches the particle emission thresholds, it becomes increasingly\n",
      "important to describe correctly the coupling to the continuum of\n",
      "decays and scattering channels. While the\n",
      "full treatment of antisymmetrization and short-range correlations has\n",
      "become routine in first principle  approaches (to be defined later) to nuclear bound states, the\n",
      "many-body problem becomes more difficult when long-range correlations\n",
      "and continuum effects are considered.\n",
      "\n",
      "\n",
      "<p>Expected experimental information on the calcium isotopes that can be obtained at FRIB. The limits for detailed spectroscopic information are around $A\\sim 60$.</p>\n",
      "<img src=\"fig-ch2/careach.png\" width=500>\n",
      "\n",
      "\n",
      "\n",
      "\n",
      "The aim of this first section is to present some of the experimental data which can be used to extract \n",
      "information about correlations in nuclear systems. In particular, we will start with a theoretical analysis of a quantity called the separation energy for neutrons or protons. This quantity, to be discussed below, is defined as the difference between two binding energies (masses) of neighboring nuclei. As we will see from various figures below and exercises as well, the separation energies display a varying behavior as function of the number of neutrons or protons. These variations from one nucleus to another one, laid the foundation for the introduction of so-called magic numbers and a mean-field picture in order to describe nuclei theoretically.\n",
      "\n",
      "\n",
      "\n",
      "With a mean- or average-field picture we mean that a given nucleon (either a proton or a neutron) moves in an average potential field which is set up by all other nucleons in the system. Consider for example a nucleus like $\\,{}^{17}\\mbox{O}$ with nine neutrons and eight protons. Many properties  of this nucleus can be interpreted in terms of a picture where we can view it as\n",
      "one neutron on top of $\\,{}^{16}\\mbox{O}$. We infer from data and our theoretical interpretations that this additional neutron behaves almost as an individual neutron which *sees* an average interaction set up by the remaining 16 nucleons in   $\\,{}^{16}\\mbox{O}$. A nucleus like $\\,{}^{16}\\mbox{O}$ is an example of what we in this course will denote as a good closed-shell nucleus. We will come back to what this means later.\n",
      "\n",
      "Since we want to develop a theory capable of interpreting data in terms of our laws of motion and the pertinent forces,\n",
      "we can think of this neutron as a particle which moves in a potential field. We can hence attempt at solving our equations of motion (Schroedinger's equation in our case) for this system along the same lines as we did in atomic physics when we solved Schroedinger's equation for the hydrogen atom. We just need to define a model for our effective single-particle potential. \n",
      "\n",
      "A simple potential model which enjoys quite some popularity in nuclear physics, is the three-dimensional harmonic oscillator. This potential model captures some of the physics of deeply bound single-particle states but fails in reproducing \n",
      "the less bound single-particle states. A parametrized, and more realistic,  potential model which is widely used in nuclear physics, is the so-called Woods-Saxon potential. Both the harmonic oscillator and the Woods-Saxon potential models define computational problems that can easily be solved (see below), resulting (with the appropriate parameters) in a rather good reproduction of experiment for nuclei which can be approximated as one nucleon on top (or one nucleon removed) of a so-called closed-shell system.\n",
      "\n",
      "\n",
      "\n",
      "To be able to interpret a nucleus in such  a way requires at least that we are capable of parametrizing the abovementioned\n",
      "interactions in order to reproduce say the excitation spectrum of a nucleus like $\\,{}^{17}\\mbox{O}$. \n",
      "\n",
      "With such a parametrized interaction we are able to solve Schroedinger's equation for the motion of one nucleon in a given field. A nucleus is however a true and complicated many-nucleon system, with extremely many degrees of freedom and complicated correlations, rendering the ideal solution of the many-nucleon Schroedinger equation an impossible enterprise. It is much easier to solve a single-particle problem with say a Woods-Saxon potential. Using such a potential hides however many of the complicated correlations and interactions which we see in nuclei. Such an effective single-nucleon potential is for example not capable of \n",
      "describing properties like the binding energy or the rms radius of a given nucleus. \n",
      "\n",
      "An improvement to these simpler single-nucleon potentials is given by the Hartree-Fock method, where the variational principle is used to define a mean-field which the nucleons move in. There are many different classes of mean-field methods.\n",
      "An important difference between these methods and the simpler parametrized mean-field potentials like the harmonic oscillator and the Woods-Saxon potentials, is that the resulting equations contain information about the nuclear forces present in our models for solving Schroedinger's equation. Hartree-Fock and other mean-field methods like density functional theory form core topics in later lectures.\n",
      "\n",
      "\n",
      "\n",
      "The aim of this section is to present some of the experimental data we will confront theory with. In particular, we will focus on separation and shell-gap energies and use these to build a picture of nuclei in terms of (from a philosophical stand we would call this  a reductionist approach) a single-particle picture. The harmonic oscillator will serve as an excellent starting point in building nuclei from the bottom and up. Here we will neglect nuclear forces, these are introduced in the next section when we discuss the Hartree-Fock method. \n",
      "\n",
      "The aim of this course is to develop our physics intuition of nuclear systems using  a theoretical approach  where we describe data in terms of \n",
      "the motion of individual nucleons and their mutual interactions. \n",
      "\n",
      "**How our theoretical pictures and models can be used to interpret data is in essence what this course is about**. Our narrative will lead us along a path where we start with single-particle models and end with the theory of the nuclear shell-model. The latter will be used to understand and analyze excitation spectra and decay patterns of nuclei, linking our theoretical understanding with interpretations of experiment. The way we build up our theoretical descriptions and interpretations follows what we may call a standard reductionistic approach, that is we start with what we believe are our effective degrees of freedom (nucleons in our case) and interactions amongst these and solve thereafter the underlying equations of motions. This defines the nuclear many-body problem, and mean-field approaches like Hartree-Fock theory and the nuclear shell-model represent different approaches to our solutions of Schroedinger's equation. \n",
      "\n",
      "\n",
      "\n",
      "We start our tour of experimental data and our interpretations by considering the chain of oxygen isotopes. In the exercises below you will be asked to perform similar analyses for other chains of isotopes.\n",
      "\n",
      "The oxygen isotopes are the heaviest isotopes for which the drip line is well established.  The drip line is defined as the point where adding one more nucleon leads to an unbound nucleus. Below we will see that we can define the dripline by studying the separation energy. Where the neutron (proton) separation energy changes sign as a function of the number of neutrons (protons) defines the neutron (proton) drip line.\n",
      "\n",
      "The oxygen isotopes are simple enough to be described by some few selected single-particle degrees of freedom.  \n",
      "\n",
      "* Two out of four stable even-even isotopes exhibit a doubly magic nature, namely $\\,{}^{22}\\mbox{O}$ ($Z=8$, $N=14$) and $\\,{}^{24}\\mbox{O}$ ($Z=8$, $N=16$).\n",
      "\n",
      "* The structure of $\\,{}^{22}\\mbox{O}$ and $\\,{}^{24}\\mbox{O}$ is assumed to be governed by the evolution of the $1s_{1/2}$ and $0d_{5/2}$  one-quasiparticle states.\n",
      "\n",
      "* The isotopes $\\,{}^{25}\\mbox{O}$, $\\,{}^{26}\\mbox{O}$, $\\,{}^{27}\\mbox{O}$ and $\\,{}^{28}\\mbox{O}$ are outside the drip line, since the $0d_{3/2}$ orbit is not bound.\n",
      "\n",
      " Many experiments worldwide!\n",
      "These isotopes have been studied in series of recent experiments. Some of these experiments and theoretical interpretations are discussed in the following articles:\n",
      "\n",
      "* $\\,{}^{24}\\mbox{O}$ and lighter:  C. R. Hoffman *et al.*, Phys. Lett. B **672**, 17 (2009); R. Kanungo *et al*., Phys. Rev. Lett.~**102**, 152501 (2009); C. R. Hoffman *et al*., Phys. Rev. C **83**, 031303(R) (2011); Stanoiu *et al*., Phys. Rev. C **69**, 034312 (2004)\n",
      "\n",
      "* $\\,{}^{25}\\mbox{O}$: C. R. Hoffman *et al*., Phys. Rev. Lett. **102**,152501  (2009). \n",
      "\n",
      "* $\\,{}^{26}\\mbox{O}$: E. Lunderberg *et al*., Phys. Rev. Lett. **108**, 142503 (2012). \n",
      "\n",
      "* $\\,{}^{26}\\mbox{O}$: Z. Kohley  *et al*., Study of two-neutron radioactivity in the decay of 26O, Phys. Rev. Lett., **110**, 152501 (2013). \n",
      "\n",
      "* Theory: Oxygen isotopes with three-body forces,  Otsuka *et al*., Phys. Rev. Lett. **105**, 032501  (2010).  Hagen *et al.*, Phys. Rev. Lett., **108**, 242501 (2012). \n",
      "\n",
      "## Masses and Binding energies\n",
      "Our first approach in analyzing data theoretically, is to see if we can use experimental information to \n",
      "\n",
      "* Extract information about a *so-called* single-particle  behavior\n",
      "\n",
      "* And interpret such a behavior in terms of the underlying forces and microscopic physics\n",
      "\n",
      "The next step is to see if we could use these interpretations to say something about shell closures and magic numbers. Since we focus on single-particle properties, a quantity we can extract from experiment is the separation energy for protons and neutrons. Before we proceed, we need to define quantities like masses and binding energies.   Two excellent reviews on \n",
      "recent trends in the determination of nuclear masses can be found in <http://journals.aps.org/rmp/abstract/10.1103/RevModPhys.75.1021> and in <http://iopscience.iop.org/1402-4896/2013/T152/014017/>\n",
      "\n",
      "\n",
      "A basic quantity which can be measured for the ground states of nuclei is the atomic mass $M(N, Z)$ of the neutral atom with atomic mass number $A$ and charge $Z$. The number of neutrons is $N$.\n",
      "\n",
      "Atomic masses are usually tabulated in terms of the mass excess defined by"
     ]
    },
    {
     "cell_type": "markdown",
     "metadata": {},
     "source": [
      "$$\n",
      "\\Delta M(N, Z) =  M(N, Z) - uA,\n",
      "$$"
     ]
    },
    {
     "cell_type": "markdown",
     "metadata": {},
     "source": [
      "where $u$ is the Atomic Mass Unit"
     ]
    },
    {
     "cell_type": "markdown",
     "metadata": {},
     "source": [
      "$$\n",
      "u = M(^{12}\\mathrm{C})/12 = 931.49386 \\hspace{0.1cm} \\mathrm{MeV}/c^2.\n",
      "$$"
     ]
    },
    {
     "cell_type": "markdown",
     "metadata": {},
     "source": [
      "In this course we will mainly use \n",
      "data from the 2003 compilation of Audi, Wapstra and Thibault, see <http://www.sciencedirect.com/science/journal/03759474/729/1>.\n",
      "\n",
      "\n",
      "The nucleon masses are"
     ]
    },
    {
     "cell_type": "markdown",
     "metadata": {},
     "source": [
      "$$\n",
      "m_p = 938.27203(8)\\hspace{0.1cm} \\mathrm{MeV}/c^2 = 1.00727646688(13)u,\n",
      "$$"
     ]
    },
    {
     "cell_type": "markdown",
     "metadata": {},
     "source": [
      "and"
     ]
    },
    {
     "cell_type": "markdown",
     "metadata": {},
     "source": [
      "$$\n",
      "m_n = 939.56536(8)\\hspace{0.1cm} \\mathrm{MeV}/c^2 = 1.0086649156(6)u.\n",
      "$$"
     ]
    },
    {
     "cell_type": "markdown",
     "metadata": {},
     "source": [
      "In the 2003 mass evaluation there are 2127 nuclei measured with an accuracy of 0.2\n",
      "MeV or better, and 101 nuclei measured with an accuracy of greater than 0.2 MeV. For\n",
      "heavy nuclei one observes several chains of nuclei with a constant $N-Z$ value whose masses are obtained from the energy released in $\\alpha$-decay.\n",
      "\n",
      "\n",
      "The nuclear binding energy is defined as the energy required to break up a given nucleus\n",
      "into its constituent parts of $N$ neutrons and $Z$ protons. In terms of the atomic masses $M(N, Z)$ the binding energy is defined by"
     ]
    },
    {
     "cell_type": "markdown",
     "metadata": {},
     "source": [
      "$$\n",
      "BE(N, Z) = ZM_H c^2 + Nm_n c^2 - M(N, Z)c^2 ,\n",
      "$$"
     ]
    },
    {
     "cell_type": "markdown",
     "metadata": {},
     "source": [
      "where $M_H$ is the mass of the hydrogen atom and $m_n$ is the mass of the neutron.\n",
      "In terms of the mass excess the binding energy is given by"
     ]
    },
    {
     "cell_type": "markdown",
     "metadata": {},
     "source": [
      "$$\n",
      "BE(N, Z) = Z\\Delta_H c^2 + N\\Delta_n c^2 -\\Delta(N, Z)c^2 ,\n",
      "$$"
     ]
    },
    {
     "cell_type": "markdown",
     "metadata": {},
     "source": [
      "where $\\Delta_H c^2 = 7.2890$ MeV and $\\Delta_n c^2 = 8.0713$ MeV.\n",
      "\n",
      "\n",
      "The following python program reads in the experimental data on binding energies and, stored in the file bindingenergies.dat,  plots them as function of the mass number $A$. One notices clearly a saturation of the binding energy per nucleon at $A\\approx 56$."
     ]
    },
    {
     "cell_type": "code",
     "collapsed": false,
     "input": [
      "%matplotlib inline\n",
      "\n",
      "import numpy as np\n",
      "from  matplotlib import pyplot as plt\n",
      "# Load in data file\n",
      "data = np.loadtxt(\"datafiles/bindingenergies.dat\")\n",
      "# Make arrays containing x-axis and binding energies as function of A\n",
      "x = data[:,2]\n",
      "bexpt = data[:,3]\n",
      "plt.plot(x, bexpt ,'ro')\n",
      "plt.axis([0,270,-1, 10.0])\n",
      "plt.xlabel(r'$A$')\n",
      "plt.ylabel(r'Binding energies in [MeV]')\n",
      "plt.legend(('Experiment'), loc='upper right')\n",
      "plt.title(r'Binding energies from experiment')\n",
      "plt.savefig('expbindingenergies.pdf')\n",
      "plt.savefig('expbindingenergies.png')\n",
      "plt.show()\n"
     ],
     "language": "python",
     "metadata": {},
     "outputs": [],
     "prompt_number": 1
    },
    {
     "cell_type": "markdown",
     "metadata": {},
     "source": [
      "A popular and physically intuitive model which can be used to parametrize \n",
      "the experimental binding energies as function of $A$, is the so-called \n",
      "the liquid drop model. The ansatz is based on the following expression"
     ]
    },
    {
     "cell_type": "markdown",
     "metadata": {},
     "source": [
      "$$\n",
      "BE(N,Z) = a_1A-a_2A^{2/3}-a_3\\frac{Z^2}{A^{1/3}}-a_4\\frac{(N-Z)^2}{A},\n",
      "$$"
     ]
    },
    {
     "cell_type": "markdown",
     "metadata": {},
     "source": [
      "where $A$ stands for the number of nucleons and the $a_i$s are parameters which are determined by a fit \n",
      "to the experimental data.  \n",
      "\n",
      "To arrive at the above expression we have assumed that we can make the following assumptions:\n",
      "\n",
      " * There is a volume term $a_1A$ proportional with the number of nucleons (the energy is also an extensive quantity). When an assembly of nucleons of the same size is packed together into the smallest volume, each interior nucleon has a certain number of other nucleons in contact with it. This contribution is proportional to the volume.\n",
      "\n",
      " * There is a surface energy term $a_2A^{2/3}$. The assumption here is that a nucleon at the surface of a nucleus interacts with fewer other nucleons than one in the interior of the nucleus and hence its binding energy is less. This surface energy term takes that into account and is therefore negative and is proportional to the surface area.\n",
      "\n",
      " * There is a Coulomb energy term $a_3\\frac{Z^2}{A^{1/3}}$. The electric repulsion between each pair of protons in a nucleus yields less binding. \n",
      "\n",
      " * There is an asymmetry term $a_4\\frac{(N-Z)^2}{A}$. This term is associated with the Pauli exclusion principle and reflectd the fact that the proton-neutron interaction is more attractive on the average than the neutron-neutron and proton-proton interactions.\n",
      "\n",
      "We could also add a so-called pairing term, which is a correction term that\n",
      "arises from the tendency of proton pairs and neutron pairs to\n",
      "occur. An even number of particles is more stable than an odd number. \n",
      "Performing a least-square fit to data, we obtain the following numerical values for the various constants\n",
      "* $a_1=15.49$ MeV\n",
      "\n",
      "* $a_2=17.23$ MeV\n",
      "\n",
      "* $a_3=0.697$ MeV\n",
      "\n",
      "* $a_4=22.6$ MeV\n",
      "\n",
      "The python below here allows you to perform a fit of teh above parameters using nonlinear least squares curvefitting.\n",
      "\n",
      "\n",
      "The following python program reads now in the experimental data on binding energies as well as the results from the above liquid drop model and plots these energies as function of the mass number $A$. One sees that for larger values of $A$, there is a better agreement with data."
     ]
    },
    {
     "cell_type": "code",
     "collapsed": false,
     "input": [
      "import numpy as np\n",
      "from  matplotlib import pyplot as plt\n",
      "# Load in data file\n",
      "data = np.loadtxt(\"datafiles/bindingenergies.dat\")\n",
      "# Make arrays containing x-axis and binding energies as function of\n",
      "x = data[:,2]\n",
      "bexpt = data[:,3]\n",
      "liquiddrop = data[:,4]\n",
      "plt.plot(x, bexpt ,'b-o', x, liquiddrop, 'r-o')\n",
      "plt.axis([0,270,-1, 10.0])\n",
      "plt.xlabel(r'$A$')\n",
      "plt.ylabel(r'Binding energies in [MeV]')\n",
      "plt.legend(('Experiment','Liquid Drop'), loc='upper right')\n",
      "plt.title(r'Binding energies from experiment and liquid drop')\n",
      "plt.savefig('bindingenergies.pdf')\n",
      "plt.savefig('bindingenergies.png')\n",
      "plt.show()\n"
     ],
     "language": "python",
     "metadata": {},
     "outputs": [],
     "prompt_number": 1
    },
    {
     "cell_type": "markdown",
     "metadata": {},
     "source": [
      "This  python program reads now in the experimental data on binding energies and performs a nonlinear least square fitting of the data. In the example here we use only the parameters $a_1$ and $a_2$, leaving it as an exercise to the reader to perform the fit for all four paramters. The results are plotted and compared with the experimental values.  To read more about non-linear least square methods, see for example the text of M.J. Box, D. Davies and W.H. Swann, Non-Linear optimisation Techniques, Oliver & Boyd, 1969."
     ]
    },
    {
     "cell_type": "code",
     "collapsed": false,
     "input": [
      "import numpy as np\n",
      "from scipy.optimize import curve_fit\n",
      "from  matplotlib import pyplot as plt\n",
      "# Load in data file\n",
      "data = np.loadtxt(\"datafiles/bindingenergies.dat\")\n",
      "# Make arrays containing A on x-axis and binding energies\n",
      "A = data[:,2]\n",
      "bexpt = data[:,3]\n",
      "# The function we want to fit to, only two terms here\n",
      "def func(A,a1, a2):\n",
      "    return a1*A-a2*(A**(2.0/3.0))\n",
      "# function to perform nonlinear least square with guess for a1 and a2\n",
      "popt, pcov = curve_fit(func, A, bexpt, p0 = (16.0, 18.0))\n",
      "a1  = popt[0]\n",
      "a2 = popt[1]\n",
      "liquiddrop = a1*A-a2*(A**(2.0/3.0))\n",
      "\n",
      "plt.plot(A, bexpt ,'bo', A, liquiddrop, 'ro')\n",
      "plt.axis([0,270,-1, 10.0])\n",
      "plt.xlabel(r'$A$')\n",
      "plt.ylabel(r'Binding energies in [MeV]')\n",
      "plt.legend(('Experiment','Liquid Drop'), loc='upper right')\n",
      "plt.title(r'Binding energies from experiment and liquid drop')\n",
      "plt.savefig('bindingenergies.pdf')\n",
      "plt.savefig('bindingenergies.png')\n",
      "plt.show()\n"
     ],
     "language": "python",
     "metadata": {},
     "outputs": [],
     "prompt_number": 1
    },
    {
     "cell_type": "markdown",
     "metadata": {},
     "source": [
      "We are now interested in interpreting experimental binding energies  in terms of a single-particle picture.\n",
      "In order to do so, we  consider first energy conservation for nuclear transformations that include, for\n",
      "example, the fusion of two nuclei $a$ and $b$ into the combined system $c$"
     ]
    },
    {
     "cell_type": "markdown",
     "metadata": {},
     "source": [
      "$$\n",
      "{^{N_a+Z_a}}a+ {^{N_b+Z_b}}b\\rightarrow {^{N_c+Z_c}}c\n",
      "$$"
     ]
    },
    {
     "cell_type": "markdown",
     "metadata": {},
     "source": [
      "or the decay of nucleus $c$ into two other nuclei $a$ and $b$"
     ]
    },
    {
     "cell_type": "markdown",
     "metadata": {},
     "source": [
      "$$\n",
      "^{N_c+Z_c}c \\rightarrow  ^{N_a+Z_a}a+ ^{N_b+Z_b}b\n",
      "$$"
     ]
    },
    {
     "cell_type": "markdown",
     "metadata": {},
     "source": [
      "In general we have the reactions"
     ]
    },
    {
     "cell_type": "markdown",
     "metadata": {},
     "source": [
      "$$\n",
      "\\sum_i {^{N_i+Z_i}}i \\rightarrow  \\sum_f {^{N_f+Z_f}}f\n",
      "$$"
     ]
    },
    {
     "cell_type": "markdown",
     "metadata": {},
     "source": [
      "We require also that the number of protons and neutrons (the total number of nucleons) is conserved in the initial stage and final stage, unless we have processes which violate baryon conservation,"
     ]
    },
    {
     "cell_type": "markdown",
     "metadata": {},
     "source": [
      "$$\n",
      "\\sum_iN_i = \\sum_f N_f \\hspace{0.2cm}\\mathrm{and} \\hspace{0.2cm}\\sum_iZ_i = \\sum_f Z_f.\n",
      "$$"
     ]
    },
    {
     "cell_type": "markdown",
     "metadata": {},
     "source": [
      "## $Q$-values and separation energies\n",
      "\n",
      "The above processes can be characterized by an energy difference called the $Q$ value, defined as"
     ]
    },
    {
     "cell_type": "markdown",
     "metadata": {},
     "source": [
      "$$\n",
      "Q=\\sum_i M(N_i, Z_i)c^2-\\sum_f M(N_f, Z_f)c^2=\\sum_i BE(N_f, Z_f)-\\sum_i BE(N_i, Z_i)\n",
      "$$"
     ]
    },
    {
     "cell_type": "markdown",
     "metadata": {},
     "source": [
      "Spontaneous decay involves a single initial nuclear state and is allowed if $Q > 0$. In the decay, energy is released in the form of the kinetic energy of the final products. Reactions involving two initial nuclei are called endothermic (a net loss of energy) if $Q < 0$. The reactions are exothermic (a net release of energy) if $Q > 0$.\n",
      "\n",
      "\n",
      "Let us study the Q values associated with the removal of one or two nucleons from\n",
      "a nucleus. These are conventionally defined in terms of the one-nucleon and two-nucleon\n",
      "separation energies. The neutron separation energy is defined as"
     ]
    },
    {
     "cell_type": "markdown",
     "metadata": {},
     "source": [
      "$$\n",
      "S_n= -Q_n= BE(N,Z)-BE(N-1,Z),\n",
      "$$"
     ]
    },
    {
     "cell_type": "markdown",
     "metadata": {},
     "source": [
      "and the proton separation energy reads"
     ]
    },
    {
     "cell_type": "markdown",
     "metadata": {},
     "source": [
      "$$\n",
      "S_p= -Q_p= BE(N,Z)-BE(N,Z-1).\n",
      "$$"
     ]
    },
    {
     "cell_type": "markdown",
     "metadata": {},
     "source": [
      "The two-neutron separation energy is defined as"
     ]
    },
    {
     "cell_type": "markdown",
     "metadata": {},
     "source": [
      "$$\n",
      "S_{2n}= -Q_{2n}= BE(N,Z)-BE(N-2,Z),\n",
      "$$"
     ]
    },
    {
     "cell_type": "markdown",
     "metadata": {},
     "source": [
      "and  the two-proton separation energy is given by"
     ]
    },
    {
     "cell_type": "markdown",
     "metadata": {},
     "source": [
      "$$\n",
      "S_{2p}= -Q_{2p}= BE(N,Z)-BE(N,Z-2),\n",
      "$$"
     ]
    },
    {
     "cell_type": "markdown",
     "metadata": {},
     "source": [
      "Using say the neutron separation energies (alternatively the proton separation energies)"
     ]
    },
    {
     "cell_type": "markdown",
     "metadata": {},
     "source": [
      "$$\n",
      "S_n= -Q_n= BE(N,Z)-BE(N-1,Z),\n",
      "$$"
     ]
    },
    {
     "cell_type": "markdown",
     "metadata": {},
     "source": [
      "we can define the so-called energy gap for neutrons (or protons) as"
     ]
    },
    {
     "cell_type": "markdown",
     "metadata": {},
     "source": [
      "$$\n",
      "\\Delta S_n= BE(N,Z)-BE(N-1,Z)-\\left(BE(N+1,Z)-BE(N,Z)\\right),\n",
      "$$"
     ]
    },
    {
     "cell_type": "markdown",
     "metadata": {},
     "source": [
      "or"
     ]
    },
    {
     "cell_type": "markdown",
     "metadata": {},
     "source": [
      "$$\n",
      "\\Delta S_n= 2BE(N,Z)-BE(N-1,Z)-BE(N+1,Z).\n",
      "$$"
     ]
    },
    {
     "cell_type": "markdown",
     "metadata": {},
     "source": [
      "This quantity can in turn be used to determine which nuclei are magic or not. \n",
      "For protons we would have"
     ]
    },
    {
     "cell_type": "markdown",
     "metadata": {},
     "source": [
      "$$\n",
      "\\Delta S_p= 2BE(N,Z)-BE(N,Z-1)-BE(N,Z+1).\n",
      "$$"
     ]
    },
    {
     "cell_type": "markdown",
     "metadata": {},
     "source": [
      "We leave it as an exercise to the reader to define and interpret the two-neutron or two-proton gaps. \n",
      "\n",
      "\n",
      "The following python programs can now be used to plot the separation energies and the energy gaps for the oxygen isotopes.  The following python code reads the separation energies from file for all oxygen isotopes from $A=13$ to $A=25$, The data are taken from the file *snox.dat*.  This files contains the separation energies and the shell gap energies."
     ]
    },
    {
     "cell_type": "code",
     "collapsed": false,
     "input": [
      "\n",
      "import numpy as np\n",
      "from  matplotlib import pyplot as plt\n",
      "# Load in data file\n",
      "data = np.loadtxt(\"datafiles/snox.dat\")\n",
      "# Make arrays containing x-axis and binding energies as function of\n",
      "x = data[:,1]\n",
      "y = data[:,2]\n",
      "\n",
      "plt.plot(x, y,'b-+',markersize=6)\n",
      "plt.axis([4,18,-1, 25.0])\n",
      "plt.xlabel(r'Number of neutrons $N$',fontsize=20)\n",
      "plt.ylabel(r'$S_n$ [MeV]',fontsize=20)\n",
      "plt.legend(('Separation energies for oxygen isotpes'), loc='upper right')\n",
      "plt.title(r'Separation energy for the oxygen isotopes')\n",
      "plt.savefig('snoxygen.pdf')\n",
      "plt.savefig('snoxygen.png')\n",
      "plt.show()\n"
     ],
     "language": "python",
     "metadata": {},
     "outputs": [],
     "prompt_number": 1
    },
    {
     "cell_type": "markdown",
     "metadata": {},
     "source": [
      "Here we display the python program for plotting the corresponding results for shell gaps for the oyxgen isotopes."
     ]
    },
    {
     "cell_type": "code",
     "collapsed": false,
     "input": [
      "\n",
      "import numpy as np\n",
      "from  matplotlib import pyplot as plt\n",
      "# Load in data file\n",
      "data = np.loadtxt(\"datafiles/snox.dat\")\n",
      "# Make arrays containing x-axis and binding energies as function of\n",
      "x = data[:,1]\n",
      "y = data[:,3]\n",
      "\n",
      "plt.plot(x, y,'b-+',markersize=6)\n",
      "plt.axis([4,18,-7, 12.0])\n",
      "plt.xlabel(r'Number of neutrons $N$',fontsize=20)\n",
      "plt.ylabel(r'$\\Delta S_n$ [MeV]',fontsize=20)\n",
      "plt.legend(('Shell gap energies for oxygen isotpes'), loc='upper right')\n",
      "plt.title(r'Shell gap energies for the oxygen isotopes')\n",
      "plt.savefig('gapoxygen.pdf')\n",
      "plt.savefig('gapoxygen.png')\n",
      "plt.show()\n"
     ],
     "language": "python",
     "metadata": {},
     "outputs": [],
     "prompt_number": 1
    },
    {
     "cell_type": "markdown",
     "metadata": {},
     "source": [
      "Since we will focus in the beginning on single-particle degrees of freedom and mean-field approaches before we\n",
      "start with nuclear forces and many-body approaches like the nuclear shell-model, there are some features to be noted\n",
      "\n",
      "* In the discussion of the liquid drop model and binding energies, we note that the total binding energy is not that different from the sum of the individual neutron and proton masses. \n",
      "\n",
      "One may thus infer that intrinsic properties of nucleons in a nucleus are close to those of free nucleons.\n",
      "* In the discussion of the neutron separation energies for the oxygen isotopes, we note  a clear staggering effect between odd and even isotopes with the even ones being more bound (larger separation energies). We will later link this to strong pairing correlations in nuclei.\n",
      "\n",
      "* The neutron separation energy becomes negative at $\\,{}^{25}\\mbox{O}$, making this nucleus unstable with respect to the emission of one neutron. A nucleus like $\\,{}^{24}\\mbox{O}$ is thus the last stable oxygen isotopes which has been observed. Oyxgen-26 has been found to be unbound with respect to $\\,{}^{24}\\mbox{O}$, see <ournals.aps.org/prl/abstract/10.1103/PhysRevLett.108.142503> .\n",
      "\n",
      "* We note also that there are large shell-gaps for some nuclei, meaning that more energy is needed to remove one nucleon. These gaps are used to define so-called magic numbers. For the oxygen isotopes we see a clear gap for $\\,{}^{16}\\mbox{O}$. We will interpret this gap as one of several experimental properties that define so-called magic numbers. In our discussion below we will make a first interpretation using  single-particle states from the harmonic oscillator and the Woods-Saxon potential. \n",
      "\n",
      "In the exercises below you will be asked to perform a similar analysis for other chains of isotopes and interpret the results. \n",
      "\n",
      "\n",
      "\n",
      "## Radii\n",
      "\n",
      "The root-mean-square (rms) charge radius has been measured for the ground states of many\n",
      "nuclei. For a spherical charge density, $\\rho(\\boldsymbol{r})$, the mean-square radius is defined by"
     ]
    },
    {
     "cell_type": "markdown",
     "metadata": {},
     "source": [
      "$$\n",
      "\\langle r^2\\rangle = \\frac{ \\int  d \\boldsymbol{r} \\rho(\\boldsymbol{r}) r^2}{ \\int  d \\boldsymbol{r} \\rho(\\boldsymbol{r})},\n",
      "$$"
     ]
    },
    {
     "cell_type": "markdown",
     "metadata": {},
     "source": [
      "and the rms radius is the square root of this quantity denoted by"
     ]
    },
    {
     "cell_type": "markdown",
     "metadata": {},
     "source": [
      "$$\n",
      "R =\\sqrt{ \\langle r^2\\rangle}.\n",
      "$$"
     ]
    },
    {
     "cell_type": "markdown",
     "metadata": {},
     "source": [
      "Radii for most stable\n",
      "nuclei have been deduced from electron scattering form\n",
      "factors and/or from the x-ray transition energies of muonic atoms. \n",
      "The relative radii for a\n",
      "series of isotopes can be extracted from the isotope shifts of atomic x-ray transitions.\n",
      "The rms radius for the nuclear point-proton density, $R_p$ is obtained from the rms charge radius by:"
     ]
    },
    {
     "cell_type": "markdown",
     "metadata": {},
     "source": [
      "$$\n",
      "R_p = \\sqrt{R^2_{\\mathrm{ch}}- R^2_{\\mathrm{corr}}},\n",
      "$$"
     ]
    },
    {
     "cell_type": "markdown",
     "metadata": {},
     "source": [
      "where"
     ]
    },
    {
     "cell_type": "markdown",
     "metadata": {},
     "source": [
      "$$\n",
      "R^2_{\\mathrm{corr}}= R^2_{\\mathrm{op}}+(N/Z)R^2_{\\mathrm{on}}+R^2_{\\mathrm{rel}},\n",
      "$$"
     ]
    },
    {
     "cell_type": "markdown",
     "metadata": {},
     "source": [
      "where"
     ]
    },
    {
     "cell_type": "markdown",
     "metadata": {},
     "source": [
      "$$\n",
      "R_{\\mathrm{op}}= 0.875(7) \\mathrm{fm}.\n",
      "$$"
     ]
    },
    {
     "cell_type": "markdown",
     "metadata": {},
     "source": [
      "is the rms radius of the proton, $R^2_{\\mathrm{on}} = 0.116(2)$ $\\mbox{fm}^{2}$ is the\n",
      "mean-square radius of the neutron and $R^2_{\\mathrm{rel}} = 0.033$ $\\mbox{fm}^{2}$ is the relativistic Darwin-Foldy correction. There are also smaller nucleus-dependent relativistic spin-orbit and\n",
      "mesonic-exchange corrections that should be included.\n",
      "\n",
      "\n",
      "\n",
      "\n",
      "## Definitions\n",
      "\n",
      "We will now introduce the potential models we have discussex above, namely the harmonic oscillator and the Woods-Saxon potentials.  In order to proceed, we need some definitions.\n",
      "\n",
      "We define an operator as $\\hat{O}$ throughout. Unless otherwise specified the total number of nucleons is\n",
      "always $A$ and $d$ is the dimension of the system.  In nuclear physics\n",
      "we normally define the total number of particles to be $A=N+Z$, where\n",
      "$N$ is total number of neutrons and $Z$ the total number of\n",
      "protons. In case of other baryons such as isobars $\\Delta$ or various\n",
      "hyperons such as $\\Lambda$ or $\\Sigma$, one needs to add their\n",
      "definitions.  When we refer to a single neutron we will use the label $n$ and when we refer to a single proton we will use the label $p$. Unless otherwise specified, we will simply call these particles for nucleons.\n",
      "\n",
      "\n",
      "The quantum numbers of a single-particle state in coordinate space are\n",
      "defined by the variables"
     ]
    },
    {
     "cell_type": "markdown",
     "metadata": {},
     "source": [
      "$$\n",
      "x=(\\boldsymbol{r},\\sigma),\n",
      "$$"
     ]
    },
    {
     "cell_type": "markdown",
     "metadata": {},
     "source": [
      "where"
     ]
    },
    {
     "cell_type": "markdown",
     "metadata": {},
     "source": [
      "$$\n",
      "\\boldsymbol{r}\\in {\\mathbb{R}}^{d},\n",
      "$$"
     ]
    },
    {
     "cell_type": "markdown",
     "metadata": {},
     "source": [
      "with $d=1,2,3$ represents the spatial coordinates and $\\sigma$ is the eigenspin of the particle. For fermions with eigenspin $1/2$ this means that"
     ]
    },
    {
     "cell_type": "markdown",
     "metadata": {},
     "source": [
      "$$\n",
      "x\\in {\\mathbb{R}}^{d}\\oplus (\\frac{1}{2}),\n",
      "$$"
     ]
    },
    {
     "cell_type": "markdown",
     "metadata": {},
     "source": [
      "and the integral"
     ]
    },
    {
     "cell_type": "markdown",
     "metadata": {},
     "source": [
      "$$\n",
      "\\int dx = \\sum_{\\sigma}\\int d^dr = \\sum_{\\sigma}\\int d\\boldsymbol{r},\n",
      "$$"
     ]
    },
    {
     "cell_type": "markdown",
     "metadata": {},
     "source": [
      "and"
     ]
    },
    {
     "cell_type": "markdown",
     "metadata": {},
     "source": [
      "$$\n",
      "\\int d^Ax= \\int dx_1\\int dx_2\\dots\\int dx_A.\n",
      "$$"
     ]
    },
    {
     "cell_type": "markdown",
     "metadata": {},
     "source": [
      "Since we are dealing with protons and neutrons we need to add isospin as a new degree of freedom.\n",
      "\n",
      "\n",
      "\n",
      "Including isospin $\\tau$ we have"
     ]
    },
    {
     "cell_type": "markdown",
     "metadata": {},
     "source": [
      "$$\n",
      "x=(\\boldsymbol{r},\\sigma,\\tau),\n",
      "$$"
     ]
    },
    {
     "cell_type": "markdown",
     "metadata": {},
     "source": [
      "where"
     ]
    },
    {
     "cell_type": "markdown",
     "metadata": {},
     "source": [
      "$$\n",
      "\\boldsymbol{r}\\in {\\mathbb{R}}^{3},\n",
      "$$"
     ]
    },
    {
     "cell_type": "markdown",
     "metadata": {},
     "source": [
      "For nucleons, which are fermions with eigenspin $1/2$ and isospin $1/2$ this means that"
     ]
    },
    {
     "cell_type": "markdown",
     "metadata": {},
     "source": [
      "$$\n",
      "x\\in {\\mathbb{R}}^{d}\\oplus (\\frac{1}{2})\\oplus (\\frac{1}{2}),\n",
      "$$"
     ]
    },
    {
     "cell_type": "markdown",
     "metadata": {},
     "source": [
      "and the integral"
     ]
    },
    {
     "cell_type": "markdown",
     "metadata": {},
     "source": [
      "$$\n",
      "\\int dx = \\sum_{\\sigma\\tau}\\int d\\boldsymbol{r},\n",
      "$$"
     ]
    },
    {
     "cell_type": "markdown",
     "metadata": {},
     "source": [
      "and"
     ]
    },
    {
     "cell_type": "markdown",
     "metadata": {},
     "source": [
      "$$\n",
      "\\int d^Ax= \\int dx_1\\int dx_2\\dots\\int dx_A.\n",
      "$$"
     ]
    },
    {
     "cell_type": "markdown",
     "metadata": {},
     "source": [
      "We will use the standard nuclear physics definition of isospin, resulting in $\\tau_z=-1/2$ for protons and $\\tau_z=1/2$ for neutrons.\n",
      "\n",
      "\n",
      "\n",
      "The quantum mechanical wave function of a given state with quantum numbers $\\lambda$ (encompassing all quantum numbers needed to specify the system), ignoring time, is"
     ]
    },
    {
     "cell_type": "markdown",
     "metadata": {},
     "source": [
      "$$\n",
      "\\Psi_{\\lambda}=\\Psi_{\\lambda}(x_1,x_2,\\dots,x_A),\n",
      "$$"
     ]
    },
    {
     "cell_type": "markdown",
     "metadata": {},
     "source": [
      "with $x_i=(\\boldsymbol{r}_i,\\sigma_i,\\tau_i)$ and the projections of $\\sigma_i$ and $\\tau_i$ take the values\n",
      "$\\{-1/2,+1/2\\}$. \n",
      "We will hereafter always refer to $\\Psi_{\\lambda}$ as the exact wave function, and if the ground state is not degenerate we label it as"
     ]
    },
    {
     "cell_type": "markdown",
     "metadata": {},
     "source": [
      "$$\n",
      "\\Psi_0=\\Psi_0(x_1,x_2,\\dots,x_A).\n",
      "$$"
     ]
    },
    {
     "cell_type": "markdown",
     "metadata": {},
     "source": [
      "Since the solution $\\Psi_{\\lambda}$ seldomly can be found in closed form, approximations are sought. In this text we define an approximative wave function or an ansatz to the exact wave function as"
     ]
    },
    {
     "cell_type": "markdown",
     "metadata": {},
     "source": [
      "$$\n",
      "\\Phi_{\\lambda}=\\Phi_{\\lambda}(x_1,x_2,\\dots,x_A),\n",
      "$$"
     ]
    },
    {
     "cell_type": "markdown",
     "metadata": {},
     "source": [
      "with"
     ]
    },
    {
     "cell_type": "markdown",
     "metadata": {},
     "source": [
      "$$\n",
      "\\Phi_{0}=\\Phi_{0}(x_{1},x_{2},\\dots,x_{A}),\n",
      "$$"
     ]
    },
    {
     "cell_type": "markdown",
     "metadata": {},
     "source": [
      "being the ansatz for the ground state.  \n",
      "\n",
      "\n",
      "The wave function $\\Psi_{\\lambda}$ is sought in the Hilbert space of either symmetric or anti-symmetric $N$-body functions, namely"
     ]
    },
    {
     "cell_type": "markdown",
     "metadata": {},
     "source": [
      "$$\n",
      "\\Psi_{\\lambda}\\in {\\cal H}_A:= {\\cal H}_1\\oplus{\\cal H}_1\\oplus\\dots\\oplus{\\cal H}_1,\n",
      "$$"
     ]
    },
    {
     "cell_type": "markdown",
     "metadata": {},
     "source": [
      "where the single-particle Hilbert space $\\hat{H}_1$ is the space of square integrable functions over $\\in {\\mathbb{R}}^{d}\\oplus (\\sigma)\\oplus (\\tau)$ resulting in"
     ]
    },
    {
     "cell_type": "markdown",
     "metadata": {},
     "source": [
      "$$\n",
      "{\\cal H}_1:= L^2(\\mathbb{R}^{d}\\oplus (\\sigma)\\oplus (\\tau)).\n",
      "$$"
     ]
    },
    {
     "cell_type": "markdown",
     "metadata": {},
     "source": [
      "Our Hamiltonian is invariant under the permutation (interchange) of two particles.\n",
      "Since we deal with fermions however, the total wave function is antisymmetric.\n",
      "Let $\\hat{P}$ be an operator which interchanges two particles.\n",
      "Due to the symmetries we have ascribed to our Hamiltonian, this operator commutes with the total Hamiltonian,"
     ]
    },
    {
     "cell_type": "markdown",
     "metadata": {},
     "source": [
      "$$\n",
      "[\\hat{H},\\hat{P}] = 0,\n",
      "$$"
     ]
    },
    {
     "cell_type": "markdown",
     "metadata": {},
     "source": [
      "meaning that $\\Psi_{\\lambda}(x_1, x_2, \\dots , x_A)$ is an eigenfunction of \n",
      "$\\hat{P}$ as well, that is"
     ]
    },
    {
     "cell_type": "markdown",
     "metadata": {},
     "source": [
      "$$\n",
      "\\hat{P}_{ij}\\Psi_{\\lambda}(x_1, x_2, \\dots,x_i,\\dots,x_j,\\dots,x_A)=\n",
      "\\beta\\Psi_{\\lambda}(x_1, x_2, \\dots,x_j,\\dots,x_i,\\dots,x_A),\n",
      "$$"
     ]
    },
    {
     "cell_type": "markdown",
     "metadata": {},
     "source": [
      "where $\\beta$ is the eigenvalue of $\\hat{P}$. We have introduced the suffix $ij$ in order to indicate that we permute particles $i$ and $j$.\n",
      "The Pauli principle tells us that the total wave function for a system of fermions\n",
      "has to be antisymmetric, resulting in the eigenvalue $\\beta = -1$.   \n",
      "\n",
      "\n",
      "\n",
      "The Schrodinger equation reads"
     ]
    },
    {
     "cell_type": "markdown",
     "metadata": {},
     "source": [
      "<!-- Equation labels as ordinary links -->\n",
      "<div id=\"eq:basicSE1\"></div>\n",
      "\n",
      "$$\n",
      "\\begin{equation}\n",
      "\\hat{H}(x_1, x_2, \\dots , x_A) \\Psi_{\\lambda}(x_1, x_2, \\dots , x_A) = \n",
      "E_\\lambda  \\Psi_\\lambda(x_1, x_2, \\dots , x_A), \\label{eq:basicSE1} \\tag{1}\n",
      "\\end{equation}\n",
      "$$"
     ]
    },
    {
     "cell_type": "markdown",
     "metadata": {},
     "source": [
      "where the vector $x_i$ represents the coordinates (spatial, spin and isospin) of particle $i$, $\\lambda$ stands  for all the quantum\n",
      "numbers needed to classify a given $A$-particle state and $\\Psi_{\\lambda}$ is the pertaining eigenfunction.  Throughout this course,\n",
      "$\\Psi$ refers to the exact eigenfunction, unless otherwise stated.\n",
      "\n",
      "\n",
      "We write the Hamilton operator, or Hamiltonian,  in a generic way"
     ]
    },
    {
     "cell_type": "markdown",
     "metadata": {},
     "source": [
      "$$\n",
      "\\hat{H} = \\hat{T} + \\hat{V}\n",
      "$$"
     ]
    },
    {
     "cell_type": "markdown",
     "metadata": {},
     "source": [
      "where $\\hat{T}$  represents the kinetic energy of the system"
     ]
    },
    {
     "cell_type": "markdown",
     "metadata": {},
     "source": [
      "$$\n",
      "\\hat{T} = \\sum_{i=1}^A \\frac{\\mathbf{p}_i^2}{2m_i} = \\sum_{i=1}^A \\left( -\\frac{\\hbar^2}{2m_i} \\mathbf{\\nabla_i}^2 \\right) =\n",
      "\t\t\\sum_{i=1}^A t(x_i)\n",
      "$$"
     ]
    },
    {
     "cell_type": "markdown",
     "metadata": {},
     "source": [
      "while the operator $\\hat{V}$ for the potential energy is given by"
     ]
    },
    {
     "cell_type": "markdown",
     "metadata": {},
     "source": [
      "<!-- Equation labels as ordinary links -->\n",
      "<div id=\"eq:firstv\"></div>\n",
      "\n",
      "$$\n",
      "\\begin{equation}\n",
      "\t\\hat{V} = \\sum_{i=1}^A \\hat{u}_{\\mathrm{ext}}(x_i) + \\sum_{ji=1}^A v(x_i,x_j)+\\sum_{ijk=1}^Av(x_i,x_j,x_k)+\\dots\n",
      "\\label{eq:firstv} \\tag{2}\n",
      "\\end{equation}\n",
      "$$"
     ]
    },
    {
     "cell_type": "markdown",
     "metadata": {},
     "source": [
      "Hereafter we use natural units, viz. $\\hbar=c=e=1$, with $e$ the elementary charge and $c$ the speed of light. This means that momenta and masses\n",
      "have dimension energy. \n",
      "\n",
      "\n",
      "The potential energy part includes also an external potential $\\hat{u}_{\\mathrm{ext}}(x_i)$.\n",
      "\n",
      "In a non-relativistic approach to atomic  physics, this external potential is given by the attraction an electron feels from the atomic nucleus. The latter being much heavier than the involved electrons, is often used to define a natural center of mass. In nuclear physics there is no such external potential. It is the nuclear force which results in binding in nuclear systems. In a non-relativistic framework, the nuclear force contains two-body, three-body and more complicated degrees of freedom. The potential energy reads then"
     ]
    },
    {
     "cell_type": "markdown",
     "metadata": {},
     "source": [
      "$$\n",
      "\\hat{V} = \\sum_{ij}^A v(x_i,x_j)+\\sum_{ijk}^Av(x_i,x_j,x_k)+\\dots\n",
      "$$"
     ]
    },
    {
     "cell_type": "markdown",
     "metadata": {},
     "source": [
      "Three-body and more  complicated forces arise since we are dealing with protons and neutrons as effective degrees of freedom. We will come back to this topic later. Furthermore, in large parts of these lectures we will assume that the potential energy can be approximated by a two-body interaction only. Our Hamiltonian reads then"
     ]
    },
    {
     "cell_type": "markdown",
     "metadata": {},
     "source": [
      "<!-- Equation labels as ordinary links -->\n",
      "<div id=\"eq:firstH\"></div>\n",
      "\n",
      "$$\n",
      "\\begin{equation}\n",
      "\t\\hat{H} = \\sum_{i=1}^A \\frac{\\mathbf{p}_i^2}{2m_i}+\\sum_{ij}^A v(x_i,x_j).\n",
      "\\label{eq:firstH} \\tag{3}\n",
      "\\end{equation}\n",
      "$$"
     ]
    },
    {
     "cell_type": "markdown",
     "metadata": {},
     "source": [
      "## A modified Hamiltonian\n",
      "\n",
      "It is however, from a computational point of view, convenient to introduce an external potential $\\hat{u}_{\\mathrm{ext}}(x_i)$ by adding and substracting it to the original Hamiltonian. \n",
      "This means that our Hamiltonian can be rewritten as"
     ]
    },
    {
     "cell_type": "markdown",
     "metadata": {},
     "source": [
      "$$\n",
      "\\hat{H} = \\hat{H}_0 + \\hat{H}_I \n",
      "    = \\sum_{i=1}^A \\hat{h}_0(x_i) + \\sum_{i < j=1}^A \\hat{v}(x_{ij})-\\sum_{i=1}^A\\hat{u}_{\\mathrm{ext}}(x_i),\n",
      "$$"
     ]
    },
    {
     "cell_type": "markdown",
     "metadata": {},
     "source": [
      "with"
     ]
    },
    {
     "cell_type": "markdown",
     "metadata": {},
     "source": [
      "$$\n",
      "\\hat{H}_0=\\sum_{i=1}^A \\hat{h}_0(x_i) =  \\sum_{i=1}^A\\left(\\hat{t}(x_i) + \\hat{u}_{\\mathrm{ext}}(x_i)\\right).\n",
      "$$"
     ]
    },
    {
     "cell_type": "markdown",
     "metadata": {},
     "source": [
      "The interaction (or potential energy term) reads now"
     ]
    },
    {
     "cell_type": "markdown",
     "metadata": {},
     "source": [
      "$$\n",
      "\\hat{H}_I=  \\sum_{i < j=1}^A \\hat{v}(x_{ij})-\\sum_{i=1}^A\\hat{u}_{\\mathrm{ext}}(x_i).\n",
      "$$"
     ]
    },
    {
     "cell_type": "markdown",
     "metadata": {},
     "source": [
      "In nuclear physics the one-body part $u_{\\mathrm{ext}}(x_i)$ is often approximated by a harmonic oscillator potential or a\n",
      "Woods-Saxon potential. However, this is not fully correct, because as we have discussed, nuclei are self-bound systems and there is no external confining potential. As we will see later, *the $\\hat{H}_0$ part of the hamiltonian cannot be used to compute the binding energy of a nucleus since it is not based on a model for the nuclear forces*. That is, the binding energy is not the sum of the individual single-particle energies. \n",
      "\n",
      "\n",
      "Why do we introduce the  Hamiltonian  in the form"
     ]
    },
    {
     "cell_type": "markdown",
     "metadata": {},
     "source": [
      "$$\n",
      "\\hat{H} = \\hat{H}_0 + \\hat{H}_I?\n",
      "$$"
     ]
    },
    {
     "cell_type": "markdown",
     "metadata": {},
     "source": [
      "There are many reasons for this. Let us look at some of them, using the harmonic oscillator in three dimensions as our starting point. For the harmonic oscillator we know that"
     ]
    },
    {
     "cell_type": "markdown",
     "metadata": {},
     "source": [
      "$$\n",
      "\\hat{h}_0(x_i)\\psi_{\\alpha}(x_i)=\\varepsilon_{\\alpha}\\psi_{\\alpha}(x_i),\n",
      "$$"
     ]
    },
    {
     "cell_type": "markdown",
     "metadata": {},
     "source": [
      "where the eigenvalues are $\\varepsilon_{\\alpha}$ and the eigenfunctions are $\\psi_{\\alpha}(x_i)$. The subscript $\\alpha$ represents quantum numbers like the orbital angular momentum $l_{\\alpha}$, its projection $m_{l_{\\alpha}}$ and the   \n",
      "principal quantum number $n_{\\alpha}=0,1,2,\\dots$. \n",
      "\n",
      "The eigenvalues are"
     ]
    },
    {
     "cell_type": "markdown",
     "metadata": {},
     "source": [
      "$$\n",
      "\\varepsilon_{\\alpha} = \\hbar\\omega \\left(2n_{\\alpha}+l_{\\alpha}+\\frac{3}{2}\\right).\n",
      "$$"
     ]
    },
    {
     "cell_type": "markdown",
     "metadata": {},
     "source": [
      "The following mathematical properties of the  harmonic oscillator are handy. \n",
      " * First of all we have a complete basis of orthogonal eigenvectors. These have well-know expressions and can be easily be encoded. \n",
      "\n",
      " * With a complete basis $\\psi_{\\alpha}(x_i)$, we can construct a new basis $\\phi_{\\tau}(x_i)$ by expanding in terms of a harmonic oscillator basis, that is"
     ]
    },
    {
     "cell_type": "markdown",
     "metadata": {},
     "source": [
      "$$\n",
      "\\phi_{\\tau}(x_i)=\\sum_{\\alpha} C_{\\tau\\alpha}\\psi_{\\alpha}(x_i),\n",
      "$$"
     ]
    },
    {
     "cell_type": "markdown",
     "metadata": {},
     "source": [
      "where $C_{\\tau\\alpha}$ represents the overlap between the two basis sets. \n",
      " * As we will see later, the harmonic oscillator basis allows us to compute in an expedient way matrix elements of the interactions between two nucleons.  Using the above expansion we can in turn represent nuclear forces in terms of new basis, for example the  Woods-Saxon basis  to be discussed later here.\n",
      "\n",
      "The harmonic oscillator (a shifted one by a negative constant) provides also a very good approximation to most bound single-particle states. Furthermore, it serves as a starting point in building up our picture of nuclei, in particular how we define magic numbers and systems with one nucleon added to (or removed from) a closed-shell core nucleus. The figure here shows \n",
      "the various harmonic oscillator states, with those obtained with a Woods-Saxon potential as well, including a spin-orbit splitting (to be discussed below).\n",
      "\n",
      "<p>Single-particle spectrum and quantum numbers for a harmonic oscillator potential and a Woods-Saxon potential with and without a spin-orbit force.</p>\n",
      "<img src=\"fig-ch2/singleparticle.png\" width=500>\n",
      "\n",
      "\n",
      "\n",
      "\n",
      "\n",
      "\n",
      "\n",
      "\n",
      "\n",
      "In nuclear physics the one-body part $u_{\\mathrm{ext}}(x_i)$ is often \n",
      "approximated by a harmonic oscillator potential. However,  as we also noted with the Woods-Saxon potential there is no \n",
      "external confining potential in nuclei. \n",
      "\n",
      "What many people do then, is to add and subtract a harmonic oscillator potential,\n",
      "with"
     ]
    },
    {
     "cell_type": "markdown",
     "metadata": {},
     "source": [
      "$$\n",
      "\\hat{u}_{\\mathrm{ext}}(x_i)=\\hat{u}_{\\mathrm{ho}}(x_i)= \\frac{1}{2}m\\omega^2 r_i^2,\n",
      "$$"
     ]
    },
    {
     "cell_type": "markdown",
     "metadata": {},
     "source": [
      "where $\\omega$ is the oscillator frequency. This leads to"
     ]
    },
    {
     "cell_type": "markdown",
     "metadata": {},
     "source": [
      "$$\n",
      "\\hat{H} = \\hat{H_0} + \\hat{H_I} \n",
      "    = \\sum_{i=1}^A \\hat{h}_0(x_i) + \\sum_{i < j=1}^A \\hat{v}(x_{ij})-\\sum_{i=1}^A\\hat{u}_{\\mathrm{ho}}(x_i),\n",
      "$$"
     ]
    },
    {
     "cell_type": "markdown",
     "metadata": {},
     "source": [
      "with"
     ]
    },
    {
     "cell_type": "markdown",
     "metadata": {},
     "source": [
      "$$\n",
      "H_0=\\sum_{i=1}^A \\hat{h}_0(x_i) =  \\sum_{i=1}^A\\left(\\hat{t}(x_i) + \\hat{u}_{\\mathrm{ho}}(x_i)\\right).\n",
      "$$"
     ]
    },
    {
     "cell_type": "markdown",
     "metadata": {},
     "source": [
      "Many practitioners use this as the standard Hamiltonian when doing nuclear structure calculations. \n",
      "This is ok if the number of nucleons is large, but still with this Hamiltonian, we do not obey translational invariance.  How can we cure this?\n",
      "\n",
      "\n",
      " In setting up a translationally invariant Hamiltonian  \n",
      " the following expressions are helpful.\n",
      " The center-of-mass (CoM)  momentum is"
     ]
    },
    {
     "cell_type": "markdown",
     "metadata": {},
     "source": [
      "$$\n",
      "P=\\sum_{i=1}^A\\boldsymbol{p}_i,\n",
      "$$"
     ]
    },
    {
     "cell_type": "markdown",
     "metadata": {},
     "source": [
      "and we have that"
     ]
    },
    {
     "cell_type": "markdown",
     "metadata": {},
     "source": [
      "$$\n",
      "\\sum_{i=1}^A\\boldsymbol{p}_i^2 =\n",
      " \\frac{1}{A}\\left[\\boldsymbol{P}^2+\\sum_{i < j}(\\boldsymbol{p}_i-\\boldsymbol{p}_j)^2\\right]\n",
      "$$"
     ]
    },
    {
     "cell_type": "markdown",
     "metadata": {},
     "source": [
      "meaning that"
     ]
    },
    {
     "cell_type": "markdown",
     "metadata": {},
     "source": [
      "$$\n",
      "\\left[\\sum_{i=1}^A\\frac{\\boldsymbol{p}_i^2}{2m} -\\frac{\\boldsymbol{P}^2}{2mA}\\right]\n",
      " =\\frac{1}{2mA}\\sum_{i < j}(\\boldsymbol{p}_i-\\boldsymbol{p}_j)^2.\n",
      "$$"
     ]
    },
    {
     "cell_type": "markdown",
     "metadata": {},
     "source": [
      "In a similar fashion we can define the CoM coordinate"
     ]
    },
    {
     "cell_type": "markdown",
     "metadata": {},
     "source": [
      "$$\n",
      "\\boldsymbol{R}=\\frac{1}{A}\\sum_{i=1}^{A}\\boldsymbol{r}_i,\n",
      "$$"
     ]
    },
    {
     "cell_type": "markdown",
     "metadata": {},
     "source": [
      "which yields"
     ]
    },
    {
     "cell_type": "markdown",
     "metadata": {},
     "source": [
      "$$\n",
      "\\sum_{i=1}^A\\boldsymbol{r}_i^2 =\n",
      " \\frac{1}{A}\\left[A^2\\boldsymbol{R}^2+\\sum_{i < j}(\\boldsymbol{r}_i-\\boldsymbol{r}_j)^2\\right].\n",
      "$$"
     ]
    },
    {
     "cell_type": "markdown",
     "metadata": {},
     "source": [
      "If we then introduce the harmonic oscillator one-body Hamiltonian"
     ]
    },
    {
     "cell_type": "markdown",
     "metadata": {},
     "source": [
      "$$\n",
      "H_0= \\sum_{i=1}^A\\left(\\frac{\\boldsymbol{p}_i^2}{2m}+\n",
      "\t   \\frac{1}{2}m\\omega^2\\boldsymbol{r}_i^2\\right),\n",
      "$$"
     ]
    },
    {
     "cell_type": "markdown",
     "metadata": {},
     "source": [
      "with $\\omega$ the oscillator frequency,\n",
      " we can rewrite the latter as"
     ]
    },
    {
     "cell_type": "markdown",
     "metadata": {},
     "source": [
      "<!-- Equation labels as ordinary links -->\n",
      "<div id=\"eq:obho\"></div>\n",
      "\n",
      "$$\n",
      "H_{\\mathrm{HO}}= \\frac{\\boldsymbol{P}^2}{2mA}+\\frac{mA\\omega^2\\boldsymbol{R}^2}{2}\n",
      "\t    +\\frac{1}{2mA}\\sum_{i < j}(\\boldsymbol{p}_i-\\boldsymbol{p}_j)^2\n",
      "\t    +\\frac{m\\omega^2}{2A}\\sum_{i < j}(\\boldsymbol{r}_i-\\boldsymbol{r}_j)^2.\n",
      "     \\label{eq:obho} \\tag{4}\n",
      "$$"
     ]
    },
    {
     "cell_type": "markdown",
     "metadata": {},
     "source": [
      "Alternatively, we could write it as"
     ]
    },
    {
     "cell_type": "markdown",
     "metadata": {},
     "source": [
      "$$\n",
      "H_{\\mathrm{HO}}= H_{\\mathrm{CoM}}+\\frac{1}{2mA}\\sum_{i < j}(\\boldsymbol{p}_i-\\boldsymbol{p}_j)^2\n",
      "\t    +\\frac{m\\omega^2}{2A}\\sum_{i < j}(\\boldsymbol{r}_i-\\boldsymbol{r}_j)^2,\n",
      "$$"
     ]
    },
    {
     "cell_type": "markdown",
     "metadata": {},
     "source": [
      "The center-of-mass term is defined as"
     ]
    },
    {
     "cell_type": "markdown",
     "metadata": {},
     "source": [
      "$$\n",
      "H_{\\mathrm{CoM}}= \\frac{\\boldsymbol{P}^2}{2mA}+\\frac{mA\\omega^2\\boldsymbol{R}^2}{2}.\n",
      "$$"
     ]
    },
    {
     "cell_type": "markdown",
     "metadata": {},
     "source": [
      "The translationally invariant one- and two-body  Hamiltonian reads for an A-nucleon system,"
     ]
    },
    {
     "cell_type": "markdown",
     "metadata": {},
     "source": [
      "<!-- Equation labels as ordinary links -->\n",
      "<div id=\"eq:ham\"></div>\n",
      "\n",
      "$$\n",
      "\\label{eq:ham} \\tag{5}\n",
      "\\hat{H}=\\left[\\sum_{i=1}^A\\frac{\\boldsymbol{p}_i^2}{2m} -\\frac{\\boldsymbol{P}^2}{2mA}\\right] +\\sum_{i < j}^A V_{ij} \\; ,\n",
      "$$"
     ]
    },
    {
     "cell_type": "markdown",
     "metadata": {},
     "source": [
      "where $V_{ij}$ is the nucleon-nucleon interaction. Adding zero as here"
     ]
    },
    {
     "cell_type": "markdown",
     "metadata": {},
     "source": [
      "$$\n",
      "\\sum_{i=1}^A\\frac{1}{2}m\\omega^2\\boldsymbol{r}_i^2-\n",
      " \\frac{m\\omega^2}{2A}\\left[\\boldsymbol{R}^2+\\sum_{i < j}(\\boldsymbol{r}_i-\\boldsymbol{r}_j)^2\\right]=0.\n",
      "$$"
     ]
    },
    {
     "cell_type": "markdown",
     "metadata": {},
     "source": [
      "we can then rewrite the Hamiltonian as"
     ]
    },
    {
     "cell_type": "markdown",
     "metadata": {},
     "source": [
      "$$\n",
      "\\hat{H}=\\sum_{i=1}^A \\left[ \\frac{\\boldsymbol{p}_i^2}{2m}\n",
      " +\\frac{1}{2}m\\omega^2 \\boldsymbol{r}^2_i\n",
      " \\right] + \\sum_{i < j}^A \\left[ V_{ij}-\\frac{m\\omega^2}{2A}\n",
      " (\\boldsymbol{r}_i-\\boldsymbol{r}_j)^2\n",
      " \\right]-H_{\\mathrm{CoM}}.\n",
      "$$"
     ]
    },
    {
     "cell_type": "markdown",
     "metadata": {},
     "source": [
      "The Woods-Saxon potential is a mean field potential for the nucleons (protons and neutrons) \n",
      "inside an atomic nucleus. It represent an average potential that a given nucleon feels from  the forces applied on each nucleon. \n",
      "The parametrization is"
     ]
    },
    {
     "cell_type": "markdown",
     "metadata": {},
     "source": [
      "$$\n",
      "\\hat{u}_{\\mathrm{ext}}(r)=-\\frac{V_0}{1+\\exp{(r-R)/a}},\n",
      "$$"
     ]
    },
    {
     "cell_type": "markdown",
     "metadata": {},
     "source": [
      "with $V_0\\approx 50$ MeV representing the potential well depth, $a\\approx 0.5$ fm \n",
      "length representing the \"surface thickness\" of the nucleus and $R=r_0A^{1/3}$, with $r_0=1.25$ fm and $A$ the number of nucleons.\n",
      "The value for $r_0$ can be extracted from a fit to data, see for example M. Kirson, <http://www.sciencedirect.com/science/article/pii/S037594740600769X>.\n",
      "\n",
      "The following python code produces a plot of the Woods-Saxon potential with the above parameters."
     ]
    },
    {
     "cell_type": "code",
     "collapsed": false,
     "input": [
      "import numpy as np\n",
      "from  matplotlib import pyplot as plt\n",
      "from matplotlib import rc, rcParams\n",
      "import matplotlib.units as units\n",
      "import matplotlib.ticker as ticker\n",
      "rc('text',usetex=True)\n",
      "rc('font',**{'family':'serif','serif':['Woods-Saxon potential']})\n",
      "font = {'family' : 'serif',\n",
      "        'color'  : 'darkred',\n",
      "        'weight' : 'normal',\n",
      "        'size'   : 16,\n",
      "        }\n",
      "v0 = 50\n",
      "A = 100\n",
      "a = 0.5\n",
      "r0 = 1.25\n",
      "R = r0*A**(0.3333)\n",
      "x = np.linspace(0.0, 10.0)\n",
      "y = -v0/(1+np.exp((x-R)/a))\n",
      "\n",
      "plt.plot(x, y, 'b-')\n",
      "plt.title(r'{\\bf Woods-Saxon potential}', fontsize=20)     \n",
      "plt.text(3, -40, r'Parameters: $A=20$, $V_0=50$ [MeV]', fontdict=font)\n",
      "plt.text(3, -44, r'$a=0.5$ [fm], $r_0=1.25$ [fm]', fontdict=font)\n",
      "plt.xlabel(r'$r$ [fm]',fontsize=20)\n",
      "plt.ylabel(r'$V(r)$ [MeV]',fontsize=20)\n",
      "\n",
      "# Tweak spacing to prevent clipping of ylabel\n",
      "plt.subplots_adjust(left=0.15)\n",
      "plt.savefig('woodsaxon.pdf', format='pdf')\n"
     ],
     "language": "python",
     "metadata": {},
     "outputs": [],
     "prompt_number": 1
    },
    {
     "cell_type": "markdown",
     "metadata": {},
     "source": [
      "From the plot we notice that the potential\n",
      "* rapidly approaches zero as $r$ goes to infinity, reflecting the short-distance nature of the strong nuclear force.\n",
      "\n",
      "* For large $A$, it is approximately flat in the center.\n",
      "\n",
      "* Nucleons near the surface of the nucleus experience a large force towards the center.\n",
      "\n",
      "We have introduced a single-particle Hamiltonian"
     ]
    },
    {
     "cell_type": "markdown",
     "metadata": {},
     "source": [
      "$$\n",
      "H_0=\\sum_{i=1}^A \\hat{h}_0(x_i) =  \\sum_{i=1}^A\\left(\\hat{t}(x_i) + \\hat{u}_{\\mathrm{ext}}(x_i)\\right),\n",
      "$$"
     ]
    },
    {
     "cell_type": "markdown",
     "metadata": {},
     "source": [
      "with an external and central symmetric potential $u_{\\mathrm{ext}}(x_i)$, which is often \n",
      "approximated by a harmonic oscillator potential or a Woods-Saxon potential. Being central symmetric leads to a degeneracy \n",
      "in energy which is not observed experimentally. We see this from for example our discussion of separation energies and magic numbers. There are, in addition to the assumed magic numbers from a harmonic oscillator basis of $2,8,20,40,70\\dots$ magic numbers like $28$, $50$, $82$ and $126$. \n",
      "\n",
      "To produce these additional numbers, we need to add a phenomenological spin-orbit force which lifts the degeneracy, that is"
     ]
    },
    {
     "cell_type": "markdown",
     "metadata": {},
     "source": [
      "$$\n",
      "\\hat{h}(x_i) =  \\hat{t}(x_i) + \\hat{u}_{\\mathrm{ext}}(x_i) +\\xi(\\boldsymbol{r})\\boldsymbol{ls}=\\hat{h}_0(x_i)+\\xi(\\boldsymbol{r})\\boldsymbol{ls}.\n",
      "$$"
     ]
    },
    {
     "cell_type": "markdown",
     "metadata": {},
     "source": [
      "We have introduced a modified single-particle Hamiltonian"
     ]
    },
    {
     "cell_type": "markdown",
     "metadata": {},
     "source": [
      "$$\n",
      "\\hat{h}(x_i) =  \\hat{t}(x_i) + \\hat{u}_{\\mathrm{ext}}(x_i) +\\xi(\\boldsymbol{r})\\boldsymbol{ls}=\\hat{h}_0(x_i)+\\xi(\\boldsymbol{r})\\boldsymbol{ls}.\n",
      "$$"
     ]
    },
    {
     "cell_type": "markdown",
     "metadata": {},
     "source": [
      "We can calculate the expectation value of the latter using the fact that"
     ]
    },
    {
     "cell_type": "markdown",
     "metadata": {},
     "source": [
      "$$\n",
      "\\xi(\\boldsymbol{r})\\boldsymbol{ls}=\\frac{1}{2}\\xi(\\boldsymbol{r})\\left(\\boldsymbol{j}^2-\\boldsymbol{l}^2-\\boldsymbol{s}^2\\right).\n",
      "$$"
     ]
    },
    {
     "cell_type": "markdown",
     "metadata": {},
     "source": [
      "For a single-particle state with quantum numbers $nlj$ (we suppress $s$ and $m_j$), with $s=1/2$, we obtain the single-particle energies"
     ]
    },
    {
     "cell_type": "markdown",
     "metadata": {},
     "source": [
      "$$\n",
      "\\varepsilon_{nlj} = \\varepsilon_{nlj}^{(0)}+\\Delta\\varepsilon_{nlj},\n",
      "$$"
     ]
    },
    {
     "cell_type": "markdown",
     "metadata": {},
     "source": [
      "with $\\varepsilon_{nlj}^{(0)}$ being the single-particle energy obtained with $\\hat{h}_0(x)$ and"
     ]
    },
    {
     "cell_type": "markdown",
     "metadata": {},
     "source": [
      "$$\n",
      "\\Delta\\varepsilon_{nlj}=\\frac{C}{2}\\left(j(j+1)-l(l+1)-\\frac{3}{4}\\right).\n",
      "$$"
     ]
    },
    {
     "cell_type": "markdown",
     "metadata": {},
     "source": [
      "The spin-orbit force gives thus an additional contribution to the energy"
     ]
    },
    {
     "cell_type": "markdown",
     "metadata": {},
     "source": [
      "$$\n",
      "\\Delta\\varepsilon_{nlj}=\\frac{C}{2}\\left(j(j+1)-l(l+1)-\\frac{3}{4}\\right),\n",
      "$$"
     ]
    },
    {
     "cell_type": "markdown",
     "metadata": {},
     "source": [
      "which lifts the degeneracy we have seen before in the harmonic oscillator or Woods-Saxon potentials. The value $C$ is the radial\n",
      "integral involving $\\xi(\\boldsymbol{r})$. Depending on the value of $j=l\\pm 1/2$, we obtain"
     ]
    },
    {
     "cell_type": "markdown",
     "metadata": {},
     "source": [
      "$$\n",
      "\\Delta\\varepsilon_{nlj=l-1/2}=\\frac{C}{2}l,\n",
      "$$"
     ]
    },
    {
     "cell_type": "markdown",
     "metadata": {},
     "source": [
      "or"
     ]
    },
    {
     "cell_type": "markdown",
     "metadata": {},
     "source": [
      "$$\n",
      "\\Delta\\varepsilon_{nlj=l+1/2}=-\\frac{C}{2}(l+1),\n",
      "$$"
     ]
    },
    {
     "cell_type": "markdown",
     "metadata": {},
     "source": [
      "clearly lifting the degeneracy. Note well that till now we have simply postulated the spin-orbit force in *ad hoc* way.\n",
      "Later, we will see how this term arises from the two-nucleon force in a natural way. \n",
      "\n",
      "\n",
      "With the spin-orbit force, we can modify our Woods-Saxon potential to"
     ]
    },
    {
     "cell_type": "markdown",
     "metadata": {},
     "source": [
      "$$\n",
      "\\hat{u}_{\\mathrm{ext}}(r)=-\\frac{V_0}{1+\\exp{(r-R)/a}}+V_{so}(r)\\boldsymbol{ls},\n",
      "$$"
     ]
    },
    {
     "cell_type": "markdown",
     "metadata": {},
     "source": [
      "with"
     ]
    },
    {
     "cell_type": "markdown",
     "metadata": {},
     "source": [
      "$$\n",
      "V_{so}(r) = V_{so}\\frac{1}{r}\\frac{d f_{so}(r)}{dr},\n",
      "$$"
     ]
    },
    {
     "cell_type": "markdown",
     "metadata": {},
     "source": [
      "where we have"
     ]
    },
    {
     "cell_type": "markdown",
     "metadata": {},
     "source": [
      "$$\n",
      "f_{so}(r) = \\frac{1}{1+\\exp{(r-R_{so})/a_{so}}}.\n",
      "$$"
     ]
    },
    {
     "cell_type": "markdown",
     "metadata": {},
     "source": [
      "We can also add, in case of proton, a Coulomb potential. The Woods-Saxon potential has been widely used in parametrizations of\n",
      "effective single-particle potentials. **However, as was the case with the harmonic oscillator, none of these potentials are linked directly to the nuclear forces**. Our next step is to build a mean field based on the nucleon-nucleon interaction.\n",
      "This will lead us to our first and simplest many-body theory, Hartree-Fock theory.  \n",
      "\n",
      "\n",
      "The Woods-Saxon potential does allow for closed-form or analytical solutions of the eigenvalue problem"
     ]
    },
    {
     "cell_type": "markdown",
     "metadata": {},
     "source": [
      "$$\n",
      "\\hat{h}_0(x_i)\\psi_{\\alpha}(x_i)=\\varepsilon_{\\alpha}\\psi_{\\alpha}(x_i).\n",
      "$$"
     ]
    },
    {
     "cell_type": "markdown",
     "metadata": {},
     "source": [
      "For the harmonic oscillator in three dimensions we have closed-form expressions for the energies and analytical solutions for the eigenstates,\n",
      "with the latter given by either Hermite polynomials (cartesian coordinates) or Laguerre polynomials (spherical coordinates).\n",
      "\n",
      "To solve the above equation is however rather straightforward numerically. \n",
      "\n",
      "\n",
      "\n",
      "## Numerical solution of the single-particle Schroedinger equation\n",
      "\n",
      "We will illustrate the numerical solution of Schroedinger's equation by solving it for the harmonic oscillator in three dimensions.\n",
      "It is straightforward to change the harmonic oscillator potential with a Woods-Saxon potential, or any other type of potentials. \n",
      "\n",
      "We are interested in the solution of the radial part of Schroedinger's equation for one nucleon. \n",
      "The angular momentum part  is given by the so-called Spherical harmonics. \n",
      "\n",
      "The radial equation reads"
     ]
    },
    {
     "cell_type": "markdown",
     "metadata": {},
     "source": [
      "$$\n",
      "-\\frac{\\hbar^2}{2 m} \\left ( \\frac{1}{r^2} \\frac{d}{dr} r^2\n",
      "  \\frac{d}{dr} - \\frac{l (l + 1)}{r^2} \\right )R(r) \n",
      "     + V(r) R(r) = E R(r).\n",
      "$$"
     ]
    },
    {
     "cell_type": "markdown",
     "metadata": {},
     "source": [
      "In our case $V(r)$ is the harmonic oscillator potential $(1/2)kr^2$ with\n",
      "$k=m\\omega^2$ and $E$ is\n",
      "the energy of the harmonic oscillator in three dimensions.\n",
      "The oscillator frequency is $\\omega$ and the energies are"
     ]
    },
    {
     "cell_type": "markdown",
     "metadata": {},
     "source": [
      "$$\n",
      "E_{nl}=  \\hbar \\omega \\left(2n+l+\\frac{3}{2}\\right),\n",
      "$$"
     ]
    },
    {
     "cell_type": "markdown",
     "metadata": {},
     "source": [
      "with $n=0,1,2,\\dots$ and $l=0,1,2,\\dots$.\n",
      "\n",
      "\n",
      "\n",
      "Since we have made a transformation to spherical coordinates it means that \n",
      "$r\\in [0,\\infty)$.  \n",
      "The quantum number\n",
      "$l$ is the orbital momentum of the nucleon.   Then we substitute $R(r) = (1/r) u(r)$ and obtain"
     ]
    },
    {
     "cell_type": "markdown",
     "metadata": {},
     "source": [
      "$$\n",
      "-\\frac{\\hbar^2}{2 m} \\frac{d^2}{dr^2} u(r) \n",
      "       + \\left ( V(r) + \\frac{l (l + 1)}{r^2}\\frac{\\hbar^2}{2 m}\n",
      "                                    \\right ) u(r)  = E u(r) .\n",
      "$$"
     ]
    },
    {
     "cell_type": "markdown",
     "metadata": {},
     "source": [
      "The boundary conditions are $u(0)=0$ and $u(\\infty)=0$.\n",
      "\n",
      "\n",
      "\n",
      "\n",
      "We introduce a dimensionless variable $\\rho = (1/\\alpha) r$\n",
      "where $\\alpha$ is a constant with dimension length and get"
     ]
    },
    {
     "cell_type": "markdown",
     "metadata": {},
     "source": [
      "$$\n",
      "-\\frac{\\hbar^2}{2 m \\alpha^2} \\frac{d^2}{d\\rho^2} u(\\rho) \n",
      "       + \\left ( V(\\rho) + \\frac{l (l + 1)}{\\rho^2}\n",
      "         \\frac{\\hbar^2}{2 m\\alpha^2} \\right ) u(\\rho)  = E u(\\rho) .\n",
      "$$"
     ]
    },
    {
     "cell_type": "markdown",
     "metadata": {},
     "source": [
      "Let us specialize to $l=0$. \n",
      "Inserting $V(\\rho) = (1/2) k \\alpha^2\\rho^2$ we end up with"
     ]
    },
    {
     "cell_type": "markdown",
     "metadata": {},
     "source": [
      "$$\n",
      "-\\frac{\\hbar^2}{2 m \\alpha^2} \\frac{d^2}{d\\rho^2} u(\\rho) \n",
      "       + \\frac{k}{2} \\alpha^2\\rho^2u(\\rho)  = E u(\\rho) .\n",
      "$$"
     ]
    },
    {
     "cell_type": "markdown",
     "metadata": {},
     "source": [
      "We multiply thereafter with $2m\\alpha^2/\\hbar^2$ on both sides and obtain"
     ]
    },
    {
     "cell_type": "markdown",
     "metadata": {},
     "source": [
      "$$\n",
      "-\\frac{d^2}{d\\rho^2} u(\\rho) \n",
      "       + \\frac{mk}{\\hbar^2} \\alpha^4\\rho^2u(\\rho)  = \\frac{2m\\alpha^2}{\\hbar^2}E u(\\rho) .\n",
      "$$"
     ]
    },
    {
     "cell_type": "markdown",
     "metadata": {},
     "source": [
      "We have thus"
     ]
    },
    {
     "cell_type": "markdown",
     "metadata": {},
     "source": [
      "$$\n",
      "-\\frac{d^2}{d\\rho^2} u(\\rho) \n",
      "       + \\frac{mk}{\\hbar^2} \\alpha^4\\rho^2u(\\rho)  = \\frac{2m\\alpha^2}{\\hbar^2}E u(\\rho) .\n",
      "$$"
     ]
    },
    {
     "cell_type": "markdown",
     "metadata": {},
     "source": [
      "The constant $\\alpha$ can now be fixed\n",
      "so that"
     ]
    },
    {
     "cell_type": "markdown",
     "metadata": {},
     "source": [
      "$$\n",
      "\\frac{mk}{\\hbar^2} \\alpha^4 = 1,\n",
      "$$"
     ]
    },
    {
     "cell_type": "markdown",
     "metadata": {},
     "source": [
      "or"
     ]
    },
    {
     "cell_type": "markdown",
     "metadata": {},
     "source": [
      "$$\n",
      "\\alpha = \\left(\\frac{\\hbar^2}{mk}\\right)^{1/4}.\n",
      "$$"
     ]
    },
    {
     "cell_type": "markdown",
     "metadata": {},
     "source": [
      "Defining"
     ]
    },
    {
     "cell_type": "markdown",
     "metadata": {},
     "source": [
      "$$\n",
      "\\lambda = \\frac{2m\\alpha^2}{\\hbar^2}E,\n",
      "$$"
     ]
    },
    {
     "cell_type": "markdown",
     "metadata": {},
     "source": [
      "we can rewrite Schroedinger's equation as"
     ]
    },
    {
     "cell_type": "markdown",
     "metadata": {},
     "source": [
      "$$\n",
      "-\\frac{d^2}{d\\rho^2} u(\\rho) + \\rho^2u(\\rho)  = \\lambda u(\\rho) .\n",
      "$$"
     ]
    },
    {
     "cell_type": "markdown",
     "metadata": {},
     "source": [
      "This is the first equation to solve numerically. In three dimensions \n",
      "the eigenvalues for $l=0$ are \n",
      "$\\lambda_0=3,\\lambda_1=7,\\lambda_2=11,\\dots .$\n",
      "\n",
      "\n",
      "We use the standard\n",
      "expression for the second derivative of a function $u$"
     ]
    },
    {
     "cell_type": "markdown",
     "metadata": {},
     "source": [
      "<!-- Equation labels as ordinary links -->\n",
      "<div id=\"eq:diffoperation\"></div>\n",
      "\n",
      "$$\n",
      "\\begin{equation}\n",
      "    u''=\\frac{u(\\rho+h) -2u(\\rho) +u(\\rho-h)}{h^2} +O(h^2),\n",
      "    \\label{eq:diffoperation} \\tag{6}\n",
      "\\end{equation}\n",
      "$$"
     ]
    },
    {
     "cell_type": "markdown",
     "metadata": {},
     "source": [
      "where $h$ is our step.\n",
      "Next we define minimum and maximum values for the variable $\\rho$,\n",
      "$\\rho_{\\mathrm{min}}=0$  and $\\rho_{\\mathrm{max}}$, respectively.\n",
      "You need to check your results for the energies against different values\n",
      "$\\rho_{\\mathrm{max}}$, since we cannot set\n",
      "$\\rho_{\\mathrm{max}}=\\infty$. \n",
      "\n",
      "\n",
      "With a given number of steps, $n_{\\mathrm{step}}$, we then \n",
      "define the step $h$ as"
     ]
    },
    {
     "cell_type": "markdown",
     "metadata": {},
     "source": [
      "$$\n",
      "h=\\frac{\\rho_{\\mathrm{max}}-\\rho_{\\mathrm{min}} }{n_{\\mathrm{step}}}.\n",
      "$$"
     ]
    },
    {
     "cell_type": "markdown",
     "metadata": {},
     "source": [
      "Define an arbitrary value of $\\rho$ as"
     ]
    },
    {
     "cell_type": "markdown",
     "metadata": {},
     "source": [
      "$$\n",
      "\\rho_i= \\rho_{\\mathrm{min}} + ih \\hspace{1cm} i=0,1,2,\\dots , n_{\\mathrm{step}}\n",
      "$$"
     ]
    },
    {
     "cell_type": "markdown",
     "metadata": {},
     "source": [
      "we can rewrite the Schroedinger equation for $\\rho_i$ as"
     ]
    },
    {
     "cell_type": "markdown",
     "metadata": {},
     "source": [
      "$$\n",
      "-\\frac{u(\\rho_i+h) -2u(\\rho_i) +u(\\rho_i-h)}{h^2}+\\rho_i^2u(\\rho_i)  = \\lambda u(\\rho_i),\n",
      "$$"
     ]
    },
    {
     "cell_type": "markdown",
     "metadata": {},
     "source": [
      "or in  a more compact way"
     ]
    },
    {
     "cell_type": "markdown",
     "metadata": {},
     "source": [
      "$$\n",
      "-\\frac{u_{i+1} -2u_i +u_{i-1}}{h^2}+\\rho_i^2u_i=-\\frac{u_{i+1} -2u_i +u_{i-1} }{h^2}+V_iu_i  = \\lambda u_i,\n",
      "$$"
     ]
    },
    {
     "cell_type": "markdown",
     "metadata": {},
     "source": [
      "where $V_i=\\rho_i^2$ is the harmonic oscillator potential.\n",
      "\n",
      "\n",
      "Define first the diagonal matrix element"
     ]
    },
    {
     "cell_type": "markdown",
     "metadata": {},
     "source": [
      "$$\n",
      "d_i=\\frac{2}{h^2}+V_i,\n",
      "$$"
     ]
    },
    {
     "cell_type": "markdown",
     "metadata": {},
     "source": [
      "and the non-diagonal matrix element"
     ]
    },
    {
     "cell_type": "markdown",
     "metadata": {},
     "source": [
      "$$\n",
      "e_i=-\\frac{1}{h^2}.\n",
      "$$"
     ]
    },
    {
     "cell_type": "markdown",
     "metadata": {},
     "source": [
      "In this case the non-diagonal matrix elements are given by a mere constant. *All non-diagonal matrix elements are equal*.\n",
      "\n",
      "With these definitions the Schroedinger equation takes the following form"
     ]
    },
    {
     "cell_type": "markdown",
     "metadata": {},
     "source": [
      "$$\n",
      "d_iu_i+e_{i-1}u_{i-1}+e_{i+1}u_{i+1}  = \\lambda u_i,\n",
      "$$"
     ]
    },
    {
     "cell_type": "markdown",
     "metadata": {},
     "source": [
      "where $u_i$ is unknown. We can write the \n",
      "latter equation as a matrix eigenvalue problem"
     ]
    },
    {
     "cell_type": "markdown",
     "metadata": {},
     "source": [
      "<!-- Equation labels as ordinary links -->\n",
      "<div id=\"eq:sematrix\"></div>\n",
      "\n",
      "$$\n",
      "\\begin{equation}\n",
      "    \\left( \\begin{array}{ccccccc} d_1 & e_1 & 0   & 0    & \\dots  &0     & 0 \\\\\n",
      "                                e_1 & d_2 & e_2 & 0    & \\dots  &0     &0 \\\\\n",
      "                                0   & e_2 & d_3 & e_3  &0       &\\dots & 0\\\\\n",
      "                                \\dots  & \\dots & \\dots & \\dots  &\\dots      &\\dots & \\dots\\\\\n",
      "                                0   & \\dots & \\dots & \\dots  &\\dots       &d_{n_{\\mathrm{step}}-2} & e_{n_{\\mathrm{step}}-1}\\\\\n",
      "                                0   & \\dots & \\dots & \\dots  &\\dots       &e_{n_{\\mathrm{step}}-1} & d_{n_{\\mathrm{step}}-1}\n",
      "\n",
      "             \\end{array} \\right)      \\left( \\begin{array}{c} u_{1} \\\\\n",
      "                                                              u_{2} \\\\\n",
      "                                                              \\dots\\\\ \\dots\\\\ \\dots\\\\\n",
      "                                                              u_{n_{\\mathrm{step}}-1}\n",
      "             \\end{array} \\right)=\\lambda \\left( \\begin{array}{c} u_{1} \\\\\n",
      "                                                              u_{2} \\\\\n",
      "                                                              \\dots\\\\ \\dots\\\\ \\dots\\\\\n",
      "                                                              u_{n_{\\mathrm{step}}-1}\n",
      "             \\end{array} \\right) \n",
      "      \\label{eq:sematrix} \\tag{7}\n",
      "\\end{equation}\n",
      "$$"
     ]
    },
    {
     "cell_type": "markdown",
     "metadata": {},
     "source": [
      "or if we wish to be more detailed, we can write the tridiagonal matrix as"
     ]
    },
    {
     "cell_type": "markdown",
     "metadata": {},
     "source": [
      "<!-- Equation labels as ordinary links -->\n",
      "<div id=\"eq:matrixse\"></div>\n",
      "\n",
      "$$\n",
      "\\begin{equation}\n",
      "    \\left( \\begin{array}{ccccccc} \\frac{2}{h^2}+V_1 & -\\frac{1}{h^2} & 0   & 0    & \\dots  &0     & 0 \\\\\n",
      "                                -\\frac{1}{h^2} & \\frac{2}{h^2}+V_2 & -\\frac{1}{h^2} & 0    & \\dots  &0     &0 \\\\\n",
      "                                0   & -\\frac{1}{h^2} & \\frac{2}{h^2}+V_3 & -\\frac{1}{h^2}  &0       &\\dots & 0\\\\\n",
      "                                \\dots  & \\dots & \\dots & \\dots  &\\dots      &\\dots & \\dots\\\\\n",
      "                                0   & \\dots & \\dots & \\dots  &\\dots       &\\frac{2}{h^2}+V_{n_{\\mathrm{step}}-2} & -\\frac{1}{h^2}\\\\\n",
      "                                0   & \\dots & \\dots & \\dots  &\\dots       &-\\frac{1}{h^2} & \\frac{2}{h^2}+V_{n_{\\mathrm{step}}-1}\n",
      "\n",
      "             \\end{array} \\right)  \n",
      "\\label{eq:matrixse} \\tag{8} \n",
      "\\end{equation}\n",
      "$$"
     ]
    },
    {
     "cell_type": "markdown",
     "metadata": {},
     "source": [
      "Recall that the solutions are known via the boundary conditions at\n",
      "$i=n_{\\mathrm{step}}$ and at the other end point, that is for  $\\rho_0$.\n",
      "The solution is zero in both cases.\n",
      "\n",
      "\n",
      "\n",
      "The following python program is an example of how one can obtain the eigenvalues for a single-nucleon moving in a harmonic oscillator potential. It is rather easy to change the onebody-potential with ones like a Woods-Saxon potential. \n",
      "\n",
      "\n",
      "* The c++ and Fortran versions of this program can be found at <https://github.com/NuclearStructure/PHY981/tree/master/doc/pub/spdata/programs>. \n",
      "\n",
      "* The c++  program uses the c++ library armadillo, see <http://arma.sourceforge.net/>. \n",
      "\n",
      "* To install armadillo see the guidelines at <http://www.uio.no/studier/emner/matnat/fys/FYS4411/v14/guides/installing-armadillo/>. \n",
      "\n",
      "* For mac users I recommend using *brew*, see <http://brew.sh/>.\n",
      "\n",
      "* If you use ipython notebook, you can run c++ programs following the instructions at <http://nbviewer.ipython.org/github/dragly/cppmagic/blob/master/example.ipynb>\n",
      "\n",
      "The code sets up the Hamiltonian matrix by defining the the minimun and maximum values of $r$ with a\n",
      "maximum value of integration points.  These are set in the initialization function. It plots the \n",
      "eigenfunctions of the three lowest eigenstates."
     ]
    },
    {
     "cell_type": "code",
     "collapsed": false,
     "input": [
      "#Program which solves the one-particle Schrodinger equation \n",
      "#for a potential specified in function\n",
      "#potential(). This example is for the harmonic oscillator in 3d\n",
      "\n",
      "from  matplotlib import pyplot as plt\n",
      "import numpy as np\n",
      "#Function for initialization of parameters\n",
      "def initialize():\n",
      "    RMin = 0.0\n",
      "    RMax = 10.0\n",
      "    lOrbital = 0\n",
      "    Dim = 400\n",
      "    return RMin, RMax, lOrbital, Dim\n",
      "# Here we set up the harmonic oscillator potential\n",
      "def potential(r):\n",
      "    return r*r\n",
      "\n",
      "#Get the boundary, orbital momentum and number of integration points\n",
      "RMin, RMax, lOrbital, Dim = initialize()\n",
      "\n",
      "#Initialize constants\n",
      "Step    = RMax/(Dim+1)\n",
      "DiagConst = 2.0 / (Step*Step)\n",
      "NondiagConst =  -1.0 / (Step*Step)\n",
      "OrbitalFactor = lOrbital * (lOrbital + 1.0)\n",
      "\n",
      "#Calculate array of potential values\n",
      "v = np.zeros(Dim)\n",
      "r = np.linspace(RMin,RMax,Dim)\n",
      "for i in xrange(Dim):\n",
      "    r[i] = RMin + (i+1) * Step;\n",
      "    v[i] = potential(r[i]) + OrbitalFactor/(r[i]*r[i]);\n",
      "\n",
      "#Setting up tridiagonal matrix and find eigenvectors and eigenvalues\n",
      "Hamiltonian = np.zeros((Dim,Dim))\n",
      "Hamiltonian[0,0] = DiagConst + v[0];\n",
      "Hamiltonian[0,1] = NondiagConst;\n",
      "for i in xrange(1,Dim-1):\n",
      "    Hamiltonian[i,i-1]  = NondiagConst;\n",
      "    Hamiltonian[i,i]    = DiagConst + v[i];\n",
      "    Hamiltonian[i,i+1]  = NondiagConst;\n",
      "Hamiltonian[Dim-1,Dim-2] = NondiagConst;\n",
      "Hamiltonian[Dim-1,Dim-1] = DiagConst + v[Dim-1];\n",
      "# diagonalize and obtain eigenvalues, not necessarily sorted\n",
      "EigValues, EigVectors = np.linalg.eig(Hamiltonian)\n",
      "# sort eigenvectors and eigenvalues\n",
      "permute = EigValues.argsort()\n",
      "EigValues = EigValues[permute]\n",
      "EigVectors = EigVectors[:,permute]\n",
      "# now plot the results for the three lowest lying eigenstates\n",
      "for i in xrange(3):\n",
      "    print EigValues[i]\n",
      "FirstEigvector = EigVectors[:,0]\n",
      "SecondEigvector = EigVectors[:,1]\n",
      "ThirdEigvector = EigVectors[:,2]\n",
      "plt.plot(r, FirstEigvector**2 ,'b-',r, SecondEigvector**2 ,'g-',r, ThirdEigvector**2 ,'r-')\n",
      "plt.axis([0,4.6,0.0, 0.025])\n",
      "plt.xlabel(r'$r$')\n",
      "plt.ylabel(r'Radial probability $r^2|R(r)|^2$')\n",
      "plt.title(r'Radial probability distributions for three lowest-lying states')\n",
      "plt.savefig('eigenvector.pdf')\n",
      "plt.savefig('eigenvector.png')\n",
      "plt.show()\n",
      "\n"
     ],
     "language": "python",
     "metadata": {},
     "outputs": [],
     "prompt_number": 1
    },
    {
     "cell_type": "markdown",
     "metadata": {},
     "source": [
      "<!-- --- begin exercise --- -->\n",
      "\n",
      "### Exercise 1: Masses and binding energies\n",
      "\n",
      "The data on binding energies can be found in the file bedata.dat at the github address of the course, see\n",
      "<https://github.com/NuclearStructure/PHY981/tree/master/doc/pub/spdata/programs>\n",
      "\n",
      "\n",
      "**a)**\n",
      "Write a small program which reads in the proton and neutron numbers and the binding energies \n",
      "and make a plot of all neutron separation energies for the chain of oxygen (O), calcium (Ca), nickel (Ni), tin (Sn) and lead (Pb) isotopes, that is you need to plot"
     ]
    },
    {
     "cell_type": "markdown",
     "metadata": {},
     "source": [
      "$$\n",
      "S_n= BE(N,Z)-BE(N-1,Z).\n",
      "$$"
     ]
    },
    {
     "cell_type": "markdown",
     "metadata": {},
     "source": [
      "Comment your results.\n",
      "\n",
      "**b)**\n",
      "In the same figures, you should also include the liquid drop model results of Eq. (2.17) of Alex Brown's text, namely"
     ]
    },
    {
     "cell_type": "markdown",
     "metadata": {},
     "source": [
      "$$\n",
      "BE(N,Z)= \\alpha_1A-\\alpha_2A^{2/3}-\\alpha_3\\frac{Z^2}{A^{1/3}}-\\alpha_4\\frac{(N-Z)^2}{A},\n",
      "$$"
     ]
    },
    {
     "cell_type": "markdown",
     "metadata": {},
     "source": [
      "with $\\alpha_1=15.49$ MeV, $\\alpha_2=17.23$ MeV, $\\alpha_3=0.697$ MeV and $\\alpha_4=22.6$ MeV.\n",
      "Again, comment your results.\n",
      "\n",
      "**c)**\n",
      "Make also a plot of the binding energies as function of $A$ using the data in the file on binding energies and the above liquid drop model.  Make a figure similar to figure 2.5 of Alex Brown where you set the various parameters $\\alpha_i=0$. Comment your results.\n",
      "\n",
      "**d)**\n",
      "Use the liquid drop model to find the neutron drip lines   for Z values up to 120.\n",
      "Analyze then the fluorine isotopes and find, where available the corresponding experimental data, and compare the liquid drop model predicition with experiment. \n",
      "Comment your results.\n",
      "A program example in C++ and the input data file *bedata.dat* can be found found at the github repository for the [course](https://github.com/NuclearStructure/PHY981/tree/master/doc/pub/spdata/programs)\n",
      "\n",
      "\n",
      "\n",
      "<!-- --- end exercise --- -->\n",
      "\n",
      "\n",
      "\n",
      "\n",
      "<!-- --- begin exercise --- -->\n",
      "\n",
      "### Exercise 2: Eigenvalues and eigenvectors for various single-particle potentials\n",
      "\n",
      "The program for finding the eigenvalues of the harmonic oscillator are in the github folder\n",
      "<https://github.com/NuclearStructure/PHY981/tree/master/doc/pub/spdata/programs>.\n",
      "\n",
      "You can use this program to solve the exercises below, or write your own using your preferred programming language, be it python, fortran or c++ or other languages. Here I will mainly provide fortran, python and c++.\n",
      "\n",
      "\n",
      "**a)**\n",
      "Compute the eigenvalues of the five lowest states with a given orbital momentum and oscillator frequency $\\omega$. Study these results as functions of the the maximum value of $r$ and the number of integration points $n$, starting with  $r_{\\mathrm{max}}=10$. Compare the computed ones with the exact values and comment your results.\n",
      "\n",
      "**b)**\n",
      "Plot thereafter the eigenfunctions as functions of $r$ for the lowest-lying state with a given orbital momentum $l$.\n",
      "\n",
      "**c)**\n",
      "Replace thereafter the harmonic oscillator potential with a Woods-Saxon potential using the parameters discussed above. Compute the lowest five eigenvalues and plot the eigenfunction of the lowest-lying state. How does this compare with the harmonic oscillator? Comment your results and possible implications for nuclear physics studies.\n",
      "\n",
      "<!-- --- end exercise --- -->\n",
      "\n",
      "\n",
      "\n",
      "\n",
      "<!-- --- begin exercise --- -->\n",
      "\n",
      "### Exercise 3: Operators and Slater determinants\n",
      "\n",
      "Consider the Slater determinant"
     ]
    },
    {
     "cell_type": "markdown",
     "metadata": {},
     "source": [
      "$$\n",
      "\\Phi_{\\lambda}^{AS}(x_{1}x_{2}\\dots x_{N};\\alpha_{1}\\alpha_{2}\\dots\\alpha_{N})\n",
      "=\\frac{1}{\\sqrt{N!}}\\sum_{p}(-)^{p}P\\prod_{i=1}^{N}\\psi_{\\alpha_{i}}(x_{i}).\n",
      "$$"
     ]
    },
    {
     "cell_type": "markdown",
     "metadata": {},
     "source": [
      "where $P$ is an operator which permutes the coordinates of two particles. We have assumed here that the \n",
      "number of particles is the same as the number of available single-particle states, represented by the\n",
      "greek letters $\\alpha_{1}\\alpha_{2}\\dots\\alpha_{N}$.\n",
      "\n",
      "\n",
      "**a)**\n",
      "Write  out $\\Phi^{AS}$ for $N=3$.\n",
      "\n",
      "**b)**\n",
      "Show that"
     ]
    },
    {
     "cell_type": "markdown",
     "metadata": {},
     "source": [
      "$$\n",
      "\\int dx_{1}dx_{2}\\dots dx_{N}\\left\\vert\n",
      "\\Phi_{\\lambda}^{AS}(x_{1}x_{2}\\dots x_{N};\\alpha_{1}\\alpha_{2}\\dots\\alpha_{N})\n",
      "\\right\\vert^{2} = 1.\n",
      "$$"
     ]
    },
    {
     "cell_type": "markdown",
     "metadata": {},
     "source": [
      "**c)**\n",
      "Define a general onebody operator $\\hat{F} = \\sum_{i}^N\\hat{f}(x_{i})$ and a general  twobody operator $\\hat{G}=\\sum_{i>j}^N\\hat{g}(x_{i},x_{j})$ with $g$ being invariant under the interchange of the coordinates of particles $i$ and $j$. Calculate the matrix elements for a two-particle Slater determinant"
     ]
    },
    {
     "cell_type": "markdown",
     "metadata": {},
     "source": [
      "$$\n",
      "\\langle\\Phi_{\\alpha_{1}\\alpha_{2}}^{AS}|\\hat{F}|\\Phi_{\\alpha_{1}\\alpha_{2}}^{AS}\\rangle,\n",
      "$$"
     ]
    },
    {
     "cell_type": "markdown",
     "metadata": {},
     "source": [
      "and"
     ]
    },
    {
     "cell_type": "markdown",
     "metadata": {},
     "source": [
      "$$\n",
      "\\langle\\Phi_{\\alpha_{1}\\alpha_{2}}^{AS}|\\hat{G}|\\Phi_{\\alpha_{1}\\alpha_{2}}^{AS}\\rangle.\n",
      "$$"
     ]
    },
    {
     "cell_type": "markdown",
     "metadata": {},
     "source": [
      "Explain the short-hand notation for the Slater determinant.\n",
      "Which properties do you expect these operators to have in addition to an eventual permutation\n",
      "symmetry?\n",
      "\n",
      "\n",
      "<!-- --- end exercise --- -->\n",
      "\n",
      "\n",
      "\n",
      "\n",
      "<!-- --- begin exercise --- -->\n",
      "\n",
      "### Exercise 4: First simple shell-model calculation\n",
      "\n",
      "We will now consider a simple three-level problem, depicted in the figure below. This is our first and very simple model of a possible many-nucleon (or just fermion) problem and the shell-model.\n",
      "The single-particle states are labelled by the quantum number $p$ and can accomodate up to two single particles,  viz., every single-particle state  is doubly degenerate (you could think of this as one state having spin up and the other spin down). \n",
      "We let the spacing between the doubly degenerate single-particle states be constant, with value $d$.  The first state\n",
      "has energy $d$. There are only three available single-particle states, $p=1$, $p=2$ and $p=3$, as illustrated\n",
      "in the figure.\n",
      "\n",
      "\n",
      "**a)**\n",
      "How many two-particle Slater determinants can we construct in this space? \n",
      "\n",
      "We limit ourselves to a system with only the two lowest single-particle orbits and two particles, $p=1$ and $p=2$. We assume that we can write the Hamiltonian as"
     ]
    },
    {
     "cell_type": "markdown",
     "metadata": {},
     "source": [
      "$$\n",
      "\\hat{H}=\\hat{H}_0+\\hat{H}_I,\n",
      "$$"
     ]
    },
    {
     "cell_type": "markdown",
     "metadata": {},
     "source": [
      "and that the onebody part of the Hamiltonian with single-particle operator $\\hat{h}_0$ has the property"
     ]
    },
    {
     "cell_type": "markdown",
     "metadata": {},
     "source": [
      "$$\n",
      "\\hat{h}_0\\psi_{p\\sigma} = p\\times d \\psi_{p\\sigma},\n",
      "$$"
     ]
    },
    {
     "cell_type": "markdown",
     "metadata": {},
     "source": [
      "where we have added a spin quantum number $\\sigma$. \n",
      "We assume also that the only two-particle states that can exist are those where two particles are in the \n",
      "same state $p$, as shown by the two possibilities to the left in the figure.\n",
      "The two-particle matrix elements of $\\hat{H}_I$ have all a constant value, $-g$.\n",
      "\n",
      "**b)**\n",
      "Show then that the Hamiltonian matrix can be written as"
     ]
    },
    {
     "cell_type": "markdown",
     "metadata": {},
     "source": [
      "$$\n",
      "\\left(\\begin{array}{cc}2d-g &-g \\\\\n",
      "-g &4d-g \\end{array}\\right),\n",
      "$$"
     ]
    },
    {
     "cell_type": "markdown",
     "metadata": {},
     "source": [
      "**c)**\n",
      "Find the eigenvalues and eigenvectors.  What is mixing of the state with two particles in $p=2$  to the wave function with two-particles in $p=1$? Discuss your results in terms of a linear combination of Slater determinants.\n",
      "\n",
      "**d)**\n",
      "Add the possibility that the two particles can be in the state with $p=3$ as well and find the Hamiltonian matrix, the eigenvalues and the eigenvectors. We still insist that we only have two-particle states composed of two particles being in the same level $p$. You can diagonalize numerically your $3\\times 3$ matrix.\n",
      "This simple model catches several birds with a stone. It demonstrates how we can build linear combinations\n",
      "of Slater determinants and interpret these as different admixtures to a given state. It represents also the way we are going to interpret these contributions.  The two-particle states above $p=1$ will be interpreted as \n",
      "excitations from the ground state configuration, $p=1$ here.  The reliability of this ansatz for the ground state, \n",
      "with two particles in $p=1$,\n",
      "depends on the strength of the interaction $g$ and the single-particle spacing $d$.\n",
      "Finally, this model is a simple schematic ansatz for studies of pairing correlations and thereby superfluidity/superconductivity  \n",
      "in fermionic systems. \n",
      "\n",
      "\n",
      "<p>Schematic plot of the possible single-particle levels with double degeneracy. The filled circles indicate occupied particle states. The spacing between each level $p$ is constant in this picture. We show some possible two-particle states.</p>\n",
      "<img src=\"fig-ch2/simplemodel.png\" width=500>\n",
      "\n",
      "\n",
      "\n",
      "\n",
      "\n",
      "<!-- --- end exercise --- -->\n",
      "\n",
      "\n",
      "# Mean-field approaches\n",
      "<div id=\"ch:meanfield\"></div>\n",
      "\n",
      "## Derivation of Hartree-Fock equations in coordinate space\n",
      "\n",
      "Hartree-Fock (HF) theory is an algorithm for finding an approximative expression for the ground state of a given Hamiltonian. The basic ingredients are\n",
      "  * Define a single-particle basis $\\{\\psi_{\\alpha}\\}$ so that"
     ]
    },
    {
     "cell_type": "markdown",
     "metadata": {},
     "source": [
      "$$\n",
      "\\hat{h}^{\\mathrm{HF}}\\psi_{\\alpha} = \\varepsilon_{\\alpha}\\psi_{\\alpha}\n",
      "$$"
     ]
    },
    {
     "cell_type": "markdown",
     "metadata": {},
     "source": [
      "with the Hartree-Fock Hamiltonian defined as"
     ]
    },
    {
     "cell_type": "markdown",
     "metadata": {},
     "source": [
      "$$\n",
      "\\hat{h}^{\\mathrm{HF}}=\\hat{t}+\\hat{u}_{\\mathrm{ext}}+\\hat{u}^{\\mathrm{HF}}\n",
      "$$"
     ]
    },
    {
     "cell_type": "markdown",
     "metadata": {},
     "source": [
      "* The term  $\\hat{u}^{\\mathrm{HF}}$ is a single-particle potential to be determined by the HF algorithm.\n",
      "\n",
      "  * The HF algorithm means to choose $\\hat{u}^{\\mathrm{HF}}$ in order to have"
     ]
    },
    {
     "cell_type": "markdown",
     "metadata": {},
     "source": [
      "$$\n",
      "\\langle \\hat{H} \\rangle = E^{\\mathrm{HF}}= \\langle \\Phi_0 | \\hat{H}|\\Phi_0 \\rangle\n",
      "$$"
     ]
    },
    {
     "cell_type": "markdown",
     "metadata": {},
     "source": [
      "that is to find a local minimum with a Slater determinant $\\Phi_0$ being the ansatz for the ground state. \n",
      "  * The variational principle ensures that $E^{\\mathrm{HF}} \\ge E_0$, with $E_0$ the exact ground state energy.\n",
      "\n",
      "We will show that the Hartree-Fock Hamiltonian $\\hat{h}^{\\mathrm{HF}}$ equals our definition of the operator $\\hat{f}$ discussed in connection with the new definition of the normal-ordered Hamiltonian (see later lectures), that is we have, for a specific matrix element"
     ]
    },
    {
     "cell_type": "markdown",
     "metadata": {},
     "source": [
      "$$\n",
      "\\langle p |\\hat{h}^{\\mathrm{HF}}| q \\rangle =\\langle p |\\hat{f}| q \\rangle=\\langle p|\\hat{t}+\\hat{u}_{\\mathrm{ext}}|q \\rangle +\\sum_{i\\le F} \\langle pi | \\hat{V} | qi\\rangle_{AS},\n",
      "$$"
     ]
    },
    {
     "cell_type": "markdown",
     "metadata": {},
     "source": [
      "meaning that"
     ]
    },
    {
     "cell_type": "markdown",
     "metadata": {},
     "source": [
      "$$\n",
      "\\langle p|\\hat{u}^{\\mathrm{HF}}|q\\rangle = \\sum_{i\\le F} \\langle pi | \\hat{V} | qi\\rangle_{AS}.\n",
      "$$"
     ]
    },
    {
     "cell_type": "markdown",
     "metadata": {},
     "source": [
      "The so-called Hartree-Fock potential $\\hat{u}^{\\mathrm{HF}}$ brings an explicit medium dependence due to the summation over all single-particle states below the Fermi level $F$. It brings also in an explicit dependence on the two-body interaction (in nuclear physics we can also have complicated three- or higher-body forces). The two-body interaction, with its contribution from the other bystanding fermions, creates an effective mean field in which a given fermion moves, in addition to the external potential $\\hat{u}_{\\mathrm{ext}}$ which confines the motion of the fermion. For systems like nuclei, there is no external confining potential. Nuclei are examples of self-bound systems, where the binding arises due to the intrinsic nature of the strong force. For nuclear systems thus, there would be no external one-body potential in the Hartree-Fock Hamiltonian. \n",
      "\n",
      "\n",
      "The calculus of variations involves \n",
      "problems where the quantity to be minimized or maximized is an integral. \n",
      "\n",
      "In the general case we have an integral of the type"
     ]
    },
    {
     "cell_type": "markdown",
     "metadata": {},
     "source": [
      "$$\n",
      "E[\\Phi]= \\int_a^b f(\\Phi(x),\\frac{\\partial \\Phi}{\\partial x},x)dx,\n",
      "$$"
     ]
    },
    {
     "cell_type": "markdown",
     "metadata": {},
     "source": [
      "where $E$ is the quantity which is sought minimized or maximized.\n",
      "The problem is that although $f$ is a function of the variables $\\Phi$, $\\partial \\Phi/\\partial x$ and $x$, the exact dependence of\n",
      "$\\Phi$ on $x$ is not known.  This means again that even though the integral has fixed limits $a$ and $b$, the path of integration is\n",
      "not known. In our case the unknown quantities are the single-particle wave functions and we wish to choose an integration path which makes\n",
      "the functional $E[\\Phi]$ stationary. This means that we want to find minima, or maxima or saddle points. In physics we search normally for minima.\n",
      "Our task is therefore to find the minimum of $E[\\Phi]$ so that its variation $\\delta E$ is zero  subject to specific\n",
      "constraints. In our case the constraints appear as the integral which expresses the orthogonality of the  single-particle wave functions.\n",
      "The constraints can be treated via the technique of Lagrangian multipliers\n",
      "\n",
      "\n",
      "\n",
      "Let us specialize to the expectation value of the energy for one particle in three-dimensions.\n",
      "This expectation value reads"
     ]
    },
    {
     "cell_type": "markdown",
     "metadata": {},
     "source": [
      "$$\n",
      "E=\\int dxdydz \\psi^*(x,y,z) \\hat{H} \\psi(x,y,z),\n",
      "$$"
     ]
    },
    {
     "cell_type": "markdown",
     "metadata": {},
     "source": [
      "with the constraint"
     ]
    },
    {
     "cell_type": "markdown",
     "metadata": {},
     "source": [
      "$$\n",
      "\\int dxdydz \\psi^*(x,y,z) \\psi(x,y,z)=1,\n",
      "$$"
     ]
    },
    {
     "cell_type": "markdown",
     "metadata": {},
     "source": [
      "and a Hamiltonian"
     ]
    },
    {
     "cell_type": "markdown",
     "metadata": {},
     "source": [
      "$$\n",
      "\\hat{H}=-\\frac{1}{2}\\nabla^2+V(x,y,z).\n",
      "$$"
     ]
    },
    {
     "cell_type": "markdown",
     "metadata": {},
     "source": [
      "We will, for the sake of notational convenience,  skip the variables $x,y,z$ below, and write for example $V(x,y,z)=V$.\n",
      "\n",
      "\n",
      "\n",
      "The integral involving the kinetic energy can be written as, with the function $\\psi$ vanishing\n",
      "strongly for large values of $x,y,z$ (given here by the limits $a$ and $b$),"
     ]
    },
    {
     "cell_type": "markdown",
     "metadata": {},
     "source": [
      "$$\n",
      "\\int_a^b dxdydz \\psi^* \\left(-\\frac{1}{2}\\nabla^2\\right) \\psi dxdydz = \\psi^*\\nabla\\psi|_a^b+\\int_a^b dxdydz\\frac{1}{2}\\nabla\\psi^*\\nabla\\psi.\n",
      "$$"
     ]
    },
    {
     "cell_type": "markdown",
     "metadata": {},
     "source": [
      "We will drop the limits $a$ and $b$ in the remaining discussion. \n",
      "Inserting this expression into the expectation value for the energy and taking the variational minimum  we obtain"
     ]
    },
    {
     "cell_type": "markdown",
     "metadata": {},
     "source": [
      "$$\n",
      "\\delta E = \\delta \\left\\{\\int dxdydz\\left( \\frac{1}{2}\\nabla\\psi^*\\nabla\\psi+V\\psi^*\\psi\\right)\\right\\} = 0.\n",
      "$$"
     ]
    },
    {
     "cell_type": "markdown",
     "metadata": {},
     "source": [
      "The constraint appears in integral form as"
     ]
    },
    {
     "cell_type": "markdown",
     "metadata": {},
     "source": [
      "$$\n",
      "\\int dxdydz \\psi^* \\psi=\\mathrm{constant},\n",
      "$$"
     ]
    },
    {
     "cell_type": "markdown",
     "metadata": {},
     "source": [
      "and multiplying with a Lagrangian multiplier $\\lambda$ and taking the variational minimum we obtain the final variational equation"
     ]
    },
    {
     "cell_type": "markdown",
     "metadata": {},
     "source": [
      "$$\n",
      "\\delta \\left\\{\\int dxdydz\\left( \\frac{1}{2}\\nabla\\psi^*\\nabla\\psi+V\\psi^*\\psi-\\lambda\\psi^*\\psi\\right)\\right\\} = 0.\n",
      "$$"
     ]
    },
    {
     "cell_type": "markdown",
     "metadata": {},
     "source": [
      "We introduce the function  $f$"
     ]
    },
    {
     "cell_type": "markdown",
     "metadata": {},
     "source": [
      "$$\n",
      "f =  \\frac{1}{2}\\nabla\\psi^*\\nabla\\psi+V\\psi^*\\psi-\\lambda\\psi^*\\psi=\n",
      "\\frac{1}{2}(\\psi^*_x\\psi_x+\\psi^*_y\\psi_y+\\psi^*_z\\psi_z)+V\\psi^*\\psi-\\lambda\\psi^*\\psi,\n",
      "$$"
     ]
    },
    {
     "cell_type": "markdown",
     "metadata": {},
     "source": [
      "where we have skipped the dependence on $x,y,z$ and introduced the shorthand $\\psi_x$, $\\psi_y$ and $\\psi_z$  for the various derivatives.\n",
      "\n",
      "\n",
      "\n",
      "\n",
      "For $\\psi^*$ the Euler-Lagrange  equations yield"
     ]
    },
    {
     "cell_type": "markdown",
     "metadata": {},
     "source": [
      "$$\n",
      "\\frac{\\partial f}{\\partial \\psi^*}- \\frac{\\partial }{\\partial x}\\frac{\\partial f}{\\partial \\psi^*_x}-\\frac{\\partial }{\\partial y}\\frac{\\partial f}{\\partial \\psi^*_y}-\\frac{\\partial }{\\partial z}\\frac{\\partial f}{\\partial \\psi^*_z}=0,\n",
      "$$"
     ]
    },
    {
     "cell_type": "markdown",
     "metadata": {},
     "source": [
      "which results in"
     ]
    },
    {
     "cell_type": "markdown",
     "metadata": {},
     "source": [
      "$$\n",
      "-\\frac{1}{2}(\\psi_{xx}+\\psi_{yy}+\\psi_{zz})+V\\psi=\\lambda \\psi.\n",
      "$$"
     ]
    },
    {
     "cell_type": "markdown",
     "metadata": {},
     "source": [
      "We can then identify the  Lagrangian multiplier as the energy of the system. The last equation is \n",
      "nothing but the standard \n",
      "Schroedinger equation and the variational  approach discussed here provides \n",
      "a powerful method for obtaining approximate solutions of the wave function.\n",
      "\n",
      "\n",
      "\n",
      "\n",
      "\n",
      "\n",
      "## Definitions and notations\n",
      "\n",
      "Before we proceed we need some definitions.\n",
      "We will assume that the interacting part of the Hamiltonian\n",
      "can be approximated by a two-body interaction.\n",
      "This means that our Hamiltonian is written as the sum of some onebody part and a twobody part"
     ]
    },
    {
     "cell_type": "markdown",
     "metadata": {},
     "source": [
      "<!-- Equation labels as ordinary links -->\n",
      "<div id=\"Hnuclei\"></div>\n",
      "\n",
      "$$\n",
      "\\begin{equation}\n",
      "    \\hat{H} = \\hat{H}_0 + \\hat{H}_I \n",
      "    = \\sum_{i=1}^A \\hat{h}_0(x_i) + \\sum_{i < j}^A \\hat{v}(r_{ij}),\n",
      "\\label{Hnuclei} \\tag{9}\n",
      "\\end{equation}\n",
      "$$"
     ]
    },
    {
     "cell_type": "markdown",
     "metadata": {},
     "source": [
      "with"
     ]
    },
    {
     "cell_type": "markdown",
     "metadata": {},
     "source": [
      "<!-- Equation labels as ordinary links -->\n",
      "<div id=\"hinuclei\"></div>\n",
      "\n",
      "$$\n",
      "\\begin{equation}\n",
      "  H_0=\\sum_{i=1}^A \\hat{h}_0(x_i).\n",
      "\\label{hinuclei} \\tag{10}\n",
      "\\end{equation}\n",
      "$$"
     ]
    },
    {
     "cell_type": "markdown",
     "metadata": {},
     "source": [
      "The onebody part $u_{\\mathrm{ext}}(x_i)$ is normally approximated by a harmonic oscillator potential or the Coulomb interaction an electron feels from the nucleus. However, other potentials are fully possible, such as \n",
      "one derived from the self-consistent solution of the Hartree-Fock equations to be discussed here.\n",
      "\n",
      "\n",
      "\n",
      "\n",
      "Our Hamiltonian is invariant under the permutation (interchange) of two particles.\n",
      "Since we deal with fermions however, the total wave function is antisymmetric.\n",
      "Let $\\hat{P}$ be an operator which interchanges two particles.\n",
      "Due to the symmetries we have ascribed to our Hamiltonian, this operator commutes with the total Hamiltonian,"
     ]
    },
    {
     "cell_type": "markdown",
     "metadata": {},
     "source": [
      "$$\n",
      "[\\hat{H},\\hat{P}] = 0,\n",
      "$$"
     ]
    },
    {
     "cell_type": "markdown",
     "metadata": {},
     "source": [
      "meaning that $\\Psi_{\\lambda}(x_1, x_2, \\dots , x_A)$ is an eigenfunction of \n",
      "$\\hat{P}$ as well, that is"
     ]
    },
    {
     "cell_type": "markdown",
     "metadata": {},
     "source": [
      "$$\n",
      "\\hat{P}_{ij}\\Psi_{\\lambda}(x_1, x_2, \\dots,x_i,\\dots,x_j,\\dots,x_A)=\n",
      "\\beta\\Psi_{\\lambda}(x_1, x_2, \\dots,x_i,\\dots,x_j,\\dots,x_A),\n",
      "$$"
     ]
    },
    {
     "cell_type": "markdown",
     "metadata": {},
     "source": [
      "where $\\beta$ is the eigenvalue of $\\hat{P}$. We have introduced the suffix $ij$ in order to indicate that we permute particles $i$ and $j$.\n",
      "The Pauli principle tells us that the total wave function for a system of fermions\n",
      "has to be antisymmetric, resulting in the eigenvalue $\\beta = -1$.   \n",
      "\n",
      "\n",
      "\n",
      "In our case we assume that  we can approximate the exact eigenfunction with a Slater determinant"
     ]
    },
    {
     "cell_type": "markdown",
     "metadata": {},
     "source": [
      "<!-- Equation labels as ordinary links -->\n",
      "<div id=\"eq:HartreeFockDet\"></div>\n",
      "\n",
      "$$\n",
      "\\begin{equation}\n",
      "   \\Phi(x_1, x_2,\\dots ,x_A,\\alpha,\\beta,\\dots, \\sigma)=\\frac{1}{\\sqrt{A!}}\n",
      "\\left| \\begin{array}{ccccc} \\psi_{\\alpha}(x_1)& \\psi_{\\alpha}(x_2)& \\dots & \\dots & \\psi_{\\alpha}(x_A)\\\\\n",
      "                            \\psi_{\\beta}(x_1)&\\psi_{\\beta}(x_2)& \\dots & \\dots & \\psi_{\\beta}(x_A)\\\\  \n",
      "                            \\dots & \\dots & \\dots & \\dots & \\dots \\\\\n",
      "                            \\dots & \\dots & \\dots & \\dots & \\dots \\\\\n",
      "                     \\psi_{\\sigma}(x_1)&\\psi_{\\sigma}(x_2)& \\dots & \\dots & \\psi_{\\sigma}(x_A)\\end{array} \\right|, \\label{eq:HartreeFockDet} \\tag{11}\n",
      "\\end{equation}\n",
      "$$"
     ]
    },
    {
     "cell_type": "markdown",
     "metadata": {},
     "source": [
      "where  $x_i$  stand for the coordinates and spin values of a particle $i$ and $\\alpha,\\beta,\\dots, \\gamma$ \n",
      "are quantum numbers needed to describe remaining quantum numbers.  \n",
      "\n",
      "\n",
      "\n",
      "The single-particle function $\\psi_{\\alpha}(x_i)$  are eigenfunctions of the onebody\n",
      "Hamiltonian $h_i$, that is"
     ]
    },
    {
     "cell_type": "markdown",
     "metadata": {},
     "source": [
      "$$\n",
      "\\hat{h}_0(x_i)=\\hat{t}(x_i) + \\hat{u}_{\\mathrm{ext}}(x_i),\n",
      "$$"
     ]
    },
    {
     "cell_type": "markdown",
     "metadata": {},
     "source": [
      "with eigenvalues"
     ]
    },
    {
     "cell_type": "markdown",
     "metadata": {},
     "source": [
      "$$\n",
      "\\hat{h}_0(x_i) \\psi_{\\alpha}(x_i)=\\left(\\hat{t}(x_i) + \\hat{u}_{\\mathrm{ext}}(x_i)\\right)\\psi_{\\alpha}(x_i)=\\varepsilon_{\\alpha}\\psi_{\\alpha}(x_i).\n",
      "$$"
     ]
    },
    {
     "cell_type": "markdown",
     "metadata": {},
     "source": [
      "The energies $\\varepsilon_{\\alpha}$ are the so-called non-interacting single-particle energies, or unperturbed energies. \n",
      "The total energy is in this case the sum over all  single-particle energies, if no two-body or more complicated\n",
      "many-body interactions are present.\n",
      "\n",
      "\n",
      "\n",
      "Let us denote the ground state energy by $E_0$. According to the\n",
      "variational principle we have"
     ]
    },
    {
     "cell_type": "markdown",
     "metadata": {},
     "source": [
      "$$\n",
      "E_0 \\le E[\\Phi] = \\int \\Phi^*\\hat{H}\\Phi d\\mathbf{\\tau}\n",
      "$$"
     ]
    },
    {
     "cell_type": "markdown",
     "metadata": {},
     "source": [
      "where $\\Phi$ is a trial function which we assume to be normalized"
     ]
    },
    {
     "cell_type": "markdown",
     "metadata": {},
     "source": [
      "$$\n",
      "\\int \\Phi^*\\Phi d\\mathbf{\\tau} = 1,\n",
      "$$"
     ]
    },
    {
     "cell_type": "markdown",
     "metadata": {},
     "source": [
      "where we have used the shorthand $d\\mathbf{\\tau}=dx_1dr_2\\dots dr_A$.\n",
      "\n",
      "\n",
      "\n",
      "In the Hartree-Fock method the trial function is the Slater\n",
      "determinant of Eq. [(11)](#eq:HartreeFockDet) which can be rewritten as"
     ]
    },
    {
     "cell_type": "markdown",
     "metadata": {},
     "source": [
      "$$\n",
      "\\Phi(x_1,x_2,\\dots,x_A,\\alpha,\\beta,\\dots,\\nu) = \\frac{1}{\\sqrt{A!}}\\sum_{P} (-)^P\\hat{P}\\psi_{\\alpha}(x_1)\n",
      "    \\psi_{\\beta}(x_2)\\dots\\psi_{\\nu}(x_A)=\\sqrt{A!}\\hat{A}\\Phi_H,\n",
      "$$"
     ]
    },
    {
     "cell_type": "markdown",
     "metadata": {},
     "source": [
      "where we have introduced the antisymmetrization operator $\\hat{A}$ defined by the \n",
      "summation over all possible permutations of two particles.\n",
      "\n",
      "\n",
      "It is defined as"
     ]
    },
    {
     "cell_type": "markdown",
     "metadata": {},
     "source": [
      "<!-- Equation labels as ordinary links -->\n",
      "<div id=\"antiSymmetryOperator\"></div>\n",
      "\n",
      "$$\n",
      "\\begin{equation}\n",
      "  \\hat{A} = \\frac{1}{A!}\\sum_{p} (-)^p\\hat{P},\n",
      "\\label{antiSymmetryOperator} \\tag{12}\n",
      "\\end{equation}\n",
      "$$"
     ]
    },
    {
     "cell_type": "markdown",
     "metadata": {},
     "source": [
      "with $p$ standing for the number of permutations. We have introduced for later use the so-called\n",
      "Hartree-function, defined by the simple product of all possible single-particle functions"
     ]
    },
    {
     "cell_type": "markdown",
     "metadata": {},
     "source": [
      "$$\n",
      "\\Phi_H(x_1,x_2,\\dots,x_A,\\alpha,\\beta,\\dots,\\nu) =\n",
      "  \\psi_{\\alpha}(x_1)\n",
      "    \\psi_{\\beta}(x_2)\\dots\\psi_{\\nu}(x_A).\n",
      "$$"
     ]
    },
    {
     "cell_type": "markdown",
     "metadata": {},
     "source": [
      "Both $\\hat{H}_0$ and $\\hat{H}_I$ are invariant under all possible permutations of any two particles\n",
      "and hence commute with $\\hat{A}$"
     ]
    },
    {
     "cell_type": "markdown",
     "metadata": {},
     "source": [
      "<!-- Equation labels as ordinary links -->\n",
      "<div id=\"commutionAntiSym\"></div>\n",
      "\n",
      "$$\n",
      "\\begin{equation}\n",
      "  [H_0,\\hat{A}] = [H_I,\\hat{A}] = 0. \\label{commutionAntiSym} \\tag{13}\n",
      "\\end{equation}\n",
      "$$"
     ]
    },
    {
     "cell_type": "markdown",
     "metadata": {},
     "source": [
      "Furthermore, $\\hat{A}$ satisfies"
     ]
    },
    {
     "cell_type": "markdown",
     "metadata": {},
     "source": [
      "<!-- Equation labels as ordinary links -->\n",
      "<div id=\"AntiSymSquared\"></div>\n",
      "\n",
      "$$\n",
      "\\begin{equation}\n",
      "  \\hat{A}^2 = \\hat{A},  \\label{AntiSymSquared} \\tag{14}\n",
      "\\end{equation}\n",
      "$$"
     ]
    },
    {
     "cell_type": "markdown",
     "metadata": {},
     "source": [
      "since every permutation of the Slater\n",
      "determinant reproduces it. \n",
      "\n",
      "\n",
      "\n",
      "\n",
      "The expectation value of $\\hat{H}_0$"
     ]
    },
    {
     "cell_type": "markdown",
     "metadata": {},
     "source": [
      "$$\n",
      "\\int \\Phi^*\\hat{H}_0\\Phi d\\mathbf{\\tau} \n",
      "  = A! \\int \\Phi_H^*\\hat{A}\\hat{H}_0\\hat{A}\\Phi_H d\\mathbf{\\tau}\n",
      "$$"
     ]
    },
    {
     "cell_type": "markdown",
     "metadata": {},
     "source": [
      "is readily reduced to"
     ]
    },
    {
     "cell_type": "markdown",
     "metadata": {},
     "source": [
      "$$\n",
      "\\int \\Phi^*\\hat{H}_0\\Phi d\\mathbf{\\tau} \n",
      "  = A! \\int \\Phi_H^*\\hat{H}_0\\hat{A}\\Phi_H d\\mathbf{\\tau},\n",
      "$$"
     ]
    },
    {
     "cell_type": "markdown",
     "metadata": {},
     "source": [
      "where we have used Eqs. [(13)](#commutionAntiSym) and\n",
      "[(14)](#AntiSymSquared). The next step is to replace the antisymmetrization\n",
      "operator by its definition and to\n",
      "replace $\\hat{H}_0$ with the sum of one-body operators"
     ]
    },
    {
     "cell_type": "markdown",
     "metadata": {},
     "source": [
      "$$\n",
      "\\int \\Phi^*\\hat{H}_0\\Phi  d\\mathbf{\\tau}\n",
      "  = \\sum_{i=1}^A \\sum_{p} (-)^p\\int \n",
      "  \\Phi_H^*\\hat{h}_0\\hat{P}\\Phi_H d\\mathbf{\\tau}.\n",
      "$$"
     ]
    },
    {
     "cell_type": "markdown",
     "metadata": {},
     "source": [
      "The integral vanishes if two or more particles are permuted in only one\n",
      "of the Hartree-functions $\\Phi_H$ because the individual single-particle wave functions are\n",
      "orthogonal. We obtain then"
     ]
    },
    {
     "cell_type": "markdown",
     "metadata": {},
     "source": [
      "$$\n",
      "\\int \\Phi^*\\hat{H}_0\\Phi  d\\mathbf{\\tau}= \\sum_{i=1}^A \\int \\Phi_H^*\\hat{h}_0\\Phi_H  d\\mathbf{\\tau}.\n",
      "$$"
     ]
    },
    {
     "cell_type": "markdown",
     "metadata": {},
     "source": [
      "Orthogonality of the single-particle functions allows us to further simplify the integral, and we\n",
      "arrive at the following expression for the expectation values of the\n",
      "sum of one-body Hamiltonians"
     ]
    },
    {
     "cell_type": "markdown",
     "metadata": {},
     "source": [
      "<!-- Equation labels as ordinary links -->\n",
      "<div id=\"H1Expectation\"></div>\n",
      "\n",
      "$$\n",
      "\\begin{equation}\n",
      "  \\int \\Phi^*\\hat{H}_0\\Phi  d\\mathbf{\\tau}\n",
      "  = \\sum_{\\mu=1}^A \\int \\psi_{\\mu}^*(x)\\hat{h}_0\\psi_{\\mu}(x)dx\n",
      "  d\\mathbf{r}.\n",
      "  \\label{H1Expectation} \\tag{15}\n",
      "\\end{equation}\n",
      "$$"
     ]
    },
    {
     "cell_type": "markdown",
     "metadata": {},
     "source": [
      "We introduce the following shorthand for the above integral"
     ]
    },
    {
     "cell_type": "markdown",
     "metadata": {},
     "source": [
      "$$\n",
      "\\langle \\mu | \\hat{h}_0 | \\mu \\rangle = \\int \\psi_{\\mu}^*(x)\\hat{h}_0\\psi_{\\mu}(x)dx,\n",
      "$$"
     ]
    },
    {
     "cell_type": "markdown",
     "metadata": {},
     "source": [
      "and rewrite Eq. [(15)](#H1Expectation) as"
     ]
    },
    {
     "cell_type": "markdown",
     "metadata": {},
     "source": [
      "<!-- Equation labels as ordinary links -->\n",
      "<div id=\"H1Expectation1\"></div>\n",
      "\n",
      "$$\n",
      "\\begin{equation}\n",
      "  \\int \\Phi^*\\hat{H}_0\\Phi  d\\tau\n",
      "  = \\sum_{\\mu=1}^A \\langle \\mu | \\hat{h}_0 | \\mu \\rangle.\n",
      "  \\label{H1Expectation1} \\tag{16}\n",
      "\\end{equation}\n",
      "$$"
     ]
    },
    {
     "cell_type": "markdown",
     "metadata": {},
     "source": [
      "The expectation value of the two-body part of the Hamiltonian is obtained in a\n",
      "similar manner. We have"
     ]
    },
    {
     "cell_type": "markdown",
     "metadata": {},
     "source": [
      "$$\n",
      "\\int \\Phi^*\\hat{H}_I\\Phi d\\mathbf{\\tau} \n",
      "  = A! \\int \\Phi_H^*\\hat{A}\\hat{H}_I\\hat{A}\\Phi_H d\\mathbf{\\tau},\n",
      "$$"
     ]
    },
    {
     "cell_type": "markdown",
     "metadata": {},
     "source": [
      "which reduces to"
     ]
    },
    {
     "cell_type": "markdown",
     "metadata": {},
     "source": [
      "$$\n",
      "\\int \\Phi^*\\hat{H}_I\\Phi d\\mathbf{\\tau} \n",
      "  = \\sum_{i\\le j=1}^A \\sum_{p} (-)^p\\int \n",
      "  \\Phi_H^*\\hat{v}(r_{ij})\\hat{P}\\Phi_H d\\mathbf{\\tau},\n",
      "$$"
     ]
    },
    {
     "cell_type": "markdown",
     "metadata": {},
     "source": [
      "by following the same arguments as for the one-body\n",
      "Hamiltonian. \n",
      "\n",
      "\n",
      "\n",
      "Because of the dependence on the inter-particle distance $r_{ij}$,  permutations of\n",
      "any two particles no longer vanish, and we get"
     ]
    },
    {
     "cell_type": "markdown",
     "metadata": {},
     "source": [
      "$$\n",
      "\\int \\Phi^*\\hat{H}_I\\Phi d\\mathbf{\\tau} \n",
      "  = \\sum_{i < j=1}^A \\int  \n",
      "  \\Phi_H^*\\hat{v}(r_{ij})(1-P_{ij})\\Phi_H d\\mathbf{\\tau}.\n",
      "$$"
     ]
    },
    {
     "cell_type": "markdown",
     "metadata": {},
     "source": [
      "where $P_{ij}$ is the permutation operator that interchanges\n",
      "particle $i$ and particle $j$. Again we use the assumption that the single-particle wave functions\n",
      "are orthogonal. \n",
      "\n",
      "\n",
      "\n",
      "\n",
      "\n",
      "We obtain"
     ]
    },
    {
     "cell_type": "markdown",
     "metadata": {},
     "source": [
      "<!-- Equation labels as ordinary links -->\n",
      "<div id=\"H2Expectation\"></div>\n",
      "\n",
      "$$\n",
      "\\begin{equation}\n",
      "\\begin{split}\n",
      "  \\int \\Phi^*\\hat{H}_I\\Phi d\\mathbf{\\tau} \n",
      "  = \\frac{1}{2}\\sum_{\\mu=1}^A\\sum_{\\nu=1}^A\n",
      "    &\\left[ \\int \\psi_{\\mu}^*(x_i)\\psi_{\\nu}^*(x_j)\\hat{v}(r_{ij})\\psi_{\\mu}(x_i)\\psi_{\\nu}(x_j)\n",
      "    dx_idx_j \\right.\\\\\n",
      "  &\\left.\n",
      "  - \\int \\psi_{\\mu}^*(x_i)\\psi_{\\nu}^*(x_j)\n",
      "  \\hat{v}(r_{ij})\\psi_{\\nu}(x_i)\\psi_{\\mu}(x_j)\n",
      "  dx_idx_j\n",
      "  \\right]. \\label{H2Expectation} \\tag{17}\n",
      "\\end{split}\n",
      "\\end{equation}\n",
      "$$"
     ]
    },
    {
     "cell_type": "markdown",
     "metadata": {},
     "source": [
      "The first term is the so-called direct term. It is frequently also called the  Hartree term, \n",
      "while the second is due to the Pauli principle and is called\n",
      "the exchange term or just the Fock term.\n",
      "The factor  $1/2$ is introduced because we now run over\n",
      "all pairs twice. \n",
      "\n",
      "\n",
      "\n",
      "The last equation allows us to  introduce some further definitions.  \n",
      "The single-particle wave functions $\\psi_{\\mu}(x)$, defined by the quantum numbers $\\mu$ and $x$\n",
      "are defined as the overlap"
     ]
    },
    {
     "cell_type": "markdown",
     "metadata": {},
     "source": [
      "$$\n",
      "\\psi_{\\alpha}(x)  = \\langle x | \\alpha \\rangle .\n",
      "$$"
     ]
    },
    {
     "cell_type": "markdown",
     "metadata": {},
     "source": [
      "We introduce the following shorthands for the above two integrals"
     ]
    },
    {
     "cell_type": "markdown",
     "metadata": {},
     "source": [
      "$$\n",
      "\\langle \\mu\\nu|\\hat{v}|\\mu\\nu\\rangle =  \\int \\psi_{\\mu}^*(x_i)\\psi_{\\nu}^*(x_j)\\hat{v}(r_{ij})\\psi_{\\mu}(x_i)\\psi_{\\nu}(x_j)\n",
      "    dx_idx_j,\n",
      "$$"
     ]
    },
    {
     "cell_type": "markdown",
     "metadata": {},
     "source": [
      "and"
     ]
    },
    {
     "cell_type": "markdown",
     "metadata": {},
     "source": [
      "$$\n",
      "\\langle \\mu\\nu|\\hat{v}|\\nu\\mu\\rangle = \\int \\psi_{\\mu}^*(x_i)\\psi_{\\nu}^*(x_j)\n",
      "  \\hat{v}(r_{ij})\\psi_{\\nu}(x_i)\\psi_{\\mu}(x_j)\n",
      "  dx_idx_j.\n",
      "$$"
     ]
    },
    {
     "cell_type": "markdown",
     "metadata": {},
     "source": [
      "## Derivation of Hartree-Fock equations in coordinate space\n",
      "\n",
      "Let us denote the ground state energy by $E_0$. According to the\n",
      "variational principle we have"
     ]
    },
    {
     "cell_type": "markdown",
     "metadata": {},
     "source": [
      "$$\n",
      "E_0 \\le E[\\Phi] = \\int \\Phi^*\\hat{H}\\Phi d\\mathbf{\\tau}\n",
      "$$"
     ]
    },
    {
     "cell_type": "markdown",
     "metadata": {},
     "source": [
      "where $\\Phi$ is a trial function which we assume to be normalized"
     ]
    },
    {
     "cell_type": "markdown",
     "metadata": {},
     "source": [
      "$$\n",
      "\\int \\Phi^*\\Phi d\\mathbf{\\tau} = 1,\n",
      "$$"
     ]
    },
    {
     "cell_type": "markdown",
     "metadata": {},
     "source": [
      "where we have used the shorthand $d\\mathbf{\\tau}=dx_1dx_2\\dots dx_A$.\n",
      "\n",
      "\n",
      "\n",
      "\n",
      "\n",
      "In the Hartree-Fock method the trial function is a Slater\n",
      "determinant which can be rewritten as"
     ]
    },
    {
     "cell_type": "markdown",
     "metadata": {},
     "source": [
      "$$\n",
      "\\Psi(x_1,x_2,\\dots,x_A,\\alpha,\\beta,\\dots,\\nu) = \\frac{1}{\\sqrt{A!}}\\sum_{P} (-)^PP\\psi_{\\alpha}(x_1)\n",
      "    \\psi_{\\beta}(x_2)\\dots\\psi_{\\nu}(x_A)=\\sqrt{A!}\\hat{A}\\Phi_H,\n",
      "$$"
     ]
    },
    {
     "cell_type": "markdown",
     "metadata": {},
     "source": [
      "where we have introduced the anti-symmetrization operator $\\hat{A}$ defined by the \n",
      "summation over all possible permutations *p* of two fermions.\n",
      "It is defined as"
     ]
    },
    {
     "cell_type": "markdown",
     "metadata": {},
     "source": [
      "$$\n",
      "\\hat{A} = \\frac{1}{A!}\\sum_{p} (-)^p\\hat{P},\n",
      "$$"
     ]
    },
    {
     "cell_type": "markdown",
     "metadata": {},
     "source": [
      "with the the Hartree-function given by the simple product of all possible single-particle function"
     ]
    },
    {
     "cell_type": "markdown",
     "metadata": {},
     "source": [
      "$$\n",
      "\\Phi_H(x_1,x_2,\\dots,x_A,\\alpha,\\beta,\\dots,\\nu) =\n",
      "  \\psi_{\\alpha}(x_1)\n",
      "    \\psi_{\\beta}(x_2)\\dots\\psi_{\\nu}(x_A).\n",
      "$$"
     ]
    },
    {
     "cell_type": "markdown",
     "metadata": {},
     "source": [
      "Our functional is written as"
     ]
    },
    {
     "cell_type": "markdown",
     "metadata": {},
     "source": [
      "$$\n",
      "E[\\Phi] = \\sum_{\\mu=1}^A \\int \\psi_{\\mu}^*(x_i)\\hat{h}_0(x_i)\\psi_{\\mu}(x_i) dx_i \n",
      "  + \\frac{1}{2}\\sum_{\\mu=1}^A\\sum_{\\nu=1}^A\n",
      "   \\left[ \\int \\psi_{\\mu}^*(x_i)\\psi_{\\nu}^*(x_j)\\hat{v}(r_{ij})\\psi_{\\mu}(x_i)\\psi_{\\nu}(x_j)dx_idx_j- \\int \\psi_{\\mu}^*(x_i)\\psi_{\\nu}^*(x_j)\n",
      " \\hat{v}(r_{ij})\\psi_{\\nu}(x_i)\\psi_{\\mu}(x_j)dx_idx_j\\right]\n",
      "$$"
     ]
    },
    {
     "cell_type": "markdown",
     "metadata": {},
     "source": [
      "The more compact version reads"
     ]
    },
    {
     "cell_type": "markdown",
     "metadata": {},
     "source": [
      "$$\n",
      "E[\\Phi] \n",
      "  = \\sum_{\\mu}^A \\langle \\mu | \\hat{h}_0 | \\mu\\rangle+ \\frac{1}{2}\\sum_{\\mu\\nu}^A\\left[\\langle \\mu\\nu |\\hat{v}|\\mu\\nu\\rangle-\\langle \\nu\\mu |\\hat{v}|\\mu\\nu\\rangle\\right].\n",
      "$$"
     ]
    },
    {
     "cell_type": "markdown",
     "metadata": {},
     "source": [
      "Since the interaction is invariant under the interchange of two particles it means for example that we have"
     ]
    },
    {
     "cell_type": "markdown",
     "metadata": {},
     "source": [
      "$$\n",
      "\\langle \\mu\\nu|\\hat{v}|\\mu\\nu\\rangle =  \\langle \\nu\\mu|\\hat{v}|\\nu\\mu\\rangle,\n",
      "$$"
     ]
    },
    {
     "cell_type": "markdown",
     "metadata": {},
     "source": [
      "or in the more general case"
     ]
    },
    {
     "cell_type": "markdown",
     "metadata": {},
     "source": [
      "$$\n",
      "\\langle \\mu\\nu|\\hat{v}|\\sigma\\tau\\rangle =  \\langle \\nu\\mu|\\hat{v}|\\tau\\sigma\\rangle.\n",
      "$$"
     ]
    },
    {
     "cell_type": "markdown",
     "metadata": {},
     "source": [
      "The direct and exchange matrix elements can be  brought together if we define the antisymmetrized matrix element"
     ]
    },
    {
     "cell_type": "markdown",
     "metadata": {},
     "source": [
      "$$\n",
      "\\langle \\mu\\nu|\\hat{v}|\\mu\\nu\\rangle_{AS}= \\langle \\mu\\nu|\\hat{v}|\\mu\\nu\\rangle-\\langle \\mu\\nu|\\hat{v}|\\nu\\mu\\rangle,\n",
      "$$"
     ]
    },
    {
     "cell_type": "markdown",
     "metadata": {},
     "source": [
      "or for a general matrix element"
     ]
    },
    {
     "cell_type": "markdown",
     "metadata": {},
     "source": [
      "$$\n",
      "\\langle \\mu\\nu|\\hat{v}|\\sigma\\tau\\rangle_{AS}= \\langle \\mu\\nu|\\hat{v}|\\sigma\\tau\\rangle-\\langle \\mu\\nu|\\hat{v}|\\tau\\sigma\\rangle.\n",
      "$$"
     ]
    },
    {
     "cell_type": "markdown",
     "metadata": {},
     "source": [
      "It has the symmetry property"
     ]
    },
    {
     "cell_type": "markdown",
     "metadata": {},
     "source": [
      "$$\n",
      "\\langle \\mu\\nu|\\hat{v}|\\sigma\\tau\\rangle_{AS}= -\\langle \\mu\\nu|\\hat{v}|\\tau\\sigma\\rangle_{AS}=-\\langle \\nu\\mu|\\hat{v}|\\sigma\\tau\\rangle_{AS}.\n",
      "$$"
     ]
    },
    {
     "cell_type": "markdown",
     "metadata": {},
     "source": [
      "The antisymmetric matrix element is also hermitian, implying"
     ]
    },
    {
     "cell_type": "markdown",
     "metadata": {},
     "source": [
      "$$\n",
      "\\langle \\mu\\nu|\\hat{v}|\\sigma\\tau\\rangle_{AS}= \\langle \\sigma\\tau|\\hat{v}|\\mu\\nu\\rangle_{AS}.\n",
      "$$"
     ]
    },
    {
     "cell_type": "markdown",
     "metadata": {},
     "source": [
      "With these notations we rewrite the Hartree-Fock functional as"
     ]
    },
    {
     "cell_type": "markdown",
     "metadata": {},
     "source": [
      "<!-- Equation labels as ordinary links -->\n",
      "<div id=\"H2Expectation2\"></div>\n",
      "\n",
      "$$\n",
      "\\begin{equation}\n",
      "  \\int \\Phi^*\\hat{H_I}\\Phi d\\mathbf{\\tau} \n",
      "  = \\frac{1}{2}\\sum_{\\mu=1}^A\\sum_{\\nu=1}^A \\langle \\mu\\nu|\\hat{v}|\\mu\\nu\\rangle_{AS}. \\label{H2Expectation2} \\tag{18}\n",
      "\\end{equation}\n",
      "$$"
     ]
    },
    {
     "cell_type": "markdown",
     "metadata": {},
     "source": [
      "Adding the contribution from the one-body operator $\\hat{H}_0$ to\n",
      "[(18)](#H2Expectation2) we obtain the energy functional"
     ]
    },
    {
     "cell_type": "markdown",
     "metadata": {},
     "source": [
      "<!-- Equation labels as ordinary links -->\n",
      "<div id=\"FunctionalEPhi\"></div>\n",
      "\n",
      "$$\n",
      "\\begin{equation}\n",
      "  E[\\Phi] \n",
      "  = \\sum_{\\mu=1}^A \\langle \\mu | h | \\mu \\rangle +\n",
      "  \\frac{1}{2}\\sum_{{\\mu}=1}^A\\sum_{{\\nu}=1}^A \\langle \\mu\\nu|\\hat{v}|\\mu\\nu\\rangle_{AS}. \\label{FunctionalEPhi} \\tag{19}\n",
      "\\end{equation}\n",
      "$$"
     ]
    },
    {
     "cell_type": "markdown",
     "metadata": {},
     "source": [
      "In our coordinate space derivations below we will spell out the Hartree-Fock equations in terms of their integrals.\n",
      "\n",
      "\n",
      "\n",
      "\n",
      "If we generalize the Euler-Lagrange equations to more variables \n",
      "and introduce $N^2$ Lagrange multipliers which we denote by \n",
      "$\\epsilon_{\\mu\\nu}$, we can write the variational equation for the functional of $E$"
     ]
    },
    {
     "cell_type": "markdown",
     "metadata": {},
     "source": [
      "$$\n",
      "\\delta E - \\sum_{\\mu\\nu}^A \\epsilon_{\\mu\\nu} \\delta\n",
      "  \\int \\psi_{\\mu}^* \\psi_{\\nu} = 0.\n",
      "$$"
     ]
    },
    {
     "cell_type": "markdown",
     "metadata": {},
     "source": [
      "For the orthogonal wave functions $\\psi_{i}$ this reduces to"
     ]
    },
    {
     "cell_type": "markdown",
     "metadata": {},
     "source": [
      "$$\n",
      "\\delta E - \\sum_{\\mu=1}^A \\epsilon_{\\mu} \\delta\n",
      "  \\int \\psi_{\\mu}^* \\psi_{\\mu} = 0.\n",
      "$$"
     ]
    },
    {
     "cell_type": "markdown",
     "metadata": {},
     "source": [
      "Variation with respect to the single-particle wave functions $\\psi_{\\mu}$ yields then"
     ]
    },
    {
     "cell_type": "markdown",
     "metadata": {},
     "source": [
      "1\n",
      "7\n",
      "6\n",
      " \n",
      "<\n",
      "<\n",
      "<\n",
      "!\n",
      "!\n",
      "M\n",
      "A\n",
      "T\n",
      "H\n",
      "_\n",
      "B\n",
      "L\n",
      "O\n",
      "C\n",
      "K"
     ]
    },
    {
     "cell_type": "markdown",
     "metadata": {},
     "source": [
      "$$\n",
      "\\sum_{\\mu=1}^A \\int \\psi_{\\mu}^*\\hat{h_0}(x_i)\\delta\\psi_{\\mu}\n",
      "  dx_i \n",
      "  + \\frac{1}{2}\\sum_{{\\mu}=1}^A\\sum_{{\\nu}=1}^A \\left[ \\int\n",
      "  \\psi_{\\mu}^*\\psi_{\\nu}^*\\hat{v}(r_{ij})\\delta\\psi_{\\mu}\\psi_{\\nu} dx_idx_j- \\int\n",
      "  \\psi_{\\mu}^*\\psi_{\\nu}^*\\hat{v}(r_{ij})\\psi_{\\nu}\\delta\\psi_{\\mu}\n",
      "  dx_idx_j \\right]-  \\sum_{{\\mu}=1}^A E_{\\mu} \\int \\delta\\psi_{\\mu}^*\n",
      "  \\psi_{\\mu}dx_i\n",
      "  -  \\sum_{{\\mu}=1}^A E_{\\mu} \\int \\psi_{\\mu}^*\n",
      "  \\delta\\psi_{\\mu}dx_i = 0.\n",
      "$$"
     ]
    },
    {
     "cell_type": "markdown",
     "metadata": {},
     "source": [
      "Although the variations $\\delta\\psi$ and $\\delta\\psi^*$ are not\n",
      "independent, they may in fact be treated as such, so that the \n",
      "terms dependent on either $\\delta\\psi$ and $\\delta\\psi^*$ individually \n",
      "may be set equal to zero. To see this, simply \n",
      "replace the arbitrary variation $\\delta\\psi$ by $i\\delta\\psi$, so that\n",
      "$\\delta\\psi^*$ is replaced by $-i\\delta\\psi^*$, and combine the two\n",
      "equations. We thus arrive at the Hartree-Fock equations"
     ]
    },
    {
     "cell_type": "markdown",
     "metadata": {},
     "source": [
      "<!-- Equation labels as ordinary links -->\n",
      "<div id=\"eq:hartreefockcoordinatespace\"></div>\n",
      "\n",
      "$$\n",
      "\\begin{equation}\n",
      "\\left[ -\\frac{1}{2}\\nabla_i^2+ \\sum_{\\nu=1}^A\\int \\psi_{\\nu}^*(x_j)\\hat{v}(r_{ij})\\psi_{\\nu}(x_j)dx_j \\right]\\psi_{\\mu}(x_i) - \\left[ \\sum_{{\\nu}=1}^A \\int\\psi_{\\nu}^*(x_j)\\hat{v}(r_{ij})\\psi_{\\mu}(x_j) dx_j\\right] \\psi_{\\nu}(x_i) = \\epsilon_{\\mu} \\psi_{\\mu}(x_i).  \\label{eq:hartreefockcoordinatespace} \\tag{20}\n",
      "\\end{equation}\n",
      "$$"
     ]
    },
    {
     "cell_type": "markdown",
     "metadata": {},
     "source": [
      "Notice that the integration $\\int dx_j$ implies an\n",
      "integration over the spatial coordinates $\\mathbf{r_j}$ and a summation\n",
      "over the spin-coordinate of fermion $j$. We note that the factor of $1/2$ in front of the sum involving the two-body interaction, has been removed. This is due to the fact that we need to vary both $\\delta\\psi_{\\mu}^*$ and\n",
      "$\\delta\\psi_{\\nu}^*$. Using the symmetry properties of the two-body interaction and interchanging $\\mu$ and $\\nu$\n",
      "as summation indices, we obtain two identical terms. \n",
      "\n",
      "\n",
      "\n",
      "\n",
      "The two first terms in the last equation are the one-body kinetic energy and the\n",
      "electron-nucleus potential. The third or *direct* term is the averaged electronic repulsion of the other\n",
      "electrons. As written, the\n",
      "term includes the *self-interaction* of \n",
      "electrons when $\\mu=\\nu$. The self-interaction is cancelled in the fourth\n",
      "term, or the *exchange* term. The exchange term results from our\n",
      "inclusion of the Pauli principle and the assumed determinantal form of\n",
      "the wave-function. Equation [(20)](#eq:hartreefockcoordinatespace), in addition to the kinetic energy and the attraction from the atomic nucleus that confines the motion of a single electron,   represents now the motion of a single-particle modified by the two-body interaction. The additional contribution to the Schroedinger equation due to the two-body interaction, represents a mean field set up by all the other bystanding electrons, the latter given by the sum over all single-particle states occupied by $N$ electrons. \n",
      "\n",
      "The Hartree-Fock equation is an example of an integro-differential equation. These equations involve repeated calculations of integrals, in addition to the solution of a set of coupled differential equations. \n",
      "The Hartree-Fock equations can also be rewritten in terms of an eigenvalue problem. The solution of an eigenvalue problem represents often a more practical algorithm and the  solution of  coupled  integro-differential equations.\n",
      "This alternative derivation of the Hartree-Fock equations is given below.\n",
      "\n",
      "\n",
      "\n",
      "\n",
      "## Analysis of Hartree-Fock equations in coordinate space\n",
      "\n",
      "  A theoretically convenient form of the\n",
      "Hartree-Fock equation is to regard the direct and exchange operator\n",
      "defined through"
     ]
    },
    {
     "cell_type": "markdown",
     "metadata": {},
     "source": [
      "$$\n",
      "V_{\\mu}^{d}(x_i) = \\int \\psi_{\\mu}^*(x_j) \n",
      " \\hat{v}(r_{ij})\\psi_{\\mu}(x_j) dx_j\n",
      "$$"
     ]
    },
    {
     "cell_type": "markdown",
     "metadata": {},
     "source": [
      "and"
     ]
    },
    {
     "cell_type": "markdown",
     "metadata": {},
     "source": [
      "$$\n",
      "V_{\\mu}^{ex}(x_i) g(x_i) \n",
      "  = \\left(\\int \\psi_{\\mu}^*(x_j) \n",
      " \\hat{v}(r_{ij})g(x_j) dx_j\n",
      "  \\right)\\psi_{\\mu}(x_i),\n",
      "$$"
     ]
    },
    {
     "cell_type": "markdown",
     "metadata": {},
     "source": [
      "respectively. \n",
      "\n",
      "\n",
      "\n",
      "The function $g(x_i)$ is an arbitrary function,\n",
      "and by the substitution $g(x_i) = \\psi_{\\nu}(x_i)$\n",
      "we get"
     ]
    },
    {
     "cell_type": "markdown",
     "metadata": {},
     "source": [
      "$$\n",
      "V_{\\mu}^{ex}(x_i) \\psi_{\\nu}(x_i) \n",
      "  = \\left(\\int \\psi_{\\mu}^*(x_j) \n",
      " \\hat{v}(r_{ij})\\psi_{\\nu}(x_j)\n",
      "  dx_j\\right)\\psi_{\\mu}(x_i).\n",
      "$$"
     ]
    },
    {
     "cell_type": "markdown",
     "metadata": {},
     "source": [
      "We may then rewrite the Hartree-Fock equations as"
     ]
    },
    {
     "cell_type": "markdown",
     "metadata": {},
     "source": [
      "$$\n",
      "\\hat{h}^{HF}(x_i) \\psi_{\\nu}(x_i) = \\epsilon_{\\nu}\\psi_{\\nu}(x_i),\n",
      "$$"
     ]
    },
    {
     "cell_type": "markdown",
     "metadata": {},
     "source": [
      "with"
     ]
    },
    {
     "cell_type": "markdown",
     "metadata": {},
     "source": [
      "$$\n",
      "\\hat{h}^{HF}(x_i)= \\hat{h}_0(x_i) + \\sum_{\\mu=1}^AV_{\\mu}^{d}(x_i) -\n",
      "  \\sum_{\\mu=1}^AV_{\\mu}^{ex}(x_i),\n",
      "$$"
     ]
    },
    {
     "cell_type": "markdown",
     "metadata": {},
     "source": [
      "and where $\\hat{h}_0(i)$ is the one-body part. The latter is normally chosen as a part which yields solutions in closed form. The harmonic oscilltor is a classical problem thereof.\n",
      "We normally rewrite the last equation as"
     ]
    },
    {
     "cell_type": "markdown",
     "metadata": {},
     "source": [
      "$$\n",
      "\\hat{h}^{HF}(x_i)= \\hat{h}_0(x_i) + \\hat{u}^{HF}(x_i).\n",
      "$$"
     ]
    },
    {
     "cell_type": "markdown",
     "metadata": {},
     "source": [
      "## Hartree-Fock by varying the coefficients of a wave function expansion\n",
      "\n",
      "Another possibility is to expand the single-particle functions in a known basis  and vary the coefficients, \n",
      "that is, the new single-particle wave function is written as a linear expansion\n",
      "in terms of a fixed chosen orthogonal basis (for example the well-known harmonic oscillator functions or the hydrogen-like functions etc).\n",
      "We define our new Hartree-Fock single-particle basis by performing a unitary transformation \n",
      "on our previous basis (labelled with greek indices) as"
     ]
    },
    {
     "cell_type": "markdown",
     "metadata": {},
     "source": [
      "<!-- Equation labels as ordinary links -->\n",
      "<div id=\"eq:newbasis\"></div>\n",
      "\n",
      "$$\n",
      "\\begin{equation}\n",
      "\\psi_p^{HF}  = \\sum_{\\lambda} C_{p\\lambda}\\phi_{\\lambda}. \\label{eq:newbasis} \\tag{21}\n",
      "\\end{equation}\n",
      "$$"
     ]
    },
    {
     "cell_type": "markdown",
     "metadata": {},
     "source": [
      "In this case we vary the coefficients $C_{p\\lambda}$. If the basis has infinitely many solutions, we need\n",
      "to truncate the above sum.  We assume that the basis $\\phi_{\\lambda}$ is orthogonal. A unitary transformation keeps the orthogonality, as discussed in exercise 1 below.  \n",
      "\n",
      "\n",
      "It is normal to choose a single-particle basis defined as the eigenfunctions\n",
      "of parts of the full Hamiltonian. The typical situation consists of the solutions of the one-body part of the Hamiltonian, that is we have"
     ]
    },
    {
     "cell_type": "markdown",
     "metadata": {},
     "source": [
      "$$\n",
      "\\hat{h}_0\\phi_{\\lambda}=\\epsilon_{\\lambda}\\phi_{\\lambda}.\n",
      "$$"
     ]
    },
    {
     "cell_type": "markdown",
     "metadata": {},
     "source": [
      "The single-particle wave functions $\\phi_{\\lambda}({\\bf r})$, defined by the quantum numbers $\\lambda$ and ${\\bf r}$\n",
      "are defined as the overlap"
     ]
    },
    {
     "cell_type": "markdown",
     "metadata": {},
     "source": [
      "$$\n",
      "\\phi_{\\lambda}({\\bf r})  = \\langle {\\bf r} | \\lambda \\rangle .\n",
      "$$"
     ]
    },
    {
     "cell_type": "markdown",
     "metadata": {},
     "source": [
      "In our discussions hereafter we will use our definitions of single-particle states above and below the Fermi ($F$) level given by the labels\n",
      "$ijkl\\dots \\le F$ for so-called single-hole states and $abcd\\dots > F$ for so-called particle states.\n",
      "For general single-particle states we employ the labels $pqrs\\dots$. \n",
      "\n",
      "\n",
      "\n",
      "\n",
      "In Eq. [(19)](#FunctionalEPhi), restated here"
     ]
    },
    {
     "cell_type": "markdown",
     "metadata": {},
     "source": [
      "$$\n",
      "E[\\Phi] \n",
      "  = \\sum_{\\mu=1}^A \\langle \\mu | h | \\mu \\rangle +\n",
      "  \\frac{1}{2}\\sum_{{\\mu}=1}^A\\sum_{{\\nu}=1}^A \\langle \\mu\\nu|\\hat{v}|\\mu\\nu\\rangle_{AS},\n",
      "$$"
     ]
    },
    {
     "cell_type": "markdown",
     "metadata": {},
     "source": [
      "we found the expression for the energy functional in terms of the basis function $\\phi_{\\lambda}({\\bf r})$. We then  varied the above energy functional with respect to the basis functions $|\\mu \\rangle$. \n",
      "Now we are interested in defining a new basis defined in terms of\n",
      "a chosen basis as defined in Eq. [(21)](#eq:newbasis). We can then rewrite the energy functional as"
     ]
    },
    {
     "cell_type": "markdown",
     "metadata": {},
     "source": [
      "<!-- Equation labels as ordinary links -->\n",
      "<div id=\"FunctionalEPhi2\"></div>\n",
      "\n",
      "$$\n",
      "\\begin{equation}\n",
      "  E[\\Phi^{HF}] \n",
      "  = \\sum_{i=1}^A \\langle i | h | i \\rangle +\n",
      "  \\frac{1}{2}\\sum_{ij=1}^A\\langle ij|\\hat{v}|ij\\rangle_{AS}, \\label{FunctionalEPhi2} \\tag{22}\n",
      "\\end{equation}\n",
      "$$"
     ]
    },
    {
     "cell_type": "markdown",
     "metadata": {},
     "source": [
      "where $\\Phi^{HF}$ is the new Slater determinant defined by the new basis of Eq. [(21)](#eq:newbasis). \n",
      "\n",
      "\n",
      "Using Eq. [(21)](#eq:newbasis) we can rewrite Eq. [(22)](#FunctionalEPhi2) as"
     ]
    },
    {
     "cell_type": "markdown",
     "metadata": {},
     "source": [
      "<!-- Equation labels as ordinary links -->\n",
      "<div id=\"FunctionalEPhi3\"></div>\n",
      "\n",
      "$$\n",
      "\\begin{equation}\n",
      "  E[\\Psi] \n",
      "  = \\sum_{i=1}^A \\sum_{\\alpha\\beta} C^*_{i\\alpha}C_{i\\beta}\\langle \\alpha | h | \\beta \\rangle +\n",
      "  \\frac{1}{2}\\sum_{ij=1}^A\\sum_{{\\alpha\\beta\\gamma\\delta}} C^*_{i\\alpha}C^*_{j\\beta}C_{i\\gamma}C_{j\\delta}\\langle \\alpha\\beta|\\hat{v}|\\gamma\\delta\\rangle_{AS}. \\label{FunctionalEPhi3} \\tag{23}\n",
      "\\end{equation}\n",
      "$$"
     ]
    },
    {
     "cell_type": "markdown",
     "metadata": {},
     "source": [
      "We wish now to minimize the above functional. We introduce again a set of Lagrange multipliers, noting that\n",
      "since $\\langle i | j \\rangle = \\delta_{i,j}$ and $\\langle \\alpha | \\beta \\rangle = \\delta_{\\alpha,\\beta}$, \n",
      "the coefficients $C_{i\\gamma}$ obey the relation"
     ]
    },
    {
     "cell_type": "markdown",
     "metadata": {},
     "source": [
      "$$\n",
      "\\langle i | j \\rangle=\\delta_{i,j}=\\sum_{\\alpha\\beta} C^*_{i\\alpha}C_{i\\beta}\\langle \\alpha | \\beta \\rangle=\n",
      "\\sum_{\\alpha} C^*_{i\\alpha}C_{i\\alpha},\n",
      "$$"
     ]
    },
    {
     "cell_type": "markdown",
     "metadata": {},
     "source": [
      "which allows us to define a functional to be minimized that reads"
     ]
    },
    {
     "cell_type": "markdown",
     "metadata": {},
     "source": [
      "$$\n",
      "\\begin{equation}\n",
      "  F[\\Phi^{HF}]=E[\\Phi^{HF}] - \\sum_{i=1}^A\\epsilon_i\\sum_{\\alpha} C^*_{i\\alpha}C_{i\\alpha}.\n",
      "\\end{equation}\n",
      "$$"
     ]
    },
    {
     "cell_type": "markdown",
     "metadata": {},
     "source": [
      "Minimizing with respect to $C^*_{i\\alpha}$, remembering that the equations for $C^*_{i\\alpha}$ and $C_{i\\alpha}$\n",
      "can be written as two  independent equations, we obtain"
     ]
    },
    {
     "cell_type": "markdown",
     "metadata": {},
     "source": [
      "$$\n",
      "\\frac{d}{dC^*_{i\\alpha}}\\left[  E[\\Phi^{HF}] - \\sum_{j}\\epsilon_j\\sum_{\\alpha} C^*_{j\\alpha}C_{j\\alpha}\\right]=0,\n",
      "$$"
     ]
    },
    {
     "cell_type": "markdown",
     "metadata": {},
     "source": [
      "which yields for every single-particle state $i$ and index $\\alpha$ (recalling that the coefficients $C_{i\\alpha}$ are matrix elements of a unitary (or orthogonal for a real symmetric matrix) matrix)\n",
      "the following Hartree-Fock equations"
     ]
    },
    {
     "cell_type": "markdown",
     "metadata": {},
     "source": [
      "$$\n",
      "\\sum_{\\beta} C_{i\\beta}\\langle \\alpha | h | \\beta \\rangle+\n",
      "\\sum_{j=1}^A\\sum_{\\beta\\gamma\\delta} C^*_{j\\beta}C_{j\\delta}C_{i\\gamma}\\langle \\alpha\\beta|\\hat{v}|\\gamma\\delta\\rangle_{AS}=\\epsilon_i^{HF}C_{i\\alpha}.\n",
      "$$"
     ]
    },
    {
     "cell_type": "markdown",
     "metadata": {},
     "source": [
      "We can rewrite this equation as (changing dummy variables)"
     ]
    },
    {
     "cell_type": "markdown",
     "metadata": {},
     "source": [
      "$$\n",
      "\\sum_{\\beta} \\left\\{\\langle \\alpha | h | \\beta \\rangle+\n",
      "\\sum_{j}^A\\sum_{\\gamma\\delta} C^*_{j\\gamma}C_{j\\delta}\\langle \\alpha\\gamma|\\hat{v}|\\beta\\delta\\rangle_{AS}\\right\\}C_{i\\beta}=\\epsilon_i^{HF}C_{i\\alpha}.\n",
      "$$"
     ]
    },
    {
     "cell_type": "markdown",
     "metadata": {},
     "source": [
      "Note that the sums over greek indices run over the number of basis set functions (in principle an infinite number).\n",
      "\n",
      "Defining"
     ]
    },
    {
     "cell_type": "markdown",
     "metadata": {},
     "source": [
      "$$\n",
      "h_{\\alpha\\beta}^{HF}=\\langle \\alpha | h | \\beta \\rangle+\n",
      "\\sum_{j=1}^A\\sum_{\\gamma\\delta} C^*_{j\\gamma}C_{j\\delta}\\langle \\alpha\\gamma|\\hat{v}|\\beta\\delta\\rangle_{AS},\n",
      "$$"
     ]
    },
    {
     "cell_type": "markdown",
     "metadata": {},
     "source": [
      "we can rewrite the new equations as"
     ]
    },
    {
     "cell_type": "markdown",
     "metadata": {},
     "source": [
      "<!-- Equation labels as ordinary links -->\n",
      "<div id=\"eq:newhf\"></div>\n",
      "\n",
      "$$\n",
      "\\begin{equation}\n",
      "\\sum_{\\gamma}h_{\\alpha\\beta}^{HF}C_{i\\beta}=\\epsilon_i^{HF}C_{i\\alpha}. \\label{eq:newhf} \\tag{24}\n",
      "\\end{equation}\n",
      "$$"
     ]
    },
    {
     "cell_type": "markdown",
     "metadata": {},
     "source": [
      "The latter is nothing but a standard eigenvalue problem. Compared with Eq. [(20)](#eq:hartreefockcoordinatespace),\n",
      "we see that we do not need to compute any integrals in an iterative procedure for solving the equations.\n",
      "It suffices to tabulate the matrix elements $\\langle \\alpha | h | \\beta \\rangle$ and $\\langle \\alpha\\gamma|\\hat{v}|\\beta\\delta\\rangle_{AS}$ once and for all. Successive iterations require thus only a look-up in tables over one-body and two-body matrix elements. These details will be discussed below when we solve the Hartree-Fock equations numerical. \n",
      "\n",
      "\n",
      "\n",
      "Our Hartree-Fock matrix  is thus"
     ]
    },
    {
     "cell_type": "markdown",
     "metadata": {},
     "source": [
      "$$\n",
      "\\hat{h}_{\\alpha\\beta}^{HF}=\\langle \\alpha | \\hat{h}_0 | \\beta \\rangle+\n",
      "\\sum_{j=1}^A\\sum_{\\gamma\\delta} C^*_{j\\gamma}C_{j\\delta}\\langle \\alpha\\gamma|\\hat{v}|\\beta\\delta\\rangle_{AS}.\n",
      "$$"
     ]
    },
    {
     "cell_type": "markdown",
     "metadata": {},
     "source": [
      "The Hartree-Fock equations are solved in an iterative waym starting with a guess for the coefficients $C_{j\\gamma}=\\delta_{j,\\gamma}$ and solving the equations by diagonalization till the new single-particle energies\n",
      "$\\epsilon_i^{\\mathrm{HF}}$ do not change anymore by a prefixed quantity. \n",
      "\n",
      "\n",
      "\n",
      "Normally we assume that the single-particle basis $|\\beta\\rangle$ forms an eigenbasis for the operator\n",
      "$\\hat{h}_0$, meaning that the Hartree-Fock matrix becomes"
     ]
    },
    {
     "cell_type": "markdown",
     "metadata": {},
     "source": [
      "$$\n",
      "\\hat{h}_{\\alpha\\beta}^{HF}=\\epsilon_{\\alpha}\\delta_{\\alpha,\\beta}+\n",
      "\\sum_{j=1}^A\\sum_{\\gamma\\delta} C^*_{j\\gamma}C_{j\\delta}\\langle \\alpha\\gamma|\\hat{v}|\\beta\\delta\\rangle_{AS}.\n",
      "$$"
     ]
    },
    {
     "cell_type": "markdown",
     "metadata": {},
     "source": [
      "The Hartree-Fock eigenvalue problem"
     ]
    },
    {
     "cell_type": "markdown",
     "metadata": {},
     "source": [
      "$$\n",
      "\\sum_{\\beta}\\hat{h}_{\\alpha\\beta}^{HF}C_{i\\beta}=\\epsilon_i^{\\mathrm{HF}}C_{i\\alpha},\n",
      "$$"
     ]
    },
    {
     "cell_type": "markdown",
     "metadata": {},
     "source": [
      "can be written out in a more compact form as"
     ]
    },
    {
     "cell_type": "markdown",
     "metadata": {},
     "source": [
      "$$\n",
      "\\hat{h}^{HF}\\hat{C}=\\epsilon^{\\mathrm{HF}}\\hat{C}.\n",
      "$$"
     ]
    },
    {
     "cell_type": "markdown",
     "metadata": {},
     "source": [
      "## Hartree-Fock algorithm\n",
      "\n",
      "The Hartree-Fock equations are, in their simplest form, solved in an iterative way, starting with a guess for the\n",
      "coefficients $C_{i\\alpha}$. We label the coefficients as $C_{i\\alpha}^{(n)}$, where the subscript $n$ stands for iteration $n$.\n",
      "To set up the algorithm we can proceed as follows:\n",
      "\n",
      " * We start with a guess $C_{i\\alpha}^{(0)}=\\delta_{i,\\alpha}$. Alternatively, we could have used random starting values as long as the vectors are normalized. Another possibility is to give states below the Fermi level a larger weight.\n",
      "\n",
      " * The Hartree-Fock matrix simplifies then to (assuming that the coefficients $C_{i\\alpha} $  are real)"
     ]
    },
    {
     "cell_type": "markdown",
     "metadata": {},
     "source": [
      "$$\n",
      "\\hat{h}_{\\alpha\\beta}^{HF}=\\epsilon_{\\alpha}\\delta_{\\alpha,\\beta}+\n",
      "\\sum_{j = 1}^A\\sum_{\\gamma\\delta} C_{j\\gamma}^{(0)}C_{j\\delta}^{(0)}\\langle \\alpha\\gamma|\\hat{v}|\\beta\\delta\\rangle_{AS}.\n",
      "$$"
     ]
    },
    {
     "cell_type": "markdown",
     "metadata": {},
     "source": [
      "Solving the Hartree-Fock eigenvalue problem yields then new eigenvectors $C_{i\\alpha}^{(1)}$ and eigenvalues\n",
      "$\\epsilon_i^{HF(1)}$. \n",
      " * With the new eigenvalues we can set up a new Hartree-Fock potential"
     ]
    },
    {
     "cell_type": "markdown",
     "metadata": {},
     "source": [
      "$$\n",
      "\\sum_{j = 1}^A\\sum_{\\gamma\\delta} C_{j\\gamma}^{(1)}C_{j\\delta}^{(1)}\\langle \\alpha\\gamma|\\hat{v}|\\beta\\delta\\rangle_{AS}.\n",
      "$$"
     ]
    },
    {
     "cell_type": "markdown",
     "metadata": {},
     "source": [
      "The diagonalization with the new Hartree-Fock potential yields new eigenvectors and eigenvalues.\n",
      "This process is continued till for example"
     ]
    },
    {
     "cell_type": "markdown",
     "metadata": {},
     "source": [
      "$$\n",
      "\\frac{\\sum_{p} |\\epsilon_i^{(n)}-\\epsilon_i^{(n-1)}|}{m} \\le \\lambda,\n",
      "$$"
     ]
    },
    {
     "cell_type": "markdown",
     "metadata": {},
     "source": [
      "where $\\lambda$ is a user prefixed quantity ($\\lambda \\sim 10^{-8}$ or smaller) and $p$ runs over all calculated single-particle\n",
      "energies and $m$ is the number of single-particle states.\n",
      "\n",
      "\n",
      "\n",
      "## Analysis of Hartree-Fock equations and Koopman's theorem\n",
      "\n",
      "We can rewrite the ground state energy by adding and subtracting $\\hat{u}^{HF}(x_i)$"
     ]
    },
    {
     "cell_type": "markdown",
     "metadata": {},
     "source": [
      "$$\n",
      "E_0^{HF} =\\langle \\Phi_0 | \\hat{H} | \\Phi_0\\rangle = \n",
      "\\sum_{i\\le F}^A \\langle i | \\hat{h}_0 +\\hat{u}^{HF}| j\\rangle+ \\frac{1}{2}\\sum_{i\\le F}^A\\sum_{j \\le F}^A\\left[\\langle ij |\\hat{v}|ij \\rangle-\\langle ij|\\hat{v}|ji\\rangle\\right]-\\sum_{i\\le F}^A \\langle i |\\hat{u}^{HF}| i\\rangle,\n",
      "$$"
     ]
    },
    {
     "cell_type": "markdown",
     "metadata": {},
     "source": [
      "which results in"
     ]
    },
    {
     "cell_type": "markdown",
     "metadata": {},
     "source": [
      "$$\n",
      "E_0^{HF}\n",
      "  = \\sum_{i\\le F}^A \\varepsilon_i^{HF} + \\frac{1}{2}\\sum_{i\\le F}^A\\sum_{j \\le F}^A\\left[\\langle ij |\\hat{v}|ij \\rangle-\\langle ij|\\hat{v}|ji\\rangle\\right]-\\sum_{i\\le F}^A \\langle i |\\hat{u}^{HF}| i\\rangle.\n",
      "$$"
     ]
    },
    {
     "cell_type": "markdown",
     "metadata": {},
     "source": [
      "Our single-particle states $ijk\\dots$ are now single-particle states obtained from the solution of the Hartree-Fock equations.\n",
      "\n",
      "\n",
      "Using our definition of the Hartree-Fock single-particle energies we obtain then the following expression for the total ground-state energy"
     ]
    },
    {
     "cell_type": "markdown",
     "metadata": {},
     "source": [
      "$$\n",
      "E_0^{HF}\n",
      "  = \\sum_{i\\le F}^A \\varepsilon_i - \\frac{1}{2}\\sum_{i\\le F}^A\\sum_{j \\le F}^A\\left[\\langle ij |\\hat{v}|ij \\rangle-\\langle ij|\\hat{v}|ji\\rangle\\right].\n",
      "$$"
     ]
    },
    {
     "cell_type": "markdown",
     "metadata": {},
     "source": [
      "This form will be used in our discussion of Koopman's theorem.\n",
      "\n",
      "\n",
      "We have"
     ]
    },
    {
     "cell_type": "markdown",
     "metadata": {},
     "source": [
      "$$\n",
      "E[\\Phi^{\\mathrm{HF}}(N)] \n",
      "  = \\sum_{i=1}^H \\langle i | \\hat{h}_0 | i \\rangle +\n",
      "  \\frac{1}{2}\\sum_{ij=1}^N\\langle ij|\\hat{v}|ij\\rangle_{AS},\n",
      "$$"
     ]
    },
    {
     "cell_type": "markdown",
     "metadata": {},
     "source": [
      "where $\\Phi^{\\mathrm{HF}}(N)$ is the new Slater determinant defined by the new basis of Eq. [(21)](#eq:newbasis)\n",
      "for $N$ electrons (same $Z$).  If we assume that the single-particle wave functions in the new basis do not change \n",
      "when we remove one electron or add one electron, we can then define the corresponding energy for the $N-1$ systems as"
     ]
    },
    {
     "cell_type": "markdown",
     "metadata": {},
     "source": [
      "$$\n",
      "E[\\Phi^{\\mathrm{HF}}(N-1)] \n",
      "  = \\sum_{i=1; i\\ne k}^N \\langle i | \\hat{h}_0 | i \\rangle +\n",
      "  \\frac{1}{2}\\sum_{ij=1;i,j\\ne k}^N\\langle ij|\\hat{v}|ij\\rangle_{AS},\n",
      "$$"
     ]
    },
    {
     "cell_type": "markdown",
     "metadata": {},
     "source": [
      "where we have removed a single-particle state $k\\le F$, that is a state below the Fermi level.  \n",
      "\n",
      "\n",
      "Calculating the difference"
     ]
    },
    {
     "cell_type": "markdown",
     "metadata": {},
     "source": [
      "$$\n",
      "E[\\Phi^{\\mathrm{HF}}(N)]-   E[\\Phi^{\\mathrm{HF}}(N-1)] = \\langle k | \\hat{h}_0 | k \\rangle +\n",
      "  \\frac{1}{2}\\sum_{i=1;i\\ne k}^N\\langle ik|\\hat{v}|ik\\rangle_{AS}  \\frac{1}{2}\\sum_{j=1;j\\ne k}^N\\langle kj|\\hat{v}|kj\\rangle_{AS},\n",
      "$$"
     ]
    },
    {
     "cell_type": "markdown",
     "metadata": {},
     "source": [
      "we obtain"
     ]
    },
    {
     "cell_type": "markdown",
     "metadata": {},
     "source": [
      "$$\n",
      "E[\\Phi^{\\mathrm{HF}}(N)]-   E[\\Phi^{\\mathrm{HF}}(N-1)] = \\langle k | \\hat{h}_0 | k \\rangle +\n",
      "  \\frac{1}{2}\\sum_{j=1}^N\\langle kj|\\hat{v}|kj\\rangle_{AS}\n",
      "$$"
     ]
    },
    {
     "cell_type": "markdown",
     "metadata": {},
     "source": [
      "which is just our definition of the Hartree-Fock single-particle energy"
     ]
    },
    {
     "cell_type": "markdown",
     "metadata": {},
     "source": [
      "$$\n",
      "E[\\Phi^{\\mathrm{HF}}(N)]-   E[\\Phi^{\\mathrm{HF}}(N-1)] = \\epsilon_k^{\\mathrm{HF}}\n",
      "$$"
     ]
    },
    {
     "cell_type": "markdown",
     "metadata": {},
     "source": [
      "Similarly, we can now compute the difference (we label the single-particle states above the Fermi level as $abcd > F$)"
     ]
    },
    {
     "cell_type": "markdown",
     "metadata": {},
     "source": [
      "$$\n",
      "E[\\Phi^{\\mathrm{HF}}(N+1)]-   E[\\Phi^{\\mathrm{HF}}(N)]= \\epsilon_a^{\\mathrm{HF}}.\n",
      "$$"
     ]
    },
    {
     "cell_type": "markdown",
     "metadata": {},
     "source": [
      "These two equations can thus be used to the electron affinity or ionization energies, respectively. \n",
      "Koopman's theorem states that for example the ionization energy of a closed-shell system is given by the energy of the highest occupied single-particle state.  If we assume that changing the number of electrons from $N$ to $N+1$ does not change the Hartree-Fock single-particle energies and eigenfunctions, then Koopman's theorem simply states that the ionization energy of an atom is given by the single-particle energy of the last bound state. In a similar way, we can also define the electron affinities. \n",
      "\n",
      "\n",
      "\n",
      "As an example, consider a simple model for atomic sodium, Na. Neutral sodium has eleven electrons, \n",
      "with the weakest bound one being confined the $3s$ single-particle quantum numbers. The energy needed to remove an electron from neutral sodium is rather small, 5.1391 eV, a feature which pertains to all alkali metals.\n",
      "Having performed a  Hartree-Fock calculation for neutral sodium would then allows us to compute the\n",
      "ionization energy by using the single-particle energy for the $3s$ states, namely $\\epsilon_{3s}^{\\mathrm{HF}}$. \n",
      "\n",
      "From these considerations, we see that Hartree-Fock theory allows us to make a connection between experimental \n",
      "observables (here ionization and affinity energies) and the underlying interactions between particles.  \n",
      "In this sense, we are now linking the dynamics and structure of a many-body system with the laws of motion which govern the system. Our approach is a reductionistic one, meaning that we want to understand the laws of motion \n",
      "in terms of the particles or degrees of freedom which we believe are the fundamental ones. Our Slater determinant, being constructed as the product of various single-particle functions, follows this philosophy.\n",
      "\n",
      "\n",
      "With similar arguments as in atomic physics, we can now use Hartree-Fock theory to make a link\n",
      "between nuclear forces and separation energies. Changing to nuclear system, we define"
     ]
    },
    {
     "cell_type": "markdown",
     "metadata": {},
     "source": [
      "$$\n",
      "E[\\Phi^{\\mathrm{HF}}(A)] \n",
      "  = \\sum_{i=1}^A \\langle i | \\hat{h}_0 | i \\rangle +\n",
      "  \\frac{1}{2}\\sum_{ij=1}^A\\langle ij|\\hat{v}|ij\\rangle_{AS},\n",
      "$$"
     ]
    },
    {
     "cell_type": "markdown",
     "metadata": {},
     "source": [
      "where $\\Phi^{\\mathrm{HF}}(A)$ is the new Slater determinant defined by the new basis of Eq. [(21)](#eq:newbasis)\n",
      "for $A$ nucleons, where $A=N+Z$, with $N$ now being the number of neutrons and $Z$ th enumber of protons.  If we assume again that the single-particle wave functions in the new basis do not change from a nucleus with $A$ nucleons to a nucleus with $A-1$  nucleons, we can then define the corresponding energy for the $A-1$ systems as"
     ]
    },
    {
     "cell_type": "markdown",
     "metadata": {},
     "source": [
      "$$\n",
      "E[\\Phi^{\\mathrm{HF}}(A-1)] \n",
      "  = \\sum_{i=1; i\\ne k}^A \\langle i | \\hat{h}_0 | i \\rangle +\n",
      "  \\frac{1}{2}\\sum_{ij=1;i,j\\ne k}^A\\langle ij|\\hat{v}|ij\\rangle_{AS},\n",
      "$$"
     ]
    },
    {
     "cell_type": "markdown",
     "metadata": {},
     "source": [
      "where we have removed a single-particle state $k\\le F$, that is a state below the Fermi level.  \n",
      "\n",
      "\n",
      "Calculating the difference"
     ]
    },
    {
     "cell_type": "markdown",
     "metadata": {},
     "source": [
      "$$\n",
      "E[\\Phi^{\\mathrm{HF}}(A)]-   E[\\Phi^{\\mathrm{HF}}(A-1)] \n",
      "  = \\langle k | \\hat{h}_0 | k \\rangle +\n",
      "  \\frac{1}{2}\\sum_{i=1;i\\ne k}^A\\langle ik|\\hat{v}|ik\\rangle_{AS}  \\frac{1}{2}\\sum_{j=1;j\\ne k}^A\\langle kj|\\hat{v}|kj\\rangle_{AS},\n",
      "$$"
     ]
    },
    {
     "cell_type": "markdown",
     "metadata": {},
     "source": [
      "which becomes"
     ]
    },
    {
     "cell_type": "markdown",
     "metadata": {},
     "source": [
      "$$\n",
      "E[\\Phi^{\\mathrm{HF}}(A)]-   E[\\Phi^{\\mathrm{HF}}(A-1)] \n",
      "  = \\langle k | \\hat{h}_0 | k \\rangle +\n",
      "  \\frac{1}{2}\\sum_{j=1}^A\\langle kj|\\hat{v}|kj\\rangle_{AS}\n",
      "$$"
     ]
    },
    {
     "cell_type": "markdown",
     "metadata": {},
     "source": [
      "which is just our definition of the Hartree-Fock single-particle energy"
     ]
    },
    {
     "cell_type": "markdown",
     "metadata": {},
     "source": [
      "$$\n",
      "E[\\Phi^{\\mathrm{HF}}(A)]-   E[\\Phi^{\\mathrm{HF}}(A-1)] \n",
      "  = \\epsilon_k^{\\mathrm{HF}}\n",
      "$$"
     ]
    },
    {
     "cell_type": "markdown",
     "metadata": {},
     "source": [
      "Similarly, we can now compute the difference (recall that the single-particle states $abcd > F$)"
     ]
    },
    {
     "cell_type": "markdown",
     "metadata": {},
     "source": [
      "$$\n",
      "E[\\Phi^{\\mathrm{HF}}(A+1)]-   E[\\Phi^{\\mathrm{HF}}(A)]= \\epsilon_a^{\\mathrm{HF}}.\n",
      "$$"
     ]
    },
    {
     "cell_type": "markdown",
     "metadata": {},
     "source": [
      "If we then recall that the binding energy differences"
     ]
    },
    {
     "cell_type": "markdown",
     "metadata": {},
     "source": [
      "$$\n",
      "BE(A)-BE(A-1) \\hspace{0.5cm} \\mathrm{and} \\hspace{0.5cm} BE(A+1)-BE(A),\n",
      "$$"
     ]
    },
    {
     "cell_type": "markdown",
     "metadata": {},
     "source": [
      "define the separation energies, we see that the Hartree-Fock single-particle energies can be used to\n",
      "define separation energies. We have thus our first link between nuclear forces (included in the potential energy term) and an observable quantity defined by differences in binding energies. \n",
      "\n",
      "\n",
      "We have thus the following interpretations (if the single-particle field do not change)"
     ]
    },
    {
     "cell_type": "markdown",
     "metadata": {},
     "source": [
      "$$\n",
      "BE(A)-BE(A-1)\\approx  E[\\Phi^{\\mathrm{HF}}(A)]-   E[\\Phi^{\\mathrm{HF}}(A-1)] \n",
      "  = \\epsilon_k^{\\mathrm{HF}},\n",
      "$$"
     ]
    },
    {
     "cell_type": "markdown",
     "metadata": {},
     "source": [
      "and"
     ]
    },
    {
     "cell_type": "markdown",
     "metadata": {},
     "source": [
      "$$\n",
      "BE(A+1)-BE(A)\\approx  E[\\Phi^{\\mathrm{HF}}(A+1)]-   E[\\Phi^{\\mathrm{HF}}(A)] =  \\epsilon_a^{\\mathrm{HF}}.\n",
      "$$"
     ]
    },
    {
     "cell_type": "markdown",
     "metadata": {},
     "source": [
      "If  we use ${}^{16}\\mbox{O}$ as our closed-shell nucleus, we could then interpret the separation energy"
     ]
    },
    {
     "cell_type": "markdown",
     "metadata": {},
     "source": [
      "$$\n",
      "BE(^{16}\\mathrm{O})-BE(^{15}\\mathrm{O})\\approx \\epsilon_{0p^{\\nu}_{1/2}}^{\\mathrm{HF}},\n",
      "$$"
     ]
    },
    {
     "cell_type": "markdown",
     "metadata": {},
     "source": [
      "and"
     ]
    },
    {
     "cell_type": "markdown",
     "metadata": {},
     "source": [
      "$$\n",
      "BE(^{16}\\mathrm{O})-BE(^{15}\\mathrm{N})\\approx \\epsilon_{0p^{\\pi}_{1/2}}^{\\mathrm{HF}}.\n",
      "$$"
     ]
    },
    {
     "cell_type": "markdown",
     "metadata": {},
     "source": [
      "Similalry, we could interpret"
     ]
    },
    {
     "cell_type": "markdown",
     "metadata": {},
     "source": [
      "$$\n",
      "BE(^{17}\\mathrm{O})-BE(^{16}\\mathrm{O})\\approx \\epsilon_{0d^{\\nu}_{5/2}}^{\\mathrm{HF}},\n",
      "$$"
     ]
    },
    {
     "cell_type": "markdown",
     "metadata": {},
     "source": [
      "and"
     ]
    },
    {
     "cell_type": "markdown",
     "metadata": {},
     "source": [
      "$$\n",
      "BE(^{17}\\mathrm{F})-BE(^{16}\\mathrm{O})\\approx\\epsilon_{0d^{\\pi}_{5/2}}^{\\mathrm{HF}}.\n",
      "$$"
     ]
    },
    {
     "cell_type": "markdown",
     "metadata": {},
     "source": [
      "We can continue like this for all $A\\pm 1$ nuclei where $A$ is a good closed-shell (or subshell closure)\n",
      "nucleus. Examples are ${}^{22}\\mbox{O}$, ${}^{24}\\mbox{O}$, ${}^{40}\\mbox{Ca}$, ${}^{48}\\mbox{Ca}$, ${}^{52}\\mbox{Ca}$, ${}^{54}\\mbox{Ca}$, ${}^{56}\\mbox{Ni}$, \n",
      "${}^{68}\\mbox{Ni}$, ${}^{78}\\mbox{Ni}$, ${}^{90}\\mbox{Zr}$, ${}^{88}\\mbox{Sr}$, ${}^{100}\\mbox{Sn}$, ${}^{132}\\mbox{Sn}$ and ${}^{208}\\mbox{Pb}$, to mention some possile cases.\n",
      "\n",
      "\n",
      "We can thus make our first interpretation of the separation energies in terms of the simplest\n",
      "possible many-body theory. \n",
      "If we also recall that the so-called energy gap for neutrons (or protons) is defined as"
     ]
    },
    {
     "cell_type": "markdown",
     "metadata": {},
     "source": [
      "$$\n",
      "\\Delta S_n= 2BE(N,Z)-BE(N-1,Z)-BE(N+1,Z),\n",
      "$$"
     ]
    },
    {
     "cell_type": "markdown",
     "metadata": {},
     "source": [
      "for neutrons and the corresponding gap for protons"
     ]
    },
    {
     "cell_type": "markdown",
     "metadata": {},
     "source": [
      "$$\n",
      "\\Delta S_p= 2BE(N,Z)-BE(N,Z-1)-BE(N,Z+1),\n",
      "$$"
     ]
    },
    {
     "cell_type": "markdown",
     "metadata": {},
     "source": [
      "we can define the neutron and proton energy gaps for ${}^{16}\\mbox{O}$ as"
     ]
    },
    {
     "cell_type": "markdown",
     "metadata": {},
     "source": [
      "$$\n",
      "\\Delta S_{\\nu}=\\epsilon_{0d^{\\nu}_{5/2}}^{\\mathrm{HF}}-\\epsilon_{0p^{\\nu}_{1/2}}^{\\mathrm{HF}},\n",
      "$$"
     ]
    },
    {
     "cell_type": "markdown",
     "metadata": {},
     "source": [
      "and"
     ]
    },
    {
     "cell_type": "markdown",
     "metadata": {},
     "source": [
      "$$\n",
      "\\Delta S_{\\pi}=\\epsilon_{0d^{\\pi}_{5/2}}^{\\mathrm{HF}}-\\epsilon_{0p^{\\pi}_{1/2}}^{\\mathrm{HF}}.\n",
      "$$"
     ]
    },
    {
     "cell_type": "markdown",
     "metadata": {},
     "source": [
      "<!-- --- begin exercise --- -->\n",
      "\n",
      "### Exercise 5: Derivation of Hartree-Fock equations\n",
      "\n",
      "Consider a Slater determinant built up of single-particle orbitals $\\psi_{\\lambda}$, \n",
      "with $\\lambda = 1,2,\\dots,N$.\n",
      "\n",
      "The unitary transformation"
     ]
    },
    {
     "cell_type": "markdown",
     "metadata": {},
     "source": [
      "$$\n",
      "\\psi_a  = \\sum_{\\lambda} C_{a\\lambda}\\phi_{\\lambda},\n",
      "$$"
     ]
    },
    {
     "cell_type": "markdown",
     "metadata": {},
     "source": [
      "brings us into the new basis.  \n",
      "The new basis has quantum numbers $a=1,2,\\dots,N$.\n",
      "\n",
      "\n",
      "**a)**\n",
      "Show that the new basis is orthonormal.\n",
      "\n",
      "**b)**\n",
      "Show that the new Slater determinant constructed from the new single-particle wave functions can be\n",
      "written as the determinant based on the previous basis and the determinant of the matrix $C$.\n",
      "\n",
      "**c)**\n",
      "Show that the old and the new Slater determinants are equal up to a complex constant with absolute value unity.\n",
      "\n",
      "<!-- --- begin hint in exercise --- -->\n",
      "\n",
      "**Hint.**\n",
      "Hint, $C$ is a unitary matrix.\n",
      "\n",
      "<!-- --- end hint in exercise --- -->\n",
      "\n",
      "\n",
      "\n",
      "<!-- --- end exercise --- -->\n",
      "\n",
      "\n",
      "\n",
      "\n",
      "<!-- --- begin exercise --- -->\n",
      "\n",
      "### Exercise 6: Derivation of Hartree-Fock equations\n",
      "\n",
      "Consider the  Slater  determinant"
     ]
    },
    {
     "cell_type": "markdown",
     "metadata": {},
     "source": [
      "$$\n",
      "\\Phi_{0}=\\frac{1}{\\sqrt{n!}}\\sum_{p}(-)^{p}P\n",
      "\\prod_{i=1}^{n}\\psi_{\\alpha_{i}}(x_{i}).\n",
      "$$"
     ]
    },
    {
     "cell_type": "markdown",
     "metadata": {},
     "source": [
      "A small variation in this function is given by"
     ]
    },
    {
     "cell_type": "markdown",
     "metadata": {},
     "source": [
      "$$\n",
      "\\delta\\Phi_{0}=\\frac{1}{\\sqrt{n!}}\\sum_{p}(-)^{p}P\n",
      "\\psi_{\\alpha_{1}}(x_{1})\\psi_{\\alpha_{2}}(x_{2})\\dots\n",
      "\\psi_{\\alpha_{i-1}}(x_{i-1})(\\delta\\psi_{\\alpha_{i}}(x_{i}))\n",
      "\\psi_{\\alpha_{i+1}}(x_{i+1})\\dots\\psi_{\\alpha_{n}}(x_{n}).\n",
      "$$"
     ]
    },
    {
     "cell_type": "markdown",
     "metadata": {},
     "source": [
      "**a)**\n",
      "Show that"
     ]
    },
    {
     "cell_type": "markdown",
     "metadata": {},
     "source": [
      "$$\n",
      "\\langle \\delta\\Phi_{0}|\\sum_{i=1}^{n}\\left\\{t(x_{i})+u(x_{i})\n",
      "\\right\\}+\\frac{1}{2}\n",
      "\\sum_{i\\neq j=1}^{n}v(x_{i},x_{j})|\\Phi_{0}\\rangle  =\\sum_{i=1}^{n}\\langle \\delta\\psi_{\\alpha_{i}}|\\hat{t}+\\hat{u}\n",
      "|\\phi_{\\alpha_{i}}\\rangle\n",
      "$$"
     ]
    },
    {
     "cell_type": "markdown",
     "metadata": {},
     "source": [
      "$$\n",
      "+\\sum_{i\\neq j=1}^{n}\\left\\{\\langle\\delta\\psi_{\\alpha_{i}}\n",
      "\\psi_{\\alpha_{j}}|\\hat{v}|\\psi_{\\alpha_{i}}\\psi_{\\alpha_{j}}\\rangle-\n",
      "\\langle\\delta\\psi_{\\alpha_{i}}\\psi_{\\alpha_{j}}|\\hat{v}\n",
      "|\\psi_{\\alpha_{j}}\\psi_{\\alpha_{i}}\\rangle\\right\\}\n",
      "$$"
     ]
    },
    {
     "cell_type": "markdown",
     "metadata": {},
     "source": [
      "<!-- --- end exercise --- -->\n",
      "\n",
      "\n",
      "# Second quantization\n",
      "<div id=\"ch:squant\"></div>\n",
      "\n",
      "\n",
      "## Second quantization\n",
      "* Second quantization and operators, two-body operator with examples \n",
      "\n",
      "* Wick's theorem (missing in html and ipython notebook but in pdf files)\n",
      "\n",
      "* Thouless' theorem and analysis of the Hartree-Fock equations using second quantization\n",
      "\n",
      "* Examples on how to use bit representations for Slater determinants\n",
      "\n",
      "* TO DO: add material about Wick's theorem and diagrammatic representation\n",
      "\n",
      "* TO DO: Link determinantal analysis with Thouless' theorem\n",
      "\n",
      "We introduce the time-independent  operators\n",
      "$a_\\alpha^{\\dagger}$ and $a_\\alpha$   which create and annihilate, respectively, a particle \n",
      "in the single-particle state \n",
      "$\\varphi_\\alpha$. \n",
      "We define the fermion creation operator\n",
      "$a_\\alpha^{\\dagger}$"
     ]
    },
    {
     "cell_type": "markdown",
     "metadata": {},
     "source": [
      "<!-- Equation labels as ordinary links -->\n",
      "<div id=\"eq:2-1a\"></div>\n",
      "\n",
      "$$\n",
      "\\begin{equation}\n",
      "\ta_\\alpha^{\\dagger}|0\\rangle \\equiv  |\\alpha\\rangle  \\label{eq:2-1a} \\tag{25},\n",
      "\\end{equation}\n",
      "$$"
     ]
    },
    {
     "cell_type": "markdown",
     "metadata": {},
     "source": [
      "and"
     ]
    },
    {
     "cell_type": "markdown",
     "metadata": {},
     "source": [
      "<!-- Equation labels as ordinary links -->\n",
      "<div id=\"eq:2-1b\"></div>\n",
      "\n",
      "$$\n",
      "\\begin{equation}\n",
      "\ta_\\alpha^{\\dagger}|\\alpha_1\\dots \\alpha_n\\rangle_{\\mathrm{AS}} \\equiv  |\\alpha\\alpha_1\\dots \\alpha_n\\rangle_{\\mathrm{AS}} \\label{eq:2-1b} \\tag{26}\n",
      "\\end{equation}\n",
      "$$"
     ]
    },
    {
     "cell_type": "markdown",
     "metadata": {},
     "source": [
      "In Eq. [(25)](#eq:2-1a) \n",
      "the operator  $a_\\alpha^{\\dagger}$  acts on the vacuum state \n",
      "$|0\\rangle$, which does not contain any particles. Alternatively, we could define  a closed-shell nucleus or atom as our new vacuum, but then\n",
      "we need to introduce the particle-hole  formalism, see the discussion to come. \n",
      "\n",
      "In Eq. [(26)](#eq:2-1b) $a_\\alpha^{\\dagger}$ acts on an antisymmetric $n$-particle state and \n",
      "creates an antisymmetric $(n+1)$-particle state, where the one-body state \n",
      "$\\varphi_\\alpha$ is occupied, under the condition that\n",
      "$\\alpha \\ne \\alpha_1, \\alpha_2, \\dots, \\alpha_n$. \n",
      "It follows that we can express an antisymmetric state as the product of the creation\n",
      "operators acting on the vacuum state."
     ]
    },
    {
     "cell_type": "markdown",
     "metadata": {},
     "source": [
      "<!-- Equation labels as ordinary links -->\n",
      "<div id=\"eq:2-2\"></div>\n",
      "\n",
      "$$\n",
      "\\begin{equation}\n",
      "\t|\\alpha_1\\dots \\alpha_n\\rangle_{\\mathrm{AS}} = a_{\\alpha_1}^{\\dagger} a_{\\alpha_2}^{\\dagger} \\dots a_{\\alpha_n}^{\\dagger} |0\\rangle \\label{eq:2-2} \\tag{27}\n",
      "\\end{equation}\n",
      "$$"
     ]
    },
    {
     "cell_type": "markdown",
     "metadata": {},
     "source": [
      "It is easy to derive the commutation and anticommutation rules  for the fermionic creation operators \n",
      "$a_\\alpha^{\\dagger}$. Using the antisymmetry of the states \n",
      "[(27)](#eq:2-2)"
     ]
    },
    {
     "cell_type": "markdown",
     "metadata": {},
     "source": [
      "<!-- Equation labels as ordinary links -->\n",
      "<div id=\"eq:2-3a\"></div>\n",
      "\n",
      "$$\n",
      "\\begin{equation}\n",
      "\t|\\alpha_1\\dots \\alpha_i\\dots \\alpha_k\\dots \\alpha_n\\rangle_{\\mathrm{AS}} = \n",
      "\t\t- |\\alpha_1\\dots \\alpha_k\\dots \\alpha_i\\dots \\alpha_n\\rangle_{\\mathrm{AS}} \\label{eq:2-3a} \\tag{28}\n",
      "\\end{equation}\n",
      "$$"
     ]
    },
    {
     "cell_type": "markdown",
     "metadata": {},
     "source": [
      "we obtain"
     ]
    },
    {
     "cell_type": "markdown",
     "metadata": {},
     "source": [
      "<!-- Equation labels as ordinary links -->\n",
      "<div id=\"eq:2-3b\"></div>\n",
      "\n",
      "$$\n",
      "\\begin{equation}\n",
      "\t a_{\\alpha_i}^{\\dagger}  a_{\\alpha_k}^{\\dagger} = - a_{\\alpha_k}^{\\dagger} a_{\\alpha_i}^{\\dagger} \\label{eq:2-3b} \\tag{29}\n",
      "\\end{equation}\n",
      "$$"
     ]
    },
    {
     "cell_type": "markdown",
     "metadata": {},
     "source": [
      "Using the Pauli principle"
     ]
    },
    {
     "cell_type": "markdown",
     "metadata": {},
     "source": [
      "<!-- Equation labels as ordinary links -->\n",
      "<div id=\"eq:2-4a\"></div>\n",
      "\n",
      "$$\n",
      "\\begin{equation}\n",
      "\t|\\alpha_1\\dots \\alpha_i\\dots \\alpha_i\\dots \\alpha_n\\rangle_{\\mathrm{AS}} = 0 \\label{eq:2-4a} \\tag{30}\n",
      "\\end{equation}\n",
      "$$"
     ]
    },
    {
     "cell_type": "markdown",
     "metadata": {},
     "source": [
      "it follows that"
     ]
    },
    {
     "cell_type": "markdown",
     "metadata": {},
     "source": [
      "<!-- Equation labels as ordinary links -->\n",
      "<div id=\"eq:2-4b\"></div>\n",
      "\n",
      "$$\n",
      "\\begin{equation}\n",
      "\ta_{\\alpha_i}^{\\dagger}  a_{\\alpha_i}^{\\dagger} = 0. \\label{eq:2-4b} \\tag{31}\n",
      "\\end{equation}\n",
      "$$"
     ]
    },
    {
     "cell_type": "markdown",
     "metadata": {},
     "source": [
      "If we combine Eqs. [(29)](#eq:2-3b) and [(31)](#eq:2-4b), we obtain the well-known anti-commutation rule"
     ]
    },
    {
     "cell_type": "markdown",
     "metadata": {},
     "source": [
      "<!-- Equation labels as ordinary links -->\n",
      "<div id=\"eq:2-5\"></div>\n",
      "\n",
      "$$\n",
      "\\begin{equation}\n",
      "\ta_{\\alpha}^{\\dagger}  a_{\\beta}^{\\dagger} + a_{\\beta}^{\\dagger}  a_{\\alpha}^{\\dagger} \\equiv \n",
      "\t\t\\{a_{\\alpha}^{\\dagger},a_{\\beta}^{\\dagger}\\} = 0 \\label{eq:2-5} \\tag{32}\n",
      "\\end{equation}\n",
      "$$"
     ]
    },
    {
     "cell_type": "markdown",
     "metadata": {},
     "source": [
      "The hermitian conjugate  of $a_\\alpha^{\\dagger}$ is"
     ]
    },
    {
     "cell_type": "markdown",
     "metadata": {},
     "source": [
      "<!-- Equation labels as ordinary links -->\n",
      "<div id=\"eq:2-6\"></div>\n",
      "\n",
      "$$\n",
      "\\begin{equation}\n",
      "\ta_{\\alpha} = ( a_{\\alpha}^{\\dagger} )^{\\dagger} \\label{eq:2-6} \\tag{33}\n",
      "\\end{equation}\n",
      "$$"
     ]
    },
    {
     "cell_type": "markdown",
     "metadata": {},
     "source": [
      "If we take the hermitian conjugate of Eq. [(32)](#eq:2-5), we arrive at"
     ]
    },
    {
     "cell_type": "markdown",
     "metadata": {},
     "source": [
      "<!-- Equation labels as ordinary links -->\n",
      "<div id=\"eq:2-7\"></div>\n",
      "\n",
      "$$\n",
      "\\begin{equation}\n",
      "\t\\{a_{\\alpha},a_{\\beta}\\} = 0 \\label{eq:2-7} \\tag{34}\n",
      "\\end{equation}\n",
      "$$"
     ]
    },
    {
     "cell_type": "markdown",
     "metadata": {},
     "source": [
      "What is the physical interpretation of the operator $a_\\alpha$ and what is the effect of \n",
      "$a_\\alpha$ on a given state $|\\alpha_1\\alpha_2\\dots\\alpha_n\\rangle_{\\mathrm{AS}}$? \n",
      "Consider the following matrix element"
     ]
    },
    {
     "cell_type": "markdown",
     "metadata": {},
     "source": [
      "<!-- Equation labels as ordinary links -->\n",
      "<div id=\"eq:2-8\"></div>\n",
      "\n",
      "$$\n",
      "\\begin{equation}\n",
      "\t\\langle\\alpha_1\\alpha_2 \\dots \\alpha_n|a_\\alpha|\\alpha_1'\\alpha_2' \\dots \\alpha_m'\\rangle \\label{eq:2-8} \\tag{35}\n",
      "\\end{equation}\n",
      "$$"
     ]
    },
    {
     "cell_type": "markdown",
     "metadata": {},
     "source": [
      "where both sides are antisymmetric. We  distinguish between two cases. The first (1) is when\n",
      "$\\alpha \\in \\{\\alpha_i\\}$. Using the Pauli principle of Eq. [(30)](#eq:2-4a) it follows"
     ]
    },
    {
     "cell_type": "markdown",
     "metadata": {},
     "source": [
      "<!-- Equation labels as ordinary links -->\n",
      "<div id=\"eq:2-9a\"></div>\n",
      "\n",
      "$$\n",
      "\\begin{equation}\n",
      "\t\t\\langle\\alpha_1\\alpha_2 \\dots \\alpha_n|a_\\alpha = 0 \\label{eq:2-9a} \\tag{36}\n",
      "\\end{equation}\n",
      "$$"
     ]
    },
    {
     "cell_type": "markdown",
     "metadata": {},
     "source": [
      "The second (2) case is when $\\alpha \\notin \\{\\alpha_i\\}$. It follows that an hermitian conjugation"
     ]
    },
    {
     "cell_type": "markdown",
     "metadata": {},
     "source": [
      "<!-- Equation labels as ordinary links -->\n",
      "<div id=\"eq:2-9b\"></div>\n",
      "\n",
      "$$\n",
      "\\begin{equation}\n",
      "\t\t\\langle \\alpha_1\\alpha_2 \\dots \\alpha_n|a_\\alpha = \\langle\\alpha\\alpha_1\\alpha_2 \\dots \\alpha_n|  \\label{eq:2-9b} \\tag{37}\n",
      "\\end{equation}\n",
      "$$"
     ]
    },
    {
     "cell_type": "markdown",
     "metadata": {},
     "source": [
      "Eq. [(37)](#eq:2-9b) holds for case (1) since the lefthand side is zero due to the Pauli principle. We write\n",
      "Eq. [(35)](#eq:2-8) as"
     ]
    },
    {
     "cell_type": "markdown",
     "metadata": {},
     "source": [
      "<!-- Equation labels as ordinary links -->\n",
      "<div id=\"eq:2-10\"></div>\n",
      "\n",
      "$$\n",
      "\\begin{equation}\n",
      "\t\\langle\\alpha_1\\alpha_2 \\dots \\alpha_n|a_\\alpha|\\alpha_1'\\alpha_2' \\dots \\alpha_m'\\rangle = \n",
      "\t\\langle \\alpha_1\\alpha_2 \\dots \\alpha_n|\\alpha\\alpha_1'\\alpha_2' \\dots \\alpha_m'\\rangle \\label{eq:2-10} \\tag{38}\n",
      "\\end{equation}\n",
      "$$"
     ]
    },
    {
     "cell_type": "markdown",
     "metadata": {},
     "source": [
      "Here we must have $m = n+1$ if Eq. [(38)](#eq:2-10) has to be trivially different from zero.\n",
      "\n",
      "\n",
      "\n",
      "For the last case, the minus and plus signs apply when the sequence \n",
      "$\\alpha ,\\alpha_1, \\alpha_2, \\dots, \\alpha_n$ and \n",
      "$\\alpha_1', \\alpha_2', \\dots, \\alpha_{n+1}'$ are related to each other via even and odd permutations.\n",
      "If we assume that  $\\alpha \\notin \\{\\alpha_i\\}$ we obtain"
     ]
    },
    {
     "cell_type": "markdown",
     "metadata": {},
     "source": [
      "<!-- Equation labels as ordinary links -->\n",
      "<div id=\"eq:2-12\"></div>\n",
      "\n",
      "$$\n",
      "\\begin{equation}\n",
      "\t\\langle\\alpha_1\\alpha_2 \\dots \\alpha_n|a_\\alpha|\\alpha_1'\\alpha_2' \\dots \\alpha_{n+1}'\\rangle = 0 \\label{eq:2-12} \\tag{39}\n",
      "\\end{equation}\n",
      "$$"
     ]
    },
    {
     "cell_type": "markdown",
     "metadata": {},
     "source": [
      "when $\\alpha \\in \\{\\alpha_i'\\}$. If $\\alpha \\notin \\{\\alpha_i'\\}$, we obtain"
     ]
    },
    {
     "cell_type": "markdown",
     "metadata": {},
     "source": [
      "<!-- Equation labels as ordinary links -->\n",
      "<div id=\"eq:2-13a\"></div>\n",
      "\n",
      "$$\n",
      "\\begin{equation}\n",
      "\ta_\\alpha\\underbrace{|\\alpha_1'\\alpha_2' \\dots \\alpha_{n+1}'}\\rangle_{\\neq \\alpha} = 0 \\label{eq:2-13a} \\tag{40}\n",
      "\\end{equation}\n",
      "$$"
     ]
    },
    {
     "cell_type": "markdown",
     "metadata": {},
     "source": [
      "and in particular"
     ]
    },
    {
     "cell_type": "markdown",
     "metadata": {},
     "source": [
      "<!-- Equation labels as ordinary links -->\n",
      "<div id=\"eq:2-13b\"></div>\n",
      "\n",
      "$$\n",
      "\\begin{equation}\n",
      "\ta_\\alpha |0\\rangle = 0 \\label{eq:2-13b} \\tag{41}\n",
      "\\end{equation}\n",
      "$$"
     ]
    },
    {
     "cell_type": "markdown",
     "metadata": {},
     "source": [
      "If $\\{\\alpha\\alpha_i\\} = \\{\\alpha_i'\\}$, performing the right permutations, the sequence\n",
      "$\\alpha ,\\alpha_1, \\alpha_2, \\dots, \\alpha_n$ is identical with the sequence\n",
      "$\\alpha_1', \\alpha_2', \\dots, \\alpha_{n+1}'$. This results in"
     ]
    },
    {
     "cell_type": "markdown",
     "metadata": {},
     "source": [
      "<!-- Equation labels as ordinary links -->\n",
      "<div id=\"eq:2-14\"></div>\n",
      "\n",
      "$$\n",
      "\\begin{equation}\n",
      "\t\\langle\\alpha_1\\alpha_2 \\dots \\alpha_n|a_\\alpha|\\alpha\\alpha_1\\alpha_2 \\dots \\alpha_{n}\\rangle = 1 \\label{eq:2-14} \\tag{42}\n",
      "\\end{equation}\n",
      "$$"
     ]
    },
    {
     "cell_type": "markdown",
     "metadata": {},
     "source": [
      "and thus"
     ]
    },
    {
     "cell_type": "markdown",
     "metadata": {},
     "source": [
      "<!-- Equation labels as ordinary links -->\n",
      "<div id=\"eq:2-15\"></div>\n",
      "\n",
      "$$\n",
      "\\begin{equation}\n",
      "\ta_\\alpha |\\alpha\\alpha_1\\alpha_2 \\dots \\alpha_{n}\\rangle = |\\alpha_1\\alpha_2 \\dots \\alpha_{n}\\rangle \\label{eq:2-15} \\tag{43}\n",
      "\\end{equation}\n",
      "$$"
     ]
    },
    {
     "cell_type": "markdown",
     "metadata": {},
     "source": [
      "The action of the operator \n",
      "$a_\\alpha$ from the left on a state vector  is to to remove  one particle in the state\n",
      "$\\alpha$. \n",
      "If the state vector does not contain the single-particle state $\\alpha$, the outcome of the operation is zero.\n",
      "The operator  $a_\\alpha$ is normally called for a destruction or annihilation operator.\n",
      "\n",
      "The next step is to establish the  commutator algebra of $a_\\alpha^{\\dagger}$ and\n",
      "$a_\\beta$. \n",
      "\n",
      "\n",
      "\n",
      "The action of the anti-commutator \n",
      "$\\{a_\\alpha^{\\dagger}$,$a_\\alpha\\}$ on a given $n$-particle state is"
     ]
    },
    {
     "cell_type": "markdown",
     "metadata": {},
     "source": [
      "$$\n",
      "\\begin{equation}\n",
      "\ta_\\alpha^{\\dagger} a_\\alpha \\underbrace{|\\alpha_1\\alpha_2 \\dots \\alpha_{n}\\rangle}_{\\neq \\alpha} = 0 \\nonumber \n",
      "\\end{equation}\n",
      "$$"
     ]
    },
    {
     "cell_type": "markdown",
     "metadata": {},
     "source": [
      "<!-- Equation labels as ordinary links -->\n",
      "<div id=\"eq:2-16a\"></div>\n",
      "\n",
      "$$\n",
      "\\begin{equation} \n",
      "\ta_\\alpha a_\\alpha^{\\dagger} \\underbrace{|\\alpha_1\\alpha_2 \\dots \\alpha_{n}\\rangle}_{\\neq \\alpha} =\n",
      "\ta_\\alpha \\underbrace{|\\alpha \\alpha_1\\alpha_2 \\dots \\alpha_{n}\\rangle}_{\\neq \\alpha} = \n",
      "\t\\underbrace{|\\alpha_1\\alpha_2 \\dots \\alpha_{n}\\rangle}_{\\neq \\alpha} \\label{eq:2-16a} \\tag{44}\n",
      "\\end{equation}\n",
      "$$"
     ]
    },
    {
     "cell_type": "markdown",
     "metadata": {},
     "source": [
      "if the single-particle state $\\alpha$ is not contained in the state.\n",
      "\n",
      "\n",
      "\n",
      "\n",
      " If it is present\n",
      "we arrive at"
     ]
    },
    {
     "cell_type": "markdown",
     "metadata": {},
     "source": [
      "$$\n",
      "\\begin{equation}\n",
      "\ta_\\alpha^{\\dagger} a_\\alpha |\\alpha_1\\alpha_2 \\dots \\alpha_{k}\\alpha \\alpha_{k+1} \\dots \\alpha_{n-1}\\rangle =\n",
      "\ta_\\alpha^{\\dagger} a_\\alpha (-1)^k |\\alpha \\alpha_1\\alpha_2 \\dots \\alpha_{n-1}\\rangle \\nonumber \n",
      "\\end{equation}\n",
      "$$"
     ]
    },
    {
     "cell_type": "markdown",
     "metadata": {},
     "source": [
      "$$\n",
      "\\begin{equation} \n",
      "\t= (-1)^k |\\alpha \\alpha_1\\alpha_2 \\dots \\alpha_{n-1}\\rangle =\n",
      "\t|\\alpha_1\\alpha_2 \\dots \\alpha_{k}\\alpha \\alpha_{k+1} \\dots \\alpha_{n-1}\\rangle \\nonumber \n",
      "\\end{equation}\n",
      "$$"
     ]
    },
    {
     "cell_type": "markdown",
     "metadata": {},
     "source": [
      "<!-- Equation labels as ordinary links -->\n",
      "<div id=\"eq:2-16b\"></div>\n",
      "\n",
      "$$\n",
      "\\begin{equation} \n",
      "\ta_\\alpha a_\\alpha^{\\dagger}|\\alpha_1\\alpha_2 \\dots \\alpha_{k}\\alpha \\alpha_{k+1} \\dots \\alpha_{n-1}\\rangle = 0 \\label{eq:2-16b} \\tag{45}\n",
      "\\end{equation}\n",
      "$$"
     ]
    },
    {
     "cell_type": "markdown",
     "metadata": {},
     "source": [
      "From Eqs. [(44)](#eq:2-16a) and  [(45)](#eq:2-16b) we arrive at"
     ]
    },
    {
     "cell_type": "markdown",
     "metadata": {},
     "source": [
      "<!-- Equation labels as ordinary links -->\n",
      "<div id=\"eq:2-17\"></div>\n",
      "\n",
      "$$\n",
      "\\begin{equation}\n",
      "\t\\{a_\\alpha^{\\dagger} , a_\\alpha \\} = a_\\alpha^{\\dagger} a_\\alpha + a_\\alpha a_\\alpha^{\\dagger} = 1 \\label{eq:2-17} \\tag{46}\n",
      "\\end{equation}\n",
      "$$"
     ]
    },
    {
     "cell_type": "markdown",
     "metadata": {},
     "source": [
      "The action of $\\left\\{a_\\alpha^{\\dagger}, a_\\beta\\right\\}$, with \n",
      "$\\alpha \\ne \\beta$ on a given state yields three possibilities. \n",
      "The first case is a state vector which contains both $\\alpha$ and $\\beta$, then either \n",
      "$\\alpha$ or $\\beta$ and finally none of them.\n",
      "\n",
      "\n",
      "\n",
      "The first case results in"
     ]
    },
    {
     "cell_type": "markdown",
     "metadata": {},
     "source": [
      "<!-- Equation labels as ordinary links -->\n",
      "<div id=\"eq:2-18a\"></div>\n",
      "\n",
      "$$\n",
      "\\begin{eqnarray}\n",
      "\ta_\\alpha^{\\dagger} a_\\beta |\\alpha\\beta\\alpha_1\\alpha_2 \\dots \\alpha_{n-2}\\rangle = 0 \\nonumber \\\\\n",
      "\ta_\\beta a_\\alpha^{\\dagger} |\\alpha\\beta\\alpha_1\\alpha_2 \\dots \\alpha_{n-2}\\rangle = 0 \\label{eq:2-18a} \\tag{47}\n",
      "\\end{eqnarray}\n",
      "$$"
     ]
    },
    {
     "cell_type": "markdown",
     "metadata": {},
     "source": [
      "while the second case gives"
     ]
    },
    {
     "cell_type": "markdown",
     "metadata": {},
     "source": [
      "<!-- Equation labels as ordinary links -->\n",
      "<div id=\"eq:2-18b\"></div>\n",
      "\n",
      "$$\n",
      "\\begin{eqnarray}\n",
      "\t a_\\alpha^{\\dagger} a_\\beta |\\beta \\underbrace{\\alpha_1\\alpha_2 \\dots \\alpha_{n-1}}_{\\neq \\alpha}\\rangle &=& \n",
      "\t \t|\\alpha \\underbrace{\\alpha_1\\alpha_2 \\dots \\alpha_{n-1}}_{\\neq  \\alpha}\\rangle \\nonumber \\\\\n",
      "\ta_\\beta a_\\alpha^{\\dagger} |\\beta \\underbrace{\\alpha_1\\alpha_2 \\dots \\alpha_{n-1}}_{\\neq \\alpha}\\rangle &=&\n",
      "\t\ta_\\beta |\\alpha\\beta\\underbrace{\\beta \\alpha_1\\alpha_2 \\dots \\alpha_{n-1}}_{\\neq \\alpha}\\rangle \\nonumber \\\\\n",
      "\t&=& - |\\alpha\\underbrace{\\alpha_1\\alpha_2 \\dots \\alpha_{n-1}}_{\\neq \\alpha}\\rangle \\label{eq:2-18b} \\tag{48}\n",
      "\\end{eqnarray}\n",
      "$$"
     ]
    },
    {
     "cell_type": "markdown",
     "metadata": {},
     "source": [
      "Finally if the state vector does not contain $\\alpha$ and $\\beta$"
     ]
    },
    {
     "cell_type": "markdown",
     "metadata": {},
     "source": [
      "<!-- Equation labels as ordinary links -->\n",
      "<div id=\"eq:2-18c\"></div>\n",
      "\n",
      "$$\n",
      "\\begin{eqnarray}\n",
      "\ta_\\alpha^{\\dagger} a_\\beta |\\underbrace{\\alpha_1\\alpha_2 \\dots \\alpha_{n}}_{\\neq \\alpha,\\beta}\\rangle &=& 0 \\nonumber \\\\\n",
      "\ta_\\beta a_\\alpha^{\\dagger} |\\underbrace{\\alpha_1\\alpha_2 \\dots \\alpha_{n}}_{\\neq \\alpha,\\beta}\\rangle &=& \n",
      "\t\ta_\\beta |\\alpha \\underbrace{\\alpha_1\\alpha_2 \\dots \\alpha_{n}}_{\\neq \\alpha,\\beta}\\rangle = 0 \\label{eq:2-18c} \\tag{49}\n",
      "\\end{eqnarray}\n",
      "$$"
     ]
    },
    {
     "cell_type": "markdown",
     "metadata": {},
     "source": [
      "For all three cases we have"
     ]
    },
    {
     "cell_type": "markdown",
     "metadata": {},
     "source": [
      "<!-- Equation labels as ordinary links -->\n",
      "<div id=\"eq:2-19\"></div>\n",
      "\n",
      "$$\n",
      "\\begin{equation}\n",
      "\t\\{a_\\alpha^{\\dagger},a_\\beta \\} = a_\\alpha^{\\dagger} a_\\beta + a_\\beta a_\\alpha^{\\dagger} = 0, \\quad \\alpha \\neq \\beta \\label{eq:2-19} \\tag{50}\n",
      "\\end{equation}\n",
      "$$"
     ]
    },
    {
     "cell_type": "markdown",
     "metadata": {},
     "source": [
      "We can summarize  our findings in Eqs. [(46)](#eq:2-17) and [(50)](#eq:2-19) as"
     ]
    },
    {
     "cell_type": "markdown",
     "metadata": {},
     "source": [
      "<!-- Equation labels as ordinary links -->\n",
      "<div id=\"eq:2-20\"></div>\n",
      "\n",
      "$$\n",
      "\\begin{equation}\n",
      "\t\\{a_\\alpha^{\\dagger},a_\\beta \\} = \\delta_{\\alpha\\beta} \\label{eq:2-20} \\tag{51}\n",
      "\\end{equation}\n",
      "$$"
     ]
    },
    {
     "cell_type": "markdown",
     "metadata": {},
     "source": [
      "with  $\\delta_{\\alpha\\beta}$ is the Kroenecker $\\delta$-symbol.\n",
      "\n",
      "The properties of the creation and annihilation operators can be summarized as (for fermions)"
     ]
    },
    {
     "cell_type": "markdown",
     "metadata": {},
     "source": [
      "$$\n",
      "a_\\alpha^{\\dagger}|0\\rangle \\equiv  |\\alpha\\rangle,\n",
      "$$"
     ]
    },
    {
     "cell_type": "markdown",
     "metadata": {},
     "source": [
      "and"
     ]
    },
    {
     "cell_type": "markdown",
     "metadata": {},
     "source": [
      "$$\n",
      "a_\\alpha^{\\dagger}|\\alpha_1\\dots \\alpha_n\\rangle_{\\mathrm{AS}} \\equiv  |\\alpha\\alpha_1\\dots \\alpha_n\\rangle_{\\mathrm{AS}}.\n",
      "$$"
     ]
    },
    {
     "cell_type": "markdown",
     "metadata": {},
     "source": [
      "from which follows"
     ]
    },
    {
     "cell_type": "markdown",
     "metadata": {},
     "source": [
      "$$\n",
      "|\\alpha_1\\dots \\alpha_n\\rangle_{\\mathrm{AS}} = a_{\\alpha_1}^{\\dagger} a_{\\alpha_2}^{\\dagger} \\dots a_{\\alpha_n}^{\\dagger} |0\\rangle.\n",
      "$$"
     ]
    },
    {
     "cell_type": "markdown",
     "metadata": {},
     "source": [
      "The hermitian conjugate has the folowing properties"
     ]
    },
    {
     "cell_type": "markdown",
     "metadata": {},
     "source": [
      "$$\n",
      "a_{\\alpha} = ( a_{\\alpha}^{\\dagger} )^{\\dagger}.\n",
      "$$"
     ]
    },
    {
     "cell_type": "markdown",
     "metadata": {},
     "source": [
      "Finally we found"
     ]
    },
    {
     "cell_type": "markdown",
     "metadata": {},
     "source": [
      "$$\n",
      "a_\\alpha\\underbrace{|\\alpha_1'\\alpha_2' \\dots \\alpha_{n+1}'}\\rangle_{\\neq \\alpha} = 0, \\quad\n",
      "\t\t\\textrm{in particular } a_\\alpha |0\\rangle = 0,\n",
      "$$"
     ]
    },
    {
     "cell_type": "markdown",
     "metadata": {},
     "source": [
      "and"
     ]
    },
    {
     "cell_type": "markdown",
     "metadata": {},
     "source": [
      "$$\n",
      "a_\\alpha |\\alpha\\alpha_1\\alpha_2 \\dots \\alpha_{n}\\rangle = |\\alpha_1\\alpha_2 \\dots \\alpha_{n}\\rangle,\n",
      "$$"
     ]
    },
    {
     "cell_type": "markdown",
     "metadata": {},
     "source": [
      "and the corresponding commutator algebra"
     ]
    },
    {
     "cell_type": "markdown",
     "metadata": {},
     "source": [
      "$$\n",
      "\\{a_{\\alpha}^{\\dagger},a_{\\beta}^{\\dagger}\\} = \\{a_{\\alpha},a_{\\beta}\\} = 0 \\hspace{0.5cm} \n",
      "\\{a_\\alpha^{\\dagger},a_\\beta \\} = \\delta_{\\alpha\\beta}.\n",
      "$$"
     ]
    },
    {
     "cell_type": "markdown",
     "metadata": {},
     "source": [
      "## One-body operators in second quantization\n",
      "\n",
      "A very useful operator is the so-called number-operator.  Most physics cases  we will\n",
      "study in this text conserve the total number of particles.  The number operator is therefore\n",
      "a useful quantity which allows us to test that our many-body formalism  conserves the number of particles.\n",
      "In for example $(d,p)$ or $(p,d)$ reactions it is important to be able to describe quantum mechanical states\n",
      "where particles get added or removed.\n",
      "A creation operator $a_\\alpha^{\\dagger}$ adds one particle to the single-particle state\n",
      "$\\alpha$ of a give many-body state vector, while an annihilation operator $a_\\alpha$ \n",
      "removes a particle from a single-particle\n",
      "state $\\alpha$. \n",
      "\n",
      "\n",
      "\n",
      "\n",
      "\n",
      "Let us consider an operator proportional with $a_\\alpha^{\\dagger} a_\\beta$ and \n",
      "$\\alpha=\\beta$. It acts on an $n$-particle state \n",
      "resulting in"
     ]
    },
    {
     "cell_type": "markdown",
     "metadata": {},
     "source": [
      "$$\n",
      "\\begin{equation}\n",
      "\ta_\\alpha^{\\dagger} a_\\alpha |\\alpha_1\\alpha_2 \\dots \\alpha_{n}\\rangle = \n",
      "\t\\begin{cases}\n",
      "\t\t0  &\\alpha \\notin \\{\\alpha_i\\} \\\\\n",
      "\t\t\\\\\n",
      "\t\t|\\alpha_1\\alpha_2 \\dots \\alpha_{n}\\rangle & \\alpha \\in \\{\\alpha_i\\}\n",
      "\t\\end{cases}\n",
      "\\end{equation}\n",
      "$$"
     ]
    },
    {
     "cell_type": "markdown",
     "metadata": {},
     "source": [
      "Summing over all possible one-particle states we arrive at"
     ]
    },
    {
     "cell_type": "markdown",
     "metadata": {},
     "source": [
      "<!-- Equation labels as ordinary links -->\n",
      "<div id=\"eq:2-21\"></div>\n",
      "\n",
      "$$\n",
      "\\begin{equation}\n",
      "\t\\left( \\sum_\\alpha a_\\alpha^{\\dagger} a_\\alpha \\right) |\\alpha_1\\alpha_2 \\dots \\alpha_{n}\\rangle = \n",
      "\tn |\\alpha_1\\alpha_2 \\dots \\alpha_{n}\\rangle \\label{eq:2-21} \\tag{52}\n",
      "\\end{equation}\n",
      "$$"
     ]
    },
    {
     "cell_type": "markdown",
     "metadata": {},
     "source": [
      "The operator"
     ]
    },
    {
     "cell_type": "markdown",
     "metadata": {},
     "source": [
      "<!-- Equation labels as ordinary links -->\n",
      "<div id=\"eq:2-22\"></div>\n",
      "\n",
      "$$\n",
      "\\begin{equation}\n",
      "\t\\hat{N} = \\sum_\\alpha a_\\alpha^{\\dagger} a_\\alpha \\label{eq:2-22} \\tag{53}\n",
      "\\end{equation}\n",
      "$$"
     ]
    },
    {
     "cell_type": "markdown",
     "metadata": {},
     "source": [
      "is called the number operator since it counts the number of particles in a give state vector when it acts \n",
      "on the different single-particle states.  It acts on one single-particle state at the time and falls \n",
      "therefore under category one-body operators.\n",
      "Next we look at another important one-body operator, namely $\\hat{H}_0$ and study its operator form in the \n",
      "occupation number representation.\n",
      "\n",
      "\n",
      "\n",
      "\n",
      "We want to obtain an expression for a one-body operator which conserves the number of particles.\n",
      "Here we study the one-body operator for the kinetic energy plus an eventual external one-body potential.\n",
      "The action of this operator on a particular $n$-body state with its pertinent expectation value has already\n",
      "been studied in coordinate  space.\n",
      "In coordinate space the operator reads"
     ]
    },
    {
     "cell_type": "markdown",
     "metadata": {},
     "source": [
      "<!-- Equation labels as ordinary links -->\n",
      "<div id=\"eq:2-23\"></div>\n",
      "\n",
      "$$\n",
      "\\begin{equation}\n",
      "\t\\hat{H}_0 = \\sum_i \\hat{h}_0(x_i) \\label{eq:2-23} \\tag{54}\n",
      "\\end{equation}\n",
      "$$"
     ]
    },
    {
     "cell_type": "markdown",
     "metadata": {},
     "source": [
      "and the anti-symmetric $n$-particle Slater determinant is defined as"
     ]
    },
    {
     "cell_type": "markdown",
     "metadata": {},
     "source": [
      "$$\n",
      "\\Phi(x_1, x_2,\\dots ,x_n,\\alpha_1,\\alpha_2,\\dots, \\alpha_n)= \\frac{1}{\\sqrt{n!}} \\sum_p (-1)^p\\hat{P}\\psi_{\\alpha_1}(x_1)\\psi_{\\alpha_2}(x_2) \\dots \\psi_{\\alpha_n}(x_n).\n",
      "$$"
     ]
    },
    {
     "cell_type": "markdown",
     "metadata": {},
     "source": [
      "Defining"
     ]
    },
    {
     "cell_type": "markdown",
     "metadata": {},
     "source": [
      "<!-- Equation labels as ordinary links -->\n",
      "<div id=\"eq:2-25\"></div>\n",
      "\n",
      "$$\n",
      "\\begin{equation}\n",
      "\t\\hat{h}_0(x_i) \\psi_{\\alpha_i}(x_i) = \\sum_{\\alpha_k'} \\psi_{\\alpha_k'}(x_i) \\langle\\alpha_k'|\\hat{h}_0|\\alpha_k\\rangle \\label{eq:2-25} \\tag{55}\n",
      "\\end{equation}\n",
      "$$"
     ]
    },
    {
     "cell_type": "markdown",
     "metadata": {},
     "source": [
      "we can easily  evaluate the action of $\\hat{H}_0$ on each product of one-particle functions in Slater determinant.\n",
      "From Eq. [(55)](#eq:2-25)  we obtain the following result without  permuting any particle pair"
     ]
    },
    {
     "cell_type": "markdown",
     "metadata": {},
     "source": [
      "<!-- Equation labels as ordinary links -->\n",
      "<div id=\"eq:2-26\"></div>\n",
      "\n",
      "$$\n",
      "\\begin{eqnarray}\n",
      "\t&& \\left( \\sum_i \\hat{h}_0(x_i) \\right) \\psi_{\\alpha_1}(x_1)\\psi_{\\alpha_2}(x_2) \\dots \\psi_{\\alpha_n}(x_n) \\nonumber \\\\\n",
      "\t& =&\\sum_{\\alpha_1'} \\langle \\alpha_1'|\\hat{h}_0|\\alpha_1\\rangle \n",
      "\t\t\\psi_{\\alpha_1'}(x_1)\\psi_{\\alpha_2}(x_2) \\dots \\psi_{\\alpha_n}(x_n) \\nonumber \\\\\n",
      "\t&+&\\sum_{\\alpha_2'} \\langle \\alpha_2'|\\hat{h}_0|\\alpha_2\\rangle\n",
      "\t\t\\psi_{\\alpha_1}(x_1)\\psi_{\\alpha_2'}(x_2) \\dots \\psi_{\\alpha_n}(x_n) \\nonumber \\\\\n",
      "\t&+& \\dots \\nonumber \\\\\n",
      "\t&+&\\sum_{\\alpha_n'} \\langle \\alpha_n'|\\hat{h}_0|\\alpha_n\\rangle\n",
      "\t\t\\psi_{\\alpha_1}(x_1)\\psi_{\\alpha_2}(x_2) \\dots \\psi_{\\alpha_n'}(x_n) \\label{eq:2-26} \\tag{56}\n",
      "\\end{eqnarray}\n",
      "$$"
     ]
    },
    {
     "cell_type": "markdown",
     "metadata": {},
     "source": [
      "If we interchange particles $1$ and $2$  we obtain"
     ]
    },
    {
     "cell_type": "markdown",
     "metadata": {},
     "source": [
      "<!-- Equation labels as ordinary links -->\n",
      "<div id=\"eq:2-27\"></div>\n",
      "\n",
      "$$\n",
      "\\begin{eqnarray}\n",
      "\t&& \\left( \\sum_i \\hat{h}_0(x_i) \\right) \\psi_{\\alpha_1}(x_2)\\psi_{\\alpha_1}(x_2) \\dots \\psi_{\\alpha_n}(x_n) \\nonumber \\\\\n",
      "\t& =&\\sum_{\\alpha_2'} \\langle \\alpha_2'|\\hat{h}_0|\\alpha_2\\rangle \n",
      "\t\t\\psi_{\\alpha_1}(x_2)\\psi_{\\alpha_2'}(x_1) \\dots \\psi_{\\alpha_n}(x_n) \\nonumber \\\\\n",
      "\t&+&\\sum_{\\alpha_1'} \\langle \\alpha_1'|\\hat{h}_0|\\alpha_1\\rangle\n",
      "\t\t\\psi_{\\alpha_1'}(x_2)\\psi_{\\alpha_2}(x_1) \\dots \\psi_{\\alpha_n}(x_n) \\nonumber \\\\\n",
      "\t&+& \\dots \\nonumber \\\\\n",
      "\t&+&\\sum_{\\alpha_n'} \\langle \\alpha_n'|\\hat{h}_0|\\alpha_n\\rangle\n",
      "\t\t\\psi_{\\alpha_1}(x_2)\\psi_{\\alpha_1}(x_2) \\dots \\psi_{\\alpha_n'}(x_n) \\label{eq:2-27} \\tag{57}\n",
      "\\end{eqnarray}\n",
      "$$"
     ]
    },
    {
     "cell_type": "markdown",
     "metadata": {},
     "source": [
      "We can continue by computing all possible permutations. \n",
      "We rewrite also our Slater determinant in its second quantized form and skip the dependence on the quantum numbers $x_i.$\n",
      "Summing up all contributions and taking care of all phases\n",
      "$(-1)^p$ we arrive at"
     ]
    },
    {
     "cell_type": "markdown",
     "metadata": {},
     "source": [
      "<!-- Equation labels as ordinary links -->\n",
      "<div id=\"eq:2-28\"></div>\n",
      "\n",
      "$$\n",
      "\\begin{eqnarray}\n",
      "\t\\hat{H}_0|\\alpha_1,\\alpha_2,\\dots, \\alpha_n\\rangle &=& \\sum_{\\alpha_1'}\\langle \\alpha_1'|\\hat{h}_0|\\alpha_1\\rangle\n",
      "\t\t|\\alpha_1'\\alpha_2 \\dots \\alpha_{n}\\rangle \\nonumber \\\\\n",
      "\t&+& \\sum_{\\alpha_2'} \\langle \\alpha_2'|\\hat{h}_0|\\alpha_2\\rangle\n",
      "\t\t|\\alpha_1\\alpha_2' \\dots \\alpha_{n}\\rangle \\nonumber \\\\\n",
      "\t&+& \\dots \\nonumber \\\\\n",
      "\t&+& \\sum_{\\alpha_n'} \\langle \\alpha_n'|\\hat{h}_0|\\alpha_n\\rangle\n",
      "\t\t|\\alpha_1\\alpha_2 \\dots \\alpha_{n}'\\rangle \\label{eq:2-28} \\tag{58}\n",
      "\\end{eqnarray}\n",
      "$$"
     ]
    },
    {
     "cell_type": "markdown",
     "metadata": {},
     "source": [
      "In Eq. [(58)](#eq:2-28) \n",
      "we have expressed the action of the one-body operator\n",
      "of Eq. [(54)](#eq:2-23) on the  $n$-body state in its second quantized form.\n",
      "This equation can be further manipulated if we use the properties of the creation and annihilation operator\n",
      "on each primed quantum number, that is"
     ]
    },
    {
     "cell_type": "markdown",
     "metadata": {},
     "source": [
      "<!-- Equation labels as ordinary links -->\n",
      "<div id=\"eq:2-29\"></div>\n",
      "\n",
      "$$\n",
      "\\begin{equation}\n",
      "\t|\\alpha_1\\alpha_2 \\dots \\alpha_k' \\dots \\alpha_{n}\\rangle = \n",
      "\t\ta_{\\alpha_k'}^{\\dagger}  a_{\\alpha_k} |\\alpha_1\\alpha_2 \\dots \\alpha_k \\dots \\alpha_{n}\\rangle \\label{eq:2-29} \\tag{59}\n",
      "\\end{equation}\n",
      "$$"
     ]
    },
    {
     "cell_type": "markdown",
     "metadata": {},
     "source": [
      "Inserting this in the right-hand side of Eq. [(58)](#eq:2-28) results in"
     ]
    },
    {
     "cell_type": "markdown",
     "metadata": {},
     "source": [
      "<!-- Equation labels as ordinary links -->\n",
      "<div id=\"eq:2-30a\"></div>\n",
      "\n",
      "$$\n",
      "\\begin{eqnarray}\n",
      "\t\\hat{H}_0|\\alpha_1\\alpha_2 \\dots \\alpha_{n}\\rangle &=& \\sum_{\\alpha_1'}\\langle \\alpha_1'|\\hat{h}_0|\\alpha_1\\rangle\n",
      "\t\ta_{\\alpha_1'}^{\\dagger}  a_{\\alpha_1} |\\alpha_1\\alpha_2 \\dots \\alpha_{n}\\rangle \\nonumber \\\\\n",
      "\t&+& \\sum_{\\alpha_2'} \\langle \\alpha_2'|\\hat{h}_0|\\alpha_2\\rangle\n",
      "\t\ta_{\\alpha_2'}^{\\dagger}  a_{\\alpha_2} |\\alpha_1\\alpha_2 \\dots \\alpha_{n}\\rangle \\nonumber \\\\\n",
      "\t&+& \\dots \\nonumber \\\\\n",
      "\t&+& \\sum_{\\alpha_n'} \\langle \\alpha_n'|\\hat{h}_0|\\alpha_n\\rangle\n",
      "\t\ta_{\\alpha_n'}^{\\dagger}  a_{\\alpha_n} |\\alpha_1\\alpha_2 \\dots \\alpha_{n}\\rangle \\nonumber \\\\\n",
      "\t&=& \\sum_{\\alpha, \\beta} \\langle \\alpha|\\hat{h}_0|\\beta\\rangle a_\\alpha^{\\dagger} a_\\beta \n",
      "\t\t|\\alpha_1\\alpha_2 \\dots \\alpha_{n}\\rangle \\label{eq:2-30a} \\tag{60}\n",
      "\\end{eqnarray}\n",
      "$$"
     ]
    },
    {
     "cell_type": "markdown",
     "metadata": {},
     "source": [
      "In the number occupation representation or second quantization we get the following expression for a one-body \n",
      "operator which conserves the number of particles"
     ]
    },
    {
     "cell_type": "markdown",
     "metadata": {},
     "source": [
      "<!-- Equation labels as ordinary links -->\n",
      "<div id=\"eq:2-30b\"></div>\n",
      "\n",
      "$$\n",
      "\\begin{equation}\n",
      "\t\\hat{H}_0 = \\sum_{\\alpha\\beta} \\langle \\alpha|\\hat{h}_0|\\beta\\rangle a_\\alpha^{\\dagger} a_\\beta \\label{eq:2-30b} \\tag{61}\n",
      "\\end{equation}\n",
      "$$"
     ]
    },
    {
     "cell_type": "markdown",
     "metadata": {},
     "source": [
      "Obviously, $\\hat{H}_0$ can be replaced by any other one-body  operator which preserved the number\n",
      "of particles. The stucture of the operator is therefore not limited to say the kinetic or single-particle energy only.\n",
      "\n",
      "The opearator $\\hat{H}_0$ takes a particle from the single-particle state $\\beta$  to the single-particle state $\\alpha$ \n",
      "with a probability for the transition given by the expectation value $\\langle \\alpha|\\hat{h}_0|\\beta\\rangle$.\n",
      "\n",
      "\n",
      "\n",
      "\n",
      "\n",
      "It is instructive to verify Eq. [(61)](#eq:2-30b) by computing the expectation value of $\\hat{H}_0$ \n",
      "between two single-particle states"
     ]
    },
    {
     "cell_type": "markdown",
     "metadata": {},
     "source": [
      "<!-- Equation labels as ordinary links -->\n",
      "<div id=\"eq:2-30c\"></div>\n",
      "\n",
      "$$\n",
      "\\begin{equation}\n",
      "\t\\langle \\alpha_1|\\hat{h}_0|\\alpha_2\\rangle = \\sum_{\\alpha\\beta} \\langle \\alpha|\\hat{h}_0|\\beta\\rangle\n",
      "\t\t\\langle 0|a_{\\alpha_1}a_\\alpha^{\\dagger} a_\\beta a_{\\alpha_2}^{\\dagger}|0\\rangle \\label{eq:2-30c} \\tag{62}\n",
      "\\end{equation}\n",
      "$$"
     ]
    },
    {
     "cell_type": "markdown",
     "metadata": {},
     "source": [
      "Using the commutation relations for the creation and annihilation operators we have"
     ]
    },
    {
     "cell_type": "markdown",
     "metadata": {},
     "source": [
      "<!-- Equation labels as ordinary links -->\n",
      "<div id=\"eq:2-30d\"></div>\n",
      "\n",
      "$$\n",
      "\\begin{equation}\n",
      "a_{\\alpha_1}a_\\alpha^{\\dagger} a_\\beta a_{\\alpha_2}^{\\dagger} = (\\delta_{\\alpha \\alpha_1} - a_\\alpha^{\\dagger} a_{\\alpha_1} )(\\delta_{\\beta \\alpha_2} - a_{\\alpha_2}^{\\dagger} a_{\\beta} ), \\label{eq:2-30d} \\tag{63}\n",
      "\\end{equation}\n",
      "$$"
     ]
    },
    {
     "cell_type": "markdown",
     "metadata": {},
     "source": [
      "which results in"
     ]
    },
    {
     "cell_type": "markdown",
     "metadata": {},
     "source": [
      "<!-- Equation labels as ordinary links -->\n",
      "<div id=\"eq:2-30e\"></div>\n",
      "\n",
      "$$\n",
      "\\begin{equation}\n",
      "\\langle 0|a_{\\alpha_1}a_\\alpha^{\\dagger} a_\\beta a_{\\alpha_2}^{\\dagger}|0\\rangle = \\delta_{\\alpha \\alpha_1} \\delta_{\\beta \\alpha_2} \\label{eq:2-30e} \\tag{64}\n",
      "\\end{equation}\n",
      "$$"
     ]
    },
    {
     "cell_type": "markdown",
     "metadata": {},
     "source": [
      "and"
     ]
    },
    {
     "cell_type": "markdown",
     "metadata": {},
     "source": [
      "<!-- Equation labels as ordinary links -->\n",
      "<div id=\"eq:2-30f\"></div>\n",
      "\n",
      "$$\n",
      "\\begin{equation}\n",
      "\\langle \\alpha_1|\\hat{h}_0|\\alpha_2\\rangle = \\sum_{\\alpha\\beta} \\langle \\alpha|\\hat{h}_0|\\beta\\rangle\\delta_{\\alpha \\alpha_1} \\delta_{\\beta \\alpha_2} = \\langle \\alpha_1|\\hat{h}_0|\\alpha_2\\rangle \\label{eq:2-30f} \\tag{65}\n",
      "\\end{equation}\n",
      "$$"
     ]
    },
    {
     "cell_type": "markdown",
     "metadata": {},
     "source": [
      "## Two-body operators in second quantization\n",
      "\n",
      "Let us now derive the expression for our two-body interaction part, which also conserves the number of particles.\n",
      "We can proceed in exactly the same way as for the one-body operator. In the coordinate representation our\n",
      "two-body interaction part takes the following expression"
     ]
    },
    {
     "cell_type": "markdown",
     "metadata": {},
     "source": [
      "<!-- Equation labels as ordinary links -->\n",
      "<div id=\"eq:2-31\"></div>\n",
      "\n",
      "$$\n",
      "\\begin{equation}\n",
      "\t\\hat{H}_I = \\sum_{i < j} V(x_i,x_j) \\label{eq:2-31} \\tag{66}\n",
      "\\end{equation}\n",
      "$$"
     ]
    },
    {
     "cell_type": "markdown",
     "metadata": {},
     "source": [
      "where the summation runs over distinct pairs. The term $V$ can be an interaction model for the nucleon-nucleon interaction\n",
      "or the interaction between two electrons. It can also include additional two-body interaction terms. \n",
      "\n",
      "The action of this operator on a product of \n",
      "two single-particle functions is defined as"
     ]
    },
    {
     "cell_type": "markdown",
     "metadata": {},
     "source": [
      "<!-- Equation labels as ordinary links -->\n",
      "<div id=\"eq:2-32\"></div>\n",
      "\n",
      "$$\n",
      "\\begin{equation}\n",
      "\tV(x_i,x_j) \\psi_{\\alpha_k}(x_i) \\psi_{\\alpha_l}(x_j) = \\sum_{\\alpha_k'\\alpha_l'} \n",
      "\t\t\\psi_{\\alpha_k}'(x_i)\\psi_{\\alpha_l}'(x_j) \n",
      "\t\t\\langle \\alpha_k'\\alpha_l'|\\hat{v}|\\alpha_k\\alpha_l\\rangle \\label{eq:2-32} \\tag{67}\n",
      "\\end{equation}\n",
      "$$"
     ]
    },
    {
     "cell_type": "markdown",
     "metadata": {},
     "source": [
      "We can now let $\\hat{H}_I$ act on all terms in the linear combination for $|\\alpha_1\\alpha_2\\dots\\alpha_n\\rangle$. Without any permutations we have"
     ]
    },
    {
     "cell_type": "markdown",
     "metadata": {},
     "source": [
      "<!-- Equation labels as ordinary links -->\n",
      "<div id=\"eq:2-33\"></div>\n",
      "\n",
      "$$\n",
      "\\begin{eqnarray}\n",
      "\t&& \\left( \\sum_{i < j} V(x_i,x_j) \\right) \\psi_{\\alpha_1}(x_1)\\psi_{\\alpha_2}(x_2)\\dots \\psi_{\\alpha_n}(x_n) \\nonumber \\\\\n",
      "\t&=& \\sum_{\\alpha_1'\\alpha_2'} \\langle \\alpha_1'\\alpha_2'|\\hat{v}|\\alpha_1\\alpha_2\\rangle\n",
      "\t\t\\psi_{\\alpha_1}'(x_1)\\psi_{\\alpha_2}'(x_2)\\dots \\psi_{\\alpha_n}(x_n) \\nonumber \\\\\n",
      "\t& +& \\dots \\nonumber \\\\\n",
      "\t&+& \\sum_{\\alpha_1'\\alpha_n'} \\langle \\alpha_1'\\alpha_n'|\\hat{v}|\\alpha_1\\alpha_n\\rangle\n",
      "\t\t\\psi_{\\alpha_1}'(x_1)\\psi_{\\alpha_2}(x_2)\\dots \\psi_{\\alpha_n}'(x_n) \\nonumber \\\\\n",
      "\t& +& \\dots \\nonumber \\\\\n",
      "\t&+& \\sum_{\\alpha_2'\\alpha_n'} \\langle \\alpha_2'\\alpha_n'|\\hat{v}|\\alpha_2\\alpha_n\\rangle\n",
      "\t\t\\psi_{\\alpha_1}(x_1)\\psi_{\\alpha_2}'(x_2)\\dots \\psi_{\\alpha_n}'(x_n) \\nonumber \\\\\n",
      "\t & +& \\dots \\label{eq:2-33} \\tag{68}\n",
      "\\end{eqnarray}\n",
      "$$"
     ]
    },
    {
     "cell_type": "markdown",
     "metadata": {},
     "source": [
      "where on the rhs we have a term for each distinct pairs. \n",
      "\n",
      "\n",
      "\n",
      "\n",
      "For the other terms on the rhs we obtain similar expressions  and summing over all terms we obtain"
     ]
    },
    {
     "cell_type": "markdown",
     "metadata": {},
     "source": [
      "<!-- Equation labels as ordinary links -->\n",
      "<div id=\"eq:2-34\"></div>\n",
      "\n",
      "$$\n",
      "\\begin{eqnarray}\n",
      "\tH_I |\\alpha_1\\alpha_2\\dots\\alpha_n\\rangle &=& \\sum_{\\alpha_1', \\alpha_2'} \\langle \\alpha_1'\\alpha_2'|\\hat{v}|\\alpha_1\\alpha_2\\rangle\n",
      "\t\t|\\alpha_1'\\alpha_2'\\dots\\alpha_n\\rangle \\nonumber \\\\\n",
      "\t&+& \\dots \\nonumber \\\\\n",
      "\t&+& \\sum_{\\alpha_1', \\alpha_n'} \\langle \\alpha_1'\\alpha_n'|\\hat{v}|\\alpha_1\\alpha_n\\rangle\n",
      "\t\t|\\alpha_1'\\alpha_2\\dots\\alpha_n'\\rangle \\nonumber \\\\\n",
      "\t&+& \\dots \\nonumber \\\\\n",
      "\t&+& \\sum_{\\alpha_2', \\alpha_n'} \\langle \\alpha_2'\\alpha_n'|\\hat{v}|\\alpha_2\\alpha_n\\rangle\n",
      "\t\t|\\alpha_1\\alpha_2'\\dots\\alpha_n'\\rangle \\nonumber \\\\\n",
      "\t &+& \\dots \\label{eq:2-34} \\tag{69}\n",
      "\\end{eqnarray}\n",
      "$$"
     ]
    },
    {
     "cell_type": "markdown",
     "metadata": {},
     "source": [
      "We introduce second quantization via the relation"
     ]
    },
    {
     "cell_type": "markdown",
     "metadata": {},
     "source": [
      "<!-- Equation labels as ordinary links -->\n",
      "<div id=\"eq:2-35\"></div>\n",
      "\n",
      "$$\n",
      "\\begin{eqnarray}\n",
      "\t&& a_{\\alpha_k'}^{\\dagger} a_{\\alpha_l'}^{\\dagger} a_{\\alpha_l} a_{\\alpha_k} \n",
      "\t\t|\\alpha_1\\alpha_2\\dots\\alpha_k\\dots\\alpha_l\\dots\\alpha_n\\rangle \\nonumber \\\\\n",
      "\t&=& (-1)^{k-1} (-1)^{l-2} a_{\\alpha_k'}^{\\dagger} a_{\\alpha_l'}^{\\dagger} a_{\\alpha_l} a_{\\alpha_k}\n",
      "\t\t|\\alpha_k\\alpha_l \\underbrace{\\alpha_1\\alpha_2\\dots\\alpha_n}_{\\neq \\alpha_k,\\alpha_l}\\rangle \\nonumber \\\\\n",
      "\t&=& (-1)^{k-1} (-1)^{l-2} \n",
      "\t|\\alpha_k'\\alpha_l' \\underbrace{\\alpha_1\\alpha_2\\dots\\alpha_n}_{\\neq \\alpha_k',\\alpha_l'}\\rangle \\nonumber \\\\\n",
      "\t&=& |\\alpha_1\\alpha_2\\dots\\alpha_k'\\dots\\alpha_l'\\dots\\alpha_n\\rangle \\label{eq:2-35} \\tag{70}\n",
      "\\end{eqnarray}\n",
      "$$"
     ]
    },
    {
     "cell_type": "markdown",
     "metadata": {},
     "source": [
      "Inserting this in [(69)](#eq:2-34) gives"
     ]
    },
    {
     "cell_type": "markdown",
     "metadata": {},
     "source": [
      "<!-- Equation labels as ordinary links -->\n",
      "<div id=\"eq:2-36\"></div>\n",
      "\n",
      "$$\n",
      "\\begin{eqnarray}\n",
      "\tH_I |\\alpha_1\\alpha_2\\dots\\alpha_n\\rangle\n",
      "\t&=& \\sum_{\\alpha_1', \\alpha_2'} \\langle \\alpha_1'\\alpha_2'|\\hat{v}|\\alpha_1\\alpha_2\\rangle\n",
      "\t\ta_{\\alpha_1'}^{\\dagger} a_{\\alpha_2'}^{\\dagger} a_{\\alpha_2} a_{\\alpha_1}\n",
      "\t\t|\\alpha_1\\alpha_2\\dots\\alpha_n\\rangle \\nonumber \\\\\n",
      "\t&+& \\dots \\nonumber \\\\\n",
      "\t&=& \\sum_{\\alpha_1', \\alpha_n'} \\langle \\alpha_1'\\alpha_n'|\\hat{v}|\\alpha_1\\alpha_n\\rangle\n",
      "\t\ta_{\\alpha_1'}^{\\dagger} a_{\\alpha_n'}^{\\dagger} a_{\\alpha_n} a_{\\alpha_1}\n",
      "\t\t|\\alpha_1\\alpha_2\\dots\\alpha_n\\rangle \\nonumber \\\\\n",
      "\t&+& \\dots \\nonumber \\\\\n",
      "\t&=& \\sum_{\\alpha_2', \\alpha_n'} \\langle \\alpha_2'\\alpha_n'|\\hat{v}|\\alpha_2\\alpha_n\\rangle\n",
      "\t\ta_{\\alpha_2'}^{\\dagger} a_{\\alpha_n'}^{\\dagger} a_{\\alpha_n} a_{\\alpha_2}\n",
      "\t\t|\\alpha_1\\alpha_2\\dots\\alpha_n\\rangle \\nonumber \\\\\n",
      "\t&+& \\dots \\nonumber \\\\\n",
      "\t&=& \\sum_{\\alpha, \\beta, \\gamma, \\delta} ' \\langle \\alpha\\beta|\\hat{v}|\\gamma\\delta\\rangle\n",
      "\t\ta^{\\dagger}_\\alpha a^{\\dagger}_\\beta a_\\delta a_\\gamma\n",
      "\t\t|\\alpha_1\\alpha_2\\dots\\alpha_n\\rangle \\label{eq:2-36} \\tag{71}\n",
      "\\end{eqnarray}\n",
      "$$"
     ]
    },
    {
     "cell_type": "markdown",
     "metadata": {},
     "source": [
      "Here we let $\\sum'$ indicate that the sums running over $\\alpha$ and $\\beta$ run over all\n",
      "single-particle states, while the summations  $\\gamma$ and $\\delta$ \n",
      "run over all pairs of single-particle states. We wish to remove this restriction and since"
     ]
    },
    {
     "cell_type": "markdown",
     "metadata": {},
     "source": [
      "<!-- Equation labels as ordinary links -->\n",
      "<div id=\"eq:2-37\"></div>\n",
      "\n",
      "$$\n",
      "\\begin{equation}\n",
      "\t\\langle \\alpha\\beta|\\hat{v}|\\gamma\\delta\\rangle = \\langle \\beta\\alpha|\\hat{v}|\\delta\\gamma\\rangle \\label{eq:2-37} \\tag{72}\n",
      "\\end{equation}\n",
      "$$"
     ]
    },
    {
     "cell_type": "markdown",
     "metadata": {},
     "source": [
      "we get"
     ]
    },
    {
     "cell_type": "markdown",
     "metadata": {},
     "source": [
      "<!-- Equation labels as ordinary links -->\n",
      "<div id=\"eq:2-38a\"></div> <div id=\"eq:2-38b\"></div>\n",
      "\n",
      "$$\n",
      "\\begin{eqnarray}\n",
      "\t\\sum_{\\alpha\\beta} \\langle \\alpha\\beta|\\hat{v}|\\gamma\\delta\\rangle a^{\\dagger}_\\alpha a^{\\dagger}_\\beta a_\\delta a_\\gamma &=& \n",
      "\t\t\\sum_{\\alpha\\beta} \\langle \\beta\\alpha|\\hat{v}|\\delta\\gamma\\rangle \n",
      "\t\ta^{\\dagger}_\\alpha a^{\\dagger}_\\beta a_\\delta a_\\gamma \\label{eq:2-38a} \\tag{73} \\\\\n",
      "\t&=& \\sum_{\\alpha\\beta}\\langle \\beta\\alpha|\\hat{v}|\\delta\\gamma\\rangle\n",
      "\t\ta^{\\dagger}_\\beta a^{\\dagger}_\\alpha a_\\gamma a_\\delta \\label{eq:2-38b} \\tag{74}\n",
      "\\end{eqnarray}\n",
      "$$"
     ]
    },
    {
     "cell_type": "markdown",
     "metadata": {},
     "source": [
      "where we  have used the anti-commutation rules.\n",
      "\n",
      "\n",
      "\n",
      "\n",
      "Changing the summation indices \n",
      "$\\alpha$ and $\\beta$ in [(74)](#eq:2-38b) we obtain"
     ]
    },
    {
     "cell_type": "markdown",
     "metadata": {},
     "source": [
      "<!-- Equation labels as ordinary links -->\n",
      "<div id=\"eq:2-38c\"></div>\n",
      "\n",
      "$$\n",
      "\\begin{equation}\n",
      "\t\\sum_{\\alpha\\beta} \\langle \\alpha\\beta|\\hat{v}|\\gamma\\delta\\rangle a^{\\dagger}_\\alpha a^{\\dagger}_\\beta a_\\delta a_\\gamma =\n",
      "\t\t \\sum_{\\alpha\\beta} \\langle \\alpha\\beta|\\hat{v}|\\delta\\gamma\\rangle \n",
      "\t\t  a^{\\dagger}_\\alpha a^{\\dagger}_\\beta  a_\\gamma a_\\delta \\label{eq:2-38c} \\tag{75}\n",
      "\\end{equation}\n",
      "$$"
     ]
    },
    {
     "cell_type": "markdown",
     "metadata": {},
     "source": [
      "From this it follows that the restriction on the summation over $\\gamma$ and $\\delta$ can be removed if we multiply with a factor $\\frac{1}{2}$, resulting in"
     ]
    },
    {
     "cell_type": "markdown",
     "metadata": {},
     "source": [
      "<!-- Equation labels as ordinary links -->\n",
      "<div id=\"eq:2-39\"></div>\n",
      "\n",
      "$$\n",
      "\\begin{equation}\n",
      "\t\\hat{H}_I = \\frac{1}{2} \\sum_{\\alpha\\beta\\gamma\\delta} \\langle \\alpha\\beta|\\hat{v}|\\gamma\\delta\\rangle\n",
      "\t\ta^{\\dagger}_\\alpha a^{\\dagger}_\\beta a_\\delta a_\\gamma \\label{eq:2-39} \\tag{76}\n",
      "\\end{equation}\n",
      "$$"
     ]
    },
    {
     "cell_type": "markdown",
     "metadata": {},
     "source": [
      "where we sum freely over all single-particle states $\\alpha$, \n",
      "$\\beta$, $\\gamma$ og $\\delta$.\n",
      "\n",
      "\n",
      "\n",
      "\n",
      "\n",
      "\n",
      "With this expression we can now verify that the second quantization form of $\\hat{H}_I$ in Eq. [(76)](#eq:2-39) \n",
      "results in the same matrix between two anti-symmetrized two-particle states as its corresponding coordinate\n",
      "space representation. We have"
     ]
    },
    {
     "cell_type": "markdown",
     "metadata": {},
     "source": [
      "<!-- Equation labels as ordinary links -->\n",
      "<div id=\"eq:2-40\"></div>\n",
      "\n",
      "$$\n",
      "\\begin{equation}\n",
      "\t\\langle \\alpha_1 \\alpha_2|\\hat{H}_I|\\beta_1 \\beta_2\\rangle =\n",
      "\t\t\\frac{1}{2} \\sum_{\\alpha\\beta\\gamma\\delta}\n",
      "\t\t\t\\langle \\alpha\\beta|\\hat{v}|\\gamma\\delta\\rangle \\langle 0|a_{\\alpha_2} a_{\\alpha_1} \n",
      "\t\t\t a^{\\dagger}_\\alpha a^{\\dagger}_\\beta a_\\delta a_\\gamma \n",
      "\t\t\t a_{\\beta_1}^{\\dagger} a_{\\beta_2}^{\\dagger}|0\\rangle. \\label{eq:2-40} \\tag{77}\n",
      "\\end{equation}\n",
      "$$"
     ]
    },
    {
     "cell_type": "markdown",
     "metadata": {},
     "source": [
      "Using the commutation relations we get"
     ]
    },
    {
     "cell_type": "markdown",
     "metadata": {},
     "source": [
      "<!-- Equation labels as ordinary links -->\n",
      "<div id=\"eq:2-41\"></div>\n",
      "\n",
      "$$\n",
      "\\begin{eqnarray}\n",
      "\t&& a_{\\alpha_2} a_{\\alpha_1}a^{\\dagger}_\\alpha a^{\\dagger}_\\beta \n",
      "\t\ta_\\delta a_\\gamma a_{\\beta_1}^{\\dagger} a_{\\beta_2}^{\\dagger} \\nonumber \\\\\n",
      "\t&=& a_{\\alpha_2} a_{\\alpha_1}a^{\\dagger}_\\alpha a^{\\dagger}_\\beta \n",
      "\t\t( a_\\delta \\delta_{\\gamma \\beta_1} a_{\\beta_2}^{\\dagger} - \n",
      "\t\ta_\\delta  a_{\\beta_1}^{\\dagger} a_\\gamma a_{\\beta_2}^{\\dagger} ) \\nonumber \\\\\n",
      "\t&=& a_{\\alpha_2} a_{\\alpha_1}a^{\\dagger}_\\alpha a^{\\dagger}_\\beta \n",
      "\t\t(\\delta_{\\gamma \\beta_1} \\delta_{\\delta \\beta_2} - \\delta_{\\gamma \\beta_1} a_{\\beta_2}^{\\dagger} a_\\delta -\n",
      "\t\ta_\\delta a_{\\beta_1}^{\\dagger}\\delta_{\\gamma \\beta_2} +\n",
      "\t\ta_\\delta a_{\\beta_1}^{\\dagger} a_{\\beta_2}^{\\dagger} a_\\gamma ) \\nonumber \\\\\n",
      "\t&=& a_{\\alpha_2} a_{\\alpha_1}a^{\\dagger}_\\alpha a^{\\dagger}_\\beta \n",
      "\t\t(\\delta_{\\gamma \\beta_1} \\delta_{\\delta \\beta_2} - \\delta_{\\gamma \\beta_1} a_{\\beta_2}^{\\dagger} a_\\delta \\nonumber \\\\\n",
      "\t\t&& \\qquad - \\delta_{\\delta \\beta_1} \\delta_{\\gamma \\beta_2} + \\delta_{\\gamma \\beta_2} a_{\\beta_1}^{\\dagger} a_\\delta\n",
      "\t\t+ a_\\delta a_{\\beta_1}^{\\dagger} a_{\\beta_2}^{\\dagger} a_\\gamma ) \\label{eq:2-41} \\tag{78}\n",
      "\\end{eqnarray}\n",
      "$$"
     ]
    },
    {
     "cell_type": "markdown",
     "metadata": {},
     "source": [
      "The vacuum expectation value of this product of operators becomes"
     ]
    },
    {
     "cell_type": "markdown",
     "metadata": {},
     "source": [
      "<!-- Equation labels as ordinary links -->\n",
      "<div id=\"eq:2-42b\"></div>\n",
      "\n",
      "$$\n",
      "\\begin{eqnarray}\n",
      "\t&& \\langle 0|a_{\\alpha_2} a_{\\alpha_1} a^{\\dagger}_\\alpha a^{\\dagger}_\\beta a_\\delta a_\\gamma \n",
      "\t\ta_{\\beta_1}^{\\dagger} a_{\\beta_2}^{\\dagger}|0\\rangle \\nonumber \\\\\n",
      "\t&=& (\\delta_{\\gamma \\beta_1} \\delta_{\\delta \\beta_2} -\n",
      "\t\t\\delta_{\\delta \\beta_1} \\delta_{\\gamma \\beta_2} ) \n",
      "\t\t\\langle 0|a_{\\alpha_2} a_{\\alpha_1}a^{\\dagger}_\\alpha a^{\\dagger}_\\beta|0\\rangle \\nonumber \\\\\n",
      "\t&=& (\\delta_{\\gamma \\beta_1} \\delta_{\\delta \\beta_2} -\\delta_{\\delta \\beta_1} \\delta_{\\gamma \\beta_2} )\n",
      "\t(\\delta_{\\alpha \\alpha_1} \\delta_{\\beta \\alpha_2} -\\delta_{\\beta \\alpha_1} \\delta_{\\alpha \\alpha_2} ) \\label{eq:2-42b} \\tag{79}\n",
      "\\end{eqnarray}\n",
      "$$"
     ]
    },
    {
     "cell_type": "markdown",
     "metadata": {},
     "source": [
      "Insertion of \n",
      "Eq. [(79)](#eq:2-42b) in Eq. [(77)](#eq:2-40) results in"
     ]
    },
    {
     "cell_type": "markdown",
     "metadata": {},
     "source": [
      "<!-- Equation labels as ordinary links -->\n",
      "<div id=\"eq:2-43b\"></div>\n",
      "\n",
      "$$\n",
      "\\begin{eqnarray}\n",
      "\t\\langle \\alpha_1\\alpha_2|\\hat{H}_I|\\beta_1\\beta_2\\rangle &=& \\frac{1}{2} \\big[ \n",
      "\t\t\\langle \\alpha_1\\alpha_2|\\hat{v}|\\beta_1\\beta_2\\rangle- \\langle \\alpha_1\\alpha_2|\\hat{v}|\\beta_2\\beta_1\\rangle \\nonumber \\\\\n",
      "\t\t&& - \\langle \\alpha_2\\alpha_1|\\hat{v}|\\beta_1\\beta_2\\rangle + \\langle \\alpha_2\\alpha_1|\\hat{v}|\\beta_2\\beta_1\\rangle \\big] \\nonumber \\\\\n",
      "\t&=& \\langle \\alpha_1\\alpha_2|\\hat{v}|\\beta_1\\beta_2\\rangle - \\langle \\alpha_1\\alpha_2|\\hat{v}|\\beta_2\\beta_1\\rangle \\nonumber \\\\\n",
      "\t&=& \\langle \\alpha_1\\alpha_2|\\hat{v}|\\beta_1\\beta_2\\rangle_{\\mathrm{AS}}. \\label{eq:2-43b} \\tag{80}\n",
      "\\end{eqnarray}\n",
      "$$"
     ]
    },
    {
     "cell_type": "markdown",
     "metadata": {},
     "source": [
      "The two-body operator can also be expressed in terms of the anti-symmetrized matrix elements we discussed previously as"
     ]
    },
    {
     "cell_type": "markdown",
     "metadata": {},
     "source": [
      "<!-- Equation labels as ordinary links -->\n",
      "<div id=\"eq:2-45\"></div>\n",
      "\n",
      "$$\n",
      "\\begin{eqnarray}\n",
      "\t\\hat{H}_I &=& \\frac{1}{2} \\sum_{\\alpha\\beta\\gamma\\delta}  \\langle \\alpha \\beta|\\hat{v}|\\gamma \\delta\\rangle\n",
      "\t\ta_\\alpha^{\\dagger} a_\\beta^{\\dagger} a_\\delta a_\\gamma \\nonumber \\\\\n",
      "\t&=& \\frac{1}{4} \\sum_{\\alpha\\beta\\gamma\\delta} \\left[ \\langle \\alpha \\beta|\\hat{v}|\\gamma \\delta\\rangle -\n",
      "\t\t\\langle \\alpha \\beta|\\hat{v}|\\delta\\gamma \\rangle \\right] \n",
      "\t\ta_\\alpha^{\\dagger} a_\\beta^{\\dagger} a_\\delta a_\\gamma \\nonumber \\\\\n",
      "\t&=& \\frac{1}{4} \\sum_{\\alpha\\beta\\gamma\\delta} \\langle \\alpha \\beta|\\hat{v}|\\gamma \\delta\\rangle_{\\mathrm{AS}}\n",
      "\t\ta_\\alpha^{\\dagger} a_\\beta^{\\dagger} a_\\delta a_\\gamma \\label{eq:2-45} \\tag{81}\n",
      "\\end{eqnarray}\n",
      "$$"
     ]
    },
    {
     "cell_type": "markdown",
     "metadata": {},
     "source": [
      "The factors in front of the operator, either  $\\frac{1}{4}$ or \n",
      "$\\frac{1}{2}$ tells whether we use antisymmetrized matrix elements or not. \n",
      "\n",
      "We can now express the Hamiltonian operator for a many-fermion system  in the occupation basis representation\n",
      "as"
     ]
    },
    {
     "cell_type": "markdown",
     "metadata": {},
     "source": [
      "<!-- Equation labels as ordinary links -->\n",
      "<div id=\"eq:2-46b\"></div>\n",
      "\n",
      "$$\n",
      "\\begin{equation}\n",
      "\tH = \\sum_{\\alpha, \\beta} \\langle \\alpha|\\hat{t}+\\hat{u}_{\\mathrm{ext}}|\\beta\\rangle a_\\alpha^{\\dagger} a_\\beta + \\frac{1}{4} \\sum_{\\alpha\\beta\\gamma\\delta}\n",
      "\t\t\\langle \\alpha \\beta|\\hat{v}|\\gamma \\delta\\rangle a_\\alpha^{\\dagger} a_\\beta^{\\dagger} a_\\delta a_\\gamma. \\label{eq:2-46b} \\tag{82}\n",
      "\\end{equation}\n",
      "$$"
     ]
    },
    {
     "cell_type": "markdown",
     "metadata": {},
     "source": [
      "This is the form we will use in the rest of these lectures, assuming that we work with anti-symmetrized two-body matrix elements.\n",
      "\n",
      "\n",
      "\n",
      "\n",
      "\n",
      "## Particle-hole formalism\n",
      "\n",
      "Second quantization is a useful and elegant formalism  for constructing many-body  states and \n",
      "quantum mechanical operators. One can express and translate many physical processes\n",
      "into simple pictures such as Feynman diagrams. Expecation values of many-body states are also easily calculated.\n",
      "However, although the equations are seemingly easy to set up, from  a practical point of view, that is\n",
      "the solution of Schroedinger's equation, there is no particular gain.\n",
      "The many-body equation is equally hard to solve, irrespective of representation. \n",
      "The cliche that \n",
      "there is no free lunch brings us down to earth again.  \n",
      "Note however that a transformation to a particular\n",
      "basis, for cases where the interaction obeys specific symmetries, can ease the solution of Schroedinger's equation. \n",
      "\n",
      "But there is at least one important case where second quantization comes to our rescue.\n",
      "It is namely easy to introduce another reference state than the pure vacuum $|0\\rangle $, where all single-particle states are active.\n",
      "With many particles present it is often useful to introduce another reference state  than the vacuum state$|0\\rangle $. We will label this state $|c\\rangle$ ($c$ for core) and as we will see it can reduce \n",
      "considerably the complexity and thereby the dimensionality of the many-body problem. It allows us to sum up to infinite order specific many-body correlations.  The particle-hole representation is one of these handy representations. \n",
      "\n",
      "\n",
      "\n",
      "\n",
      "\n",
      "In the original particle representation these states are products of the creation operators  $a_{\\alpha_i}^\\dagger$ acting on the true vacuum $|0\\rangle $.\n",
      "Following Eq. [(27)](#eq:2-2) we have"
     ]
    },
    {
     "cell_type": "markdown",
     "metadata": {},
     "source": [
      "<!-- Equation labels as ordinary links -->\n",
      "<div id=\"eq:2-47a\"></div> <div id=\"eq:2-47b\"></div> <div id=\"eq:2-47c\"></div>\n",
      "\n",
      "$$\n",
      "\\begin{eqnarray}\n",
      " |\\alpha_1\\alpha_2\\dots\\alpha_{n-1}\\alpha_n\\rangle &=& a_{\\alpha_1}^\\dagger a_{\\alpha_2}^\\dagger \\dots\n",
      "\t\t\t\t\ta_{\\alpha_{n-1}}^\\dagger a_{\\alpha_n}^\\dagger |0\\rangle  \\label{eq:2-47a} \\tag{83} \\\\\n",
      "\t|\\alpha_1\\alpha_2\\dots\\alpha_{n-1}\\alpha_n\\alpha_{n+1}\\rangle &=&\n",
      "\t\ta_{\\alpha_1}^\\dagger a_{\\alpha_2}^\\dagger \\dots a_{\\alpha_{n-1}}^\\dagger a_{\\alpha_n}^\\dagger\n",
      "\t\ta_{\\alpha_{n+1}}^\\dagger |0\\rangle  \\label{eq:2-47b} \\tag{84} \\\\\n",
      "\t|\\alpha_1\\alpha_2\\dots\\alpha_{n-1}\\rangle &=& a_{\\alpha_1}^\\dagger a_{\\alpha_2}^\\dagger \\dots\n",
      "\t\ta_{\\alpha_{n-1}}^\\dagger |0\\rangle  \\label{eq:2-47c} \\tag{85}\n",
      "\\end{eqnarray}\n",
      "$$"
     ]
    },
    {
     "cell_type": "markdown",
     "metadata": {},
     "source": [
      "If we use Eq. [(83)](#eq:2-47a) as our new reference state, we can simplify considerably the representation of \n",
      "this state"
     ]
    },
    {
     "cell_type": "markdown",
     "metadata": {},
     "source": [
      "<!-- Equation labels as ordinary links -->\n",
      "<div id=\"eq:2-48a\"></div>\n",
      "\n",
      "$$\n",
      "\\begin{equation}\n",
      "\t|c\\rangle  \\equiv |\\alpha_1\\alpha_2\\dots\\alpha_{n-1}\\alpha_n\\rangle =\n",
      "\t\ta_{\\alpha_1}^\\dagger a_{\\alpha_2}^\\dagger \\dots a_{\\alpha_{n-1}}^\\dagger a_{\\alpha_n}^\\dagger |0\\rangle  \\label{eq:2-48a} \\tag{86}\n",
      "\\end{equation}\n",
      "$$"
     ]
    },
    {
     "cell_type": "markdown",
     "metadata": {},
     "source": [
      "The new reference states for the $n+1$ and $n-1$ states can then be written as"
     ]
    },
    {
     "cell_type": "markdown",
     "metadata": {},
     "source": [
      "<!-- Equation labels as ordinary links -->\n",
      "<div id=\"eq:2-48b\"></div> <div id=\"eq:2-48c\"></div>\n",
      "\n",
      "$$\n",
      "\\begin{eqnarray}\n",
      "\t|\\alpha_1\\alpha_2\\dots\\alpha_{n-1}\\alpha_n\\alpha_{n+1}\\rangle &=& (-1)^n a_{\\alpha_{n+1}}^\\dagger |c\\rangle \n",
      "\t\t\\equiv (-1)^n |\\alpha_{n+1}\\rangle_c \\label{eq:2-48b} \\tag{87} \\\\\n",
      "\t|\\alpha_1\\alpha_2\\dots\\alpha_{n-1}\\rangle &=& (-1)^{n-1} a_{\\alpha_n} |c\\rangle  \n",
      "\t\t\\equiv (-1)^{n-1} |\\alpha_{n-1}\\rangle_c \\label{eq:2-48c} \\tag{88} \n",
      "\\end{eqnarray}\n",
      "$$"
     ]
    },
    {
     "cell_type": "markdown",
     "metadata": {},
     "source": [
      "The first state has one additional particle with respect to the new vacuum state\n",
      "$|c\\rangle $  and is normally referred to as a one-particle state or one particle added to the \n",
      "many-body reference state. \n",
      "The second state has one particle less than the reference vacuum state  $|c\\rangle $ and is referred to as\n",
      "a one-hole state. \n",
      "When dealing with a new reference state it is often convenient to introduce \n",
      "new creation and annihilation operators since we have \n",
      "from Eq. [(88)](#eq:2-48c)"
     ]
    },
    {
     "cell_type": "markdown",
     "metadata": {},
     "source": [
      "<!-- Equation labels as ordinary links -->\n",
      "<div id=\"eq:2-49\"></div>\n",
      "\n",
      "$$\n",
      "\\begin{equation}\n",
      "\ta_\\alpha |c\\rangle  \\neq 0 \\label{eq:2-49} \\tag{89}\n",
      "\\end{equation}\n",
      "$$"
     ]
    },
    {
     "cell_type": "markdown",
     "metadata": {},
     "source": [
      "since  $\\alpha$ is contained  in $|c\\rangle $, while for the true vacuum we have \n",
      "$a_\\alpha |0\\rangle  = 0$ for all $\\alpha$.\n",
      "\n",
      "The new reference state leads to the definition of new creation and annihilation operators\n",
      "which satisfy the following relations"
     ]
    },
    {
     "cell_type": "markdown",
     "metadata": {},
     "source": [
      "<!-- Equation labels as ordinary links -->\n",
      "<div id=\"eq:2-50a\"></div> <div id=\"eq:2-50c\"></div>\n",
      "\n",
      "$$\n",
      "\\begin{eqnarray}\n",
      "\tb_\\alpha |c\\rangle  &=& 0 \\label{eq:2-50a} \\tag{90} \\\\\n",
      "\t\\{b_\\alpha^\\dagger , b_\\beta^\\dagger \\} = \\{b_\\alpha , b_\\beta \\} &=& 0 \\nonumber  \\\\\n",
      "\t\\{b_\\alpha^\\dagger , b_\\beta \\} &=& \\delta_{\\alpha \\beta} \\label{eq:2-50c} \\tag{91}\n",
      "\\end{eqnarray}\n",
      "$$"
     ]
    },
    {
     "cell_type": "markdown",
     "metadata": {},
     "source": [
      "We assume also that the new reference state is properly normalized"
     ]
    },
    {
     "cell_type": "markdown",
     "metadata": {},
     "source": [
      "<!-- Equation labels as ordinary links -->\n",
      "<div id=\"eq:2-51\"></div>\n",
      "\n",
      "$$\n",
      "\\begin{equation}\n",
      "\t\\langle c | c \\rangle = 1 \\label{eq:2-51} \\tag{92}\n",
      "\\end{equation}\n",
      "$$"
     ]
    },
    {
     "cell_type": "markdown",
     "metadata": {},
     "source": [
      "The physical interpretation of these new operators is that of so-called quasiparticle states.\n",
      "This means that a state defined by the addition of one extra particle to a reference state $|c\\rangle $ may not necesseraly be interpreted as one particle coupled to a core.\n",
      "We define now new creation operators that act on a state $\\alpha$ creating a new quasiparticle state"
     ]
    },
    {
     "cell_type": "markdown",
     "metadata": {},
     "source": [
      "<!-- Equation labels as ordinary links -->\n",
      "<div id=\"eq:2-52\"></div>\n",
      "\n",
      "$$\n",
      "\\begin{equation}\n",
      "\tb_\\alpha^\\dagger|c\\rangle  = \\Bigg\\{ \\begin{array}{ll}\n",
      "\t\ta_\\alpha^\\dagger |c\\rangle  = |\\alpha\\rangle, & \\alpha > F \\\\\n",
      "\t\t\\\\\n",
      "\t\ta_\\alpha |c\\rangle  = |\\alpha^{-1}\\rangle, & \\alpha \\leq F\n",
      "\t\\end{array} \\label{eq:2-52} \\tag{93}\n",
      "\\end{equation}\n",
      "$$"
     ]
    },
    {
     "cell_type": "markdown",
     "metadata": {},
     "source": [
      "where $F$ is the Fermi level representing the last  occupied single-particle orbit \n",
      "of the new reference state $|c\\rangle $. \n",
      "\n",
      "\n",
      "The annihilation is the hermitian conjugate of the creation operator"
     ]
    },
    {
     "cell_type": "markdown",
     "metadata": {},
     "source": [
      "$$\n",
      "b_\\alpha = (b_\\alpha^\\dagger)^\\dagger,\n",
      "$$"
     ]
    },
    {
     "cell_type": "markdown",
     "metadata": {},
     "source": [
      "resulting in"
     ]
    },
    {
     "cell_type": "markdown",
     "metadata": {},
     "source": [
      "<!-- Equation labels as ordinary links -->\n",
      "<div id=\"eq:2-54\"></div>\n",
      "\n",
      "$$\n",
      "\\begin{equation}\n",
      "\tb_\\alpha^\\dagger = \\Bigg\\{ \\begin{array}{ll}\n",
      "\t\ta_\\alpha^\\dagger & \\alpha > F \\\\\n",
      "\t\t\\\\\n",
      "\t\ta_\\alpha & \\alpha \\leq F\n",
      "\t\\end{array} \\qquad \n",
      "\tb_\\alpha = \\Bigg\\{ \\begin{array}{ll}\n",
      "\t\ta_\\alpha & \\alpha > F \\\\\n",
      "\t\t\\\\\n",
      "\t\t a_\\alpha^\\dagger & \\alpha \\leq F\n",
      "\t\\end{array} \\label{eq:2-54} \\tag{94}\n",
      "\\end{equation}\n",
      "$$"
     ]
    },
    {
     "cell_type": "markdown",
     "metadata": {},
     "source": [
      "With the new creation and annihilation operator  we can now construct \n",
      "many-body quasiparticle states, with one-particle-one-hole states, two-particle-two-hole\n",
      "states etc in the same fashion as we previously constructed many-particle states. \n",
      "We can write a general particle-hole state as"
     ]
    },
    {
     "cell_type": "markdown",
     "metadata": {},
     "source": [
      "<!-- Equation labels as ordinary links -->\n",
      "<div id=\"eq:2-56\"></div>\n",
      "\n",
      "$$\n",
      "\\begin{equation}\n",
      "\t|\\beta_1\\beta_2\\dots \\beta_{n_p} \\gamma_1^{-1} \\gamma_2^{-1} \\dots \\gamma_{n_h}^{-1}\\rangle \\equiv\n",
      "\t\t\\underbrace{b_{\\beta_1}^\\dagger b_{\\beta_2}^\\dagger \\dots b_{\\beta_{n_p}}^\\dagger}_{>F}\n",
      "\t\t\\underbrace{b_{\\gamma_1}^\\dagger b_{\\gamma_2}^\\dagger \\dots b_{\\gamma_{n_h}}^\\dagger}_{\\leq F} |c\\rangle \\label{eq:2-56} \\tag{95}\n",
      "\\end{equation}\n",
      "$$"
     ]
    },
    {
     "cell_type": "markdown",
     "metadata": {},
     "source": [
      "We can now rewrite our one-body and two-body operators in terms of the new creation and annihilation operators.\n",
      "The number operator becomes"
     ]
    },
    {
     "cell_type": "markdown",
     "metadata": {},
     "source": [
      "<!-- Equation labels as ordinary links -->\n",
      "<div id=\"eq:2-57b\"></div>\n",
      "\n",
      "$$\n",
      "\\begin{equation}\n",
      "\t\\hat{N} = \\sum_\\alpha a_\\alpha^\\dagger a_\\alpha= \n",
      "\\sum_{\\alpha > F} b_\\alpha^\\dagger b_\\alpha + n_c - \\sum_{\\alpha \\leq F} b_\\alpha^\\dagger b_\\alpha \\label{eq:2-57b} \\tag{96}\n",
      "\\end{equation}\n",
      "$$"
     ]
    },
    {
     "cell_type": "markdown",
     "metadata": {},
     "source": [
      "where $n_c$ is the number of particle in the new vacuum state $|c\\rangle $.  \n",
      "The action of $\\hat{N}$ on a many-body state results in"
     ]
    },
    {
     "cell_type": "markdown",
     "metadata": {},
     "source": [
      "<!-- Equation labels as ordinary links -->\n",
      "<div id=\"2-59\"></div>\n",
      "\n",
      "$$\n",
      "\\begin{equation}\n",
      "\tN |\\beta_1\\beta_2\\dots \\beta_{n_p} \\gamma_1^{-1} \\gamma_2^{-1} \\dots \\gamma_{n_h}^{-1}\\rangle = (n_p + n_c - n_h) |\\beta_1\\beta_2\\dots \\beta_{n_p} \\gamma_1^{-1} \\gamma_2^{-1} \\dots \\gamma_{n_h}^{-1}\\rangle \\label{2-59} \\tag{97}\n",
      "\\end{equation}\n",
      "$$"
     ]
    },
    {
     "cell_type": "markdown",
     "metadata": {},
     "source": [
      "Here  $n=n_p +n_c - n_h$ is the total number of particles in the quasi-particle state of \n",
      "Eq. [(95)](#eq:2-56). Note that  $\\hat{N}$ counts the total number of particles  present"
     ]
    },
    {
     "cell_type": "markdown",
     "metadata": {},
     "source": [
      "<!-- Equation labels as ordinary links -->\n",
      "<div id=\"eq:2-60\"></div>\n",
      "\n",
      "$$\n",
      "\\begin{equation}\n",
      "\tN_{qp} = \\sum_\\alpha b_\\alpha^\\dagger b_\\alpha, \\label{eq:2-60} \\tag{98}\n",
      "\\end{equation}\n",
      "$$"
     ]
    },
    {
     "cell_type": "markdown",
     "metadata": {},
     "source": [
      "gives us the number of quasi-particles as can be seen by computing"
     ]
    },
    {
     "cell_type": "markdown",
     "metadata": {},
     "source": [
      "<!-- Equation labels as ordinary links -->\n",
      "<div id=\"eq:2-61\"></div>\n",
      "\n",
      "$$\n",
      "\\begin{equation}\n",
      "\tN_{qp}= |\\beta_1\\beta_2\\dots \\beta_{n_p} \\gamma_1^{-1} \\gamma_2^{-1} \\dots \\gamma_{n_h}^{-1}\\rangle\n",
      "\t\t= (n_p + n_h)|\\beta_1\\beta_2\\dots \\beta_{n_p} \\gamma_1^{-1} \\gamma_2^{-1} \\dots \\gamma_{n_h}^{-1}\\rangle \\label{eq:2-61} \\tag{99}\n",
      "\\end{equation}\n",
      "$$"
     ]
    },
    {
     "cell_type": "markdown",
     "metadata": {},
     "source": [
      "where $n_{qp} = n_p + n_h$ is the total number of quasi-particles.\n",
      "\n",
      "\n",
      "\n",
      "\n",
      "We express the one-body operator $\\hat{H}_0$ in terms of the quasi-particle creation and annihilation operators, resulting in"
     ]
    },
    {
     "cell_type": "markdown",
     "metadata": {},
     "source": [
      "<!-- Equation labels as ordinary links -->\n",
      "<div id=\"eq:2-63b\"></div>\n",
      "\n",
      "$$\n",
      "\\begin{eqnarray}\n",
      "\t\\hat{H}_0 &=& \\sum_{\\alpha\\beta > F} \\langle \\alpha|\\hat{h}_0|\\beta\\rangle  b_\\alpha^\\dagger b_\\beta +\n",
      "\t\t\\sum_{\\begin{array}{c} \\alpha > F \\\\ \\beta \\leq F \\end{array}} \\left[\n",
      "\t\t\\langle \\alpha|\\hat{h}_0|\\beta\\rangle b_\\alpha^\\dagger b_\\beta^\\dagger + \n",
      "\t\t\\langle \\beta|\\hat{h}_0|\\alpha\\rangle b_\\beta  b_\\alpha \\right] \\nonumber \\\\\n",
      "\t&+& \\sum_{\\alpha \\leq F} \\langle \\alpha|\\hat{h}_0|\\alpha\\rangle - \n",
      "\t\t\\sum_{\\alpha\\beta \\leq F} \\langle \\beta|\\hat{h}_0|\\alpha\\rangle\n",
      "\t\tb_\\alpha^\\dagger b_\\beta \\label{eq:2-63b} \\tag{100}\n",
      "\\end{eqnarray}\n",
      "$$"
     ]
    },
    {
     "cell_type": "markdown",
     "metadata": {},
     "source": [
      "The first term  gives contribution only for particle states, while the last one\n",
      "contributes only for holestates. The second term can create or destroy a set of\n",
      "quasi-particles and \n",
      "the third term is the contribution  from the vacuum state $|c\\rangle$.\n",
      "\n",
      "\n",
      "\n",
      "\n",
      "\n",
      "Before we continue with the expressions for the two-body operator, we introduce a nomenclature we will use for the rest of this\n",
      "text. It is inspired by the notation used in quantum chemistry.\n",
      "We reserve the labels $i,j,k,\\dots$ for hole states and $a,b,c,\\dots$ for states above $F$, viz. particle states.\n",
      "This means also that we will skip the constraint $\\leq F$ or $> F$ in the summation symbols. \n",
      "Our operator $\\hat{H}_0$  reads now"
     ]
    },
    {
     "cell_type": "markdown",
     "metadata": {},
     "source": [
      "<!-- Equation labels as ordinary links -->\n",
      "<div id=\"eq:2-63b\"></div>\n",
      "\n",
      "$$\n",
      "\\begin{eqnarray}\n",
      "\t\\hat{H}_0 &=& \\sum_{ab} \\langle a|\\hat{h}|b\\rangle b_a^\\dagger b_b +\n",
      "\t\t\\sum_{ai} \\left[\n",
      "\t\t\\langle a|\\hat{h}|i\\rangle b_a^\\dagger b_i^\\dagger + \n",
      "\t\t\\langle i|\\hat{h}|a\\rangle b_i  b_a \\right] \\nonumber \\\\\n",
      "\t&+& \\sum_{i} \\langle i|\\hat{h}|i\\rangle - \n",
      "\t\t\\sum_{ij} \\langle j|\\hat{h}|i\\rangle\n",
      "\t\tb_i^\\dagger b_j \\label{eq:2-63b} \\tag{101}\n",
      "\\end{eqnarray}\n",
      "$$"
     ]
    },
    {
     "cell_type": "markdown",
     "metadata": {},
     "source": [
      "The two-particle operator in the particle-hole formalism  is more complicated since we have\n",
      "to translate four indices $\\alpha\\beta\\gamma\\delta$ to the possible combinations of particle and hole\n",
      "states.  When performing the commutator algebra we can regroup the operator in five different terms"
     ]
    },
    {
     "cell_type": "markdown",
     "metadata": {},
     "source": [
      "<!-- Equation labels as ordinary links -->\n",
      "<div id=\"eq:2-65\"></div>\n",
      "\n",
      "$$\n",
      "\\begin{equation}\n",
      "\t\\hat{H}_I = \\hat{H}_I^{(a)} + \\hat{H}_I^{(b)} + \\hat{H}_I^{(c)} + \\hat{H}_I^{(d)} + \\hat{H}_I^{(e)} \\label{eq:2-65} \\tag{102}\n",
      "\\end{equation}\n",
      "$$"
     ]
    },
    {
     "cell_type": "markdown",
     "metadata": {},
     "source": [
      "Using anti-symmetrized  matrix elements, \n",
      "bthe term  $\\hat{H}_I^{(a)}$ is"
     ]
    },
    {
     "cell_type": "markdown",
     "metadata": {},
     "source": [
      "<!-- Equation labels as ordinary links -->\n",
      "<div id=\"eq:2-66\"></div>\n",
      "\n",
      "$$\n",
      "\\begin{equation}\n",
      "\t\\hat{H}_I^{(a)} = \\frac{1}{4}\n",
      "\t\\sum_{abcd} \\langle ab|\\hat{V}|cd\\rangle \n",
      "\t\tb_a^\\dagger b_b^\\dagger b_d b_c \\label{eq:2-66} \\tag{103}\n",
      "\\end{equation}\n",
      "$$"
     ]
    },
    {
     "cell_type": "markdown",
     "metadata": {},
     "source": [
      "The next term $\\hat{H}_I^{(b)}$  reads"
     ]
    },
    {
     "cell_type": "markdown",
     "metadata": {},
     "source": [
      "<!-- Equation labels as ordinary links -->\n",
      "<div id=\"eq:2-67b\"></div>\n",
      "\n",
      "$$\n",
      "\\begin{equation}\n",
      "\t \\hat{H}_I^{(b)} = \\frac{1}{4} \\sum_{abci}\\left(\\langle ab|\\hat{V}|ci\\rangle b_a^\\dagger b_b^\\dagger b_i^\\dagger b_c +\\langle ai|\\hat{V}|cb\\rangle b_a^\\dagger b_i b_b b_c\\right) \\label{eq:2-67b} \\tag{104}\n",
      "\\end{equation}\n",
      "$$"
     ]
    },
    {
     "cell_type": "markdown",
     "metadata": {},
     "source": [
      "This term conserves the number of quasiparticles but creates or removes a \n",
      "three-particle-one-hole  state. \n",
      "For $\\hat{H}_I^{(c)}$  we have"
     ]
    },
    {
     "cell_type": "markdown",
     "metadata": {},
     "source": [
      "<!-- Equation labels as ordinary links -->\n",
      "<div id=\"eq:2-68c\"></div>\n",
      "\n",
      "$$\n",
      "\\begin{eqnarray}\n",
      "\t\\hat{H}_I^{(c)}& =& \\frac{1}{4}\n",
      "\t\t\\sum_{abij}\\left(\\langle ab|\\hat{V}|ij\\rangle b_a^\\dagger b_b^\\dagger b_j^\\dagger b_i^\\dagger +\n",
      "\t\t\\langle ij|\\hat{V}|ab\\rangle b_a  b_b b_j b_i \\right)+  \\nonumber \\\\\n",
      "\t&&\t\\frac{1}{2}\\sum_{abij}\\langle ai|\\hat{V}|bj\\rangle b_a^\\dagger b_j^\\dagger b_b b_i + \n",
      "\t\t\\frac{1}{2}\\sum_{abi}\\langle ai|\\hat{V}|bi\\rangle b_a^\\dagger b_b. \\label{eq:2-68c} \\tag{105}\n",
      "\\end{eqnarray}\n",
      "$$"
     ]
    },
    {
     "cell_type": "markdown",
     "metadata": {},
     "source": [
      "The first line stands for the creation of a two-particle-two-hole state, while the second line represents\n",
      "the creation to two one-particle-one-hole pairs\n",
      "while the last term represents a contribution to the particle single-particle energy\n",
      "from the hole states, that is an interaction between the particle states and the hole states\n",
      "within the new vacuum  state.\n",
      "The fourth term reads"
     ]
    },
    {
     "cell_type": "markdown",
     "metadata": {},
     "source": [
      "<!-- Equation labels as ordinary links -->\n",
      "<div id=\"eq:2-69d\"></div>\n",
      "\n",
      "$$\n",
      "\\begin{eqnarray}\n",
      "\t \\hat{H}_I^{(d)}& = &\\frac{1}{4} \n",
      "\t \t\\sum_{aijk}\\left(\\langle ai|\\hat{V}|jk\\rangle b_a^\\dagger b_k^\\dagger b_j^\\dagger b_i+\n",
      "\\langle ji|\\hat{V}|ak\\rangle b_k^\\dagger b_j b_i b_a\\right)+\\nonumber \\\\\n",
      "&&\\frac{1}{4}\\sum_{aij}\\left(\\langle ai|\\hat{V}|ji\\rangle b_a^\\dagger b_j^\\dagger+\n",
      "\\langle ji|\\hat{V}|ai\\rangle - \\langle ji|\\hat{V}|ia\\rangle b_j b_a \\right). \\label{eq:2-69d} \\tag{106} \n",
      "\\end{eqnarray}\n",
      "$$"
     ]
    },
    {
     "cell_type": "markdown",
     "metadata": {},
     "source": [
      "The terms in the first line  stand for the creation of a particle-hole state \n",
      "interacting with hole states, we will label this as a two-hole-one-particle contribution. \n",
      "The remaining terms are a particle-hole state interacting with the holes in the vacuum state. \n",
      "Finally we have"
     ]
    },
    {
     "cell_type": "markdown",
     "metadata": {},
     "source": [
      "<!-- Equation labels as ordinary links -->\n",
      "<div id=\"eq:2-70d\"></div>\n",
      "\n",
      "$$\n",
      "\\begin{equation}\n",
      "\t\\hat{H}_I^{(e)} = \\frac{1}{4}\n",
      "\t\t \\sum_{ijkl}\n",
      "\t\t \\langle kl|\\hat{V}|ij\\rangle b_i^\\dagger b_j^\\dagger b_l b_k+\n",
      "\t        \\frac{1}{2}\\sum_{ijk}\\langle ij|\\hat{V}|kj\\rangle b_k^\\dagger b_i\n",
      "\t        +\\frac{1}{2}\\sum_{ij}\\langle ij|\\hat{V}|ij\\rangle \\label{eq:2-70d} \\tag{107}\n",
      "\\end{equation}\n",
      "$$"
     ]
    },
    {
     "cell_type": "markdown",
     "metadata": {},
     "source": [
      "The first terms represents the \n",
      "interaction between two holes while the second stands for the interaction between a hole and the remaining holes in the vacuum state.\n",
      "It represents a contribution to single-hole energy  to first order.\n",
      "The last term collects all contributions to the energy of the ground state of a closed-shell system arising\n",
      "from hole-hole correlations.\n",
      "\n",
      "\n",
      "\n",
      "\n",
      "## Summarizing and defining a normal-ordered Hamiltonian"
     ]
    },
    {
     "cell_type": "markdown",
     "metadata": {},
     "source": [
      "$$\n",
      "\\Phi_{AS}(\\alpha_1, \\dots, \\alpha_A; x_1, \\dots x_A)=\n",
      "            \\frac{1}{\\sqrt{A}} \\sum_{\\hat{P}} (-1)^P \\hat{P} \\prod_{i=1}^A \\psi_{\\alpha_i}(x_i),\n",
      "$$"
     ]
    },
    {
     "cell_type": "markdown",
     "metadata": {},
     "source": [
      "which is equivalent with $|\\alpha_1 \\dots \\alpha_A\\rangle= a_{\\alpha_1}^{\\dagger} \\dots a_{\\alpha_A}^{\\dagger} |0\\rangle$. We have also"
     ]
    },
    {
     "cell_type": "markdown",
     "metadata": {},
     "source": [
      "3\n",
      "2\n",
      "8\n",
      " \n",
      "<\n",
      "<\n",
      "<\n",
      "!\n",
      "!\n",
      "M\n",
      "A\n",
      "T\n",
      "H\n",
      "_\n",
      "B\n",
      "L\n",
      "O\n",
      "C\n",
      "K"
     ]
    },
    {
     "cell_type": "markdown",
     "metadata": {},
     "source": [
      "$$\n",
      "\\delta_{pq} = \\left\\{a_p, a_q^\\dagger \\right\\},\n",
      "$$"
     ]
    },
    {
     "cell_type": "markdown",
     "metadata": {},
     "source": [
      "and"
     ]
    },
    {
     "cell_type": "markdown",
     "metadata": {},
     "source": [
      "3\n",
      "3\n",
      "0\n",
      " \n",
      "<\n",
      "<\n",
      "<\n",
      "!\n",
      "!\n",
      "M\n",
      "A\n",
      "T\n",
      "H\n",
      "_\n",
      "B\n",
      "L\n",
      "O\n",
      "C\n",
      "K"
     ]
    },
    {
     "cell_type": "markdown",
     "metadata": {},
     "source": [
      "$$\n",
      "|\\Phi_0\\rangle = |\\alpha_1 \\dots \\alpha_A\\rangle, \\quad \\alpha_1, \\dots, \\alpha_A \\leq \\alpha_F\n",
      "$$"
     ]
    },
    {
     "cell_type": "markdown",
     "metadata": {},
     "source": [
      "3\n",
      "3\n",
      "2\n",
      " \n",
      "<\n",
      "<\n",
      "<\n",
      "!\n",
      "!\n",
      "M\n",
      "A\n",
      "T\n",
      "H\n",
      "_\n",
      "B\n",
      "L\n",
      "O\n",
      "C\n",
      "K"
     ]
    },
    {
     "cell_type": "markdown",
     "metadata": {},
     "source": [
      "$$\n",
      "\\left\\{a_p, a_q^\\dagger \\right\\} = \\delta_{pq}, p, q > \\alpha_F\n",
      "$$"
     ]
    },
    {
     "cell_type": "markdown",
     "metadata": {},
     "source": [
      "with         $i,j,\\ldots \\leq \\alpha_F, \\quad a,b,\\ldots > \\alpha_F, \\quad p,q, \\ldots - \\textrm{any}$"
     ]
    },
    {
     "cell_type": "markdown",
     "metadata": {},
     "source": [
      "$$\n",
      "a_i|\\Phi_0\\rangle = |\\Phi_i\\rangle, \\hspace{0.5cm} a_a^\\dagger|\\Phi_0\\rangle = |\\Phi^a\\rangle\n",
      "$$"
     ]
    },
    {
     "cell_type": "markdown",
     "metadata": {},
     "source": [
      "and"
     ]
    },
    {
     "cell_type": "markdown",
     "metadata": {},
     "source": [
      "$$\n",
      "a_i^\\dagger|\\Phi_0\\rangle = 0 \\hspace{0.5cm}  a_a|\\Phi_0\\rangle = 0\n",
      "$$"
     ]
    },
    {
     "cell_type": "markdown",
     "metadata": {},
     "source": [
      "The one-body operator is defined as"
     ]
    },
    {
     "cell_type": "markdown",
     "metadata": {},
     "source": [
      "$$\n",
      "\\hat{F} = \\sum_{pq} \\langle p|\\hat{f}|q\\rangle a_p^\\dagger a_q\n",
      "$$"
     ]
    },
    {
     "cell_type": "markdown",
     "metadata": {},
     "source": [
      "while the two-body opreator is defined as"
     ]
    },
    {
     "cell_type": "markdown",
     "metadata": {},
     "source": [
      "$$\n",
      "\\hat{V} = \\frac{1}{4} \\sum_{pqrs} \\langle pq|\\hat{v}|rs\\rangle_{AS} a_p^\\dagger a_q^\\dagger a_s a_r\n",
      "$$"
     ]
    },
    {
     "cell_type": "markdown",
     "metadata": {},
     "source": [
      "where we have defined the antisymmetric matrix elements"
     ]
    },
    {
     "cell_type": "markdown",
     "metadata": {},
     "source": [
      "$$\n",
      "\\langle pq|\\hat{v}|rs\\rangle_{AS} = \\langle pq|\\hat{v}|rs\\rangle - \\langle pq|\\hat{v}|sr\\rangle.\n",
      "$$"
     ]
    },
    {
     "cell_type": "markdown",
     "metadata": {},
     "source": [
      "We can also define a three-body operator"
     ]
    },
    {
     "cell_type": "markdown",
     "metadata": {},
     "source": [
      "$$\n",
      "\\hat{V}_3 = \\frac{1}{36} \\sum_{pqrstu} \\langle pqr|\\hat{v}_3|stu\\rangle_{AS} \n",
      "                a_p^\\dagger a_q^\\dagger a_r^\\dagger a_u a_t a_s\n",
      "$$"
     ]
    },
    {
     "cell_type": "markdown",
     "metadata": {},
     "source": [
      "with the antisymmetrized matrix element"
     ]
    },
    {
     "cell_type": "markdown",
     "metadata": {},
     "source": [
      "$$\n",
      "\\begin{equation}\n",
      "            \\langle pqr|\\hat{v}_3|stu\\rangle_{AS} = \\langle pqr|\\hat{v}_3|stu\\rangle + \\langle pqr|\\hat{v}_3|tus\\rangle + \\langle pqr|\\hat{v}_3|ust\\rangle- \\langle pqr|\\hat{v}_3|sut\\rangle - \\langle pqr|\\hat{v}_3|tsu\\rangle - \\langle pqr|\\hat{v}_3|uts\\rangle.\n",
      "\\end{equation}\n",
      "$$"
     ]
    },
    {
     "cell_type": "markdown",
     "metadata": {},
     "source": [
      "## Hartree-Fock in second quantization and stability of HF solution\n",
      "\n",
      "We wish now to derive the Hartree-Fock equations using our second-quantized formalism and study the stability of the equations. \n",
      "Our ansatz for the ground state of the system is approximated as (this is our representation of a Slater determinant in second quantization)"
     ]
    },
    {
     "cell_type": "markdown",
     "metadata": {},
     "source": [
      "$$\n",
      "|\\Phi_0\\rangle = |c\\rangle = a^{\\dagger}_i a^{\\dagger}_j \\dots a^{\\dagger}_l|0\\rangle.\n",
      "$$"
     ]
    },
    {
     "cell_type": "markdown",
     "metadata": {},
     "source": [
      "We wish to determine $\\hat{u}^{HF}$ so that \n",
      "$E_0^{HF}= \\langle c|\\hat{H}| c\\rangle$ becomes a local minimum. \n",
      "\n",
      "In our analysis here we will need Thouless' theorem, which states that\n",
      "an arbitrary Slater determinant $|c'\\rangle$ which is not orthogonal to a determinant\n",
      "$| c\\rangle ={\\displaystyle\\prod_{i=1}^{n}}\n",
      "a_{\\alpha_{i}}^{\\dagger}|0\\rangle$, can be written as"
     ]
    },
    {
     "cell_type": "markdown",
     "metadata": {},
     "source": [
      "$$\n",
      "|c'\\rangle=exp\\left\\{\\sum_{a>F}\\sum_{i\\le F}C_{ai}a_{a}^{\\dagger}a_{i}\\right\\}| c\\rangle\n",
      "$$"
     ]
    },
    {
     "cell_type": "markdown",
     "metadata": {},
     "source": [
      "Let us give a simple proof of Thouless' theorem. The theorem states that we can make a linear combination av particle-hole excitations  with respect to a given reference state $\\vert c\\rangle$. With this linear combination, we can make a new Slater determinant $\\vert c'\\rangle $ which is not orthogonal to \n",
      "$\\vert c\\rangle$, that is"
     ]
    },
    {
     "cell_type": "markdown",
     "metadata": {},
     "source": [
      "$$\n",
      "\\langle c|c'\\rangle \\ne 0.\n",
      "$$"
     ]
    },
    {
     "cell_type": "markdown",
     "metadata": {},
     "source": [
      "To show this we need some intermediate steps. The exponential product of two operators  $\\exp{\\hat{A}}\\times\\exp{\\hat{B}}$ is equal to $\\exp{(\\hat{A}+\\hat{B})}$ only if the two operators commute, that is"
     ]
    },
    {
     "cell_type": "markdown",
     "metadata": {},
     "source": [
      "$$\n",
      "[\\hat{A},\\hat{B}] = 0.\n",
      "$$"
     ]
    },
    {
     "cell_type": "markdown",
     "metadata": {},
     "source": [
      "### Thouless' theorem\n",
      "\n",
      "\n",
      "If the operators do not commute, we need to resort to the [Baker-Campbell-Hauersdorf](http://www.encyclopediaofmath.org/index.php/Campbell%E2%80%93Hausdorff_formula). This relation states that"
     ]
    },
    {
     "cell_type": "markdown",
     "metadata": {},
     "source": [
      "$$\n",
      "\\exp{\\hat{C}}=\\exp{\\hat{A}}\\exp{\\hat{B}},\n",
      "$$"
     ]
    },
    {
     "cell_type": "markdown",
     "metadata": {},
     "source": [
      "with"
     ]
    },
    {
     "cell_type": "markdown",
     "metadata": {},
     "source": [
      "$$\n",
      "\\hat{C}=\\hat{A}+\\hat{B}+\\frac{1}{2}[\\hat{A},\\hat{B}]+\\frac{1}{12}[[\\hat{A},\\hat{B}],\\hat{B}]-\\frac{1}{12}[[\\hat{A},\\hat{B}],\\hat{A}]+\\dots\n",
      "$$"
     ]
    },
    {
     "cell_type": "markdown",
     "metadata": {},
     "source": [
      "From these relations, we note that \n",
      "in our expression  for $|c'\\rangle$ we have commutators of the type"
     ]
    },
    {
     "cell_type": "markdown",
     "metadata": {},
     "source": [
      "$$\n",
      "[a_{a}^{\\dagger}a_{i},a_{b}^{\\dagger}a_{j}],\n",
      "$$"
     ]
    },
    {
     "cell_type": "markdown",
     "metadata": {},
     "source": [
      "and it is easy to convince oneself that these commutators, or higher powers thereof, are all zero. This means that we can write out our new representation of a Slater determinant as"
     ]
    },
    {
     "cell_type": "markdown",
     "metadata": {},
     "source": [
      "$$\n",
      "|c'\\rangle=exp\\left\\{\\sum_{a>F}\\sum_{i\\le F}C_{ai}a_{a}^{\\dagger}a_{i}\\right\\}| c\\rangle=\\prod_{i}\\left\\{1+\\sum_{a>F}C_{ai}a_{a}^{\\dagger}a_{i}+\\left(\\sum_{a>F}C_{ai}a_{a}^{\\dagger}a_{i}\\right)^2+\\dots\\right\\}| c\\rangle\n",
      "$$"
     ]
    },
    {
     "cell_type": "markdown",
     "metadata": {},
     "source": [
      "We note that"
     ]
    },
    {
     "cell_type": "markdown",
     "metadata": {},
     "source": [
      "$$\n",
      "\\prod_{i}\\sum_{a>F}C_{ai}a_{a}^{\\dagger}a_{i}\\sum_{b>F}C_{bi}a_{b}^{\\dagger}a_{i}| c\\rangle =0,\n",
      "$$"
     ]
    },
    {
     "cell_type": "markdown",
     "metadata": {},
     "source": [
      "and all higher-order powers of these combinations of creation and annihilation operators disappear \n",
      "due to the fact that $(a_i)^n| c\\rangle =0$ when $n > 1$. This allows us to rewrite the expression for $|c'\\rangle $ as"
     ]
    },
    {
     "cell_type": "markdown",
     "metadata": {},
     "source": [
      "$$\n",
      "|c'\\rangle=\\prod_{i}\\left\\{1+\\sum_{a>F}C_{ai}a_{a}^{\\dagger}a_{i}\\right\\}| c\\rangle,\n",
      "$$"
     ]
    },
    {
     "cell_type": "markdown",
     "metadata": {},
     "source": [
      "which we can rewrite as"
     ]
    },
    {
     "cell_type": "markdown",
     "metadata": {},
     "source": [
      "$$\n",
      "|c'\\rangle=\\prod_{i}\\left\\{1+\\sum_{a>F}C_{ai}a_{a}^{\\dagger}a_{i}\\right\\}| a^{\\dagger}_{i_1} a^{\\dagger}_{i_2} \\dots a^{\\dagger}_{i_n}|0\\rangle.\n",
      "$$"
     ]
    },
    {
     "cell_type": "markdown",
     "metadata": {},
     "source": [
      "The last equation can be written as"
     ]
    },
    {
     "cell_type": "markdown",
     "metadata": {},
     "source": [
      "$$\n",
      "\\begin{equation}\n",
      "|c'\\rangle=\\prod_{i}\\left\\{1+\\sum_{a>F}C_{ai}a_{a}^{\\dagger}a_{i}\\right\\}| a^{\\dagger}_{i_1} a^{\\dagger}_{i_2} \\dots a^{\\dagger}_{i_n}|0\\rangle=\\left(1+\\sum_{a>F}C_{ai_1}a_{a}^{\\dagger}a_{i_1}\\right)a^{\\dagger}_{i_1} \n",
      "\\end{equation}\n",
      "$$"
     ]
    },
    {
     "cell_type": "markdown",
     "metadata": {},
     "source": [
      "$$\n",
      "\\begin{equation} \n",
      " \\times\\left(1+\\sum_{a>F}C_{ai_2}a_{a}^{\\dagger}a_{i_2}\\right)a^{\\dagger}_{i_2} \\dots |0\\rangle=\\prod_{i}\\left(a^{\\dagger}_{i}+\\sum_{a>F}C_{ai}a_{a}^{\\dagger}\\right)|0\\rangle.\n",
      "\\end{equation}\n",
      "$$"
     ]
    },
    {
     "cell_type": "markdown",
     "metadata": {},
     "source": [
      "### New operators\n",
      "\n",
      "\n",
      "If we define a new creation operator"
     ]
    },
    {
     "cell_type": "markdown",
     "metadata": {},
     "source": [
      "<!-- Equation labels as ordinary links -->\n",
      "<div id=\"eq:newb\"></div>\n",
      "\n",
      "$$\n",
      "\\begin{equation}\n",
      "b^{\\dagger}_{i}=a^{\\dagger}_{i}+\\sum_{a>F}C_{ai}a_{a}^{\\dagger}, \\label{eq:newb} \\tag{108}\n",
      "\\end{equation}\n",
      "$$"
     ]
    },
    {
     "cell_type": "markdown",
     "metadata": {},
     "source": [
      "we have"
     ]
    },
    {
     "cell_type": "markdown",
     "metadata": {},
     "source": [
      "$$\n",
      "|c'\\rangle=\\prod_{i}b^{\\dagger}_{i}|0\\rangle=\\prod_{i}\\left(a^{\\dagger}_{i}+\\sum_{a>F}C_{ai}a_{a}^{\\dagger}\\right)|0\\rangle,\n",
      "$$"
     ]
    },
    {
     "cell_type": "markdown",
     "metadata": {},
     "source": [
      "meaning that the new representation of the Slater determinant in second quantization, $|c'\\rangle$, looks like our previous ones. However, this representation is not general enough since we have a restriction on the sum over single-particle states in Eq. [(108)](#eq:newb). The single-particle states have all to be above the Fermi level.\n",
      "The question then is whether we can construct a general representation of a Slater determinant with a creation operator"
     ]
    },
    {
     "cell_type": "markdown",
     "metadata": {},
     "source": [
      "$$\n",
      "\\tilde{b}^{\\dagger}_{i}=\\sum_{p}f_{ip}a_{p}^{\\dagger},\n",
      "$$"
     ]
    },
    {
     "cell_type": "markdown",
     "metadata": {},
     "source": [
      "where $f_{ip}$ is a matrix element of a unitary matrix which transforms our creation and annihilation operators\n",
      "$a^{\\dagger}$ and $a$ to $\\tilde{b}^{\\dagger}$ and $\\tilde{b}$. These new operators define a new representation of a Slater determinant as"
     ]
    },
    {
     "cell_type": "markdown",
     "metadata": {},
     "source": [
      "$$\n",
      "|\\tilde{c}\\rangle=\\prod_{i}\\tilde{b}^{\\dagger}_{i}|0\\rangle.\n",
      "$$"
     ]
    },
    {
     "cell_type": "markdown",
     "metadata": {},
     "source": [
      "### Showing that $|\\tilde{c}\\rangle= |c'\\rangle$\n",
      "\n",
      "\n",
      "\n",
      "We need to show that $|\\tilde{c}\\rangle= |c'\\rangle$. We need also to assume that the new state\n",
      "is not orthogonal to $|c\\rangle$, that is $\\langle c| \\tilde{c}\\rangle \\ne 0$. From this it follows that"
     ]
    },
    {
     "cell_type": "markdown",
     "metadata": {},
     "source": [
      "$$\n",
      "\\langle c| \\tilde{c}\\rangle=\\langle 0| a_{i_n}\\dots a_{i_1}\\left(\\sum_{p=i_1}^{i_n}f_{i_1p}a_{p}^{\\dagger} \\right)\\left(\\sum_{q=i_1}^{i_n}f_{i_2q}a_{q}^{\\dagger} \\right)\\dots \\left(\\sum_{t=i_1}^{i_n}f_{i_nt}a_{t}^{\\dagger} \\right)|0\\rangle,\n",
      "$$"
     ]
    },
    {
     "cell_type": "markdown",
     "metadata": {},
     "source": [
      "which is nothing but the determinant $det(f_{ip})$ which we can, using the intermediate normalization condition, \n",
      "normalize to one, that is"
     ]
    },
    {
     "cell_type": "markdown",
     "metadata": {},
     "source": [
      "$$\n",
      "det(f_{ip})=1,\n",
      "$$"
     ]
    },
    {
     "cell_type": "markdown",
     "metadata": {},
     "source": [
      "meaning that $f$ has an inverse defined as (since we are dealing with orthogonal, and in our case unitary as well, transformations)"
     ]
    },
    {
     "cell_type": "markdown",
     "metadata": {},
     "source": [
      "$$\n",
      "\\sum_{k} f_{ik}f^{-1}_{kj} = \\delta_{ij},\n",
      "$$"
     ]
    },
    {
     "cell_type": "markdown",
     "metadata": {},
     "source": [
      "and"
     ]
    },
    {
     "cell_type": "markdown",
     "metadata": {},
     "source": [
      "$$\n",
      "\\sum_{j} f^{-1}_{ij}f_{jk} = \\delta_{ik}.\n",
      "$$"
     ]
    },
    {
     "cell_type": "markdown",
     "metadata": {},
     "source": [
      "Using these relations we can then define the linear combination of creation (and annihilation as well) \n",
      "operators as"
     ]
    },
    {
     "cell_type": "markdown",
     "metadata": {},
     "source": [
      "$$\n",
      "\\sum_{i}f^{-1}_{ki}\\tilde{b}^{\\dagger}_{i}=\\sum_{i}f^{-1}_{ki}\\sum_{p=i_1}^{\\infty}f_{ip}a_{p}^{\\dagger}=a_{k}^{\\dagger}+\\sum_{i}\\sum_{p=i_{n+1}}^{\\infty}f^{-1}_{ki}f_{ip}a_{p}^{\\dagger}.\n",
      "$$"
     ]
    },
    {
     "cell_type": "markdown",
     "metadata": {},
     "source": [
      "Defining"
     ]
    },
    {
     "cell_type": "markdown",
     "metadata": {},
     "source": [
      "$$\n",
      "c_{kp}=\\sum_{i \\le F}f^{-1}_{ki}f_{ip},\n",
      "$$"
     ]
    },
    {
     "cell_type": "markdown",
     "metadata": {},
     "source": [
      "we can redefine"
     ]
    },
    {
     "cell_type": "markdown",
     "metadata": {},
     "source": [
      "$$\n",
      "a_{k}^{\\dagger}+\\sum_{i}\\sum_{p=i_{n+1}}^{\\infty}f^{-1}_{ki}f_{ip}a_{p}^{\\dagger}=a_{k}^{\\dagger}+\\sum_{p=i_{n+1}}^{\\infty}c_{kp}a_{p}^{\\dagger}=b_k^{\\dagger},\n",
      "$$"
     ]
    },
    {
     "cell_type": "markdown",
     "metadata": {},
     "source": [
      "our starting point. We have shown that our general representation of a Slater determinant"
     ]
    },
    {
     "cell_type": "markdown",
     "metadata": {},
     "source": [
      "$$\n",
      "|\\tilde{c}\\rangle=\\prod_{i}\\tilde{b}^{\\dagger}_{i}|0\\rangle=|c'\\rangle=\\prod_{i}b^{\\dagger}_{i}|0\\rangle,\n",
      "$$"
     ]
    },
    {
     "cell_type": "markdown",
     "metadata": {},
     "source": [
      "with"
     ]
    },
    {
     "cell_type": "markdown",
     "metadata": {},
     "source": [
      "$$\n",
      "b_k^{\\dagger}=a_{k}^{\\dagger}+\\sum_{p=i_{n+1}}^{\\infty}c_{kp}a_{p}^{\\dagger}.\n",
      "$$"
     ]
    },
    {
     "cell_type": "markdown",
     "metadata": {},
     "source": [
      "This means that we can actually write an ansatz for the ground state of the system as a linear combination of\n",
      "terms which contain the ansatz itself $|c\\rangle$ with  an admixture from an infinity of one-particle-one-hole states. The latter has important consequences when we wish to interpret the Hartree-Fock equations and their stability. We can rewrite the new representation as"
     ]
    },
    {
     "cell_type": "markdown",
     "metadata": {},
     "source": [
      "$$\n",
      "|c'\\rangle = |c\\rangle+|\\delta c\\rangle,\n",
      "$$"
     ]
    },
    {
     "cell_type": "markdown",
     "metadata": {},
     "source": [
      "where $|\\delta c\\rangle$ can now be interpreted as a small variation. If we approximate this term with \n",
      "contributions from one-particle-one-hole (*1p-1h*) states only, we arrive at"
     ]
    },
    {
     "cell_type": "markdown",
     "metadata": {},
     "source": [
      "$$\n",
      "|c'\\rangle = \\left(1+\\sum_{ai}\\delta C_{ai}a_{a}^{\\dagger}a_i\\right)|c\\rangle.\n",
      "$$"
     ]
    },
    {
     "cell_type": "markdown",
     "metadata": {},
     "source": [
      "In our derivation of the Hartree-Fock equations we have shown that"
     ]
    },
    {
     "cell_type": "markdown",
     "metadata": {},
     "source": [
      "$$\n",
      "\\langle \\delta c| \\hat{H} | c\\rangle =0,\n",
      "$$"
     ]
    },
    {
     "cell_type": "markdown",
     "metadata": {},
     "source": [
      "which means that we have to satisfy"
     ]
    },
    {
     "cell_type": "markdown",
     "metadata": {},
     "source": [
      "$$\n",
      "\\langle c|\\sum_{ai}\\delta C_{ai}\\left\\{a_{a}^{\\dagger}a_i\\right\\} \\hat{H} | c\\rangle =0.\n",
      "$$"
     ]
    },
    {
     "cell_type": "markdown",
     "metadata": {},
     "source": [
      "With this as a background, we are now ready to study the stability of the Hartree-Fock equations.\n",
      "\n",
      "\n",
      "\n",
      "### Hartree-Fock in second quantization and stability of HF solution\n",
      "\n",
      "The variational condition for deriving the Hartree-Fock equations guarantees only that the expectation value $\\langle c | \\hat{H} | c \\rangle$ has an extreme value, not necessarily a minimum. To figure out whether the extreme value we have found  is a minimum, we can use second quantization to analyze our results and find a criterion \n",
      "for the above expectation value to a local minimum. We will use Thouless' theorem and show that"
     ]
    },
    {
     "cell_type": "markdown",
     "metadata": {},
     "source": [
      "$$\n",
      "\\frac{\\langle c' |\\hat{H} | c'\\rangle}{\\langle c' |c'\\rangle} \\ge \\langle c |\\hat{H} | c\\rangle= E_0,\n",
      "$$"
     ]
    },
    {
     "cell_type": "markdown",
     "metadata": {},
     "source": [
      "with"
     ]
    },
    {
     "cell_type": "markdown",
     "metadata": {},
     "source": [
      "$$\n",
      "{|c'\\rangle} = {|c\\rangle + |\\delta c\\rangle}.\n",
      "$$"
     ]
    },
    {
     "cell_type": "markdown",
     "metadata": {},
     "source": [
      "Using Thouless' theorem we can write out ${|c'\\rangle}$ as"
     ]
    },
    {
     "cell_type": "markdown",
     "metadata": {},
     "source": [
      "$$\n",
      "\\begin{equation}\n",
      " {|c'\\rangle}=\\exp\\left\\{\\sum_{a > F}\\sum_{i \\le F}\\delta C_{ai}a_{a}^{\\dagger}a_{i}\\right\\}| c\\rangle\n",
      "\\end{equation}\n",
      "$$"
     ]
    },
    {
     "cell_type": "markdown",
     "metadata": {},
     "source": [
      "$$\n",
      "\\begin{equation}  \n",
      "=\\left\\{1+\\sum_{a > F}\\sum_{i \\le F}\\delta C_{ai}a_{a}^{\\dagger}\n",
      "a_{i}+\\frac{1}{2!}\\sum_{ab > F}\\sum_{ij \\le F}\\delta C_{ai}\\delta C_{bj}a_{a}^{\\dagger}a_{i}a_{b}^{\\dagger}a_{j}+\\dots\\right\\}\n",
      "\\end{equation}\n",
      "$$"
     ]
    },
    {
     "cell_type": "markdown",
     "metadata": {},
     "source": [
      "where the amplitudes $\\delta C$ are small.\n",
      "\n",
      "\n",
      "The norm of $|c'\\rangle$ is given by (using the intermediate normalization condition $\\langle c' |c\\rangle=1$)"
     ]
    },
    {
     "cell_type": "markdown",
     "metadata": {},
     "source": [
      "$$\n",
      "\\langle c' | c'\\rangle = 1+\\sum_{a>F}\n",
      "\\sum_{i\\le F}|\\delta C_{ai}|^2+O(\\delta C_{ai}^3).\n",
      "$$"
     ]
    },
    {
     "cell_type": "markdown",
     "metadata": {},
     "source": [
      "The expectation value for the energy is now given by (using the Hartree-Fock condition)"
     ]
    },
    {
     "cell_type": "markdown",
     "metadata": {},
     "source": [
      "3\n",
      "7\n",
      "6\n",
      " \n",
      "<\n",
      "<\n",
      "<\n",
      "!\n",
      "!\n",
      "M\n",
      "A\n",
      "T\n",
      "H\n",
      "_\n",
      "B\n",
      "L\n",
      "O\n",
      "C\n",
      "K"
     ]
    },
    {
     "cell_type": "markdown",
     "metadata": {},
     "source": [
      "$$\n",
      "\\frac{1}{2!}\\sum_{ab>F}\n",
      "\\sum_{ij\\le F}\\delta C_{ai}\\delta C_{bj}\\langle c |\\hat{H}a_{a}^{\\dagger}a_{i}a_{b}^{\\dagger}a_{j}|c\\rangle+\\frac{1}{2!}\\sum_{ab>F}\n",
      "\\sum_{ij\\le F}\\delta C_{ai}^*\\delta C_{bj}^*\\langle c|a_{j}^{\\dagger}a_{b}a_{i}^{\\dagger}a_{a}\\hat{H}|c\\rangle\n",
      "+\\dots\n",
      "$$"
     ]
    },
    {
     "cell_type": "markdown",
     "metadata": {},
     "source": [
      "We have already calculated the second term on the right-hand side of the previous equation"
     ]
    },
    {
     "cell_type": "markdown",
     "metadata": {},
     "source": [
      "$$\n",
      "\\begin{equation}\n",
      "\\langle c | \\left(\\{a^\\dagger_i a_a\\} \\hat{H} \\{a^\\dagger_b a_j\\} \\right) | c\\rangle=\\sum_{pq} \\sum_{ijab}\\delta C_{ai}^*\\delta C_{bj} \\langle p|\\hat{h}_0 |q\\rangle \n",
      "            \\langle c | \\left(\\{a^{\\dagger}_i a_a\\}\\{a^{\\dagger}_pa_q\\} \n",
      "             \\{a^{\\dagger}_b a_j\\} \\right)| c\\rangle\n",
      "\\end{equation}\n",
      "$$"
     ]
    },
    {
     "cell_type": "markdown",
     "metadata": {},
     "source": [
      "$$\n",
      "\\begin{equation} \n",
      " +\\frac{1}{4} \\sum_{pqrs} \\sum_{ijab}\\delta C_{ai}^*\\delta C_{bj} \\langle pq| \\hat{v}|rs\\rangle \n",
      "            \\langle c | \\left(\\{a^\\dagger_i a_a\\}\\{a^{\\dagger}_p a^{\\dagger}_q a_s  a_r\\} \\{a^{\\dagger}_b a_j\\} \\right)| c\\rangle ,\n",
      "\\end{equation}\n",
      "$$"
     ]
    },
    {
     "cell_type": "markdown",
     "metadata": {},
     "source": [
      "resulting in"
     ]
    },
    {
     "cell_type": "markdown",
     "metadata": {},
     "source": [
      "$$\n",
      "E_0\\sum_{ai}|\\delta C_{ai}|^2+\\sum_{ai}|\\delta C_{ai}|^2(\\varepsilon_a-\\varepsilon_i)-\\sum_{ijab} \\langle aj|\\hat{v}| bi\\rangle \\delta C_{ai}^*\\delta C_{bj}.\n",
      "$$"
     ]
    },
    {
     "cell_type": "markdown",
     "metadata": {},
     "source": [
      "$$\n",
      "\\frac{1}{2!}\\langle c |\\left(\\{a^\\dagger_j a_b\\} \\{a^\\dagger_i a_a\\} \\hat{V}_N  \\right) | c\\rangle  = \n",
      "\\frac{1}{2!}\\langle c |\\left( \\hat{V}_N \\{a^\\dagger_a a_i\\} \\{a^\\dagger_b a_j\\} \\right)^{\\dagger} | c\\rangle\n",
      "$$"
     ]
    },
    {
     "cell_type": "markdown",
     "metadata": {},
     "source": [
      "which is nothing but"
     ]
    },
    {
     "cell_type": "markdown",
     "metadata": {},
     "source": [
      "$$\n",
      "\\frac{1}{2!}\\langle c |  \\left( \\hat{V}_N \\{a^\\dagger_a a_i\\} \\{a^\\dagger_b a_j\\} \\right) | c\\rangle^*\n",
      "=\\frac{1}{2} \\sum_{ijab} (\\langle ij|\\hat{v}|ab\\rangle)^*\\delta C_{ai}^*\\delta C_{bj}^*\n",
      "$$"
     ]
    },
    {
     "cell_type": "markdown",
     "metadata": {},
     "source": [
      "or"
     ]
    },
    {
     "cell_type": "markdown",
     "metadata": {},
     "source": [
      "$$\n",
      "\\frac{1}{2} \\sum_{ijab} (\\langle ab|\\hat{v}|ij\\rangle)\\delta C_{ai}^*\\delta C_{bj}^*\n",
      "$$"
     ]
    },
    {
     "cell_type": "markdown",
     "metadata": {},
     "source": [
      "where we have used the relation"
     ]
    },
    {
     "cell_type": "markdown",
     "metadata": {},
     "source": [
      "$$\n",
      "\\langle a |\\hat{A} | b\\rangle =  (\\langle b |\\hat{A}^{\\dagger} | a\\rangle)^*\n",
      "$$"
     ]
    },
    {
     "cell_type": "markdown",
     "metadata": {},
     "source": [
      "due to the hermiticity of $\\hat{H}$ and $\\hat{V}$.\n",
      "\n",
      "\n",
      "We define two matrix elements"
     ]
    },
    {
     "cell_type": "markdown",
     "metadata": {},
     "source": [
      "$$\n",
      "A_{ai,bj}=-\\langle aj|\\hat{v} bi\\rangle\n",
      "$$"
     ]
    },
    {
     "cell_type": "markdown",
     "metadata": {},
     "source": [
      "and"
     ]
    },
    {
     "cell_type": "markdown",
     "metadata": {},
     "source": [
      "$$\n",
      "B_{ai,bj}=\\langle ab|\\hat{v}|ij\\rangle\n",
      "$$"
     ]
    },
    {
     "cell_type": "markdown",
     "metadata": {},
     "source": [
      "both being anti-symmetrized.\n",
      "\n",
      "\n",
      "\n",
      "With these definitions we write out the energy as"
     ]
    },
    {
     "cell_type": "markdown",
     "metadata": {},
     "source": [
      "$$\n",
      "\\begin{equation}\n",
      "\\langle c'|H|c'\\rangle = \\left(1+\\sum_{ai}|\\delta C_{ai}|^2\\right)\\langle c |H|c\\rangle+\\sum_{ai}|\\delta C_{ai}|^2(\\varepsilon_a^{HF}-\\varepsilon_i^{HF})+\\sum_{ijab}A_{ai,bj}\\delta C_{ai}^*\\delta C_{bj}+\n",
      "\\end{equation}\n",
      "$$"
     ]
    },
    {
     "cell_type": "markdown",
     "metadata": {},
     "source": [
      "$$\n",
      "\\begin{equation} \n",
      "\\frac{1}{2} \\sum_{ijab} B_{ai,bj}^*\\delta C_{ai}\\delta C_{bj}+\\frac{1}{2} \\sum_{ijab} B_{ai,bj}\\delta C_{ai}^*\\delta C_{bj}^*\n",
      "+O(\\delta C_{ai}^3),\n",
      "\\end{equation}\n",
      "$$"
     ]
    },
    {
     "cell_type": "markdown",
     "metadata": {},
     "source": [
      "which can be rewritten as"
     ]
    },
    {
     "cell_type": "markdown",
     "metadata": {},
     "source": [
      "$$\n",
      "\\langle c'|H|c'\\rangle = \\left(1+\\sum_{ai}|\\delta C_{ai}|^2\\right)\\langle c |H|c\\rangle+\\Delta E+O(\\delta C_{ai}^3),\n",
      "$$"
     ]
    },
    {
     "cell_type": "markdown",
     "metadata": {},
     "source": [
      "and skipping higher-order terms we arrived"
     ]
    },
    {
     "cell_type": "markdown",
     "metadata": {},
     "source": [
      "$$\n",
      "\\frac{\\langle c' |\\hat{H} | c'\\rangle}{\\langle c' |c'\\rangle} =E_0+\\frac{\\Delta E}{\\left(1+\\sum_{ai}|\\delta C_{ai}|^2\\right)}.\n",
      "$$"
     ]
    },
    {
     "cell_type": "markdown",
     "metadata": {},
     "source": [
      "We have defined"
     ]
    },
    {
     "cell_type": "markdown",
     "metadata": {},
     "source": [
      "$$\n",
      "\\Delta E = \\frac{1}{2} \\langle \\chi | \\hat{M}| \\chi \\rangle\n",
      "$$"
     ]
    },
    {
     "cell_type": "markdown",
     "metadata": {},
     "source": [
      "with the vectors"
     ]
    },
    {
     "cell_type": "markdown",
     "metadata": {},
     "source": [
      "$$\n",
      "\\chi = \\left[ \\delta C\\hspace{0.2cm} \\delta C^*\\right]^T\n",
      "$$"
     ]
    },
    {
     "cell_type": "markdown",
     "metadata": {},
     "source": [
      "and the matrix"
     ]
    },
    {
     "cell_type": "markdown",
     "metadata": {},
     "source": [
      "$$\n",
      "\\hat{M}=\\left(\\begin{array}{cc} \\Delta + A & B \\\\ B^* & \\Delta + A^*\\end{array}\\right),\n",
      "$$"
     ]
    },
    {
     "cell_type": "markdown",
     "metadata": {},
     "source": [
      "with $\\Delta_{ai,bj} = (\\varepsilon_a-\\varepsilon_i)\\delta_{ab}\\delta_{ij}$.\n",
      "\n",
      "\n",
      "\n",
      "The condition"
     ]
    },
    {
     "cell_type": "markdown",
     "metadata": {},
     "source": [
      "$$\n",
      "\\Delta E = \\frac{1}{2} \\langle \\chi | \\hat{M}| \\chi \\rangle \\ge 0\n",
      "$$"
     ]
    },
    {
     "cell_type": "markdown",
     "metadata": {},
     "source": [
      "for an arbitrary  vector"
     ]
    },
    {
     "cell_type": "markdown",
     "metadata": {},
     "source": [
      "$$\n",
      "\\chi = \\left[ \\delta C\\hspace{0.2cm} \\delta C^*\\right]^T\n",
      "$$"
     ]
    },
    {
     "cell_type": "markdown",
     "metadata": {},
     "source": [
      "means that all eigenvalues of the matrix have to be larger than or equal zero. \n",
      "A necessary (but no sufficient) condition is that the matrix elements (for all $ai$ )"
     ]
    },
    {
     "cell_type": "markdown",
     "metadata": {},
     "source": [
      "$$\n",
      "(\\varepsilon_a-\\varepsilon_i)\\delta_{ab}\\delta_{ij}+A_{ai,bj} \\ge 0.\n",
      "$$"
     ]
    },
    {
     "cell_type": "markdown",
     "metadata": {},
     "source": [
      "This equation can be used as a first test of the stability of the Hartree-Fock equation.\n",
      "\n",
      "\n",
      "\n",
      "\n",
      "\n",
      "\n",
      "\n",
      "## Operators in second quantization\n",
      "\n",
      "In the build-up of a shell-model or FCI code that is meant to tackle large dimensionalities\n",
      "is the action of the Hamiltonian $\\hat{H}$ on a\n",
      "Slater determinant represented in second quantization as"
     ]
    },
    {
     "cell_type": "markdown",
     "metadata": {},
     "source": [
      "$$\n",
      "|\\alpha_1\\dots \\alpha_n\\rangle = a_{\\alpha_1}^{\\dagger} a_{\\alpha_2}^{\\dagger} \\dots a_{\\alpha_n}^{\\dagger} |0\\rangle.\n",
      "$$"
     ]
    },
    {
     "cell_type": "markdown",
     "metadata": {},
     "source": [
      "The time consuming part stems from the action of the Hamiltonian\n",
      "on the above determinant,"
     ]
    },
    {
     "cell_type": "markdown",
     "metadata": {},
     "source": [
      "$$\n",
      "\\left(\\sum_{\\alpha\\beta} \\langle \\alpha|t+u|\\beta\\rangle a_\\alpha^{\\dagger} a_\\beta + \\frac{1}{4} \\sum_{\\alpha\\beta\\gamma\\delta}\n",
      "                \\langle \\alpha \\beta|\\hat{v}|\\gamma \\delta\\rangle a_\\alpha^{\\dagger} a_\\beta^{\\dagger} a_\\delta a_\\gamma\\right)a_{\\alpha_1}^{\\dagger} a_{\\alpha_2}^{\\dagger} \\dots a_{\\alpha_n}^{\\dagger} |0\\rangle.\n",
      "$$"
     ]
    },
    {
     "cell_type": "markdown",
     "metadata": {},
     "source": [
      "A practically useful way to implement this action is to encode a Slater determinant as a bit pattern.\n",
      "\n",
      "\n",
      "\n",
      "Assume that we have at our disposal $n$ different single-particle orbits\n",
      "$\\alpha_0,\\alpha_2,\\dots,\\alpha_{n-1}$ and that we can distribute  among these orbits $N\\le n$ particles.\n",
      "\n",
      "A Slater  determinant can then be coded as an integer of $n$ bits. As an example, if we have $n=16$ single-particle states\n",
      "$\\alpha_0,\\alpha_1,\\dots,\\alpha_{15}$ and $N=4$ fermions occupying the states $\\alpha_3$, $\\alpha_6$, $\\alpha_{10}$ and $\\alpha_{13}$\n",
      "we could write this Slater determinant as"
     ]
    },
    {
     "cell_type": "markdown",
     "metadata": {},
     "source": [
      "$$\n",
      "\\Phi_{\\Lambda} = a_{\\alpha_3}^{\\dagger} a_{\\alpha_6}^{\\dagger} a_{\\alpha_{10}}^{\\dagger} a_{\\alpha_{13}}^{\\dagger} |0\\rangle.\n",
      "$$"
     ]
    },
    {
     "cell_type": "markdown",
     "metadata": {},
     "source": [
      "The unoccupied single-particle states have bit value $0$ while the occupied ones are represented by bit state $1$. \n",
      "In the binary notation we would write this   16 bits long integer as"
     ]
    },
    {
     "cell_type": "markdown",
     "metadata": {},
     "source": [
      "$$\n",
      "\\begin{array}{cccccccccccccccc}\n",
      "{\\alpha_0}&{\\alpha_1}&{\\alpha_2}&{\\alpha_3}&{\\alpha_4}&{\\alpha_5}&{\\alpha_6}&{\\alpha_7} & {\\alpha_8} &{\\alpha_9} & {\\alpha_{10}} &{\\alpha_{11}} &{\\alpha_{12}} &{\\alpha_{13}} &{\\alpha_{14}} & {\\alpha_{15}} \\\\\n",
      "{0} & {0} &{0} &{1} &{0} &{0} &{1} &{0} &{0} &{0} &{1} &{0} &{0} &{1} &{0} & {0} \\\\\n",
      "\\end{array}\n",
      "$$"
     ]
    },
    {
     "cell_type": "markdown",
     "metadata": {},
     "source": [
      "which translates into the decimal number"
     ]
    },
    {
     "cell_type": "markdown",
     "metadata": {},
     "source": [
      "$$\n",
      "2^3+2^6+2^{10}+2^{13}=9288.\n",
      "$$"
     ]
    },
    {
     "cell_type": "markdown",
     "metadata": {},
     "source": [
      "We can thus encode a Slater determinant as a bit pattern.\n",
      "\n",
      "\n",
      "\n",
      "With $N$ particles that can be distributed over $n$ single-particle states, the total number of Slater determinats (and defining thereby the dimensionality of the system) is"
     ]
    },
    {
     "cell_type": "markdown",
     "metadata": {},
     "source": [
      "$$\n",
      "\\mathrm{dim}(\\mathcal{H}) = \\left(\\begin{array}{c} n \\\\N\\end{array}\\right).\n",
      "$$"
     ]
    },
    {
     "cell_type": "markdown",
     "metadata": {},
     "source": [
      "The total number of bit patterns is $2^n$. \n",
      "\n",
      "\n",
      "We assume again that we have at our disposal $n$ different single-particle orbits\n",
      "$\\alpha_0,\\alpha_2,\\dots,\\alpha_{n-1}$ and that we can distribute  among these orbits $N\\le n$ particles.\n",
      "The ordering among these states is important as it defines the order of the creation operators.\n",
      "We will write the determinant"
     ]
    },
    {
     "cell_type": "markdown",
     "metadata": {},
     "source": [
      "$$\n",
      "\\Phi_{\\Lambda} = a_{\\alpha_3}^{\\dagger} a_{\\alpha_6}^{\\dagger} a_{\\alpha_{10}}^{\\dagger} a_{\\alpha_{13}}^{\\dagger} |0\\rangle,\n",
      "$$"
     ]
    },
    {
     "cell_type": "markdown",
     "metadata": {},
     "source": [
      "in a more compact way as"
     ]
    },
    {
     "cell_type": "markdown",
     "metadata": {},
     "source": [
      "$$\n",
      "\\Phi_{3,6,10,13} = |0001001000100100\\rangle.\n",
      "$$"
     ]
    },
    {
     "cell_type": "markdown",
     "metadata": {},
     "source": [
      "The action of a creation operator is thus"
     ]
    },
    {
     "cell_type": "markdown",
     "metadata": {},
     "source": [
      "$$\n",
      "a^{\\dagger}_{\\alpha_4}\\Phi_{3,6,10,13} = a^{\\dagger}_{\\alpha_4}|0001001000100100\\rangle=a^{\\dagger}_{\\alpha_4}a_{\\alpha_3}^{\\dagger} a_{\\alpha_6}^{\\dagger} a_{\\alpha_{10}}^{\\dagger} a_{\\alpha_{13}}^{\\dagger} |0\\rangle,\n",
      "$$"
     ]
    },
    {
     "cell_type": "markdown",
     "metadata": {},
     "source": [
      "which becomes"
     ]
    },
    {
     "cell_type": "markdown",
     "metadata": {},
     "source": [
      "$$\n",
      "-a_{\\alpha_3}^{\\dagger} a^{\\dagger}_{\\alpha_4} a_{\\alpha_6}^{\\dagger} a_{\\alpha_{10}}^{\\dagger} a_{\\alpha_{13}}^{\\dagger} |0\\rangle=-|0001101000100100\\rangle.\n",
      "$$"
     ]
    },
    {
     "cell_type": "markdown",
     "metadata": {},
     "source": [
      "Similarly"
     ]
    },
    {
     "cell_type": "markdown",
     "metadata": {},
     "source": [
      "$$\n",
      "a^{\\dagger}_{\\alpha_6}\\Phi_{3,6,10,13} = a^{\\dagger}_{\\alpha_6}|0001001000100100\\rangle=a^{\\dagger}_{\\alpha_6}a_{\\alpha_3}^{\\dagger} a_{\\alpha_6}^{\\dagger} a_{\\alpha_{10}}^{\\dagger} a_{\\alpha_{13}}^{\\dagger} |0\\rangle,\n",
      "$$"
     ]
    },
    {
     "cell_type": "markdown",
     "metadata": {},
     "source": [
      "which becomes"
     ]
    },
    {
     "cell_type": "markdown",
     "metadata": {},
     "source": [
      "$$\n",
      "-a^{\\dagger}_{\\alpha_4} (a_{\\alpha_6}^{\\dagger})^ 2 a_{\\alpha_{10}}^{\\dagger} a_{\\alpha_{13}}^{\\dagger} |0\\rangle=0!\n",
      "$$"
     ]
    },
    {
     "cell_type": "markdown",
     "metadata": {},
     "source": [
      "This gives a simple recipe:  \n",
      "* If one of the bits $b_j$ is $1$ and we act with a creation operator on this bit, we return a null vector\n",
      "\n",
      "* If $b_j=0$, we set it to $1$ and return a sign factor $(-1)^l$, where $l$ is the number of bits set before bit $j$.\n",
      "\n",
      "Consider the action of $a^{\\dagger}_{\\alpha_2}$ on various slater determinants:"
     ]
    },
    {
     "cell_type": "markdown",
     "metadata": {},
     "source": [
      "$$\n",
      "\\begin{array}{ccc}\n",
      "a^{\\dagger}_{\\alpha_2}\\Phi_{00111}& = a^{\\dagger}_{\\alpha_2}|00111\\rangle&=0\\times |00111\\rangle\\\\\n",
      "a^{\\dagger}_{\\alpha_2}\\Phi_{01011}& = a^{\\dagger}_{\\alpha_2}|01011\\rangle&=(-1)\\times |01111\\rangle\\\\\n",
      "a^{\\dagger}_{\\alpha_2}\\Phi_{01101}& = a^{\\dagger}_{\\alpha_2}|01101\\rangle&=0\\times |01101\\rangle\\\\\n",
      "a^{\\dagger}_{\\alpha_2}\\Phi_{01110}& = a^{\\dagger}_{\\alpha_2}|01110\\rangle&=0\\times |01110\\rangle\\\\\n",
      "a^{\\dagger}_{\\alpha_2}\\Phi_{10011}& = a^{\\dagger}_{\\alpha_2}|10011\\rangle&=(-1)\\times |10111\\rangle\\\\\n",
      "a^{\\dagger}_{\\alpha_2}\\Phi_{10101}& = a^{\\dagger}_{\\alpha_2}|10101\\rangle&=0\\times |10101\\rangle\\\\\n",
      "a^{\\dagger}_{\\alpha_2}\\Phi_{10110}& = a^{\\dagger}_{\\alpha_2}|10110\\rangle&=0\\times |10110\\rangle\\\\\n",
      "a^{\\dagger}_{\\alpha_2}\\Phi_{11001}& = a^{\\dagger}_{\\alpha_2}|11001\\rangle&=(+1)\\times |11101\\rangle\\\\\n",
      "a^{\\dagger}_{\\alpha_2}\\Phi_{11010}& = a^{\\dagger}_{\\alpha_2}|11010\\rangle&=(+1)\\times |11110\\rangle\\\\\n",
      "\\end{array}\n",
      "$$"
     ]
    },
    {
     "cell_type": "markdown",
     "metadata": {},
     "source": [
      "What is the simplest way to obtain the phase when we act with one annihilation(creation) operator\n",
      "on the given Slater determinant representation?\n",
      "\n",
      "\n",
      "\n",
      "\n",
      "We have an SD representation"
     ]
    },
    {
     "cell_type": "markdown",
     "metadata": {},
     "source": [
      "$$\n",
      "\\Phi_{\\Lambda} = a_{\\alpha_0}^{\\dagger} a_{\\alpha_3}^{\\dagger} a_{\\alpha_6}^{\\dagger} a_{\\alpha_{10}}^{\\dagger} a_{\\alpha_{13}}^{\\dagger} |0\\rangle,\n",
      "$$"
     ]
    },
    {
     "cell_type": "markdown",
     "metadata": {},
     "source": [
      "in a more compact way as"
     ]
    },
    {
     "cell_type": "markdown",
     "metadata": {},
     "source": [
      "$$\n",
      "\\Phi_{0,3,6,10,13} = |1001001000100100\\rangle.\n",
      "$$"
     ]
    },
    {
     "cell_type": "markdown",
     "metadata": {},
     "source": [
      "The action of"
     ]
    },
    {
     "cell_type": "markdown",
     "metadata": {},
     "source": [
      "$$\n",
      "a^{\\dagger}_{\\alpha_4}a_{\\alpha_0}\\Phi_{0,3,6,10,13} = a^{\\dagger}_{\\alpha_4}|0001001000100100\\rangle=a^{\\dagger}_{\\alpha_4}a_{\\alpha_3}^{\\dagger} a_{\\alpha_6}^{\\dagger} a_{\\alpha_{10}}^{\\dagger} a_{\\alpha_{13}}^{\\dagger} |0\\rangle,\n",
      "$$"
     ]
    },
    {
     "cell_type": "markdown",
     "metadata": {},
     "source": [
      "which becomes"
     ]
    },
    {
     "cell_type": "markdown",
     "metadata": {},
     "source": [
      "$$\n",
      "-a_{\\alpha_3}^{\\dagger} a^{\\dagger}_{\\alpha_4} a_{\\alpha_6}^{\\dagger} a_{\\alpha_{10}}^{\\dagger} a_{\\alpha_{13}}^{\\dagger} |0\\rangle=-|0001101000100100\\rangle.\n",
      "$$"
     ]
    },
    {
     "cell_type": "markdown",
     "metadata": {},
     "source": [
      "The action"
     ]
    },
    {
     "cell_type": "markdown",
     "metadata": {},
     "source": [
      "$$\n",
      "a_{\\alpha_0}\\Phi_{0,3,6,10,13} = |0001001000100100\\rangle,\n",
      "$$"
     ]
    },
    {
     "cell_type": "markdown",
     "metadata": {},
     "source": [
      "can be obtained by subtracting the logical sum (AND operation) of $\\Phi_{0,3,6,10,13}$ and \n",
      "a word which represents only $\\alpha_0$, that is"
     ]
    },
    {
     "cell_type": "markdown",
     "metadata": {},
     "source": [
      "$$\n",
      "|1000000000000000\\rangle,\n",
      "$$"
     ]
    },
    {
     "cell_type": "markdown",
     "metadata": {},
     "source": [
      "from $\\Phi_{0,3,6,10,13}= |1001001000100100\\rangle$.\n",
      "\n",
      "This operation gives $|0001001000100100\\rangle$. \n",
      "\n",
      "Similarly, we can form $a^{\\dagger}_{\\alpha_4}a_{\\alpha_0}\\Phi_{0,3,6,10,13}$, say, by adding \n",
      "$|0000100000000000\\rangle$ to $a_{\\alpha_0}\\Phi_{0,3,6,10,13}$, first checking that their logical sum\n",
      "is zero in order to make sure that orbital $\\alpha_4$ is not already occupied. \n",
      "\n",
      "\n",
      "\n",
      "\n",
      "\n",
      "\n",
      "\n",
      "It is trickier however to get the phase $(-1)^l$. \n",
      "One possibility is as follows\n",
      "* Let $S_1$ be a word that represents the $1-$bit to be removed and all others set to zero.\n",
      "\n",
      "In the previous example $S_1=|1000000000000000\\rangle$\n",
      "* Define $S_2$ as the similar word that represents the bit to be added, that is in our case\n",
      "\n",
      "$S_2=|0000100000000000\\rangle$.\n",
      "* Compute then $S=S_1-S_2$, which here becomes"
     ]
    },
    {
     "cell_type": "markdown",
     "metadata": {},
     "source": [
      "$$\n",
      "S=|0111000000000000\\rangle\n",
      "$$"
     ]
    },
    {
     "cell_type": "markdown",
     "metadata": {},
     "source": [
      "* Perform then the logical AND operation of $S$ with the word containing"
     ]
    },
    {
     "cell_type": "markdown",
     "metadata": {},
     "source": [
      "$$\n",
      "\\Phi_{0,3,6,10,13} = |1001001000100100\\rangle,\n",
      "$$"
     ]
    },
    {
     "cell_type": "markdown",
     "metadata": {},
     "source": [
      "which results in $|0001000000000000\\rangle$. Counting the number of $1-$bits gives the phase.  Here you need however an algorithm for bitcounting. Several efficient ones available. \n",
      "\n",
      "\n",
      "\n",
      "\n",
      "\n",
      "\n",
      "\n",
      "<!-- --- begin exercise --- -->\n",
      "\n",
      "### Exercise 7: Relation between basis functions\n",
      "\n",
      "This exercise serves to convince you about the relation between\n",
      "two different single-particle bases, where one could be our new Hartree-Fock basis and the other a harmonic oscillator basis.\n",
      "\n",
      "Consider a Slater determinant built up of single-particle orbitals $\\psi_{\\lambda}$, \n",
      "with $\\lambda = 1,2,\\dots,A$. The unitary transformation"
     ]
    },
    {
     "cell_type": "markdown",
     "metadata": {},
     "source": [
      "$$\n",
      "\\psi_a  = \\sum_{\\lambda} C_{a\\lambda}\\phi_{\\lambda},\n",
      "$$"
     ]
    },
    {
     "cell_type": "markdown",
     "metadata": {},
     "source": [
      "brings us into the new basis.  \n",
      "The new basis has quantum numbers $a=1,2,\\dots,A$.\n",
      "Show that the new basis is orthonormal.\n",
      "Show that the new Slater determinant constructed from the new single-particle wave functions can be\n",
      "written as the determinant based on the previous basis and the determinant of the matrix $C$.\n",
      "Show that the old and the new Slater determinants are equal up to a complex constant with absolute value unity.\n",
      "(Hint, $C$ is a unitary matrix). \n",
      "\n",
      "Starting with the second quantization representation of the Slater determinant"
     ]
    },
    {
     "cell_type": "markdown",
     "metadata": {},
     "source": [
      "$$\n",
      "\\Phi_{0}=\\prod_{i=1}^{n}a_{\\alpha_{i}}^{\\dagger}|0\\rangle,\n",
      "$$"
     ]
    },
    {
     "cell_type": "markdown",
     "metadata": {},
     "source": [
      "use Wick's theorem to compute the normalization integral\n",
      "$\\langle\\Phi_{0}|\\Phi_{0}\\rangle$.\n",
      "\n",
      "<!-- --- end exercise --- -->\n",
      "\n",
      "\n",
      "\n",
      "\n",
      "<!-- --- begin exercise --- -->\n",
      "\n",
      "### Exercise 8: Matrix elements\n",
      "\n",
      "Calculate the matrix elements"
     ]
    },
    {
     "cell_type": "markdown",
     "metadata": {},
     "source": [
      "$$\n",
      "\\langle \\alpha_{1}\\alpha_{2}|\\hat{F}|\\alpha_{1}\\alpha_{2}\\rangle\n",
      "$$"
     ]
    },
    {
     "cell_type": "markdown",
     "metadata": {},
     "source": [
      "and"
     ]
    },
    {
     "cell_type": "markdown",
     "metadata": {},
     "source": [
      "$$\n",
      "\\langle \\alpha_{1}\\alpha_{2}|\\hat{G}|\\alpha_{1}\\alpha_{2}\\rangle\n",
      "$$"
     ]
    },
    {
     "cell_type": "markdown",
     "metadata": {},
     "source": [
      "with"
     ]
    },
    {
     "cell_type": "markdown",
     "metadata": {},
     "source": [
      "4\n",
      "2\n",
      "2\n",
      " \n",
      "<\n",
      "<\n",
      "<\n",
      "!\n",
      "!\n",
      "M\n",
      "A\n",
      "T\n",
      "H\n",
      "_\n",
      "B\n",
      "L\n",
      "O\n",
      "C\n",
      "K"
     ]
    },
    {
     "cell_type": "markdown",
     "metadata": {},
     "source": [
      "4\n",
      "2\n",
      "3\n",
      " \n",
      "<\n",
      "<\n",
      "<\n",
      "!\n",
      "!\n",
      "M\n",
      "A\n",
      "T\n",
      "H\n",
      "_\n",
      "B\n",
      "L\n",
      "O\n",
      "C\n",
      "K"
     ]
    },
    {
     "cell_type": "markdown",
     "metadata": {},
     "source": [
      "4\n",
      "2\n",
      "4\n",
      " \n",
      "<\n",
      "<\n",
      "<\n",
      "!\n",
      "!\n",
      "M\n",
      "A\n",
      "T\n",
      "H\n",
      "_\n",
      "B\n",
      "L\n",
      "O\n",
      "C\n",
      "K"
     ]
    },
    {
     "cell_type": "markdown",
     "metadata": {},
     "source": [
      "$$\n",
      "\\hat{G} = \\frac{1}{2}\\sum_{\\alpha\\beta\\gamma\\delta}\n",
      "\\langle \\alpha\\beta |\\hat{g}|\\gamma\\delta\\rangle\n",
      "a_{\\alpha}^{\\dagger}a_{\\beta}^{\\dagger}a_{\\delta}a_{\\gamma} ,\n",
      "$$"
     ]
    },
    {
     "cell_type": "markdown",
     "metadata": {},
     "source": [
      "and"
     ]
    },
    {
     "cell_type": "markdown",
     "metadata": {},
     "source": [
      "$$\n",
      "\\langle \\alpha\\beta |\\hat{g}|\\gamma\\delta\\rangle=\n",
      "\\int\\int \\psi_{\\alpha}^{*}(x_{1})\\psi_{\\beta}^{*}(x_{2})g(x_{1},\n",
      "x_{2})\\psi_{\\gamma}(x_{1})\\psi_{\\delta}(x_{2})dx_{1}dx_{2}\n",
      "$$"
     ]
    },
    {
     "cell_type": "markdown",
     "metadata": {},
     "source": [
      "Compare these results with those from exercise 3c).\n",
      "\n",
      "<!-- --- end exercise --- -->\n",
      "\n",
      "\n",
      "\n",
      "\n",
      "<!-- --- begin exercise --- -->\n",
      "\n",
      "### Exercise 9: Normal-ordered one-body operator\n",
      "\n",
      "Show that the onebody part of the Hamiltonian"
     ]
    },
    {
     "cell_type": "markdown",
     "metadata": {},
     "source": [
      "$$\n",
      "\\hat{H}_0 = \\sum_{pq} \\langle p|\\hat{h}_0|q\\rangle a^{\\dagger}_p a_q,\n",
      "$$"
     ]
    },
    {
     "cell_type": "markdown",
     "metadata": {},
     "source": [
      "can be written, using standard annihilation and creation operators, in normal-ordered form as"
     ]
    },
    {
     "cell_type": "markdown",
     "metadata": {},
     "source": [
      "$$\n",
      "\\hat{H}_0 = \\sum_{pq} \\langle p|\\hat{h}_0|q\\rangle \\left\\{a^\\dagger_p a_q\\right\\} +\n",
      "             \\sum_i \\langle i|\\hat{h}_0|i\\rangle.\n",
      "$$"
     ]
    },
    {
     "cell_type": "markdown",
     "metadata": {},
     "source": [
      "Explain the meaning of the various symbols. Which reference \n",
      "vacuum has been used?\n",
      "\n",
      "<!-- --- end exercise --- -->\n",
      "\n",
      "\n",
      "\n",
      "\n",
      "<!-- --- begin exercise --- -->\n",
      "\n",
      "### Exercise 10: Normal-ordered two-body operator\n",
      "\n",
      "Show that the twobody part of the Hamiltonian"
     ]
    },
    {
     "cell_type": "markdown",
     "metadata": {},
     "source": [
      "$$\n",
      "\\hat{H}_I = \\frac{1}{4} \\sum_{pqrs} \\langle pq|\\hat{v}|rs\\rangle a^\\dagger_p a^\\dagger_q a_s  a_r,\n",
      "$$"
     ]
    },
    {
     "cell_type": "markdown",
     "metadata": {},
     "source": [
      "can be written, using standard annihilation and creation operators, in normal-ordered form as"
     ]
    },
    {
     "cell_type": "markdown",
     "metadata": {},
     "source": [
      "$$\n",
      "\\hat{H}_I =\\frac{1}{4} \\sum_{pqrs} \\langle pq|\\hat{v}|rs\\rangle \\left\\{a^\\dagger_p a^\\dagger_q a_s  a_r\\right\\}\n",
      "            + \\sum_{pqi} \\langle pi|\\hat{v}|qi\\rangle \\left\\{a^\\dagger_p a_q\\right\\} \n",
      "            + \\frac{1}{2} \\sum_{ij}\\langle ij|\\hat{v}|ij\\rangle.\n",
      "$$"
     ]
    },
    {
     "cell_type": "markdown",
     "metadata": {},
     "source": [
      "Explain again the meaning of the various symbols.\n",
      "\n",
      "This exercise is optional: Derive the normal-ordered form of the threebody part of the Hamiltonian."
     ]
    },
    {
     "cell_type": "markdown",
     "metadata": {},
     "source": [
      "$$\n",
      "\\hat{H}_3 = \\frac{1}{36} \\sum_{\\substack{pqr \\\\ stu}}\n",
      "                 \\langle pqr|\\hat{v}_3|stu\\rangle a^\\dagger_p a^\\dagger_q a^\\dagger_r a_u a_t a_s,\n",
      "$$"
     ]
    },
    {
     "cell_type": "markdown",
     "metadata": {},
     "source": [
      "and specify the contributions to the twobody, onebody and the scalar part.\n",
      "\n",
      "<!-- --- end exercise --- -->\n",
      "\n",
      "\n",
      "\n",
      "\n",
      "<!-- --- begin exercise --- -->\n",
      "\n",
      "### Exercise 11: Matrix elements using the Slater-Condon rule\n",
      "\n",
      "The aim of this exercise is to set up specific matrix elements that will turn useful when we start our discussions of the nuclear shell model. In particular you will notice, depending on the character of the operator, that many matrix elements will actually be zero.\n",
      "\n",
      "Consider three $N$-particle  Slater determinants  $|\\Phi_0$, $|\\Phi_i^a\\rangle$ and $|\\Phi_{ij}^{ab}\\rangle$, where the notation means that \n",
      "Slater determinant $|\\Phi_i^a\\rangle$ differs from $|\\Phi_0\\rangle$ by one single-particle state, that is a single-particle\n",
      "state $\\psi_i$ is replaced by a single-particle state $\\psi_a$. \n",
      "It is often interpreted as a so-called one-particle-one-hole excitation.\n",
      "Similarly, the Slater determinant $|\\Phi_{ij}^{ab}\\rangle$\n",
      "differs by two single-particle states from $|\\Phi_0\\rangle$ and is normally thought of as a two-particle-two-hole excitation.\n",
      "We assume also that $|\\Phi_0\\rangle$ represents our new vacuum reference state\n",
      "and the labels $ijk\\dots$ represent single-particle states below the Fermi level and $abc\\dots$ represent states above the Fermi level, so-called particle states.\n",
      "We define thereafter a general onebody normal-ordered (with respect to the new vacuum state) operator \n",
      "as"
     ]
    },
    {
     "cell_type": "markdown",
     "metadata": {},
     "source": [
      "$$\n",
      "\\hat{F}_N=\\sum_{pq}\\langle p |f |\\beta\\rangle \\left\\{a_{p}^{\\dagger}a_{q}\\right\\}  ,\n",
      "$$"
     ]
    },
    {
     "cell_type": "markdown",
     "metadata": {},
     "source": [
      "with"
     ]
    },
    {
     "cell_type": "markdown",
     "metadata": {},
     "source": [
      "$$\n",
      "\\langle p |f| q\\rangle=\\int \\psi_{p}^{*}(x)f(x)\\psi_{q}(x)dx ,\n",
      "$$"
     ]
    },
    {
     "cell_type": "markdown",
     "metadata": {},
     "source": [
      "and a general normal-ordered two-body operator"
     ]
    },
    {
     "cell_type": "markdown",
     "metadata": {},
     "source": [
      "$$\n",
      "\\hat{G}_N = \\frac{1}{4}\\sum_{pqrs}\n",
      "\\langle pq |g| rs\\rangle_{AS} \\left\\{a_{p}^{\\dagger}a_{q}^{\\dagger}a_{s}a_{r}\\right\\} ,\n",
      "$$"
     ]
    },
    {
     "cell_type": "markdown",
     "metadata": {},
     "source": [
      "with for example the direct matrix element given as"
     ]
    },
    {
     "cell_type": "markdown",
     "metadata": {},
     "source": [
      "$$\n",
      "\\langle pq |g| rs\\rangle=\n",
      "\\int\\int \\psi_{p}^{*}(x_{1})\\psi_{q}^{*}(x_{2})g(x_{1}, x_{2})\\psi_{r}(x_{1})\\psi_{s}(x_{2})dx_{1}dx_{2}\n",
      "$$"
     ]
    },
    {
     "cell_type": "markdown",
     "metadata": {},
     "source": [
      "with $g$ being invariant under the interchange of the coordinates of two particles.\n",
      "The single-particle states $\\psi_i$ are not necessarily eigenstates of $\\hat{f}$.  The curly brackets mean that the operators are normal-ordered with respect to the new vacuum reference state. \n",
      "\n",
      "How would you write the above Slater determinants in a second quantization formalism, utilizing the fact that we have defined a new reference state? \n",
      "\n",
      "Use thereafter Wick's theorem to find the expectation values of"
     ]
    },
    {
     "cell_type": "markdown",
     "metadata": {},
     "source": [
      "$$\n",
      "\\langle \\Phi_0 \\vert\\hat{F}_N\\vert\\Phi_0\\rangle,\n",
      "$$"
     ]
    },
    {
     "cell_type": "markdown",
     "metadata": {},
     "source": [
      "and"
     ]
    },
    {
     "cell_type": "markdown",
     "metadata": {},
     "source": [
      "$$\n",
      "\\langle \\Phi_0\\hat{G}_N|\\Phi_0\\rangle.\n",
      "$$"
     ]
    },
    {
     "cell_type": "markdown",
     "metadata": {},
     "source": [
      "Find thereafter"
     ]
    },
    {
     "cell_type": "markdown",
     "metadata": {},
     "source": [
      "$$\n",
      "\\langle \\Phi_0 |\\hat{F}_N|\\Phi_i^a\\rangle,\n",
      "$$"
     ]
    },
    {
     "cell_type": "markdown",
     "metadata": {},
     "source": [
      "and"
     ]
    },
    {
     "cell_type": "markdown",
     "metadata": {},
     "source": [
      "$$\n",
      "\\langle \\Phi_0|\\hat{G}_N|\\Phi_i^a\\rangle,\n",
      "$$"
     ]
    },
    {
     "cell_type": "markdown",
     "metadata": {},
     "source": [
      "Finally, find"
     ]
    },
    {
     "cell_type": "markdown",
     "metadata": {},
     "source": [
      "$$\n",
      "\\langle \\Phi_0 |\\hat{F}_N|\\Phi_{ij}^{ab}\\rangle,\n",
      "$$"
     ]
    },
    {
     "cell_type": "markdown",
     "metadata": {},
     "source": [
      "and"
     ]
    },
    {
     "cell_type": "markdown",
     "metadata": {},
     "source": [
      "$$\n",
      "\\langle \\Phi_0|\\hat{G}_N|\\Phi_{ij}^{ab}\\rangle.\n",
      "$$"
     ]
    },
    {
     "cell_type": "markdown",
     "metadata": {},
     "source": [
      "What happens with the two-body operator if we have a transition probability  of the type"
     ]
    },
    {
     "cell_type": "markdown",
     "metadata": {},
     "source": [
      "$$\n",
      "\\langle \\Phi_0|\\hat{G}_N|\\Phi_{ijk}^{abc}\\rangle,\n",
      "$$"
     ]
    },
    {
     "cell_type": "markdown",
     "metadata": {},
     "source": [
      "where the Slater determinant to the right of the operator differs by more than two single-particle states?\n",
      "\n",
      "<!-- --- end exercise --- -->\n",
      "\n",
      "\n",
      "\n",
      "\n",
      "<!-- --- begin exercise --- -->\n",
      "\n",
      "### Exercise 12: Program to set up Slater determinants\n",
      "\n",
      "Write a program which sets up all possible Slater determinants given $N=4$ eletrons which can occupy\n",
      "the atomic single-particle states defined by the $1s$, $2s2p$ and $3s3p3d$ shells. How many single-particle\n",
      "states $n$ are there in total?  Include the spin degrees of freedom as well.\n",
      "\n",
      "<!-- --- end exercise --- -->\n",
      "\n",
      "\n",
      "\n",
      "\n",
      "<!-- --- begin exercise --- -->\n",
      "\n",
      "### Exercise 13: Using sympy to compute matrix elements\n",
      "\n",
      "Compute the matrix element"
     ]
    },
    {
     "cell_type": "markdown",
     "metadata": {},
     "source": [
      "$$\n",
      "\\langle\\alpha_{1}\\alpha_{2}\\alpha_{3}|\\hat{G}|\\alpha_{1}'\\alpha_{2}'\\alpha_{3}'\\rangle,\n",
      "$$"
     ]
    },
    {
     "cell_type": "markdown",
     "metadata": {},
     "source": [
      "using Wick's theorem and express the two-body operator\n",
      "$G$ in the occupation number (second quantization) \n",
      "representation.\n",
      "\n",
      "<!-- --- end exercise --- -->\n",
      "\n",
      "\n",
      "\n",
      "\n",
      "<!-- --- begin exercise --- -->\n",
      "\n",
      "### Exercise 14: Using sympy to compute matrix elements\n",
      "\n",
      "The last exercise can be solved using the symbolic Python package called *SymPy*. SymPy is a Python \n",
      "package for general purpose symbolic algebra. There is a physics module with several interesting submodules.\n",
      "Among these, the submodule called *secondquant*, contains several  functionalities that allow us to test\n",
      "our algebraic manipulations using Wick's theorem and operators for second quantization."
     ]
    },
    {
     "cell_type": "code",
     "collapsed": false,
     "input": [
      "from sympy import *\n",
      "from sympy.physics.secondquant import *\n",
      "\n",
      "i, j = symbols('i,j', below_fermi=True)\n",
      "a, b = symbols('a,b', above_fermi=True)\n",
      "p, q = symbols('p,q')\n",
      "print simplify(wicks(Fd(i)*F(a)*Fd(p)*F(q)*Fd(b)*F(j), keep_only_fully_contracted=True))\n"
     ],
     "language": "python",
     "metadata": {},
     "outputs": [],
     "prompt_number": 1
    },
    {
     "cell_type": "markdown",
     "metadata": {},
     "source": [
      "The code defines single-particle states above and below the Fermi level, in addition to the genereal symbols\n",
      "$pq$ which can refer to any type of state below or above the Fermi level. Wick's theorem is implemented between \n",
      "the creation and annihilation operators *Fd* and *F*, respectively. Using the simplify option, one can lump together several Kronecker-$\\delta$ functions.\n",
      "\n",
      "<!-- --- end exercise --- -->\n",
      "\n",
      "\n",
      "\n",
      "\n",
      "<!-- --- begin exercise --- -->\n",
      "\n",
      "### Exercise 15: Using sympy to compute matrix elements\n",
      "\n",
      "We can expand the above Python code by defining one-body and two-body operators using  the following SymPy code"
     ]
    },
    {
     "cell_type": "code",
     "collapsed": false,
     "input": [
      "# This code sets up a two-body Hamiltonian for fermions\n",
      "from sympy import symbols, latex, WildFunction, collect, Rational\n",
      "from sympy.physics.secondquant import F, Fd, wicks, AntiSymmetricTensor, substitute_dummies, NO\n",
      "\n",
      "# setup hamiltonian\n",
      "p,q,r,s = symbols('p q r s',dummy=True)\n",
      "f = AntiSymmetricTensor('f',(p,),(q,))\n",
      "pr = NO((Fd(p)*F(q)))\n",
      "v = AntiSymmetricTensor('v',(p,q),(r,s))\n",
      "pqsr = NO(Fd(p)*Fd(q)*F(s)*F(r))\n",
      "Hamiltonian=f*pr + Rational(1)/Rational(4)*v*pqsr\n",
      "print \"Hamiltonian defined as:\", latex(Hamiltonian)\n"
     ],
     "language": "python",
     "metadata": {},
     "outputs": [],
     "prompt_number": 1
    },
    {
     "cell_type": "markdown",
     "metadata": {},
     "source": [
      "Here we have used the *AntiSymmetricTensor* functionality, together with normal-ordering defined by the *NO* function. \n",
      "Using the *latex* option, this program produces the following output"
     ]
    },
    {
     "cell_type": "markdown",
     "metadata": {},
     "source": [
      "$$\n",
      "f^{p}_{q} \\left\\{a^\\dagger_{p} a_{q}\\right\\} - \\frac{1}{4} v^{qp}_{sr} \\left\\{a^\\dagger_{p} a^\\dagger_{q} a_{r} a_{s}\\right\\}\n",
      "$$"
     ]
    },
    {
     "cell_type": "markdown",
     "metadata": {},
     "source": [
      "<!-- --- end exercise --- -->\n",
      "\n",
      "\n",
      "\n",
      "\n",
      "<!-- --- begin exercise --- -->\n",
      "\n",
      "### Exercise 16: Using sympy to compute matrix elements\n",
      "\n",
      "We can now use this code to compute the matrix elements between two two-body Slater determinants using Wick's theorem."
     ]
    },
    {
     "cell_type": "code",
     "collapsed": false,
     "input": [
      "from sympy import symbols, latex, WildFunction, collect, Rational, simplify\n",
      "from sympy.physics.secondquant import F, Fd, wicks, AntiSymmetricTensor, substitute_dummies, NO, evaluate_deltas\n",
      "# setup hamiltonian\n",
      "p,q,r,s = symbols('p q r s',dummy=True)\n",
      "f = AntiSymmetricTensor('f',(p,),(q,))\n",
      "pr = NO((Fd(p)*F(q)))\n",
      "v = AntiSymmetricTensor('v',(p,q),(r,s))\n",
      "pqsr = NO(Fd(p)*Fd(q)*F(s)*F(r))\n",
      "Hamiltonian=f*pr + Rational(1)/Rational(4)*v*pqsr\n",
      "c,d = symbols('c, d',above_fermi=True)\n",
      "a,b = symbols('a, b',above_fermi=True)\n",
      "\n",
      "expression = wicks(F(b)*F(a)*Hamiltonian*Fd(c)*Fd(d),keep_only_fully_contracted=True, simplify_kronecker_deltas=True)\n",
      "expression = evaluate_deltas(expression)\n",
      "expression = simplify(expression)\n",
      "print \"Hamiltonian defined as:\", latex(expression)\n"
     ],
     "language": "python",
     "metadata": {},
     "outputs": [],
     "prompt_number": 1
    },
    {
     "cell_type": "markdown",
     "metadata": {},
     "source": [
      "The result is as expected,"
     ]
    },
    {
     "cell_type": "markdown",
     "metadata": {},
     "source": [
      "$$\n",
      "\\delta_{a c} f^{b}_{d} - \\delta_{a d} f^{b}_{c} - \\delta_{b c} f^{a}_{d} + \\delta_{b d} f^{a}_{c} + v^{ab}_{cd}.\n",
      "$$"
     ]
    },
    {
     "cell_type": "markdown",
     "metadata": {},
     "source": [
      "<!-- --- end exercise --- -->\n",
      "\n",
      "\n",
      "\n",
      "\n",
      "<!-- --- begin exercise --- -->\n",
      "\n",
      "### Exercise 17: Using sympy to compute matrix elements\n",
      "\n",
      "We can continue along these lines and define a normal-ordered Hamiltonian with respect to a given reference state.\n",
      "In our first step we just define the Hamiltonian"
     ]
    },
    {
     "cell_type": "code",
     "collapsed": false,
     "input": [
      "from sympy import symbols, latex, WildFunction, collect, Rational, simplify\n",
      "from sympy.physics.secondquant import F, Fd, wicks, AntiSymmetricTensor, substitute_dummies, NO, evaluate_deltas\n",
      "# setup hamiltonian\n",
      "p,q,r,s = symbols('p q r s',dummy=True)\n",
      "f = AntiSymmetricTensor('f',(p,),(q,))\n",
      "pr = Fd(p)*F(q)\n",
      "v = AntiSymmetricTensor('v',(p,q),(r,s))\n",
      "pqsr = Fd(p)*Fd(q)*F(s)*F(r)\n",
      "#define the Hamiltonian\n",
      "Hamiltonian = f*pr + Rational(1)/Rational(4)*v*pqsr\n",
      "#define indices for states above and below the Fermi level\n",
      "index_rule = {\n",
      "     'below':  'kl',\n",
      "     'above':  'cd',\n",
      "     'general': 'pqrs'\n",
      "     }\n",
      "Hnormal = substitute_dummies(Hamiltonian,new_indices=True, pretty_indices=index_rule)\n",
      "print \"Hamiltonian defined as:\", latex(Hnormal)\n"
     ],
     "language": "python",
     "metadata": {},
     "outputs": [],
     "prompt_number": 1
    },
    {
     "cell_type": "markdown",
     "metadata": {},
     "source": [
      "which results in"
     ]
    },
    {
     "cell_type": "markdown",
     "metadata": {},
     "source": [
      "$$\n",
      "f^{q}_{p} a^\\dagger_{q} a_{p} + \\frac{1}{4} v^{sr}_{qp} a^\\dagger_{s} a^\\dagger_{r} a_{p} a_{q}\n",
      "$$"
     ]
    },
    {
     "cell_type": "markdown",
     "metadata": {},
     "source": [
      "<!-- --- end exercise --- -->\n",
      "\n",
      "\n",
      "\n",
      "\n",
      "<!-- --- begin exercise --- -->\n",
      "\n",
      "### Exercise 18: Using sympy to compute matrix elements\n",
      "\n",
      "In our next step we define the reference energy $E_0$ and redefine the Hamiltonian by subtracting the reference energy and collecting the coefficients for all normal-ordered products (given by the *NO* function)."
     ]
    },
    {
     "cell_type": "code",
     "collapsed": false,
     "input": [
      "from sympy import symbols, latex, WildFunction, collect, Rational, simplify\n",
      "from sympy.physics.secondquant import F, Fd, wicks, AntiSymmetricTensor, substitute_dummies, NO, evaluate_deltas\n",
      "# setup hamiltonian\n",
      "p,q,r,s = symbols('p q r s',dummy=True)\n",
      "f = AntiSymmetricTensor('f',(p,),(q,))\n",
      "pr = Fd(p)*F(q)\n",
      "v = AntiSymmetricTensor('v',(p,q),(r,s))\n",
      "pqsr = Fd(p)*Fd(q)*F(s)*F(r)\n",
      "#define the Hamiltonian\n",
      "Hamiltonian=f*pr + Rational(1)/Rational(4)*v*pqsr\n",
      "#define indices for states above and below the Fermi level\n",
      "index_rule = {\n",
      "     'below':  'kl',\n",
      "     'above':  'cd',\n",
      "     'general': 'pqrs'\n",
      "     }\n",
      "Hnormal = substitute_dummies(Hamiltonian,new_indices=True, pretty_indices=index_rule)\n",
      "E0 = wicks(Hnormal,keep_only_fully_contracted=True)\n",
      "Hnormal = Hnormal-E0\n",
      "w = WildFunction('w')\n",
      "Hnormal = collect(Hnormal, NO(w))\n",
      "Hnormal = evaluate_deltas(Hnormal)\n",
      "print latex(Hnormal)\n"
     ],
     "language": "python",
     "metadata": {},
     "outputs": [],
     "prompt_number": 1
    },
    {
     "cell_type": "markdown",
     "metadata": {},
     "source": [
      "which gives us"
     ]
    },
    {
     "cell_type": "markdown",
     "metadata": {},
     "source": [
      "$$\n",
      "- f^{i}_{i} + f^{q}_{p} a^\\dagger_{q} a_{p} - \\frac{1}{4} v^{ii}_{ii} - \\frac{1}{4} v^{ii}_{ii} + \\frac{1}{4} v^{sr}_{qp} a^\\dagger_{r} a^\\dagger_{s} a_{q} a_{p},\n",
      "$$"
     ]
    },
    {
     "cell_type": "markdown",
     "metadata": {},
     "source": [
      "again as expected, with the reference energy to be subtracted.\n",
      "\n",
      "<!-- --- end exercise --- -->\n",
      "\n",
      "\n",
      "\n",
      "\n",
      "<!-- --- begin exercise --- -->\n",
      "\n",
      "### Exercise 19: Using sympy to compute matrix elements\n",
      "\n",
      "We can now go back to exercise 7 and define the Hamiltonian and the second-quantized representation of a  three-body Slater determinant."
     ]
    },
    {
     "cell_type": "code",
     "collapsed": false,
     "input": [
      "from sympy import symbols, latex, WildFunction, collect, Rational, simplify\n",
      "from sympy.physics.secondquant import F, Fd, wicks, AntiSymmetricTensor, substitute_dummies, NO, evaluate_deltas\n",
      "# setup hamiltonian\n",
      "p,q,r,s = symbols('p q r s',dummy=True)\n",
      "\n",
      "v = AntiSymmetricTensor('v',(p,q),(r,s))\n",
      "pqsr = NO(Fd(p)*Fd(q)*F(s)*F(r))\n",
      "Hamiltonian=Rational(1)/Rational(4)*v*pqsr\n",
      "a,b,c,d,e,f = symbols('a,b, c, d, e, f',above_fermi=True)\n",
      "\n",
      "expression = wicks(F(c)*F(b)*F(a)*Hamiltonian*Fd(d)*Fd(e)*Fd(f),keep_only_fully_contracted=True, simplify_kronecker_deltas=True)\n",
      "expression = evaluate_deltas(expression)\n",
      "expression = simplify(expression)\n",
      "print latex(expression)\n"
     ],
     "language": "python",
     "metadata": {},
     "outputs": [],
     "prompt_number": 1
    },
    {
     "cell_type": "markdown",
     "metadata": {},
     "source": [
      "resulting in nine terms (as expected),"
     ]
    },
    {
     "cell_type": "markdown",
     "metadata": {},
     "source": [
      "$$\n",
      "- \\delta_{a d} v^{cb}_{ef} - \\delta_{a e} v^{cb}_{fd} + \\delta_{a f} v^{cb}_{ed} - \\delta_{b d} v^{ac}_{ef} - \\delta_{b e} v^{ac}_{fd} + \\delta_{b f} v^{ac}_{ed} + \\delta_{c d} v^{ab}_{ef} + \\delta_{c e} v^{ab}_{fd} - \\delta_{c f} v^{ab}_{ed}\n",
      "$$"
     ]
    },
    {
     "cell_type": "markdown",
     "metadata": {},
     "source": [
      "<!-- --- end exercise --- -->\n",
      "\n",
      "\n",
      "\n",
      "\n",
      "<!-- --- begin exercise --- -->\n",
      "\n",
      "### Exercise 20: Diagrammatic representation of Hartree-Fock equations\n",
      "\n",
      "What is the diagrammatic representation of the HF equation?"
     ]
    },
    {
     "cell_type": "markdown",
     "metadata": {},
     "source": [
      "$$\n",
      "-\\langle\\alpha_{k}|u^{HF}|\\alpha_{i}\\rangle+\\sum_{j=1}^{n}\n",
      "\\left[\\langle\\alpha_{k}\\alpha_{j}|\\hat{v}|\\alpha_{i}\\alpha_{j}\\rangle-\n",
      "\\langle\\alpha_{k}\\alpha_{j}|v|\\alpha_{j}\\alpha_{i}\\rangle\\right]=0\n",
      "$$"
     ]
    },
    {
     "cell_type": "markdown",
     "metadata": {},
     "source": [
      "(Represent $(-u^{HF})$ by the symbol $---$X .)\n",
      "\n",
      "<!-- --- end exercise --- -->\n",
      "\n",
      "\n",
      "\n",
      "\n",
      "<!-- --- begin exercise --- -->\n",
      "\n",
      "### Exercise 21: Derivation of Hartree-Fock equations\n",
      "\n",
      "Consider the ground state $|\\Phi\\rangle$ \n",
      "of a bound many-particle system of fermions. Assume that we remove one particle\n",
      "from the single-particle state $\\lambda$ and that our system ends in a new state\n",
      "$|\\Phi_{n}\\rangle$. \n",
      "Define the energy needed to remove this particle as"
     ]
    },
    {
     "cell_type": "markdown",
     "metadata": {},
     "source": [
      "$$\n",
      "E_{\\lambda}=\\sum_{n}\\vert\\langle\\Phi_{n}|a_{\\lambda}|\\Phi\\rangle\\vert^{2}(E_{0}-E_{n}),\n",
      "$$"
     ]
    },
    {
     "cell_type": "markdown",
     "metadata": {},
     "source": [
      "where $E_{0}$ and $E_{n}$  are the ground state energies of the states\n",
      "$|\\Phi\\rangle$  and  $|\\Phi_{n}\\rangle$, respectively.\n",
      " * Show that"
     ]
    },
    {
     "cell_type": "markdown",
     "metadata": {},
     "source": [
      "$$\n",
      "E_{\\lambda}=\\langle\\Phi|a_{\\lambda}^{\\dagger}\\left[\n",
      "a_{\\lambda},H \\right]|\\Phi\\rangle,\n",
      "$$"
     ]
    },
    {
     "cell_type": "markdown",
     "metadata": {},
     "source": [
      "where $H$ is the Hamiltonian of this system.\n",
      " * If we assume that $\\Phi$ is the  Hartree-Fock result, find the \n",
      "\n",
      "relation between $E_{\\lambda}$ and the single-particle energy\n",
      "$\\varepsilon_{\\lambda}$\n",
      "for states $\\lambda \\leq F$ and $\\lambda >F$, with"
     ]
    },
    {
     "cell_type": "markdown",
     "metadata": {},
     "source": [
      "$$\n",
      "\\varepsilon_{\\lambda}=\\langle\\lambda|\\hat{t}+\\hat{u}|\\lambda\\rangle,\n",
      "$$"
     ]
    },
    {
     "cell_type": "markdown",
     "metadata": {},
     "source": [
      "and"
     ]
    },
    {
     "cell_type": "markdown",
     "metadata": {},
     "source": [
      "$$\n",
      "\\langle\\lambda|\\hat{u}|\\lambda\\rangle=\\sum_{\\beta \\leq F}\n",
      "\\langle\\lambda\\beta|\\hat{v}|\\lambda\\beta\\rangle.\n",
      "$$"
     ]
    },
    {
     "cell_type": "markdown",
     "metadata": {},
     "source": [
      "We have assumed an antisymmetrized matrix element here.\n",
      "Discuss the result.\n",
      "\n",
      "The Hamiltonian operator is defined as"
     ]
    },
    {
     "cell_type": "markdown",
     "metadata": {},
     "source": [
      "$$\n",
      "H=\\sum_{\\alpha\\beta}\\langle\\alpha|\\hat{t}|\\beta\\rangle a_{\\alpha}^{\\dagger}a_{\\beta}+\n",
      "\\frac{1}{2}\\sum_{\\alpha\\beta\\gamma\\delta}\\langle\\alpha\\beta|\\hat{v}|\\gamma\\delta\\rangle a_{\\alpha}^{\\dagger}a_{\\beta}^{\\dagger}a_{\\delta}a_{\\gamma}.\n",
      "$$"
     ]
    },
    {
     "cell_type": "markdown",
     "metadata": {},
     "source": [
      "<!-- --- end exercise --- -->\n",
      "\n",
      "\n",
      "# Nuclear forces\n",
      "<div id=\"ch:forces\"></div>\n",
      "\n",
      "## Introduction\n",
      "\n",
      "* Discussion of single-particle and two-particle quantum numbers, uncoupled and coupled schemes\n",
      "\n",
      "* Discussion of nuclear forces and models thereof (this material will not be covered in depth this spring)\n",
      "\n",
      "## Single-particle and two-particle quantum numbers\n",
      "In order to understand the basics of the nucleon-nucleon interaction, we need to define the relevant quantum numbers and how we build up a single-particle state and a two-body state. \n",
      "\n",
      "* For the single-particle states, due to the fact that we have the spin-orbit force, the quantum numbers for the projection of orbital momentum $l$, that is $m_l$, and for spin $s$, that is $m_s$, are no longer so-called good quantum numbers. The total angular momentum $j$ and its projection $m_j$ are then  so-called *good quantum numbers*.\n",
      "\n",
      "* This means that the operator $\\hat{J}^2$ does not commute with $\\hat{L}_z$  or $\\hat{S}_z$.  \n",
      "\n",
      "* We also start normally with single-particle state functions defined using say the harmonic oscillator. For these functions, we have no explicit dependence on $j$. How can we introduce single-particle wave functions which have $j$ and its projection $m_j$ as quantum numbers? \n",
      "\n",
      "We have that the operators for the orbital momentum are given by"
     ]
    },
    {
     "cell_type": "markdown",
     "metadata": {},
     "source": [
      "4\n",
      "5\n",
      "5\n",
      " \n",
      "<\n",
      "<\n",
      "<\n",
      "!\n",
      "!\n",
      "M\n",
      "A\n",
      "T\n",
      "H\n",
      "_\n",
      "B\n",
      "L\n",
      "O\n",
      "C\n",
      "K"
     ]
    },
    {
     "cell_type": "markdown",
     "metadata": {},
     "source": [
      "4\n",
      "5\n",
      "6\n",
      " \n",
      "<\n",
      "<\n",
      "<\n",
      "!\n",
      "!\n",
      "M\n",
      "A\n",
      "T\n",
      "H\n",
      "_\n",
      "B\n",
      "L\n",
      "O\n",
      "C\n",
      "K"
     ]
    },
    {
     "cell_type": "markdown",
     "metadata": {},
     "source": [
      "$$\n",
      "L_z=-i\\hbar(x\\frac{\\partial }{\\partial y}-y\\frac{\\partial }{\\partial x})=xp_y-yp_x.\n",
      "$$"
     ]
    },
    {
     "cell_type": "markdown",
     "metadata": {},
     "source": [
      "Since we have a spin orbit force which is strong, it is easy to show that \n",
      "the total angular momentum operator"
     ]
    },
    {
     "cell_type": "markdown",
     "metadata": {},
     "source": [
      "$$\n",
      "\\hat{J}=\\hat{L}+\\hat{S}\n",
      "$$"
     ]
    },
    {
     "cell_type": "markdown",
     "metadata": {},
     "source": [
      "does not commute with $\\hat{L}_z$ and $\\hat{S}_z$. To see this, we calculate for example"
     ]
    },
    {
     "cell_type": "markdown",
     "metadata": {},
     "source": [
      "$$\n",
      "\\begin{eqnarray} \n",
      "   [\\hat{L}_z,\\hat{J}^2]&=&[\\hat{L}_z,(\\hat{L}+\\hat{S})^2] \\\\ \\nonumber\n",
      "   &=&[\\hat{L}_z,\\hat{L}^2+\\hat{S}^2+2\\hat{L}\\hat{S}]\\\\ \\nonumber \n",
      "   &=& [\\hat{L}_z,\\hat{L}\\hat{S}]=[\\hat{L}_z,\\hat{L}_x\\hat{S}_x+\\hat{L}_y\\hat{S}_y+\\hat{L}_z\\hat{S}_z]\\ne 0, \n",
      "\\end{eqnarray}\n",
      "$$"
     ]
    },
    {
     "cell_type": "markdown",
     "metadata": {},
     "source": [
      "since we have that $[\\hat{L}_z,\\hat{L}_x]=i\\hbar\\hat{L}_y$ and $[\\hat{L}_z,\\hat{L}_y]=i\\hbar\\hat{L}_x$. \n",
      "\n",
      "We have also"
     ]
    },
    {
     "cell_type": "markdown",
     "metadata": {},
     "source": [
      "$$\n",
      "|\\hat{J}|=\\hbar\\sqrt{J(J+1)},\n",
      "$$"
     ]
    },
    {
     "cell_type": "markdown",
     "metadata": {},
     "source": [
      "with the the following degeneracy"
     ]
    },
    {
     "cell_type": "markdown",
     "metadata": {},
     "source": [
      "$$\n",
      "M_J=-J, -J+1, \\dots, J-1, J.\n",
      "$$"
     ]
    },
    {
     "cell_type": "markdown",
     "metadata": {},
     "source": [
      "With a given value of  $L$ and $S$ we can then determine the possible values of \n",
      " $J$ by studying the $z$ component of  $\\hat{J}$. \n",
      "It is given by"
     ]
    },
    {
     "cell_type": "markdown",
     "metadata": {},
     "source": [
      "$$\n",
      "\\hat{J}_z=\\hat{L}_z+\\hat{S}_z.\n",
      "$$"
     ]
    },
    {
     "cell_type": "markdown",
     "metadata": {},
     "source": [
      "The operators $\\hat{L}_z$ and $\\hat{S}_z$ have the quantum numbers\n",
      "$L_z=M_L\\hbar$ and $S_z=M_S\\hbar$, respectively, meaning that"
     ]
    },
    {
     "cell_type": "markdown",
     "metadata": {},
     "source": [
      "$$\n",
      "M_J\\hbar=M_L\\hbar +M_S\\hbar,\n",
      "$$"
     ]
    },
    {
     "cell_type": "markdown",
     "metadata": {},
     "source": [
      "or"
     ]
    },
    {
     "cell_type": "markdown",
     "metadata": {},
     "source": [
      "$$\n",
      "M_J=M_L +M_S.\n",
      "$$"
     ]
    },
    {
     "cell_type": "markdown",
     "metadata": {},
     "source": [
      "Since the max value of  $M_L$ is $L$ and for  $M_S$ is $S$\n",
      "we obtain"
     ]
    },
    {
     "cell_type": "markdown",
     "metadata": {},
     "source": [
      "$$\n",
      "(M_J)_{\\mathrm{maks}}=L+S.\n",
      "$$"
     ]
    },
    {
     "cell_type": "markdown",
     "metadata": {},
     "source": [
      "For nucleons we have that the maximum value of $M_S=m_s=1/2$, yielding"
     ]
    },
    {
     "cell_type": "markdown",
     "metadata": {},
     "source": [
      "$$\n",
      "(m_j)_{\\mathrm{max}}=l+\\frac{1}{2}.\n",
      "$$"
     ]
    },
    {
     "cell_type": "markdown",
     "metadata": {},
     "source": [
      "Using this and the fact that the maximum value of  $M_J=m_j$ is $j$ we have"
     ]
    },
    {
     "cell_type": "markdown",
     "metadata": {},
     "source": [
      "$$\n",
      "j=l+\\frac{1}{2}, l-\\frac{1}{2}, l-\\frac{3}{2}, l-\\frac{5}{2}, \\dots\n",
      "$$"
     ]
    },
    {
     "cell_type": "markdown",
     "metadata": {},
     "source": [
      "To decide where this series terminates, we use the vector inequality"
     ]
    },
    {
     "cell_type": "markdown",
     "metadata": {},
     "source": [
      "$$\n",
      "|\\hat{L}+\\hat{S}| \\ge \\left| |\\hat{L}|-|\\hat{S}|\\right|.\n",
      "$$"
     ]
    },
    {
     "cell_type": "markdown",
     "metadata": {},
     "source": [
      "Using $\\hat{J}=\\hat{L}+\\hat{S}$ we get"
     ]
    },
    {
     "cell_type": "markdown",
     "metadata": {},
     "source": [
      "$$\n",
      "|\\hat{J}| \\ge |\\hat{L}|-|\\hat{S}|,\n",
      "$$"
     ]
    },
    {
     "cell_type": "markdown",
     "metadata": {},
     "source": [
      "or"
     ]
    },
    {
     "cell_type": "markdown",
     "metadata": {},
     "source": [
      "$$\n",
      "|\\hat{J}|=\\hbar\\sqrt{J(J+1)}\\ge |\\hbar\\sqrt{L(L+1)}-\n",
      "   \\hbar\\sqrt{S(S+1)}|.\n",
      "$$"
     ]
    },
    {
     "cell_type": "markdown",
     "metadata": {},
     "source": [
      "If we limit ourselves to nucleons only with $s=1/2$ we find that"
     ]
    },
    {
     "cell_type": "markdown",
     "metadata": {},
     "source": [
      "$$\n",
      "|\\hat{J}|=\\hbar\\sqrt{j(j+1)}\\ge |\\hbar\\sqrt{l(l+1)}-\n",
      "   \\hbar\\sqrt{\\frac{1}{2}(\\frac{1}{2}+1)}|.\n",
      "$$"
     ]
    },
    {
     "cell_type": "markdown",
     "metadata": {},
     "source": [
      "It is then easy to show that for nucleons there are only two possible values of\n",
      "$j$ which satisfy the inequality, namely"
     ]
    },
    {
     "cell_type": "markdown",
     "metadata": {},
     "source": [
      "$$\n",
      "j=l+\\frac{1}{2}\\hspace{0.1cm} \\mathrm{or} \\hspace{0.1cm}j=l-\\frac{1}{2},\n",
      "$$"
     ]
    },
    {
     "cell_type": "markdown",
     "metadata": {},
     "source": [
      "and with $l=0$ we get"
     ]
    },
    {
     "cell_type": "markdown",
     "metadata": {},
     "source": [
      "$$\n",
      "j=\\frac{1}{2}.\n",
      "$$"
     ]
    },
    {
     "cell_type": "markdown",
     "metadata": {},
     "source": [
      "Let us study some selected examples. We need also to keep in mind that parity is conserved.\n",
      "The strong and electromagnetic Hamiltonians conserve parity. Thus the eigenstates can be\n",
      "broken down into two classes of states labeled by their parity $\\pi= +1$ or $\\pi=-1$.\n",
      "The nuclear interactions do not mix states with different parity.\n",
      "\n",
      "For nuclear structure the total parity originates\n",
      "from the intrinsic parity of the nucleon which is $\\pi_{\\mathrm{intrinsic}}=+1$ \n",
      "and the parities associated with\n",
      "the orbital angular momenta $\\pi_l=(-1)^l$ . The total parity is the product over all nucleons\n",
      "$\\pi = \\prod_i \\pi_{\\mathrm{intrinsic}}(i)\\pi_l(i) = \\prod_i (-1)^{l_i}$\n",
      "\n",
      "The basis states we deal with are constructed so that they conserve parity and have thus a definite parity. \n",
      "\n",
      "Note that we do have parity violating processes, more on this later although our focus will be mainly on non-parity viloating processes\n",
      "\n",
      "Consider now the single-particle orbits of the $1s0d$ shell. \n",
      "For a $0d$ state we have the quantum numbers $l=2$, $m_l=-2,-1,0,1,2$, $s+1/2$, $m_s=\\pm 1/2$,\n",
      "$n=0$ (the number of nodes of the wave function).   This means that we have positive parity and"
     ]
    },
    {
     "cell_type": "markdown",
     "metadata": {},
     "source": [
      "$$\n",
      "j=\\frac{3}{2}=l-s\\hspace{1cm} m_j=-\\frac{3}{2},-\\frac{1}{2},\\frac{1}{2},\\frac{3}{2}.\n",
      "$$"
     ]
    },
    {
     "cell_type": "markdown",
     "metadata": {},
     "source": [
      "and"
     ]
    },
    {
     "cell_type": "markdown",
     "metadata": {},
     "source": [
      "$$\n",
      "j=\\frac{5}{2}=l+s\\hspace{1cm} m_j=-\\frac{5}{2},-\\frac{3}{2},-\\frac{1}{2},\\frac{1}{2},\\frac{3}{2},\\frac{5}{2}.\n",
      "$$"
     ]
    },
    {
     "cell_type": "markdown",
     "metadata": {},
     "source": [
      "Our single-particle wave functions, if we use the harmonic oscillator, do however not contain the quantum numbers $j$ and $m_j$.\n",
      "Normally what we have is an eigenfunction for the one-body problem defined as"
     ]
    },
    {
     "cell_type": "markdown",
     "metadata": {},
     "source": [
      "$$\n",
      "\\phi_{nlm_lsm_s}(r,\\theta,\\phi)=R_{nl}(r)Y_{lm_l}(\\theta,\\phi)\\xi_{sm_s},\n",
      "$$"
     ]
    },
    {
     "cell_type": "markdown",
     "metadata": {},
     "source": [
      "where we have used spherical coordinates (with a spherically symmetric potential) and the spherical harmonics"
     ]
    },
    {
     "cell_type": "markdown",
     "metadata": {},
     "source": [
      "$$\n",
      "Y_{lm_l}(\\theta,\\phi)=P(\\theta)F(\\phi)=\\sqrt{\\frac{(2l+1)(l-m_l)!}{4\\pi (l+m_l)!}}\n",
      "                      P_l^{m_l}(cos(\\theta))\\exp{(im_l\\phi)},\n",
      "$$"
     ]
    },
    {
     "cell_type": "markdown",
     "metadata": {},
     "source": [
      "with $P_l^{m_l}$ being the so-called associated Legendre polynomials. \n",
      "\n",
      "Examples are"
     ]
    },
    {
     "cell_type": "markdown",
     "metadata": {},
     "source": [
      "$$\n",
      "Y_{00}=\\sqrt{\\frac{1}{4\\pi}},\n",
      "$$"
     ]
    },
    {
     "cell_type": "markdown",
     "metadata": {},
     "source": [
      "for $l=m_l=0$,"
     ]
    },
    {
     "cell_type": "markdown",
     "metadata": {},
     "source": [
      "$$\n",
      "Y_{10}=\\sqrt{\\frac{3}{4\\pi}}cos(\\theta),\n",
      "$$"
     ]
    },
    {
     "cell_type": "markdown",
     "metadata": {},
     "source": [
      "for $l=1$ and $m_l=0$,"
     ]
    },
    {
     "cell_type": "markdown",
     "metadata": {},
     "source": [
      "$$\n",
      "Y_{1\\pm 1}=\\sqrt{\\frac{3}{8\\pi}}sin(\\theta)exp(\\pm i\\phi),\n",
      "$$"
     ]
    },
    {
     "cell_type": "markdown",
     "metadata": {},
     "source": [
      "for  $l=1$ and $m_l=\\pm 1$,"
     ]
    },
    {
     "cell_type": "markdown",
     "metadata": {},
     "source": [
      "$$\n",
      "Y_{20}=\\sqrt{\\frac{5}{16\\pi}}(3cos^2(\\theta)-1)\n",
      "$$"
     ]
    },
    {
     "cell_type": "markdown",
     "metadata": {},
     "source": [
      "for $l=2$ and $m_l=0$ etc. \n",
      "\n",
      "How can we get a function in terms of $j$ and $m_j$?\n",
      "Define now"
     ]
    },
    {
     "cell_type": "markdown",
     "metadata": {},
     "source": [
      "$$\n",
      "\\phi_{nlm_lsm_s}(r,\\theta,\\phi)=R_{nl}(r)Y_{lm_l}(\\theta,\\phi)\\xi_{sm_s},\n",
      "$$"
     ]
    },
    {
     "cell_type": "markdown",
     "metadata": {},
     "source": [
      "and"
     ]
    },
    {
     "cell_type": "markdown",
     "metadata": {},
     "source": [
      "$$\n",
      "\\psi_{njm_j;lm_lsm_s}(r,\\theta,\\phi),\n",
      "$$"
     ]
    },
    {
     "cell_type": "markdown",
     "metadata": {},
     "source": [
      "as the state with quantum numbers $jm_j$.\n",
      "Operating with"
     ]
    },
    {
     "cell_type": "markdown",
     "metadata": {},
     "source": [
      "$$\n",
      "\\hat{j}^2=(\\hat{l}+\\hat{s})^2=\\hat{l}^2+\\hat{s}^2+2\\hat{l}_z\\hat{s}_z+\\hat{l}_+\\hat{s}_{-}+\\hat{l}_{-}\\hat{s}_{+},\n",
      "$$"
     ]
    },
    {
     "cell_type": "markdown",
     "metadata": {},
     "source": [
      "on the latter state we will obtain admixtures from possible $\\phi_{nlm_lsm_s}(r,\\theta,\\phi)$ states.\n",
      "\n",
      "To see this, we consider the following example and fix"
     ]
    },
    {
     "cell_type": "markdown",
     "metadata": {},
     "source": [
      "$$\n",
      "j=\\frac{3}{2}=l-s\\hspace{1cm} m_j=\\frac{3}{2}.\n",
      "$$"
     ]
    },
    {
     "cell_type": "markdown",
     "metadata": {},
     "source": [
      "and"
     ]
    },
    {
     "cell_type": "markdown",
     "metadata": {},
     "source": [
      "$$\n",
      "j=\\frac{5}{2}=l+s\\hspace{1cm} m_j=\\frac{3}{2}.\n",
      "$$"
     ]
    },
    {
     "cell_type": "markdown",
     "metadata": {},
     "source": [
      "It means we can have, with $l=2$ and $s=1/2$ being fixed, in order to have $m_j=3/2$ either $m_l=1$ and $m_s=1/2$ or\n",
      "$m_l=2$ and $m_s=-1/2$. The two states"
     ]
    },
    {
     "cell_type": "markdown",
     "metadata": {},
     "source": [
      "$$\n",
      "\\psi_{n=0j=5/2m_j=3/2;l=2s=1/2}\n",
      "$$"
     ]
    },
    {
     "cell_type": "markdown",
     "metadata": {},
     "source": [
      "and"
     ]
    },
    {
     "cell_type": "markdown",
     "metadata": {},
     "source": [
      "$$\n",
      "\\psi_{n=0j=3/2m_j=3/2;l=2s=1/2}\n",
      "$$"
     ]
    },
    {
     "cell_type": "markdown",
     "metadata": {},
     "source": [
      "will have admixtures from $\\phi_{n=0l=2m_l=2s=1/2m_s=-1/2}$ and $\\phi_{n=0l=2m_l=1s=1/2m_s=1/2}$. \n",
      "How do we find these admixtures? Note that we don't specify the values of $m_l$ and $m_s$ \n",
      "in the functions $\\psi$ since    \n",
      "$\\hat{j}^2$ does not commute with $\\hat{L}_z$ and $\\hat{S}_z$. \n",
      "\n",
      "We operate with"
     ]
    },
    {
     "cell_type": "markdown",
     "metadata": {},
     "source": [
      "$$\n",
      "\\hat{j}^2=(\\hat{l}+\\hat{s})^2=\\hat{l}^2+\\hat{s}^2+2\\hat{l}_z\\hat{s}_z+\\hat{l}_+\\hat{s}_{-}+\\hat{l}_{-}\\hat{s}_{+}\n",
      "$$"
     ]
    },
    {
     "cell_type": "markdown",
     "metadata": {},
     "source": [
      "on the two $jm_j$ states, that is"
     ]
    },
    {
     "cell_type": "markdown",
     "metadata": {},
     "source": [
      "4\n",
      "9\n",
      "0\n",
      " \n",
      "<\n",
      "<\n",
      "<\n",
      "!\n",
      "!\n",
      "M\n",
      "A\n",
      "T\n",
      "H\n",
      "_\n",
      "B\n",
      "L\n",
      "O\n",
      "C\n",
      "K"
     ]
    },
    {
     "cell_type": "markdown",
     "metadata": {},
     "source": [
      "$$\n",
      "\\beta\\hbar^2\\sqrt{l(l+1)-m_l(m_l-1)}\\phi_{n=0l=2m_l=1s=1/2m_s=1/2},\n",
      "$$"
     ]
    },
    {
     "cell_type": "markdown",
     "metadata": {},
     "source": [
      "and"
     ]
    },
    {
     "cell_type": "markdown",
     "metadata": {},
     "source": [
      "4\n",
      "9\n",
      "2\n",
      " \n",
      "<\n",
      "<\n",
      "<\n",
      "!\n",
      "!\n",
      "M\n",
      "A\n",
      "T\n",
      "H\n",
      "_\n",
      "B\n",
      "L\n",
      "O\n",
      "C\n",
      "K"
     ]
    },
    {
     "cell_type": "markdown",
     "metadata": {},
     "source": [
      "$$\n",
      "\\beta\\hbar^2\\sqrt{l(l+1)-m_l(m_l+1)}\\phi_{n=0l=2m_l=2s=1/2m_s=-1/2}.\n",
      "$$"
     ]
    },
    {
     "cell_type": "markdown",
     "metadata": {},
     "source": [
      "This means that the eigenvectors $\\phi_{n=0l=2m_l=2s=1/2m_s=-1/2}$ etc are not eigenvectors of $\\hat{j}^2$. The above problems gives a $2\\times2$ matrix that mixes the vectors $\\psi_{n=0j=5/2m_j3/2;l=2m_ls=1/2m_s}$ and $\\psi_{n=0j=3/2m_j3/2;l=2m_ls=1/2m_s}$ with the states  $\\phi_{n=0l=2m_l=2s=1/2m_s=-1/2}$ and\n",
      "$\\phi_{n=0l=2m_l=1s=1/2m_s=1/2}$. The unknown coefficients $\\alpha$ and $\\beta$ results from eigenvectors of this matrix. That is, inserting all values $m_l,l,m_s,s$ we obtain the matrix"
     ]
    },
    {
     "cell_type": "markdown",
     "metadata": {},
     "source": [
      "$$\n",
      "\\left[ \\begin{array} {cc} 19/4 & 2 \\\\ 2 & 31/4 \\end{array} \\right]\n",
      "$$"
     ]
    },
    {
     "cell_type": "markdown",
     "metadata": {},
     "source": [
      "whose eigenvectors are the columns of"
     ]
    },
    {
     "cell_type": "markdown",
     "metadata": {},
     "source": [
      "$$\n",
      "\\left[ \\begin{array} {cc} 2/\\sqrt{5} &1/\\sqrt{5}  \\\\ 1/\\sqrt{5} & -2/\\sqrt{5} \\end{array}\\right]\n",
      "$$"
     ]
    },
    {
     "cell_type": "markdown",
     "metadata": {},
     "source": [
      "These numbers define the so-called Clebsch-Gordan coupling coefficients  (the overlaps between the two basis sets). We can thus write"
     ]
    },
    {
     "cell_type": "markdown",
     "metadata": {},
     "source": [
      "$$\n",
      "\\psi_{njm_j;ls}=\\sum_{m_lm_s}\\langle lm_lsm_s|jm_j\\rangle\\phi_{nlm_lsm_s},\n",
      "$$"
     ]
    },
    {
     "cell_type": "markdown",
     "metadata": {},
     "source": [
      "where the coefficients $\\langle lm_lsm_s|jm_j\\rangle$ are the so-called Clebsch-Gordan coeffficients.\n",
      "\n",
      "\n",
      "\n",
      "### Clebsch-Gordan coefficients\n",
      "\n",
      "The Clebsch-Gordan coeffficients $\\langle lm_lsm_s|jm_j\\rangle$ have some interesting properties for us, like the following  orthogonality relations"
     ]
    },
    {
     "cell_type": "markdown",
     "metadata": {},
     "source": [
      "4\n",
      "9\n",
      "7\n",
      " \n",
      "<\n",
      "<\n",
      "<\n",
      "!\n",
      "!\n",
      "M\n",
      "A\n",
      "T\n",
      "H\n",
      "_\n",
      "B\n",
      "L\n",
      "O\n",
      "C\n",
      "K"
     ]
    },
    {
     "cell_type": "markdown",
     "metadata": {},
     "source": [
      "4\n",
      "9\n",
      "8\n",
      " \n",
      "<\n",
      "<\n",
      "<\n",
      "!\n",
      "!\n",
      "M\n",
      "A\n",
      "T\n",
      "H\n",
      "_\n",
      "B\n",
      "L\n",
      "O\n",
      "C\n",
      "K"
     ]
    },
    {
     "cell_type": "markdown",
     "metadata": {},
     "source": [
      "$$\n",
      "\\langle j_1m_1j_2m_2|JM\\rangle=(-1)^{j_1+j_2-J}\\langle j_2m_2j_1m_1|JM\\rangle,\n",
      "$$"
     ]
    },
    {
     "cell_type": "markdown",
     "metadata": {},
     "source": [
      "and many others. The latter will turn extremely useful when we are going to define two-body states and interactions in a coupled basis.\n",
      "\n",
      "\n",
      "\n",
      "### Quantum numbers and the Schroeodinger equation in relative and CM coordinates\n",
      "\n",
      "Summing up, for \n",
      "for the single-particle case, we have the following eigenfunctions"
     ]
    },
    {
     "cell_type": "markdown",
     "metadata": {},
     "source": [
      "$$\n",
      "\\psi_{njm_j;ls}=\\sum_{m_lm_s}\\langle lm_lsm_s|jm_j\\rangle\\phi_{nlm_lsm_s},\n",
      "$$"
     ]
    },
    {
     "cell_type": "markdown",
     "metadata": {},
     "source": [
      "where the coefficients $\\langle lm_lsm_s|jm_j\\rangle$ are the so-called Clebsch-Gordan coeffficients.\n",
      "The relevant quantum numbers are $n$ (related to the principal quantum number and the number of nodes of the wave function) and"
     ]
    },
    {
     "cell_type": "markdown",
     "metadata": {},
     "source": [
      "5\n",
      "0\n",
      "1\n",
      " \n",
      "<\n",
      "<\n",
      "<\n",
      "!\n",
      "!\n",
      "M\n",
      "A\n",
      "T\n",
      "H\n",
      "_\n",
      "B\n",
      "L\n",
      "O\n",
      "C\n",
      "K"
     ]
    },
    {
     "cell_type": "markdown",
     "metadata": {},
     "source": [
      "5\n",
      "0\n",
      "2\n",
      " \n",
      "<\n",
      "<\n",
      "<\n",
      "!\n",
      "!\n",
      "M\n",
      "A\n",
      "T\n",
      "H\n",
      "_\n",
      "B\n",
      "L\n",
      "O\n",
      "C\n",
      "K"
     ]
    },
    {
     "cell_type": "markdown",
     "metadata": {},
     "source": [
      "5\n",
      "0\n",
      "3\n",
      " \n",
      "<\n",
      "<\n",
      "<\n",
      "!\n",
      "!\n",
      "M\n",
      "A\n",
      "T\n",
      "H\n",
      "_\n",
      "B\n",
      "L\n",
      "O\n",
      "C\n",
      "K"
     ]
    },
    {
     "cell_type": "markdown",
     "metadata": {},
     "source": [
      "$$\n",
      "\\hat{s}^2\\psi_{njm_j;ls}=\\hbar^2s(s+1)\\psi_{njm_j;ls},\n",
      "$$"
     ]
    },
    {
     "cell_type": "markdown",
     "metadata": {},
     "source": [
      "but $s_z$ and $l_z$ do not result in good quantum numbers in a basis where we\n",
      "use the angular momentum $j$.\n",
      "\n",
      "\n",
      "For a two-body state where we couple two angular momenta $j_1$ and $j_2$ to a final\n",
      "angular momentum $J$ with projection $M_J$, we can define a similar transformation in terms\n",
      "of the Clebsch-Gordan coeffficients"
     ]
    },
    {
     "cell_type": "markdown",
     "metadata": {},
     "source": [
      "$$\n",
      "\\psi_{(j_1j_2)JM_J}=\\sum_{m_{j_1}m_{j_2}}\\langle j_1m_{j_1}j_2m_{j_2}|JM_J\\rangle\\psi_{n_1j_1m_{j_1};l_1s_1}\\psi_{n_2j_2m_{j_2};l_2s_2}.\n",
      "$$"
     ]
    },
    {
     "cell_type": "markdown",
     "metadata": {},
     "source": [
      "We will write these functions in a more compact form hereafter, namely,"
     ]
    },
    {
     "cell_type": "markdown",
     "metadata": {},
     "source": [
      "$$\n",
      "|(j_1j_2)JM_J\\rangle=\\psi_{(j_1j_2)JM_J},\n",
      "$$"
     ]
    },
    {
     "cell_type": "markdown",
     "metadata": {},
     "source": [
      "and"
     ]
    },
    {
     "cell_type": "markdown",
     "metadata": {},
     "source": [
      "$$\n",
      "|j_im_{j_i}\\rangle=\\psi_{n_ij_im_{j_i};l_is_i},\n",
      "$$"
     ]
    },
    {
     "cell_type": "markdown",
     "metadata": {},
     "source": [
      "where we have skipped the explicit reference to $l$, $s$ and $n$. The spin of a nucleon is always $1/2$ while the value of $l$ can be deduced from the parity of the state.\n",
      "It is thus normal to label a state with a given total angular momentum as \n",
      "$j^{\\pi}$, where $\\pi=\\pm 1$. \n",
      "\n",
      "\n",
      "\n",
      "Our two-body state can thus be written as"
     ]
    },
    {
     "cell_type": "markdown",
     "metadata": {},
     "source": [
      "$$\n",
      "|(j_1j_2)JM_J\\rangle=\\sum_{m_{j_1}m_{j_2}}\\langle j_1m_{j_1}j_2m_{j_2}|JM_J\\rangle|j_1m_{j_1}\\rangle|j_2m_{j_2}\\rangle.\n",
      "$$"
     ]
    },
    {
     "cell_type": "markdown",
     "metadata": {},
     "source": [
      "Due to the coupling order of the Clebsch-Gordan coefficient it reads as \n",
      "$j_1$ coupled to $j_2$ to yield a final angular momentum $J$. If we invert the order of coupling we would have"
     ]
    },
    {
     "cell_type": "markdown",
     "metadata": {},
     "source": [
      "$$\n",
      "|(j_2j_1)JM_J\\rangle=\\sum_{m_{j_1}m_{j_2}}\\langle j_2m_{j_2}j_1m_{j_1}|JM_J\\rangle|j_1m_{j_1}\\rangle|j_2m_{j_2}\\rangle,\n",
      "$$"
     ]
    },
    {
     "cell_type": "markdown",
     "metadata": {},
     "source": [
      "and due to the symmetry properties of the Clebsch-Gordan coefficient we have"
     ]
    },
    {
     "cell_type": "markdown",
     "metadata": {},
     "source": [
      "$$\n",
      "|(j_2j_1)JM_J\\rangle=(-1)^{j_1+j_2-J}\\sum_{m_{j_1}m_{j_2}}\\langle j_1m_{j_1}j_2m_{j_2}|JM_J\\rangle|j_1m_{j_1}\\rangle|j_2m_{j_2}\\rangle=(-1)^{j_1+j_2-J}|(j_1j_2)JM_J\\rangle.\n",
      "$$"
     ]
    },
    {
     "cell_type": "markdown",
     "metadata": {},
     "source": [
      "We call the basis $|(j_1j_2)JM_J\\rangle$ for the **coupled basis**, or just $j$-coupled basis/scheme. The basis formed by the simple product of single-particle eigenstates \n",
      "$|j_1m_{j_1}\\rangle|j_2m_{j_2}\\rangle$ is called the **uncoupled-basis**, or just the $m$-scheme basis. \n",
      "\n",
      "\n",
      "\n",
      "We have thus the coupled basis"
     ]
    },
    {
     "cell_type": "markdown",
     "metadata": {},
     "source": [
      "$$\n",
      "|(j_1j_2)JM_J\\rangle=\\sum_{m_{j_1}m_{j_2}}\\langle j_1m_{j_1}j_2m_{j_2}|JM_J\\rangle|j_1m_{j_1}\\rangle|j_2m_{j_2}\\rangle.\n",
      "$$"
     ]
    },
    {
     "cell_type": "markdown",
     "metadata": {},
     "source": [
      "and the uncoupled basis"
     ]
    },
    {
     "cell_type": "markdown",
     "metadata": {},
     "source": [
      "$$\n",
      "|j_1m_{j_1}\\rangle|j_2m_{j_2}\\rangle.\n",
      "$$"
     ]
    },
    {
     "cell_type": "markdown",
     "metadata": {},
     "source": [
      "The latter can easily be generalized to many single-particle states whereas the first \n",
      "needs specific coupling coefficients and definitions of coupling orders. \n",
      "The $m$-scheme basis is easy to implement numerically and is used in most standard shell-model codes. \n",
      "Our coupled basis obeys also the following relations"
     ]
    },
    {
     "cell_type": "markdown",
     "metadata": {},
     "source": [
      "5\n",
      "1\n",
      "3\n",
      " \n",
      "<\n",
      "<\n",
      "<\n",
      "!\n",
      "!\n",
      "M\n",
      "A\n",
      "T\n",
      "H\n",
      "_\n",
      "B\n",
      "L\n",
      "O\n",
      "C\n",
      "K"
     ]
    },
    {
     "cell_type": "markdown",
     "metadata": {},
     "source": [
      "$$\n",
      "\\hat{J}_z|(j_1j_2)JM_J\\rangle=\\hbar M_J|(j_1j_2)JM_J\\rangle,\n",
      "$$"
     ]
    },
    {
     "cell_type": "markdown",
     "metadata": {},
     "source": [
      "## Components of the force and isospin\n",
      "\n",
      " The nuclear forces are almost charge independent. If we assume they are, \n",
      "we can introduce a new quantum number which is conserved. For nucleons only, that is a proton and neutron, we can limit ourselves\n",
      "to two possible values which allow us to distinguish between the two particles. If we assign an isospin value of $\\tau=1/2$ for protons\n",
      "and neutrons (they belong to an isospin doublet, in the same way as we discussed the spin $1/2$ multiplet), we can define \n",
      "the neutron to have isospin projection $\\tau_z=+1/2$ and a proton to have $\\tau_z=-1/2$. These assignements are the standard choices in low-energy nuclear physics.\n",
      "\n",
      "\n",
      "\n",
      "### Isospin\n",
      "\n",
      "This leads to the introduction of an additional quantum number called isospin.\n",
      "We can define a single-nucleon\n",
      "state function in terms of the quantum numbers $n$, $j$, $m_j$, $l$, $s$, $\\tau$ and $\\tau_z$. Using our definitions in terms of an uncoupled basis, we had"
     ]
    },
    {
     "cell_type": "markdown",
     "metadata": {},
     "source": [
      "$$\n",
      "\\psi_{njm_j;ls}=\\sum_{m_lm_s}\\langle lm_lsm_s|jm_j\\rangle\\phi_{nlm_lsm_s},\n",
      "$$"
     ]
    },
    {
     "cell_type": "markdown",
     "metadata": {},
     "source": [
      "which we can now extend to"
     ]
    },
    {
     "cell_type": "markdown",
     "metadata": {},
     "source": [
      "$$\n",
      "\\psi_{njm_j;ls}\\xi_{\\tau\\tau_z}=\\sum_{m_lm_s}\\langle lm_lsm_s|jm_j\\rangle\\phi_{nlm_lsm_s}\\xi_{\\tau\\tau_z},\n",
      "$$"
     ]
    },
    {
     "cell_type": "markdown",
     "metadata": {},
     "source": [
      "with the isospin spinors defined as"
     ]
    },
    {
     "cell_type": "markdown",
     "metadata": {},
     "source": [
      "$$\n",
      "\\xi_{\\tau=1/2\\tau_z=+1/2}=\\left(\\begin{array}{c} 1  \\\\ 0\\end{array}\\right),\n",
      "$$"
     ]
    },
    {
     "cell_type": "markdown",
     "metadata": {},
     "source": [
      "and"
     ]
    },
    {
     "cell_type": "markdown",
     "metadata": {},
     "source": [
      "$$\n",
      "\\xi_{\\tau=1/2\\tau_z=-1/2}=\\left(\\begin{array}{c} 0  \\\\ 1\\end{array}\\right).\n",
      "$$"
     ]
    },
    {
     "cell_type": "markdown",
     "metadata": {},
     "source": [
      "We can then define the proton state function as"
     ]
    },
    {
     "cell_type": "markdown",
     "metadata": {},
     "source": [
      "$$\n",
      "\\psi^p(\\mathbf{r})  =\\psi_{njm_j;ls}(\\mathbf{r})\\left(\\begin{array}{c} 0  \\\\ 1\\end{array}\\right),\n",
      "$$"
     ]
    },
    {
     "cell_type": "markdown",
     "metadata": {},
     "source": [
      "and similarly for neutrons as"
     ]
    },
    {
     "cell_type": "markdown",
     "metadata": {},
     "source": [
      "$$\n",
      "\\psi^n(\\mathbf{r})  =\\psi_{njm_j;ls}(\\mathbf{r})\\left(\\begin{array}{c} 1  \\\\ 0\\end{array}\\right).\n",
      "$$"
     ]
    },
    {
     "cell_type": "markdown",
     "metadata": {},
     "source": [
      "We can in turn define the isospin Pauli matrices (in the same as we define the spin matrices) as"
     ]
    },
    {
     "cell_type": "markdown",
     "metadata": {},
     "source": [
      "5\n",
      "2\n",
      "1\n",
      " \n",
      "<\n",
      "<\n",
      "<\n",
      "!\n",
      "!\n",
      "M\n",
      "A\n",
      "T\n",
      "H\n",
      "_\n",
      "B\n",
      "L\n",
      "O\n",
      "C\n",
      "K"
     ]
    },
    {
     "cell_type": "markdown",
     "metadata": {},
     "source": [
      "$$\n",
      "\\hat{\\tau}_y =\\left(\\begin{array}{cc} 0 & -\\imath \\\\ \\imath & 0 \\end{array}\\right),\n",
      "$$"
     ]
    },
    {
     "cell_type": "markdown",
     "metadata": {},
     "source": [
      "and"
     ]
    },
    {
     "cell_type": "markdown",
     "metadata": {},
     "source": [
      "$$\n",
      "\\hat{\\tau}_z =\\left(\\begin{array}{cc} 1 & 0 \\\\ 0 & -1 \\end{array}\\right),\n",
      "$$"
     ]
    },
    {
     "cell_type": "markdown",
     "metadata": {},
     "source": [
      "and operating with $\\hat{\\tau}_z$ on the proton state function we have"
     ]
    },
    {
     "cell_type": "markdown",
     "metadata": {},
     "source": [
      "$$\n",
      "\\hat{\\tau}_z\\psi^p(\\mathbf{r})=-\\frac{1}{2}\\psi^p(\\mathbf{r}),\n",
      "$$"
     ]
    },
    {
     "cell_type": "markdown",
     "metadata": {},
     "source": [
      "and for neutrons we have"
     ]
    },
    {
     "cell_type": "markdown",
     "metadata": {},
     "source": [
      "$$\n",
      "\\hat{\\tau}\\psi^n(\\mathbf{r})=\\frac{1}{2}\\psi^n(\\mathbf{r}).\n",
      "$$"
     ]
    },
    {
     "cell_type": "markdown",
     "metadata": {},
     "source": [
      "We can now define the so-called charge operator as"
     ]
    },
    {
     "cell_type": "markdown",
     "metadata": {},
     "source": [
      "$$\n",
      "\\frac{\\hat{Q}}{e} = \\frac{1}{2}\\left(1-\\hat{\\tau}_z\\right)=\\begin{Bmatrix} 0 & 0 \\\\ 0 & 1 \\end{Bmatrix},\n",
      "$$"
     ]
    },
    {
     "cell_type": "markdown",
     "metadata": {},
     "source": [
      "which results in"
     ]
    },
    {
     "cell_type": "markdown",
     "metadata": {},
     "source": [
      "$$\n",
      "\\frac{\\hat{Q}}{e}\\psi^p(\\mathbf{r})=\\psi^p(\\mathbf{r}),\n",
      "$$"
     ]
    },
    {
     "cell_type": "markdown",
     "metadata": {},
     "source": [
      "and"
     ]
    },
    {
     "cell_type": "markdown",
     "metadata": {},
     "source": [
      "$$\n",
      "\\frac{\\hat{Q}}{e}\\psi^n(\\mathbf{r})=0,\n",
      "$$"
     ]
    },
    {
     "cell_type": "markdown",
     "metadata": {},
     "source": [
      "as it should be. \n",
      "\n",
      "The total isospin is defined as"
     ]
    },
    {
     "cell_type": "markdown",
     "metadata": {},
     "source": [
      "$$\n",
      "\\hat{T}=\\sum_{i=1}^A\\hat{\\tau}_i,\n",
      "$$"
     ]
    },
    {
     "cell_type": "markdown",
     "metadata": {},
     "source": [
      "and its corresponding isospin projection as"
     ]
    },
    {
     "cell_type": "markdown",
     "metadata": {},
     "source": [
      "$$\n",
      "\\hat{T}_z=\\sum_{i=1}^A\\hat{\\tau}_{z_i},\n",
      "$$"
     ]
    },
    {
     "cell_type": "markdown",
     "metadata": {},
     "source": [
      "with eigenvalues $T(T+1)$ for $\\hat{T}$ and $1/2(N-Z)$ for $\\hat{T}_z$, where $N$ is the number of neutrons and $Z$ the number of protons. \n",
      "\n",
      "If charge is conserved, the Hamiltonian $\\hat{H}$ commutes with $\\hat{T}_z$ and all members of a given isospin multiplet\n",
      "(that is the same value of $T$) have the same energy and there is no $T_z$ dependence and we say that $\\hat{H}$ is a scalar in isospin space.\n",
      "\n",
      "\n",
      "\n",
      "\n",
      "## Two-body matrix elements\n",
      "\n",
      "Till now we have not said anything about the explicit calculation of two-body matrix elements. It is time to amend this deficiency.\n",
      "We have till now seen the following definitions of a two-body matrix elements. In $m$-scheme\n",
      "with quantum numbers $p=j_pm_p$ etc we have a two-body state defined as"
     ]
    },
    {
     "cell_type": "markdown",
     "metadata": {},
     "source": [
      "$$\n",
      "|(pq)M\\rangle  = a^{\\dagger}_pa^{\\dagger}_q|\\Phi_0\\rangle,\n",
      "$$"
     ]
    },
    {
     "cell_type": "markdown",
     "metadata": {},
     "source": [
      "where $|\\Phi_0\\rangle$ is a chosen reference state, say for example the Slater determinant which approximates ${}^{16}\\mbox{O}$ with the $0s$ and the $0p$ shells being filled, and $M=m_p+m_q$. Recall that we label single-particle states above the Fermi level as $abcd\\dots$ and states below the Fermi level for $ijkl\\dots$.  \n",
      "In case of two-particles in the single-particle states $a$ and $b$ outside ${}^{16}\\mbox{O}$ as a closed shell core, say ${}^{18}\\mbox{O}$, \n",
      "we would write the representation of the Slater determinant as"
     ]
    },
    {
     "cell_type": "markdown",
     "metadata": {},
     "source": [
      "$$\n",
      "|^{18}\\mathrm{O}\\rangle =|(ab)M\\rangle  = a^{\\dagger}_aa^{\\dagger}_b|^{16}\\mathrm{O}\\rangle=|\\Phi^{ab}\\rangle.\n",
      "$$"
     ]
    },
    {
     "cell_type": "markdown",
     "metadata": {},
     "source": [
      "In case of two-particles removed from say ${}^{16}\\mbox{O}$, for example two neutrons in the single-particle states $i$ and $j$, we would write this as"
     ]
    },
    {
     "cell_type": "markdown",
     "metadata": {},
     "source": [
      "$$\n",
      "|^{14}\\mathrm{O}\\rangle =|(ij)M\\rangle  = a_ja_i|^{16}\\mathrm{O}\\rangle=|\\Phi_{ij}\\rangle.\n",
      "$$"
     ]
    },
    {
     "cell_type": "markdown",
     "metadata": {},
     "source": [
      "For a one-hole-one-particle state we have"
     ]
    },
    {
     "cell_type": "markdown",
     "metadata": {},
     "source": [
      "$$\n",
      "|^{16}\\mathrm{O}\\rangle_{1p1h} =|(ai)M\\rangle  = a_a^{\\dagger}a_i|^{16}\\mathrm{O}\\rangle=|\\Phi_{i}^a\\rangle,\n",
      "$$"
     ]
    },
    {
     "cell_type": "markdown",
     "metadata": {},
     "source": [
      "and finally for a two-particle-two-hole state we"
     ]
    },
    {
     "cell_type": "markdown",
     "metadata": {},
     "source": [
      "$$\n",
      "|^{16}\\mathrm{O}\\rangle_{2p2h} =|(abij)M\\rangle  = a_a^{\\dagger}a_b^{\\dagger}a_ja_i|^{16}\\mathrm{O}\\rangle=|\\Phi_{ij}^{ab}\\rangle.\n",
      "$$"
     ]
    },
    {
     "cell_type": "markdown",
     "metadata": {},
     "source": [
      "Let us go back to the case of two-particles in the single-particle states $a$ and $b$ outside ${}^{16}\\mbox{O}$ as a closed shell core, say ${}^{18}\\mbox{O}$.\n",
      "The representation of the Slater determinant is"
     ]
    },
    {
     "cell_type": "markdown",
     "metadata": {},
     "source": [
      "$$\n",
      "|^{18}\\mathrm{O}\\rangle =|(ab)M\\rangle  = a^{\\dagger}_aa^{\\dagger}_b|^{16}\\mathrm{O}\\rangle=|\\Phi^{ab}\\rangle.\n",
      "$$"
     ]
    },
    {
     "cell_type": "markdown",
     "metadata": {},
     "source": [
      "The anti-symmetrized matrix element is detailed as"
     ]
    },
    {
     "cell_type": "markdown",
     "metadata": {},
     "source": [
      "$$\n",
      "\\langle (ab) M | \\hat{V} | (cd) M \\rangle = \\langle (j_am_aj_bm_b)M=m_a+m_b |  \\hat{V} | (j_cm_cj_dm_d)M=m_a+m_b \\rangle,\n",
      "$$"
     ]
    },
    {
     "cell_type": "markdown",
     "metadata": {},
     "source": [
      "and note that anti-symmetrization means"
     ]
    },
    {
     "cell_type": "markdown",
     "metadata": {},
     "source": [
      "5\n",
      "3\n",
      "8\n",
      " \n",
      "<\n",
      "<\n",
      "<\n",
      "!\n",
      "!\n",
      "M\n",
      "A\n",
      "T\n",
      "H\n",
      "_\n",
      "B\n",
      "L\n",
      "O\n",
      "C\n",
      "K"
     ]
    },
    {
     "cell_type": "markdown",
     "metadata": {},
     "source": [
      "$$\n",
      "\\langle (ab) M | \\hat{V} | (cd) M \\rangle =-\\langle (ab) M | \\hat{V} | (dc) M \\rangle.\n",
      "$$"
     ]
    },
    {
     "cell_type": "markdown",
     "metadata": {},
     "source": [
      "This matrix element is the expectation value of"
     ]
    },
    {
     "cell_type": "markdown",
     "metadata": {},
     "source": [
      "$$\n",
      "\\langle ^{16}\\mathrm{O}|a_ba_a\\frac{1}{4}\\sum_{pqrs}\\langle (pq) M | \\hat{V} | (rs) M' \\rangle a^{\\dagger}_pa^{\\dagger}_qa_sa_r a^{\\dagger}_ca^{\\dagger}_c|^{16}\\mathrm{O}\\rangle.\n",
      "$$"
     ]
    },
    {
     "cell_type": "markdown",
     "metadata": {},
     "source": [
      "We have also defined matrix elements in the coupled basis, the so-called $J$-coupled scheme.\n",
      "In this case the two-body wave function for two neutrons outside ${}^{16}\\mbox{O}$ is written as"
     ]
    },
    {
     "cell_type": "markdown",
     "metadata": {},
     "source": [
      "$$\n",
      "|^{18}\\mathrm{O}\\rangle_J =|(ab)JM\\rangle  = \\left\\{a^{\\dagger}_aa^{\\dagger}_b\\right\\}^J_M|^{16}\\mathrm{O}\\rangle=N_{ab}\\sum_{m_am_b}\\langle j_am_aj_bm_b|JM\\rangle|\\Phi^{ab}\\rangle,\n",
      "$$"
     ]
    },
    {
     "cell_type": "markdown",
     "metadata": {},
     "source": [
      "with"
     ]
    },
    {
     "cell_type": "markdown",
     "metadata": {},
     "source": [
      "$$\n",
      "|\\Phi^{ab}\\rangle=a^{\\dagger}_aa^{\\dagger}_b|^{16}\\mathrm{O}\\rangle.\n",
      "$$"
     ]
    },
    {
     "cell_type": "markdown",
     "metadata": {},
     "source": [
      "We have now an explicit coupling order, where the angular momentum $j_a$ is coupled to the angular momentum $j_b$ to yield a final two-body angular momentum $J$. \n",
      "The normalization factor (to be derived below) is"
     ]
    },
    {
     "cell_type": "markdown",
     "metadata": {},
     "source": [
      "$$\n",
      "N_{ab}=\\frac{\\sqrt{1+\\delta_{ab}\\times (-1)^J}}{1+\\delta_{ab}}.\n",
      "$$"
     ]
    },
    {
     "cell_type": "markdown",
     "metadata": {},
     "source": [
      "The implementation of the Pauli principle looks different in the $J$-scheme compared with the $m$-scheme. In the latter, no two fermions or more can have the same set of quantum numbers. In the $J$-scheme, when we write a state with the shorthand"
     ]
    },
    {
     "cell_type": "markdown",
     "metadata": {},
     "source": [
      "$$\n",
      "|^{18}\\mathrm{O}\\rangle_J =|(ab)JM\\rangle,\n",
      "$$"
     ]
    },
    {
     "cell_type": "markdown",
     "metadata": {},
     "source": [
      "we do refer to the angular momenta only. This means that another way of writing the last state is"
     ]
    },
    {
     "cell_type": "markdown",
     "metadata": {},
     "source": [
      "$$\n",
      "|^{18}\\mathrm{O}\\rangle_J =|(j_aj_b)JM\\rangle.\n",
      "$$"
     ]
    },
    {
     "cell_type": "markdown",
     "metadata": {},
     "source": [
      "We will use this notation throughout when we refer to a two-body state in $J$-scheme. The Kronecker $\\delta$ function in the normalization factor \n",
      "refers thus to the values of $j_a$ and $j_b$. If two identical particles are in a state with the same $j$-value, then only even values of the total angular momentum apply.\n",
      "\n",
      "\n",
      "\n",
      "\n",
      "Note also that, using the anti-commuting properties of the creation operators, we obtain"
     ]
    },
    {
     "cell_type": "markdown",
     "metadata": {},
     "source": [
      "$$\n",
      "N_{ab}\\sum_{m_am_b}\\langle j_am_aj_bm_b|JM>|\\Phi^{ab}\\rangle=-N_{ab}\\sum_{m_am_b}\\langle j_am_aj_bm_b|JM\\rangle|\\Phi^{ba}\\rangle.\n",
      "$$"
     ]
    },
    {
     "cell_type": "markdown",
     "metadata": {},
     "source": [
      "Furthermore, using the property of the Clebsch-Gordan coefficient"
     ]
    },
    {
     "cell_type": "markdown",
     "metadata": {},
     "source": [
      "$$\n",
      "\\langle j_am_aj_bm_b|JM>=(-1)^{j_a+j_b-J}\\langle j_bm_bj_am_a|JM\\rangle,\n",
      "$$"
     ]
    },
    {
     "cell_type": "markdown",
     "metadata": {},
     "source": [
      "which can be used to show that"
     ]
    },
    {
     "cell_type": "markdown",
     "metadata": {},
     "source": [
      "$$\n",
      "|(j_bj_a)JM\\rangle  = \\left\\{a^{\\dagger}_ba^{\\dagger}_a\\right\\}^J_M|^{16}\\mathrm{O}\\rangle=N_{ab}\\sum_{m_am_b}\\langle j_bm_bj_am_a|JM\\rangle|\\Phi^{ba}\\rangle,\n",
      "$$"
     ]
    },
    {
     "cell_type": "markdown",
     "metadata": {},
     "source": [
      "is equal to"
     ]
    },
    {
     "cell_type": "markdown",
     "metadata": {},
     "source": [
      "$$\n",
      "|(j_bj_a)JM\\rangle=(-1)^{j_a+j_b-J+1}|(j_aj_b)JM\\rangle.\n",
      "$$"
     ]
    },
    {
     "cell_type": "markdown",
     "metadata": {},
     "source": [
      "This relation is important since we will need it when using anti-symmetrized matrix elements in $J$-scheme.\n",
      "\n",
      "\n",
      "\n",
      "The two-body matrix element is a scalar and since it obeys rotational symmetry, it is diagonal in $J$, \n",
      "meaning that the corresponding matrix element in $J$-scheme is"
     ]
    },
    {
     "cell_type": "markdown",
     "metadata": {},
     "source": [
      "5\n",
      "5\n",
      "0\n",
      " \n",
      "<\n",
      "<\n",
      "<\n",
      "!\n",
      "!\n",
      "M\n",
      "A\n",
      "T\n",
      "H\n",
      "_\n",
      "B\n",
      "L\n",
      "O\n",
      "C\n",
      "K"
     ]
    },
    {
     "cell_type": "markdown",
     "metadata": {},
     "source": [
      "$$\n",
      "\\times \\langle j_cm_cj_dm_d|JM\\rangle\\langle (j_am_aj_bm_b)M |  \\hat{V} | (j_cm_cj_dm_d)M \\rangle,\n",
      "$$"
     ]
    },
    {
     "cell_type": "markdown",
     "metadata": {},
     "source": [
      "and note that of the four $m$-values in the above sum, only three are independent due to the constraint $m_a+m_b=M=m_c+m_d$.\n",
      "Since"
     ]
    },
    {
     "cell_type": "markdown",
     "metadata": {},
     "source": [
      "$$\n",
      "|(j_bj_a)JM\\rangle=(-1)^{j_a+j_b-J+1}|(j_aj_b)JM\\rangle,\n",
      "$$"
     ]
    },
    {
     "cell_type": "markdown",
     "metadata": {},
     "source": [
      "the anti-symmetrized matrix elements need now to obey the following relations"
     ]
    },
    {
     "cell_type": "markdown",
     "metadata": {},
     "source": [
      "5\n",
      "5\n",
      "3\n",
      " \n",
      "<\n",
      "<\n",
      "<\n",
      "!\n",
      "!\n",
      "M\n",
      "A\n",
      "T\n",
      "H\n",
      "_\n",
      "B\n",
      "L\n",
      "O\n",
      "C\n",
      "K"
     ]
    },
    {
     "cell_type": "markdown",
     "metadata": {},
     "source": [
      "5\n",
      "5\n",
      "4\n",
      " \n",
      "<\n",
      "<\n",
      "<\n",
      "!\n",
      "!\n",
      "M\n",
      "A\n",
      "T\n",
      "H\n",
      "_\n",
      "B\n",
      "L\n",
      "O\n",
      "C\n",
      "K"
     ]
    },
    {
     "cell_type": "markdown",
     "metadata": {},
     "source": [
      "$$\n",
      "\\langle (j_aj_b) JM | \\hat{V} | (j_cj_d) JM \\rangle = (-1)^{j_a+j_b+j_c+j_d}\\langle (j_bj_a) JM | \\hat{V} | (j_dj_c) JM \\rangle=\\langle (j_bj_a) JM | \\hat{V} | (j_dj_c) JM \\rangle,\n",
      "$$"
     ]
    },
    {
     "cell_type": "markdown",
     "metadata": {},
     "source": [
      "where the last relations follows from the fact that $J$ is an integer and $2J$ is always an even number.\n",
      "\n",
      "\n",
      "\n",
      "\n",
      "Using the orthogonality properties of the Clebsch-Gordan coefficients,"
     ]
    },
    {
     "cell_type": "markdown",
     "metadata": {},
     "source": [
      "$$\n",
      "\\sum_{m_am_b}\\langle j_am_aj_bm_b|JM\\rangle\\langle j_am_aj_bm_b|J'M'\\rangle=\\delta_{JJ'}\\delta_{MM'},\n",
      "$$"
     ]
    },
    {
     "cell_type": "markdown",
     "metadata": {},
     "source": [
      "and"
     ]
    },
    {
     "cell_type": "markdown",
     "metadata": {},
     "source": [
      "$$\n",
      "\\sum_{JM}\\langle j_am_aj_bm_b|JM\\rangle\\langle j_am_a'j_bm_b'|JM\\rangle=\\delta_{m_am_a'}\\delta_{m_bm_b'},\n",
      "$$"
     ]
    },
    {
     "cell_type": "markdown",
     "metadata": {},
     "source": [
      "we can also express the two-body matrix element in $m$-scheme in terms of that in $J$-scheme, that is, if we multiply with"
     ]
    },
    {
     "cell_type": "markdown",
     "metadata": {},
     "source": [
      "$$\n",
      "\\sum_{JMJ'M'}\\langle j_am_a'j_bm_b'|JM\\rangle\\langle j_cm_c'j_dm_d'|J'M'\\rangle\n",
      "$$"
     ]
    },
    {
     "cell_type": "markdown",
     "metadata": {},
     "source": [
      "from left in"
     ]
    },
    {
     "cell_type": "markdown",
     "metadata": {},
     "source": [
      "5\n",
      "5\n",
      "9\n",
      " \n",
      "<\n",
      "<\n",
      "<\n",
      "!\n",
      "!\n",
      "M\n",
      "A\n",
      "T\n",
      "H\n",
      "_\n",
      "B\n",
      "L\n",
      "O\n",
      "C\n",
      "K"
     ]
    },
    {
     "cell_type": "markdown",
     "metadata": {},
     "source": [
      "$$\n",
      "\\times \\langle (j_am_aj_bm_b)M|  \\hat{V} | (j_cm_cj_dm_d)M\\rangle,\n",
      "$$"
     ]
    },
    {
     "cell_type": "markdown",
     "metadata": {},
     "source": [
      "we obtain\n",
      "\n",
      "\n",
      "\n",
      "we obtain"
     ]
    },
    {
     "cell_type": "markdown",
     "metadata": {},
     "source": [
      "5\n",
      "6\n",
      "1\n",
      " \n",
      "<\n",
      "<\n",
      "<\n",
      "!\n",
      "!\n",
      "M\n",
      "A\n",
      "T\n",
      "H\n",
      "_\n",
      "B\n",
      "L\n",
      "O\n",
      "C\n",
      "K"
     ]
    },
    {
     "cell_type": "markdown",
     "metadata": {},
     "source": [
      "$$\n",
      "\\times \\langle (j_aj_b) JM | \\hat{V} | (j_cj_d) JM \\rangle.\n",
      "$$"
     ]
    },
    {
     "cell_type": "markdown",
     "metadata": {},
     "source": [
      "## Phenomenology of nuclear forces: From Yukawa to Lattice QCD and Effective Field Theory\n",
      "\n",
      "\n",
      "* Chadwick (1932) discovers the neutron and Heisenberg (1932) proposes the first Phenomenology (Isospin).  \n",
      "\n",
      "* Yukawa (1935) and his Meson Hypothesis       \n",
      "\n",
      "* Discovery of the pion in cosmic ray (1947) and in the Berkeley Cyclotron Lab (1948).\n",
      "\n",
      "* Nobelprize awarded to Yukawa (1949).  Rabi (1948) measures quadrupole moment of the deuteron.\n",
      "\n",
      "* Taketani, Nakamura, Sasaki (1951): 3 ranges.      One-Pion-Exchange (OPE): o.k.\n",
      "\n",
      "* Multi-pion exchanges: Problems!   Taketani, Machida, Onuma (1952);\n",
      "\n",
      "* *Pion Theories* Brueckner, Watson (1953).\n",
      "\n",
      "* Many pions = multi-pion resonances: $\\sigma(600)$,  $\\rho(770)$,  $\\omega(782)$ etc. One-Boson-Exchange Model.\n",
      "\n",
      "* Refined Meson Theories\n",
      "\n",
      "* Sophisticated models for two-pion exchange:\n",
      "\n",
      "      * Paris Potential (Lacombe et al., Phys. Rev. C **21**, 861 (1980))\n",
      "\n",
      "      * Bonn potential (Machleidt et al., Phys. Rep. **149**, 1 (1987))\n",
      "\n",
      "\n",
      "* Quark cluster models. Begin of effective field theory studies.\n",
      "\n",
      "* 1990's\n",
      "\n",
      "  * 1993-2001: High-precision NN potentials: Nijmegen I, II, '93, Reid93 (Stoks et al. 1994), \n",
      "\n",
      "  * Argonne V18 (Wiringa et al, 1995), CD-Bonn (Machleidt et al. 1996 and 2001. \n",
      "\n",
      "  * Advances in effective field theory: Weinberg (1990); Ordonez, Ray, van Kolck and many more.\n",
      "\n",
      "\n",
      "* 3rd Millenium\n",
      "\n",
      "  * Another \"pion theory\"; but now right: constrained by chiral symmetry. Three-body and higher-body forces appear naturally at a given order of the chiral expansion. \n",
      "\n",
      "\n",
      "Nucleon-nucleon interaction from Lattice QCD, final confirmation of meson hypothesis of Yukawa?  See for example Ishii *et al*, PRL 2007\n",
      "\n",
      "The aim is to give you an overview over central features of the nucleon-nucleon interaction and how it is constructed, with both technical and theoretical approaches. \n",
      "\n",
      "* The existence of the deuteron with $J^{\\pi}=1^+$ indicates that the force between protons and neutrons is attractive at least for the $^3S_1$ partial wave. Interference between Coulomb and nuclear scattering for the proton-proton partial wave $^1S_0$ shows that  the NN force is attractive at least for the $^1S_0$ partial wave. \n",
      "\n",
      "* It has a short range and strong intermediate attraction.\n",
      "\n",
      "* Spin dependent, scattering lengths for triplet and singlet states are different,\n",
      "\n",
      "* Spin-orbit force. Observation of large polarizations of scattered nucleons perpendicular to the plane of scattering.\n",
      "\n",
      "* Strongly repulsive core. The $s$-wave phase shift becomes negative at $\\approx 250$ MeV implying that the singlet $S$ has a hard core with range $0.4-0.5$ fm. \n",
      "\n",
      "* Charge independence (almost). Two nucleons in a given two-body state always (almost) experience the same force. Modern interactions break charge and isospin symmetry lightly. That means that the pp, neutron-neutron and pn parts of the interaction will be different for the same quantum numbers. \n",
      "\n",
      "* Non-central. There is a tensor force. First indications from the quadrupole moment of the deuteron pointing to an admixture in the ground state of both $l=2$ ($^3D_1$) and $l=0$ ($^3S_1$) orbital momenta.\n",
      "\n",
      "Comparison of the binding energies of\n",
      "${}^2\\mbox{H}$ (deuteron), ${}^3\\mbox{H}$ (triton), ${}^4\\mbox{He}$ (alpha - particle) show that the nuclear force is of finite range ($1-2$ fm) and very strong within that range.\n",
      "\n",
      "For nuclei with $A>4$, the energy saturates: Volume and binding energies of nuclei are proportional to the mass number $A$ (as we saw from exercise 1).\n",
      "\n",
      "Nuclei are also bound. The average distance\n",
      "between nucleons in nuclei is about $2$ fm which\n",
      "must roughly correspond to the range of the\n",
      "attractive part.\n",
      "\n",
      "\n",
      "### Phenomenology of nuclear forces: Charge Dependence\n",
      "\n",
      "\n",
      " * After correcting for the electromagnetic interaction, the forces between nucleons (pp, nn, or np) in the same state are almost the same.\n",
      "\n",
      " * *Almost the same*: Charge-independence is slightly broken.\n",
      "\n",
      " * Equality between the pp and nn forces: Charge symmetry.\n",
      "\n",
      " * Equality between pp/nn force and np force: Charge independence.\n",
      "\n",
      " * Better notation: Isospin symmetry, invariance under rotations in isospin\n",
      "\n",
      "Charge-symmetry breaking (CSB), after electromagnetic effects\n",
      "have been removed:\n",
      "* $a_{pp}=  -17.3 \\pm 0.4 \\hspace{0.cm} \\mathrm{fm}$\n",
      "\n",
      "* $a_{nn}=-18.8 \\pm 0.5 \\hspace{0.cm} \\mathrm{fm}$. Note however discrepancy from $nd$ breakup reactions resulting in  $a_{nn}=-18.72 \\pm 0.13 \\pm 0.65 \\hspace{0.cm} \\mathrm{fm}$ and $\\pi^- + d \\rightarrow \\gamma + 2n$ reactions giving  $a_{nn}=-18.93 \\pm 0.27 \\pm 0.3 \\hspace{0.cm} \\mathrm{fm}$.\n",
      "\n",
      "Charge-independence breaking (CIB)\n",
      "* $a_{pn}=  -23.74 \\pm 0.02 \\hspace{0.cm} \\mathrm{fm}$ \n",
      "\n",
      "## Symmetries of the Nucleon-Nucleon (NN) Force\n",
      "\n",
      "* Translation invariance\n",
      "\n",
      "* Galilean invariance\n",
      "\n",
      "* Rotation invariance in space\n",
      "\n",
      "* Space reflection invariance\n",
      "\n",
      "* Time reversal invariance\n",
      "\n",
      "* Invariance under the interchange of particle $1$ and $2$\n",
      "\n",
      "* Almost isospin symmetry\n",
      "\n",
      "Here we display a typical way to parametrize (non-relativistic expression) the nuclear two-body force\n",
      "in terms of some operators, the central part, the spin-spin part and the central force."
     ]
    },
    {
     "cell_type": "markdown",
     "metadata": {},
     "source": [
      "5\n",
      "6\n",
      "3\n",
      " \n",
      "<\n",
      "<\n",
      "<\n",
      "!\n",
      "!\n",
      "M\n",
      "A\n",
      "T\n",
      "H\n",
      "_\n",
      "B\n",
      "L\n",
      "O\n",
      "C\n",
      "K"
     ]
    },
    {
     "cell_type": "markdown",
     "metadata": {},
     "source": [
      "$$\n",
      "\\left. + C_{SL} \\left( {1\\over m_\\alpha r} + {1\\over \\left( m_\\alpha r\\right)^2}\n",
      "\\right) \\mathbf{L}\\cdot \\mathbf{S}\n",
      "\\right\\} \\frac{e^{-m_\\alpha r}}{m_\\alpha r}\n",
      "$$"
     ]
    },
    {
     "cell_type": "markdown",
     "metadata": {},
     "source": [
      "How do we derive such terms?  (Note: no isospin dependence and that the above is an approximation)\n",
      "\n",
      "To derive the above famous form of the nuclear force using field theoretical concepts, we will need some \n",
      "elements from relativistic quantum mechanics. These derivations will be given below. \n",
      "The material here gives some background to this.\n",
      "I know that many of you have not taken a course in quantum field theory. I hope however that you can see the basic ideas leading to the famous non-relativistic expressions for the nuclear force. \n",
      "\n",
      "**Furthermore, when we analyze nuclear data, we will actually try to explain properties like spectra, single-particle energies etc in terms of the various terms of the nuclear force. Moreover, many of you will hear about these terms at various talks, workshops, seminars etc. Then, it is good to have an idea of what people actually mean!!**\n",
      "\n",
      "\n",
      "\n",
      "### Dramatis Personae\n",
      "\n",
      "\n",
      "<table border=\"1\">\n",
      "<thead>\n",
      "<tr><th align=\"center\"> Baryons </th> <th align=\"center\">Mass (MeV)</th> <th align=\"center\">   Mesons  </th> <th align=\"center\">   Mass (MeV)  </th> </tr>\n",
      "</thead>\n",
      "<tbody>\n",
      "<tr><td align=\"center\">   $p,n$        </td> <td align=\"center\">   938.926       </td> <td align=\"center\">   $\\pi$          </td> <td align=\"center\">   138.03             </td> </tr>\n",
      "<tr><td align=\"center\">   $\\Lambda$    </td> <td align=\"center\">   1116.0        </td> <td align=\"center\">   $\\eta$         </td> <td align=\"center\">   548.8              </td> </tr>\n",
      "<tr><td align=\"center\">   $\\Sigma$     </td> <td align=\"center\">   1197.3        </td> <td align=\"center\">   $\\sigma$       </td> <td align=\"center\">   $\\approx 550.0$    </td> </tr>\n",
      "<tr><td align=\"center\">   $\\Delta$     </td> <td align=\"center\">   1232.0        </td> <td align=\"center\">   $\\rho$         </td> <td align=\"center\">   770                </td> </tr>\n",
      "<tr><td align=\"center\">                </td> <td align=\"center\">                 </td> <td align=\"center\">   $\\omega$       </td> <td align=\"center\">   782.6              </td> </tr>\n",
      "<tr><td align=\"center\">                </td> <td align=\"center\">                 </td> <td align=\"center\">   $\\delta$       </td> <td align=\"center\">   983.0              </td> </tr>\n",
      "<tr><td align=\"center\">                </td> <td align=\"center\">                 </td> <td align=\"center\">   $K$            </td> <td align=\"center\">   495.8              </td> </tr>\n",
      "<tr><td align=\"center\">                </td> <td align=\"center\">                 </td> <td align=\"center\">   $K^{\\star}$    </td> <td align=\"center\">   895.0              </td> </tr>\n",
      "</tbody>\n",
      "</table>\n",
      "\n",
      "\n",
      "\n",
      "\n",
      "### Components of the force and quantum numbers\n",
      "\n",
      "But before we proceed, we will look into specific quantum numbers of the relative system and study \n",
      "expectation vaues of the various terms of"
     ]
    },
    {
     "cell_type": "markdown",
     "metadata": {},
     "source": [
      "5\n",
      "6\n",
      "5\n",
      " \n",
      "<\n",
      "<\n",
      "<\n",
      "!\n",
      "!\n",
      "M\n",
      "A\n",
      "T\n",
      "H\n",
      "_\n",
      "B\n",
      "L\n",
      "O\n",
      "C\n",
      "K"
     ]
    },
    {
     "cell_type": "markdown",
     "metadata": {},
     "source": [
      "$$\n",
      "\\left. + C_{SL} \\left( {1\\over m_\\alpha r} + {1\\over \\left( m_\\alpha r\\right)^2}\n",
      "\\right) \\mathbf{L}\\cdot \\mathbf{S}\n",
      "\\right\\} \\frac{e^{-m_\\alpha r}}{m_\\alpha r}\n",
      "$$"
     ]
    },
    {
     "cell_type": "markdown",
     "metadata": {},
     "source": [
      "### Relative and CoM system, quantum numbers\n",
      "\n",
      "\n",
      "When solving the scattering equation or solving the two-nucleon problem, it is convenient to rewrite the Schroedinger equation, due to\n",
      "the spherical symmetry of the Hamiltonian, in relative and center-of-mass coordinates. This will also define the quantum numbers of the relative and center-of-mass system and will aid us later in solving\n",
      "the so-called Lippman-Schwinger equation for the scattering problem. \n",
      "\n",
      "We define the center-of-mass (CoM)  momentum as"
     ]
    },
    {
     "cell_type": "markdown",
     "metadata": {},
     "source": [
      "$$\n",
      "\\mathbf{K}=\\sum_{i=1}^A\\mathbf{k}_i,\n",
      "$$"
     ]
    },
    {
     "cell_type": "markdown",
     "metadata": {},
     "source": [
      "with $\\hbar=c=1$ the wave number $k_i=p_i$, with $p_i$ the pertinent momentum of a single-particle state. \n",
      "We have also the relative momentum"
     ]
    },
    {
     "cell_type": "markdown",
     "metadata": {},
     "source": [
      "$$\n",
      "\\mathbf{k}_{ij}=\\frac{1}{2}(\\mathbf{k}_i-\\mathbf{k}_j).\n",
      "$$"
     ]
    },
    {
     "cell_type": "markdown",
     "metadata": {},
     "source": [
      "We will below skip the indices $ij$ and simply write $\\mathbf{k}$\n",
      "\n",
      "\n",
      "\n",
      "\n",
      "In a similar fashion we can define the CoM coordinate"
     ]
    },
    {
     "cell_type": "markdown",
     "metadata": {},
     "source": [
      "$$\n",
      "\\mathbf{R}=\\frac{1}{A}\\sum_{i=1}^{A}\\mathbf{r}_i,\n",
      "$$"
     ]
    },
    {
     "cell_type": "markdown",
     "metadata": {},
     "source": [
      "and the relative distance"
     ]
    },
    {
     "cell_type": "markdown",
     "metadata": {},
     "source": [
      "$$\n",
      "\\mathbf{r}_{ij}=(\\mathbf{r}_i-\\mathbf{r}_j).\n",
      "$$"
     ]
    },
    {
     "cell_type": "markdown",
     "metadata": {},
     "source": [
      "With the definitions"
     ]
    },
    {
     "cell_type": "markdown",
     "metadata": {},
     "source": [
      "$$\n",
      "\\mathbf{K}=\\sum_{i=1}^A\\mathbf{k}_i,\n",
      "$$"
     ]
    },
    {
     "cell_type": "markdown",
     "metadata": {},
     "source": [
      "and"
     ]
    },
    {
     "cell_type": "markdown",
     "metadata": {},
     "source": [
      "$$\n",
      "\\mathbf{k}_{ij}=\\frac{1}{2}(\\mathbf{k}_i-\\mathbf{k}_j).\n",
      "$$"
     ]
    },
    {
     "cell_type": "markdown",
     "metadata": {},
     "source": [
      "we can rewrite the two-particle kinetic energy (note that we use $\\hbar=c=1$ as"
     ]
    },
    {
     "cell_type": "markdown",
     "metadata": {},
     "source": [
      "$$\n",
      "\\frac{\\mathbf{k}_1^2}{2m_n}+\\frac{\\mathbf{k}_2^2}{2m_n}=\\frac{\\mathbf{k}^2}{m_n}+\\frac{\\mathbf{K}^2}{4m_n},\n",
      "$$"
     ]
    },
    {
     "cell_type": "markdown",
     "metadata": {},
     "source": [
      "where $m_n$ is the average of the proton and the neutron masses. \n",
      "\n",
      "\n",
      "\n",
      "Since the two-nucleon interaction depends only on the relative distance, this means that we can separate Schroedinger's equation in an equation for the center-of-mass motion and one for the relative motion.\n",
      "\n",
      "With an equation for the relative motion only and a separate one for the center-of-mass motion we need to redefine the two-body quantum numbers.\n",
      "\n",
      "Previously we had a two-body state vector defined as $|(j_1j_2)JM_J\\rangle$ in a coupled basis. \n",
      "We will now define the quantum numbers for the relative motion. Here we need to define new orbital momenta (since these are the quantum numbers which change). \n",
      "We define"
     ]
    },
    {
     "cell_type": "markdown",
     "metadata": {},
     "source": [
      "$$\n",
      "\\hat{l}_1+\\hat{l}_2=\\hat{\\lambda}=\\hat{l}+\\hat{L},\n",
      "$$"
     ]
    },
    {
     "cell_type": "markdown",
     "metadata": {},
     "source": [
      "where $\\hat{l}$ is the orbital momentum associated with the relative motion and\n",
      "$\\hat{L}$ the corresponding one linked with the CoM. The total spin $S$ is unchanged since it acts in a different space. We have thus that"
     ]
    },
    {
     "cell_type": "markdown",
     "metadata": {},
     "source": [
      "$$\n",
      "\\hat{J}=\\hat{l}+\\hat{L}+\\hat{S},\n",
      "$$"
     ]
    },
    {
     "cell_type": "markdown",
     "metadata": {},
     "source": [
      "which allows us to define the angular momentum of the relative motion"
     ]
    },
    {
     "cell_type": "markdown",
     "metadata": {},
     "source": [
      "$$\n",
      "{ \\cal J} =  \\hat{l}+\\hat{S},\n",
      "$$"
     ]
    },
    {
     "cell_type": "markdown",
     "metadata": {},
     "source": [
      "where ${ \\cal J}$ is the total angular momentum of the relative motion.\n",
      "\n",
      "\n",
      "\n",
      "The total two-nucleon state function has to be anti-symmetric. The total function contains a spatial part, a spin part and an isospin part. If isospin is conserved, this leads to in case we have an $s$-wave with spin $S=0$ to an isospin \n",
      "two-body state with $T=1$ since the spatial part is symmetric and the spin part is anti-symmetric. \n",
      "\n",
      "Since the projections for $T$ are $T_z=-1,0,1$, we can have a $pp$, an $nn$ and a $pn$ state.\n",
      "\n",
      "For $l=0$ and $S=1$, a so-called triplet state, $^3S_1$, we must have $T=0$, meaning that we have only one state, a $pn$ state. For other partial waves, the following table lists states up to $f$ waves.\n",
      "We can systemize this in a table as follows, recalling that $|\\mathbf{l}-\\mathbf{S}| \\le |\\mathbf{J}| \\le |\\mathbf{l}+\\mathbf{S}|$,  \n",
      "\n",
      "<table border=\"1\">\n",
      "<thead>\n",
      "<tr><th align=\"center\">$^{2S+1}l_J$</th> <th align=\"center\">$J$</th> <th align=\"center\">$l$</th> <th align=\"center\">$S$</th> <th align=\"center\">$T$</th> <th align=\"center\">$\\vert pp\\rangle$</th> <th align=\"center\">$\\vert pn\\rangle$</th> <th align=\"center\">$\\vert nn\\rangle$</th> </tr>\n",
      "</thead>\n",
      "<tbody>\n",
      "<tr><td align=\"center\">   $^{1}S_0$       </td> <td align=\"center\">   0      </td> <td align=\"center\">   0      </td> <td align=\"center\">   0      </td> <td align=\"center\">   1      </td> <td align=\"center\">   yes                  </td> <td align=\"center\">   yes                  </td> <td align=\"center\">   yes                  </td> </tr>\n",
      "<tr><td align=\"center\">   $^{3}S_1$       </td> <td align=\"center\">   1      </td> <td align=\"center\">   0      </td> <td align=\"center\">   1      </td> <td align=\"center\">   0      </td> <td align=\"center\">   no                   </td> <td align=\"center\">   yes                  </td> <td align=\"center\">   no                   </td> </tr>\n",
      "<tr><td align=\"center\">   $^{3}P_0$       </td> <td align=\"center\">   0      </td> <td align=\"center\">   1      </td> <td align=\"center\">   1      </td> <td align=\"center\">   1      </td> <td align=\"center\">   yes                  </td> <td align=\"center\">   yes                  </td> <td align=\"center\">   yes                  </td> </tr>\n",
      "<tr><td align=\"center\">   $^{1}P_1$       </td> <td align=\"center\">   1      </td> <td align=\"center\">   1      </td> <td align=\"center\">   0      </td> <td align=\"center\">   0      </td> <td align=\"center\">   no                   </td> <td align=\"center\">   yes                  </td> <td align=\"center\">   no                   </td> </tr>\n",
      "<tr><td align=\"center\">   $^{3}P_1$       </td> <td align=\"center\">   1      </td> <td align=\"center\">   1      </td> <td align=\"center\">   1      </td> <td align=\"center\">   1      </td> <td align=\"center\">   yes                  </td> <td align=\"center\">   yes                  </td> <td align=\"center\">   yes                  </td> </tr>\n",
      "<tr><td align=\"center\">   $^{3}P_2$       </td> <td align=\"center\">   2      </td> <td align=\"center\">   1      </td> <td align=\"center\">   1      </td> <td align=\"center\">   1      </td> <td align=\"center\">   yes                  </td> <td align=\"center\">   yes                  </td> <td align=\"center\">   yes                  </td> </tr>\n",
      "<tr><td align=\"center\">   $^{3}D_1$       </td> <td align=\"center\">   1      </td> <td align=\"center\">   2      </td> <td align=\"center\">   1      </td> <td align=\"center\">   0      </td> <td align=\"center\">   no                   </td> <td align=\"center\">   yes                  </td> <td align=\"center\">   no                   </td> </tr>\n",
      "<tr><td align=\"center\">   $^{3}F_2$       </td> <td align=\"center\">   2      </td> <td align=\"center\">   3      </td> <td align=\"center\">   1      </td> <td align=\"center\">   1      </td> <td align=\"center\">   yes                  </td> <td align=\"center\">   yes                  </td> <td align=\"center\">   yes                  </td> </tr>\n",
      "</tbody>\n",
      "</table>\n",
      "\n",
      "\n",
      "\n",
      "\n",
      "\n",
      "### Components of the force and quantum numbers\n",
      "\n",
      "The tensor force is given by"
     ]
    },
    {
     "cell_type": "markdown",
     "metadata": {},
     "source": [
      "$$\n",
      "S_{12} (\\hat r) = \\frac{3}{r^2}\\left(\\mathbf{\\sigma}_1\\cdot \\mathbf{r}\\right) \\left(\\mathbf{\\sigma}_2\\cdot \\mathbf{r}\\right) -\\mathbf{\\sigma}_1\\cdot\\mathbf{\\sigma}_2\n",
      "$$"
     ]
    },
    {
     "cell_type": "markdown",
     "metadata": {},
     "source": [
      "where the Pauli matrices are defined as"
     ]
    },
    {
     "cell_type": "markdown",
     "metadata": {},
     "source": [
      "5\n",
      "7\n",
      "8\n",
      " \n",
      "<\n",
      "<\n",
      "<\n",
      "!\n",
      "!\n",
      "M\n",
      "A\n",
      "T\n",
      "H\n",
      "_\n",
      "B\n",
      "L\n",
      "O\n",
      "C\n",
      "K"
     ]
    },
    {
     "cell_type": "markdown",
     "metadata": {},
     "source": [
      "$$\n",
      "\\sigma_y =\\begin{Bmatrix} 0 & -\\imath \\\\ \\imath & 0 \\end{Bmatrix},\n",
      "$$"
     ]
    },
    {
     "cell_type": "markdown",
     "metadata": {},
     "source": [
      "and"
     ]
    },
    {
     "cell_type": "markdown",
     "metadata": {},
     "source": [
      "$$\n",
      "\\sigma_z =\\begin{Bmatrix} 1 & 0 \\\\ 0 & -1 \\end{Bmatrix},\n",
      "$$"
     ]
    },
    {
     "cell_type": "markdown",
     "metadata": {},
     "source": [
      "with the properties $\\sigma = 2\\mathbf{S}$ (the spin of the system, being $1/2$ for nucleons), \n",
      "$\\sigma^2_x=\\sigma^2_y=\\sigma_z=\\mathbf{1}$ and\n",
      "obeying the commutation and anti-commutation relations $\\{\\sigma_x,\\sigma_y\\} =0$\n",
      "$[\\sigma_x,\\sigma_y] =\\imath\\sigma_z$ etc.\n",
      "\n",
      "\n",
      "When we look at the expectation value of \n",
      "$\\langle \\mathbf{\\sigma}_1\\cdot\\mathbf{\\sigma}_2\\rangle$, we can rewrite this expression in terms of the\n",
      "spin $\\mathbf{S}=\\mathbf{s}_1+\\mathbf{s}_2$, resulting in"
     ]
    },
    {
     "cell_type": "markdown",
     "metadata": {},
     "source": [
      "$$\n",
      "\\langle\\mathbf{\\sigma}_1\\cdot\\mathbf{\\sigma}_2\\rangle=2(S^2-s_1^2-s_2^2)=2S(S+1)-3,\n",
      "$$"
     ]
    },
    {
     "cell_type": "markdown",
     "metadata": {},
     "source": [
      "where we $s_1=s_2=1/2$ leading to"
     ]
    },
    {
     "cell_type": "markdown",
     "metadata": {},
     "source": [
      "$$\n",
      "\\left\\{ \\begin{array}{cc} \\langle\\mathbf{\\sigma}_1\\cdot\\mathbf{\\sigma}_2\\rangle=1 &  \\mathrm{if} \\hspace{0.2cm} S=1\\\\\n",
      "\\langle\\mathbf{\\sigma}_1\\cdot\\mathbf{\\sigma}_2\\rangle=-3 & \\mathrm{if} \\hspace{0.2cm} S=0\\\\\\end{array}\\right.\n",
      "$$"
     ]
    },
    {
     "cell_type": "markdown",
     "metadata": {},
     "source": [
      "Similarly, the expectation value of the spin-orbit term is"
     ]
    },
    {
     "cell_type": "markdown",
     "metadata": {},
     "source": [
      "$$\n",
      "\\langle \\mathbf{l}\\mathbf{S} \\rangle = \\frac{1}{2}\\left( J(J+1)-l(l+1)-S(S+1)\\right),\n",
      "$$"
     ]
    },
    {
     "cell_type": "markdown",
     "metadata": {},
     "source": [
      "which means that for $s$-waves with either $S=0$ and thereby $J=0$ or $S=1$ and $J=1$, \n",
      "the expectation value for the\n",
      "spin-orbit force is zero. With the above phenomenological model, the\n",
      "only contributions to the expectation value of the potential energy for $s$-waves\n",
      "stem  from the central and the spin-spin components since the\n",
      "expectation value of the tensor force is also zero.\n",
      "\n",
      "\n",
      " For $s=1/2$ spin values only for two nucleons, the expectation value of the tensor force operator is \n",
      "\n",
      "<table border=\"1\">\n",
      "<thead>\n",
      "<tr><th align=\"center\">     </th> <th align=\"center\">             $l'$            </th> <th align=\"center\">   </th> <th align=\"center\">                             </th> </tr>\n",
      "</thead>\n",
      "<tbody>\n",
      "<tr><td align=\"center\">   $l$      </td> <td align=\"center\">   $J+1$                            </td> <td align=\"center\">   $J$    </td> <td align=\"center\">   $J-1$                            </td> </tr>\n",
      "<tr><td align=\"center\">            </td> <td align=\"center\">                                    </td> <td align=\"center\">          </td> <td align=\"center\">                                    </td> </tr>\n",
      "<tr><td align=\"center\">   $J+1$    </td> <td align=\"center\">   $-\\frac{2J(J+2)}{2J+1}$          </td> <td align=\"center\">   0      </td> <td align=\"center\">   $\\frac{6\\sqrt{J(J+1)}}{2J+1}$    </td> </tr>\n",
      "<tr><td align=\"center\">            </td> <td align=\"center\">                                    </td> <td align=\"center\">          </td> <td align=\"center\">                                    </td> </tr>\n",
      "<tr><td align=\"center\">   $J$      </td> <td align=\"center\">   0                                </td> <td align=\"center\">   2      </td> <td align=\"center\">   0                                </td> </tr>\n",
      "<tr><td align=\"center\">            </td> <td align=\"center\">                                    </td> <td align=\"center\">          </td> <td align=\"center\">                                    </td> </tr>\n",
      "<tr><td align=\"center\">   $J-1$    </td> <td align=\"center\">   $\\frac{6\\sqrt{J(J+1)}}{2J+1}$    </td> <td align=\"center\">   0      </td> <td align=\"center\">   $-\\frac{2(2J+1)}{2J+1}$          </td> </tr>\n",
      "<tr><td align=\"center\">            </td> <td align=\"center\">                                    </td> <td align=\"center\">          </td> <td align=\"center\">                                    </td> </tr>\n",
      "</tbody>\n",
      "</table>\n",
      "We will derive these expressions after we have discussed the Wigner-Eckart theorem. \n",
      "\n",
      "\n",
      "\n",
      "\n",
      "If we now add isospin to our simple $V_4$ interaction model, we end up with $8$ operators, popularly dubbed $V_8$ interaction model. The explicit form reads"
     ]
    },
    {
     "cell_type": "markdown",
     "metadata": {},
     "source": [
      "5\n",
      "8\n",
      "4\n",
      " \n",
      "<\n",
      "<\n",
      "<\n",
      "!\n",
      "!\n",
      "M\n",
      "A\n",
      "T\n",
      "H\n",
      "_\n",
      "B\n",
      "L\n",
      "O\n",
      "C\n",
      "K"
     ]
    },
    {
     "cell_type": "markdown",
     "metadata": {},
     "source": [
      "5\n",
      "8\n",
      "5\n",
      " \n",
      "<\n",
      "<\n",
      "<\n",
      "!\n",
      "!\n",
      "M\n",
      "A\n",
      "T\n",
      "H\n",
      "_\n",
      "B\n",
      "L\n",
      "O\n",
      "C\n",
      "K"
     ]
    },
    {
     "cell_type": "markdown",
     "metadata": {},
     "source": [
      "5\n",
      "8\n",
      "6\n",
      " \n",
      "<\n",
      "<\n",
      "<\n",
      "!\n",
      "!\n",
      "M\n",
      "A\n",
      "T\n",
      "H\n",
      "_\n",
      "B\n",
      "L\n",
      "O\n",
      "C\n",
      "K"
     ]
    },
    {
     "cell_type": "markdown",
     "metadata": {},
     "source": [
      "$$\n",
      "\\left. + C_{SL\\tau} \\left( {1\\over m_\\alpha r} + {1\\over \\left( m_\\alpha r\\right)^2}\n",
      "\\right) \\mathbf{L}\\cdot \\mathbf{S}\n",
      "\\right\\}\\mathbf{\\tau}_1\\cdot\\mathbf{\\tau}_2 \\frac{e^{-m_\\alpha r}}{m_\\alpha r}\n",
      "$$"
     ]
    },
    {
     "cell_type": "markdown",
     "metadata": {},
     "source": [
      "From 1950 till approximately 2000: One-Boson-Exchange (OBE) models dominate. These are models which typically include several low-mass mesons, that is with masses below 1 GeV.   Potentials which are based upon the standard non-relativistic operator structure\n",
      " are called \"Phenomenological Potentials\" Some historically important examples are   \n",
      "* Gammel-Thaler potential ( Phys. Rev. **107**, 291, 1339 (1957) and the \n",
      "\n",
      "* Hamada-Johnston potential, Nucl. Phys. **34**, 382 (1962)), both with a hard core.\n",
      "\n",
      "* Reid potential (Ann. Phys. (N.Y.) **50**, 411 (1968)), soft core.\n",
      "\n",
      "* Argonne $V_{14}$ potential (Wiringa et al., Phys. Rev. C **29**, 1207 (1984)) with 14 operators and  the  Argonne $V_{18}$ potential (Wiringa et al., Phys. Rev. C **51**, 38 (1995)), uses 18 operators\n",
      "\n",
      "* A good historical reference: R. Machleidt, Adv. Nucl. Phys.  **19**, 189 (1989).\n",
      "\n",
      "Now: models based on chiral perturbation theory. These are effective models with nucleons and pions as degrees of freedom only. The other mesons which appeared in standard one-boson model appear as multi-pion resonances. \n",
      "\n",
      "\n",
      "\n",
      "\n",
      "The total two-nucleon state function has to be anti-symmetric. The total function contains a spatial part, a spin part and an isospin part. If isospin is conserved, this leads to in case we have an $s$-wave with spin $S=0$ to an isospin \n",
      "two-body state with $T=1$ since the spatial part is symmetric and the spin part is anti-symmetric. \n",
      "\n",
      "Since the projections for $T$ are $T_z=-1,0,1$, we can have a $pp$, an $nn$ and a $pn$ state.\n",
      "\n",
      "For $l=0$ and $S=1$, a so-called triplet state, $^3S_1$, we must have $T=0$, meaning that we have only one state, a $pn$ state. For other partial waves, see exercises below. \n",
      "\n",
      "\n",
      "\n",
      "### Phenomenology of one-pion exchange\n",
      "\n",
      "The one-pion exchange contribution (see derivation below), can be written as"
     ]
    },
    {
     "cell_type": "markdown",
     "metadata": {},
     "source": [
      "$$\n",
      "V_{\\pi}(\\mathbf{r})= -\\frac{f_{\\pi}^{2}}{4\\pi m_{\\pi}^{2}}\\mathbf{ \\tau}_1\\cdot\\mathbf{\\tau}_2\n",
      "\\frac{1}{3}\\left\\{\\mathbf{ \\sigma}_1\\cdot\\mathbf{ \\sigma}_2+\\left( 1 + {3\\over m_\\pi r} + {3\\over\\left(m_\\pi r\\right)^2}\\right) S_{12} (\\hat r)\\right\\} \\frac{e^{-m_\\pi r}}{m_\\pi r}.\n",
      "$$"
     ]
    },
    {
     "cell_type": "markdown",
     "metadata": {},
     "source": [
      "Here the constant $f_{\\pi}^{2}/4\\pi\\approx 0.08$ and the mass of the pion is $m_\\pi\\approx 140$ MeV/$\\mbox{c}^2$.  \n",
      "\n",
      "Let us look closer at specific partial waves for which one-pion exchange is applicable. If we have $S=0$ and $T=0$, the \n",
      "orbital momentum has to be an odd number in order for the total anti-symmetry to be obeyed. For $S=0$, the tensor force component is zero, meaning that \n",
      "the only contribution is"
     ]
    },
    {
     "cell_type": "markdown",
     "metadata": {},
     "source": [
      "$$\n",
      "V_{\\pi}(\\mathbf{r})=\\frac{3f_{\\pi}^{2}}{4\\pi m_{\\pi}^{2}}\\frac{e^{-m_\\pi r}}{m_\\pi r},\n",
      "$$"
     ]
    },
    {
     "cell_type": "markdown",
     "metadata": {},
     "source": [
      "since $\\langle\\mathbf{ \\sigma}_1\\cdot\\mathbf{ \\sigma}_2\\rangle=-3$, that is we obtain a repulsive contribution to partial waves like \n",
      "$^1P_0$.\n",
      "\n",
      "Since $S=0$ yields always a zero tensor force contribution, for the combination of $T=1$ and then even $l$ values, we get an attractive contribution"
     ]
    },
    {
     "cell_type": "markdown",
     "metadata": {},
     "source": [
      "$$\n",
      "V_{\\pi}(\\mathbf{r})=-\\frac{f_{\\pi}^{2}}{4\\pi m_{\\pi}^{2}}\\frac{e^{-m_\\pi r}}{m_\\pi r}.\n",
      "$$"
     ]
    },
    {
     "cell_type": "markdown",
     "metadata": {},
     "source": [
      "With $S=1$ and $T=0$, $l$ can only take even values in order to obey the anti-symmetry requirements and we get"
     ]
    },
    {
     "cell_type": "markdown",
     "metadata": {},
     "source": [
      "$$\n",
      "V_{\\pi}(\\mathbf{r})= -\\frac{f_{\\pi}^{2}}{4\\pi m_{\\pi}^{2}}\n",
      "\\left(1+( 1 + {3\\over m_\\pi r} + {3\\over\\left(m_\\pi r\\right))^2}) S_{12} (\\hat r)\\right) \\frac{e^{-m_\\pi r}}{m_\\pi r},\n",
      "$$"
     ]
    },
    {
     "cell_type": "markdown",
     "metadata": {},
     "source": [
      "while for $S=1$ and $T=1$, $l$ can only take odd values, resulting in a repulsive contribution"
     ]
    },
    {
     "cell_type": "markdown",
     "metadata": {},
     "source": [
      "$$\n",
      "V_{\\pi}(\\mathbf{r})= \\frac{1}{3}\\frac{f_{\\pi}^{2}}{4\\pi m_{\\pi}^{2}}\\left(1+( 1 + {3\\over m_\\pi r} + {3\\over\\left(m_\\pi r\\right)^2}) S_{12} (\\hat r)\\right) \\frac{e^{-m_\\pi r}}{m_\\pi r}.\n",
      "$$"
     ]
    },
    {
     "cell_type": "markdown",
     "metadata": {},
     "source": [
      "The central part of one-pion exchange interaction, arising from the spin-spin term,  \n",
      "is thus attractive for $s$-waves and all even $l$ values. For $p$-waves and all other odd values\n",
      "it is repulsive. However, its overall strength is weak. This is discussed further in one of exercises below.\n",
      "\n",
      "\n",
      "\n",
      "\n",
      "\n",
      "\n",
      "## Models for nuclear forces and derivation of non-relativistic expressions\n",
      "\n",
      "To describe the interaction between the various baryons and mesons of the previous\n",
      "table we choose the following phenomenological\n",
      "lagrangians\n",
      "for spin $1/2$ baryons"
     ]
    },
    {
     "cell_type": "markdown",
     "metadata": {},
     "source": [
      "5\n",
      "9\n",
      "3\n",
      " \n",
      "<\n",
      "<\n",
      "<\n",
      "!\n",
      "!\n",
      "M\n",
      "A\n",
      "T\n",
      "H\n",
      "_\n",
      "B\n",
      "L\n",
      "O\n",
      "C\n",
      "K"
     ]
    },
    {
     "cell_type": "markdown",
     "metadata": {},
     "source": [
      "$$\n",
      "{\\cal L}_{s} =g^{s}\\overline{\\Psi}\\Psi\\phi^{(s)},\n",
      "$$"
     ]
    },
    {
     "cell_type": "markdown",
     "metadata": {},
     "source": [
      "and"
     ]
    },
    {
     "cell_type": "markdown",
     "metadata": {},
     "source": [
      "$$\n",
      "{\\cal L}_{v} =g^{v}\\overline{\\Psi}\\gamma_{\\mu}\\Psi\\phi_{\\mu}^{(v)}\n",
      "   +g^{t}\\overline{\\Psi}\\sigma^{\\mu\\nu}\\Psi\\left\n",
      "   (\\partial_{\\mu}\\phi_{\\nu}^{(v)}\n",
      "   -\\partial_{\\nu}\\phi_{\\mu}^{(v)}\\right),\n",
      "$$"
     ]
    },
    {
     "cell_type": "markdown",
     "metadata": {},
     "source": [
      "for pseudoscalar (ps), scalar (s) and vector (v) coupling, respectively.\n",
      "The factors $g^{v}$ and $g^{t}$ are the vector\n",
      "and tensor coupling constants, respectively.\n",
      "\n",
      "For spin $1/2$ baryons, the fields $\\Psi$ are expanded\n",
      "in terms of the Dirac spinors (positive energy\n",
      "solution shown here with $\\overline{u}u=1$)"
     ]
    },
    {
     "cell_type": "markdown",
     "metadata": {},
     "source": [
      "$$\n",
      "u(k\\sigma)=\\sqrt{\\frac{E(k)+m}{2m}}\n",
      "\t  \\left(\\begin{array}{c} \\chi\\\\ \\\\\n",
      "\t  \\frac{\\mathbf{\\sigma}\\mathbf{k}}{E(k)+m}\\chi\n",
      "\t  \\end{array}\\right),\n",
      "$$"
     ]
    },
    {
     "cell_type": "markdown",
     "metadata": {},
     "source": [
      "with $\\chi$ the familiar Pauli spinor and $E(k) =\\sqrt{m^2 +|\\mathbf{k}|^2}$. \n",
      "The positive energy part of the field $\\Psi$ reads"
     ]
    },
    {
     "cell_type": "markdown",
     "metadata": {},
     "source": [
      "$$\n",
      "\\Psi (x)={\\displaystyle \\frac{1}{(2\\pi )^{3/2}}\n",
      "        \\sum_{\\mathbf{k}\\mathbf{\\sigma}}u(k\\mathbf{\\sigma})\\exp{-(ikx)}a_{\\mathbf{k}\\mathbf{\\sigma}}},\n",
      "$$"
     ]
    },
    {
     "cell_type": "markdown",
     "metadata": {},
     "source": [
      "with $a$ being a fermion annihilation operator.\n",
      "\n",
      "Expanding the free Dirac spinors\n",
      "in terms of $1/m$ ($m$ is here the mass of the relevant baryon) \n",
      "results, to lowest order, in the familiar non-relativistic\n",
      "expressions for baryon-baryon potentials.\n",
      "The configuration space version of the interaction can be approximated as"
     ]
    },
    {
     "cell_type": "markdown",
     "metadata": {},
     "source": [
      "5\n",
      "9\n",
      "8\n",
      " \n",
      "<\n",
      "<\n",
      "<\n",
      "!\n",
      "!\n",
      "M\n",
      "A\n",
      "T\n",
      "H\n",
      "_\n",
      "B\n",
      "L\n",
      "O\n",
      "C\n",
      "K"
     ]
    },
    {
     "cell_type": "markdown",
     "metadata": {},
     "source": [
      "$$\n",
      "+ C_{SL}\\left. \\left( {1\\over m_\\alpha r} + {1\\over \\left( m_\\alpha r\\right)^2}\n",
      "\\right) \\mathbf{L}\\cdot \\mathbf{S}\n",
      "\\right\\} \\frac{\\exp{-(m_\\alpha r)}}{m_\\alpha r},\n",
      "$$"
     ]
    },
    {
     "cell_type": "markdown",
     "metadata": {},
     "source": [
      "where $m_{\\alpha}$ is the mass of the relevant meson and\n",
      "$S_{12}$ is the familiar tensor term.\n",
      "\n",
      "\n",
      "We derive now the non-relativistic one-pion exchange interaction.\n",
      "\n",
      "Here $p_{1}$, $p_{1}'$, $p_{2}$, $p_{2}'$ and $k=p_{1}-p_{1}'$ denote \n",
      "four-momenta.  \n",
      "The vertices are \n",
      "given by the pseudovector Lagrangian"
     ]
    },
    {
     "cell_type": "markdown",
     "metadata": {},
     "source": [
      "$$\n",
      "{\\cal L}_{pv}=\\frac{f_{\\pi}}{m_{\\pi}}\\overline{\\psi}\\gamma_{5}\\gamma_{\\mu}\n",
      "\\psi\\partial^{\\mu}\\phi_{\\pi}.\n",
      "$$"
     ]
    },
    {
     "cell_type": "markdown",
     "metadata": {},
     "source": [
      "From the Feynman diagram rules we can write the two-body interaction as"
     ]
    },
    {
     "cell_type": "markdown",
     "metadata": {},
     "source": [
      "$$\n",
      "V^{pv}=\\frac{f_{\\pi}^{2}}{m_{\\pi}^{2}}\\frac{\\overline{u}(p_{1}')\\gamma_{5}\n",
      "\\gamma_{\\mu}(p_{1}-p_{1}')^{\\mu}u(p_{1})\\overline{u}(p_{2}')\\gamma_{5}\n",
      "\\gamma_{\\nu}(p_{2}'-p_{2})^{\\nu}u(p_{2})}{(p_{1}-p_{1}')^{2}-m_{\\pi}^{2}}.\n",
      "$$"
     ]
    },
    {
     "cell_type": "markdown",
     "metadata": {},
     "source": [
      "The factors $p_{1}-p_{1}'=p_{2}'-p_{2}$ are both the four-momentum of the \n",
      "exchanged meson and come from the derivative of the meson field in \n",
      "the interaction Lagrangian. \n",
      "The Dirac spinors obey"
     ]
    },
    {
     "cell_type": "markdown",
     "metadata": {},
     "source": [
      "$$\n",
      "\\begin{eqnarray*}\n",
      "\\gamma_{\\mu}p^{\\mu}u(p)&=&mu(p) \\nonumber \\\\\n",
      "\\overline{u}(p)\\gamma_{\\mu}p^{\\mu}&=&m\\overline{u}(p). \\nonumber\n",
      "\\end{eqnarray*}\n",
      "$$"
     ]
    },
    {
     "cell_type": "markdown",
     "metadata": {},
     "source": [
      "Using these relations, together with $\\{\\gamma_{5},\\gamma_{\\mu}\\}=0$, we find"
     ]
    },
    {
     "cell_type": "markdown",
     "metadata": {},
     "source": [
      "$$\n",
      "\\begin{eqnarray*}\n",
      "\\overline{u}(p_{1}')\\gamma_{5}\\gamma_{\\mu}(p_{1}-p_{1}')^{\\mu}u(p_{1})\n",
      "&=&m\\overline{u}(p_{1}')\\gamma_{5}u(p_{1})+\\overline{u}(p_{1}')\\gamma_{\\mu}\n",
      "p_{1}'^{\\mu}\\gamma_{5}u(p_{1}) \\nonumber \\\\\n",
      " &=&2m\\overline{u}(p_{1}')\\gamma_{5}u(p_{1}) \\nonumber\n",
      "\\end{eqnarray*}\n",
      "$$"
     ]
    },
    {
     "cell_type": "markdown",
     "metadata": {},
     "source": [
      "and"
     ]
    },
    {
     "cell_type": "markdown",
     "metadata": {},
     "source": [
      "$$\n",
      "\\overline{u}(p_{2}')\\gamma_{5}\\gamma_{\\mu}(p_{2}'-p_{2})^{\\mu}=\n",
      "-2m\\overline{u}(p_{2}')\\gamma_{5}u(p_{1}).\n",
      "$$"
     ]
    },
    {
     "cell_type": "markdown",
     "metadata": {},
     "source": [
      "We get"
     ]
    },
    {
     "cell_type": "markdown",
     "metadata": {},
     "source": [
      "$$\n",
      "V^{pv}=-\\frac{f_{\\pi}^{2}}{m_{\\pi}^{2}}4m^{2}\\frac{\\overline{u}(p_{1}')\n",
      "\\gamma_{5}u(p_{1})\\overline{u}(p_{2}')\\gamma_{5}u(p_{2})}{(p_{1}-p_{1}')\n",
      "^{2}-m_{\\pi}^{2}}.\n",
      "$$"
     ]
    },
    {
     "cell_type": "markdown",
     "metadata": {},
     "source": [
      "By inserting expressions for the Dirac spinors, we find"
     ]
    },
    {
     "cell_type": "markdown",
     "metadata": {},
     "source": [
      "$$\n",
      "\\begin{eqnarray*}\n",
      "\\overline{u}(p_{1}')\\gamma_{5}u(p_{1})&=&\\sqrt{\\frac{(E_{1}'+m)(E_{1}+m)}\n",
      "{4m^{2}}}\\left(\\begin{array}{cc}\\chi^{\\dagger}&-\\frac{\\sigma_{1}\\cdot{\n",
      "\\bf p_{1}}}{E_{1}'\n",
      "+m}\\chi^{\\dagger}\\end{array}\\right)\\left(\\begin{array}{cc}0&1\\\\1&0\\end{array}\n",
      "\\right)\\nonumber \\\\\n",
      " &&\\times \\left(\\begin{array}{c}\\chi\\\\ \\frac{\\sigma_{1}\\cdot\\mathbf{p_{1}}}{E_{1}+m}\\chi\n",
      "\\end{array}\\right) \n",
      "\\nonumber \\\\\n",
      " &=&\\sqrt{\\frac{(E_{1}'+m)(E_{1}+m)}{4m^{2}}}\\left(\\frac{\\sigma_{1}\\cdot\n",
      "\\mathbf{p_{1}}}{E_{1}+m}-\\frac{\\sigma_{1}\\cdot\\mathbf{p_{1}'}}{E_{1}'+m}\\right) \n",
      "\\nonumber \n",
      "\\end{eqnarray*}\n",
      "$$"
     ]
    },
    {
     "cell_type": "markdown",
     "metadata": {},
     "source": [
      "Similarly"
     ]
    },
    {
     "cell_type": "markdown",
     "metadata": {},
     "source": [
      "$$\n",
      "\\overline{u}(p_{2}')\\gamma_{5}u(p_{2})=\\sqrt{\\frac{(E_{2}'+m)(E_{2}+m)}\n",
      "{4m^{2}}}\\left(\\frac{\\sigma_{2}\\cdot \\mathbf{p}_{2}}{E_{2}+m}-\n",
      "\\frac{\\sigma_{2}\\cdot\\mathbf{p'}_{2}}{E_{2}'+m}\\right).\n",
      "$$"
     ]
    },
    {
     "cell_type": "markdown",
     "metadata": {},
     "source": [
      "In the CM system we have $\\mathbf{p}_{2}=-\\mathbf{p}_{1}$, $\\mathbf{p'}_{2}=\n",
      "-\\mathbf{p'}_{1}$ and so $E_{2}=E_{1}$, $E_{2}'=E_{1}'$.  \n",
      "We can then write down the relativistic contribution \n",
      "to the NN potential in the CM system:"
     ]
    },
    {
     "cell_type": "markdown",
     "metadata": {},
     "source": [
      "$$\n",
      "\\begin{eqnarray}\n",
      "V^{pv}&=&-\\frac{f_{\\pi}^{2}}{m_{\\pi}^{2}}4m^{2}\\frac{1}{(p_{1}-p_{1}')^{2}-\n",
      "m_{\\pi}^{2}}\\frac{(E_{1}+m)(E_{1}'+m)}{4m^{2}} \\nonumber \\\\ \n",
      " &\\times&\\left(\\frac{\\sigma_{1}\\cdot\\mathbf{p}_{1}}{E_{1}+m}-\\frac{\\sigma_{1}\n",
      "\\cdot\\mathbf{p'}_{1}}{E_{1}'+m}\\right)\\left(\\frac{\\sigma_{2}\\cdot\\mathbf{p}_{1}}\n",
      "{E_{1}+m}-\\frac{\\sigma_{2}\\cdot\\mathbf{p'}_{1}}{E_{1}'+m}\\right). \\nonumber\n",
      "\\end{eqnarray}\n",
      "$$"
     ]
    },
    {
     "cell_type": "markdown",
     "metadata": {},
     "source": [
      "In the non-relativistic limit we have to lowest order"
     ]
    },
    {
     "cell_type": "markdown",
     "metadata": {},
     "source": [
      "$$\n",
      "E_{1}=\\sqrt{\\mathbf{p}_{1}^{2}+m^{2}}\\approx m \\approx E_{1}'\n",
      "$$"
     ]
    },
    {
     "cell_type": "markdown",
     "metadata": {},
     "source": [
      "and then $(p_{1}-p_{1}')^{2}=-\\mathbf{k}^{2}$, so we get \n",
      "for the contribution to the NN potential"
     ]
    },
    {
     "cell_type": "markdown",
     "metadata": {},
     "source": [
      "$$\n",
      "\\begin{eqnarray}\n",
      "V^{pv}&=&-\\frac{f_{\\pi}^{2}}{m_{\\pi}^{2}}4m^{2}\\frac{1}{\\mathbf{k}^{2}+m^{2}}\n",
      "\\frac{2m\\cdot 2m}{4m^{2}}\\frac{\\sigma_{1}}{2m}\\cdot(\\mathbf{p}_{1}-\\mathbf{p'}_{1})\n",
      "\\frac{\\sigma_{2}}{2m}\\cdot (\\mathbf{p}_{1}-\\mathbf{p'}_{1}) \\nonumber \\\\ \n",
      " &=&-\\frac{f_{\\pi}^{2}}{m_{\\pi}^{2}}\n",
      "\\frac{(\\sigma_{1}\\cdot\\mathbf{k})(\\sigma_{2}\\cdot\\mathbf{k})}{\\mathbf{k}^{2}+m_{\\pi}^{2}}.\n",
      "\\nonumber\n",
      "\\end{eqnarray}\n",
      "$$"
     ]
    },
    {
     "cell_type": "markdown",
     "metadata": {},
     "source": [
      "We have omitted exchange terms and the isospin term $\\mathbf{\\tau}_1\\cdot\\mathbf{\\tau}_2$.\n",
      "\n",
      "\n",
      "We have"
     ]
    },
    {
     "cell_type": "markdown",
     "metadata": {},
     "source": [
      "$$\n",
      "V^{pv}(k)=-\\frac{f_{\\pi}^{2}}{m_{\\pi}^{2}}\n",
      "\\frac{(\\sigma_{1}\\cdot\\mathbf{k})(\\sigma_{2}\\cdot\\mathbf{k})}{\\mathbf{k}^{2}+m_{\\pi}^{2}}.\n",
      "$$"
     ]
    },
    {
     "cell_type": "markdown",
     "metadata": {},
     "source": [
      "In coordinate space we have"
     ]
    },
    {
     "cell_type": "markdown",
     "metadata": {},
     "source": [
      "$$\n",
      "V^{pv}(r)=\\int\\frac{d^3k}{(2\\pi)^3}e^{i\\mathbf{kr}}V^{pv}(k)\n",
      "$$"
     ]
    },
    {
     "cell_type": "markdown",
     "metadata": {},
     "source": [
      "resulting in"
     ]
    },
    {
     "cell_type": "markdown",
     "metadata": {},
     "source": [
      "$$\n",
      "V^{pv}(r)=-\\frac{f_{\\pi}^{2}}{m_{\\pi}^{2}}\n",
      "\\sigma_{1}\\cdot{\\nabla}\\sigma_{2}\\cdot{\\nabla}\n",
      "\\int\\frac{d^3k}{(2\\pi)^3}e^{i\\mathbf{kr}}\\frac{1}{\\mathbf{k}^{2}+m_{\\pi}^{2}}.\n",
      "$$"
     ]
    },
    {
     "cell_type": "markdown",
     "metadata": {},
     "source": [
      "We obtain"
     ]
    },
    {
     "cell_type": "markdown",
     "metadata": {},
     "source": [
      "$$\n",
      "V^{pv}(r)=-\\frac{f_{\\pi}^{2}}{m_{\\pi}^{2}}\\sigma_{1}\\cdot{\\nabla}\\sigma_{2}\\cdot{\\nabla}\\frac{e^{-m_{\\pi}r}}{r}.\n",
      "$$"
     ]
    },
    {
     "cell_type": "markdown",
     "metadata": {},
     "source": [
      "Carrying out the differentation of"
     ]
    },
    {
     "cell_type": "markdown",
     "metadata": {},
     "source": [
      "$$\n",
      "V^{pv}(r)=-\\frac{f_{\\pi}^{2}}{m_{\\pi}^{2}}\\sigma_{1}\\cdot{\\nabla}\\sigma_{2}\\cdot{\\nabla}\\frac{e^{-m_{\\pi}r}}{r}.\n",
      "$$"
     ]
    },
    {
     "cell_type": "markdown",
     "metadata": {},
     "source": [
      "we arrive at the famous one-pion exchange potential with central and tensor parts"
     ]
    },
    {
     "cell_type": "markdown",
     "metadata": {},
     "source": [
      "$$\n",
      "V(\\mathbf{r})= -\\frac{f_{\\pi}^{2}}{m_{\\pi}^{2}}\\left\\{C_{\\sigma}\\mathbf{\\sigma}_1\\cdot\\mathbf{\\sigma}_2+ C_T \\left( 1 + \\frac{3}{m_\\alpha r} + \\frac{3}{\\left(m_\\alpha r\\right)^2}\\right) S_{12}(\\hat r)\\right\\}\\frac{\\exp{-m_\\pi r}}{m_\\pi r}.\n",
      "$$"
     ]
    },
    {
     "cell_type": "markdown",
     "metadata": {},
     "source": [
      "For the full potential add the exchange part and the $\\mathbf{\\tau}_1\\cdot\\mathbf{\\tau}_2$ term as well. (Subtle point: there is a divergence which gets cancelled by using cutoffs) This leads to coefficients $C_{\\sigma}$ and $C_T$ which are fitted to data.\n",
      "\n",
      "\n",
      "When we perform similar non-relativistic expansions for scalar and vector mesons we obtain\n",
      "for the $\\sigma$ meson"
     ]
    },
    {
     "cell_type": "markdown",
     "metadata": {},
     "source": [
      "$$\n",
      "V^{\\sigma}= g_{\\sigma NN}^{2}\\frac{1}{\\mathbf{k}^{2}+m_{\\sigma}^{2}}\\left (-1+\\frac{\\mathbf{q}^{2}}{2M_N^2}\n",
      "-\\frac{\\mathbf{k}^{2}}{8M_N^2}-\\frac{\\mathbf{LS}}{2M_N^2}\\right).\n",
      "$$"
     ]
    },
    {
     "cell_type": "markdown",
     "metadata": {},
     "source": [
      "We note an attractive central force and spin-orbit force. This term has an intermediate range.\n",
      "We have defined $1/2(p_{1}+p_{1}')=\\mathbf{q}$.\n",
      "For the full potential add the exchange part and the isospin dependence as well.\n",
      "\n",
      "\n",
      "\n",
      "We obtain\n",
      "for the $\\omega$ meson"
     ]
    },
    {
     "cell_type": "markdown",
     "metadata": {},
     "source": [
      "$$\n",
      "V^{\\omega}= g_{\\omega NN}^{2}\\frac{1}{\\mathbf{k}^{2}+m_{\\omega}^{2}}\\left (1-3\\frac{\\mathbf{LS}}{2M_N^2}\\right).\n",
      "$$"
     ]
    },
    {
     "cell_type": "markdown",
     "metadata": {},
     "source": [
      "We note a repulsive central force and an attractive spin-orbit force. This term has  short range.\n",
      "For the full potential add the exchange part and the isospin dependence as well.\n",
      "\n",
      "\n",
      "Finally \n",
      "for the $\\rho$ meson"
     ]
    },
    {
     "cell_type": "markdown",
     "metadata": {},
     "source": [
      "$$\n",
      "V^{\\rho}= g_{\\rho NN}^{2}\\frac{\\mathbf{k}^{2}}{\\mathbf{k}^{2}+m_{\\rho}^{2}}\\left (\n",
      "-2\\sigma_{1}\\sigma_{2}+S_{12}(\\hat{k})\\right)\\tau_{1}\\tau_{2}.\n",
      "$$"
     ]
    },
    {
     "cell_type": "markdown",
     "metadata": {},
     "source": [
      "We note a tensor force with sign opposite to that of the pion. This term has  short range. For the full potential add the exchange part and the isospin dependence as well.\n",
      "\n",
      "\n",
      "\n",
      "\n",
      "\n",
      "* Can use a one-boson exchange picture to construct a nucleon-nucleon interaction a la QED\n",
      "\n",
      "* Non-relativistic approximation yields amongst other things a spin-orbit force which is much stronger than in atoms.\n",
      "\n",
      "* At large intermediate distances pion exchange dominates while  pion resonances (other mesons) dominate at intermediate and short range \n",
      "\n",
      " * Potentials are parameterized to fit selected two-nucleon data, binding energies and scattering phase shifts.\n",
      "\n",
      "\n",
      "* Nowaydays, chiral perturbation theory gives an effective theory that allows a systematic expansion in terms of contrallable parameters. Good basis for many-body physics\n",
      "\n",
      "## The Lippman-Schwinger equation for two-nucleon scattering\n",
      "\n",
      "What follows now is a more technical discussion on how we can solve the two-nucleon problem.\n",
      "This will lead us to the so-called Lippman-Schwinger equation for the scattering problem and a rewrite of Schroedinger's equation in relative and center-of-mass coordinates. \n",
      "\n",
      "\n",
      "Before we break down the Schroedinger equation into a partial wave decomposition, we derive now the so-called Lippman-Schwinger equation. We will do this in an operator form first.\n",
      "Thereafter, we rewrite it in terms of various quantum numbers such as relative momenta, orbital momenta etc. \n",
      "The Schroedinger equation in abstract vector representation is"
     ]
    },
    {
     "cell_type": "markdown",
     "metadata": {},
     "source": [
      "$$\n",
      "\\left( \\hat{H}_0 + \\hat{V} \\right) \\vert \\psi_n \\rangle = E_n \\vert\\psi_n \\rangle.\n",
      "$$"
     ]
    },
    {
     "cell_type": "markdown",
     "metadata": {},
     "source": [
      "In our case for the two-body problem $\\hat{H}_0$ is just the kinetic energy. \n",
      "We rewrite it as"
     ]
    },
    {
     "cell_type": "markdown",
     "metadata": {},
     "source": [
      "$$\n",
      "\\left( \\hat{H}_0 -E_n \\right)\\vert\\psi_n \\rangle =-\\hat{V}\\vert \\psi_n \\rangle .\n",
      "$$"
     ]
    },
    {
     "cell_type": "markdown",
     "metadata": {},
     "source": [
      "We assume that the invers of $\\left( \\hat{H}_0 -E_n\\right)$ exists and rewrite this equation as"
     ]
    },
    {
     "cell_type": "markdown",
     "metadata": {},
     "source": [
      "$$\n",
      "\\vert\\psi_n \\rangle =\\frac{1}{\\left( E_n -\\hat{H}_0\\right)}\\hat{V}\\vert \\psi_n \\rangle .\n",
      "$$"
     ]
    },
    {
     "cell_type": "markdown",
     "metadata": {},
     "source": [
      "The equation"
     ]
    },
    {
     "cell_type": "markdown",
     "metadata": {},
     "source": [
      "$$\n",
      "\\vert \\psi_n \\rangle =\\frac{1}{\\left( E_n -\\hat{H}_0\\right)}\\hat{V}\\vert \\psi_n \\rangle,\n",
      "$$"
     ]
    },
    {
     "cell_type": "markdown",
     "metadata": {},
     "source": [
      "is normally solved in an iterative fashion. \n",
      "We assume first that"
     ]
    },
    {
     "cell_type": "markdown",
     "metadata": {},
     "source": [
      "$$\n",
      "\\vert\\psi_n \\rangle = \\vert\\phi_n \\rangle,\n",
      "$$"
     ]
    },
    {
     "cell_type": "markdown",
     "metadata": {},
     "source": [
      "where $\\vert\\phi_n \\rangle$ are the eigenfunctions of"
     ]
    },
    {
     "cell_type": "markdown",
     "metadata": {},
     "source": [
      "$$\n",
      "\\hat{H}_0\\vert \\phi_n \\rangle=\\omega_n\\vert \\phi_n \\rangle\n",
      "$$"
     ]
    },
    {
     "cell_type": "markdown",
     "metadata": {},
     "source": [
      "the so-called unperturbed problem. In our case, these will simply be the kinetic energies of the relative motion. \n",
      "\n",
      "\n",
      "\n",
      "Inserting  $\\vert\\phi_n \\rangle$  on the right-hand side of"
     ]
    },
    {
     "cell_type": "markdown",
     "metadata": {},
     "source": [
      "$$\n",
      "\\vert \\psi_n \\rangle =\\frac{1}{( E_n -\\hat{H}_0)}\\hat{V}\\vert \\psi_n \\rangle,\n",
      "$$"
     ]
    },
    {
     "cell_type": "markdown",
     "metadata": {},
     "source": [
      "yields"
     ]
    },
    {
     "cell_type": "markdown",
     "metadata": {},
     "source": [
      "$$\n",
      "\\vert \\psi_n \\rangle =\\vert\\phi_n \\rangle+\\frac{1}{\\left( E_n -\\hat{H}_0\\right)}\\hat{V}\\vert \\phi_n \\rangle,\n",
      "$$"
     ]
    },
    {
     "cell_type": "markdown",
     "metadata": {},
     "source": [
      "as our first iteration. \n",
      "Reinserting again gives"
     ]
    },
    {
     "cell_type": "markdown",
     "metadata": {},
     "source": [
      "$$\n",
      "\\vert \\psi_n \\rangle =\\vert\\phi_n \\rangle+\\frac{1}{\\left( E_n -\\hat{H}_0\\right)}\\hat{V}\\vert \\phi_n \\rangle+\\frac{1}{( E_n -\\hat{H}_0)}\\hat{V}\\frac{1}{\\left( E_n -\\hat{H}_0\\right)}\\hat{V}\\vert \\phi_n \\rangle,\n",
      "$$"
     ]
    },
    {
     "cell_type": "markdown",
     "metadata": {},
     "source": [
      "and continuing we obtain"
     ]
    },
    {
     "cell_type": "markdown",
     "metadata": {},
     "source": [
      "$$\n",
      "\\vert \\psi_n \\rangle =\\sum_{i=0}^{\\infty}\\left[\\frac{1}{( E_n -\\hat{H}_0)}\\hat{V}\\right]^i\\vert \\phi_n \\rangle.\n",
      "$$"
     ]
    },
    {
     "cell_type": "markdown",
     "metadata": {},
     "source": [
      "It is easy to see that"
     ]
    },
    {
     "cell_type": "markdown",
     "metadata": {},
     "source": [
      "$$\n",
      "\\vert \\psi_n \\rangle =\\sum_{i=0}^{\\infty}\\left[\\frac{1}{(E_n -\\hat{H}_0)}\\hat{V}\\right]^i\\vert \\phi_n \\rangle,\n",
      "$$"
     ]
    },
    {
     "cell_type": "markdown",
     "metadata": {},
     "source": [
      "can be rewritten as"
     ]
    },
    {
     "cell_type": "markdown",
     "metadata": {},
     "source": [
      "$$\n",
      "\\vert \\psi_n \\rangle =\\vert\\phi_n \\rangle+\\frac{1}{( E_n -\\hat{H}_0)}\n",
      "\\hat{V}\\left(1+ \\frac{1}{(E_n -\\hat{H}_0)}\\hat{V}+\\frac{1}{(E_n -\\hat{H}_0)}\\hat{V}\\frac{1}{(E_n -\\hat{H}_0)}\\hat{V}+\\dots\\right]\\vert \\phi_n \\rangle,\n",
      "$$"
     ]
    },
    {
     "cell_type": "markdown",
     "metadata": {},
     "source": [
      "which we rewrite as"
     ]
    },
    {
     "cell_type": "markdown",
     "metadata": {},
     "source": [
      "$$\n",
      "\\vert \\psi_n \\rangle =\\vert\\phi_n \\rangle+\\frac{1}{(E_n -\\hat{H}_0)}\\hat{V}\\vert \\psi_n \\rangle.\n",
      "$$"
     ]
    },
    {
     "cell_type": "markdown",
     "metadata": {},
     "source": [
      "In operator form we have thus"
     ]
    },
    {
     "cell_type": "markdown",
     "metadata": {},
     "source": [
      "$$\n",
      "\\vert \\psi_n \\rangle =\\vert\\phi_n \\rangle+\\frac{1}{(E_n -\\hat{H}_0)}\\hat{V}\\vert \\psi_n \\rangle.\n",
      "$$"
     ]
    },
    {
     "cell_type": "markdown",
     "metadata": {},
     "source": [
      "We multiply from the left with $\\hat{V}$ and $\\langle \\phi_m \\vert$ and obtain"
     ]
    },
    {
     "cell_type": "markdown",
     "metadata": {},
     "source": [
      "$$\n",
      "\\langle \\phi_m \\vert\\hat{V}\\vert \\psi_n \\rangle =\\langle \\phi_m \\vert\\hat{V}\\vert\\phi_n \\rangle+\\langle \\phi_m \\vert\\hat{V}\\frac{1}{(E_n -\\hat{H}_0)}\\hat{V}\\vert \\psi_n \\rangle.\n",
      "$$"
     ]
    },
    {
     "cell_type": "markdown",
     "metadata": {},
     "source": [
      "We define thereafter the so-called $T$-matrix as"
     ]
    },
    {
     "cell_type": "markdown",
     "metadata": {},
     "source": [
      "$$\n",
      "\\langle \\phi_m \\vert\\hat{T}\\vert \\phi_n \\rangle=\\langle \\phi_m \\vert\\hat{V}\\vert \\psi_n \\rangle.\n",
      "$$"
     ]
    },
    {
     "cell_type": "markdown",
     "metadata": {},
     "source": [
      "We can rewrite our equation as"
     ]
    },
    {
     "cell_type": "markdown",
     "metadata": {},
     "source": [
      "$$\n",
      "\\langle \\phi_m \\vert\\hat{T}\\vert \\phi_n \\rangle =\\langle \\phi_m \\vert\\hat{V}\\vert\\phi_n \\rangle+\\langle \\phi_m \\vert\\hat{V}\\frac{1}{(E_n -\\hat{H}_0)}\\hat{T}\\vert \\phi_n \\rangle.\n",
      "$$"
     ]
    },
    {
     "cell_type": "markdown",
     "metadata": {},
     "source": [
      "The equation"
     ]
    },
    {
     "cell_type": "markdown",
     "metadata": {},
     "source": [
      "$$\n",
      "\\langle \\phi_m \\vert\\hat{T}\\vert \\phi_n \\rangle =\\langle \\phi_m \\vert\\hat{V}\\vert\\phi_n \\rangle+\\langle \\phi_m \\vert\\hat{V}\\frac{1}{(E_n -\\hat{H}_0)}\\hat{T}\\vert \\phi_n \\rangle,\n",
      "$$"
     ]
    },
    {
     "cell_type": "markdown",
     "metadata": {},
     "source": [
      "is called the Lippman-Schwinger equation. Inserting the completeness relation"
     ]
    },
    {
     "cell_type": "markdown",
     "metadata": {},
     "source": [
      "$$\n",
      "\\mathbf{1} = \\sum_n \\vert \\phi_n\\rangle\\langle \\phi_n \\vert, \\:\\: \\langle \\phi_n\\vert \\phi_{n'} \\rangle = \\delta_{n,n'}\n",
      "$$"
     ]
    },
    {
     "cell_type": "markdown",
     "metadata": {},
     "source": [
      "we have"
     ]
    },
    {
     "cell_type": "markdown",
     "metadata": {},
     "source": [
      "$$\n",
      "\\langle \\phi_m \\vert\\hat{T}\\vert \\phi_n \\rangle =\\langle \\phi_m \\vert\\hat{V}\\vert\\phi_n \\rangle+\\sum_k \\langle \\phi_m \\vert\\hat{V}\\vert \\phi_k\\rangle\\frac{1}{(E_n -\\omega_k)}\\langle \\phi_k \\vert\\hat{T}\\vert \\phi_n \\rangle,\n",
      "$$"
     ]
    },
    {
     "cell_type": "markdown",
     "metadata": {},
     "source": [
      "which is (when we specify the state $\\vert\\phi_n \\rangle$) an integral equation that can actually be solved by matrix inversion easily! The unknown quantity is the $T$-matrix.\n",
      "\n",
      "\n",
      "Now we wish to introduce a partial wave decomposition in order to solve the Lippman-Schwinger equation. With a partial wave decomposition we can reduce a three-dimensional integral equation to a one-dimensional one. \n",
      "\n",
      "Let us continue with our Schroedinger equation in the abstract vector representation"
     ]
    },
    {
     "cell_type": "markdown",
     "metadata": {},
     "source": [
      "$$\n",
      "\\left(T + V\\right)\\vert\\psi_n\\rangle = E_n\\vert\\psi_n \\rangle\n",
      "$$"
     ]
    },
    {
     "cell_type": "markdown",
     "metadata": {},
     "source": [
      "Here $T$ is the kinetic energy operator and $V$ is the potential operator. \n",
      "The eigenstates form a complete orthonormal set according to"
     ]
    },
    {
     "cell_type": "markdown",
     "metadata": {},
     "source": [
      "$$\n",
      "\\mathbf{1}=\\sum_n\\vert\\psi_n\\rangle\\langle\\psi_n\\vert, \\:\\: \\langle\\psi_n\\vert\\psi_{n'}\\rangle =\\delta_{n,n'}\n",
      "$$"
     ]
    },
    {
     "cell_type": "markdown",
     "metadata": {},
     "source": [
      "The most commonly used representations are the coordinate and\n",
      "the momentum space representations. They define the completeness relations"
     ]
    },
    {
     "cell_type": "markdown",
     "metadata": {},
     "source": [
      "$$\n",
      "\\begin{eqnarray*}\n",
      " \\mathbf{1}&=&  \\int d\\mathbf{r} \\:\\vert\\mathbf{r} \\rangle \\langle \\mathbf{r}\\vert, \\:\\: \\langle  \\mathbf{r}\\vert  \\mathbf{r'} \\rangle = \\delta ( \\mathbf{r}-\\mathbf{r'}) \\\\\n",
      "\\mathbf{1} &=& \\int d\\mathbf{k} \\:\\vert  \\mathbf{k}\\rangle \\langle \\mathbf{k}\\vert, \\:\\: \\langle\\mathbf{k}\\vert  \\mathbf{k'} \\rangle = \\delta ( \\mathbf{k}-\\mathbf{k'}) \n",
      "\\end{eqnarray*}\n",
      "$$"
     ]
    },
    {
     "cell_type": "markdown",
     "metadata": {},
     "source": [
      "Here the basis states in  both $\\mathbf{r}$- and $\\mathbf{k}$-space are dirac-delta \n",
      "function normalized. From this it follows that the plane-wave states are given by,"
     ]
    },
    {
     "cell_type": "markdown",
     "metadata": {},
     "source": [
      "$$\n",
      "\\langle\\mathbf{r}\\vert\\mathbf{k} \\rangle =\\left(\\frac{1}{2\\pi}\\right)^{3/2}\\exp\\left(i\\mathbf{k\\cdot r} \\right)\n",
      "$$"
     ]
    },
    {
     "cell_type": "markdown",
     "metadata": {},
     "source": [
      "which is a transformation function defining the mapping from the abstract \n",
      "$\\vert\\mathbf{k}\\rangle$ to the abstract $\\vert\\mathbf{r}\\rangle $ space.\n",
      "\n",
      "\n",
      "That the $\\mathbf{r}$-space basis states are \n",
      "delta-function normalized follows from"
     ]
    },
    {
     "cell_type": "markdown",
     "metadata": {},
     "source": [
      "$$\n",
      "\\delta ( \\mathbf{r}-\\mathbf{r'}) = \\langle \\mathbf{r} \\vert \\mathbf{r}'\\rangle = \\langle \\mathbf{r} \\vert \\mathbf{1} \\vert \\mathbf{r}'\\rangle = \\int d\\mathbf{k} \\langle \\mathbf{r}\\vert \\mathbf{k} \\rangle \\langle \\mathbf{k}\\vert \\mathbf{r}' \\rangle =\\left( {1\\over 2\\pi}\\right)^3 \\int d\\mathbf{k} e^{i \\mathbf{k}(\\mathbf{r} - \\mathbf{r}')}\n",
      "$$"
     ]
    },
    {
     "cell_type": "markdown",
     "metadata": {},
     "source": [
      "and the same for the momentum space basis states,"
     ]
    },
    {
     "cell_type": "markdown",
     "metadata": {},
     "source": [
      "$$\n",
      "\\delta ( \\mathbf{k}-\\mathbf{k'}) = \\langle \\mathbf{k} \\vert \\mathbf{k}'\\rangle = \\langle \\mathbf{k} \\vert \\mathbf{1} \\vert \\mathbf{k}'\\rangle =\\int d\\mathbf{r} \\langle \\mathbf{k}\\vert \\mathbf{r} \\rangle \\langle \\mathbf{r}\\vert \\mathbf{k}' \\rangle = \\left( {1\\over 2\\pi}\\right)^3 \\int d\\mathbf{r} e^{i \\mathbf{r}(\\mathbf{k} - \\mathbf{k}')}\n",
      "$$"
     ]
    },
    {
     "cell_type": "markdown",
     "metadata": {},
     "source": [
      "Projecting  on momentum states, we obtain the momentum space Schroedinger equation as"
     ]
    },
    {
     "cell_type": "markdown",
     "metadata": {},
     "source": [
      "<!-- Equation labels as ordinary links -->\n",
      "<div id=\"eq:momspace1\"></div>\n",
      "\n",
      "$$\n",
      "\\begin{equation}\n",
      "\\frac{\\hbar^2}{2\\mu}k^2\\psi_n(\\mathbf{k})+\\int d\\mathbf{k'}V(\\mathbf{k}, \\mathbf{k'}) \\psi_n(\\mathbf{k'})=E_n \\psi_n(\\mathbf{k})\n",
      "\\label{eq:momspace1} \\tag{109}\n",
      "\\end{equation}\n",
      "$$"
     ]
    },
    {
     "cell_type": "markdown",
     "metadata": {},
     "source": [
      "Here the notation $\\psi_n(\\mathbf{k}) =\\langle\\mathbf{k}\\vert\\psi_n\\rangle $ and \n",
      "$\\langle\\mathbf{k}\\vert V\\vert\\mathbf{k}' \\rangle =V(\\mathbf{k}, \\mathbf{k'})$ has been introduced.\n",
      "The potential in momentum space is given by a double Fourier-transform \n",
      "of the potential in coordinate space, i.e."
     ]
    },
    {
     "cell_type": "markdown",
     "metadata": {},
     "source": [
      "$$\n",
      "V(\\mathbf{k},\\mathbf{k'}) = \\left( \\frac{1}{2\\pi}\\right)^3\\int d\\mathbf{r}\\int d\\mathbf{r}'\\exp{-i\\mathbf{kr}}V(\\mathbf{r},\\mathbf{r}')\\exp{i\\mathbf{k}'\\mathbf{r}'}\n",
      "$$"
     ]
    },
    {
     "cell_type": "markdown",
     "metadata": {},
     "source": [
      "Here it is assumed that the potential interaction does not contain any spin dependence. \n",
      "Instead of a differential equation in coordinate space, the Schroedinger\n",
      "equation becomes an integral equation in momentum space. This has \n",
      "many tractable features. Firstly, most realistic \n",
      "nucleon-nucleon interactions derived from field-theory are given \n",
      "explicitly in momentum space. Secondly, the boundary conditions imposed\n",
      "on the differential equation in coordinate space are automatically built into the\n",
      "integral equation. And last, but not least, integral equations are easy to numerically \n",
      "implement, and convergence is obtained by just increasing the number of integration\n",
      "points.\n",
      "Instead of solving the three-dimensional integral equation, an \n",
      "infinite set of 1-dimensional equations can be obtained via a  partial wave\n",
      "expansion. \n",
      "\n",
      "\n",
      "The wave function $\\psi_n(\\mathbf{k})$ can be expanded in a complete set of spherical harmonics, that is"
     ]
    },
    {
     "cell_type": "markdown",
     "metadata": {},
     "source": [
      "<!-- Equation labels as ordinary links -->\n",
      "<div id=\"eq:part_wave1\"></div>\n",
      "\n",
      "$$\n",
      "\\begin{equation}\n",
      "  \\psi_n(\\mathbf{k}) = \\sum _{lm} \\psi_{nlm}(k)Y_{lm}(\\hat{k}) \\hspace{1cm} \\psi_{nlm}(k) = \\int d\\hat{k} Y_{lm}^*(\\hat{k})\\psi_n(\\mathbf{k}).   , \n",
      "  \\label{eq:part_wave1} \\tag{110}\n",
      "\\end{equation}\n",
      "$$"
     ]
    },
    {
     "cell_type": "markdown",
     "metadata": {},
     "source": [
      "By inserting equation [(110)](#eq:part_wave1) in equation [(109)](#eq:momspace1), and projecting from the left\n",
      "$Y_{lm}(\\hat{k})$, the three-dimensional Schroedinger equation [(109)](#eq:momspace1) is reduced\n",
      "to an infinite set of  1-dimensional angular momentum coupled integral equations,"
     ]
    },
    {
     "cell_type": "markdown",
     "metadata": {},
     "source": [
      "<!-- Equation labels as ordinary links -->\n",
      "<div id=\"eq:part_wave2\"></div>\n",
      "\n",
      "$$\n",
      "\\begin{equation}\n",
      "  \\left( \\frac{\\hbar^2}{2\\mu} k^2-E_{nlm}\\right)\\psi_{nlm}(k) = -\\sum_{l'm'}\\int_{0}^\\infty dk' {k'}^2 V_{lm, l'm'}(k,k') \\psi_{nl'm'}(k') \n",
      "  \\label{eq:part_wave2} \\tag{111}\n",
      "\\end{equation}\n",
      "$$"
     ]
    },
    {
     "cell_type": "markdown",
     "metadata": {},
     "source": [
      "where the angular momentum projected potential takes the form,"
     ]
    },
    {
     "cell_type": "markdown",
     "metadata": {},
     "source": [
      "<!-- Equation labels as ordinary links -->\n",
      "<div id=\"eq:pot1\"></div>\n",
      "\n",
      "$$\n",
      "\\begin{equation}\n",
      "  V_{lm, l'm'}(k,k') = \\int d{\\hat{k}} \\int d{\\hat{k}'}Y_{lm}^*(\\hat{k})V(\\mathbf{k}\\mathbf{k'})Y_{l'm'}(\\hat{k}')\n",
      "  \\label{eq:pot1} \\tag{112}\n",
      "\\end{equation}\n",
      "$$"
     ]
    },
    {
     "cell_type": "markdown",
     "metadata": {},
     "source": [
      "here $d\\hat{k} = d\\theta\\sin(\\theta)d\\varphi$.\n",
      "Note that we discuss only the orbital momentum, we will include angular momentum and spin later. \n",
      "\n",
      "\n",
      "\n",
      "The potential is often given in position space. It is then convenient to establish \n",
      "the connection between $V_{lm, l'm'}(k,k')$ and $V_{lm, l'm'}(r,r')$. Inserting \n",
      "the completeness relation for the position quantum numbers in equation [(112)](#eq:pot1) results in"
     ]
    },
    {
     "cell_type": "markdown",
     "metadata": {},
     "source": [
      "<!-- Equation labels as ordinary links -->\n",
      "<div id=\"eq:pot2\"></div>\n",
      "\n",
      "$$\n",
      "\\begin{equation}\n",
      "V =\\int d\\mathbf{r}\\int d\\mathbf{r}'\\left\\{\\int d{\\hat{k}}Y_{lm}^*(\\hat{k})\\langle \\mathbf{k}\\vert \\mathbf{r}\\rangle\\right\\}\\langle\\mathbf{r}\\vert V\\vert\\mathbf{r}'\\rangle\\left\\{\\int d\\hat{k}'Y_{lm}(\\hat{k}')\\langle\\mathbf{r'}\\vert\\mathbf{k}'\\rangle\\right\\}\n",
      "\\label{eq:pot2} \\tag{113}\n",
      "\\end{equation}\n",
      "$$"
     ]
    },
    {
     "cell_type": "markdown",
     "metadata": {},
     "source": [
      "Since the plane waves depend only on the absolute values of position and momentum, $\\vert\\mathbf{k}\\vert$ and \n",
      "$\\vert\\mathbf{r}\\vert$,\n",
      "and the angle between them, $\\theta_{kr}$, they may be expanded in terms of bipolar harmonics of \n",
      "zero rank, i.e."
     ]
    },
    {
     "cell_type": "markdown",
     "metadata": {},
     "source": [
      "$$\n",
      "\\exp{(i \\mathbf{k}\\cdot \\mathbf{r})} = 4\\pi\\sum_{l=0}^{\\infty} i^l j_l(kr)\\left( Y_l(\\hat{k}) \\cdot Y_l(\\hat{r}) \\right)= \\sum_{l=0}^{\\infty} (2l+1)i^l j_l(kr) P_l(\\cos \\theta_{kr})\n",
      "$$"
     ]
    },
    {
     "cell_type": "markdown",
     "metadata": {},
     "source": [
      "where the addition theorem for spherical harmonics has been used in order to write\n",
      "the expansion in terms of Legendre polynomials. The spherical Bessel functions, $j_l(z)$,  \n",
      "are given in terms of Bessel functions of the first kind with half integer orders,"
     ]
    },
    {
     "cell_type": "markdown",
     "metadata": {},
     "source": [
      "$$\n",
      "j_l(z) = \\sqrt{\\pi \\over 2 z} J_{l+1/2}(z).\n",
      "$$"
     ]
    },
    {
     "cell_type": "markdown",
     "metadata": {},
     "source": [
      "Inserting the plane-wave expansion\n",
      "into the brackets of equation [(113)](#eq:pot2) yields,"
     ]
    },
    {
     "cell_type": "markdown",
     "metadata": {},
     "source": [
      "$$\n",
      "\\begin{eqnarray*}\n",
      "  \\nonumber\n",
      "  \\int d{\\hat{k}}  Y_{lm}^*(\\hat{k})\\langle \\mathbf{k}\\vert \\mathbf{r} \\rangle & = &  \n",
      "  \\left( {1\\over 2\\pi} \\right) ^{3/2}4\\pi i^{-l} j_l(kr) Y_{lm}^*(\\hat{r}), \\\\  \n",
      "  \\nonumber\n",
      "  \\int d{\\hat{k}'}\\:   Y_{lm}(\\hat{k}') \\langle \\mathbf{r'}\\vert \\mathbf{k}' \\rangle & = &  \n",
      "  \\left( {1\\over 2\\pi} \\right) ^{3/2}4\\pi i^{l'} j_{l'}(k'r') Y_{l'm'}(\\hat{r}). \n",
      "\\end{eqnarray*}\n",
      "$$"
     ]
    },
    {
     "cell_type": "markdown",
     "metadata": {},
     "source": [
      "The connection between the momentum- and position space angular momentum \n",
      "projected potentials are then given,"
     ]
    },
    {
     "cell_type": "markdown",
     "metadata": {},
     "source": [
      "<!-- Equation labels as ordinary links -->\n",
      "<div id=\"eq:pot3\"></div>\n",
      "\n",
      "$$\n",
      "V_{lm, l'm'}(k,k')=\\frac{2}{\\pi}i^{l'-l}\\int_0^\\infty drr^2 \\int_0^\\infty dr'{r'}^2j_l(kr) V_{lm,l'm'}(r,r') j_{l'}(k'r')\n",
      "  \\label{eq:pot3} \\tag{114}\n",
      "$$"
     ]
    },
    {
     "cell_type": "markdown",
     "metadata": {},
     "source": [
      "which is known as a double Fourier-Bessel transform. The position space angular \n",
      "momentum projected potential is given by"
     ]
    },
    {
     "cell_type": "markdown",
     "metadata": {},
     "source": [
      "<!-- Equation labels as ordinary links -->\n",
      "<div id=\"eq:pot4\"></div>\n",
      "\n",
      "$$\n",
      "V_{lm, l'm'}(r,r') = \\int d{\\hat{r}} \\int d{\\hat{r}'}Y_{lm}^*(\\hat{r})V(\\mathbf{r}, \\mathbf{r'})Y_{l'm'}(\\hat{r}').\n",
      "  \\label{eq:pot4} \\tag{115}\n",
      "$$"
     ]
    },
    {
     "cell_type": "markdown",
     "metadata": {},
     "source": [
      "No assumptions of locality/non-locality and deformation of the interaction has so far been made, \n",
      "and the result in equation [(114)](#eq:pot3) is general. In position space the Schroedinger equation \n",
      "takes form of an integro-differential equation in case of a non-local interaction, \n",
      "in momentum space the Schroedinger equation is an ordinary integral equation of the Fredholm type, \n",
      "see equation [(111)](#eq:part_wave2). This is a further advantage of the momentum space approach as compared to \n",
      "the standard position space approach.  \n",
      "If we assume that the \n",
      "interaction is of local character, i.e."
     ]
    },
    {
     "cell_type": "markdown",
     "metadata": {},
     "source": [
      "$$\n",
      "\\langle \\mathbf{r}\\vert V \\vert \\mathbf{r'}\\rangle = V(\\mathbf{r}) \\delta( \\mathbf{r}-\\mathbf{r}' ) = \n",
      "  V(\\mathbf{r}) {\\delta( { r}-{r}' ) \\over r^2} \\delta ( \\cos \\theta - \\cos \\theta' ) \\delta (\\varphi-\\varphi'),\n",
      "$$"
     ]
    },
    {
     "cell_type": "markdown",
     "metadata": {},
     "source": [
      "then equation [(115)](#eq:pot4) reduces to"
     ]
    },
    {
     "cell_type": "markdown",
     "metadata": {},
     "source": [
      "<!-- Equation labels as ordinary links -->\n",
      "<div id=\"eq:pot5\"></div>\n",
      "\n",
      "$$\n",
      "\\begin{equation}\n",
      "  V_{lm, l'm'}(r,r') = \\frac{\\delta({r}-{r}')}{r^2}\\int d{\\hat{r}}\\:\n",
      "  Y_{lm}^*(\\hat{r})V(\\mathbf{r})Y_{l'm'}(\\hat{r}),\n",
      "  \\label{eq:pot5} \\tag{116}\n",
      "\\end{equation}\n",
      "$$"
     ]
    },
    {
     "cell_type": "markdown",
     "metadata": {},
     "source": [
      "and equation [(114)](#eq:pot3) reduces to"
     ]
    },
    {
     "cell_type": "markdown",
     "metadata": {},
     "source": [
      "<!-- Equation labels as ordinary links -->\n",
      "<div id=\"eq:pot6\"></div>\n",
      "\n",
      "$$\n",
      "\\begin{equation}\n",
      "  V_{lm, l'm'}(k,k') = \\frac{2}{\\pi}i^{l' -l}\\int_0^\\infty drr^2j_l(kr) V_{lm,l'm'}(r) j_{l'}(k'r)\n",
      "  \\label{eq:pot6} \\tag{117}\n",
      "\\end{equation}\n",
      "$$"
     ]
    },
    {
     "cell_type": "markdown",
     "metadata": {},
     "source": [
      "where"
     ]
    },
    {
     "cell_type": "markdown",
     "metadata": {},
     "source": [
      "<!-- Equation labels as ordinary links -->\n",
      "<div id=\"eq:pot10\"></div>\n",
      "\n",
      "$$\n",
      "\\begin{equation}\n",
      "  V_{lm, l'm'}(r) = \\int d{\\hat{r}}Y_{lm}^*(\\hat{r})V(\\mathbf{r})Y_{l'm'}(\\hat{r}),\n",
      "  \\label{eq:pot10} \\tag{118}\n",
      "\\end{equation}\n",
      "$$"
     ]
    },
    {
     "cell_type": "markdown",
     "metadata": {},
     "source": [
      "In the case that the interaction is central, $V(\\mathbf{r}) = V(r)$, then"
     ]
    },
    {
     "cell_type": "markdown",
     "metadata": {},
     "source": [
      "<!-- Equation labels as ordinary links -->\n",
      "<div id=\"eq:pot7\"></div>\n",
      "\n",
      "$$\n",
      "\\begin{equation}\n",
      "  V_{lm, l'm'}(r) = V(r) \\int d{\\hat{r}}Y_{lm}^*(\\hat{r})Y_{l'm'}(\\hat{r}) = V(r) \\delta_{l,l'}\\delta_{m,m'},\n",
      "  \\label{eq:pot7} \\tag{119}\n",
      "\\end{equation}\n",
      "$$"
     ]
    },
    {
     "cell_type": "markdown",
     "metadata": {},
     "source": [
      "and"
     ]
    },
    {
     "cell_type": "markdown",
     "metadata": {},
     "source": [
      "<!-- Equation labels as ordinary links -->\n",
      "<div id=\"eq:pot8\"></div>\n",
      "\n",
      "$$\n",
      "\\begin{equation}\n",
      "  V_{lm, l'm'}(k,k') = \\frac{2}{\\pi} \\int_0^\\infty drr^2j_l(kr) V(r) j_{l'}(k'r)\\delta_{l,l'}\\delta_{m,m'} = V_l(k,k') \\delta_{l,l'}\\delta_{m,m'}\n",
      "  \\label{eq:pot8} \\tag{120}\n",
      "\\end{equation}\n",
      "$$"
     ]
    },
    {
     "cell_type": "markdown",
     "metadata": {},
     "source": [
      "where the momentum space representation of the interaction finally reads,"
     ]
    },
    {
     "cell_type": "markdown",
     "metadata": {},
     "source": [
      "<!-- Equation labels as ordinary links -->\n",
      "<div id=\"eq:pot9\"></div>\n",
      "\n",
      "$$\n",
      "\\begin{equation}\n",
      "  V_{l}(k,k') = {2 \\over \\pi} \\int_0^\\infty dr\\: r^2 \\:\n",
      "  j_l(kr) V(r) j_{l}(k'r).\n",
      "  \\label{eq:pot9} \\tag{121}\n",
      "\\end{equation}\n",
      "$$"
     ]
    },
    {
     "cell_type": "markdown",
     "metadata": {},
     "source": [
      "For a local and spherical symmetric potential, \n",
      "the coupled momentum space Schroedinger equations given in equation [(111)](#eq:part_wave2)\n",
      "decouples in angular momentum, \n",
      "giving"
     ]
    },
    {
     "cell_type": "markdown",
     "metadata": {},
     "source": [
      "<!-- Equation labels as ordinary links -->\n",
      "<div id=\"eq:momentum_space\"></div>\n",
      "\n",
      "$$\n",
      "\\begin{equation}\n",
      "\\frac{\\hbar^2}{2\\mu} k^2 \\psi_{n l}(k) +\\int_{0}^\\infty dk' {k'}^2 V_{l}(k,k') \\psi_{n l }(k')=E_{n l} \\psi_{n l}(k) \n",
      "  \\label{eq:momentum_space} \\tag{122}\n",
      "\\end{equation}\n",
      "$$"
     ]
    },
    {
     "cell_type": "markdown",
     "metadata": {},
     "source": [
      "Where we have written $\\psi_{n l }(k)=\\psi_{nlm}(k)$, since the \n",
      "equation becomes independent of the projection $m$ for spherical symmetric interactions. \n",
      "The momentum space wave functions $\\psi_{n l}(k)$ defines a complete orthogonal set \n",
      "of functions, which spans the space of functions with a positive finite Euclidean norm \n",
      " (also called $l^2$-norm), $\\sqrt{\\langle\\psi_n\\vert\\psi_n\\rangle}$, which \n",
      "is a Hilbert space. The corresponding normalized wave function in coordinate space\n",
      "is given by the Fourier-Bessel transform"
     ]
    },
    {
     "cell_type": "markdown",
     "metadata": {},
     "source": [
      "$$\n",
      "\\phi_{n l}(r)  = \\sqrt{\\frac{2}{\\pi}}\\int dk k^2 j_l(kr) \\psi_{n l}(k)\n",
      "$$"
     ]
    },
    {
     "cell_type": "markdown",
     "metadata": {},
     "source": [
      "We will thus assume that the interaction is spherically symmetric and use\n",
      "the partial wave expansion of the plane waves in\n",
      "terms of spherical harmonics.\n",
      "This means that we can separate the radial part of the wave function from its\n",
      "angular dependence. The wave function of the relative motion is described\n",
      "in terms of plane waves as"
     ]
    },
    {
     "cell_type": "markdown",
     "metadata": {},
     "source": [
      "$$\n",
      "\\exp{(\\imath \\mathbf{kr})}=\\langle\\mathbf{r}\\vert\\mathbf{k}\\rangle=4\\pi\\sum_{lm}\\imath^{l}j_{l}(kr)Y_{lm}^{*}(\\mathbf{\\hat{k}})Y_{lm}(\\mathbf{\\hat{r}}),\n",
      "$$"
     ]
    },
    {
     "cell_type": "markdown",
     "metadata": {},
     "source": [
      "where $j_l$ is a spherical Bessel function and $Y_{lm}$ the\n",
      "spherical harmonics.\n",
      "\n",
      "\n",
      "\n",
      "In terms of the relative and center-of-mass momenta $\\mathbf{k}$ and\n",
      "$\\mathbf{K}$, the potential in momentum space is related to the nonlocal operator\n",
      "$V(\\mathbf{r},\\mathbf{r}')$ by"
     ]
    },
    {
     "cell_type": "markdown",
     "metadata": {},
     "source": [
      "$$\n",
      "\\langle\\mathbf{k'K'}\\vert V \\vert \\mathbf{kK}\\rangle =\\int d\\mathbf{r}d \\mathbf{r'}\n",
      "        \\exp{-(\\imath \\mathbf{k'r'})}V(\\mathbf{r'},\\mathbf{r})\\exp{\\imath \\mathbf{kr}}\\delta(\\mathbf{K},\\mathbf{K'}).\n",
      "$$"
     ]
    },
    {
     "cell_type": "markdown",
     "metadata": {},
     "source": [
      "We will assume that the interaction is spherically symmetric.\n",
      "Can separate the radial part of the wave function from its\n",
      "angular dependence. The wave function of the relative motion is described\n",
      "in terms of plane waves as"
     ]
    },
    {
     "cell_type": "markdown",
     "metadata": {},
     "source": [
      "$$\n",
      "\\exp{(\\imath \\mathbf{kr})} =\\langle\\mathbf{r}\\vert\\mathbf{k}\\rangle= 4\\pi\\sum_{lm}\\imath^{l}j_{l}(kr)Y_{lm}^{*}(\\mathbf{\\hat{k}})Y_{lm}(\\mathbf{\\hat{r}}),\n",
      "$$"
     ]
    },
    {
     "cell_type": "markdown",
     "metadata": {},
     "source": [
      "where $j_l$ is a spherical Bessel function and $Y_{lm}$ the\n",
      "spherical harmonic.\n",
      "\n",
      "\n",
      "\n",
      "This partial wave basis is useful for defining the operator for\n",
      "the nucleon-nucleon interaction, which\n",
      "is symmetric with respect to rotations, parity and\n",
      "isospin transformations. These symmetries imply that the interaction is\n",
      "diagonal with respect to the quantum numbers of total relative angular\n",
      "momentum ${\\cal J}$, spin $S$ and isospin $T$ (we skip isospin for the moment). Using the above plane wave expansion,\n",
      "and coupling to final ${\\cal J}$ and $S$ and $T$ we get"
     ]
    },
    {
     "cell_type": "markdown",
     "metadata": {},
     "source": [
      "6\n",
      "6\n",
      "9\n",
      " \n",
      "<\n",
      "<\n",
      "<\n",
      "!\n",
      "!\n",
      "M\n",
      "A\n",
      "T\n",
      "H\n",
      "_\n",
      "B\n",
      "L\n",
      "O\n",
      "C\n",
      "K"
     ]
    },
    {
     "cell_type": "markdown",
     "metadata": {},
     "source": [
      "$$\n",
      "\\langle lm_lSm_S|{\\cal J}M\\rangle \\langle l'm_{l'}Sm_S|{\\cal J}M\\rangle\\langle k'l'S{\\cal J}M\\vert V \\vert klS{\\cal J}M\\rangle,\n",
      "$$"
     ]
    },
    {
     "cell_type": "markdown",
     "metadata": {},
     "source": [
      "where we have defined"
     ]
    },
    {
     "cell_type": "markdown",
     "metadata": {},
     "source": [
      "$$\n",
      "\\langle k'l'S{\\cal J}M\\vert V \\vert klS{\\cal J}M\\rangle=\\int j_{l'}(k'r')\\langle l'S{\\cal J}M\\vert V(r',r)\\vert lS{\\cal J}M\\rangle j_l(kr) {r'}^2 dr' r^2 dr.\n",
      "$$"
     ]
    },
    {
     "cell_type": "markdown",
     "metadata": {},
     "source": [
      "We have omitted the momentum of the center-of-mass motion $\\mathbf{K}$ and the \n",
      "corresponding orbital momentum $L$, since the interaction is diagonal\n",
      "in these variables.\n",
      "\n",
      "\n",
      "\n",
      "We wrote the Lippman-Schwinger equation as"
     ]
    },
    {
     "cell_type": "markdown",
     "metadata": {},
     "source": [
      "$$\n",
      "\\langle \\phi_m \\vert\\hat{T}\\vert \\phi_n \\rangle =\\langle \\phi_m \\vert\\hat{V}\\vert\\phi_n \\rangle+\\sum_k \\langle \\phi_m \\vert\\hat{V}\\vert \\phi_k\\rangle\\frac{1}{(E_n -\\omega_k)}\\langle \\phi_k \\vert\\hat{T}\\vert \\phi_n \\rangle.\n",
      "$$"
     ]
    },
    {
     "cell_type": "markdown",
     "metadata": {},
     "source": [
      "How do we rewrite it in a partial wave expansion with momenta $k$?\n",
      "\n",
      "\n",
      "\n",
      "The general structure of the $T$-matrix in partial waves is"
     ]
    },
    {
     "cell_type": "markdown",
     "metadata": {},
     "source": [
      "6\n",
      "7\n",
      "3\n",
      " \n",
      "<\n",
      "<\n",
      "<\n",
      "!\n",
      "!\n",
      "M\n",
      "A\n",
      "T\n",
      "H\n",
      "_\n",
      "B\n",
      "L\n",
      "O\n",
      "C\n",
      "K"
     ]
    },
    {
     "cell_type": "markdown",
     "metadata": {},
     "source": [
      "<!-- Equation labels as ordinary links -->\n",
      "<div id=\"eq:bspartial\"></div>\n",
      "\n",
      "$$\n",
      "\\begin{equation}\n",
      "   +{\\displaystyle \\frac{2}{\\pi}\\sum_{l''m_{l''}M_S}\\int_{0}^{\\infty} d \\mathbf{q}\n",
      "   (\\langle l''m_{l''}Sm_S|{\\cal J}M\\rangle)^2\n",
      "   \\frac{Y_{l''m_{l''}}^*(\\hat{\\mathbf{q}})\n",
      "   Y_{l''m_{l''}}(\\hat{\\mathbf{q}}) V_{ll''}^{\\alpha}(kq)\n",
      "   T_{l''l'}^{\\alpha}(qk'K\\omega)}\n",
      "   {\\omega -H_0}},\n",
      "   \\label{eq:bspartial} \\tag{123}\n",
      "\\end{equation}\n",
      "$$"
     ]
    },
    {
     "cell_type": "markdown",
     "metadata": {},
     "source": [
      "The  shorthand notation"
     ]
    },
    {
     "cell_type": "markdown",
     "metadata": {},
     "source": [
      "$$\n",
      "T_{ll'}^{\\alpha}(kk'K\\omega)=\n",
      "   \\langle kKlL{\\cal J}S\\vert T(\\omega)\\vert k'Kl'L{\\cal J}S\\rangle,\n",
      "$$"
     ]
    },
    {
     "cell_type": "markdown",
     "metadata": {},
     "source": [
      "denotes the $T$-matrix\n",
      "with momenta $k$ and $k'$ and orbital momenta $l$ and $l'$\n",
      "of the relative motion, and\n",
      "$K$ is the corresponding momentum of\n",
      "the center-of-mass motion. Further, $L$, ${\\cal J}$, $S$ and $T$\n",
      "are the orbital momentum of the center-of-mass motion, the\n",
      "total angular momentum,\n",
      "spin and isospin, respectively. \n",
      "Due to the nuclear tensor force, the interaction is not diagonal in $ll'$.\n",
      "\n",
      "\n",
      "Using the orthogonality\n",
      "properties of the Clebsch-Gordan coefficients and the spherical harmonics,\n",
      "we obtain the well-known\n",
      "one-dimensional angle independent\n",
      "integral equation"
     ]
    },
    {
     "cell_type": "markdown",
     "metadata": {},
     "source": [
      "$$\n",
      "T_{ll'}^{\\alpha}(kk'K\\omega)=V_{ll'}^{\\alpha}(kk')\n",
      "   +\\frac{2}{\\pi}\\sum_{l''}\\int_{0}^{\\infty} dqq^2\n",
      "   \\frac{V_{ll''}^{\\alpha}(kq)\n",
      "   T_{l''l'}^{\\alpha}(qk'K\\omega)}\n",
      "   {\\omega -H_0}.\n",
      "$$"
     ]
    },
    {
     "cell_type": "markdown",
     "metadata": {},
     "source": [
      "Inserting the denominator we arrive at"
     ]
    },
    {
     "cell_type": "markdown",
     "metadata": {},
     "source": [
      "$$\n",
      "\\hat{T}_{ll'}^{\\alpha}(kk'K)=\\hat{V}_{ll'}^{\\alpha}(kk')\n",
      "   +\\frac{2}{\\pi}\\sum_{l''}\\int_{0}^{\\infty} dqq^2\n",
      "   \\hat{V}_{ll''}^{\\alpha}(kq)\n",
      "   \\frac{1}{k^2-q^2 +i\\epsilon}\n",
      "   \\hat{T}_{l''l'}^{\\alpha}(qk'K).\n",
      "$$"
     ]
    },
    {
     "cell_type": "markdown",
     "metadata": {},
     "source": [
      "To parameterize the nucleon-nucleon interaction we solve the Lippman-Scwhinger\n",
      "equation"
     ]
    },
    {
     "cell_type": "markdown",
     "metadata": {},
     "source": [
      "$$\n",
      "T_{ll'}^{\\alpha}(kk'K)=V_{ll'}^{\\alpha}(kk')\n",
      "   +\\frac{2}{\\pi}\\sum_{l''}\\int_{0}^{\\infty} dqq^2\n",
      "   V_{ll''}^{\\alpha}(kq)\n",
      "   \\frac{1}{k^2-q^2 +i\\epsilon}\n",
      "   T_{l''l'}^{\\alpha}(qk'K).\n",
      "$$"
     ]
    },
    {
     "cell_type": "markdown",
     "metadata": {},
     "source": [
      "The  shorthand notation"
     ]
    },
    {
     "cell_type": "markdown",
     "metadata": {},
     "source": [
      "$$\n",
      "T(\\hat{V})_{ll'}^{\\alpha}(kk'K\\omega)=\\langle kKlL{\\cal J}S\\vert T(\\omega)\\vert k'Kl'L{\\cal J}S\\rangle,\n",
      "$$"
     ]
    },
    {
     "cell_type": "markdown",
     "metadata": {},
     "source": [
      "denotes the $T(V)$-matrix\n",
      "with momenta $k$ and $k'$ and orbital momenta $l$ and $l'$\n",
      "of the relative motion, and\n",
      "$K$ is the corresponding momentum of\n",
      "the center-of-mass motion. Further, $L$, ${\\cal J}$, and $S$\n",
      "are the orbital momentum of the center-of-mass motion, the\n",
      "total angular momentum and\n",
      "spin, respectively. We skip for the moment isospin.\n",
      "\n",
      "\n",
      "For scattering states, the energy is positive, $E>0$. \n",
      "The Lippman-Schwinger equation (a rewrite of the Schroedinger equation)\n",
      "is an integral equation\n",
      "where we have to deal with the amplitude \n",
      "$R(k,k')$ (reaction matrix, which is the real part of  the full\n",
      "complex $T$-matrix)\n",
      "defined through the integral equation for one partial wave (no coupled-channels)"
     ]
    },
    {
     "cell_type": "markdown",
     "metadata": {},
     "source": [
      "<!-- Equation labels as ordinary links -->\n",
      "<div id=\"eq:ls1\"></div>\n",
      "\n",
      "$$\n",
      "\\begin{equation}\n",
      "    R_l(k,k') = V_l(k,k') +\\frac{2}{\\pi}{\\cal P}\n",
      "                \\int_0^{\\infty}dqq^2V_l(k,q)\\frac{1}{E-q^2/m}R_l(q,k').\n",
      "   \\label{eq:ls1} \\tag{124}\n",
      "\\end{equation}\n",
      "$$"
     ]
    },
    {
     "cell_type": "markdown",
     "metadata": {},
     "source": [
      "For negative energies (bound states) and intermediate states scattering states blocked\n",
      "by  occupied states below the Fermi level.\n",
      "\n",
      "\n",
      "The symbol ${\\cal P}$ in the previous slide indicates that Cauchy's principal-value prescription\n",
      "is used in order to avoid the singularity arising from the zero of the denominator.\n",
      "\n",
      "\n",
      "The total kinetic energy of the two \n",
      "incoming particles in the center-of-mass system\n",
      "is"
     ]
    },
    {
     "cell_type": "markdown",
     "metadata": {},
     "source": [
      "$$\n",
      "E=\\frac{k_0^2}{m_n}.\n",
      "$$"
     ]
    },
    {
     "cell_type": "markdown",
     "metadata": {},
     "source": [
      "The matrix $R_l(k,k')$ relates to the \n",
      "the  phase shifts through its diagonal elements as"
     ]
    },
    {
     "cell_type": "markdown",
     "metadata": {},
     "source": [
      "<!-- Equation labels as ordinary links -->\n",
      "<div id=\"eq:shifts\"></div>\n",
      "\n",
      "$$\n",
      "\\begin{equation}\n",
      "     R_l(k_0,k_0)=-\\frac{tan\\delta_l}{mk_0}.\n",
      "     \\label{eq:shifts} \\tag{125}\n",
      "\\end{equation}\n",
      "$$"
     ]
    },
    {
     "cell_type": "markdown",
     "metadata": {},
     "source": [
      "From now on we will drop the subscript $l$ in all equations.\n",
      "In order to solve the Lippman-Schwinger equation \n",
      "in momentum space, we need first to write \n",
      "a function which sets up the mesh points. \n",
      "We need to do that since we are going to approximate an integral\n",
      "through"
     ]
    },
    {
     "cell_type": "markdown",
     "metadata": {},
     "source": [
      "$$\n",
      "\\int_a^bf(x)dx\\approx\\sum_{i=1}^Nw_if(x_i),\n",
      "$$"
     ]
    },
    {
     "cell_type": "markdown",
     "metadata": {},
     "source": [
      "where we have fixed $N$ lattice points through the corresponding weights\n",
      "$w_i$ and points $x_i$. Typically obtained via methods like Gaussian quadrature.\n",
      "\n",
      "\n",
      "If you use Gauss-Legendre the points are determined for the interval $x_i\\in [-1,1]$\n",
      "You map these points over to the limits in your integral. You can then\n",
      "use the following mapping"
     ]
    },
    {
     "cell_type": "markdown",
     "metadata": {},
     "source": [
      "$$\n",
      "k_i=const\\times tan\\left\\{\\frac{\\pi}{4}(1+x_i)\\right\\},\n",
      "$$"
     ]
    },
    {
     "cell_type": "markdown",
     "metadata": {},
     "source": [
      "and"
     ]
    },
    {
     "cell_type": "markdown",
     "metadata": {},
     "source": [
      "$$\n",
      "\\omega_i= const\\frac{\\pi}{4}\\frac{w_i}{cos^2\\left(\\frac{\\pi}{4}(1+x_i)\\right)}.\n",
      "$$"
     ]
    },
    {
     "cell_type": "markdown",
     "metadata": {},
     "source": [
      "If you choose units fm$^{-1}$ for $k$, set $const=1$. If you choose to work\n",
      "with MeV, set $const\\sim 200$ ($\\hbar c=197$ MeVfm).\n",
      "\n",
      "\n",
      "\n",
      "The principal value integral is rather tricky\n",
      "to evaluate numerically, mainly since computers have limited\n",
      "precision. We will here use a subtraction trick often used\n",
      "when dealing with singular integrals in numerical calculations.\n",
      "We introduce first the calculus relation"
     ]
    },
    {
     "cell_type": "markdown",
     "metadata": {},
     "source": [
      "$$\n",
      "\\int_{-\\infty}^{\\infty} \\frac{dk}{k-k_0} =0.\n",
      "$$"
     ]
    },
    {
     "cell_type": "markdown",
     "metadata": {},
     "source": [
      "It means that the curve $1/(k-k_0)$ has equal and opposite\n",
      "areas on both sides of the singular point $k_0$. If we break\n",
      "the integral into one over positive $k$ and one over \n",
      "negative $k$, a change of variable $k\\rightarrow -k$ \n",
      "allows us to rewrite the last equation as"
     ]
    },
    {
     "cell_type": "markdown",
     "metadata": {},
     "source": [
      "$$\n",
      "\\int_{0}^{\\infty} \\frac{dk}{k^2-k_0^2} =0.\n",
      "$$"
     ]
    },
    {
     "cell_type": "markdown",
     "metadata": {},
     "source": [
      "We can then express a principal values integral\n",
      "as"
     ]
    },
    {
     "cell_type": "markdown",
     "metadata": {},
     "source": [
      "<!-- Equation labels as ordinary links -->\n",
      "<div id=\"eq:trick\"></div>\n",
      "\n",
      "$$\n",
      "\\begin{equation}\n",
      "  {\\cal P}\\int_{0}^{\\infty} \\frac{f(k)dk}{k^2-k_0^2} =\n",
      "  \\int_{0}^{\\infty} \\frac{(f(k)-f(k_0))dk}{k^2-k_0^2},\n",
      "   \\label{eq:trick} \\tag{126}\n",
      "\\end{equation}\n",
      "$$"
     ]
    },
    {
     "cell_type": "markdown",
     "metadata": {},
     "source": [
      "where the right-hand side is no longer singular at \n",
      "$k=k_0$, it is proportional to the derivative $df/dk$,\n",
      "and can be evaluated numerically as any other integral.\n",
      "\n",
      "\n",
      "\n",
      "We can then use this trick to obtain"
     ]
    },
    {
     "cell_type": "markdown",
     "metadata": {},
     "source": [
      "<!-- Equation labels as ordinary links -->\n",
      "<div id=\"eq:ls2\"></div>\n",
      "\n",
      "$$\n",
      "\\begin{equation}\n",
      "    R(k,k') = V(k,k') +\\frac{2}{\\pi}\n",
      "                \\int_0^{\\infty}dq\n",
      "                \\frac{q^2V(k,q)R(q,k')-k_0^2V(k,k_0)R(k_0,k')  }\n",
      "                     {(k_0^2-q^2)/m}.\n",
      "   \\label{eq:ls2} \\tag{127}\n",
      "\\end{equation}\n",
      "$$"
     ]
    },
    {
     "cell_type": "markdown",
     "metadata": {},
     "source": [
      "This is the equation to solve numerically in order\n",
      "to calculate the phase shifts. We are interested in obtaining\n",
      "$R(k_0,k_0)$.\n",
      "\n",
      "\n",
      "\n",
      "How do we proceed?\n",
      "\n",
      "Using the mesh points $k_j$ and the weights $\\omega_j$,\n",
      "         we reach"
     ]
    },
    {
     "cell_type": "markdown",
     "metadata": {},
     "source": [
      "$$\n",
      "R(k,k') = V(k,k') +\\frac{2}{\\pi}\n",
      "          \\sum_{j=1}^N\\frac{\\omega_jk_j^2V(k,k_j)R(k_j,k')}\n",
      "                           {(k_0^2-k_j^2)/m}\n",
      "           -\\frac{2}{\\pi}k_0^2V(k,k_0)R(k_0,k')\n",
      "          \\sum_{n=1}^N\\frac{\\omega_n}\n",
      "                           {(k_0^2-k_n^2)/m}.\n",
      "$$"
     ]
    },
    {
     "cell_type": "markdown",
     "metadata": {},
     "source": [
      "This equation contains now the unknowns $R(k_i,k_j)$\n",
      "(with dimension $N\\times N$) and $R(k_0,k_0)$.\n",
      "\n",
      "We can turn it into an equation\n",
      "with dimension $(N+1)\\times (N+1)$ with  a mesh\n",
      "which contains the original mesh points $k_j$ for $j=1,N$\n",
      "and the point which corresponds to the energy $k_0$.\n",
      "Consider the latter as the 'observable' point.\n",
      "The mesh points become then $k_j$ for $j=1,n$ and\n",
      "$k_{N+1}=k_0$. \n",
      "\n",
      "With these new mesh points we define the matrix"
     ]
    },
    {
     "cell_type": "markdown",
     "metadata": {},
     "source": [
      "<!-- Equation labels as ordinary links -->\n",
      "<div id=\"eq:aeq\"></div>\n",
      "\n",
      "$$\n",
      "\\begin{equation}\n",
      "      A_{i,j}=\\delta_{i,j}-V(k_i,k_j)u_j,\n",
      "      \\label{eq:aeq} \\tag{128}\n",
      "\\end{equation}\n",
      "$$"
     ]
    },
    {
     "cell_type": "markdown",
     "metadata": {},
     "source": [
      "where $\\delta$ is the Kronecker $\\delta$\n",
      "and"
     ]
    },
    {
     "cell_type": "markdown",
     "metadata": {},
     "source": [
      "$$\n",
      "u_j=\\frac{2}{\\pi}\\frac{\\omega_jk_j^2}{(k_0^2-k_j^2)/m}\\hspace{1cm} j=1,N\n",
      "$$"
     ]
    },
    {
     "cell_type": "markdown",
     "metadata": {},
     "source": [
      "and"
     ]
    },
    {
     "cell_type": "markdown",
     "metadata": {},
     "source": [
      "$$\n",
      "u_{N+1}=-\\frac{2}{\\pi}\\sum_{j=1}^N\\frac{k_0^2\\omega_j}{(k_0^2-k_j^2)/m}.\n",
      "$$"
     ]
    },
    {
     "cell_type": "markdown",
     "metadata": {},
     "source": [
      "The first task is then to \n",
      "set up the matrix $A$ for a given $k_0$. This is an\n",
      "$(N+1)\\times (N+1)$ matrix. It can be convenient\n",
      "to have an outer loop which runs over the chosen\n",
      "observable values for the energy $k_0^2/m$.\n",
      "{\\em Note that all mesh points $k_j$ for $j=1,N$ must be\n",
      "different from $k_0$. Note also that\n",
      "$V(k_i,k_j)$ is an\n",
      "$(N+1)\\times (N+1)$ matrix}. \n",
      "\n",
      "With the matrix $A$ we can rewrite the problem as a matrix problem of dimension $(N+1)\\times (N+1)$.\n",
      "All matrices $R$, $A$ and $V$ have this dimension and we get"
     ]
    },
    {
     "cell_type": "markdown",
     "metadata": {},
     "source": [
      "$$\n",
      "A_{i,l}R_{l,j}=V_{i,j},\n",
      "$$"
     ]
    },
    {
     "cell_type": "markdown",
     "metadata": {},
     "source": [
      "or just"
     ]
    },
    {
     "cell_type": "markdown",
     "metadata": {},
     "source": [
      "$$\n",
      "AR=V.\n",
      "$$"
     ]
    },
    {
     "cell_type": "markdown",
     "metadata": {},
     "source": [
      "Since you already have defined $A$ and $V$\n",
      "(these are stored as $(N+1)\\times (N+1)$ matrices) \n",
      "The final equation involves only the unknown\n",
      "$R$. We obtain it by matrix inversion, i.e.,"
     ]
    },
    {
     "cell_type": "markdown",
     "metadata": {},
     "source": [
      "<!-- Equation labels as ordinary links -->\n",
      "<div id=\"eq:final2\"></div>\n",
      "\n",
      "$$\n",
      "\\begin{equation}\n",
      "    R=A^{-1}V.\n",
      "    \\label{eq:final2} \\tag{129}\n",
      "\\end{equation}\n",
      "$$"
     ]
    },
    {
     "cell_type": "markdown",
     "metadata": {},
     "source": [
      "Thus, to obtain $R$, you will need to set up the matrices\n",
      "$A$ and $V$ and invert the matrix $A$. \n",
      "With the inverse $A^{-1}$, perform\n",
      "a matrix multiplication with $V$ results in $R$.\n",
      "\n",
      "\n",
      "\n",
      "With $R$ you can then evaluate the phase shifts\n",
      "by noting that"
     ]
    },
    {
     "cell_type": "markdown",
     "metadata": {},
     "source": [
      "$$\n",
      "R(k_{N+1},k_{N+1})=R(k_0,k_0)=-\\frac{tan\\delta}{mk_0},\n",
      "$$"
     ]
    },
    {
     "cell_type": "markdown",
     "metadata": {},
     "source": [
      "where $\\delta$ are the phase shifts.\n",
      "\n",
      "\n",
      "\n",
      "For elastic scattering, the scattering potential can only change the outgoing spherical wave function up to a phase. In the asymptotic limit, far away from the scattering potential, we get for the spherical bessel function"
     ]
    },
    {
     "cell_type": "markdown",
     "metadata": {},
     "source": [
      "$$\n",
      "j_l(kr) \\xrightarrow[]{ r \\gg 1} \\frac{\\sin(kr -l\\pi/2)}{kr} =  \\frac{1}{2ik}\\left( \\frac{e^{i(kr-l\\pi/2)}}{r} - \\frac{e^{-i(kr-l\\pi/2)}}{r}\\right)\n",
      "$$"
     ]
    },
    {
     "cell_type": "markdown",
     "metadata": {},
     "source": [
      "The outgoing wave will change by a phase shift $\\delta_l$, from which we can define the S-matrix $S_l(k) = e^{2i\\delta_l(k)}$. Thus, we have"
     ]
    },
    {
     "cell_type": "markdown",
     "metadata": {},
     "source": [
      "$$\n",
      "\\frac{e^{i(kr-l\\pi/2)}}{r} \\xrightarrow[]{\\mathrm{phase change}}  \\frac{S_l(k)e^{i(kr-l\\pi/2)}}{r}\n",
      "$$"
     ]
    },
    {
     "cell_type": "markdown",
     "metadata": {},
     "source": [
      "The solution to the Schrodinger equation for a spherically symmetric potential, will have the form"
     ]
    },
    {
     "cell_type": "markdown",
     "metadata": {},
     "source": [
      "$$\n",
      "\\psi_k(r) = e^{ikr} + f(\\theta)\\frac{e^{ikr}}{r}\n",
      "$$"
     ]
    },
    {
     "cell_type": "markdown",
     "metadata": {},
     "source": [
      "where $f(\\theta)$ is the scattering amplitude, and related to the differential cross section as"
     ]
    },
    {
     "cell_type": "markdown",
     "metadata": {},
     "source": [
      "$$\n",
      "\\frac{d\\sigma}{d\\Omega} = |f(\\theta)|^2\n",
      "$$"
     ]
    },
    {
     "cell_type": "markdown",
     "metadata": {},
     "source": [
      "Using the expansion of a plane wave in spherical waves, we can relate the scattering amplitude $f(\\theta)$ with the partial wave phase shifts $\\delta_l$ by identifying the outgoing wave"
     ]
    },
    {
     "cell_type": "markdown",
     "metadata": {},
     "source": [
      "$$\n",
      "\\psi_k(r) = e^{ikr} + \\left[\\frac{1}{2ik}\\sum_l i^l (2l+1) (S_l(k)-1)P_l(\\cos(\\theta))e^{-il\\pi/2}\\right] \\frac{e^{ikr}}{r}\n",
      "$$"
     ]
    },
    {
     "cell_type": "markdown",
     "metadata": {},
     "source": [
      "which can be simplified further by cancelling $i^l$ with $e^{-il\\pi/2}$ \n",
      "\n",
      "\n",
      "\n",
      "We have"
     ]
    },
    {
     "cell_type": "markdown",
     "metadata": {},
     "source": [
      "$$\n",
      "\\psi_k(r) = e^{ikr} + f(\\theta) \\frac{e^{ikr}}{r}\n",
      "$$"
     ]
    },
    {
     "cell_type": "markdown",
     "metadata": {},
     "source": [
      "with"
     ]
    },
    {
     "cell_type": "markdown",
     "metadata": {},
     "source": [
      "$$\n",
      "f(\\theta) = \\sum_l (2l+1)f_l(\\theta) P_l(\\cos(\\theta))\n",
      "$$"
     ]
    },
    {
     "cell_type": "markdown",
     "metadata": {},
     "source": [
      "where the partial wave scattering amplitude is given by"
     ]
    },
    {
     "cell_type": "markdown",
     "metadata": {},
     "source": [
      "$$\n",
      "f_l(\\theta) = \\frac{1}{k}\\frac{(S_l(k)-1)}{2i} = \\frac{1}{k}\\sin\\delta_l(k) e^{i\\delta_l(k)}\n",
      "$$"
     ]
    },
    {
     "cell_type": "markdown",
     "metadata": {},
     "source": [
      "With Eulers formula for the cotangent, this can also be written as"
     ]
    },
    {
     "cell_type": "markdown",
     "metadata": {},
     "source": [
      "$$\n",
      "f_l(\\theta) = \\frac{1}{k}\\frac{1}{\\cot \\delta_l(k) - i}.\n",
      "$$"
     ]
    },
    {
     "cell_type": "markdown",
     "metadata": {},
     "source": [
      "<p>Examples of negative and positive phase shifts for repulsive and attractive potentials, respectively.</p>\n",
      "<img src=\"fig-ch5/phase.png\" width=700>\n",
      "\n",
      "\n",
      "\n",
      "\n",
      "The integrated cross section is given by\n",
      "\\[\n",
      "\\sigma = 2\\pi \\int_0^{\\pi} |f(\\theta)|^2 \\sin \\theta d\\theta \n",
      "\\]\n",
      "\\[\n",
      "=2\\pi \\sum_l |\\frac{(2l+1)}{k} \\sin(\\delta_l)|^2 \\int_0^{\\pi} (P_l(\\cos(\\theta)))^2 \\sin(\\theta) d\\theta\\]\n",
      "\\[ \n",
      "= \\frac{4\\pi}{k^2} \\sum_l (2l+1) \\sin^2\\delta_l(k) = 4\\pi \\sum_l (2l+1)|f_l(\\theta)|^2, \n",
      "\\]\n",
      "where the orthogonality of the Legendre polynomials was used to evaluate the last integral\n",
      "\\[\n",
      "\\int_0^{\\pi} P_l(\\cos \\theta)^2 \\sin \\theta d\\theta = \\frac{2}{2l+1}.\n",
      "\\]\n",
      "Thus, the **total** cross section is the sum of the partial-wave cross sections. Note that the differential cross section contains cross-terms from different partial waves. The integral over the full sphere enables the use of the legendre orthogonality, and this kills the cross-terms.\n",
      "\n",
      "\n",
      "\n",
      "\n",
      "At low energy, $k \\rightarrow 0$, S-waves are most important. In this region we can define the scattering length $a$ and the effective range $r$. The $S-$wave scattering amplitude is given by\n",
      "\\[\n",
      "f_l(\\theta) = \\frac{1}{k}\\frac{1}{\\cot \\delta_l(k) - i}.\n",
      "\\]\n",
      "Taking the limit $k \\rightarrow 0$, gives us the expansion\n",
      "\\[\n",
      "k \\cot \\delta_0 = -\\frac{1}{a} + \\frac{1}{2}r_0 k^2 + \\ldots\n",
      "\\]\n",
      "Thus the low energy cross section is given by\n",
      "\\[\n",
      "\\sigma = 4\\pi a^2.\n",
      "\\]\n",
      "If the system contains a bound state, the scattering length will become positive (neutron-proton in $^3S_1$). For the $^1S_0$ wave, the scattering length is negative and large. This indicates that the wave function of the system is at the verge of turning over to get a node, but cannot create a bound state in this wave.\n",
      "\n",
      "\n",
      "\n",
      "\n",
      "<p>Examples of scattering lengths.</p>\n",
      "<img src=\"fig-ch5/scattering_length.png\" width=700>\n",
      "\n",
      "\n",
      "\n",
      "\n",
      "It is important to realize that the phase shifts themselves are not\n",
      "observables. The measurable scattering quantity is the cross section,\n",
      "or the differential cross section. The partial wave phase shifts can\n",
      "be thought of as a parameterization of the (experimental) cross\n",
      "sections. The phase shifts provide insights into the physics of\n",
      "partial wave projected nuclear interactions, and are thus important\n",
      "quantities to know.\n",
      "\n",
      "The nucleon-nucleon differential cross section\n",
      "have been measured at almost all energies up to the pion production\n",
      "threshold (290 MeV in the Lab frame), and this experimental data base\n",
      "is what provides us with the constraints on our nuclear interaction\n",
      "models. In order to pin down the unknown coupling constants of the\n",
      "theory, a statistical optimization with respect to cross sections need\n",
      "to be carried out. This is how we constrain the nucleon-nucleon\n",
      "interaction in practice!\n",
      "\n",
      "\n",
      "\n",
      "\n",
      "\n",
      "\n",
      "<p>Nijmegen phase shifts for selected partial waves.</p>\n",
      "<img src=\"fig-ch5/nijmegen_pp_phase_shifts.png\" width=700>\n",
      "\n",
      "\n",
      "\n",
      "The $pp$-data is more accurate than the $np$-data, and for $nn$ there is no data. The quality of a potential is gauged by the $\\chi^2$/datum with respect to the scattering data base\n",
      "\n",
      "\n",
      "\n",
      "<table border=\"1\">\n",
      "<thead>\n",
      "<tr><th align=\"center\">$T_{\\mathrm{lab}}$ bin (MeV)</th> <th align=\"center\">    N3LO$^1$   </th> <th align=\"center\">   NNLO$^2$  </th> <th align=\"center\">   NLO$^2$   </th> <th align=\"center\">    AV18$^3$   </th> </tr>\n",
      "</thead>\n",
      "<tbody>\n",
      "<tr><td align=\"center\">                                   </td> <td align=\"center\">                      </td> <td align=\"center\">                    </td> <td align=\"center\">                    </td> <td align=\"center\">                      </td> </tr>\n",
      "<tr><td align=\"center\">   0-100                           </td> <td align=\"center\">   1.05               </td> <td align=\"center\">   1.7              </td> <td align=\"center\">   4.5              </td> <td align=\"center\">   0.95               </td> </tr>\n",
      "<tr><td align=\"center\">   100-190                         </td> <td align=\"center\">   1.08               </td> <td align=\"center\">   22               </td> <td align=\"center\">   100              </td> <td align=\"center\">   1.10               </td> </tr>\n",
      "<tr><td align=\"center\">   190-290                         </td> <td align=\"center\">   1.15               </td> <td align=\"center\">   47               </td> <td align=\"center\">   180              </td> <td align=\"center\">   1.11               </td> </tr>\n",
      "<tr><td align=\"center\">   $\\mathbf{0-290}$                </td> <td align=\"center\">   $\\mathbf{1.10}$    </td> <td align=\"center\">   $\\mathbf{20}$    </td> <td align=\"center\">   $\\mathbf{86}$    </td> <td align=\"center\">   $\\mathbf{1.04}$    </td> </tr>\n",
      "</tbody>\n",
      "</table>\n",
      "* R. Machleidt et al., Phys. Rev. C68, 041001(R) (2003)\n",
      "\n",
      "* E. Epelbaum et al., Eur. Phys. J. A19, 401 (2004)\n",
      "\n",
      "* R. B. Wiringa et al., Phys. Rev. C5, 38 (1995)\n",
      "\n",
      "An example: chiral twobody interactions"
     ]
    },
    {
     "cell_type": "markdown",
     "metadata": {},
     "source": [
      "$$\n",
      "\\mathcal{L_{\\mathrm{eff}}} = \\mathcal{L}_{\\pi \\pi}(f_\\pi,m_{\\pi}) + \\mathcal{L}_{\\pi N}(f_{\\pi},M_{N},g_A,c_i,d_i,...) + \\mathcal{L}_{NN}(C_{i},\\tilde{C}_{i},D_{i},...) + \\ldots\n",
      "$$"
     ]
    },
    {
     "cell_type": "markdown",
     "metadata": {},
     "source": [
      "* R. Machleidt, D. R. Entem, Phys. Rep. 503, 1 (2011)\n",
      "\n",
      "* E. Epelbaum, H.-W. Hammer, Ulf-G. Mei\\ss{}ner, Rev. Mod. Phys. 81, 1773 (2009)\n",
      "\n",
      "Proton-neutron $^1S_0$ phase shift\n",
      "Note that the Nijm93 PWA phase shift becomes negative at T$_{\\mathrm{lab}}> 250$MeV. This indicates that the nucleon-nucleon potential is repulsive at short distances \n",
      "\n",
      "<p>Proton-neutron $^1S_0$ phase shift.</p>\n",
      "<img src=\"fig-ch5/phase-pn-1s0_IDAHO_JUELICH.pdf\" width=700>\n",
      "\n",
      "\n",
      "\n",
      " Differential cross section\n",
      "\n",
      "<p>Proton-neutron $^1S_0$ phase shift.</p>\n",
      "<img src=\"fig-ch5/pnDSG_at_199MeV.pdf\" width=800>\n",
      "\n",
      "\n",
      "\n",
      "\n",
      "\n",
      "\n",
      "\n",
      "\n",
      "\n",
      "<!-- --- begin exercise --- -->\n",
      "\n",
      "### Exercise 22: Find all possible two-body quantum numbers\n",
      "\n",
      "List all **allowed** according to the Pauli principle partial waves with isospin $T$, their \n",
      "projection $T_z$, spin $S$, orbital angular momentum $l$ and total spin $J$ for $J\\le 3$.\n",
      "Use the standard spectroscopic notation $^{2S+1}L_J$ to label different partial waves. A proton-proton state\n",
      "has $T_Z=-1$, a proton-neutron state has $T_z=0$ and a neutron-neutron state has $T_z=1$.\n",
      "\n",
      "<!-- --- end exercise --- -->\n",
      "\n",
      "\n",
      "\n",
      "\n",
      "<!-- --- begin exercise --- -->\n",
      "\n",
      "### Exercise 23: Expressions for the various operators\n",
      "\n",
      "\n",
      "**a)**\n",
      "Find the closed form expression for the spin-orbit force. Show that the spin-orbit force {\\bf LS} gives a zero\n",
      "contribution for $S$-waves (orbital angular momentum $l=0$).   What is the value of the spin-orbit force for spin-singlet states ($S=0$)?\n",
      "\n",
      "**b)**\n",
      "Find thereafter the expectation value of $\\mathbf{\\sigma}_1\\cdot\\mathbf{\\sigma}_2$, where $\\mathbf{\\sigma}_i$ are so-called Pauli matrices. \n",
      "1. Add thereafter isospin and find the expectation value of $\\mathbf{\\sigma}_1\\cdot\\mathbf{\\sigma}_2\\mathbf{\\tau}_1\\cdot\\mathbf{\\tau}_2$, where $\\mathbf{\\tau}_i$ are also so-called Pauli matrices. List all the cases with $S=0,1$ and $T=0,1$.\n",
      "\n",
      "<!-- --- end exercise --- -->\n",
      "\n",
      "\n",
      "\n",
      "\n",
      "<!-- --- begin exercise --- -->\n",
      "\n",
      "### Exercise 24: One-pion exchange\n",
      "\n",
      "A simple parametrization of the nucleon-nucleon force is given by what is called the $V_8$ potential model,\n",
      "where we have kept eight different operators. These operators contain a central force, a spin-orbit force,\n",
      "a spin-spin force and a tensor force. Several features of the nuclei can be explained in terms of these four components. Without the Pauli matrices for isospin the final form of such an interaction model results in the following form:"
     ]
    },
    {
     "cell_type": "markdown",
     "metadata": {},
     "source": [
      "7\n",
      "0\n",
      "8\n",
      " \n",
      "<\n",
      "<\n",
      "<\n",
      "!\n",
      "!\n",
      "M\n",
      "A\n",
      "T\n",
      "H\n",
      "_\n",
      "B\n",
      "L\n",
      "O\n",
      "C\n",
      "K"
     ]
    },
    {
     "cell_type": "markdown",
     "metadata": {},
     "source": [
      "$$\n",
      "\\left. + C_{SL} \\left( {1\\over m_\\alpha r} + {1\\over \\left( m_\\alpha r\\right)^2}\n",
      "\\right) \\mathbf{L}\\cdot \\mathbf{S}\n",
      "\\right\\} \\frac{e^{-m_\\alpha r}}{m_\\alpha r}\n",
      "$$"
     ]
    },
    {
     "cell_type": "markdown",
     "metadata": {},
     "source": [
      "where $m_{\\alpha}$ is the mass of the relevant meson and\n",
      "$S_{12}$ is the familiar tensor term. The various coefficients $C_i$ are normally fitted so that the potential reproduces experimental scattering cross sections. By adding terms which include the isospin Pauli matrices \n",
      "results in an interaction model with eight operators.\n",
      "\n",
      "The expectaction value of the tensor operator is non-zero only for $S=1$. We will show this in a forthcoming lecture, after that we have derived the Wigner-Eckart theorem. \n",
      "Here it suffices to know that the expectaction value of the tensor force for different partial values is  (with $l$ the orbital angular momentum and ${\\cal J}$ the total angular momentum in the relative and center-of-mass frame of motion)"
     ]
    },
    {
     "cell_type": "markdown",
     "metadata": {},
     "source": [
      "7\n",
      "1\n",
      "0\n",
      " \n",
      "<\n",
      "<\n",
      "<\n",
      "!\n",
      "!\n",
      "M\n",
      "A\n",
      "T\n",
      "H\n",
      "_\n",
      "B\n",
      "L\n",
      "O\n",
      "C\n",
      "K"
     ]
    },
    {
     "cell_type": "markdown",
     "metadata": {},
     "source": [
      "7\n",
      "1\n",
      "1\n",
      " \n",
      "<\n",
      "<\n",
      "<\n",
      "!\n",
      "!\n",
      "M\n",
      "A\n",
      "T\n",
      "H\n",
      "_\n",
      "B\n",
      "L\n",
      "O\n",
      "C\n",
      "K"
     ]
    },
    {
     "cell_type": "markdown",
     "metadata": {},
     "source": [
      "7\n",
      "1\n",
      "2\n",
      " \n",
      "<\n",
      "<\n",
      "<\n",
      "!\n",
      "!\n",
      "M\n",
      "A\n",
      "T\n",
      "H\n",
      "_\n",
      "B\n",
      "L\n",
      "O\n",
      "C\n",
      "K"
     ]
    },
    {
     "cell_type": "markdown",
     "metadata": {},
     "source": [
      "7\n",
      "1\n",
      "3\n",
      " \n",
      "<\n",
      "<\n",
      "<\n",
      "!\n",
      "!\n",
      "M\n",
      "A\n",
      "T\n",
      "H\n",
      "_\n",
      "B\n",
      "L\n",
      "O\n",
      "C\n",
      "K"
     ]
    },
    {
     "cell_type": "markdown",
     "metadata": {},
     "source": [
      "$$\n",
      "\\langle l {\\cal J}S=1| S_{12} | l' {\\cal J}S=1\\rangle = 2 \\hspace{0.5cm} l= {\\cal J} \\hspace{0.1cm}\\mathrm{and} \\hspace{0.1cm} l'={\\cal J},\n",
      "$$"
     ]
    },
    {
     "cell_type": "markdown",
     "metadata": {},
     "source": [
      "and zero else.   \n",
      "\n",
      "In this exercise we will focus only on the one-pion exchange term of the nuclear force, namely"
     ]
    },
    {
     "cell_type": "markdown",
     "metadata": {},
     "source": [
      "$$\n",
      "V_{\\pi}(\\mathbf{r})= -\\frac{f_{\\pi}^{2}}{4\\pi m_{\\pi}^{2}}\\mathbf{ \\tau}_1\\cdot\\mathbf{\\tau}_2\n",
      "\\frac{1}{3}\\left\\{\\mathbf{ \\sigma}_1\\cdot\\mathbf{ \\sigma}_2+\\left( 1 + {3\\over m_\\pi r} + {3\\over\\left(m_\\pi r\\right)^2}\\right) S_{12} (\\hat r)\\right\\} \\frac{e^{-m_\\pi r}}{m_\\pi r}.\n",
      "$$"
     ]
    },
    {
     "cell_type": "markdown",
     "metadata": {},
     "source": [
      "Here the constant $f_{\\pi}^{2}/4\\pi\\approx 0.08$ and the mass of the pion is $m_\\pi\\approx 140$ MeV/c${}^{2}$.\n",
      "\n",
      "\n",
      "**a)**\n",
      "Compute the expectation value of the tensor force and the spin-spin  and isospin operators for the one-pion exchange potential for all partial waves you found in exercise 9. Comment your results. How does the one-pion exchange part behave as function of different $l$, ${\\cal J}$ and $S$ values? Do you see some patterns?\n",
      "\n",
      "**b)**\n",
      "For the binding energy of the deuteron, with the ground state defined by the quantum numbers $l=0$, $S=1$ and ${\\cal J}=1$, the tensor force plays an important role due to the admixture from the $l=2$ state. Use the expectation values of the different operators of the one-pion exchange potential and plot the ratio of the tensor force component over the spin-spin component of the one-pion exchange part as function of $x=m_\\pi r$ for the $l=2$ state (that is the case $l,l'={\\cal J}+1$). Comment your results.\n",
      "\n",
      "\n",
      "\n",
      "\n",
      "\n",
      "<!-- --- end exercise --- -->\n",
      "\n",
      "\n",
      "# Configuration interaction theory\n",
      "<div id=\"ch:fci\"></div>\n",
      "\n",
      "## Introduction\n",
      "\n",
      "The simplest possible choice for many-body wavefunctions are **product** wavefunctions.\n",
      "That is"
     ]
    },
    {
     "cell_type": "markdown",
     "metadata": {},
     "source": [
      "$$\n",
      "\\Psi(x_1, x_2, x_3, \\ldots, x_A) \\approx \\phi_1(x_1) \\phi_2(x_2) \\phi_3(x_3) \\ldots\n",
      "$$"
     ]
    },
    {
     "cell_type": "markdown",
     "metadata": {},
     "source": [
      "because we are really only good  at thinking about one particle at a time. Such \n",
      "product wavefunctions, without correlations, are easy to \n",
      "work with; for example, if the single-particle states $\\phi_i(x)$ are orthonormal, then \n",
      "the product wavefunctions are easy to orthonormalize.   \n",
      "\n",
      "Similarly, computing matrix elements of operators are relatively easy, because the \n",
      "integrals factorize.\n",
      "\n",
      "\n",
      "The price we pay is the lack of correlations, which we must build up by using many, many product \n",
      "wavefunctions. (Thus we have a trade-off: compact representation of correlations but \n",
      "difficult integrals versus easy integrals but many states required.) \n",
      "\n",
      "\n",
      "Because we have fermions, we are required to have antisymmetric wavefunctions, e.g."
     ]
    },
    {
     "cell_type": "markdown",
     "metadata": {},
     "source": [
      "$$\n",
      "\\Psi(x_1, x_2, x_3, \\ldots, x_A) = - \\Psi(x_2, x_1, x_3, \\ldots, x_A)\n",
      "$$"
     ]
    },
    {
     "cell_type": "markdown",
     "metadata": {},
     "source": [
      "etc. This is accomplished formally by using the determinantal formalism"
     ]
    },
    {
     "cell_type": "markdown",
     "metadata": {},
     "source": [
      "$$\n",
      "\\Psi(x_1, x_2, \\ldots, x_A) \n",
      "= \\frac{1}{\\sqrt{A!}} \n",
      "\\det \\left | \n",
      "\\begin{array}{cccc}\n",
      "\\phi_1(x_1) & \\phi_1(x_2) & \\ldots & \\phi_1(x_A) \\\\\n",
      "\\phi_2(x_1) & \\phi_2(x_2) & \\ldots & \\phi_2(x_A) \\\\\n",
      " \\vdots & & &  \\\\\n",
      "\\phi_A(x_1) & \\phi_A(x_2) & \\ldots & \\phi_A(x_A) \n",
      "\\end{array}\n",
      "\\right |\n",
      "$$"
     ]
    },
    {
     "cell_type": "markdown",
     "metadata": {},
     "source": [
      "Product wavefunction + antisymmetry = Slater determinant."
     ]
    },
    {
     "cell_type": "markdown",
     "metadata": {},
     "source": [
      "$$\n",
      "\\Psi(x_1, x_2, \\ldots, x_A) \n",
      "= \\frac{1}{\\sqrt{N!}} \n",
      "\\det \\left | \n",
      "\\begin{array}{cccc}\n",
      "\\phi_1(x_1) & \\phi_1(x_2) & \\ldots & \\phi_1(x_A) \\\\\n",
      "\\phi_2(x_1) & \\phi_2(x_2) & \\ldots & \\phi_2(x_A) \\\\\n",
      " \\vdots & & &  \\\\\n",
      "\\phi_A(x_1) & \\phi_A(x_2) & \\ldots & \\phi_A(x_A) \n",
      "\\end{array}\n",
      "\\right |\n",
      "$$"
     ]
    },
    {
     "cell_type": "markdown",
     "metadata": {},
     "source": [
      "Properties of the determinant (interchange of any two rows or \n",
      "any two columns yields a change in sign; thus no two rows and no \n",
      "two columns can be the same) lead to the Pauli principle:\n",
      "\n",
      "* No two particles can be at the same place (two columns the same); and\n",
      "\n",
      "* No two particles can be in the same state (two rows the same).\n",
      "\n",
      "As a practical matter, however, Slater determinants beyond $N=4$ quickly become \n",
      "unwieldy. Thus we turn to the **occupation representation** or **second quantization** to simplify calculations. \n",
      "\n",
      "The occupation representation, using fermion **creation** and **annihilation** \n",
      "operators, is compact and efficient. It is also abstract and, at first encounter, not easy to \n",
      "internalize. It is inspired by other operator formalism, such as the ladder operators for \n",
      "the harmonic oscillator or for angular momentum, but unlike those cases, the operators **do not have coordinate space representations**.\n",
      "\n",
      "Instead, one can think of fermion creation/annihilation operators as a game of symbols that \n",
      "compactly reproduces what one would do, albeit clumsily, with full coordinate-space Slater \n",
      "determinants. \n",
      "\n",
      "\n",
      "We start with a set of orthonormal single-particle states $\\{ \\phi_i(x) \\}$. \n",
      "(Note: this requirement, and others, can be relaxed, but leads to a \n",
      "more involved formalism.) **Any** orthonormal set will do. \n",
      "\n",
      "To each single-particle state $\\phi_i(x)$ we associate a creation operator \n",
      "$\\hat{a}^\\dagger_i$ and an annihilation operator $\\hat{a}_i$. \n",
      "\n",
      "When acting on the vacuum state $| 0 \\rangle$, the creation operator $\\hat{a}^\\dagger_i$ causes \n",
      "a particle to occupy the single-particle state $\\phi_i(x)$:"
     ]
    },
    {
     "cell_type": "markdown",
     "metadata": {},
     "source": [
      "$$\n",
      "\\phi_i(x) \\rightarrow \\hat{a}^\\dagger_i |0 \\rangle\n",
      "$$"
     ]
    },
    {
     "cell_type": "markdown",
     "metadata": {},
     "source": [
      "But with multiple creation operators we can occupy multiple states:"
     ]
    },
    {
     "cell_type": "markdown",
     "metadata": {},
     "source": [
      "$$\n",
      "\\phi_i(x) \\phi_j(x^\\prime) \\phi_k(x^{\\prime \\prime}) \n",
      "\\rightarrow \\hat{a}^\\dagger_i \\hat{a}^\\dagger_j \\hat{a}^\\dagger_k |0 \\rangle.\n",
      "$$"
     ]
    },
    {
     "cell_type": "markdown",
     "metadata": {},
     "source": [
      "Now we impose antisymmetry, by having the fermion operators satisfy  **anticommutation relations**:"
     ]
    },
    {
     "cell_type": "markdown",
     "metadata": {},
     "source": [
      "$$\n",
      "\\hat{a}^\\dagger_i \\hat{a}^\\dagger_j + \\hat{a}^\\dagger_j \\hat{a}^\\dagger_i\n",
      "= [ \\hat{a}^\\dagger_i ,\\hat{a}^\\dagger_j ]_+ \n",
      "= \\{ \\hat{a}^\\dagger_i ,\\hat{a}^\\dagger_j \\} = 0\n",
      "$$"
     ]
    },
    {
     "cell_type": "markdown",
     "metadata": {},
     "source": [
      "so that"
     ]
    },
    {
     "cell_type": "markdown",
     "metadata": {},
     "source": [
      "$$\n",
      "\\hat{a}^\\dagger_i \\hat{a}^\\dagger_j = - \\hat{a}^\\dagger_j \\hat{a}^\\dagger_i\n",
      "$$"
     ]
    },
    {
     "cell_type": "markdown",
     "metadata": {},
     "source": [
      "Because of this property, automatically $\\hat{a}^\\dagger_i \\hat{a}^\\dagger_i = 0$, \n",
      "enforcing the Pauli exclusion principle.  Thus when writing a Slater determinant \n",
      "using creation operators,"
     ]
    },
    {
     "cell_type": "markdown",
     "metadata": {},
     "source": [
      "$$\n",
      "\\hat{a}^\\dagger_i \\hat{a}^\\dagger_j \\hat{a}^\\dagger_k \\ldots |0 \\rangle\n",
      "$$"
     ]
    },
    {
     "cell_type": "markdown",
     "metadata": {},
     "source": [
      "each index $i,j,k, \\ldots$ must be unique.\n",
      "\n",
      "\n",
      "\n",
      "\n",
      "## Full Configuration Interaction Theory\n",
      "\n",
      "We have defined the ansatz for the ground state as"
     ]
    },
    {
     "cell_type": "markdown",
     "metadata": {},
     "source": [
      "$$\n",
      "|\\Phi_0\\rangle = \\left(\\prod_{i\\le F}\\hat{a}_{i}^{\\dagger}\\right)|0\\rangle,\n",
      "$$"
     ]
    },
    {
     "cell_type": "markdown",
     "metadata": {},
     "source": [
      "where the index $i$ defines different single-particle states up to the Fermi level. We have assumed that we have $N$ fermions. \n",
      "A given one-particle-one-hole ($1p1h$) state can be written as"
     ]
    },
    {
     "cell_type": "markdown",
     "metadata": {},
     "source": [
      "$$\n",
      "|\\Phi_i^a\\rangle = \\hat{a}_{a}^{\\dagger}\\hat{a}_i|\\Phi_0\\rangle,\n",
      "$$"
     ]
    },
    {
     "cell_type": "markdown",
     "metadata": {},
     "source": [
      "while a $2p2h$ state can be written as"
     ]
    },
    {
     "cell_type": "markdown",
     "metadata": {},
     "source": [
      "$$\n",
      "|\\Phi_{ij}^{ab}\\rangle = \\hat{a}_{a}^{\\dagger}\\hat{a}_{b}^{\\dagger}\\hat{a}_j\\hat{a}_i|\\Phi_0\\rangle,\n",
      "$$"
     ]
    },
    {
     "cell_type": "markdown",
     "metadata": {},
     "source": [
      "and a general $NpNh$ state as"
     ]
    },
    {
     "cell_type": "markdown",
     "metadata": {},
     "source": [
      "$$\n",
      "|\\Phi_{ijk\\dots}^{abc\\dots}\\rangle = \\hat{a}_{a}^{\\dagger}\\hat{a}_{b}^{\\dagger}\\hat{a}_{c}^{\\dagger}\\dots\\hat{a}_k\\hat{a}_j\\hat{a}_i|\\Phi_0\\rangle.\n",
      "$$"
     ]
    },
    {
     "cell_type": "markdown",
     "metadata": {},
     "source": [
      "We can then expand our exact state function for the ground state \n",
      "as"
     ]
    },
    {
     "cell_type": "markdown",
     "metadata": {},
     "source": [
      "$$\n",
      "|\\Psi_0\\rangle=C_0|\\Phi_0\\rangle+\\sum_{ai}C_i^a|\\Phi_i^a\\rangle+\\sum_{abij}C_{ij}^{ab}|\\Phi_{ij}^{ab}\\rangle+\\dots\n",
      "=(C_0+\\hat{C})|\\Phi_0\\rangle,\n",
      "$$"
     ]
    },
    {
     "cell_type": "markdown",
     "metadata": {},
     "source": [
      "where we have introduced the so-called correlation operator"
     ]
    },
    {
     "cell_type": "markdown",
     "metadata": {},
     "source": [
      "$$\n",
      "\\hat{C}=\\sum_{ai}C_i^a\\hat{a}_{a}^{\\dagger}\\hat{a}_i  +\\sum_{abij}C_{ij}^{ab}\\hat{a}_{a}^{\\dagger}\\hat{a}_{b}^{\\dagger}\\hat{a}_j\\hat{a}_i+\\dots\n",
      "$$"
     ]
    },
    {
     "cell_type": "markdown",
     "metadata": {},
     "source": [
      "Since the normalization of $\\Psi_0$ is at our disposal and since $C_0$ is by hypothesis non-zero, we may arbitrarily set $C_0=1$ with \n",
      "corresponding proportional changes in all other coefficients. Using this so-called intermediate normalization we have"
     ]
    },
    {
     "cell_type": "markdown",
     "metadata": {},
     "source": [
      "$$\n",
      "\\langle \\Psi_0 | \\Phi_0 \\rangle = \\langle \\Phi_0 | \\Phi_0 \\rangle = 1,\n",
      "$$"
     ]
    },
    {
     "cell_type": "markdown",
     "metadata": {},
     "source": [
      "resulting in"
     ]
    },
    {
     "cell_type": "markdown",
     "metadata": {},
     "source": [
      "$$\n",
      "|\\Psi_0\\rangle=(1+\\hat{C})|\\Phi_0\\rangle.\n",
      "$$"
     ]
    },
    {
     "cell_type": "markdown",
     "metadata": {},
     "source": [
      "We rewrite"
     ]
    },
    {
     "cell_type": "markdown",
     "metadata": {},
     "source": [
      "$$\n",
      "|\\Psi_0\\rangle=C_0|\\Phi_0\\rangle+\\sum_{ai}C_i^a|\\Phi_i^a\\rangle+\\sum_{abij}C_{ij}^{ab}|\\Phi_{ij}^{ab}\\rangle+\\dots,\n",
      "$$"
     ]
    },
    {
     "cell_type": "markdown",
     "metadata": {},
     "source": [
      "in a more compact form as"
     ]
    },
    {
     "cell_type": "markdown",
     "metadata": {},
     "source": [
      "$$\n",
      "|\\Psi_0\\rangle=\\sum_{PH}C_H^P\\Phi_H^P=\\left(\\sum_{PH}C_H^P\\hat{A}_H^P\\right)|\\Phi_0\\rangle,\n",
      "$$"
     ]
    },
    {
     "cell_type": "markdown",
     "metadata": {},
     "source": [
      "where $H$ stands for $0,1,\\dots,n$ hole states and $P$ for $0,1,\\dots,n$ particle states. \n",
      "Our requirement of unit normalization gives"
     ]
    },
    {
     "cell_type": "markdown",
     "metadata": {},
     "source": [
      "$$\n",
      "\\langle \\Psi_0 | \\Phi_0 \\rangle = \\sum_{PH}|C_H^P|^2= 1,\n",
      "$$"
     ]
    },
    {
     "cell_type": "markdown",
     "metadata": {},
     "source": [
      "and the energy can be written as"
     ]
    },
    {
     "cell_type": "markdown",
     "metadata": {},
     "source": [
      "$$\n",
      "E= \\langle \\Psi_0 | \\hat{H} |\\Phi_0 \\rangle= \\sum_{PP'HH'}C_H^{*P}\\langle \\Phi_H^P | \\hat{H} |\\Phi_{H'}^{P'} \\rangle C_{H'}^{P'}.\n",
      "$$"
     ]
    },
    {
     "cell_type": "markdown",
     "metadata": {},
     "source": [
      "### Full Configuration Interaction Theory\n",
      "\n",
      "Normally"
     ]
    },
    {
     "cell_type": "markdown",
     "metadata": {},
     "source": [
      "$$\n",
      "E= \\langle \\Psi_0 | \\hat{H} |\\Phi_0 \\rangle= \\sum_{PP'HH'}C_H^{*P}\\langle \\Phi_H^P | \\hat{H} |\\Phi_{H'}^{P'} \\rangle C_{H'}^{P'},\n",
      "$$"
     ]
    },
    {
     "cell_type": "markdown",
     "metadata": {},
     "source": [
      "is solved by diagonalization setting up the Hamiltonian matrix defined by the basis of all possible Slater determinants. A diagonalization\n",
      "<!-- to do: add text about Rayleigh-Ritz -->\n",
      "is equivalent to finding the variational minimum   of"
     ]
    },
    {
     "cell_type": "markdown",
     "metadata": {},
     "source": [
      "$$\n",
      "\\langle \\Psi_0 | \\hat{H} |\\Phi_0 \\rangle-\\lambda \\langle \\Psi_0 |\\Phi_0 \\rangle,\n",
      "$$"
     ]
    },
    {
     "cell_type": "markdown",
     "metadata": {},
     "source": [
      "where $\\lambda$ is a variational multiplier to be identified with the energy of the system.\n",
      "The minimization process results in"
     ]
    },
    {
     "cell_type": "markdown",
     "metadata": {},
     "source": [
      "7\n",
      "3\n",
      "9\n",
      " \n",
      "<\n",
      "<\n",
      "<\n",
      "!\n",
      "!\n",
      "M\n",
      "A\n",
      "T\n",
      "H\n",
      "_\n",
      "B\n",
      "L\n",
      "O\n",
      "C\n",
      "K"
     ]
    },
    {
     "cell_type": "markdown",
     "metadata": {},
     "source": [
      "$$\n",
      "\\sum_{P'H'}\\left\\{\\delta[C_H^{*P}]\\langle \\Phi_H^P | \\hat{H} |\\Phi_{H'}^{P'} \\rangle C_{H'}^{P'}+\n",
      "C_H^{*P}\\langle \\Phi_H^P | \\hat{H} |\\Phi_{H'}^{P'} \\rangle \\delta[C_{H'}^{P'}]-\n",
      "\\lambda( \\delta[C_H^{*P}]C_{H'}^{P'}+C_H^{*P}\\delta[C_{H'}^{P'}]\\right\\} = 0.\n",
      "$$"
     ]
    },
    {
     "cell_type": "markdown",
     "metadata": {},
     "source": [
      "Since the coefficients $\\delta[C_H^{*P}]$ and $\\delta[C_{H'}^{P'}]$ are complex conjugates it is necessary and sufficient to require the quantities that multiply with $\\delta[C_H^{*P}]$ to vanish.  \n",
      "\n",
      "This leads to"
     ]
    },
    {
     "cell_type": "markdown",
     "metadata": {},
     "source": [
      "$$\n",
      "\\sum_{P'H'}\\langle \\Phi_H^P | \\hat{H} |\\Phi_{H'}^{P'} \\rangle C_{H'}^{P'}-\\lambda C_H^{P}=0,\n",
      "$$"
     ]
    },
    {
     "cell_type": "markdown",
     "metadata": {},
     "source": [
      "for all sets of $P$ and $H$.\n",
      "\n",
      "If we then multiply by the corresponding $C_H^{*P}$ and sum over $PH$ we obtain"
     ]
    },
    {
     "cell_type": "markdown",
     "metadata": {},
     "source": [
      "$$\n",
      "\\sum_{PP'HH'}C_H^{*P}\\langle \\Phi_H^P | \\hat{H} |\\Phi_{H'}^{P'} \\rangle C_{H'}^{P'}-\\lambda\\sum_{PH}|C_H^P|^2=0,\n",
      "$$"
     ]
    },
    {
     "cell_type": "markdown",
     "metadata": {},
     "source": [
      "leading to the identification $\\lambda = E$. This means that we have for all $PH$ sets"
     ]
    },
    {
     "cell_type": "markdown",
     "metadata": {},
     "source": [
      "<!-- Equation labels as ordinary links -->\n",
      "<div id=\"eq:fullci\"></div>\n",
      "\n",
      "$$\n",
      "\\begin{equation}\n",
      "\\sum_{P'H'}\\langle \\Phi_H^P | \\hat{H} -E|\\Phi_{H'}^{P'} \\rangle = 0. \\label{eq:fullci} \\tag{130}\n",
      "\\end{equation}\n",
      "$$"
     ]
    },
    {
     "cell_type": "markdown",
     "metadata": {},
     "source": [
      "An alternative way to derive the last equation is to start from"
     ]
    },
    {
     "cell_type": "markdown",
     "metadata": {},
     "source": [
      "$$\n",
      "(\\hat{H} -E)|\\Psi_0\\rangle = (\\hat{H} -E)\\sum_{P'H'}C_{H'}^{P'}|\\Phi_{H'}^{P'} \\rangle=0,\n",
      "$$"
     ]
    },
    {
     "cell_type": "markdown",
     "metadata": {},
     "source": [
      "and if this equation is successively projected against all $\\Phi_H^P$ in the expansion of $\\Psi$, then the last equation on the previous slide\n",
      "results.   As stated previously, one solves this equation normally by diagonalization. If we are able to solve this equation exactly (that is\n",
      "numerically exactly) in a large Hilbert space (it will be truncated in terms of the number of single-particle states included in the definition\n",
      "of Slater determinants), it can then serve as a benchmark for other many-body methods which approximate the correlation operator\n",
      "$\\hat{C}$.  \n",
      "\n",
      "\n",
      "For reasons to come (links with Coupled-Cluster theory and Many-Body perturbation theory), \n",
      "we will rewrite Eq. ( ref{eq:fullci}) as a set of coupled non-linear equations in terms of the unknown coefficients $C_H^P$. \n",
      "\n",
      "To see this, we look at the contributions arising from"
     ]
    },
    {
     "cell_type": "markdown",
     "metadata": {},
     "source": [
      "$$\n",
      "\\langle \\Phi_H^P | = \\langle \\Phi_0|\n",
      "$$"
     ]
    },
    {
     "cell_type": "markdown",
     "metadata": {},
     "source": [
      "in  Eq. [(130)](#eq:fullci), that is we multiply with $\\langle \\Phi_0 |$\n",
      "from the left in"
     ]
    },
    {
     "cell_type": "markdown",
     "metadata": {},
     "source": [
      "$$\n",
      "(\\hat{H} -E)\\sum_{P'H'}C_{H'}^{P'}|\\Phi_{H'}^{P'} \\rangle=0.\n",
      "$$"
     ]
    },
    {
     "cell_type": "markdown",
     "metadata": {},
     "source": [
      "If we assume that we have a two-body operator at most, Slater's rule gives then an equation for the \n",
      "correlation energy in terms of $C_i^a$ and $C_{ij}^{ab}$ only.  We get then"
     ]
    },
    {
     "cell_type": "markdown",
     "metadata": {},
     "source": [
      "$$\n",
      "\\langle \\Phi_0 | \\hat{H} -E| \\Phi_0\\rangle + \\sum_{ai}\\langle \\Phi_0 | \\hat{H} -E|\\Phi_{i}^{a} \\rangle C_{i}^{a}+\n",
      "\\sum_{abij}\\langle \\Phi_0 | \\hat{H} -E|\\Phi_{ij}^{ab} \\rangle C_{ij}^{ab}=0,\n",
      "$$"
     ]
    },
    {
     "cell_type": "markdown",
     "metadata": {},
     "source": [
      "or"
     ]
    },
    {
     "cell_type": "markdown",
     "metadata": {},
     "source": [
      "$$\n",
      "E-E_0 =\\Delta E=\\sum_{ai}\\langle \\Phi_0 | \\hat{H}|\\Phi_{i}^{a} \\rangle C_{i}^{a}+\n",
      "\\sum_{abij}\\langle \\Phi_0 | \\hat{H}|\\Phi_{ij}^{ab} \\rangle C_{ij}^{ab},\n",
      "$$"
     ]
    },
    {
     "cell_type": "markdown",
     "metadata": {},
     "source": [
      "where the energy $E_0$ is the reference energy and $\\Delta E$ defines the so-called correlation energy.\n",
      "The single-particle basis functions  could be the results of a Hartree-Fock calculation or just the eigenstates of the non-interacting part of the Hamiltonian. \n",
      "\n",
      "In our chapter on Hartree-Fock calculations, \n",
      "we have already computed the matrix $\\langle \\Phi_0 | \\hat{H}|\\Phi_{i}^{a}\\rangle $ and $\\langle \\Phi_0 | \\hat{H}|\\Phi_{ij}^{ab}\\rangle$.  If we are using a Hartree-Fock basis, then the matrix elements\n",
      "$\\langle \\Phi_0 | \\hat{H}|\\Phi_{i}^{a}\\rangle $ and we are left with a correlation energy given by"
     ]
    },
    {
     "cell_type": "markdown",
     "metadata": {},
     "source": [
      "$$\n",
      "E-E_0 =\\Delta E^{HF}=\\sum_{abij}\\langle \\Phi_0 | \\hat{H}|\\Phi_{ij}^{ab} \\rangle C_{ij}^{ab}.\n",
      "$$"
     ]
    },
    {
     "cell_type": "markdown",
     "metadata": {},
     "source": [
      "Inserting the various matrix elements we can rewrite the previous equation as"
     ]
    },
    {
     "cell_type": "markdown",
     "metadata": {},
     "source": [
      "$$\n",
      "\\Delta E=\\sum_{ai}\\langle i| \\hat{f}|a \\rangle C_{i}^{a}+\n",
      "\\sum_{abij}\\langle ij | \\hat{v}| ab \\rangle C_{ij}^{ab}.\n",
      "$$"
     ]
    },
    {
     "cell_type": "markdown",
     "metadata": {},
     "source": [
      "This equation determines the correlation energy but not the coefficients $C$. \n",
      "We need more equations. Our next step is to set up"
     ]
    },
    {
     "cell_type": "markdown",
     "metadata": {},
     "source": [
      "$$\n",
      "\\langle \\Phi_i^a | \\hat{H} -E| \\Phi_0\\rangle + \\sum_{bj}\\langle \\Phi_i^a | \\hat{H} -E|\\Phi_{j}^{b} \\rangle C_{j}^{b}+\n",
      "\\sum_{bcjk}\\langle \\Phi_i^a | \\hat{H} -E|\\Phi_{jk}^{bc} \\rangle C_{jk}^{bc}+\n",
      "\\sum_{bcdjkl}\\langle \\Phi_i^a | \\hat{H} -E|\\Phi_{jkl}^{bcd} \\rangle C_{jkl}^{bcd}=0,\n",
      "$$"
     ]
    },
    {
     "cell_type": "markdown",
     "metadata": {},
     "source": [
      "as this equation will allow us to find an expression for the coefficents $C_i^a$ since we can rewrite this equation as"
     ]
    },
    {
     "cell_type": "markdown",
     "metadata": {},
     "source": [
      "$$\n",
      "\\langle i | \\hat{f}| a\\rangle +\\langle \\Phi_i^a | \\hat{H}|\\Phi_{i}^{a} \\rangle C_{i}^{a}+ \\sum_{bj\\ne ai}\\langle \\Phi_i^a | \\hat{H}|\\Phi_{j}^{b} \\rangle C_{j}^{b}+\n",
      "\\sum_{bcjk}\\langle \\Phi_i^a | \\hat{H}|\\Phi_{jk}^{bc} \\rangle C_{jk}^{bc}+\n",
      "\\sum_{bcdjkl}\\langle \\Phi_i^a | \\hat{H}|\\Phi_{jkl}^{bcd} \\rangle C_{jkl}^{bcd}=0.\n",
      "$$"
     ]
    },
    {
     "cell_type": "markdown",
     "metadata": {},
     "source": [
      "We rewrite this equation as"
     ]
    },
    {
     "cell_type": "markdown",
     "metadata": {},
     "source": [
      "7\n",
      "5\n",
      "3\n",
      " \n",
      "<\n",
      "<\n",
      "<\n",
      "!\n",
      "!\n",
      "M\n",
      "A\n",
      "T\n",
      "H\n",
      "_\n",
      "B\n",
      "L\n",
      "O\n",
      "C\n",
      "K"
     ]
    },
    {
     "cell_type": "markdown",
     "metadata": {},
     "source": [
      "$$\n",
      "\\times\\left(\\langle i | \\hat{f}| a\\rangle+ \\sum_{bj\\ne ai}\\langle \\Phi_i^a | \\hat{H}|\\Phi_{j}^{b} \\rangle C_{j}^{b}+\\sum_{bcjk}\\langle \\Phi_i^a | \\hat{H}|\\Phi_{jk}^{bc} \\rangle C_{jk}^{bc}+\n",
      "\\sum_{bcdjkl}\\langle \\Phi_i^a | \\hat{H}|\\Phi_{jkl}^{bcd} \\rangle C_{jkl}^{bcd}\\right).\n",
      "$$"
     ]
    },
    {
     "cell_type": "markdown",
     "metadata": {},
     "source": [
      "Since these equations are solved iteratively ( that is we can start with a guess for the coefficients $C_i^a$), it is common to start the  iteration \n",
      "by setting"
     ]
    },
    {
     "cell_type": "markdown",
     "metadata": {},
     "source": [
      "$$\n",
      "C_{i}^{a}=-\\frac{\\langle i | \\hat{f}| a\\rangle}{\\langle \\Phi_i^a | \\hat{H}|\\Phi_{i}^{a}\\rangle},\n",
      "$$"
     ]
    },
    {
     "cell_type": "markdown",
     "metadata": {},
     "source": [
      "and the denominator can be written as"
     ]
    },
    {
     "cell_type": "markdown",
     "metadata": {},
     "source": [
      "$$\n",
      "C_{i}^{a}=\\frac{\\langle i | \\hat{f}| a\\rangle}{\\langle i | \\hat{f}| i\\rangle-\\langle a | \\hat{f}| a\\rangle+\\langle ai | \\hat{v}| ai\\rangle}.\n",
      "$$"
     ]
    },
    {
     "cell_type": "markdown",
     "metadata": {},
     "source": [
      "The observant reader will however see that we need an equation for $C_{jk}^{bc}$ and $C_{jkl}^{bcd}$ as well.\n",
      "To find equations for these coefficients we need then to continue our multiplications from the left with the various\n",
      "$\\Phi_{H}^P$ terms. \n",
      "\n",
      "\n",
      "\n",
      "For $C_{jk}^{bc}$ we need then"
     ]
    },
    {
     "cell_type": "markdown",
     "metadata": {},
     "source": [
      "7\n",
      "5\n",
      "7\n",
      " \n",
      "<\n",
      "<\n",
      "<\n",
      "!\n",
      "!\n",
      "M\n",
      "A\n",
      "T\n",
      "H\n",
      "_\n",
      "B\n",
      "L\n",
      "O\n",
      "C\n",
      "K"
     ]
    },
    {
     "cell_type": "markdown",
     "metadata": {},
     "source": [
      "$$\n",
      "\\sum_{cdkl}\\langle \\Phi_{ij}^{ab} | \\hat{H} -E|\\Phi_{kl}^{cd} \\rangle C_{kl}^{cd}+\\sum_{cdeklm}\\langle \\Phi_{ij}^{ab} | \\hat{H} -E|\\Phi_{klm}^{cde} \\rangle C_{klm}^{cde}+\\sum_{cdefklmn}\\langle \\Phi_{ij}^{ab} | \\hat{H} -E|\\Phi_{klmn}^{cdef} \\rangle C_{klmn}^{cdef}=0,\n",
      "$$"
     ]
    },
    {
     "cell_type": "markdown",
     "metadata": {},
     "source": [
      "and we can isolate the coefficients $C_{kl}^{cd}$ in a similar way as we did for the coefficients $C_{i}^{a}$. \n",
      "At the end we can rewrite our solution of the Schr\\\"odinger equation in terms of $n$ coupled equations for the coefficients $C_H^P$.\n",
      "This is a very cumbersome way of solving the equation. However, by using this iterative scheme we can illustrate how we can compute the\n",
      "various terms in the wave operator or correlation operator $\\hat{C}$. We will later identify the calculation of the various terms $C_H^P$\n",
      "as parts of different many-body approximations to full CI. In particular, ww can  relate this non-linear scheme with Coupled Cluster theory and\n",
      "many-body perturbation theory. These theories will not be discussed in this course.\n",
      "\n",
      "\n",
      "If we use a Hartree-Fock basis, we simplify this equation"
     ]
    },
    {
     "cell_type": "markdown",
     "metadata": {},
     "source": [
      "$$\n",
      "\\Delta E=\\sum_{ai}\\langle i| \\hat{f}|a \\rangle C_{i}^{a}+\n",
      "\\sum_{abij}\\langle ij | \\hat{v}| ab \\rangle C_{ij}^{ab}.\n",
      "$$"
     ]
    },
    {
     "cell_type": "markdown",
     "metadata": {},
     "source": [
      "What about"
     ]
    },
    {
     "cell_type": "markdown",
     "metadata": {},
     "source": [
      "$$\n",
      "\\langle \\Phi_i^a | \\hat{H} -E| \\Phi_0\\rangle + \\sum_{bj}\\langle \\Phi_i^a | \\hat{H} -E|\\Phi_{j}^{b} \\rangle C_{j}^{b}+\n",
      "\\sum_{bcjk}\\langle \\Phi_i^a | \\hat{H} -E|\\Phi_{jk}^{bc} \\rangle C_{jk}^{bc}+\n",
      "\\sum_{bcdjkl}\\langle \\Phi_i^a | \\hat{H} -E|\\Phi_{jkl}^{bcd} \\rangle C_{jkl}^{bcd}=0,\n",
      "$$"
     ]
    },
    {
     "cell_type": "markdown",
     "metadata": {},
     "source": [
      "and"
     ]
    },
    {
     "cell_type": "markdown",
     "metadata": {},
     "source": [
      "7\n",
      "6\n",
      "1\n",
      " \n",
      "<\n",
      "<\n",
      "<\n",
      "!\n",
      "!\n",
      "M\n",
      "A\n",
      "T\n",
      "H\n",
      "_\n",
      "B\n",
      "L\n",
      "O\n",
      "C\n",
      "K"
     ]
    },
    {
     "cell_type": "markdown",
     "metadata": {},
     "source": [
      "$$\n",
      "\\sum_{cdeklm}\\langle \\Phi_{ij}^{ab} | \\hat{H} -E|\\Phi_{klm}^{cde} \\rangle C_{klm}^{cde}+\\sum_{cdefklmn}\\langle \\Phi_{ij}^{ab} | \\hat{H} -E|\\Phi_{klmn}^{cdef} \\rangle C_{klmn}^{cdef}=0?\n",
      "$$"
     ]
    },
    {
     "cell_type": "markdown",
     "metadata": {},
     "source": [
      "## Building a many-body basis\n",
      "\n",
      "\n",
      "In project 1 the plan  is to construct a working code that constructs the \n",
      "many-body Hamiltonian matrix in a basis of Slater determinants and to find the low-lying eigenenergies. \n",
      "This is referred to as the configuration-interaction method or shell-model diagonalization \n",
      "(or the interacting shell model). \n",
      "\n",
      "The first step in such codes--and in your project--is to construct the many-body basis.  \n",
      "\n",
      "While the formalism is independent of the choice of basis, the **effectiveness** of a calculation \n",
      "will certainly be basis dependent. \n",
      "\n",
      "Furthermore there are common conventions useful to know.\n",
      "\n",
      "\n",
      "First, the single-particle basis has angular momentum as a good quantum number.  You can \n",
      "imagine the single-particle wavefunctions being generated by a one-body Hamiltonian, \n",
      "for example a harmonic oscillator.  Modifications include harmonic oscillator plus \n",
      "spin-orbit splitting, or self-consistent mean-field potentials, or the Woods-Saxon potential which mocks \n",
      "up the self-consistent mean-field. \n",
      "\n",
      "\n",
      "For nuclei, the harmonic oscillator, modified by spin-orbit splitting, provides a useful language \n",
      "for describing single-particle states.\n",
      "\n",
      "\n",
      "Each single-particle state is labeled by the following quantum numbers: \n",
      "\n",
      "* Orbital angular momentum $l$\n",
      "\n",
      "* Intrinsic spin $s$ = 1/2 for protons and neutrons\n",
      "\n",
      "* Angular momentum $j = l \\pm 1/2$\n",
      "\n",
      "* $z$-component $j_z$ (or $m$)\n",
      "\n",
      "* Some labeling of the radial wavefunction, typically $n$ the number of nodes in  the radial wavefunction, but in the case of harmonic oscillator one can also use the principal quantum number $N$, where the harmonic oscillator energy is $(N+3/2)\\hbar \\omega$. \n",
      "\n",
      "In this format one labels states by $n(l)_j$, with $(l)$ replaced by a letter:\n",
      "$s$ for $l=0$, $p$ for $l=1$, $d$ for $l=2$, $f$ for $l=3$, and thenceforth alphabetical.\n",
      "\n",
      "\n",
      " In practice the single-particle space has to be severely truncated.  This truncation is \n",
      "typically based upon the single-particle energies, which is the effective energy \n",
      "from a mean-field potential. \n",
      "\n",
      "Sometimes we freeze the core and only consider a valence space. For example, one \n",
      "may assume a frozen ${}^{4}\\mbox{He}$ core, with two protons and two neutrons in the $0s_{1/2}$ \n",
      "shell, and then only allow active particles in the $0p_{1/2}$ and $0p_{3/2}$ orbits. \n",
      "\n",
      "\n",
      "Another example is a frozen ${}^{16}\\mbox{O}$ core, with eight protons and eight neutrons filling the \n",
      "$0s_{1/2}$,  $0p_{1/2}$ and $0p_{3/2}$ orbits, with valence particles in the \n",
      "$0d_{5/2}, 1s_{1/2}$ and $0d_{3/2}$ orbits.\n",
      "\n",
      "\n",
      "Sometimes we refer to nuclei by the valence space where their last nucleons go.  \n",
      "So, for example, we call ${}^{12}\\mbox{C}$ a $p$-shell nucleus, while ${}^{26}\\mbox{Al}$ is an \n",
      "$sd$-shell nucleus and ${}^{56}\\mbox{Fe}$ is a $pf$-shell nucleus.\n",
      "\n",
      "\n",
      "\n",
      "There are different kinds of truncations.\n",
      "\n",
      "* For example, one can start with `filled' orbits (almost always the lowest), and then  allow one, two, three... particles excited out of those filled orbits. These are called  1p-1h, 2p-2h, 3p-3h excitations. \n",
      "\n",
      "* Alternately, one can state a maximal orbit and allow all possible configurations with  particles occupying states up to that maximum. This is called *full configuration*.\n",
      "\n",
      "* Finally, for particular use in nuclear physics, there is the *energy* truncation, also  called the $N\\hbar\\Omega$ or $N_{max}$ truncation. \n",
      "\n",
      " Here one works in a harmonic oscillator basis, with each major oscillator shell assigned \n",
      "a principal quantum number $N=0,1,2,3,...$. \n",
      "\n",
      "The $N\\hbar\\Omega$ or $N_{max}$ truncation: Any configuration is given an noninteracting energy, which is the sum \n",
      "of the single-particle harmonic oscillator energies. (Thus this ignores \n",
      "spin-orbit splitting.)\n",
      "\n",
      "\n",
      "\n",
      "\n",
      "Excited state are labeled relative to the lowest configuration by the \n",
      "number of harmonic oscillator quanta.\n",
      "\n",
      "This truncation is useful because: if one includes *all* configuration up to \n",
      "some $N_{max}$, and has a translationally invariant interaction, then the intrinsic \n",
      "motion and the center-of-mass motion factor. In other words, we can know exactly \n",
      "the center-of-mass wavefunction. \n",
      "\n",
      "\n",
      "\n",
      "\n",
      "\n",
      "In almost all cases, the many-body Hamiltonian is rotationally invariant. This means \n",
      "it commutes with the operators $\\hat{J}^2, \\hat{J}_z$ and so eigenstates will have \n",
      "good $J,M$. Furthermore, the eigenenergies do not depend upon the orientation $M$. \n",
      "\n",
      "\n",
      "Therefore we can choose to construct a many-body basis which has fixed $M$; this is \n",
      "called an $M$-scheme basis. \n",
      "\n",
      "\n",
      "Alternately, one can construct a many-body basis which has fixed $J$, or a $J$-scheme \n",
      "basis. \n",
      "\n",
      "The Hamiltonian matrix will have smaller dimensions (a factor of 10 or more)\n",
      " in the $J$-scheme than in the $M$-scheme. \n",
      "On the other hand, as we'll show in the next slide, the $M$-scheme is very easy to \n",
      "construct with Slater determinants, while the $J$-scheme basis states, and thus the \n",
      "matrix elements, are more complicated, almost always being linear combinations of \n",
      "$M$-scheme states. $J$-scheme bases are important and useful, but we'll focus on the \n",
      "simpler $M$-scheme.\n",
      "\n",
      "\n",
      "\n",
      "The quantum number $m$ is additive (because the underlying group is Abelian): \n",
      "if a Slater determinant $\\hat{a}_i^\\dagger \\hat{a}^\\dagger_j \\hat{a}^\\dagger_k \\ldots | 0 \\rangle$ \n",
      "is built from single-particle states all with good $m$, then the total"
     ]
    },
    {
     "cell_type": "markdown",
     "metadata": {},
     "source": [
      "$$\n",
      "M = m_i + m_j + m_k + \\ldots\n",
      "$$"
     ]
    },
    {
     "cell_type": "markdown",
     "metadata": {},
     "source": [
      "This is *not* true of $J$, because the angular momentum group SU(2) is not Abelian.\n",
      "\n",
      "The upshot is that \n",
      "* It is easy to construct a Slater determinant with good total $M$;\n",
      "\n",
      "* It is trivial to calculate $M$ for each Slater determinant;\n",
      "\n",
      "* So it is easy to construct an $M$-scheme basis with fixed total $M$.\n",
      "\n",
      "Note that the individual $M$-scheme basis states will *not*, in general, \n",
      "have good total $J$. \n",
      "Because the Hamiltonian is rotationally invariant, however, the eigenstates will \n",
      "have good $J$. (The situation is muddied when one has states of different $J$ that are \n",
      "nonetheless degenerate.) \n",
      "\n",
      "\n",
      "Example: two $j=1/2$ orbits\n",
      "\n",
      "<table border=\"1\">\n",
      "<thead>\n",
      "<tr><th align=\"center\">Index</th> <th align=\"center\">$n$</th> <th align=\"center\">$l$</th> <th align=\"center\">$j$</th> <th align=\"center\">$m_j$</th> </tr>\n",
      "</thead>\n",
      "<tbody>\n",
      "<tr><td align=\"center\">   1        </td> <td align=\"center\">   0      </td> <td align=\"center\">   0      </td> <td align=\"center\">   1/2    </td> <td align=\"center\">   -1/2     </td> </tr>\n",
      "<tr><td align=\"center\">   2        </td> <td align=\"center\">   0      </td> <td align=\"center\">   0      </td> <td align=\"center\">   1/2    </td> <td align=\"center\">   1/2      </td> </tr>\n",
      "<tr><td align=\"center\">   3        </td> <td align=\"center\">   1      </td> <td align=\"center\">   0      </td> <td align=\"center\">   1/2    </td> <td align=\"center\">   -1/2     </td> </tr>\n",
      "<tr><td align=\"center\">   4        </td> <td align=\"center\">   1      </td> <td align=\"center\">   0      </td> <td align=\"center\">   1/2    </td> <td align=\"center\">   1/2      </td> </tr>\n",
      "</tbody>\n",
      "</table>\n",
      "Note: the order is arbitrary.\n",
      "There are $\\left ( \\begin{array}{c} 4 \\\\ 2 \\end{array} \\right) = 6$ two-particle states, \n",
      "which we list with the total $M$:\n",
      "\n",
      "<table border=\"1\">\n",
      "<thead>\n",
      "<tr><th align=\"center\">Occupied</th> <th align=\"center\">$M$</th> </tr>\n",
      "</thead>\n",
      "<tbody>\n",
      "<tr><td align=\"center\">   1,2         </td> <td align=\"center\">   0      </td> </tr>\n",
      "<tr><td align=\"center\">   1,3         </td> <td align=\"center\">   -1     </td> </tr>\n",
      "<tr><td align=\"center\">   1,4         </td> <td align=\"center\">   0      </td> </tr>\n",
      "<tr><td align=\"center\">   2,3         </td> <td align=\"center\">   0      </td> </tr>\n",
      "<tr><td align=\"center\">   2,4         </td> <td align=\"center\">   1      </td> </tr>\n",
      "<tr><td align=\"center\">   3,4         </td> <td align=\"center\">   0      </td> </tr>\n",
      "</tbody>\n",
      "</table>\n",
      "and 1 each with $M = \\pm 1$.\n",
      "\n",
      "\n",
      "Example: consider using only single particle states from the $0d_{5/2}$ space. \n",
      "They have the following quantum numbers\n",
      "\n",
      "<table border=\"1\">\n",
      "<thead>\n",
      "<tr><th align=\"center\">Index</th> <th align=\"center\">$n$</th> <th align=\"center\">$l$</th> <th align=\"center\">$j$</th> <th align=\"center\">$m_j$</th> </tr>\n",
      "</thead>\n",
      "<tbody>\n",
      "<tr><td align=\"center\">   1        </td> <td align=\"center\">   0      </td> <td align=\"center\">   2      </td> <td align=\"center\">   5/2    </td> <td align=\"center\">   -5/2     </td> </tr>\n",
      "<tr><td align=\"center\">   2        </td> <td align=\"center\">   0      </td> <td align=\"center\">   2      </td> <td align=\"center\">   5/2    </td> <td align=\"center\">   -3/2     </td> </tr>\n",
      "<tr><td align=\"center\">   3        </td> <td align=\"center\">   0      </td> <td align=\"center\">   2      </td> <td align=\"center\">   5/2    </td> <td align=\"center\">   -1/2     </td> </tr>\n",
      "<tr><td align=\"center\">   4        </td> <td align=\"center\">   0      </td> <td align=\"center\">   2      </td> <td align=\"center\">   5/2    </td> <td align=\"center\">   1/2      </td> </tr>\n",
      "<tr><td align=\"center\">   5        </td> <td align=\"center\">   0      </td> <td align=\"center\">   2      </td> <td align=\"center\">   5/2    </td> <td align=\"center\">   3/2      </td> </tr>\n",
      "<tr><td align=\"center\">   6        </td> <td align=\"center\">   0      </td> <td align=\"center\">   2      </td> <td align=\"center\">   5/2    </td> <td align=\"center\">   5/2      </td> </tr>\n",
      "</tbody>\n",
      "</table>\n",
      "There are $\\left ( \\begin{array}{c} 6 \\\\ 2 \\end{array} \\right) = 15$ two-particle states, \n",
      "which we list with the total $M$:\n",
      "\n",
      "<table border=\"1\">\n",
      "<thead>\n",
      "<tr><th align=\"center\">Occupied</th> <th align=\"center\">$M$</th> <th align=\"center\">Occupied</th> <th align=\"center\">$M$</th> <th align=\"center\">Occupied</th> <th align=\"center\">$M$</th> </tr>\n",
      "</thead>\n",
      "<tbody>\n",
      "<tr><td align=\"center\">   1,2         </td> <td align=\"center\">   -4     </td> <td align=\"center\">   2,3         </td> <td align=\"center\">   -2     </td> <td align=\"center\">   3,5         </td> <td align=\"center\">   1      </td> </tr>\n",
      "<tr><td align=\"center\">   1,3         </td> <td align=\"center\">   -3     </td> <td align=\"center\">   2,4         </td> <td align=\"center\">   -1     </td> <td align=\"center\">   3,6         </td> <td align=\"center\">   2      </td> </tr>\n",
      "<tr><td align=\"center\">   1,4         </td> <td align=\"center\">   -2     </td> <td align=\"center\">   2,5         </td> <td align=\"center\">   0      </td> <td align=\"center\">   4,5         </td> <td align=\"center\">   2      </td> </tr>\n",
      "<tr><td align=\"center\">   1,5         </td> <td align=\"center\">   -1     </td> <td align=\"center\">   2,6         </td> <td align=\"center\">   1      </td> <td align=\"center\">   4,6         </td> <td align=\"center\">   3      </td> </tr>\n",
      "<tr><td align=\"center\">   1,6         </td> <td align=\"center\">   0      </td> <td align=\"center\">   3,4         </td> <td align=\"center\">   0      </td> <td align=\"center\">   5,6         </td> <td align=\"center\">   4      </td> </tr>\n",
      "</tbody>\n",
      "</table>\n",
      "\n",
      "### Basic steps in a building an FCI code\n",
      "\n",
      "The basic goal of the project is for you to build your own configuration-interaction  shell-model \n",
      "code. The code will be fairly basic; it will assume that we have \n",
      "a single species of particles, e.g. only neutrons, \n",
      "and you could, if you wish to,  read in uncoupled two-body matrix elements.  Furthermore the pieces of the code will not \n",
      "be the most efficient.  Nonetheless it will be usable; most importantly, you will gain a good idea of what goes into a many-body shell-model code.\n",
      "\n",
      "The first step  is to construct the $M$-scheme basis of Slater determinants.\n",
      "Here $M$-scheme means the total $J_z$ of the many-body states is fixed.\n",
      "\n",
      "The steps could be:\n",
      "\n",
      "* Read in a user-supplied file of single-particle states (examples can be given) or just code these internally;\n",
      "\n",
      "* Ask for the total $M$ of the system and the number of particles $N$;\n",
      "\n",
      "* Construct all the $N$-particle states with given $M$.  You will validate the code by  comparing both the number of states and specific states.\n",
      "\n",
      "The format of a possible input  file could be\n",
      "<table border=\"1\">\n",
      "<thead>\n",
      "<tr><th align=\"center\">Index</th> <th align=\"center\">$n$</th> <th align=\"center\">$l$</th> <th align=\"center\">$2j$</th> <th align=\"center\">$2m_j$</th> </tr>\n",
      "</thead>\n",
      "<tbody>\n",
      "<tr><td align=\"center\">   1        </td> <td align=\"center\">   1      </td> <td align=\"center\">   0      </td> <td align=\"center\">   1       </td> <td align=\"center\">   -1        </td> </tr>\n",
      "<tr><td align=\"center\">   2        </td> <td align=\"center\">   1      </td> <td align=\"center\">   0      </td> <td align=\"center\">   1       </td> <td align=\"center\">   1         </td> </tr>\n",
      "<tr><td align=\"center\">   3        </td> <td align=\"center\">   0      </td> <td align=\"center\">   2      </td> <td align=\"center\">   3       </td> <td align=\"center\">   -3        </td> </tr>\n",
      "<tr><td align=\"center\">   4        </td> <td align=\"center\">   0      </td> <td align=\"center\">   2      </td> <td align=\"center\">   3       </td> <td align=\"center\">   -1        </td> </tr>\n",
      "<tr><td align=\"center\">   5        </td> <td align=\"center\">   0      </td> <td align=\"center\">   2      </td> <td align=\"center\">   3       </td> <td align=\"center\">   1         </td> </tr>\n",
      "<tr><td align=\"center\">   6        </td> <td align=\"center\">   0      </td> <td align=\"center\">   2      </td> <td align=\"center\">   3       </td> <td align=\"center\">   3         </td> </tr>\n",
      "<tr><td align=\"center\">   7        </td> <td align=\"center\">   0      </td> <td align=\"center\">   2      </td> <td align=\"center\">   5       </td> <td align=\"center\">   -5        </td> </tr>\n",
      "<tr><td align=\"center\">   8        </td> <td align=\"center\">   0      </td> <td align=\"center\">   2      </td> <td align=\"center\">   5       </td> <td align=\"center\">   -3        </td> </tr>\n",
      "<tr><td align=\"center\">   9        </td> <td align=\"center\">   0      </td> <td align=\"center\">   2      </td> <td align=\"center\">   5       </td> <td align=\"center\">   -1        </td> </tr>\n",
      "<tr><td align=\"center\">   10       </td> <td align=\"center\">   0      </td> <td align=\"center\">   2      </td> <td align=\"center\">   5       </td> <td align=\"center\">   1         </td> </tr>\n",
      "<tr><td align=\"center\">   11       </td> <td align=\"center\">   0      </td> <td align=\"center\">   2      </td> <td align=\"center\">   5       </td> <td align=\"center\">   3         </td> </tr>\n",
      "<tr><td align=\"center\">   12       </td> <td align=\"center\">   0      </td> <td align=\"center\">   2      </td> <td align=\"center\">   5       </td> <td align=\"center\">   5         </td> </tr>\n",
      "</tbody>\n",
      "</table>\n",
      "This represents the $1s_{1/2}0d_{3/2}0d_{5/2}$ valence space, or just the $sd$-space.  There are \n",
      "twelve single-particle states, labeled by an overall index, and which have associated quantum \n",
      "numbers the number of radial nodes, the orbital angular momentum $l$, and the \n",
      "angular momentum $j$ and third component $j_z$.  To keep everything as integers, we could store $2 \\times j$ and \n",
      "$2 \\times j_z$. \n",
      "\n",
      "\n",
      "To read in the single-particle states you need to:\n",
      "* Open the file \n",
      "\n",
      " * Read the number of single-particle states (in the above example, 12);  allocate memory; all you need is a single array storing $2\\times j_z$ for each state, labeled by the index.\n",
      "\n",
      "\n",
      "* Read in the quantum numbers and store $2 \\times j_z$ (and anything else you happen to want).\n",
      "\n",
      "The next step is to read in the number of particles $N$ and the fixed total $M$ (or, actually, $2 \\times M$). \n",
      "For this project we assume only a single species of particles, say neutrons, although this can be \n",
      "relaxed. **Note**: Although it is often a good idea to try to write a more general code, given the \n",
      "short time alloted we would suggest you keep your ambition in check, at least in the initial phases of the \n",
      "project.  \n",
      "\n",
      "\n",
      "You should probably write an error trap to make sure $N$ and $M$ are congruent; if $N$ is even, then \n",
      "$2 \\times M$ should be even, and if $N$ is odd then $2\\times M$ should be odd. \n",
      "\n",
      "\n",
      "The final step is to generate the set of $N$-particle Slater determinants with fixed $M$. \n",
      "The Slater determinants will be stored in occupation representation.  Although in many codes\n",
      "this representation is done compactly in bit notation with ones and zeros, but for \n",
      "greater transparency and simplicity we will list the occupied single particle states.\n",
      "\n",
      " Hence we can \n",
      "store the Slater determinant basis states as $sd(i,j)$, that is an \n",
      "array of dimension $N_{SD}$, the number of Slater determinants, by $N$, the number of occupied \n",
      "state. So if for the 7th Slater determinant the 2nd, 3rd, and 9th single-particle states are occupied, \n",
      "then $sd(7,1) = 2$, $sd(7,2) = 3$, and $sd(7,3) = 9$.\n",
      "\n",
      "\n",
      "We can construct an occupation representation of Slater determinants by the *odometer*\n",
      "method.  Consider $N_{sp} = 12$ and $N=4$. \n",
      "Start with the first 4 states occupied, that is:\n",
      "\n",
      "* $sd(1,:)= 1,2,3,4$ (also written as $|1,2,3,4 \\rangle$)\n",
      "\n",
      "Now increase the last occupancy recursively:\n",
      "* $sd(2,:)= 1,2,3,5$\n",
      "\n",
      "* $sd(3,:)= 1,2,3,6$\n",
      "\n",
      "* $sd(4,:)= 1,2,3,7$\n",
      "\n",
      "* $\\ldots$\n",
      "\n",
      "* $sd(9,:)= 1,2,3,12$\n",
      "\n",
      "Then start over with \n",
      "* $sd(10,:)= 1,2,4,5$\n",
      "\n",
      "and again increase the rightmost digit\n",
      "\n",
      "* $sd(11,:)= 1,2,4,6$\n",
      "\n",
      "* $sd(12,:)= 1,2,4,7$\n",
      "\n",
      "* $\\ldots$\n",
      "\n",
      "* $sd(17,:)= 1,2,4,12$\n",
      "\n",
      "When we restrict ourselves to an $M$-scheme basis, we could choose two paths. \n",
      "The first is simplest (and simplest is often best, at \n",
      "least in the first draft of a code): generate all possible Slater determinants, \n",
      "and then extract from this initial list a list of those Slater determinants with a given \n",
      "$M$. (You will need to write a short function or routine that computes $M$ for any \n",
      "given occupation.)  \n",
      "\n",
      "\n",
      "Alternately, and not too difficult, is to run the odometer routine twice: each time, as \n",
      "as a Slater determinant is calculated, compute $M$, but do not store the Slater determinants \n",
      "except the current one. You can then count up the number of Slater determinants with a \n",
      "chosen $M$.  Then allocated storage for the Slater determinants, and run the odometer \n",
      "algorithm again, this time storing Slater determinants with the desired $M$ (this can be \n",
      "done with a simple logical flag). \n",
      "\n",
      "\n",
      "\n",
      "*Some example solutions*:  Let's begin with a simple case, the $0d_{5/2}$ space containing six single-particle states\n",
      "\n",
      "<table border=\"1\">\n",
      "<thead>\n",
      "<tr><th align=\"center\">Index</th> <th align=\"center\">$n$</th> <th align=\"center\">$l$</th> <th align=\"center\">$j$</th> <th align=\"center\">$m_j$</th> </tr>\n",
      "</thead>\n",
      "<tbody>\n",
      "<tr><td align=\"center\">   1        </td> <td align=\"center\">   0      </td> <td align=\"center\">   2      </td> <td align=\"center\">   5/2    </td> <td align=\"center\">   -5/2     </td> </tr>\n",
      "<tr><td align=\"center\">   2        </td> <td align=\"center\">   0      </td> <td align=\"center\">   2      </td> <td align=\"center\">   5/2    </td> <td align=\"center\">   -3/2     </td> </tr>\n",
      "<tr><td align=\"center\">   3        </td> <td align=\"center\">   0      </td> <td align=\"center\">   2      </td> <td align=\"center\">   5/2    </td> <td align=\"center\">   -1/2     </td> </tr>\n",
      "<tr><td align=\"center\">   4        </td> <td align=\"center\">   0      </td> <td align=\"center\">   2      </td> <td align=\"center\">   5/2    </td> <td align=\"center\">   1/2      </td> </tr>\n",
      "<tr><td align=\"center\">   5        </td> <td align=\"center\">   0      </td> <td align=\"center\">   2      </td> <td align=\"center\">   5/2    </td> <td align=\"center\">   3/2      </td> </tr>\n",
      "<tr><td align=\"center\">   6        </td> <td align=\"center\">   0      </td> <td align=\"center\">   2      </td> <td align=\"center\">   5/2    </td> <td align=\"center\">   5/2      </td> </tr>\n",
      "</tbody>\n",
      "</table>\n",
      "For two particles, there are a total of 15 states, which we list here with the total $M$:\n",
      "* $| 1,2 \\rangle$, $M= -4$,  $| 1,3 \\rangle$, $M= -3$\n",
      "\n",
      "* $| 1,4 \\rangle$, $M= -2$, $| 1,5 \\rangle$, $M= -1$\n",
      "\n",
      "* $| 1,5 \\rangle$, $M= 0$, $| 2,3 \\rangle$, $M= -2$\n",
      "\n",
      "* $| 2,4 \\rangle$, $M= -1$, $| 2,5 \\rangle$, $M= 0$\n",
      "\n",
      "* $| 2,6 \\rangle$, $M= 1$, $| 3,4 \\rangle$, $M= 0$\n",
      "\n",
      "* $| 3,5 \\rangle$, $M= 1$, $| 3,6 \\rangle$, $M= 2$\n",
      "\n",
      "* $| 4,5 \\rangle$, $M= 2$, $ | 4,6 \\rangle$, $M= 3$\n",
      "\n",
      "* $| 5,6 \\rangle$, $M= 4$\n",
      "\n",
      "Of these, there are only 3 states with $M=0$. \n",
      "\n",
      "*You should try* by hand to show that in this same single-particle space, that for \n",
      "$N=3$ there are 3 states with $M=1/2$ and for $N= 4$ there are also only 3 states with $M=0$. \n",
      "\n",
      "*To test your code*, confirm the above. \n",
      "\n",
      "Also, \n",
      "for the $sd$-space given above, for $N=2$ there are 14 states with $M=0$, for $N=3$ there are 37 \n",
      "states with $M=1/2$, for $N=4$ there are 81 states with $M=0$.\n",
      "\n",
      "\n",
      "For our project, we will only consider the pairing model.\n",
      "A simple space is the $(1/2)^2$ space with four single-particle states\n",
      "\n",
      "<table border=\"1\">\n",
      "<thead>\n",
      "<tr><th align=\"center\">Index</th> <th align=\"center\">$n$</th> <th align=\"center\">$l$</th> <th align=\"center\">$s$</th> <th align=\"center\">$m_s$</th> </tr>\n",
      "</thead>\n",
      "<tbody>\n",
      "<tr><td align=\"center\">   1        </td> <td align=\"center\">   0      </td> <td align=\"center\">   0      </td> <td align=\"center\">   1/2    </td> <td align=\"center\">   -1/2     </td> </tr>\n",
      "<tr><td align=\"center\">   2        </td> <td align=\"center\">   0      </td> <td align=\"center\">   0      </td> <td align=\"center\">   1/2    </td> <td align=\"center\">   1/2      </td> </tr>\n",
      "<tr><td align=\"center\">   3        </td> <td align=\"center\">   1      </td> <td align=\"center\">   0      </td> <td align=\"center\">   1/2    </td> <td align=\"center\">   -1/2     </td> </tr>\n",
      "<tr><td align=\"center\">   4        </td> <td align=\"center\">   1      </td> <td align=\"center\">   0      </td> <td align=\"center\">   1/2    </td> <td align=\"center\">   1/2      </td> </tr>\n",
      "</tbody>\n",
      "</table>\n",
      "For $N=2$ there are 4 states with $M=0$; show this by hand and confirm your code reproduces it. \n",
      "\n",
      "\n",
      "Another, slightly more challenging space is the $(1/2)^4$ space, that is, \n",
      "with eight  single-particle states we have\n",
      "\n",
      "<table border=\"1\">\n",
      "<thead>\n",
      "<tr><th align=\"center\">Index</th> <th align=\"center\">$n$</th> <th align=\"center\">$l$</th> <th align=\"center\">$s$</th> <th align=\"center\">$m_s$</th> </tr>\n",
      "</thead>\n",
      "<tbody>\n",
      "<tr><td align=\"center\">   1        </td> <td align=\"center\">   0      </td> <td align=\"center\">   0      </td> <td align=\"center\">   1/2    </td> <td align=\"center\">   -1/2     </td> </tr>\n",
      "<tr><td align=\"center\">   2        </td> <td align=\"center\">   0      </td> <td align=\"center\">   0      </td> <td align=\"center\">   1/2    </td> <td align=\"center\">   1/2      </td> </tr>\n",
      "<tr><td align=\"center\">   3        </td> <td align=\"center\">   1      </td> <td align=\"center\">   0      </td> <td align=\"center\">   1/2    </td> <td align=\"center\">   -1/2     </td> </tr>\n",
      "<tr><td align=\"center\">   4        </td> <td align=\"center\">   1      </td> <td align=\"center\">   0      </td> <td align=\"center\">   1/2    </td> <td align=\"center\">   1/2      </td> </tr>\n",
      "<tr><td align=\"center\">   5        </td> <td align=\"center\">   2      </td> <td align=\"center\">   0      </td> <td align=\"center\">   1/2    </td> <td align=\"center\">   -1/2     </td> </tr>\n",
      "<tr><td align=\"center\">   6        </td> <td align=\"center\">   2      </td> <td align=\"center\">   0      </td> <td align=\"center\">   1/2    </td> <td align=\"center\">   1/2      </td> </tr>\n",
      "<tr><td align=\"center\">   7        </td> <td align=\"center\">   3      </td> <td align=\"center\">   0      </td> <td align=\"center\">   1/2    </td> <td align=\"center\">   -1/2     </td> </tr>\n",
      "<tr><td align=\"center\">   8        </td> <td align=\"center\">   3      </td> <td align=\"center\">   0      </td> <td align=\"center\">   1/2    </td> <td align=\"center\">   1/2      </td> </tr>\n",
      "</tbody>\n",
      "</table>\n",
      "For $N=2$ there are 16 states with $M=0$; for $N=3$ there are 24 states with $M=1/2$, and for \n",
      "$N=4$ there are 36 states with $M=0$. \n",
      "\n",
      "\n",
      "In the shell-model context we can interpret this as 4 $s_{1/2}$ levels, with $m = \\pm 1/2$, we can also think of these are simple four pairs,  $\\pm k, k = 1,2,3,4$. Later on we will \n",
      "assign single-particle energies,  depending on the radial quantum number $n$, that is, \n",
      "$\\epsilon_k = |k| \\delta$ so that they are equally spaced.\n",
      "\n",
      "\n",
      "For application in the pairing model we can go further and consider only states with \n",
      "no \"broken pairs,\" that is, if $+k$ is filled (or $m = +1/2$, so is $-k$ ($m=-1/2$). \n",
      "If you want, you can write your code to accept only these, and obtain the following \n",
      "six states:\n",
      "\n",
      "* $|           1,           2 ,          3         ,       4  \\rangle , $\n",
      "\n",
      "* $|            1      ,     2        ,        5         ,       6 \\rangle , $\n",
      "\n",
      "* $|            1         ,       2     ,           7         ,       8  \\rangle , $\n",
      "\n",
      "* $|            3        ,        4      ,          5          ,      6  \\rangle , $\n",
      "\n",
      "* $|            3        ,        4      ,          7         ,       8  \\rangle , $\n",
      "\n",
      "* $|            5        ,        6     ,           7     ,           8  \\rangle $\n",
      "\n",
      "* Write small modules (routines/functions) ; avoid big functions  that do everything. (But not too small.)\n",
      "\n",
      "* Write lots of error traps, even for things that are `obvious.'\n",
      "\n",
      "* Document as you go along.  For each function write a header that includes: \n",
      "\n",
      "1. Main purpose of function\n",
      "\n",
      "2. names and  brief explanation of input variables, if any \n",
      "\n",
      "3. names and brief explanation of output variables, if any\n",
      "\n",
      "4. functions called by this function\n",
      "\n",
      "5. called by which functions\n",
      "\n",
      "\n",
      "Hints for coding\n",
      "\n",
      "* When debugging, print out intermediate values. It's almost impossible to debug a  code by looking at it--the code will almost always win a `staring contest.'\n",
      "\n",
      "* Validate code with SIMPLE CASES. Validate early and often.   \n",
      "\n",
      "The number one mistake is using a too complex a system to test. For example ,\n",
      "if you are computing particles in a potential in a box, try removing the potential--you should get \n",
      "particles in a box. And start with one particle, then two, then three... Don't start with \n",
      "eight particles.\n",
      "\n",
      "\n",
      "Our recommended occupation representation, e.g. $| 1,2,4,8 \\rangle$, is \n",
      "easy to code, but numerically inefficient when one has hundreds of \n",
      "millions of Slater determinants.\n",
      "\n",
      "\n",
      "In state-of-the-art shell-model codes, one generally uses bit \n",
      "representation, i.e. $|1101000100... \\rangle$ where one stores \n",
      "the Slater determinant as a single (or a small number of) integer.\n",
      "\n",
      "\n",
      "This is much more compact, but more intricate to code with considerable \n",
      "more overhead. There exist \n",
      "bit-manipulation functions. \n",
      "This is left as a challenge for those of you who would like to study this topic further for the final project to be presented for the oral examination.\n",
      "\n",
      "\n",
      "### Example case: pairing Hamiltonian\n",
      "\n",
      "We consider a space with $2\\Omega$ single-particle states, with each \n",
      "state labeled by \n",
      "$k = 1, 2, 3, \\Omega$ and $m = \\pm 1/2$. The convention is that \n",
      "the state with $k>0$ has $m = + 1/2$ while $-k$ has $m = -1/2$.\n",
      "\n",
      "\n",
      "The Hamiltonian we consider is"
     ]
    },
    {
     "cell_type": "markdown",
     "metadata": {},
     "source": [
      "$$\n",
      "\\hat{H} = -G \\hat{P}_+ \\hat{P}_-,\n",
      "$$"
     ]
    },
    {
     "cell_type": "markdown",
     "metadata": {},
     "source": [
      "where"
     ]
    },
    {
     "cell_type": "markdown",
     "metadata": {},
     "source": [
      "$$\n",
      "\\hat{P}_+ = \\sum_{k > 0} \\hat{a}^\\dagger_k \\hat{a}^\\dagger_{-{k}}.\n",
      "$$"
     ]
    },
    {
     "cell_type": "markdown",
     "metadata": {},
     "source": [
      "and $\\hat{P}_- = ( \\hat{P}_+)^\\dagger$.\n",
      "\n",
      "This problem can be solved using what is called the quasi-spin formalism to obtain the \n",
      "exact results. Thereafter we will try again using the explicit Slater determinant formalism.\n",
      "\n",
      "\n",
      "One can show (and this is part of the project) that"
     ]
    },
    {
     "cell_type": "markdown",
     "metadata": {},
     "source": [
      "$$\n",
      "\\left [ \\hat{P}_+, \\hat{P}_- \\right ] = \\sum_{k> 0} \\left( \\hat{a}^\\dagger_k \\hat{a}_k \n",
      "+ \\hat{a}^\\dagger_{-{k}} \\hat{a}_{-{k}} - 1 \\right) = \\hat{N} - \\Omega.\n",
      "$$"
     ]
    },
    {
     "cell_type": "markdown",
     "metadata": {},
     "source": [
      "Now define"
     ]
    },
    {
     "cell_type": "markdown",
     "metadata": {},
     "source": [
      "$$\n",
      "\\hat{P}_z = \\frac{1}{2} ( \\hat{N} -\\Omega).\n",
      "$$"
     ]
    },
    {
     "cell_type": "markdown",
     "metadata": {},
     "source": [
      "Finally you can show"
     ]
    },
    {
     "cell_type": "markdown",
     "metadata": {},
     "source": [
      "$$\n",
      "\\left [ \\hat{P}_z , \\hat{P}_\\pm \\right ] = \\pm \\hat{P}_\\pm.\n",
      "$$"
     ]
    },
    {
     "cell_type": "markdown",
     "metadata": {},
     "source": [
      "This means the operators $\\hat{P}_\\pm, \\hat{P}_z$ form a so-called  $SU(2)$ algebra, and we can \n",
      "use all our insights about angular momentum, even though there is no actual \n",
      "angular momentum involved (this is similar to project 1).\n",
      "\n",
      "So we rewrite the Hamiltonian to make this explicit:"
     ]
    },
    {
     "cell_type": "markdown",
     "metadata": {},
     "source": [
      "$$\n",
      "\\hat{H} = -G \\hat{P}_+ \\hat{P}_- \n",
      "= -G \\left( \\hat{P}^2 - \\hat{P}_z^2 + \\hat{P}_z\\right)\n",
      "$$"
     ]
    },
    {
     "cell_type": "markdown",
     "metadata": {},
     "source": [
      "Because of the SU(2) algebra, we know that the eigenvalues of \n",
      "$\\hat{P}^2$ must be of the form $p(p+1)$, with $p$ either integer or half-integer, and the eigenvalues of $\\hat{P}_z$ \n",
      "are $m_p$ with $p \\geq | m_p|$, with $m_p$ also integer or half-integer. \n",
      "\n",
      "\n",
      "But because $\\hat{P}_z = (1/2)(\\hat{N}-\\Omega)$, we know that for $N$ particles \n",
      "the value $m_p = (N-\\Omega)/2$. Furthermore, the values of $m_p$ range from \n",
      "$-\\Omega/2$ (for $N=0$) to $+\\Omega/2$ (for $N=2\\Omega$, with all states filled). \n",
      "\n",
      "We deduce the maximal $p = \\Omega/2$ and for a given $n$ the \n",
      "values range of $p$ range from $|N-\\Omega|/2$ to $\\Omega/2$ in steps of 1 \n",
      "(for an even number of particles) \n",
      "\n",
      "\n",
      "Following Racah we introduce the notation\n",
      "$p = (\\Omega - v)/2$\n",
      "where $v = 0, 2, 4,..., \\Omega - |N-\\Omega|$ \n",
      "With this it is easy to deduce that the eigenvalues of the pairing Hamiltonian are"
     ]
    },
    {
     "cell_type": "markdown",
     "metadata": {},
     "source": [
      "$$\n",
      "-G(N-v)(2\\Omega +2-N-v)/4\n",
      "$$"
     ]
    },
    {
     "cell_type": "markdown",
     "metadata": {},
     "source": [
      "This also works for $N$ odd, with $v= 1,3,5, \\dots$.\n",
      "\n",
      "\n",
      "\n",
      "Let's take a specific example: $\\Omega = 3$ so there are 6 single-particle states, \n",
      "and $N = 3$, with $v= 1,3$. Therefore there are two distinct eigenvalues,"
     ]
    },
    {
     "cell_type": "markdown",
     "metadata": {},
     "source": [
      "$$\n",
      "E = -2G, 0\n",
      "$$"
     ]
    },
    {
     "cell_type": "markdown",
     "metadata": {},
     "source": [
      "Now let's work this out explicitly. The single particle degrees of freedom are defined as\n",
      "\n",
      "<table border=\"1\">\n",
      "<thead>\n",
      "<tr><th align=\"center\">Index</th> <th align=\"center\">$k$</th> <th align=\"center\">$m$ </th> </tr>\n",
      "</thead>\n",
      "<tbody>\n",
      "<tr><td align=\"center\">   1        </td> <td align=\"center\">   1      </td> <td align=\"center\">   -1/2    </td> </tr>\n",
      "<tr><td align=\"center\">   2        </td> <td align=\"center\">   -1     </td> <td align=\"center\">   1/2     </td> </tr>\n",
      "<tr><td align=\"center\">   3        </td> <td align=\"center\">   2      </td> <td align=\"center\">   -1/2    </td> </tr>\n",
      "<tr><td align=\"center\">   4        </td> <td align=\"center\">   -2     </td> <td align=\"center\">   1/2     </td> </tr>\n",
      "<tr><td align=\"center\">   5        </td> <td align=\"center\">   3      </td> <td align=\"center\">   -1/2    </td> </tr>\n",
      "<tr><td align=\"center\">   6        </td> <td align=\"center\">   -3     </td> <td align=\"center\">   1/2     </td> </tr>\n",
      "</tbody>\n",
      "</table>\n",
      " There are  $\\left( \\begin{array}{c}6 \\\\ 3 \\end{array} \\right) = 20$ three-particle states, but there \n",
      "are 9 states with $M = +1/2$, namely\n",
      "$| 1,2,3 \\rangle, |1,2,5\\rangle, | 1,4,6 \\rangle, | 2,3,4 \\rangle, |2,3,6 \\rangle, | 2,4,5 \\rangle, | 2, 5, 6 \\rangle, |3,4,6 \\rangle, | 4,5,6 \\rangle$.\n",
      "\n",
      "\n",
      "\n",
      "\n",
      "\n",
      "\n",
      "\n",
      "\n",
      "\n",
      "\n",
      "\n",
      "In this basis, the operator"
     ]
    },
    {
     "cell_type": "markdown",
     "metadata": {},
     "source": [
      "$$\n",
      "\\hat{P}_+\n",
      "= \\hat{a}^\\dagger_1 \\hat{a}^\\dagger_2 + \\hat{a}^\\dagger_3 \\hat{a}^\\dagger_4 +\n",
      "\\hat{a}^\\dagger_5 \\hat{a}^\\dagger_6\n",
      "$$"
     ]
    },
    {
     "cell_type": "markdown",
     "metadata": {},
     "source": [
      "From this we can determine that"
     ]
    },
    {
     "cell_type": "markdown",
     "metadata": {},
     "source": [
      "$$\n",
      "\\hat{P}_- | 1, 4, 6 \\rangle = \\hat{P}_- | 2, 3, 6 \\rangle\n",
      "= \\hat{P}_- | 2, 4, 5 \\rangle = 0\n",
      "$$"
     ]
    },
    {
     "cell_type": "markdown",
     "metadata": {},
     "source": [
      "so those states all have eigenvalue 0.\n",
      "\n",
      "\n",
      "Now for further example,"
     ]
    },
    {
     "cell_type": "markdown",
     "metadata": {},
     "source": [
      "$$\n",
      "\\hat{P}_- | 1,2,3 \\rangle = | 3 \\rangle\n",
      "$$"
     ]
    },
    {
     "cell_type": "markdown",
     "metadata": {},
     "source": [
      "so"
     ]
    },
    {
     "cell_type": "markdown",
     "metadata": {},
     "source": [
      "$$\n",
      "\\hat{P}_+ \\hat{P}_- | 1,2,3\\rangle = | 1,2,3\\rangle+ | 3,4,3\\rangle + | 5,6,3\\rangle\n",
      "$$"
     ]
    },
    {
     "cell_type": "markdown",
     "metadata": {},
     "source": [
      "The second term vanishes because state 3 is occupied twice, and reordering the last \n",
      "term we\n",
      "get"
     ]
    },
    {
     "cell_type": "markdown",
     "metadata": {},
     "source": [
      "$$\n",
      "\\hat{P}_+ \\hat{P}_- | 1,2,3\\rangle = | 1,2,3\\rangle+ |3, 5,6\\rangle\n",
      "$$"
     ]
    },
    {
     "cell_type": "markdown",
     "metadata": {},
     "source": [
      "without picking up a phase.\n",
      "\n",
      "\n",
      "\n",
      "Continuing in this fashion, with the previous ordering of the many-body states\n",
      "(  $| 1,2,3 \\rangle, |1,2,5\\rangle, | 1,4,6 \\rangle, | 2,3,4 \\rangle, |2,3,6 \\rangle, | 2,4,5 \\rangle, | 2, 5, 6 \\rangle, |3,4,6 \\rangle, | 4,5,6 \\rangle$) the \n",
      "Hamiltonian matrix of this system is"
     ]
    },
    {
     "cell_type": "markdown",
     "metadata": {},
     "source": [
      "$$\n",
      "H = -G\\left( \n",
      "\\begin{array}{ccccccccc}\n",
      "1 & 0 & 0 & 0 & 0 & 0 & 0 & 0 & 1  \\\\\n",
      "0 & 1 & 0 & 0 & 0 & 0 & 0 & 1 & 0  \\\\\n",
      "0 & 0 & 0 & 0 & 0 & 0 & 0 & 0 & 0  \\\\\n",
      "0 & 0 & 0 & 1 & 0 & 0 & 1 & 0 & 0  \\\\\n",
      "0 & 0 & 0 & 0 & 0 & 0 & 0 & 0 & 0  \\\\\n",
      "0 & 0 & 0 & 0 & 0 & 0 & 0 & 0 & 0  \\\\\n",
      "0 & 0 & 0 & 1 & 0 & 0 & 1 & 0 & 0  \\\\\n",
      "0 & 0 & 0 & 0 & 0 & 0 & 0 & 0 & 0  \\\\\n",
      "0 & 1 & 0 & 0 & 0 & 0 & 0 & 1 & 0  \\\\\n",
      "1 & 0 & 0 & 0 & 0 & 0 & 0 & 0 & 1  \n",
      "\\end{array} \\right )\n",
      "$$"
     ]
    },
    {
     "cell_type": "markdown",
     "metadata": {},
     "source": [
      "This is useful for our project.  One can by hand confirm \n",
      "that there are 3 eigenvalues $-2G$ and 6 with value zero.\n",
      "\n",
      "\n",
      "\n",
      "Another example\n",
      "Using the $(1/2)^4$ single-particle space, resulting in eight single-particle states\n",
      "\n",
      "<table border=\"1\">\n",
      "<thead>\n",
      "<tr><th align=\"center\">Index</th> <th align=\"center\">$n$</th> <th align=\"center\">$l$</th> <th align=\"center\">$s$</th> <th align=\"center\">$m_s$</th> </tr>\n",
      "</thead>\n",
      "<tbody>\n",
      "<tr><td align=\"center\">   1        </td> <td align=\"center\">   0      </td> <td align=\"center\">   0      </td> <td align=\"center\">   1/2    </td> <td align=\"center\">   -1/2     </td> </tr>\n",
      "<tr><td align=\"center\">   2        </td> <td align=\"center\">   0      </td> <td align=\"center\">   0      </td> <td align=\"center\">   1/2    </td> <td align=\"center\">   1/2      </td> </tr>\n",
      "<tr><td align=\"center\">   3        </td> <td align=\"center\">   1      </td> <td align=\"center\">   0      </td> <td align=\"center\">   1/2    </td> <td align=\"center\">   -1/2     </td> </tr>\n",
      "<tr><td align=\"center\">   4        </td> <td align=\"center\">   1      </td> <td align=\"center\">   0      </td> <td align=\"center\">   1/2    </td> <td align=\"center\">   1/2      </td> </tr>\n",
      "<tr><td align=\"center\">   5        </td> <td align=\"center\">   2      </td> <td align=\"center\">   0      </td> <td align=\"center\">   1/2    </td> <td align=\"center\">   -1/2     </td> </tr>\n",
      "<tr><td align=\"center\">   6        </td> <td align=\"center\">   2      </td> <td align=\"center\">   0      </td> <td align=\"center\">   1/2    </td> <td align=\"center\">   1/2      </td> </tr>\n",
      "<tr><td align=\"center\">   7        </td> <td align=\"center\">   3      </td> <td align=\"center\">   0      </td> <td align=\"center\">   1/2    </td> <td align=\"center\">   -1/2     </td> </tr>\n",
      "<tr><td align=\"center\">   8        </td> <td align=\"center\">   3      </td> <td align=\"center\">   0      </td> <td align=\"center\">   1/2    </td> <td align=\"center\">   1/2      </td> </tr>\n",
      "</tbody>\n",
      "</table>\n",
      "and then taking only 4-particle, $M=0$ states that have no `broken pairs', there are six basis Slater \n",
      "determinants:\n",
      "\n",
      "* $|           1,           2 ,          3         ,       4  \\rangle , $\n",
      "\n",
      "* $|            1      ,     2        ,        5         ,       6 \\rangle , $\n",
      "\n",
      "* $|            1         ,       2     ,           7         ,       8  \\rangle , $\n",
      "\n",
      "* $|            3        ,        4      ,          5          ,      6  \\rangle , $\n",
      "\n",
      "* $|            3        ,        4      ,          7         ,       8  \\rangle , $\n",
      "\n",
      "* $|            5        ,        6     ,           7     ,           8  \\rangle $\n",
      "\n",
      "Now we take the following Hamiltonian"
     ]
    },
    {
     "cell_type": "markdown",
     "metadata": {},
     "source": [
      "$$\n",
      "\\hat{H} = \\sum_n n \\delta \\hat{N}_n  - G \\hat{P}^\\dagger \\hat{P}\n",
      "$$"
     ]
    },
    {
     "cell_type": "markdown",
     "metadata": {},
     "source": [
      "where"
     ]
    },
    {
     "cell_type": "markdown",
     "metadata": {},
     "source": [
      "$$\n",
      "\\hat{N}_n = \\hat{a}^\\dagger_{n, m=+1/2} \\hat{a}_{n, m=+1/2} +\n",
      "\\hat{a}^\\dagger_{n, m=-1/2} \\hat{a}_{n, m=-1/2}\n",
      "$$"
     ]
    },
    {
     "cell_type": "markdown",
     "metadata": {},
     "source": [
      "and"
     ]
    },
    {
     "cell_type": "markdown",
     "metadata": {},
     "source": [
      "$$\n",
      "\\hat{P}^\\dagger = \\sum_{n} \\hat{a}^\\dagger_{n, m=+1/2} \\hat{a}^\\dagger_{n, m=-1/2}\n",
      "$$"
     ]
    },
    {
     "cell_type": "markdown",
     "metadata": {},
     "source": [
      "We can write down the $ 6 \\times 6$  Hamiltonian in the basis from the prior slide:"
     ]
    },
    {
     "cell_type": "markdown",
     "metadata": {},
     "source": [
      "$$\n",
      "H = \\left ( \n",
      "\\begin{array}{cccccc}\n",
      "2\\delta -2G & -G & -G & -G & -G & 0 \\\\\n",
      " -G & 4\\delta -2G & -G & -G & -0 & -G \\\\\n",
      "-G & -G & 6\\delta -2G & 0 & -G & -G \\\\\n",
      " -G & -G & 0 & 6\\delta-2G & -G & -G \\\\\n",
      " -G & 0 & -G & -G & 8\\delta-2G & -G \\\\\n",
      "0 & -G & -G & -G & -G & 10\\delta -2G \n",
      "\\end{array} \\right )\n",
      "$$"
     ]
    },
    {
     "cell_type": "markdown",
     "metadata": {},
     "source": [
      "(You should check by hand that this is correct.) \n",
      "\n",
      "For $\\delta = 0$ we have the closed form solution of  the g.s. energy given by $-6G$.\n",
      "\n",
      "\n",
      "\n",
      "\n",
      "\n",
      "\n",
      "\n",
      "\n",
      "\n",
      "\n",
      "### Angular momentum algebra, Wigner-Eckart theorem\n",
      "\n",
      "* We need to define the so-called $6j$ and $9j$ symbols\n",
      "\n",
      "* The Wigner-Eckart theorem\n",
      "\n",
      "* We will also study  some specific examples, like the calculation of the tensor force.\n",
      "\n",
      "We define an irreducible  spherical tensor $T^{\\lambda}_{\\mu}$ of rank $\\lambda$ as an operator with $2\\lambda+1$ components $\\mu$ \n",
      "that satisfies the commutation relations ($\\hbar=1$)"
     ]
    },
    {
     "cell_type": "markdown",
     "metadata": {},
     "source": [
      "$$\n",
      "[J_{\\pm}, T^{\\lambda}_{\\mu}]= \\sqrt{(\\lambda\\mp \\mu)(\\lambda\\pm \\mu+1)}T^{\\lambda}_{\\mu\\pm 1},\n",
      "$$"
     ]
    },
    {
     "cell_type": "markdown",
     "metadata": {},
     "source": [
      "and"
     ]
    },
    {
     "cell_type": "markdown",
     "metadata": {},
     "source": [
      "$$\n",
      "[J_{z}, T^{\\lambda}_{\\mu}]=\\mu T^{\\lambda}_{\\mu}.\n",
      "$$"
     ]
    },
    {
     "cell_type": "markdown",
     "metadata": {},
     "source": [
      "Our angular momentum coupled two-body wave function obeys clearly this definition, namely"
     ]
    },
    {
     "cell_type": "markdown",
     "metadata": {},
     "source": [
      "$$\n",
      "|(ab)JM\\rangle  = \\left\\{a^{\\dagger}_aa^{\\dagger}_b\\right\\}^J_M|\\Phi_0\\rangle=N_{ab}\\sum_{m_am_b}\\langle j_am_aj_bm_b|JM\\rangle|\\Phi^{ab}\\rangle,\n",
      "$$"
     ]
    },
    {
     "cell_type": "markdown",
     "metadata": {},
     "source": [
      "is a tensor of rank $J$ with $M$ components. Another well-known example is given by the spherical harmonics (see examples during today's lecture). \n",
      "\n",
      "The product of two irreducible tensor operators"
     ]
    },
    {
     "cell_type": "markdown",
     "metadata": {},
     "source": [
      "$$\n",
      "T^{\\lambda_3}_{\\mu_3}=\\sum_{\\mu_1\\mu_2}\\langle \\lambda_1\\mu_1\\lambda_2\\mu_2|\\lambda_3\\mu_3\\rangle T^{\\lambda_1}_{\\mu_1}T^{\\lambda_2}_{\\mu_2}\n",
      "$$"
     ]
    },
    {
     "cell_type": "markdown",
     "metadata": {},
     "source": [
      "is also a tensor operator of rank $\\lambda_3$. \n",
      "\n",
      "\n",
      "We wish to apply the above definitions to the computations of a matrix element"
     ]
    },
    {
     "cell_type": "markdown",
     "metadata": {},
     "source": [
      "$$\n",
      "\\langle \\Phi^J_M|T^{\\lambda}_{\\mu}|\\Phi^{J'}_{M'}\\rangle,\n",
      "$$"
     ]
    },
    {
     "cell_type": "markdown",
     "metadata": {},
     "source": [
      "where we have skipped a reference to specific single-particle states. This is the expectation value for two specific states, labelled by angular momenta $J'$ and $J$. These states form an orthonormal basis.\n",
      "Using the properties of the Clebsch-Gordan coefficients we can write"
     ]
    },
    {
     "cell_type": "markdown",
     "metadata": {},
     "source": [
      "$$\n",
      "T^{\\lambda}_{\\mu}|\\Phi^{J'}_{M'}\\rangle=\\sum_{J''M''}\\langle \\lambda \\mu J'M'|J''M''\\rangle|\\Psi^{J''}_{M''}\\rangle,\n",
      "$$"
     ]
    },
    {
     "cell_type": "markdown",
     "metadata": {},
     "source": [
      "and assuming that states with different $J$ and $M$ are orthonormal we arrive at"
     ]
    },
    {
     "cell_type": "markdown",
     "metadata": {},
     "source": [
      "$$\n",
      "\\langle \\Phi^J_M|T^{\\lambda}_{\\mu}|\\Phi^{J'}_{M'}\\rangle= \\langle \\lambda \\mu J'M'|JM\\rangle \\langle \\Phi^J_M|\\Psi^{J}_{M}\\rangle.\n",
      "$$"
     ]
    },
    {
     "cell_type": "markdown",
     "metadata": {},
     "source": [
      "We need to show that"
     ]
    },
    {
     "cell_type": "markdown",
     "metadata": {},
     "source": [
      "$$\n",
      "\\langle \\Phi^J_M|\\Psi^{J}_{M}\\rangle,\n",
      "$$"
     ]
    },
    {
     "cell_type": "markdown",
     "metadata": {},
     "source": [
      "is independent of $M$.\n",
      "To show that"
     ]
    },
    {
     "cell_type": "markdown",
     "metadata": {},
     "source": [
      "$$\n",
      "\\langle \\Phi^J_M|\\Psi^{J}_{M}\\rangle,\n",
      "$$"
     ]
    },
    {
     "cell_type": "markdown",
     "metadata": {},
     "source": [
      "is independent of $M$, we use the ladder operators for angular momentum.\n",
      "\n",
      "\n",
      " We have that"
     ]
    },
    {
     "cell_type": "markdown",
     "metadata": {},
     "source": [
      "$$\n",
      "\\langle \\Phi^J_{M+1}|\\Psi^{J}_{M+1}\\rangle=\\left((J-M)(J+M+1)\\right)^{-1/2}\\langle \\hat{J}_{+}\\Phi^J_{M}|\\Psi^{J}_{M+1}\\rangle,\n",
      "$$"
     ]
    },
    {
     "cell_type": "markdown",
     "metadata": {},
     "source": [
      "but this is also equal to"
     ]
    },
    {
     "cell_type": "markdown",
     "metadata": {},
     "source": [
      "$$\n",
      "\\langle \\Phi^J_{M+1}|\\Psi^{J}_{M+1}\\rangle=\\left((J-M)(J+M+1)\\right)^{-1/2}\\langle \\Phi^J_{M}|\\hat{J}_{-}\\Psi^{J}_{M+1}\\rangle,\n",
      "$$"
     ]
    },
    {
     "cell_type": "markdown",
     "metadata": {},
     "source": [
      "meaning that"
     ]
    },
    {
     "cell_type": "markdown",
     "metadata": {},
     "source": [
      "$$\n",
      "\\langle \\Phi^J_{M+1}|\\Psi^{J}_{M+1}\\rangle=\\langle \\Phi^J_M|\\Psi^{J}_{M}\\rangle\\equiv\\langle \\Phi^J_{M}||T^{\\lambda}||\\Phi^{J'}_{M'}\\rangle.\n",
      "$$"
     ]
    },
    {
     "cell_type": "markdown",
     "metadata": {},
     "source": [
      "The double bars indicate that this expectation value is independent of the projection $M$.\n",
      "\n",
      "\n",
      "The Wigner-Eckart theorem for an expectation value can then be written as"
     ]
    },
    {
     "cell_type": "markdown",
     "metadata": {},
     "source": [
      "$$\n",
      "\\langle \\Phi^J_M|T^{\\lambda}_{\\mu}|\\Phi^{J'}_{M'}\\rangle\\equiv\\langle \\lambda \\mu J'M'|JM\\rangle\\langle \\Phi^J||T^{\\lambda}||\\Phi^{J'}\\rangle.\n",
      "$$"
     ]
    },
    {
     "cell_type": "markdown",
     "metadata": {},
     "source": [
      "The double bars indicate that this expectation value is independent of the projection $M$.\n",
      "We can manipulate the Clebsch-Gordan coefficients using the relations"
     ]
    },
    {
     "cell_type": "markdown",
     "metadata": {},
     "source": [
      "$$\n",
      "\\langle \\lambda \\mu J'M'|JM\\rangle= (-1)^{\\lambda+J'-J}\\langle J'M'\\lambda \\mu |JM\\rangle\n",
      "$$"
     ]
    },
    {
     "cell_type": "markdown",
     "metadata": {},
     "source": [
      "and"
     ]
    },
    {
     "cell_type": "markdown",
     "metadata": {},
     "source": [
      "$$\n",
      "\\langle J'M'\\lambda \\mu |JM\\rangle =(-1)^{J'-M'}\\frac{\\sqrt{2J+1}}{\\sqrt{2\\lambda+1}}\\langle J'M'J-M |\\lambda-\\mu\\rangle,\n",
      "$$"
     ]
    },
    {
     "cell_type": "markdown",
     "metadata": {},
     "source": [
      "together with the so-called $3j$ symbols.\n",
      "It is then normal to encounter the Wigner-Eckart theorem in the form"
     ]
    },
    {
     "cell_type": "markdown",
     "metadata": {},
     "source": [
      "$$\n",
      "\\langle \\Phi^J_M|T^{\\lambda}_{\\mu}|\\Phi^{J'}_{M'}\\rangle\\equiv(-1)^{J-M}\\left(\\begin{array}{ccc}  J & \\lambda & J' \\\\ -M & \\mu & M'\\end{array}\\right)\\langle \\Phi^J||T^{\\lambda}||\\Phi^{J'}\\rangle,\n",
      "$$"
     ]
    },
    {
     "cell_type": "markdown",
     "metadata": {},
     "source": [
      "with the condition $\\mu+M'-M=0$.\n",
      "\n",
      "The $3j$ symbols obey the symmetry relation"
     ]
    },
    {
     "cell_type": "markdown",
     "metadata": {},
     "source": [
      "$$\n",
      "\\left(\\begin{array}{ccc}  j_1 & j_2 & j_3 \\\\ m_1 & m_2 & m_3\\end{array}\\right)=(-1)^{p}\\left(\\begin{array}{ccc}  j_a & j_b & j_c \\\\ m_a & m_b & m_c\\end{array}\\right),\n",
      "$$"
     ]
    },
    {
     "cell_type": "markdown",
     "metadata": {},
     "source": [
      "with $(-1)^p=1$ when the columns $a,b, c$ are even permutations of the columns $1,2,3$, $p=j_1+j_2+j_3$ when the columns $a,b,c$ are odd permtations of the\n",
      "columns $1,2,3$ and $p=j_1+j_2+j_3$ when all the magnetic quantum numbers $m_i$ change sign. Their orthogonality is given by"
     ]
    },
    {
     "cell_type": "markdown",
     "metadata": {},
     "source": [
      "$$\n",
      "\\sum_{j_3m_3}(2j_3+1)\\left(\\begin{array}{ccc}  j_1 & j_2 & j_3 \\\\ m_1 & m_2 & m_3\\end{array}\\right)\\left(\\begin{array}{ccc}  j_1 & j_2 & j_3 \\\\ m_{1'} & m_{2'} & m_3\\end{array}\\right)=\\delta_{m_1m_{1'}}\\delta_{m_2m_{2'}},\n",
      "$$"
     ]
    },
    {
     "cell_type": "markdown",
     "metadata": {},
     "source": [
      "and"
     ]
    },
    {
     "cell_type": "markdown",
     "metadata": {},
     "source": [
      "$$\n",
      "\\sum_{m_1m_2}\\left(\\begin{array}{ccc}  j_1 & j_2 & j_3 \\\\ m_1 & m_2 & m_3\\end{array}\\right)\\left(\\begin{array}{ccc}  j_1 & j_2 & j_{3'} \\\\ m_{1} & m_{2} & m_{3'}\\end{array}\\right)=\\frac{1}{(2j_3+1)}\\delta_{j_3j_{3'}}\\delta_{m_3m_{3'}}.\n",
      "$$"
     ]
    },
    {
     "cell_type": "markdown",
     "metadata": {},
     "source": [
      "For later use, the following special cases for the Clebsch-Gordan and $3j$ symbols are rather useful\n",
      "\\[\n",
      "\\langle JM J'M' |00\\rangle =\\frac{(-1)^{J-M}}{\\sqrt{2J+1}}\\delta_{JJ'}\\delta_{MM'}.\n",
      "\\] \n",
      "and \n",
      "\\[\n",
      "\\left(\\begin{array}{ccc}  J & 1 & J \\\\ -M & 0 & M'\\end{array}\\right)=(-1)^{J-M}\\frac{M}{\\sqrt{(2J+1)(J+1)}}\\delta_{MM'}.\n",
      "\\]\n",
      "\n",
      "Using $3j$ symbols we rewrote the Wigner-Eckart theorem as"
     ]
    },
    {
     "cell_type": "markdown",
     "metadata": {},
     "source": [
      "$$\n",
      "\\langle \\Phi^J_M|T^{\\lambda}_{\\mu}|\\Phi^{J'}_{M'}\\rangle\\equiv(-1)^{J-M}\\left(\\begin{array}{ccc}  J & \\lambda & J' \\\\ -M & \\mu & M'\\end{array}\\right)\\langle \\Phi^J||T^{\\lambda}||\\Phi^{J'}\\rangle.\n",
      "$$"
     ]
    },
    {
     "cell_type": "markdown",
     "metadata": {},
     "source": [
      "Multiplying from the left with the same $3j$ symbol and summing over $M,\\mu,M'$ we obtain the equivalent relation"
     ]
    },
    {
     "cell_type": "markdown",
     "metadata": {},
     "source": [
      "$$\n",
      "\\langle \\Phi^J||T^{\\lambda}||\\Phi^{J'}\\rangle\\equiv\\sum_{M,\\mu,M'}(-1)^{J-M}\\left(\\begin{array}{ccc}  J & \\lambda & J' \\\\ -M & \\mu & M'\\end{array}\\right)\\langle \\Phi^J_M|T^{\\lambda}_{\\mu}|\\Phi^{J'}_{M'}\\rangle,\n",
      "$$"
     ]
    },
    {
     "cell_type": "markdown",
     "metadata": {},
     "source": [
      "where we used the orthogonality properties of the $3j$ symbols from the previous page.\n",
      "\n",
      "This relation can in turn be used to compute the expectation value of some simple reduced matrix elements like"
     ]
    },
    {
     "cell_type": "markdown",
     "metadata": {},
     "source": [
      "$$\n",
      "\\langle \\Phi^J||{\\bf 1}||\\Phi^{J'}\\rangle=\\sum_{M,M'}(-1)^{J-M}\\left(\\begin{array}{ccc}  J & 0 & J' \\\\ -M & 0 & M'\\end{array}\\right)\\langle \\Phi^J_M|1|\\Phi^{J'}_{M'}\\rangle=\\sqrt{2J+1}\\delta_{JJ'}\\delta_{MM'},\n",
      "$$"
     ]
    },
    {
     "cell_type": "markdown",
     "metadata": {},
     "source": [
      "where we used"
     ]
    },
    {
     "cell_type": "markdown",
     "metadata": {},
     "source": [
      "$$\n",
      "\\langle JM J'M' |00\\rangle =\\frac{(-1)^{J-M}}{\\sqrt{2J+1}}\\delta_{JJ'}\\delta_{MM'}.\n",
      "$$"
     ]
    },
    {
     "cell_type": "markdown",
     "metadata": {},
     "source": [
      "Similarly, using"
     ]
    },
    {
     "cell_type": "markdown",
     "metadata": {},
     "source": [
      "$$\n",
      "\\left(\\begin{array}{ccc}  J & 1 & J \\\\ -M & 0 & M'\\end{array}\\right)=(-1)^{J-M}\\frac{M}{\\sqrt{(2J+1)(J+1)}}\\delta_{MM'},\n",
      "$$"
     ]
    },
    {
     "cell_type": "markdown",
     "metadata": {},
     "source": [
      "we have that"
     ]
    },
    {
     "cell_type": "markdown",
     "metadata": {},
     "source": [
      "$$\n",
      "\\langle \\Phi^J||{\\bf J}||\\Phi^{J}\\rangle=\\sum_{M,M'}(-1)^{J-M}\\left(\\begin{array}{ccc}  J & 1 & J' \\\\ -M & 0 & M'\\end{array}\\right)\\langle \\Phi^J_M|j_Z|\\Phi^{J'}_{M'}\\rangle=\\sqrt{J(J+1)(2J+1)}\n",
      "$$"
     ]
    },
    {
     "cell_type": "markdown",
     "metadata": {},
     "source": [
      "With the Pauli spin matrices $\\sigma$ and a state with $J=1/2$, the reduced matrix element"
     ]
    },
    {
     "cell_type": "markdown",
     "metadata": {},
     "source": [
      "$$\n",
      "\\langle \\frac{1}{2}||{\\bf \\sigma}||\\frac{1}{2}\\rangle=\\sqrt{6}.\n",
      "$$"
     ]
    },
    {
     "cell_type": "markdown",
     "metadata": {},
     "source": [
      "Before we proceed with further examples, we need some other properties of the Wigner-Eckart theorem plus some additional angular momenta relations.\n",
      "\n",
      "\n",
      "The Wigner-Eckart theorem states that the  expectation value for an irreducible spherical tensor can be written as"
     ]
    },
    {
     "cell_type": "markdown",
     "metadata": {},
     "source": [
      "$$\n",
      "\\langle \\Phi^J_M|T^{\\lambda}_{\\mu}|\\Phi^{J'}_{M'}\\rangle\\equiv\\langle \\lambda \\mu J'M'|JM\\rangle\\langle \\Phi^J||T^{\\lambda}||\\Phi^{J'}\\rangle.\n",
      "$$"
     ]
    },
    {
     "cell_type": "markdown",
     "metadata": {},
     "source": [
      "Since the Clebsch-Gordan coefficients themselves are easy to evaluate, the interesting quantity is the reduced matrix element. Note also that \n",
      "the Clebsch-Gordan coefficients limit via the triangular relation among $\\lambda$, $J$ and $J'$ the possible non-zero values.\n",
      "\n",
      "From the theorem we see also that"
     ]
    },
    {
     "cell_type": "markdown",
     "metadata": {},
     "source": [
      "$$\n",
      "\\langle \\Phi^J_M|T^{\\lambda}_{\\mu}|\\Phi^{J'}_{M'}\\rangle=\\frac{\\langle \\lambda \\mu J'M'|JM\\rangle\\langle }{\\langle \\lambda \\mu_0 J'M'_0|JM_0\\rangle\\langle }\\langle \\Phi^J_{M_0}|T^{\\lambda}_{\\mu_0}|\\Phi^{J'}_{M'_0}\\rangle,\n",
      "$$"
     ]
    },
    {
     "cell_type": "markdown",
     "metadata": {},
     "source": [
      "meaning that if we know the matrix elements for say some $\\mu=\\mu_0$, $M'=M'_0$ and $M=M_0$ we can calculate all other. \n",
      "\n",
      "\n",
      "\n",
      "If we look at the hermitian adjoint of the operator $T^{\\lambda}_{\\mu}$, \n",
      "we see via the commutation relations that $(T^{\\lambda}_{\\mu})^{\\dagger}$ is not an irreducible tensor, that is"
     ]
    },
    {
     "cell_type": "markdown",
     "metadata": {},
     "source": [
      "$$\n",
      "[J_{\\pm}, (T^{\\lambda}_{\\mu})^{\\dagger}]= -\\sqrt{(\\lambda\\pm \\mu)(\\lambda\\mp \\mu+1)}(T^{\\lambda}_{\\mu\\mp 1})^{\\dagger},\n",
      "$$"
     ]
    },
    {
     "cell_type": "markdown",
     "metadata": {},
     "source": [
      "and"
     ]
    },
    {
     "cell_type": "markdown",
     "metadata": {},
     "source": [
      "$$\n",
      "[J_{z}, (T^{\\lambda}_{\\mu})^{\\dagger}]=-\\mu (T^{\\lambda}_{\\mu})^{\\dagger}.\n",
      "$$"
     ]
    },
    {
     "cell_type": "markdown",
     "metadata": {},
     "source": [
      "The hermitian adjoint $(T^{\\lambda}_{\\mu})^{\\dagger}$ is not an irreducible tensor. As an example, consider the spherical harmonics for \n",
      "$l=1$ and $m_l=\\pm 1$. These functions are"
     ]
    },
    {
     "cell_type": "markdown",
     "metadata": {},
     "source": [
      "$$\n",
      "Y^{l=1}_{m_l=1}(\\theta,\\phi)=-\\sqrt{\\frac{3}{8\\pi}}\\sin{(\\theta)}\\exp{\\imath\\phi},\n",
      "$$"
     ]
    },
    {
     "cell_type": "markdown",
     "metadata": {},
     "source": [
      "and"
     ]
    },
    {
     "cell_type": "markdown",
     "metadata": {},
     "source": [
      "$$\n",
      "Y^{l=1}_{m_l=-1}(\\theta,\\phi)=\\sqrt{\\frac{3}{8\\pi}}\\sin{(\\theta)}\\exp{-\\imath\\phi},\n",
      "$$"
     ]
    },
    {
     "cell_type": "markdown",
     "metadata": {},
     "source": [
      "It is easy to see that the Hermitian adjoint of these two functions"
     ]
    },
    {
     "cell_type": "markdown",
     "metadata": {},
     "source": [
      "$$\n",
      "\\left[Y^{l=1}_{m_l=1}(\\theta,\\phi)\\right]^{\\dagger}=-\\sqrt{\\frac{3}{8\\pi}}\\sin{(\\theta)}\\exp{-\\imath\\phi},\n",
      "$$"
     ]
    },
    {
     "cell_type": "markdown",
     "metadata": {},
     "source": [
      "and"
     ]
    },
    {
     "cell_type": "markdown",
     "metadata": {},
     "source": [
      "$$\n",
      "\\left[Y^{l=1}_{m_l=-1}(\\theta,\\phi)\\right]^{\\dagger}=\\sqrt{\\frac{3}{8\\pi}}\\sin{(\\theta)}\\exp{\\imath\\phi},\n",
      "$$"
     ]
    },
    {
     "cell_type": "markdown",
     "metadata": {},
     "source": [
      "do not behave as a spherical tensor. However, the modified quantity"
     ]
    },
    {
     "cell_type": "markdown",
     "metadata": {},
     "source": [
      "$$\n",
      "\\tilde{T}^{\\lambda}_{\\mu}=(-1)^{\\lambda+\\mu}(T^{\\lambda}_{-\\mu})^{\\dagger},\n",
      "$$"
     ]
    },
    {
     "cell_type": "markdown",
     "metadata": {},
     "source": [
      "does satisfy the above commutation relations.\n",
      "\n",
      "\n",
      "\n",
      "\n",
      "\n",
      "With the modified quantity"
     ]
    },
    {
     "cell_type": "markdown",
     "metadata": {},
     "source": [
      "$$\n",
      "\\tilde{T}^{\\lambda}_{\\mu}=(-1)^{\\lambda+\\mu}(T^{\\lambda}_{-\\mu})^{\\dagger},\n",
      "$$"
     ]
    },
    {
     "cell_type": "markdown",
     "metadata": {},
     "source": [
      "we can then define the expectation value"
     ]
    },
    {
     "cell_type": "markdown",
     "metadata": {},
     "source": [
      "$$\n",
      "\\langle \\Phi^J_M|T^{\\lambda}_{\\mu}|\\Phi^{J'}_{M'}\\rangle^{\\dagger} = \\langle \\lambda \\mu J'M'|JM\\rangle\\langle \\Phi^J||T^{\\lambda}||\\Phi^{J'}\\rangle^*,\n",
      "$$"
     ]
    },
    {
     "cell_type": "markdown",
     "metadata": {},
     "source": [
      "since the Clebsch-Gordan coefficients are real. The rhs is equivalent with"
     ]
    },
    {
     "cell_type": "markdown",
     "metadata": {},
     "source": [
      "$$\n",
      "\\langle \\lambda \\mu J'M'|JM\\rangle\\langle \\Phi^J||T^{\\lambda}||\\Phi^{J'}\\rangle^*=\\langle \\Phi^{J'}_{M'}|(T^{\\lambda}_{\\mu})^{\\dagger}|\\Phi^{J}_{M}\\rangle,\n",
      "$$"
     ]
    },
    {
     "cell_type": "markdown",
     "metadata": {},
     "source": [
      "which is equal to"
     ]
    },
    {
     "cell_type": "markdown",
     "metadata": {},
     "source": [
      "$$\n",
      "\\langle \\Phi^{J'}_{M'}|(T^{\\lambda}_{\\mu})^{\\dagger}|\\Phi^{J}_{M}\\rangle=(-1)^{-\\lambda+\\mu}\\langle \\lambda -\\mu JM|J'M'\\rangle\\langle \\Phi^{J'}||\\tilde{T}^{\\lambda}||\\Phi^{J}\\rangle.\n",
      "$$"
     ]
    },
    {
     "cell_type": "markdown",
     "metadata": {},
     "source": [
      "We have till now seen the following definitions of a two-body matrix elements \n",
      "with quantum numbers $p=j_pm_p$ etc we have a two-body state defined as"
     ]
    },
    {
     "cell_type": "markdown",
     "metadata": {},
     "source": [
      "$$\n",
      "|(pq)M\\rangle  = a^{\\dagger}_pa^{\\dagger}_q|\\Phi_0\\rangle,\n",
      "$$"
     ]
    },
    {
     "cell_type": "markdown",
     "metadata": {},
     "source": [
      "where $|\\Phi_0\\rangle$ is a chosen reference state, say for example the Slater determinant which approximates \n",
      "${}^{16}\\mbox{O}$ with the $0s$ and the $0p$ shells being filled, and $M=m_p+m_q$. Recall that we label single-particle states above the Fermi level as $abcd\\dots$ and states below the Fermi level for $ijkl\\dots$.  \n",
      "In case of two-particles in the single-particle states $a$ and $b$ outside ${}^{16}\\mbox{O}$ as a closed shell core, say ${}^{18}\\mbox{O}$, \n",
      "we would write the representation of the Slater determinant as"
     ]
    },
    {
     "cell_type": "markdown",
     "metadata": {},
     "source": [
      "$$\n",
      "|^{18}\\mathrm{O}\\rangle =|(ab)M\\rangle  = a^{\\dagger}_aa^{\\dagger}_b|^{16}\\mathrm{O}\\rangle=|\\Phi^{ab}\\rangle.\n",
      "$$"
     ]
    },
    {
     "cell_type": "markdown",
     "metadata": {},
     "source": [
      "In case of two-particles removed from say ${}^{16}\\mbox{O}$, for example two neutrons in the single-particle states $i$ and $j$, we would write this as"
     ]
    },
    {
     "cell_type": "markdown",
     "metadata": {},
     "source": [
      "$$\n",
      "|^{14}\\mathrm{O}\\rangle =|(ij)M\\rangle  = a_ja_i|^{16}\\mathrm{O}\\rangle=|\\Phi_{ij}\\rangle.\n",
      "$$"
     ]
    },
    {
     "cell_type": "markdown",
     "metadata": {},
     "source": [
      "For a one-hole-one-particle state we have"
     ]
    },
    {
     "cell_type": "markdown",
     "metadata": {},
     "source": [
      "$$\n",
      "|^{16}\\mathrm{O}\\rangle_{1p1h} =|(ai)M\\rangle  = a_a^{\\dagger}a_i|^{16}\\mathrm{O}\\rangle=|\\Phi_{i}^a\\rangle,\n",
      "$$"
     ]
    },
    {
     "cell_type": "markdown",
     "metadata": {},
     "source": [
      "and finally for a two-particle-two-hole state we"
     ]
    },
    {
     "cell_type": "markdown",
     "metadata": {},
     "source": [
      "$$\n",
      "|^{16}\\mathrm{O}\\rangle_{2p2h} =|(abij)M\\rangle  = a_a^{\\dagger}a_b^{\\dagger}a_ja_i|^{16}\\mathrm{O}\\rangle=|\\Phi_{ij}^{ab}\\rangle.\n",
      "$$"
     ]
    },
    {
     "cell_type": "markdown",
     "metadata": {},
     "source": [
      "Let us go back to the case of two-particles in the single-particle states $a$ and $b$ outside ${}^{16}\\mbox{O}$ as a closed shell core, say ${}^{18}\\mbox{O}$.\n",
      "The representation of the Slater determinant is"
     ]
    },
    {
     "cell_type": "markdown",
     "metadata": {},
     "source": [
      "$$\n",
      "|^{18}\\mathrm{O}\\rangle =|(ab)M\\rangle  = a^{\\dagger}_aa^{\\dagger}_b|^{16}\\mathrm{O}\\rangle=|\\Phi^{ab}\\rangle.\n",
      "$$"
     ]
    },
    {
     "cell_type": "markdown",
     "metadata": {},
     "source": [
      "The anti-symmetrized matrix element is detailed as"
     ]
    },
    {
     "cell_type": "markdown",
     "metadata": {},
     "source": [
      "$$\n",
      "\\langle (ab) M | \\hat{V} | (cd) M \\rangle = \\langle (j_am_aj_bm_b)M=m_a+m_b |  \\hat{V} | (j_cm_cj_dm_d)M=m_a+m_b \\rangle,\n",
      "$$"
     ]
    },
    {
     "cell_type": "markdown",
     "metadata": {},
     "source": [
      "and note that anti-symmetrization means"
     ]
    },
    {
     "cell_type": "markdown",
     "metadata": {},
     "source": [
      "8\n",
      "2\n",
      "8\n",
      " \n",
      "<\n",
      "<\n",
      "<\n",
      "!\n",
      "!\n",
      "M\n",
      "A\n",
      "T\n",
      "H\n",
      "_\n",
      "B\n",
      "L\n",
      "O\n",
      "C\n",
      "K"
     ]
    },
    {
     "cell_type": "markdown",
     "metadata": {},
     "source": [
      "$$\n",
      "\\langle (ab) M | \\hat{V} | (cd) M \\rangle =-\\langle (ab) M | \\hat{V} | (dc) M \\rangle.\n",
      "$$"
     ]
    },
    {
     "cell_type": "markdown",
     "metadata": {},
     "source": [
      "This matrix element is the expectation value of"
     ]
    },
    {
     "cell_type": "markdown",
     "metadata": {},
     "source": [
      "$$\n",
      "\\langle ^{16}\\mathrm{O}|a_ba_a\\frac{1}{4}\\sum_{pqrs}\\langle (pq) M | \\hat{V} | (rs) M' \\rangle a^{\\dagger}_pa^{\\dagger}_qa_sa_r a^{\\dagger}_ca^{\\dagger}_c|^{16}\\mathrm{O}\\rangle.\n",
      "$$"
     ]
    },
    {
     "cell_type": "markdown",
     "metadata": {},
     "source": [
      "We have also defined matrix elements in the coupled basis, the so-called $J$-coupled scheme.\n",
      "In this case the two-body wave function for two neutrons outside ${}^{16}\\mbox{O}$ is written as"
     ]
    },
    {
     "cell_type": "markdown",
     "metadata": {},
     "source": [
      "$$\n",
      "|^{18}\\mathrm{O}\\rangle_J =|(ab)JM\\rangle  = \\left\\{a^{\\dagger}_aa^{\\dagger}_b\\right\\}^J_M|^{16}\\mathrm{O}\\rangle=N_{ab}\\sum_{m_am_b}\\langle j_am_aj_bm_b|JM\\rangle|\\Phi^{ab}\\rangle,\n",
      "$$"
     ]
    },
    {
     "cell_type": "markdown",
     "metadata": {},
     "source": [
      "with"
     ]
    },
    {
     "cell_type": "markdown",
     "metadata": {},
     "source": [
      "$$\n",
      "|\\Phi^{ab}\\rangle=a^{\\dagger}_aa^{\\dagger}_b|^{16}\\mathrm{O}\\rangle.\n",
      "$$"
     ]
    },
    {
     "cell_type": "markdown",
     "metadata": {},
     "source": [
      "We have now an explicit coupling order, where the angular momentum $j_a$ is coupled to the angular momentum $j_b$ to yield a final two-body angular momentum $J$. \n",
      "The normalization factor is"
     ]
    },
    {
     "cell_type": "markdown",
     "metadata": {},
     "source": [
      "$$\n",
      "N_{ab}=\\frac{\\sqrt{1+\\delta_{ab}\\times (-1)^J}}{1+\\delta_{ab}}.\n",
      "$$"
     ]
    },
    {
     "cell_type": "markdown",
     "metadata": {},
     "source": [
      "The implementation of the Pauli principle looks different in the $J$-scheme compared with the $m$-scheme. In the latter, no two fermions or more can have the same set of quantum numbers. In the $J$-scheme, when we write a state with the shorthand"
     ]
    },
    {
     "cell_type": "markdown",
     "metadata": {},
     "source": [
      "$$\n",
      "|^{18}\\mathrm{O}\\rangle_J =|(ab)JM\\rangle,\n",
      "$$"
     ]
    },
    {
     "cell_type": "markdown",
     "metadata": {},
     "source": [
      "we do refer to the angular momenta only. This means that another way of writing the last state is"
     ]
    },
    {
     "cell_type": "markdown",
     "metadata": {},
     "source": [
      "$$\n",
      "|^{18}\\mathrm{O}\\rangle_J =|(j_aj_b)JM\\rangle.\n",
      "$$"
     ]
    },
    {
     "cell_type": "markdown",
     "metadata": {},
     "source": [
      "We will use this notation throughout when we refer to a two-body state in $J$-scheme. The Kronecker $\\delta$ function in the normalization factor \n",
      "refers thus to the values of $j_a$ and $j_b$. If two identical particles are in a state with the same $j$-value, then only even values of the total angular momentum apply.\n",
      "\n",
      "\n",
      "\n",
      "Note also that, using the anti-commuting \n",
      "properties of the creation operators, we obtain"
     ]
    },
    {
     "cell_type": "markdown",
     "metadata": {},
     "source": [
      "$$\n",
      "N_{ab}\\sum_{m_am_b}\\langle j_am_aj_bm_b|JM>|\\Phi^{ab}\\rangle=-N_{ab}\\sum_{m_am_b}\\langle j_am_aj_bm_b|JM\\rangle|\\Phi^{ba}\\rangle.\n",
      "$$"
     ]
    },
    {
     "cell_type": "markdown",
     "metadata": {},
     "source": [
      "Furthermore, using the property of the Clebsch-Gordan coefficient"
     ]
    },
    {
     "cell_type": "markdown",
     "metadata": {},
     "source": [
      "$$\n",
      "\\langle j_am_aj_bm_b|JM>=(-1)^{j_a+j_b-J}\\langle j_bm_bj_am_a|JM\\rangle,\n",
      "$$"
     ]
    },
    {
     "cell_type": "markdown",
     "metadata": {},
     "source": [
      "which can be used to show that"
     ]
    },
    {
     "cell_type": "markdown",
     "metadata": {},
     "source": [
      "$$\n",
      "|(j_bj_a)JM\\rangle  = \\left\\{a^{\\dagger}_ba^{\\dagger}_a\\right\\}^J_M|^{16}\\mathrm{O}\\rangle=N_{ab}\\sum_{m_am_b}\\langle j_bm_bj_am_a|JM\\rangle|\\Phi^{ba}\\rangle,\n",
      "$$"
     ]
    },
    {
     "cell_type": "markdown",
     "metadata": {},
     "source": [
      "is equal to"
     ]
    },
    {
     "cell_type": "markdown",
     "metadata": {},
     "source": [
      "$$\n",
      "|(j_bj_a)JM\\rangle=(-1)^{j_a+j_b-J+1}|(j_aj_b)JM\\rangle.\n",
      "$$"
     ]
    },
    {
     "cell_type": "markdown",
     "metadata": {},
     "source": [
      "The two-body matrix element is a scalar and since it obeys rotational symmetry, it is diagonal in $J$, \n",
      "meaning that the corresponding matrix element in $J$-scheme is"
     ]
    },
    {
     "cell_type": "markdown",
     "metadata": {},
     "source": [
      "8\n",
      "4\n",
      "0\n",
      " \n",
      "<\n",
      "<\n",
      "<\n",
      "!\n",
      "!\n",
      "M\n",
      "A\n",
      "T\n",
      "H\n",
      "_\n",
      "B\n",
      "L\n",
      "O\n",
      "C\n",
      "K"
     ]
    },
    {
     "cell_type": "markdown",
     "metadata": {},
     "source": [
      "$$\n",
      "\\times \\langle j_cm_cj_dm_d|JM\\rangle\\langle (j_am_aj_bm_b)M |  \\hat{V} | (j_cm_cj_dm_d)M \\rangle,\n",
      "$$"
     ]
    },
    {
     "cell_type": "markdown",
     "metadata": {},
     "source": [
      "and note that of the four $m$-values in the above sum, only three are independent due to the constraint $m_a+m_b=M=m_c+m_d$.\n",
      "\n",
      "Since"
     ]
    },
    {
     "cell_type": "markdown",
     "metadata": {},
     "source": [
      "$$\n",
      "|(j_bj_a)JM\\rangle=(-1)^{j_a+j_b-J+1}|(j_aj_b)JM\\rangle,\n",
      "$$"
     ]
    },
    {
     "cell_type": "markdown",
     "metadata": {},
     "source": [
      "the anti-symmetrized matrix elements need now to obey the following relations"
     ]
    },
    {
     "cell_type": "markdown",
     "metadata": {},
     "source": [
      "8\n",
      "4\n",
      "3\n",
      " \n",
      "<\n",
      "<\n",
      "<\n",
      "!\n",
      "!\n",
      "M\n",
      "A\n",
      "T\n",
      "H\n",
      "_\n",
      "B\n",
      "L\n",
      "O\n",
      "C\n",
      "K"
     ]
    },
    {
     "cell_type": "markdown",
     "metadata": {},
     "source": [
      "8\n",
      "4\n",
      "4\n",
      " \n",
      "<\n",
      "<\n",
      "<\n",
      "!\n",
      "!\n",
      "M\n",
      "A\n",
      "T\n",
      "H\n",
      "_\n",
      "B\n",
      "L\n",
      "O\n",
      "C\n",
      "K"
     ]
    },
    {
     "cell_type": "markdown",
     "metadata": {},
     "source": [
      "$$\n",
      "\\langle (j_aj_b) JM | \\hat{V} | (j_cj_d) JM \\rangle = (-1)^{j_a+j_b+j_c+j_d}\\langle (j_bj_a) JM | \\hat{V} | (j_dj_c) JM \\rangle=\\langle (j_bj_a) JM | \\hat{V} | (j_dj_c) JM \\rangle,\n",
      "$$"
     ]
    },
    {
     "cell_type": "markdown",
     "metadata": {},
     "source": [
      "where the last relations follows from the fact that $J$ is an integer and $2J$ is always an even number.\n",
      "\n",
      "\n",
      "Using the orthogonality properties of the Clebsch-Gordan coefficients,"
     ]
    },
    {
     "cell_type": "markdown",
     "metadata": {},
     "source": [
      "$$\n",
      "\\sum_{m_am_b}\\langle j_am_aj_bm_b|JM\\rangle\\langle j_am_aj_bm_b|J'M'\\rangle=\\delta_{JJ'}\\delta_{MM'},\n",
      "$$"
     ]
    },
    {
     "cell_type": "markdown",
     "metadata": {},
     "source": [
      "and"
     ]
    },
    {
     "cell_type": "markdown",
     "metadata": {},
     "source": [
      "$$\n",
      "\\sum_{JM}\\langle j_am_aj_bm_b|JM\\rangle\\langle j_am_a'j_bm_b'|JM\\rangle=\\delta_{m_am_a'}\\delta_{m_bm_b'},\n",
      "$$"
     ]
    },
    {
     "cell_type": "markdown",
     "metadata": {},
     "source": [
      "we can also express the two-body matrix element in $m$-scheme in terms of that in $J$-scheme, that is, if we multiply with"
     ]
    },
    {
     "cell_type": "markdown",
     "metadata": {},
     "source": [
      "$$\n",
      "\\sum_{JMJ'M'}\\langle j_am_a'j_bm_b'|JM\\rangle\\langle j_cm_c'j_dm_d'|J'M'\\rangle\n",
      "$$"
     ]
    },
    {
     "cell_type": "markdown",
     "metadata": {},
     "source": [
      "from left in"
     ]
    },
    {
     "cell_type": "markdown",
     "metadata": {},
     "source": [
      "8\n",
      "4\n",
      "9\n",
      " \n",
      "<\n",
      "<\n",
      "<\n",
      "!\n",
      "!\n",
      "M\n",
      "A\n",
      "T\n",
      "H\n",
      "_\n",
      "B\n",
      "L\n",
      "O\n",
      "C\n",
      "K"
     ]
    },
    {
     "cell_type": "markdown",
     "metadata": {},
     "source": [
      "$$\n",
      "\\times \\langle (j_am_aj_bm_b)M|  \\hat{V} | (j_cm_cj_dm_d)M\\rangle,\n",
      "$$"
     ]
    },
    {
     "cell_type": "markdown",
     "metadata": {},
     "source": [
      "we obtain"
     ]
    },
    {
     "cell_type": "markdown",
     "metadata": {},
     "source": [
      "8\n",
      "5\n",
      "1\n",
      " \n",
      "<\n",
      "<\n",
      "<\n",
      "!\n",
      "!\n",
      "M\n",
      "A\n",
      "T\n",
      "H\n",
      "_\n",
      "B\n",
      "L\n",
      "O\n",
      "C\n",
      "K"
     ]
    },
    {
     "cell_type": "markdown",
     "metadata": {},
     "source": [
      "$$\n",
      "\\times \\langle (j_aj_b) JM | \\hat{V} | (j_cj_d) JM \\rangle.\n",
      "$$"
     ]
    },
    {
     "cell_type": "markdown",
     "metadata": {},
     "source": [
      "Let us now apply the theorem to some selected expectation values.\n",
      "In several of the expectation values we will meet when evaluating explicit matrix elements, we will have to deal with expectation values involving spherical harmonics. A general central interaction can be expanded in a complete set of functions like the Legendre polynomials, that is, we have an interaction, with $r_{ij}=|{\\bf r}_i-{\\bf r}_j|$,"
     ]
    },
    {
     "cell_type": "markdown",
     "metadata": {},
     "source": [
      "$$\n",
      "v(r_{ij})=\\sum_{\\nu=0}^{\\infty}v_{\\nu}(r_{ij})P_{\\nu}(\\cos{(\\theta_{ij})},\n",
      "$$"
     ]
    },
    {
     "cell_type": "markdown",
     "metadata": {},
     "source": [
      "with $P_{\\nu}$ being a Legendre polynomials"
     ]
    },
    {
     "cell_type": "markdown",
     "metadata": {},
     "source": [
      "$$\n",
      "P_{\\nu}(\\cos{(\\theta_{ij})}=\\sum_{\\mu}\\frac{4\\pi}{2\\mu+1}Y_{\\mu}^{\\nu *}(\\Omega_{i})Y_{\\mu}^{\\nu}(\\Omega_{j}).\n",
      "$$"
     ]
    },
    {
     "cell_type": "markdown",
     "metadata": {},
     "source": [
      "We will come back later to how we split the above into a contribution that involves only one of the coordinates.\n",
      "\n",
      "\n",
      "\n",
      "This means that we will need matrix elements of the type"
     ]
    },
    {
     "cell_type": "markdown",
     "metadata": {},
     "source": [
      "$$\n",
      "\\langle Y^{l'}||Y^{\\lambda}|| Y^{l}\\rangle.\n",
      "$$"
     ]
    },
    {
     "cell_type": "markdown",
     "metadata": {},
     "source": [
      "We can rewrite the Wigner-Eckart theorem as"
     ]
    },
    {
     "cell_type": "markdown",
     "metadata": {},
     "source": [
      "$$\n",
      "\\langle Y^{l'}||Y^{\\lambda}|| Y^{l}\\rangle=\\sum_{m\\mu}\\langle \\lambda\\mu lm|l'm'\\rangle Y^{\\lambda}_{\\mu}Y^l_m,\n",
      "$$"
     ]
    },
    {
     "cell_type": "markdown",
     "metadata": {},
     "source": [
      "This equation is true for all values of $\\theta$ and $\\phi$. It must also hold for $\\theta=0$.\n",
      "\n",
      "\n",
      "We have"
     ]
    },
    {
     "cell_type": "markdown",
     "metadata": {},
     "source": [
      "$$\n",
      "\\langle Y^{l'}||Y^{\\lambda}|| Y^{l}\\rangle=\\sum_{m\\mu}\\langle \\lambda\\mu lm|l'm'\\rangle Y^{\\lambda}_{\\mu}Y^l_m,\n",
      "$$"
     ]
    },
    {
     "cell_type": "markdown",
     "metadata": {},
     "source": [
      "and for $\\theta=0$, the spherical harmonic"
     ]
    },
    {
     "cell_type": "markdown",
     "metadata": {},
     "source": [
      "$$\n",
      "Y_m^l(\\theta=0,\\phi)=\\sqrt{\\frac{2l+1}{4\\pi}}\\delta_{m0},\n",
      "$$"
     ]
    },
    {
     "cell_type": "markdown",
     "metadata": {},
     "source": [
      "which results in"
     ]
    },
    {
     "cell_type": "markdown",
     "metadata": {},
     "source": [
      "$$\n",
      "\\langle Y^{l'}||Y^{\\lambda}|| Y^{l}\\rangle=\\left\\{\\frac{(2l+1)(2\\lambda+1)}{4\\pi(2l'+1)}\\right\\}^{1/2}\\langle \\lambda0 l0|l'0\\rangle.\n",
      "$$"
     ]
    },
    {
     "cell_type": "markdown",
     "metadata": {},
     "source": [
      "Till now we have mainly been concerned with the coupling of two angular momenta $j_aj_b$to a final angular momentum $J$.\n",
      "If we wish to describe a three-body state with a final angular momentum $J$, we need to couple three angular momenta, say \n",
      "the two momenta $j_a,j_b$ to a third one $j_c$. The coupling order is important and leads to a less trivial implementation of the \n",
      "Pauli principle. With three angular momenta there are obviously $3!$ ways by which we can combine the angular momenta. \n",
      "In $m$-scheme a three-body Slater determinant is represented as (say for the case of $^{19}$O, three neutrons outside the core of $^{16}$O),"
     ]
    },
    {
     "cell_type": "markdown",
     "metadata": {},
     "source": [
      "$$\n",
      "|^{19}\\mathrm{O}\\rangle =|(abc)M\\rangle  = a^{\\dagger}_aa^{\\dagger}_ba^{\\dagger}_c|^{16}\\mathrm{O}\\rangle=|\\Phi^{abc}\\rangle.\n",
      "$$"
     ]
    },
    {
     "cell_type": "markdown",
     "metadata": {},
     "source": [
      "The Pauli principle is automagically implemented via the anti-commutation relations. \n",
      "\n",
      "\n",
      "\n",
      "However, when we deal the same state in an angular momentum coupled basis, we need to be a little bit more careful. We can namely couple the states\n",
      "as follows"
     ]
    },
    {
     "cell_type": "markdown",
     "metadata": {},
     "source": [
      "<!-- Equation labels as ordinary links -->\n",
      "<div id=\"eq:fabc\"></div>\n",
      "\n",
      "$$\n",
      "| ([j_a\\rightarrow j_b]J_{ab}\\rightarrow j_c) J\\rangle= \\sum_{m_am_bm_c}\\langle j_am_aj_bm_b|J_{ab}M_{ab}\\rangle \\langle J_{ab}M_{ab}j_cm_c|JM\\rangle|j_am_a\\rangle\\otimes |j_bm_b\\rangle \\otimes |j_cm_c\\rangle \\ , \n",
      "\\label{eq:fabc} \\tag{131}\n",
      "$$"
     ]
    },
    {
     "cell_type": "markdown",
     "metadata": {},
     "source": [
      "that is, we couple first $j_a$ to $j_b$ to yield an intermediate angular momentum $J_{ab}$, then to $j_c$ yielding the final angular momentum $J$.\n",
      "\n",
      "\n",
      "\n",
      "Now, nothing hinders us from recoupling this state by coupling $j_b$ to $j_c$, yielding an intermediate angular momentum $J_{bc}$ and then couple this angular momentum to $j_a$, resulting in the final angular momentum $J'$. \n",
      "\n",
      "That is, we can have"
     ]
    },
    {
     "cell_type": "markdown",
     "metadata": {},
     "source": [
      "$$\n",
      "| (j_a\\rightarrow [j_b\\rightarrow j_c]J_{bc}) J\\rangle = \\sum_{m_a'm_b'm_c'}\\langle j_bm_b'j_cm_c'|J_{bc}M_{bc}\\rangle \\langle j_am_a'J_{bc}M_{bc}|J'M'\\rangle|\\Phi^{abc}\\rangle .\n",
      "$$"
     ]
    },
    {
     "cell_type": "markdown",
     "metadata": {},
     "source": [
      "We will always assume that we work with orthornormal states, this means that when we compute the overlap betweem these two possible ways of coupling angular momenta, we get"
     ]
    },
    {
     "cell_type": "markdown",
     "metadata": {},
     "source": [
      "$$\n",
      "\\begin{eqnarray}\n",
      "\\nonumber\n",
      "\\lefteqn{ \\langle (j_a\\rightarrow [j_b\\rightarrow j_c]J_{bc}) J'M'| ([j_a\\rightarrow j_b]J_{ab}\\rightarrow j_c) JM\\rangle = } \\\\\n",
      "\\nonumber\n",
      "& & \\delta_{JJ'}\\delta_{MM'}\\sum_{m_am_bm_c}\\langle j_am_aj_bm_b|J_{ab}M_{ab}\\rangle \\langle J_{ab}M_{ab}j_cm_c|JM\\rangle \\\\\n",
      "& & \\times \\langle j_bm_bj_cm_c|J_{bc}M_{bc}\\rangle \\langle j_am_aJ_{bc}M_{bc}|JM\\rangle . \\nonumber\n",
      "\\end{eqnarray}\n",
      "$$"
     ]
    },
    {
     "cell_type": "markdown",
     "metadata": {},
     "source": [
      "We use then the latter equation to define the so-called $6j$-symbols"
     ]
    },
    {
     "cell_type": "markdown",
     "metadata": {},
     "source": [
      "$$\n",
      "\\begin{eqnarray}\n",
      "\\nonumber\n",
      "\\lefteqn{ \\langle (j_a\\rightarrow [j_b\\rightarrow j_c]J_{bc}) J'M'| ([j_a\\rightarrow j_b]J_{ab}\\rightarrow j_c) JM\\rangle } \\\\ \\nonumber\n",
      "&= & \\delta_{JJ'}\\delta_{MM'}\\sum_{m_am_bm_c}\\langle j_am_aj_bm_b|J_{ab}M_{ab}\\rangle \\langle J_{ab}M_{ab}j_cm_c|JM\\rangle \\\\ \\nonumber\n",
      "& &  \\times \\langle j_bm_bj_cm_c|J_{bc}M_{bc}\\rangle \\langle j_am_aJ_{bc}M_{bc}|JM\\rangle  \\\\ \\nonumber\n",
      "&= & (-1)^{j_a+j_b+j_c+J}\\sqrt{(2J_{ab}+1)(2J_{bc}+1)}\\left\\{\\begin{array}{ccc} j_a & j_b& J_{ab} \\\\ j_c & J & J_{bc} \\end{array}\\right\\}\n",
      ", \\nonumber\n",
      "\\end{eqnarray}\n",
      "$$"
     ]
    },
    {
     "cell_type": "markdown",
     "metadata": {},
     "source": [
      "where the symbol in curly brackets $\\{\\}$ is the $6j$ symbol. \n",
      "A specific coupling order has to be respected in the symbol, that is, the so-called triangular relations between three angular momenta needs to be respected, that is"
     ]
    },
    {
     "cell_type": "markdown",
     "metadata": {},
     "source": [
      "$$\n",
      "\\left\\{\\begin{array}{ccc} x & x& x \\\\  &  &  \\end{array}\\right\\}\\hspace{0.1cm}\\left\\{\\begin{array}{ccc}  & & x \\\\  x& x &  \\end{array}\\right\\}\\hspace{0.1cm}\\left\\{\\begin{array}{ccc}  & x&  \\\\ x &  &x  \\end{array}\\right\\}\\hspace{0.1cm}\\left\\{\\begin{array}{ccc} x & &  \\\\  & x &x  \\end{array}\\right\\}\\hspace{0.1cm}\n",
      "$$"
     ]
    },
    {
     "cell_type": "markdown",
     "metadata": {},
     "source": [
      "The $6j$ symbol is invariant under the permutation of any two columns"
     ]
    },
    {
     "cell_type": "markdown",
     "metadata": {},
     "source": [
      "$$\n",
      "\\begin{Bmatrix} j_1 & j_2 & j_3\\\\ j_4 & j_5 & j_6 \\end{Bmatrix} = \\begin{Bmatrix} j_2 & j_1 & j_3\\\\ j_5 & j_4 & j_6 \\end{Bmatrix} = \\begin{Bmatrix} j_1 & j_3 & j_2\\\\ j_4 & j_6 & j_5 \\end{Bmatrix} = \\begin{Bmatrix} j_3 & j_2 & j_1\\\\ j_6 & j_5 & j_4 \\end{Bmatrix}.\n",
      "$$"
     ]
    },
    {
     "cell_type": "markdown",
     "metadata": {},
     "source": [
      "The $6j$ symbol is also invariant if upper and lower arguments are interchanged in any two columns"
     ]
    },
    {
     "cell_type": "markdown",
     "metadata": {},
     "source": [
      "$$\n",
      "\\begin{Bmatrix} j_1 & j_2 & j_3\\\\ j_4 & j_5 & j_6 \\end{Bmatrix} = \\begin{Bmatrix} j_4 & j_5 & j_3\\\\ j_1 & j_2 & j_6 \\end{Bmatrix} = \\begin{Bmatrix} j_1 & j_5 & j_6\\\\ j_4 & j_2 & j_3 \\end{Bmatrix} = \\begin{Bmatrix} j_4 & j_2 & j_6\\\\ j_1 & j_5 & j_3 \\end{Bmatrix}.\n",
      "$$"
     ]
    },
    {
     "cell_type": "markdown",
     "metadata": {},
     "source": [
      "The $6j$ symbols satisfy this orthogonality relation"
     ]
    },
    {
     "cell_type": "markdown",
     "metadata": {},
     "source": [
      "$$\n",
      "\\sum_{j_3} (2j_3+1) \\begin{Bmatrix} j_1 & j_2 & j_3\\\\ j_4 & j_5 & j_6 \\end{Bmatrix} \\begin{Bmatrix} j_1 & j_2 & j_3\\\\ j_4 & j_5 & j_6' \\end{Bmatrix} = \\frac{\\delta_{j_6^{}j_6'}}{2j_6+1} \\{j_1,j_5,j_6\\} \\{j_4,j_2,j_6\\}.\n",
      "$$"
     ]
    },
    {
     "cell_type": "markdown",
     "metadata": {},
     "source": [
      "The symbol $\\{j_1j_2j_3\\}$ (called the triangular delta) is equal to one if the triad $(j_1j_2j_3)$ satisfies the triangular conditions and zero otherwise.\n",
      "A useful value is given when say one of the angular momenta are zero, say $J_{bc}=0$, then we have"
     ]
    },
    {
     "cell_type": "markdown",
     "metadata": {},
     "source": [
      "$$\n",
      "\\left\\{\\begin{array}{ccc} j_a & j_b& J_{ab} \\\\ j_c & J & 0 \\end{array}\\right\\}=\\frac{(-1)^{j_a+j_b+J_{ab}}\\delta_{Jj_a}\\delta_{j_cj_b} }{\\sqrt{(2j_{a}+1)(2j_{b}+1)}}\n",
      "$$"
     ]
    },
    {
     "cell_type": "markdown",
     "metadata": {},
     "source": [
      "With the $6j$ symbol defined, we can go back and and rewrite the overlap between the two ways of recoupling angular momenta in terms of the $6j$ symbol.\n",
      "That is, we can have"
     ]
    },
    {
     "cell_type": "markdown",
     "metadata": {},
     "source": [
      "$$\n",
      "\\begin{eqnarray}\n",
      "\\nonumber\n",
      "\\lefteqn{| (j_a\\rightarrow [j_b\\rightarrow j_c]J_{bc}) JM\\rangle = } \\\\\n",
      "\\nonumber\n",
      "& &\\sum_{J_{ab}}(-1)^{j_a+j_b+j_c+J}\\sqrt{(2J_{ab}+1)(2J_{bc}+1)}\\left\\{\\begin{array}{ccc} j_a & j_b& J_{ab} \\\\ j_c & J & J_{bc} \\end{array}\\right\\}| ([j_a\\rightarrow j_b]J_{ab}\\rightarrow j_c) JM\\rangle\n",
      ". \\nonumber\n",
      "\\end{eqnarray}\n",
      "$$"
     ]
    },
    {
     "cell_type": "markdown",
     "metadata": {},
     "source": [
      "Can you find the inverse relation?  \n",
      "These relations can in turn be used to write out the fully anti-symmetrized three-body wave function in a $J$-scheme coupled basis. \n",
      "If you opt then for a specific coupling order, say $| ([j_a\\rightarrow j_b]J_{ab}\\rightarrow j_c) JM\\rangle$, you need to express this representation in terms of the other coupling possibilities. \n",
      "\n",
      "\n",
      "\n",
      "\n",
      "\n",
      "Note that the two-body intermediate state is assumed to be antisymmetric but\n",
      "not normalized, that is, the state which involves the quantum numbers \n",
      "$j_a$ and $j_b$. Assume that the intermediate \n",
      "two-body state is antisymmetric. With this coupling order, we can \n",
      "rewrite ( in a schematic way) the general three-particle Slater determinant as"
     ]
    },
    {
     "cell_type": "markdown",
     "metadata": {},
     "source": [
      "$$\n",
      "\\Phi(a,b,c) = {\\cal A} | ([j_a\\rightarrow j_b]J_{ab}\\rightarrow j_c) J\\rangle,\n",
      "$$"
     ]
    },
    {
     "cell_type": "markdown",
     "metadata": {},
     "source": [
      "with an implicit sum over $J_{ab}$.  The antisymmetrization operator ${\\cal A}$ is used here to indicate that we need to antisymmetrize the state. **Challenge**: Use the definition of the $6j$ symbol and find an explicit \n",
      "expression for the above three-body state using the coupling order $| ([j_a\\rightarrow j_b]J_{ab}\\rightarrow j_c) J\\rangle$.\n",
      "\n",
      "\n",
      "\n",
      "\n",
      "\n",
      "\n",
      "We can also coupled together four angular momenta. Consider two four-body states, with single-particle angular momenta $j_a$, $j_b$, $j_c$ and $j_d$ we can have a state with final $J$"
     ]
    },
    {
     "cell_type": "markdown",
     "metadata": {},
     "source": [
      "$$\n",
      "|\\Phi(a,b,c,d)\\rangle_1 = | ([j_a\\rightarrow j_b]J_{ab}\\times [j_c\\rightarrow j_d]J_{cd}) JM\\rangle,\n",
      "$$"
     ]
    },
    {
     "cell_type": "markdown",
     "metadata": {},
     "source": [
      "where we read the coupling order as $j_a$ couples with $j_b$ to given and intermediate angular momentum $J_{ab}$. \n",
      "Moreover, $j_c$ couples with $j_d$ to given and intermediate angular momentum $J_{cd}$.  The two intermediate angular momenta $J_{ab}$ and $J_{cd}$\n",
      "are in turn coupled to a final $J$.  These operations involved three Clebsch-Gordan coefficients. \n",
      "\n",
      "Alternatively, we could couple in the following order"
     ]
    },
    {
     "cell_type": "markdown",
     "metadata": {},
     "source": [
      "$$\n",
      "|\\Phi(a,b,c,d)\\rangle_2 = | ([j_a\\rightarrow j_c]J_{ac}\\times [j_b\\rightarrow j_d]J_{bd}) JM\\rangle,\n",
      "$$"
     ]
    },
    {
     "cell_type": "markdown",
     "metadata": {},
     "source": [
      "The overlap between these two states"
     ]
    },
    {
     "cell_type": "markdown",
     "metadata": {},
     "source": [
      "$$\n",
      "\\langle([j_a\\rightarrow j_c]J_{ac}\\times [j_b\\rightarrow j_d]J_{bd}) JM| ([j_a\\rightarrow j_b]J_{ab}\\times [j_c\\rightarrow j_d]J_{cd}) JM\\rangle,\n",
      "$$"
     ]
    },
    {
     "cell_type": "markdown",
     "metadata": {},
     "source": [
      "is equal to"
     ]
    },
    {
     "cell_type": "markdown",
     "metadata": {},
     "source": [
      "$$\n",
      "\\begin{eqnarray}\n",
      "\\nonumber\n",
      "& & \\sum_{m_iM_{ij}}\\langle j_am_aj_bm_b|J_{ab}M_{ab}\\rangle \\langle j_cm_cj_dm_d|J_{cd}M_{cd}\\rangle \\langle J_{ab}M_{ab}J_{cd}M_{cd}|JM\\rangle \\\\\n",
      "& & \\times\\langle j_am_aj_cm_c|J_{ac}M_{ac}\\rangle \\langle j_bm_bj_dm_d|J_{cd}M_{bd}\\rangle \\langle J_{ac}M_{ac}J_{bd}M_{bd}|JM\\rangle \\\\  \\nonumber\n",
      "&= & \\sqrt{(2J_{ab}+1)(2J_{cd}+1)(2J_{ac}+1)(2J_{bd}+1)}\\left\\{\\begin{array}{ccc} j_a & j_b& J_{ab} \\\\ j_c & j_d& J_{cd} \\\\J_{ac} & J_{bd}& J\\end{array}\\right\\}\n",
      ", \\nonumber\n",
      "\\end{eqnarray}\n",
      "$$"
     ]
    },
    {
     "cell_type": "markdown",
     "metadata": {},
     "source": [
      "with the symbol in curly brackets $\\{\\}$ being the $9j$-symbol. We see  that a $6j$ symbol  involves four Clebsch-Gordan coefficients, while the $9j$ symbol\n",
      "involves six.\n",
      "\n",
      "\n",
      "\n",
      "\n",
      "A $9j$ symbol is invariant under reflection in either diagonal"
     ]
    },
    {
     "cell_type": "markdown",
     "metadata": {},
     "source": [
      "$$\n",
      "\\begin{Bmatrix} j_1 & j_2 & j_3\\\\ j_4 & j_5 & j_6\\\\ j_7 & j_8 & j_9 \\end{Bmatrix} = \\begin{Bmatrix} j_1 & j_4 & j_7\\\\ j_2 & j_5 & j_8\\\\ j_3 & j_6 & j_9 \\end{Bmatrix} = \\begin{Bmatrix} j_9 & j_6 & j_3\\\\ j_8 & j_5 & j_2\\\\ j_7 & j_4 & j_1 \\end{Bmatrix}.\n",
      "$$"
     ]
    },
    {
     "cell_type": "markdown",
     "metadata": {},
     "source": [
      "The permutation of any two rows or any two columns yields a phase factor $(-1)^S$, where"
     ]
    },
    {
     "cell_type": "markdown",
     "metadata": {},
     "source": [
      "$$\n",
      "S=\\sum_{i=1}^9 j_i.\n",
      "$$"
     ]
    },
    {
     "cell_type": "markdown",
     "metadata": {},
     "source": [
      "As an  example we have"
     ]
    },
    {
     "cell_type": "markdown",
     "metadata": {},
     "source": [
      "$$\n",
      "\\begin{Bmatrix} j_1 & j_2 & j_3\\\\ j_4 & j_5 & j_6\\\\ j_7 & j_8 & j_9 \\end{Bmatrix} = (-1)^S \\begin{Bmatrix} j_4 & j_5 & j_6\\\\ j_1 & j_2 & j_3\\\\ j_7 & j_8 & j_9 \\end{Bmatrix} = (-1)^S \\begin{Bmatrix} j_2 & j_1 & j_3\\\\ j_5 & j_4 & j_6\\\\ j_8 & j_7 & j_9 \\end{Bmatrix}.\n",
      "$$"
     ]
    },
    {
     "cell_type": "markdown",
     "metadata": {},
     "source": [
      "A useful case is when say $J=0$ in"
     ]
    },
    {
     "cell_type": "markdown",
     "metadata": {},
     "source": [
      "$$\n",
      "\\left\\{\\begin{array}{ccc} j_a & j_b& J_{ab} \\\\ j_c & j_d & J_{cd} \\\\ J_{ac} & J_{bd}& 0\\end{array}\\right\\}=\\frac{\\delta_{J_{ab}J_{cd}} \\delta_{J_{ac}J_{bd}}}{\\sqrt{(2J_{ab}+1)(2J_{ac}+1)}} (-1)^{j_b+J_{ab}+j_c+J_{ac}} \\begin{Bmatrix} j_a & j_b & J_{ab}\\\\ j_d & j_c & J_{ac} \\end{Bmatrix}.\n",
      "$$"
     ]
    },
    {
     "cell_type": "markdown",
     "metadata": {},
     "source": [
      "The tensor operator in the nucleon-nucleon potential\n",
      "is given by"
     ]
    },
    {
     "cell_type": "markdown",
     "metadata": {},
     "source": [
      "$$\n",
      "\\begin{array}{ll}\n",
      "&\\\\\n",
      "\\langle lSJ\\vert S_{12}\\vert l'S'J\\rangle =&\n",
      "(-)^{S+J}\\sqrt{30(2l+1)(2l'+1)(2S+1)(2S'+1)}\\\\\n",
      "&\\times\\left\\{\\begin{array}{ccc}J&S'&l'\\\\2&l&S\\end{array}\\right\\}\n",
      "\\left(\\begin{array}{ccc}l'&2&l\\\\0&0&0\\end{array}\\right)\n",
      "\\left\\{\\begin{array}{ccc}s_{1}&s_{2}&S\\\\s_{3}&s_{4}&S'\\\\\n",
      "1&1&2\\end{array}\n",
      "\\right\\}\\\\\n",
      "&\\times\\langle s_{1}\\vert\\vert \\sigma_{1}\\vert\\vert s_{3}\\rangle\n",
      "\\langle s_{2}\\vert\\vert \\sigma_{2}\\vert \\vert s_{4}\\rangle,\n",
      "\\end{array}\n",
      "$$"
     ]
    },
    {
     "cell_type": "markdown",
     "metadata": {},
     "source": [
      "and it is zero for the $^1S_0$ wave. \n",
      "\n",
      "How do we get here?\n",
      "\n",
      "\n",
      "To derive the expectation value of the nuclear tensor force, we recall that \n",
      "the product of two irreducible tensor operators is"
     ]
    },
    {
     "cell_type": "markdown",
     "metadata": {},
     "source": [
      "$$\n",
      "W^{r}_{m_r}=\\sum_{m_pm_q}\\langle pm_pqm_q|rm_r\\rangle T^{p}_{m_p}U^{q}_{m_q},\n",
      "$$"
     ]
    },
    {
     "cell_type": "markdown",
     "metadata": {},
     "source": [
      "and using the orthogonality properties of the Clebsch-Gordan coefficients we can rewrite the above as"
     ]
    },
    {
     "cell_type": "markdown",
     "metadata": {},
     "source": [
      "$$\n",
      "T^{p}_{m_p}U^{q}_{m_q}=\\sum_{m_pm_q}\\langle pm_pqm_q|rm_r\\rangle W^{r}_{m_r}.\n",
      "$$"
     ]
    },
    {
     "cell_type": "markdown",
     "metadata": {},
     "source": [
      "Assume now that the operators $T$ and $U$ act on different parts of say a wave function. The operator $T$ could act on the spatial part only while the operator $U$ acts only on the spin part. This means also that these operators commute.\n",
      "The reduced matrix element of this operator is thus, using the Wigner-Eckart theorem,"
     ]
    },
    {
     "cell_type": "markdown",
     "metadata": {},
     "source": [
      "8\n",
      "8\n",
      "3\n",
      " \n",
      "<\n",
      "<\n",
      "<\n",
      "!\n",
      "!\n",
      "M\n",
      "A\n",
      "T\n",
      "H\n",
      "_\n",
      "B\n",
      "L\n",
      "O\n",
      "C\n",
      "K"
     ]
    },
    {
     "cell_type": "markdown",
     "metadata": {},
     "source": [
      "$$\n",
      "\\times\\langle (j_aj_bJM|\\left[ T^{p}_{m_p}U^{q}_{m_q} \\right]^{r}_{m_r}|(j_cj_d)J'M'\\rangle.\n",
      "$$"
     ]
    },
    {
     "cell_type": "markdown",
     "metadata": {},
     "source": [
      "Starting with"
     ]
    },
    {
     "cell_type": "markdown",
     "metadata": {},
     "source": [
      "8\n",
      "8\n",
      "5\n",
      " \n",
      "<\n",
      "<\n",
      "<\n",
      "!\n",
      "!\n",
      "M\n",
      "A\n",
      "T\n",
      "H\n",
      "_\n",
      "B\n",
      "L\n",
      "O\n",
      "C\n",
      "K"
     ]
    },
    {
     "cell_type": "markdown",
     "metadata": {},
     "source": [
      "$$\n",
      "\\times\\langle (j_aj_bJM|\\left[ T^{p}_{m_p}U^{q}_{m_q} \\right]^{r}_{m_r}|(j_cj_d)J'M'\\rangle,\n",
      "$$"
     ]
    },
    {
     "cell_type": "markdown",
     "metadata": {},
     "source": [
      "we assume now that $T$ acts only on $j_a$ and $j_c$ and that $U$ acts only on $j_b$ and $j_d$. \n",
      "The matrix element $\\langle (j_aj_bJM|\\left[ T^{p}_{m_p}U^{q}_{m_q} \\right]^{r}_{m_r}|(j_cj_d)J'M'\\rangle$ can be written out,\n",
      "when we insert a complete set of states $|j_im_ij_jm_j\\rangle\\langle j_im_ij_jm_j|$ between $T$ and $U$ as"
     ]
    },
    {
     "cell_type": "markdown",
     "metadata": {},
     "source": [
      "8\n",
      "8\n",
      "7\n",
      " \n",
      "<\n",
      "<\n",
      "<\n",
      "!\n",
      "!\n",
      "M\n",
      "A\n",
      "T\n",
      "H\n",
      "_\n",
      "B\n",
      "L\n",
      "O\n",
      "C\n",
      "K"
     ]
    },
    {
     "cell_type": "markdown",
     "metadata": {},
     "source": [
      "$$\n",
      "\\times \\langle (j_am_aj_bm_b|\\left[ T^{p}_{m_p}\\right]^{r}_{m_r}|(j_cm_cj_bm_b)\\rangle\\langle (j_cm_cj_bm_b|\\left[ U^{q}_{m_q}\\right]^{r}_{m_r}|(j_cm_cj_dm_d)\\rangle.\n",
      "$$"
     ]
    },
    {
     "cell_type": "markdown",
     "metadata": {},
     "source": [
      "The complete set of states that was inserted between $T$ and $U$ reduces to $|j_cm_cj_bm_b\\rangle\\langle j_cm_cj_bm_b|$\n",
      "due to orthogonality of the states. \n",
      "\n",
      "\n",
      "\n",
      "\n",
      "Combining the last two equations from the previous slide and \n",
      "and applying the Wigner-Eckart theorem, we arrive at (rearranging phase factors)"
     ]
    },
    {
     "cell_type": "markdown",
     "metadata": {},
     "source": [
      "8\n",
      "8\n",
      "9\n",
      " \n",
      "<\n",
      "<\n",
      "<\n",
      "!\n",
      "!\n",
      "M\n",
      "A\n",
      "T\n",
      "H\n",
      "_\n",
      "B\n",
      "L\n",
      "O\n",
      "C\n",
      "K"
     ]
    },
    {
     "cell_type": "markdown",
     "metadata": {},
     "source": [
      "8\n",
      "9\n",
      "0\n",
      " \n",
      "<\n",
      "<\n",
      "<\n",
      "!\n",
      "!\n",
      "M\n",
      "A\n",
      "T\n",
      "H\n",
      "_\n",
      "B\n",
      "L\n",
      "O\n",
      "C\n",
      "K"
     ]
    },
    {
     "cell_type": "markdown",
     "metadata": {},
     "source": [
      "$$\n",
      "\\times\\left(\\begin{array}{ccc} j_a  &j_c  &p  \\\\ m_a &-m_c &-m_p \\end{array}\\right)\\left(\\begin{array}{ccc} j_b  &j_d  &q  \\\\ m_b &-m_d &-m_q \\end{array}\\right)\\langle j_a||T^p||j_c\\rangle \\times \\langle j_b||U^q||j_d\\rangle\n",
      "$$"
     ]
    },
    {
     "cell_type": "markdown",
     "metadata": {},
     "source": [
      "which can be rewritten in terms of a $9j$ symbol as"
     ]
    },
    {
     "cell_type": "markdown",
     "metadata": {},
     "source": [
      "$$\n",
      "\\langle (j_aj_b)J||W^{r}||(j_cj_d)J'\\rangle=\\sqrt{(2J+1)(2r+1)(2J'+1)}\\langle j_a||T^p||j_c\\rangle  \\langle j_b||U^q||j_d\\rangle\\left\\{\\begin{array}{ccc} j_a & j_b& J \\\\ j_c & j_d & J' \\\\ p & q& r\\end{array}\\right\\}.\n",
      "$$"
     ]
    },
    {
     "cell_type": "markdown",
     "metadata": {},
     "source": [
      "From this expression we can in turn compute for example the spin-spin operator of the tensor force.\n",
      "\n",
      "\n",
      "In case $r=0$, that is we two tensor operators coupled to a scalar, we can use (with $p=q$)"
     ]
    },
    {
     "cell_type": "markdown",
     "metadata": {},
     "source": [
      "$$\n",
      "\\left\\{\\begin{array}{ccc} j_a & j_b& J \\\\ j_c & j_d & J' \\\\ p &p & 0\\end{array}\\right\\}=\\frac{\\delta_{JJ'} \\delta_{pq}}{\\sqrt{(2J+1)(2J+1)}} (-1)^{j_b+j_c+2J} \\begin{Bmatrix} j_a & j_b & J\\\\ j_d & j_c & p \\end{Bmatrix},\n",
      "$$"
     ]
    },
    {
     "cell_type": "markdown",
     "metadata": {},
     "source": [
      "and obtain"
     ]
    },
    {
     "cell_type": "markdown",
     "metadata": {},
     "source": [
      "$$\n",
      "\\langle (j_aj_b)J||W^{0}||(j_cj_d)J'\\rangle=(-1)^{j_b+j_c+2J}\\langle j_a||T^p||j_c\\rangle\\langle j_b||U^p||j_d\\rangle \\begin{Bmatrix} j_a & j_b & J\\\\ j_d & j_c & p \\end{Bmatrix}.\n",
      "$$"
     ]
    },
    {
     "cell_type": "markdown",
     "metadata": {},
     "source": [
      "Another very useful expression is the case where the operators act in just one space. We state here without \n",
      "showing that the reduced matrix element"
     ]
    },
    {
     "cell_type": "markdown",
     "metadata": {},
     "source": [
      "8\n",
      "9\n",
      "5\n",
      " \n",
      "<\n",
      "<\n",
      "<\n",
      "!\n",
      "!\n",
      "M\n",
      "A\n",
      "T\n",
      "H\n",
      "_\n",
      "B\n",
      "L\n",
      "O\n",
      "C\n",
      "K"
     ]
    },
    {
     "cell_type": "markdown",
     "metadata": {},
     "source": [
      "$$\n",
      "\\times \\langle j_a||T^p||j_c\\rangle \\langle j_c||T^q||j_b\\rangle.\n",
      "$$"
     ]
    },
    {
     "cell_type": "markdown",
     "metadata": {},
     "source": [
      "The tensor operator in \n",
      "the nucleon-nucleon potential can be written as"
     ]
    },
    {
     "cell_type": "markdown",
     "metadata": {},
     "source": [
      "$$\n",
      "V=\\frac{3}{r^{2}}\\left[ \\left[ {\\bf \\sigma}_1 \\otimes {\\bf \\sigma}_2\\right]^\n",
      "{(2)} \\otimes\\left[{\\bf r} \\otimes {\\bf r} \\right]^{(2)}\\right]^{(0)}_0\n",
      "$$"
     ]
    },
    {
     "cell_type": "markdown",
     "metadata": {},
     "source": [
      "Since the irreducible tensor  \n",
      "$\\left[{\\bf r} \\otimes {\\bf r} \\right]^{(2)}$\n",
      "operates  only on the angular quantum numbers and\n",
      "$\\left[{\\bf \\sigma}_1 \\otimes {\\bf \\sigma}_2\\right]^{(2)}$ \n",
      "operates  only on \n",
      "the spin states we can write the matrix element"
     ]
    },
    {
     "cell_type": "markdown",
     "metadata": {},
     "source": [
      "$$\n",
      "\\begin{eqnarray*}\n",
      "\\langle lSJ\\vert V\\vert lSJ\\rangle & = &\n",
      "\\langle lSJ \\vert\\left[ \\left[{\\bf \\sigma}_1 \\otimes {\\bf \\sigma}_2\\right]^{(2)} \\otimes\n",
      "\\left[{\\bf r} \\otimes {\\bf r} \\right]^{(2)}\\right]^{(0)}_0\\vert l'S'J\\rangle \\\\\n",
      "&  = &\n",
      "(-1)^{J+l+S}\n",
      "\\left\\{\\begin{array}{ccc} l&S&J \\\\ l'&S'&2\\end{array}\\right\\}\n",
      "\\langle l \\vert\\vert\\left[{\\bf r} \\otimes {\\bf r} \\right]^{(2)} \\vert \\vert l'\\rangle\\\\\n",
      "& &\n",
      "\\times \\langle S\\vert\\vert\\left[{\\bf \\sigma}_1 \\otimes {\\bf \\sigma}_2\\right]^{(2)} \\vert\\vert S'\\rangle\n",
      "\\end{eqnarray*}\n",
      "$$"
     ]
    },
    {
     "cell_type": "markdown",
     "metadata": {},
     "source": [
      "We need that\n",
      "the coordinate vector ${\\bf r}$ can be written in terms of spherical \n",
      "components as"
     ]
    },
    {
     "cell_type": "markdown",
     "metadata": {},
     "source": [
      "$$\n",
      "{\\bf r}_\\alpha = r\\sqrt{\\frac{4\\pi}{3}} Y_{1\\alpha}\n",
      "$$"
     ]
    },
    {
     "cell_type": "markdown",
     "metadata": {},
     "source": [
      "Using this expression we get"
     ]
    },
    {
     "cell_type": "markdown",
     "metadata": {},
     "source": [
      "$$\n",
      "\\begin{eqnarray*}\n",
      "\\left[{\\bf r} \\otimes {\\bf r} \\right]^{(2)}_\\mu &=& \\frac{4\\pi}{3}r^2\n",
      "\\sum_{\\alpha ,\\beta}\\langle 1\\alpha 1\\beta\\vert 2\\mu \\rangle Y_{1\\alpha} Y_{1\\beta}\n",
      "\\end{eqnarray*}\n",
      "$$"
     ]
    },
    {
     "cell_type": "markdown",
     "metadata": {},
     "source": [
      "The product of two spherical harmonics can be written\n",
      "as"
     ]
    },
    {
     "cell_type": "markdown",
     "metadata": {},
     "source": [
      "9\n",
      "0\n",
      "1\n",
      " \n",
      "<\n",
      "<\n",
      "<\n",
      "!\n",
      "!\n",
      "M\n",
      "A\n",
      "T\n",
      "H\n",
      "_\n",
      "B\n",
      "L\n",
      "O\n",
      "C\n",
      "K"
     ]
    },
    {
     "cell_type": "markdown",
     "metadata": {},
     "source": [
      "$$\n",
      "\\times \\left(\\begin{array}{ccc} l_1&l_2&l \\\\ 0  &0  &0\\end{array}\\right)\n",
      "Y_{l-m}(-1)^m.\n",
      "$$"
     ]
    },
    {
     "cell_type": "markdown",
     "metadata": {},
     "source": [
      "Using this relation we get"
     ]
    },
    {
     "cell_type": "markdown",
     "metadata": {},
     "source": [
      "$$\n",
      "\\begin{eqnarray*}\n",
      "\\left[{\\bf r} \\otimes {\\bf r} \\right]^{(2)}_\\mu &=& \n",
      "\\sqrt{4\\pi}r^2\n",
      "\\sum_{lm}\n",
      "\\sum_{\\alpha ,\\beta}   \\langle 1\\alpha 1\\beta\\vert 2\\mu \\rangle \\\\\n",
      "&&\\times \\langle 1\\alpha 1\\beta\\vert l-m \\rangle\n",
      "\\frac{(-1)^{1-1-m}}{\\sqrt{2l+1}} \n",
      "\\left(\\begin{array}{ccc} 1&1&l \\\\ 0  &0  &0\\end{array}\\right)Y_{l-m}(-1)^m\\\\\n",
      "&=& \\sqrt{4\\pi}r^2\n",
      "\\left(\\begin{array}{ccc} 1&1&2 \\\\ 0  &0  &0\\end{array}\\right)\n",
      "Y_{2-\\mu}\\\\\n",
      "&=& \\sqrt{4\\pi}r^2 \\sqrt{\\frac{2}{15}}Y_{2-\\mu}\n",
      "\\end{eqnarray*}\n",
      "$$"
     ]
    },
    {
     "cell_type": "markdown",
     "metadata": {},
     "source": [
      "We can then  use this relation to rewrite the reduced matrix element containing the \n",
      "position vector as"
     ]
    },
    {
     "cell_type": "markdown",
     "metadata": {},
     "source": [
      "$$\n",
      "\\begin{eqnarray*}\n",
      "\\langle l \\vert\\vert\\left[{\\bf r} \\otimes {\\bf r} \\right]^{(2)} \\vert \\vert l'\\rangle\n",
      "& = & \n",
      "\\sqrt{4\\pi}\\sqrt{ \\frac{2}{15}}r^2 \\langle l \\vert\\vert Y_2 \\vert \\vert l'\\rangle \\\\\n",
      "& = &\\sqrt{4\\pi}\\sqrt{ \\frac{2}{15}}  r^2 (-1)^l\n",
      "\\sqrt{\\frac{(2l+1)5(2l'+1)}{4\\pi}}\n",
      "\\left(\\begin{array}{ccc} l&2&l' \\\\ 0&0&0\\end{array}\\right)\n",
      "\\end{eqnarray*}\n",
      "$$"
     ]
    },
    {
     "cell_type": "markdown",
     "metadata": {},
     "source": [
      "Using the  reduced matrix element of the spin \n",
      "operators defined as"
     ]
    },
    {
     "cell_type": "markdown",
     "metadata": {},
     "source": [
      "$$\n",
      "\\begin{eqnarray*}\n",
      "\\langle S\\vert \\vert\\left[{\\bf \\sigma}_1 \\otimes {\\bf \\sigma}_2\\right]^{(2)} \\vert \\vert S' \\rangle\n",
      "& = & \n",
      "\\sqrt{(2S+1)(2S'+1)5}\n",
      "\\left\\{\\begin{array}{ccc} s_1&s_2&S \\\\s_3&s_4&S' \\\\ 1&1&2\\end{array}\\right\\}\\\\\n",
      "&\\times& \n",
      "\\langle s_1 \\vert \\vert {\\bf \\sigma}_1 \\vert \\vert s_3\\rangle\n",
      "\\langle s_2 \\vert\\vert {\\bf \\sigma}_2 \\vert \\vert s_4\\rangle\n",
      "\\end{eqnarray*}\n",
      "$$"
     ]
    },
    {
     "cell_type": "markdown",
     "metadata": {},
     "source": [
      "and inserting  these expressions for the two reduced matrix elements we get"
     ]
    },
    {
     "cell_type": "markdown",
     "metadata": {},
     "source": [
      "$$\n",
      "\\begin{array}{ll}\n",
      "&\\\\\n",
      "\\langle lSJ\\vert V\\vert l'S'J\\rangle =&(-1)^{S+J}\\sqrt{30(2l+1)(2l'+1)(2S+1)(2S'+1)}\\\\\n",
      "&\\times\\left\\{\\begin{array}{ccc}l&S &J \\\\l'&S&2\\end{array}\\right\\}\n",
      "\\left(\\begin{array}{ccc}l&2&l'\\\\0&0&0\\end{array}\\right)\n",
      "\\left\\{\\begin{array}{ccc}s_{1}&s_{2}&S\\\\s_{3}&s_{4}&S'\\\\\n",
      "1&1&2\\end{array}\n",
      "\\right\\}\\\\\n",
      "&\\times\\langle s_{1}\\vert\\vert \\sigma_{1}\\vert\\vert s_{3}\\rangle\n",
      "\\langle s_{2}\\vert\\vert \\sigma_{2}\\vert \\vert s_{4}\\rangle.\n",
      "\\end{array}\n",
      "$$"
     ]
    },
    {
     "cell_type": "markdown",
     "metadata": {},
     "source": [
      "Normally, we start we a nucleon-nucleon interaction fitted to reproduce scattering data.\n",
      "It is common then to represent this interaction in terms relative momenta $k$, the center-of-mass momentum $K$\n",
      "and various partial wave quantum numbers like the spin $S$, the total relative angular  momentum ${\\cal J}$, isospin $T$ and relative orbital momentum $l$ and finally the corresponding center-of-mass $L$.  \n",
      "We can then write the  free interaction matrix $V$ as"
     ]
    },
    {
     "cell_type": "markdown",
     "metadata": {},
     "source": [
      "$$\n",
      "\\langle kKlL{\\cal J}ST\\vert\\hat{V}\\vert k'Kl'L{\\cal J}S'T\\rangle.\n",
      "$$"
     ]
    },
    {
     "cell_type": "markdown",
     "metadata": {},
     "source": [
      "Transformations from the relative and center-of-mass motion\n",
      "system to the lab system will be discussed\n",
      "below.\n",
      "\n",
      "\n",
      "\n",
      "\n",
      "To obtain a $V$-matrix in a h.o. basis, we need  \n",
      "the transformation"
     ]
    },
    {
     "cell_type": "markdown",
     "metadata": {},
     "source": [
      "$$\n",
      "\\langle nNlL{\\cal J}ST\\vert\\hat{V}\\vert n'N'l'L'{\\cal J}S'T\\rangle,\n",
      "$$"
     ]
    },
    {
     "cell_type": "markdown",
     "metadata": {},
     "source": [
      "with $n$ and $N$ the principal quantum numbers of the relative and\n",
      "center-of-mass motion, respectively."
     ]
    },
    {
     "cell_type": "markdown",
     "metadata": {},
     "source": [
      "$$\n",
      "\\vert nlNL{\\cal J}ST\\rangle= \\int k^{2}K^{2}dkdKR_{nl}(\\sqrt{2}\\alpha k)\n",
      "R_{NL}(\\sqrt{1/2}\\alpha K)\n",
      "\\vert klKL{\\cal J}ST\\rangle.\n",
      "$$"
     ]
    },
    {
     "cell_type": "markdown",
     "metadata": {},
     "source": [
      "The parameter $\\alpha$ is the chosen oscillator length.\n",
      "\n",
      "\n",
      "\n",
      "The most commonly employed sp basis is the harmonic oscillator, which\n",
      "in turn means that\n",
      "a two-particle wave function with total angular momentum $J$\n",
      "and isospin $T$\n",
      "can be expressed as"
     ]
    },
    {
     "cell_type": "markdown",
     "metadata": {},
     "source": [
      "<!-- Equation labels as ordinary links -->\n",
      "<div id=\"eq:hoho\"></div>\n",
      "\n",
      "$$\n",
      "\\begin{array}{ll}\n",
      "\\vert (n_{a}l_{a}j_{a})(n_{b}l_{b}j_{b})JT\\rangle =&\n",
      "{\\displaystyle\n",
      "\\frac{1}{\\sqrt{(1+\\delta_{12})}}\n",
      "\\sum_{\\lambda S{\\cal J}}\\sum_{nNlL}}\n",
      "F\\times \\langle ab|\\lambda SJ \\rangle\\\\\n",
      "&\\times (-1)^{\\lambda +{\\cal J}-L-S}\\hat{\\lambda}\n",
      "\\left\\{\\begin{array}{ccc}L&l&\\lambda\\\\S&J&{\\cal J}\n",
      "\\end{array}\\right\\}\\\\\n",
      "&\\times \\left\\langle nlNL| n_al_an_bl_b\\right\\rangle\n",
      "\\vert nlNL{\\cal J}ST\\rangle ,\\end{array}\n",
      "\\label{eq:hoho} \\tag{132}\n",
      "$$"
     ]
    },
    {
     "cell_type": "markdown",
     "metadata": {},
     "source": [
      "where the term\n",
      "$\\left\\langle nlNL| n_al_an_bl_b\\right\\rangle$\n",
      "is the so-called Moshinsky-Talmi transformation coefficient (see chapter 18 of Alex Brown's notes).\n",
      "\n",
      "\n",
      "\n",
      "The term $\\langle ab|LSJ \\rangle $ is a shorthand\n",
      "for the $LS-jj$ transformation coefficient,"
     ]
    },
    {
     "cell_type": "markdown",
     "metadata": {},
     "source": [
      "$$\n",
      "\\langle ab|\\lambda SJ \\rangle = \\hat{j_{a}}\\hat{j_{b}}\n",
      "     \\hat{\\lambda}\\hat{S}\n",
      "     \\left\\{\n",
      "    \\begin{array}{ccc}\n",
      "       l_{a}&s_a&j_{a}\\\\\n",
      "       l_{b}&s_b&j_{b}\\\\\n",
      "       \\lambda    &S          &J\n",
      "    \\end{array}\n",
      "    \\right\\}.\n",
      "$$"
     ]
    },
    {
     "cell_type": "markdown",
     "metadata": {},
     "source": [
      "Here\n",
      "we use $\\hat{x} = \\sqrt{2x +1}$.\n",
      "The factor $F$ is defined as $F=\\frac{1-(-1)^{l+S+T}}{\\sqrt{2}}$ if\n",
      "$s_a = s_b$ and we .\n",
      "\n",
      "\n",
      "\n",
      "The $\\hat{V}$-matrix in terms of harmonic oscillator wave functions reads"
     ]
    },
    {
     "cell_type": "markdown",
     "metadata": {},
     "source": [
      "9\n",
      "1\n",
      "2\n",
      " \n",
      "<\n",
      "<\n",
      "<\n",
      "!\n",
      "!\n",
      "M\n",
      "A\n",
      "T\n",
      "H\n",
      "_\n",
      "B\n",
      "L\n",
      "O\n",
      "C\n",
      "K"
     ]
    },
    {
     "cell_type": "markdown",
     "metadata": {},
     "source": [
      "9\n",
      "1\n",
      "3\n",
      " \n",
      "<\n",
      "<\n",
      "<\n",
      "!\n",
      "!\n",
      "M\n",
      "A\n",
      "T\n",
      "H\n",
      "_\n",
      "B\n",
      "L\n",
      "O\n",
      "C\n",
      "K"
     ]
    },
    {
     "cell_type": "markdown",
     "metadata": {},
     "source": [
      "9\n",
      "1\n",
      "4\n",
      " \n",
      "<\n",
      "<\n",
      "<\n",
      "!\n",
      "!\n",
      "M\n",
      "A\n",
      "T\n",
      "H\n",
      "_\n",
      "B\n",
      "L\n",
      "O\n",
      "C\n",
      "K"
     ]
    },
    {
     "cell_type": "markdown",
     "metadata": {},
     "source": [
      "$$\n",
      "\\times\\langle nNlL{\\cal J}ST\\vert\\hat{V}\\vert n'N'l'L'{\\cal J}S'T\\rangle.\n",
      "$$"
     ]
    },
    {
     "cell_type": "markdown",
     "metadata": {},
     "source": [
      "The label $a$ represents here all the single particle quantum numbers  \n",
      "$n_{a}l_{a}j_{a}$.\n",
      "\n",
      "\n",
      "\n",
      "# Many-body perturbation theory\n",
      "<div id=\"ch:mbpt\"></div>\n",
      "\n",
      "## Many-body perturbation theory\n",
      "\n",
      "We assume here that we are only interested in the ground state of the system and \n",
      "expand the exact wave function in term of a series of Slater determinants"
     ]
    },
    {
     "cell_type": "markdown",
     "metadata": {},
     "source": [
      "$$\n",
      "\\vert \\Psi_0\\rangle = \\vert \\Phi_0\\rangle + \\sum_{m=1}^{\\infty}C_m\\vert \\Phi_m\\rangle,\n",
      "$$"
     ]
    },
    {
     "cell_type": "markdown",
     "metadata": {},
     "source": [
      "where we have assumed that the true ground state is dominated by the \n",
      "solution of the unperturbed problem, that is"
     ]
    },
    {
     "cell_type": "markdown",
     "metadata": {},
     "source": [
      "$$\n",
      "\\hat{H}_0\\vert \\Phi_0\\rangle= W_0\\vert \\Phi_0\\rangle.\n",
      "$$"
     ]
    },
    {
     "cell_type": "markdown",
     "metadata": {},
     "source": [
      "The state $\\vert \\Psi_0\\rangle$ is not normalized, rather we have used an intermediate \n",
      "normalization $\\langle \\Phi_0 \\vert \\Psi_0\\rangle=1$ since we have $\\langle \\Phi_0\\vert \\Phi_0\\rangle=1$. \n",
      "\n",
      "\n",
      "\n",
      "The Schroedinger equation is"
     ]
    },
    {
     "cell_type": "markdown",
     "metadata": {},
     "source": [
      "$$\n",
      "\\hat{H}\\vert \\Psi_0\\rangle = E\\vert \\Psi_0\\rangle,\n",
      "$$"
     ]
    },
    {
     "cell_type": "markdown",
     "metadata": {},
     "source": [
      "and multiplying the latter from the left with $\\langle \\Phi_0\\vert $ gives"
     ]
    },
    {
     "cell_type": "markdown",
     "metadata": {},
     "source": [
      "$$\n",
      "\\langle \\Phi_0\\vert \\hat{H}\\vert \\Psi_0\\rangle = E\\langle \\Phi_0\\vert \\Psi_0\\rangle=E,\n",
      "$$"
     ]
    },
    {
     "cell_type": "markdown",
     "metadata": {},
     "source": [
      "and subtracting from this equation"
     ]
    },
    {
     "cell_type": "markdown",
     "metadata": {},
     "source": [
      "$$\n",
      "\\langle \\Psi_0\\vert \\hat{H}_0\\vert \\Phi_0\\rangle= W_0\\langle \\Psi_0\\vert \\Phi_0\\rangle=W_0,\n",
      "$$"
     ]
    },
    {
     "cell_type": "markdown",
     "metadata": {},
     "source": [
      "and using the fact that the both operators $\\hat{H}$ and $\\hat{H}_0$ are hermitian \n",
      "results in"
     ]
    },
    {
     "cell_type": "markdown",
     "metadata": {},
     "source": [
      "$$\n",
      "\\Delta E=E-W_0=\\langle \\Phi_0\\vert \\hat{H}_I\\vert \\Psi_0\\rangle,\n",
      "$$"
     ]
    },
    {
     "cell_type": "markdown",
     "metadata": {},
     "source": [
      "which is an exact result. We call this quantity the correlation energy.\n",
      "\n",
      "\n",
      "\n",
      "This equation forms the starting point for all perturbative derivations. However,\n",
      "as it stands it represents nothing but a mere formal rewriting of Schroedinger's equation and is not of much practical use. The exact wave function $\\vert \\Psi_0\\rangle$ is unknown. In order to obtain a perturbative expansion, we need to expand the exact wave function in terms of the interaction $\\hat{H}_I$. \n",
      "\n",
      "Here we have assumed that our model space defined by the operator $\\hat{P}$ is one-dimensional, meaning that"
     ]
    },
    {
     "cell_type": "markdown",
     "metadata": {},
     "source": [
      "$$\n",
      "\\hat{P}= \\vert \\Phi_0\\rangle \\langle \\Phi_0\\vert ,\n",
      "$$"
     ]
    },
    {
     "cell_type": "markdown",
     "metadata": {},
     "source": [
      "and"
     ]
    },
    {
     "cell_type": "markdown",
     "metadata": {},
     "source": [
      "$$\n",
      "\\hat{Q}=\\sum_{m=1}^{\\infty}\\vert \\Phi_m\\rangle \\langle \\Phi_m\\vert .\n",
      "$$"
     ]
    },
    {
     "cell_type": "markdown",
     "metadata": {},
     "source": [
      "We can thus rewrite the exact wave function as"
     ]
    },
    {
     "cell_type": "markdown",
     "metadata": {},
     "source": [
      "$$\n",
      "\\vert \\Psi_0\\rangle= (\\hat{P}+\\hat{Q})\\vert \\Psi_0\\rangle=\\vert \\Phi_0\\rangle+\\hat{Q}\\vert \\Psi_0\\rangle.\n",
      "$$"
     ]
    },
    {
     "cell_type": "markdown",
     "metadata": {},
     "source": [
      "Going back to the Schr\\\"odinger equation, we can rewrite it as, adding and a subtracting a term $\\omega \\vert \\Psi_0\\rangle$ as"
     ]
    },
    {
     "cell_type": "markdown",
     "metadata": {},
     "source": [
      "$$\n",
      "\\left(\\omega-\\hat{H}_0\\right)\\vert \\Psi_0\\rangle=\\left(\\omega-E+\\hat{H}_I\\right)\\vert \\Psi_0\\rangle,\n",
      "$$"
     ]
    },
    {
     "cell_type": "markdown",
     "metadata": {},
     "source": [
      "where $\\omega$ is an energy variable to be specified later. \n",
      "\n",
      "\n",
      "We assume also that the resolvent of $\\left(\\omega-\\hat{H}_0\\right)$ exits, that is\n",
      "it has an inverse which defined the unperturbed Green's function as"
     ]
    },
    {
     "cell_type": "markdown",
     "metadata": {},
     "source": [
      "$$\n",
      "\\left(\\omega-\\hat{H}_0\\right)^{-1}=\\frac{1}{\\left(\\omega-\\hat{H}_0\\right)}.\n",
      "$$"
     ]
    },
    {
     "cell_type": "markdown",
     "metadata": {},
     "source": [
      "We can rewrite Schroedinger's equation as"
     ]
    },
    {
     "cell_type": "markdown",
     "metadata": {},
     "source": [
      "$$\n",
      "\\vert \\Psi_0\\rangle=\\frac{1}{\\omega-\\hat{H}_0}\\left(\\omega-E+\\hat{H}_I\\right)\\vert \\Psi_0\\rangle,\n",
      "$$"
     ]
    },
    {
     "cell_type": "markdown",
     "metadata": {},
     "source": [
      "and multiplying from the left with $\\hat{Q}$ results in"
     ]
    },
    {
     "cell_type": "markdown",
     "metadata": {},
     "source": [
      "$$\n",
      "\\hat{Q}\\vert \\Psi_0\\rangle=\\frac{\\hat{Q}}{\\omega-\\hat{H}_0}\\left(\\omega-E+\\hat{H}_I\\right)\\vert \\Psi_0\\rangle,\n",
      "$$"
     ]
    },
    {
     "cell_type": "markdown",
     "metadata": {},
     "source": [
      "which is possible since we have defined the operator $\\hat{Q}$ in terms of the eigenfunctions of $\\hat{H}$.\n",
      "\n",
      "\n",
      "\n",
      "\n",
      "These operators commute meaning that"
     ]
    },
    {
     "cell_type": "markdown",
     "metadata": {},
     "source": [
      "$$\n",
      "\\hat{Q}\\frac{1}{\\left(\\omega-\\hat{H}_0\\right)}\\hat{Q}=\\hat{Q}\\frac{1}{\\left(\\omega-\\hat{H}_0\\right)}=\\frac{\\hat{Q}}{\\left(\\omega-\\hat{H}_0\\right)}.\n",
      "$$"
     ]
    },
    {
     "cell_type": "markdown",
     "metadata": {},
     "source": [
      "With these definitions we can in turn define the wave function as"
     ]
    },
    {
     "cell_type": "markdown",
     "metadata": {},
     "source": [
      "$$\n",
      "\\vert \\Psi_0\\rangle=\\vert \\Phi_0\\rangle+\\frac{\\hat{Q}}{\\omega-\\hat{H}_0}\\left(\\omega-E+\\hat{H}_I\\right)\\vert \\Psi_0\\rangle.\n",
      "$$"
     ]
    },
    {
     "cell_type": "markdown",
     "metadata": {},
     "source": [
      "This equation is again nothing but a formal rewrite of Schr\\\"odinger's equation\n",
      "and does not represent a practical calculational scheme.  \n",
      "It is a non-linear equation in two unknown quantities, the energy $E$ and the exact\n",
      "wave function $\\vert \\Psi_0\\rangle$. We can however start with a guess for $\\vert \\Psi_0\\rangle$ on the right hand side of the last equation.\n",
      "\n",
      "\n",
      "\n",
      " The most common choice is to start with the function which is expected to exhibit the largest overlap with the wave function we are searching after, namely $\\vert \\Phi_0\\rangle$. This can again be inserted in the solution for $\\vert \\Psi_0\\rangle$ in an iterative fashion and if we continue along these lines we end up with"
     ]
    },
    {
     "cell_type": "markdown",
     "metadata": {},
     "source": [
      "$$\n",
      "\\vert \\Psi_0\\rangle=\\sum_{i=0}^{\\infty}\\left\\{\\frac{\\hat{Q}}{\\omega-\\hat{H}_0}\\left(\\omega-E+\\hat{H}_I\\right)\\right\\}^i\\vert \\Phi_0\\rangle,\n",
      "$$"
     ]
    },
    {
     "cell_type": "markdown",
     "metadata": {},
     "source": [
      "for the wave function and"
     ]
    },
    {
     "cell_type": "markdown",
     "metadata": {},
     "source": [
      "$$\n",
      "\\Delta E=\\sum_{i=0}^{\\infty}\\langle \\Phi_0\\vert \\hat{H}_I\\left\\{\\frac{\\hat{Q}}{\\omega-\\hat{H}_0}\\left(\\omega-E+\\hat{H}_I\\right)\\right\\}^i\\vert \\Phi_0\\rangle,\n",
      "$$"
     ]
    },
    {
     "cell_type": "markdown",
     "metadata": {},
     "source": [
      "which is now  a perturbative expansion of the exact energy in terms of the interaction\n",
      "$\\hat{H}_I$ and the unperturbed wave function $\\vert \\Psi_0\\rangle$.\n",
      "\n",
      "\n",
      "\n",
      "In our equations for $\\vert \\Psi_0\\rangle$ and $\\Delta E$ in terms of the unperturbed\n",
      "solutions $\\vert \\Phi_i\\rangle$  we have still an undetermined parameter $\\omega$\n",
      "and a dependecy on the exact energy $E$. Not much has been gained thus from a practical computational point of view. \n",
      "\n",
      "In Brilluoin-Wigner perturbation theory it is customary to set $\\omega=E$. This results in the following perturbative expansion for the energy $\\Delta E$"
     ]
    },
    {
     "cell_type": "markdown",
     "metadata": {},
     "source": [
      "9\n",
      "3\n",
      "3\n",
      " \n",
      "<\n",
      "<\n",
      "<\n",
      "!\n",
      "!\n",
      "M\n",
      "A\n",
      "T\n",
      "H\n",
      "_\n",
      "B\n",
      "L\n",
      "O\n",
      "C\n",
      "K"
     ]
    },
    {
     "cell_type": "markdown",
     "metadata": {},
     "source": [
      "$$\n",
      "\\langle \\Phi_0\\vert \\left(\\hat{H}_I+\\hat{H}_I\\frac{\\hat{Q}}{E-\\hat{H}_0}\\hat{H}_I+\n",
      "\\hat{H}_I\\frac{\\hat{Q}}{E-\\hat{H}_0}\\hat{H}_I\\frac{\\hat{Q}}{E-\\hat{H}_0}\\hat{H}_I+\\dots\\right)\\vert \\Phi_0\\rangle.\n",
      "$$"
     ]
    },
    {
     "cell_type": "markdown",
     "metadata": {},
     "source": [
      "9\n",
      "3\n",
      "5\n",
      " \n",
      "<\n",
      "<\n",
      "<\n",
      "!\n",
      "!\n",
      "M\n",
      "A\n",
      "T\n",
      "H\n",
      "_\n",
      "B\n",
      "L\n",
      "O\n",
      "C\n",
      "K"
     ]
    },
    {
     "cell_type": "markdown",
     "metadata": {},
     "source": [
      "$$\n",
      "\\langle \\Phi_0\\vert \\left(\\hat{H}_I+\\hat{H}_I\\frac{\\hat{Q}}{E-\\hat{H}_0}\\hat{H}_I+\n",
      "\\hat{H}_I\\frac{\\hat{Q}}{E-\\hat{H}_0}\\hat{H}_I\\frac{\\hat{Q}}{E-\\hat{H}_0}\\hat{H}_I+\\dots\\right)\\vert \\Phi_0\\rangle.\n",
      "$$"
     ]
    },
    {
     "cell_type": "markdown",
     "metadata": {},
     "source": [
      "This expression depends however on the exact energy $E$ and is again not very convenient from a practical point of view. It can obviously be solved iteratively, by starting with a guess for  $E$ and then solve till some kind of self-consistency criterion has been reached. \n",
      "\n",
      "Actually, the above expression is nothing but a rewrite again of the full Schr\\\"odinger equation. \n",
      "\n",
      "Defining $e=E-\\hat{H}_0$ and recalling that $\\hat{H}_0$ commutes with \n",
      "$\\hat{Q}$ by construction and that $\\hat{Q}$ is an idempotent operator\n",
      "$\\hat{Q}^2=\\hat{Q}$. \n",
      "Using this equation in the above expansion for $\\Delta E$ we can write the denominator"
     ]
    },
    {
     "cell_type": "markdown",
     "metadata": {},
     "source": [
      "9\n",
      "3\n",
      "7\n",
      " \n",
      "<\n",
      "<\n",
      "<\n",
      "!\n",
      "!\n",
      "M\n",
      "A\n",
      "T\n",
      "H\n",
      "_\n",
      "B\n",
      "L\n",
      "O\n",
      "C\n",
      "K"
     ]
    },
    {
     "cell_type": "markdown",
     "metadata": {},
     "source": [
      "$$\n",
      "\\hat{Q}\\left[\\frac{1}{\\hat{e}}+\\frac{1}{\\hat{e}}\\hat{Q}\\hat{H}_I\\hat{Q}\n",
      "\\frac{1}{\\hat{e}}+\\frac{1}{\\hat{e}}\\hat{Q}\\hat{H}_I\\hat{Q}\n",
      "\\frac{1}{\\hat{e}}\\hat{Q}\\hat{H}_I\\hat{Q}\\frac{1}{\\hat{e}}+\\dots\\right]\\hat{Q}.\n",
      "$$"
     ]
    },
    {
     "cell_type": "markdown",
     "metadata": {},
     "source": [
      "Inserted in the expression for $\\Delta E$ leads to"
     ]
    },
    {
     "cell_type": "markdown",
     "metadata": {},
     "source": [
      "$$\n",
      "\\Delta E=\n",
      "\\langle \\Phi_0\\vert \\hat{H}_I+\\hat{H}_I\\hat{Q}\\frac{1}{E-\\hat{H}_0-\\hat{Q}\\hat{H}_I\\hat{Q}}\\hat{Q}\\hat{H}_I\\vert \\Phi_0\\rangle.\n",
      "$$"
     ]
    },
    {
     "cell_type": "markdown",
     "metadata": {},
     "source": [
      "In RS perturbation theory we set $\\omega = W_0$ and obtain the following expression for the energy difference"
     ]
    },
    {
     "cell_type": "markdown",
     "metadata": {},
     "source": [
      "9\n",
      "4\n",
      "0\n",
      " \n",
      "<\n",
      "<\n",
      "<\n",
      "!\n",
      "!\n",
      "M\n",
      "A\n",
      "T\n",
      "H\n",
      "_\n",
      "B\n",
      "L\n",
      "O\n",
      "C\n",
      "K"
     ]
    },
    {
     "cell_type": "markdown",
     "metadata": {},
     "source": [
      "$$\n",
      "\\langle \\Phi_0\\vert \\left(\\hat{H}_I+\\hat{H}_I\\frac{\\hat{Q}}{W_0-\\hat{H}_0}(\\hat{H}_I-\\Delta E)+\n",
      "\\hat{H}_I\\frac{\\hat{Q}}{W_0-\\hat{H}_0}(\\hat{H}_I-\\Delta E)\\frac{\\hat{Q}}{W_0-\\hat{H}_0}(\\hat{H}_I-\\Delta E)+\\dots\\right)\\vert \\Phi_0\\rangle.\n",
      "$$"
     ]
    },
    {
     "cell_type": "markdown",
     "metadata": {},
     "source": [
      "Recalling that $\\hat{Q}$ commutes with $\\hat{H_0}$ and since $\\Delta E$ is a constant we obtain that"
     ]
    },
    {
     "cell_type": "markdown",
     "metadata": {},
     "source": [
      "$$\n",
      "\\hat{Q}\\Delta E\\vert \\Phi_0\\rangle = \\hat{Q}\\Delta E\\vert \\hat{Q}\\Phi_0\\rangle = 0.\n",
      "$$"
     ]
    },
    {
     "cell_type": "markdown",
     "metadata": {},
     "source": [
      "Inserting this results in the expression for the energy results in"
     ]
    },
    {
     "cell_type": "markdown",
     "metadata": {},
     "source": [
      "$$\n",
      "\\Delta E=\\langle \\Phi_0\\vert \\left(\\hat{H}_I+\\hat{H}_I\\frac{\\hat{Q}}{W_0-\\hat{H}_0}\\hat{H}_I+\n",
      "\\hat{H}_I\\frac{\\hat{Q}}{W_0-\\hat{H}_0}(\\hat{H}_I-\\Delta E)\\frac{\\hat{Q}}{W_0-\\hat{H}_0}\\hat{H}_I+\\dots\\right)\\vert \\Phi_0\\rangle.\n",
      "$$"
     ]
    },
    {
     "cell_type": "markdown",
     "metadata": {},
     "source": [
      "We can now this expression in terms of a perturbative expression in terms\n",
      "of $\\hat{H}_I$ where we iterate the last expression in terms of $\\Delta E$"
     ]
    },
    {
     "cell_type": "markdown",
     "metadata": {},
     "source": [
      "$$\n",
      "\\Delta E=\\sum_{i=1}^{\\infty}\\Delta E^{(i)}.\n",
      "$$"
     ]
    },
    {
     "cell_type": "markdown",
     "metadata": {},
     "source": [
      "We get the following expression for $\\Delta E^{(i)}$"
     ]
    },
    {
     "cell_type": "markdown",
     "metadata": {},
     "source": [
      "$$\n",
      "\\Delta E^{(1)}=\\langle \\Phi_0\\vert \\hat{H}_I\\vert \\Phi_0\\rangle,\n",
      "$$"
     ]
    },
    {
     "cell_type": "markdown",
     "metadata": {},
     "source": [
      "which is just the contribution to first order in perturbation theory,"
     ]
    },
    {
     "cell_type": "markdown",
     "metadata": {},
     "source": [
      "$$\n",
      "\\Delta E^{(2)}=\\langle\\Phi_0\\vert \\hat{H}_I\\frac{\\hat{Q}}{W_0-\\hat{H}_0}\\hat{H}_I\\vert \\Phi_0\\rangle,\n",
      "$$"
     ]
    },
    {
     "cell_type": "markdown",
     "metadata": {},
     "source": [
      "which is the contribution to second order."
     ]
    },
    {
     "cell_type": "markdown",
     "metadata": {},
     "source": [
      "$$\n",
      "\\Delta E^{(3)}=\\langle \\Phi_0\\vert \\hat{H}_I\\frac{\\hat{Q}}{W_0-\\hat{H}_0}\\hat{H}_I\\frac{\\hat{Q}}{W_0-\\hat{H}_0}\\hat{H}_I\\Phi_0\\rangle-\n",
      "\\langle\\Phi_0\\vert \\hat{H}_I\\frac{\\hat{Q}}{W_0-\\hat{H}_0}\\langle \\Phi_0\\vert \\hat{H}_I\\vert \\Phi_0\\rangle\\frac{\\hat{Q}}{W_0-\\hat{H}_0}\\hat{H}_I\\vert \\Phi_0\\rangle,\n",
      "$$"
     ]
    },
    {
     "cell_type": "markdown",
     "metadata": {},
     "source": [
      "being the third-order contribution. \n",
      "\n",
      "\n",
      "\n",
      "Let us analyse a given contribution to first first order in perturbation, that is, the contribution includes (more material to come)\n",
      "\n",
      "\n",
      "\n",
      "\n",
      "# Coupled cluster theory\n",
      "<div id=\"ch:cc\"></div>\n",
      "\n",
      "\n",
      "\n",
      "\n",
      "# Infinite matter\n",
      "<div id=\"ch:infmatter\"></div>\n",
      "\n",
      "\n",
      "## Introduction to studies of infinite matter\n",
      "\n",
      "\n",
      "Studies of infinite nuclear matter play an important role  in nuclear physics. The aim of this part of the lectures is to provide the necessary ingredients for perfoming studies of neutron star matter (or matter in $\\beta$-equilibrium) and symmetric nuclear matter. We start however with the electron gas in two and three dimensions for both historical and pedagogical reasons. Since there are several benchmark calculations for the electron gas, this small detour will allow us to establish the necessary formalism. Thereafter we will study infinite nuclear matter \n",
      "* at the Hartree-Fock with realistic nuclear forces and\n",
      "\n",
      "* using many-body methods like coupled-cluster theory or in-medium SRG as discussed in our previous sections.\n",
      "\n",
      "### The infinite electron gas\n",
      "\n",
      "The electron gas is perhaps the only realistic model of a \n",
      "system of many interacting particles that allows for a solution\n",
      "of the Hartree-Fock equations on a closed form. Furthermore, to first order in the interaction, one can also\n",
      "compute on a closed form the total energy and several other properties of a many-particle systems. \n",
      "The model gives a very good approximation to the properties of valence electrons in metals.\n",
      "The assumptions are\n",
      "\n",
      " * System of electrons that is not influenced by external forces except by an attraction provided by a uniform background of ions. These ions give rise to a uniform background charge. The ions are stationary.\n",
      "\n",
      " * The system as a whole is neutral.\n",
      "\n",
      " * We assume we have $N_e$ electrons in a cubic box of length $L$ and volume $\\Omega=L^3$. This volume contains also a uniform distribution of positive charge with density $N_ee/\\Omega$. \n",
      "\n",
      "The homogeneous electron gas is one of the few examples of a system of many\n",
      "interacting particles that allows for a solution of the mean-field\n",
      "Hartree-Fock equations on a closed form.  To first order in the\n",
      "electron-electron interaction, this applies to ground state properties\n",
      "like the energy and its pertinent equation of state as well.  The\n",
      "homogeneus electron gas is a system of electrons that is not\n",
      "influenced by external forces except by an attraction provided by a\n",
      "uniform background of ions. These ions give rise to a uniform\n",
      "background charge.  The ions are stationary and the system as a whole\n",
      "is neutral.\n",
      "Irrespective of this simplicity, this system, in both two and\n",
      "three-dimensions, has eluded a proper description of correlations in\n",
      "terms of various first principle methods, except perhaps for quantum\n",
      "Monte Carlo methods. In particular, the diffusion Monte Carlo\n",
      "calculations of [Ceperley](http://journals.aps.org/prl/abstract/10.1103/PhysRevLett.45.566) \n",
      "and [Ceperley and Tanatar](http://journals.aps.org/prb/abstract/10.1103/PhysRevB.39.5005) \n",
      "are presently still considered as the\n",
      "best possible benchmarks for the two- and three-dimensional electron\n",
      "gas. \n",
      "\n",
      "\n",
      "\n",
      "The electron gas, in \n",
      "two or three dimensions is thus interesting as a test-bed for \n",
      "electron-electron correlations. The three-dimensional \n",
      "electron gas is particularly important as a cornerstone \n",
      "of the local-density approximation in density-functional \n",
      "theory. In the physical world, systems \n",
      "similar to the three-dimensional electron gas can be \n",
      "found in, for example, alkali metals and doped \n",
      "semiconductors. Two-dimensional electron fluids are \n",
      "observed on metal and liquid-helium surfaces, as well as \n",
      "at metal-oxide-semiconductor interfaces. However, the Coulomb \n",
      "interaction has an infinite range, and therefore \n",
      "long-range correlations play an essential role in the\n",
      "electron gas. \n",
      "\n",
      "\n",
      "\n",
      "\n",
      "At low densities, the electrons become \n",
      "localized and form a lattice. This so-called Wigner \n",
      "crystallization is a direct consequence \n",
      "of the long-ranged repulsive interaction. At higher\n",
      "densities, the electron gas is better described as a\n",
      "liquid.\n",
      "When using, for example, Monte Carlo methods the electron gas must be approximated \n",
      "by a finite system. The long-range Coulomb interaction \n",
      "in the electron gas causes additional finite-size effects  that are not\n",
      "present in other infinite systems like nuclear matter or neutron star matter.\n",
      "This poses additional challenges to many-body methods when applied \n",
      "to the electron gas.\n",
      "\n",
      "\n",
      "\n",
      "\n",
      "\n",
      "### The infinite electron gas as a homogenous system\n",
      "\n",
      "This is a homogeneous system and the one-particle wave functions are given by plane wave functions normalized to a volume $\\Omega$ \n",
      "for a box with length $L$ (the limit $L\\rightarrow \\infty$ is to be taken after we have computed various expectation values)"
     ]
    },
    {
     "cell_type": "markdown",
     "metadata": {},
     "source": [
      "$$\n",
      "\\psi_{\\mathbf{k}\\sigma}(\\mathbf{r})= \\frac{1}{\\sqrt{\\Omega}}\\exp{(i\\mathbf{kr})}\\xi_{\\sigma}\n",
      "$$"
     ]
    },
    {
     "cell_type": "markdown",
     "metadata": {},
     "source": [
      "where $\\mathbf{k}$ is the wave number and  $\\xi_{\\sigma}$ is a spin function for either spin up or down"
     ]
    },
    {
     "cell_type": "markdown",
     "metadata": {},
     "source": [
      "$$\n",
      "\\xi_{\\sigma=+1/2}=\\left(\\begin{array}{c} 1 \\\\ 0 \\end{array}\\right) \\hspace{0.5cm}\n",
      "\\xi_{\\sigma=-1/2}=\\left(\\begin{array}{c} 0 \\\\ 1 \\end{array}\\right).\n",
      "$$"
     ]
    },
    {
     "cell_type": "markdown",
     "metadata": {},
     "source": [
      "### Periodic boundary conditions\n",
      "\n",
      "\n",
      "We assume that we have periodic boundary conditions which limit the allowed wave numbers to"
     ]
    },
    {
     "cell_type": "markdown",
     "metadata": {},
     "source": [
      "$$\n",
      "k_i=\\frac{2\\pi n_i}{L}\\hspace{0.5cm} i=x,y,z \\hspace{0.5cm} n_i=0,\\pm 1,\\pm 2, \\dots\n",
      "$$"
     ]
    },
    {
     "cell_type": "markdown",
     "metadata": {},
     "source": [
      "We assume first that the electrons interact via a central, symmetric and translationally invariant\n",
      "interaction  $V(r_{12})$ with\n",
      "$r_{12}=|\\mathbf{r}_1-\\mathbf{r}_2|$.  The interaction is spin independent.\n",
      "\n",
      "The total Hamiltonian consists then of kinetic and potential energy"
     ]
    },
    {
     "cell_type": "markdown",
     "metadata": {},
     "source": [
      "$$\n",
      "\\hat{H} = \\hat{T}+\\hat{V}.\n",
      "$$"
     ]
    },
    {
     "cell_type": "markdown",
     "metadata": {},
     "source": [
      "The operator for the kinetic energy can be written as"
     ]
    },
    {
     "cell_type": "markdown",
     "metadata": {},
     "source": [
      "$$\n",
      "\\hat{T}=\\sum_{\\mathbf{k}\\sigma}\\frac{\\hbar^2k^2}{2m}a_{\\mathbf{k}\\sigma}^{\\dagger}a_{\\mathbf{k}\\sigma}.\n",
      "$$"
     ]
    },
    {
     "cell_type": "markdown",
     "metadata": {},
     "source": [
      "### Defining the Hamiltonian operator\n",
      "\n",
      "The Hamiltonian operator is given by"
     ]
    },
    {
     "cell_type": "markdown",
     "metadata": {},
     "source": [
      "$$\n",
      "\\hat{H}=\\hat{H}_{el}+\\hat{H}_{b}+\\hat{H}_{el-b},\n",
      "$$"
     ]
    },
    {
     "cell_type": "markdown",
     "metadata": {},
     "source": [
      "with the electronic part"
     ]
    },
    {
     "cell_type": "markdown",
     "metadata": {},
     "source": [
      "$$\n",
      "\\hat{H}_{el}=\\sum_{i=1}^N\\frac{p_i^2}{2m}+\\frac{e^2}{2}\\sum_{i\\ne j}\\frac{e^{-\\mu |\\mathbf{r}_i-\\mathbf{r}_j|}}{|\\mathbf{r}_i-\\mathbf{r}_j|},\n",
      "$$"
     ]
    },
    {
     "cell_type": "markdown",
     "metadata": {},
     "source": [
      "where we have introduced an explicit convergence factor\n",
      "(the limit $\\mu\\rightarrow 0$ is performed after having calculated the various integrals).\n",
      "Correspondingly, we have"
     ]
    },
    {
     "cell_type": "markdown",
     "metadata": {},
     "source": [
      "$$\n",
      "\\hat{H}_{b}=\\frac{e^2}{2}\\int\\int d\\mathbf{r}d\\mathbf{r}'\\frac{n(\\mathbf{r})n(\\mathbf{r}')e^{-\\mu |\\mathbf{r}-\\mathbf{r}'|}}{|\\mathbf{r}-\\mathbf{r}'|},\n",
      "$$"
     ]
    },
    {
     "cell_type": "markdown",
     "metadata": {},
     "source": [
      "which is the energy contribution from the positive background charge with density\n",
      "$n(\\mathbf{r})=N/\\Omega$. Finally,"
     ]
    },
    {
     "cell_type": "markdown",
     "metadata": {},
     "source": [
      "$$\n",
      "\\hat{H}_{el-b}=-\\frac{e^2}{2}\\sum_{i=1}^N\\int d\\mathbf{r}\\frac{n(\\mathbf{r})e^{-\\mu |\\mathbf{r}-\\mathbf{x}_i|}}{|\\mathbf{r}-\\mathbf{x}_i|},\n",
      "$$"
     ]
    },
    {
     "cell_type": "markdown",
     "metadata": {},
     "source": [
      "is the interaction between the electrons and the positive background.\n",
      "\n",
      "\n",
      "\n",
      "### Single-particle Hartree-Fock energy\n",
      "\n",
      "In the first exercise below we show that the Hartree-Fock energy can be written as"
     ]
    },
    {
     "cell_type": "markdown",
     "metadata": {},
     "source": [
      "$$\n",
      "\\varepsilon_{k}^{HF}=\\frac{\\hbar^{2}k^{2}}{2m_e}-\\frac{e^{2}}\n",
      "{\\Omega^{2}}\\sum_{k'\\leq\n",
      "k_{F}}\\int d\\mathbf{r}e^{i(\\mathbf{k}'-\\mathbf{k})\\mathbf{r}}\\int\n",
      "d\\mathbf{r'}\\frac{e^{i(\\mathbf{k}-\\mathbf{k}')\\mathbf{r}'}}\n",
      "{\\vert\\mathbf{r}-\\mathbf{r}'\\vert}\n",
      "$$"
     ]
    },
    {
     "cell_type": "markdown",
     "metadata": {},
     "source": [
      "resulting in"
     ]
    },
    {
     "cell_type": "markdown",
     "metadata": {},
     "source": [
      "$$\n",
      "\\varepsilon_{k}^{HF}=\\frac{\\hbar^{2}k^{2}}{2m_e}-\\frac{e^{2}\n",
      "k_{F}}{2\\pi}\n",
      "\\left[\n",
      "2+\\frac{k_{F}^{2}-k^{2}}{kk_{F}}ln\\left\\vert\\frac{k+k_{F}}\n",
      "{k-k_{F}}\\right\\vert\n",
      "\\right]\n",
      "$$"
     ]
    },
    {
     "cell_type": "markdown",
     "metadata": {},
     "source": [
      "The previous result can be rewritten in terms of the density"
     ]
    },
    {
     "cell_type": "markdown",
     "metadata": {},
     "source": [
      "$$\n",
      "n= \\frac{k_F^3}{3\\pi^2}=\\frac{3}{4\\pi r_s^3},\n",
      "$$"
     ]
    },
    {
     "cell_type": "markdown",
     "metadata": {},
     "source": [
      "where $n=N_e/\\Omega$, $N_e$ being the number of electrons, and $r_s$ is the radius of a sphere which represents the volum per conducting electron.  \n",
      "It can be convenient to use the Bohr radius $a_0=\\hbar^2/e^2m_e$.\n",
      "For most metals we have a relation $r_s/a_0\\sim 2-6$.  The quantity $r_s$ is dimensionless.\n",
      "\n",
      "\n",
      "In the second exercise below  we find that\n",
      "the total energy\n",
      "$E_0/N_e=\\langle\\Phi_{0}|\\hat{H}|\\Phi_{0}\\rangle/N_e$ for\n",
      "for this system to first order in the interaction is given as"
     ]
    },
    {
     "cell_type": "markdown",
     "metadata": {},
     "source": [
      "$$\n",
      "E_0/N_e=\\frac{e^2}{2a_0}\\left[\\frac{2.21}{r_s^2}-\\frac{0.916}{r_s}\\right].\n",
      "$$"
     ]
    },
    {
     "cell_type": "markdown",
     "metadata": {},
     "source": [
      "<!-- --- begin exercise --- -->\n",
      "\n",
      "### Exercise 25: Hartree-Fock single-particle solution for the electron gas\n",
      "\n",
      "The electron gas model allows closed form solutions for quantities like the \n",
      "single-particle Hartree-Fock energy.  The latter quantity is given by the following expression"
     ]
    },
    {
     "cell_type": "markdown",
     "metadata": {},
     "source": [
      "$$\n",
      "\\varepsilon_{k}^{HF}=\\frac{\\hbar^{2}k^{2}}{2m}-\\frac{e^{2}}\n",
      "{V^{2}}\\sum_{k'\\leq\n",
      "k_{F}}\\int d\\mathbf{r}e^{i(\\mathbf{k'}-\\mathbf{k})\\mathbf{r}}\\int\n",
      "d\\mathbf{r}'\\frac{e^{i(\\mathbf{k}-\\mathbf{k'})\\mathbf{r}'}}\n",
      "{\\vert\\mathbf{r}-\\mathbf{r'}\\vert}\n",
      "$$"
     ]
    },
    {
     "cell_type": "markdown",
     "metadata": {},
     "source": [
      "**a)**\n",
      "Show first that"
     ]
    },
    {
     "cell_type": "markdown",
     "metadata": {},
     "source": [
      "$$\n",
      "\\varepsilon_{k}^{HF}=\\frac{\\hbar^{2}k^{2}}{2m}-\\frac{e^{2}\n",
      "k_{F}}{2\\pi}\n",
      "\\left[\n",
      "2+\\frac{k_{F}^{2}-k^{2}}{kk_{F}}ln\\left\\vert\\frac{k+k_{F}}\n",
      "{k-k_{F}}\\right\\vert\n",
      "\\right]\n",
      "$$"
     ]
    },
    {
     "cell_type": "markdown",
     "metadata": {},
     "source": [
      "<!-- --- begin hint in exercise --- -->\n",
      "\n",
      "**Hint.**\n",
      "Hint: Introduce the convergence factor \n",
      "$e^{-\\mu\\vert\\mathbf{r}-\\mathbf{r}'\\vert}$\n",
      "in the potential and use  $\\sum_{\\mathbf{k}}\\rightarrow\n",
      "\\frac{V}{(2\\pi)^{3}}\\int d\\mathbf{k}$\n",
      "\n",
      "<!-- --- end hint in exercise --- -->\n",
      "\n",
      "**b)**\n",
      "Rewrite the above result as a function of the density"
     ]
    },
    {
     "cell_type": "markdown",
     "metadata": {},
     "source": [
      "$$\n",
      "n= \\frac{k_F^3}{3\\pi^2}=\\frac{3}{4\\pi r_s^3},\n",
      "$$"
     ]
    },
    {
     "cell_type": "markdown",
     "metadata": {},
     "source": [
      "where $n=N/V$, $N$ being the number of particles, and $r_s$ is the radius of a sphere which represents the volum per conducting electron.\n",
      "\n",
      "It can be convenient to use the Bohr radius $a_0=\\hbar^2/e^2m$.\n",
      "For most metals we have a relation $r_s/a_0\\sim 2-6$.\n",
      "**c)**\n",
      "Make a plot of the free electron energy and the Hartree-Fock energy and discuss the behavior around the Fermi surface. Extract also   the Hartree-Fock band width $\\Delta\\varepsilon^{HF}$ defined as"
     ]
    },
    {
     "cell_type": "markdown",
     "metadata": {},
     "source": [
      "$$\n",
      "\\Delta\\varepsilon^{HF}=\\varepsilon_{k_{F}}^{HF}-\n",
      "\\varepsilon_{0}^{HF}.\n",
      "$$"
     ]
    },
    {
     "cell_type": "markdown",
     "metadata": {},
     "source": [
      "Compare this results with the corresponding one for a free electron and comment your results. How large is the contribution due to the exchange term in the Hartree-Fock equation?\n",
      "We will now define a quantity called the effective mass.\n",
      "For $\\vert\\mathbf{k}\\vert$ near $k_{F}$, we can Taylor expand the Hartree-Fock energy as"
     ]
    },
    {
     "cell_type": "markdown",
     "metadata": {},
     "source": [
      "$$\n",
      "\\varepsilon_{k}^{HF}=\\varepsilon_{k_{F}}^{HF}+\n",
      "\\left(\\frac{\\partial\\varepsilon_{k}^{HF}}{\\partial k}\\right)_{k_{F}}(k-k_{F})+\\dots\n",
      "$$"
     ]
    },
    {
     "cell_type": "markdown",
     "metadata": {},
     "source": [
      "If we compare the latter with the corresponding expressiyon for the non-interacting system"
     ]
    },
    {
     "cell_type": "markdown",
     "metadata": {},
     "source": [
      "$$\n",
      "\\varepsilon_{k}^{(0)}=\\frac{\\hbar^{2}k^{2}_{F}}{2m}+\n",
      "\\frac{\\hbar^{2}k_{F}}{m}\\left(k-k_{F}\\right)+\\dots ,\n",
      "$$"
     ]
    },
    {
     "cell_type": "markdown",
     "metadata": {},
     "source": [
      "we can define the so-called effective Hartree-Fock mass as"
     ]
    },
    {
     "cell_type": "markdown",
     "metadata": {},
     "source": [
      "$$\n",
      "m_{HF}^{*}\\equiv\\hbar^{2}k_{F}\\left(\n",
      "\\frac{\\partial\\varepsilon_{k}^{HF}}\n",
      "{\\partial k}\\right)_{k_{F}}^{-1}\n",
      "$$"
     ]
    },
    {
     "cell_type": "markdown",
     "metadata": {},
     "source": [
      "**d)**\n",
      "Compute $m_{HF}^{*}$ and comment your results.\n",
      "\n",
      "**e)**\n",
      "Show that the level density (the number of single-electron states per unit energy) can be written as"
     ]
    },
    {
     "cell_type": "markdown",
     "metadata": {},
     "source": [
      "$$\n",
      "n(\\varepsilon)=\\frac{Vk^{2}}{2\\pi^{2}}\\left(\n",
      "\\frac{\\partial\\varepsilon}{\\partial k}\\right)^{-1}\n",
      "$$"
     ]
    },
    {
     "cell_type": "markdown",
     "metadata": {},
     "source": [
      "Calculate $n(\\varepsilon_{F}^{HF})$ and comment the results.\n",
      "\n",
      "We want to show that, given the Hartree-Fock equation for the electron gas"
     ]
    },
    {
     "cell_type": "markdown",
     "metadata": {},
     "source": [
      "$$\n",
      "\\varepsilon_{k}^{HF}=\\frac{\\hbar^{2}k^{2}}{2m}-\\frac{e^{2}}\n",
      "{V^{2}}\\sum_{p\\leq\n",
      "k_{F}}\\int d\\mathbf{r}\\exp{(i(\\mathbf{p}-\\mathbf{k})\\mathbf{r})}\\int\n",
      "d\\mathbf{r}'\\frac{\\exp{(i(\\mathbf{k}-\\mathbf{p})\\mathbf{r}'})}\n",
      "{\\vert\\mathbf{r}-\\mathbf{r'}\\vert}\n",
      "$$"
     ]
    },
    {
     "cell_type": "markdown",
     "metadata": {},
     "source": [
      "the single-particle energy can be written as"
     ]
    },
    {
     "cell_type": "markdown",
     "metadata": {},
     "source": [
      "$$\n",
      "\\varepsilon_{k}^{HF}=\\frac{\\hbar^{2}k^{2}}{2m}-\\frac{e^{2}\n",
      "k_{F}}{2\\pi}\n",
      "\\left[\n",
      "2+\\frac{k_{F}^{2}-k^{2}}{kk_{F}}ln\\left\\vert\\frac{k+k_{F}}\n",
      "{k-k_{F}}\\right\\vert\n",
      "\\right].\n",
      "$$"
     ]
    },
    {
     "cell_type": "markdown",
     "metadata": {},
     "source": [
      "We introduce the convergence factor \n",
      "$e^{-\\mu\\vert\\mathbf{r}-\\mathbf{r}'\\vert}$\n",
      "in the potential and use  $\\sum_{\\mathbf{k}}\\rightarrow\n",
      "\\frac{V}{(2\\pi)^{3}}\\int d\\mathbf{k}$. We can then rewrite the integral as"
     ]
    },
    {
     "cell_type": "markdown",
     "metadata": {},
     "source": [
      "$$\n",
      "\\begin{equation}\n",
      "\\frac{e^{2}}\n",
      "{V^{2}}\\sum_{k'\\leq\n",
      "k_{F}}\\int d\\mathbf{r}\\exp{(i(\\mathbf{k'}-\\mathbf{k})\\mathbf{r})}\\int\n",
      "d\\mathbf{r}'\\frac{\\exp{(i(\\mathbf{k}-\\mathbf{p})\\mathbf{r}'})}\n",
      "{\\vert\\mathbf{r}-\\mathbf{r'}\\vert}=  \n",
      "\\end{equation}\n",
      "$$"
     ]
    },
    {
     "cell_type": "markdown",
     "metadata": {},
     "source": [
      "$$\n",
      "\\begin{equation} \n",
      "\\frac{e^{2}}{V (2\\pi)^3}  \\int d\\mathbf{r}\\int\n",
      "\\frac{d\\mathbf{r}'}{\\vert\\mathbf{r}-\\mathbf{r'}\\vert}\\exp{(-i\\mathbf{k}(\\mathbf{r}-\\mathbf{r}'))}\\int d\\mathbf{p}\\exp{(i\\mathbf{p}(\\mathbf{r}-\\mathbf{r}'))},\n",
      "\\end{equation}\n",
      "$$"
     ]
    },
    {
     "cell_type": "markdown",
     "metadata": {},
     "source": [
      "and introducing the abovementioned convergence factor we have"
     ]
    },
    {
     "cell_type": "markdown",
     "metadata": {},
     "source": [
      "$$\n",
      "\\begin{equation}\n",
      "\\lim_{\\mu \\to 0}\\frac{e^{2}}{V (2\\pi)^3}  \\int d\\mathbf{r}\\int d\\mathbf{r}'\\frac{\\exp{(-\\mu\\vert\\mathbf{r}-\\mathbf{r}'\\vert})}{\\vert\\mathbf{r}-\\mathbf{r'}\\vert}\\int d\\mathbf{p}\\exp{(i(\\mathbf{p}-\\mathbf{k})(\\mathbf{r}-\\mathbf{r}'))}.\n",
      "\\end{equation}\n",
      "$$"
     ]
    },
    {
     "cell_type": "markdown",
     "metadata": {},
     "source": [
      "With a change variables to $\\mathbf{x} = \\mathbf{r}-\\mathbf{r}'$ and $\\mathbf{y}=\\mathbf{r}'$ we rewrite the last integral as"
     ]
    },
    {
     "cell_type": "markdown",
     "metadata": {},
     "source": [
      "$$\n",
      "\\lim_{\\mu \\to 0}\\frac{e^{2}}{V (2\\pi)^3}  \\int d\\mathbf{p}\\int d\\mathbf{y}\\int d\\mathbf{x}\\exp{(i(\\mathbf{p}-\\mathbf{k})\\mathbf{x})}\\frac{\\exp{(-\\mu\\vert\\mathbf{x}\\vert})}{\\vert\\mathbf{x}\\vert}.\n",
      "$$"
     ]
    },
    {
     "cell_type": "markdown",
     "metadata": {},
     "source": [
      "The integration over $\\mathbf{x}$ can be performed using spherical coordinates, resulting in (with $x=\\vert \\mathbf{x}\\vert$)"
     ]
    },
    {
     "cell_type": "markdown",
     "metadata": {},
     "source": [
      "$$\n",
      "\\int d\\mathbf{x}\\exp{(i(\\mathbf{p}-\\mathbf{k})\\mathbf{x})}\\frac{\\exp{(-\\mu\\vert\\mathbf{x}\\vert})}{\\vert\\mathbf{x}\\vert}=\\int x^2 dx d\\phi d\\cos{(\\theta)}\\exp{(i(\\mathbf{p}-\\mathbf{k})x\\cos{(\\theta))}}\\frac{\\exp{(-\\mu x)}}{x}.\n",
      "$$"
     ]
    },
    {
     "cell_type": "markdown",
     "metadata": {},
     "source": [
      "We obtain"
     ]
    },
    {
     "cell_type": "markdown",
     "metadata": {},
     "source": [
      "$$\n",
      "\\begin{equation}\n",
      "4\\pi \\int dx \\frac{ \\sin{(\\vert \\mathbf{p}-\\mathbf{k}\\vert)x} }{\\vert \\mathbf{p}-\\mathbf{k}\\vert}{\\exp{(-\\mu x)}}= \\frac{4\\pi}{\\mu^2+\\vert \\mathbf{p}-\\mathbf{k}\\vert^2}.\n",
      "\\end{equation}\n",
      "$$"
     ]
    },
    {
     "cell_type": "markdown",
     "metadata": {},
     "source": [
      "This results gives us"
     ]
    },
    {
     "cell_type": "markdown",
     "metadata": {},
     "source": [
      "$$\n",
      "\\begin{equation}\n",
      "\\lim_{\\mu \\to 0}\\frac{e^{2}}{V (2\\pi)^3}  \\int d\\mathbf{p}\\int d\\mathbf{y}\\frac{4\\pi}{\\mu^2+\\vert \\mathbf{p}-\\mathbf{k}\\vert^2}=\\lim_{\\mu \\to 0}\\frac{e^{2}}{ 2\\pi^2}  \\int d\\mathbf{p}\\frac{1}{\\mu^2+\\vert \\mathbf{p}-\\mathbf{k}\\vert^2},\n",
      "\\end{equation}\n",
      "$$"
     ]
    },
    {
     "cell_type": "markdown",
     "metadata": {},
     "source": [
      "where we have used that the integrand on the left-hand side does not depend on $\\mathbf{y}$ and that $\\int d\\mathbf{y}=V$.\n",
      "\n",
      "Introducing spherical coordinates we can rewrite the integral as"
     ]
    },
    {
     "cell_type": "markdown",
     "metadata": {},
     "source": [
      "$$\n",
      "\\begin{equation}\n",
      "\\lim_{\\mu \\to 0}\\frac{e^{2}}{ 2\\pi^2}  \\int d\\mathbf{p}\\frac{1}{\\mu^2+\\vert \\mathbf{p}-\\mathbf{k}\\vert^2}=\\frac{e^{2}}{ 2\\pi^2}  \\int d\\mathbf{p}\\frac{1}{\\vert \\mathbf{p}-\\mathbf{k}\\vert^2}= \n",
      "\\end{equation}\n",
      "$$"
     ]
    },
    {
     "cell_type": "markdown",
     "metadata": {},
     "source": [
      "$$\n",
      "\\begin{equation} \n",
      "\\frac{e^{2}}{\\pi}  \\int_0^{k_F} p^2dp\\int_0^{\\pi} d\\theta\\cos{(\\theta)}\\frac{1}{p^2+k^2-2pk\\cos{(\\theta)}},\n",
      "\\end{equation}\n",
      "$$"
     ]
    },
    {
     "cell_type": "markdown",
     "metadata": {},
     "source": [
      "and with the change of variables $\\cos{(\\theta)}=u$ we have"
     ]
    },
    {
     "cell_type": "markdown",
     "metadata": {},
     "source": [
      "$$\n",
      "\\frac{e^{2}}{\\pi}  \\int_0^{k_F} p^2dp\\int_{0}^{\\pi} d\\theta\\cos{(\\theta)}\\frac{1}{p^2+k^2-2pk\\cos{(\\theta)}}=\\frac{e^{2}}{\\pi}  \\int_0^{k_F} p^2dp\\int_{-1}^{1} du\\frac{1}{p^2+k^2-2pku},\n",
      "$$"
     ]
    },
    {
     "cell_type": "markdown",
     "metadata": {},
     "source": [
      "which gives"
     ]
    },
    {
     "cell_type": "markdown",
     "metadata": {},
     "source": [
      "$$\n",
      "\\frac{e^{2}}{k\\pi}  \\int_0^{k_F} pdp\\left\\{ln(\\vert p+k\\vert)-ln(\\vert p-k\\vert)\\right\\}.\n",
      "$$"
     ]
    },
    {
     "cell_type": "markdown",
     "metadata": {},
     "source": [
      "Introducing new variables $x=p+k$ and $y=p-k$, we obtain after some straightforward reordering of the integral"
     ]
    },
    {
     "cell_type": "markdown",
     "metadata": {},
     "source": [
      "$$\n",
      "\\frac{e^{2}}{k\\pi}\\left[\n",
      "kk_F+\\frac{k_{F}^{2}-k^{2}}{kk_{F}}ln\\left\\vert\\frac{k+k_{F}}\n",
      "{k-k_{F}}\\right\\vert\n",
      "\\right],\n",
      "$$"
     ]
    },
    {
     "cell_type": "markdown",
     "metadata": {},
     "source": [
      "which gives the abovementioned expression for the single-particle energy.\n",
      "\n",
      "\n",
      "Introducing the dimensionless quantity $x=k/k_F$ and the function"
     ]
    },
    {
     "cell_type": "markdown",
     "metadata": {},
     "source": [
      "$$\n",
      "F(x) = \\frac{1}{2}+\\frac{1-x^2}{4x}\\ln{\\left\\vert \\frac{1+x}{1-x}\\right\\vert},\n",
      "$$"
     ]
    },
    {
     "cell_type": "markdown",
     "metadata": {},
     "source": [
      "we can rewrite the single-particle Hartree-Fock energy as"
     ]
    },
    {
     "cell_type": "markdown",
     "metadata": {},
     "source": [
      "$$\n",
      "\\varepsilon_{k}^{HF}=\\frac{\\hbar^{2}k^{2}}{2m}-\\frac{2e^{2}\n",
      "k_{F}}{\\pi}F(k/k_F),\n",
      "$$"
     ]
    },
    {
     "cell_type": "markdown",
     "metadata": {},
     "source": [
      "and dividing by the non-interacting contribution at the Fermi level,"
     ]
    },
    {
     "cell_type": "markdown",
     "metadata": {},
     "source": [
      "$$\n",
      "\\varepsilon_{0}^{F}=\\frac{\\hbar^{2}k_F^{2}}{2m},\n",
      "$$"
     ]
    },
    {
     "cell_type": "markdown",
     "metadata": {},
     "source": [
      "we have"
     ]
    },
    {
     "cell_type": "markdown",
     "metadata": {},
     "source": [
      "$$\n",
      "\\frac{\\varepsilon_{k}^{HF} }{\\varepsilon_{0}^{F}}=x^2-\\frac{e^2m}{\\hbar^2 k_F\\pi}F(x)=x^2-\\frac{4}{\\pi k_Fa_0}F(x),\n",
      "$$"
     ]
    },
    {
     "cell_type": "markdown",
     "metadata": {},
     "source": [
      "where $a_0=0.0529$ nm is the Bohr radius, setting thereby a natural length scale. \n",
      "\n",
      "\n",
      "By introducing the radius $r_s$ of a sphere whose volume is the volume occupied by each electron, we can rewrite the previous equation in terms of $r_s$ using that the electron density $n=N/V$"
     ]
    },
    {
     "cell_type": "markdown",
     "metadata": {},
     "source": [
      "$$\n",
      "n=\\frac{k_F^3}{3\\pi^2} = \\frac{3}{4\\pi r_s^3},\n",
      "$$"
     ]
    },
    {
     "cell_type": "markdown",
     "metadata": {},
     "source": [
      "we have (with $k_F=1.92/r_s$,"
     ]
    },
    {
     "cell_type": "markdown",
     "metadata": {},
     "source": [
      "$$\n",
      "\\frac{\\varepsilon_{k}^{HF} }{\\varepsilon_{0}^{F}}=x^2-\\frac{e^2m}{\\hbar^2 k_F\\pi}F(x)=x^2-\\frac{r_s}{a_0}0.663F(x),\n",
      "$$"
     ]
    },
    {
     "cell_type": "markdown",
     "metadata": {},
     "source": [
      "with $r_s \\sim 2-6$ for most metals. \n",
      "\n",
      "\n",
      "We can now define the so-called band gap, that is the scatter between the maximal and the minimal value of the electrons in the conductance band of a metal (up to the Fermi level). \n",
      "For $x=1$ and $r_s/a_0=4$ we have"
     ]
    },
    {
     "cell_type": "markdown",
     "metadata": {},
     "source": [
      "$$\n",
      "\\frac{\\varepsilon_{k=k_F}^{HF} }{\\varepsilon_{0}^{F}} = -0.326,\n",
      "$$"
     ]
    },
    {
     "cell_type": "markdown",
     "metadata": {},
     "source": [
      "and for $x=0$ we have"
     ]
    },
    {
     "cell_type": "markdown",
     "metadata": {},
     "source": [
      "$$\n",
      "\\frac{\\varepsilon_{k=0}^{HF} }{\\varepsilon_{0}^{F}} = -2.652,\n",
      "$$"
     ]
    },
    {
     "cell_type": "markdown",
     "metadata": {},
     "source": [
      "which results in a gap at the Fermi level of"
     ]
    },
    {
     "cell_type": "markdown",
     "metadata": {},
     "source": [
      "$$\n",
      "\\Delta \\varepsilon^{HF} = \\frac{\\varepsilon_{k=k_F}^{HF} }{\\varepsilon_{0}^{F}}-\\frac{\\varepsilon_{k=0}^{HF} }{\\varepsilon_{0}^{F}} = 2.326.\n",
      "$$"
     ]
    },
    {
     "cell_type": "markdown",
     "metadata": {},
     "source": [
      "This quantity measures the deviation from the $k=0$ single-particle energy and the energy at the Fermi level.\n",
      "The general result is"
     ]
    },
    {
     "cell_type": "markdown",
     "metadata": {},
     "source": [
      "$$\n",
      "\\Delta \\varepsilon^{HF} = 1+\\frac{r_s}{a_0}0.663.\n",
      "$$"
     ]
    },
    {
     "cell_type": "markdown",
     "metadata": {},
     "source": [
      "<!-- --- end exercise --- -->\n",
      "\n",
      "\n",
      "### Plot of the Hartree-Fock single-particle energy for the three-dimensional electron gas\n",
      "\n",
      "The following python code produces a plot of the electron energy for a free electron (only kinetic energy) and \n",
      "for the Hartree-Fock solution. We have chosen here a ratio $r_s/a_0=4$ and the equations are plotted as funtions\n",
      "of $k/f_F$."
     ]
    },
    {
     "cell_type": "code",
     "collapsed": false,
     "input": [
      "import numpy as np\n",
      "from math import log\n",
      "from  matplotlib import pyplot as plt\n",
      "from matplotlib import rc, rcParams\n",
      "import matplotlib.units as units\n",
      "import matplotlib.ticker as ticker\n",
      "rc('text',usetex=True)\n",
      "rc('font',**{'family':'serif','serif':['Hartree-Fock energy']})\n",
      "font = {'family' : 'serif',\n",
      "        'color'  : 'darkred',\n",
      "        'weight' : 'normal',\n",
      "        'size'   : 16,\n",
      "        }\n",
      "\n",
      "N = 100\n",
      "x = np.linspace(0.0, 2.0,N)\n",
      "F = 0.5+np.log(abs((1.0+x)/(1.0-x)))*(1.0-x*x)*0.25/x\n",
      "y = x*x -4.0*0.663*F\n",
      "\n",
      "plt.plot(x, y, 'b-')\n",
      "plt.plot(x, x*x, 'r-')\n",
      "plt.title(r'{\\bf Hartree-Fock single-particle energy for electron gas}', fontsize=20)     \n",
      "plt.text(3, -40, r'Parameters: $r_s/a_0=4$', fontdict=font)\n",
      "plt.xlabel(r'$k/k_F$',fontsize=20)\n",
      "plt.ylabel(r'$\\varepsilon_k^{HF}/\\varepsilon_0^F$',fontsize=20)\n",
      "# Tweak spacing to prevent clipping of ylabel\n",
      "plt.subplots_adjust(left=0.15)\n",
      "plt.savefig('hartreefockspelgas.pdf', format='pdf')\n",
      "plt.show()\n"
     ],
     "language": "python",
     "metadata": {},
     "outputs": [],
     "prompt_number": 1
    },
    {
     "cell_type": "markdown",
     "metadata": {},
     "source": [
      "From the plot we notice that the exchange term increases considerably the band gap\n",
      "compared with the non-interacting gas of electrons.\n",
      "\n",
      "\n",
      "\n",
      "\n",
      "\n",
      "\n",
      "\n",
      "\n",
      "\n",
      "\n",
      "<!-- --- begin exercise --- -->\n",
      "\n",
      "### Exercise 26: Hartree-Fock ground state energy for the  electron gas in three dimensions\n",
      "\n",
      "We consider a system of electrons in infinite matter, the so-called electron gas. This is a homogeneous system and the one-particle states are given by plane wave function normalized to a volume $\\Omega$ \n",
      "for a box with length $L$ (the limit $L\\rightarrow \\infty$ is to be taken after we have computed various expectation values)"
     ]
    },
    {
     "cell_type": "markdown",
     "metadata": {},
     "source": [
      "$$\n",
      "\\psi_{\\mathbf{k}\\sigma}(\\mathbf{r})= \\frac{1}{\\sqrt{\\Omega}}\\exp{(i\\mathbf{kr})}\\xi_{\\sigma}\n",
      "$$"
     ]
    },
    {
     "cell_type": "markdown",
     "metadata": {},
     "source": [
      "where $\\mathbf{k}$ is the wave number and  $\\xi_{\\sigma}$ is a spin function for either spin up or down"
     ]
    },
    {
     "cell_type": "markdown",
     "metadata": {},
     "source": [
      "$$\n",
      "\\xi_{\\sigma=+1/2}=\\left(\\begin{array}{c} 1 \\\\ 0 \\end{array}\\right) \\hspace{0.5cm}\n",
      "\\xi_{\\sigma=-1/2}=\\left(\\begin{array}{c} 0 \\\\ 1 \\end{array}\\right).\n",
      "$$"
     ]
    },
    {
     "cell_type": "markdown",
     "metadata": {},
     "source": [
      "We assume that we have periodic boundary conditions which limit the allowed wave numbers to"
     ]
    },
    {
     "cell_type": "markdown",
     "metadata": {},
     "source": [
      "$$\n",
      "k_i=\\frac{2\\pi n_i}{L}\\hspace{0.5cm} i=x,y,z \\hspace{0.5cm} n_i=0,\\pm 1,\\pm 2, \\dots\n",
      "$$"
     ]
    },
    {
     "cell_type": "markdown",
     "metadata": {},
     "source": [
      "We assume first that the particles interact via a central, symmetric and translationally invariant\n",
      "interaction  $V(r_{12})$ with\n",
      "$r_{12}=|\\mathbf{r}_1-\\mathbf{r}_2|$.  The interaction is spin independent.\n",
      "\n",
      "The total Hamiltonian consists then of kinetic and potential energy"
     ]
    },
    {
     "cell_type": "markdown",
     "metadata": {},
     "source": [
      "$$\n",
      "\\hat{H} = \\hat{T}+\\hat{V}.\n",
      "$$"
     ]
    },
    {
     "cell_type": "markdown",
     "metadata": {},
     "source": [
      "**a)**\n",
      "Show that the operator for the kinetic energy can be written as"
     ]
    },
    {
     "cell_type": "markdown",
     "metadata": {},
     "source": [
      "$$\n",
      "\\hat{T}=\\sum_{\\mathbf{k}\\sigma}\\frac{\\hbar^2k^2}{2m}a_{\\mathbf{k}\\sigma}^{\\dagger}a_{\\mathbf{k}\\sigma}.\n",
      "$$"
     ]
    },
    {
     "cell_type": "markdown",
     "metadata": {},
     "source": [
      "Find also the number operator $\\hat{N}$ and find a corresponding expression for the interaction\n",
      "$\\hat{V}$ expressed with creation and annihilation operators.   The expression for the interaction\n",
      "has to be written in  $k$ space, even though $V$ depends only on the relative distance. It means that you ned to set up the Fourier transform $\\langle \\mathbf{k}_i\\mathbf{k}_j| V | \\mathbf{k}_m\\mathbf{k}_n\\rangle$.\n",
      "\n",
      "The Hamiltonian operator is given by"
     ]
    },
    {
     "cell_type": "markdown",
     "metadata": {},
     "source": [
      "$$\n",
      "\\hat{H}=\\hat{H}_{el}+\\hat{H}_{b}+\\hat{H}_{el-b},\n",
      "$$"
     ]
    },
    {
     "cell_type": "markdown",
     "metadata": {},
     "source": [
      "with the electronic part"
     ]
    },
    {
     "cell_type": "markdown",
     "metadata": {},
     "source": [
      "$$\n",
      "\\hat{H}_{el}=\\sum_{i=1}^N\\frac{p_i^2}{2m}+\\frac{e^2}{2}\\sum_{i\\ne j}\\frac{e^{-\\mu |\\mathbf{r}_i-\\mathbf{r}_j|}}{|\\mathbf{r}_i-\\mathbf{r}_j|},\n",
      "$$"
     ]
    },
    {
     "cell_type": "markdown",
     "metadata": {},
     "source": [
      "where we have introduced an explicit convergence factor\n",
      "(the limit $\\mu\\rightarrow 0$ is performed after having calculated the various integrals).\n",
      "Correspondingly, we have"
     ]
    },
    {
     "cell_type": "markdown",
     "metadata": {},
     "source": [
      "$$\n",
      "\\hat{H}_{b}=\\frac{e^2}{2}\\int\\int d\\mathbf{r}d\\mathbf{r}'\\frac{n(\\mathbf{r})n(\\mathbf{r}')e^{-\\mu |\\mathbf{r}-\\mathbf{r}'|}}{|\\mathbf{r}-\\mathbf{r}'|},\n",
      "$$"
     ]
    },
    {
     "cell_type": "markdown",
     "metadata": {},
     "source": [
      "which is the energy contribution from the positive background charge with density\n",
      "$n(\\mathbf{r})=N/\\Omega$. Finally,"
     ]
    },
    {
     "cell_type": "markdown",
     "metadata": {},
     "source": [
      "$$\n",
      "\\hat{H}_{el-b}=-\\frac{e^2}{2}\\sum_{i=1}^N\\int d\\mathbf{r}\\frac{n(\\mathbf{r})e^{-\\mu |\\mathbf{r}-\\mathbf{x}_i|}}{|\\mathbf{r}-\\mathbf{x}_i|},\n",
      "$$"
     ]
    },
    {
     "cell_type": "markdown",
     "metadata": {},
     "source": [
      "is the interaction between the electrons and the positive background.\n",
      "**b)**\n",
      "Show that"
     ]
    },
    {
     "cell_type": "markdown",
     "metadata": {},
     "source": [
      "$$\n",
      "\\hat{H}_{b}=\\frac{e^2}{2}\\frac{N^2}{\\Omega}\\frac{4\\pi}{\\mu^2},\n",
      "$$"
     ]
    },
    {
     "cell_type": "markdown",
     "metadata": {},
     "source": [
      "and"
     ]
    },
    {
     "cell_type": "markdown",
     "metadata": {},
     "source": [
      "$$\n",
      "\\hat{H}_{el-b}=-e^2\\frac{N^2}{\\Omega}\\frac{4\\pi}{\\mu^2}.\n",
      "$$"
     ]
    },
    {
     "cell_type": "markdown",
     "metadata": {},
     "source": [
      "**c)**\n",
      "Show thereafter that the final Hamiltonian can be written as"
     ]
    },
    {
     "cell_type": "markdown",
     "metadata": {},
     "source": [
      "$$\n",
      "H=H_{0}+H_{I},\n",
      "$$"
     ]
    },
    {
     "cell_type": "markdown",
     "metadata": {},
     "source": [
      "with"
     ]
    },
    {
     "cell_type": "markdown",
     "metadata": {},
     "source": [
      "$$\n",
      "H_{0}={\\displaystyle\\sum_{\\mathbf{k}\\sigma}}\n",
      "\\frac{\\hbar^{2}k^{2}}{2m}a_{\\mathbf{k}\\sigma}^{\\dagger}\n",
      "a_{\\mathbf{k}\\sigma},\n",
      "$$"
     ]
    },
    {
     "cell_type": "markdown",
     "metadata": {},
     "source": [
      "and"
     ]
    },
    {
     "cell_type": "markdown",
     "metadata": {},
     "source": [
      "$$\n",
      "H_{I}=\\frac{e^{2}}{2\\Omega}{\\displaystyle\\sum_{\\sigma_{1}\\sigma_{2}}}{\\displaystyle\\sum_{\\mathbf{q}\\neq 0,\\mathbf{k},\\mathbf{p}}}\\frac{4\\pi}{q^{2}}\n",
      "a_{\\mathbf{k}+\\mathbf{q},\\sigma_{1}}^{\\dagger}\n",
      "a_{\\mathbf{p}-\\mathbf{q},\\sigma_{2}}^{\\dagger}\n",
      "a_{\\mathbf{p}\\sigma_{2}}a_{\\mathbf{k}\\sigma_{1}}.\n",
      "$$"
     ]
    },
    {
     "cell_type": "markdown",
     "metadata": {},
     "source": [
      "**d)**\n",
      "Calculate $E_0/N=\\langle \\Phi_{0}\\vert H\\vert \\Phi_{0}\\rangle/N$ for for this system to first order in the interaction. Show that, by using"
     ]
    },
    {
     "cell_type": "markdown",
     "metadata": {},
     "source": [
      "$$\n",
      "\\rho= \\frac{k_F^3}{3\\pi^2}=\\frac{3}{4\\pi r_0^3},\n",
      "$$"
     ]
    },
    {
     "cell_type": "markdown",
     "metadata": {},
     "source": [
      "with $\\rho=N/\\Omega$, $r_0$\n",
      "being the radius of a sphere representing the volume an electron occupies \n",
      "and the Bohr radius $a_0=\\hbar^2/e^2m$, \n",
      "that the energy per electron can be written as"
     ]
    },
    {
     "cell_type": "markdown",
     "metadata": {},
     "source": [
      "$$\n",
      "E_0/N=\\frac{e^2}{2a_0}\\left[\\frac{2.21}{r_s^2}-\\frac{0.916}{r_s}\\right].\n",
      "$$"
     ]
    },
    {
     "cell_type": "markdown",
     "metadata": {},
     "source": [
      "Here we have defined\n",
      "$r_s=r_0/a_0$ to be a dimensionless quantity.\n",
      "\n",
      "**e)**\n",
      "Plot your results. Why is this system stable?\n",
      "Calculate thermodynamical quantities like the pressure, given by"
     ]
    },
    {
     "cell_type": "markdown",
     "metadata": {},
     "source": [
      "$$\n",
      "P=-\\left(\\frac{\\partial E}{\\partial \\Omega}\\right)_N,\n",
      "$$"
     ]
    },
    {
     "cell_type": "markdown",
     "metadata": {},
     "source": [
      "and the bulk modulus"
     ]
    },
    {
     "cell_type": "markdown",
     "metadata": {},
     "source": [
      "$$\n",
      "B=-\\Omega\\left(\\frac{\\partial P}{\\partial \\Omega}\\right)_N,\n",
      "$$"
     ]
    },
    {
     "cell_type": "markdown",
     "metadata": {},
     "source": [
      "and comment your results.\n",
      "\n",
      "We have to show first  that"
     ]
    },
    {
     "cell_type": "markdown",
     "metadata": {},
     "source": [
      "$$\n",
      "\\hat{H}_{b}=\\frac{e^2}{2}\\frac{N_e^2}{\\Omega}\\frac{4\\pi}{\\mu^2},\n",
      "$$"
     ]
    },
    {
     "cell_type": "markdown",
     "metadata": {},
     "source": [
      "and"
     ]
    },
    {
     "cell_type": "markdown",
     "metadata": {},
     "source": [
      "$$\n",
      "\\hat{H}_{el-b}=-e^2\\frac{N_e^2}{\\Omega}\\frac{4\\pi}{\\mu^2}.\n",
      "$$"
     ]
    },
    {
     "cell_type": "markdown",
     "metadata": {},
     "source": [
      "And then that the final Hamiltonian can be written as"
     ]
    },
    {
     "cell_type": "markdown",
     "metadata": {},
     "source": [
      "$$\n",
      "H=H_{0}+H_{I},\n",
      "$$"
     ]
    },
    {
     "cell_type": "markdown",
     "metadata": {},
     "source": [
      "with"
     ]
    },
    {
     "cell_type": "markdown",
     "metadata": {},
     "source": [
      "$$\n",
      "H_{0}={\\displaystyle\\sum_{\\mathbf{k}\\sigma}}\n",
      "\\frac{\\hbar^{2}k^{2}}{2m_e}a_{\\mathbf{k}\\sigma}^{\\dagger}\n",
      "a_{\\mathbf{k}\\sigma},\n",
      "$$"
     ]
    },
    {
     "cell_type": "markdown",
     "metadata": {},
     "source": [
      "and"
     ]
    },
    {
     "cell_type": "markdown",
     "metadata": {},
     "source": [
      "$$\n",
      "H_{I}=\\frac{e^{2}}{2\\Omega}{\\displaystyle\\sum_{\\sigma_{1}\n",
      "\\sigma_{2}}}{\\displaystyle\n",
      "\\sum_{\\mathbf{q}\\neq 0,\\mathbf{k},\\mathbf{p}}}\\frac{4\\pi}{q^{2}}\n",
      "a_{\\mathbf{k}+\\mathbf{q},\\sigma_{1}}^{\\dagger}\n",
      "a_{\\mathbf{p}-\\mathbf{q},\\sigma_{2}}^{\\dagger}\n",
      "a_{\\mathbf{p}\\sigma_{2}}a_{\\mathbf{k}\\sigma_{1}}.\n",
      "$$"
     ]
    },
    {
     "cell_type": "markdown",
     "metadata": {},
     "source": [
      "Let us now calculate the following part of the Hamiltonian"
     ]
    },
    {
     "cell_type": "markdown",
     "metadata": {},
     "source": [
      "$$\n",
      "\\hat H_b = \\frac{e^2}{2} \\iint \\frac{n(\\mathbf{r}) n(\\mathbf{r}')e^{-\\mu|\\mathbf{r} - \\mathbf{r}'|}}{|\\mathbf{r} - \\mathbf{r}'|} d\\mathbf{r} d\\mathbf{r}' ,\n",
      "$$"
     ]
    },
    {
     "cell_type": "markdown",
     "metadata": {},
     "source": [
      "where $n(\\mathbf{r}) = N_e/\\Omega$, the density of the positive background charge. We define $\\mathbf{r}_{12} = \\mathbf{r} - \\mathbf{r}'$, resulting in $d\\mathbf{r}_{12} = d\\mathbf{r}$, and allowing us to rewrite the integral as"
     ]
    },
    {
     "cell_type": "markdown",
     "metadata": {},
     "source": [
      "$$\n",
      "\\hat H_b = \\frac{e^2 N_e^2}{2\\Omega^2} \\iint \\frac{e^{-\\mu |\\mathbf{r}_{12}|}}{|\\mathbf{r}_{12}|} d\\mathbf{r}_{12} d\\mathbf{r}' = \\frac{e^2 N_e^2}{2\\Omega} \\int \\frac{e^{-\\mu |\\mathbf{r}_{12}|}}{|\\mathbf{r}_{12}|} d\\mathbf{r}_{12} .\n",
      "$$"
     ]
    },
    {
     "cell_type": "markdown",
     "metadata": {},
     "source": [
      "Here we have used that $\\int \\! \\mathbf{r} = \\Omega$. We change to spherical coordinates and the lack of angle \n",
      "dependencies yields a factor $4\\pi$, resulting in"
     ]
    },
    {
     "cell_type": "markdown",
     "metadata": {},
     "source": [
      "$$\n",
      "\\hat H_b = \\frac{4\\pi e^2 N_e^2}{2\\Omega} \\int_0^\\infty re^{-\\mu r} \\, \\mathrm{d} r .\n",
      "$$"
     ]
    },
    {
     "cell_type": "markdown",
     "metadata": {},
     "source": [
      "Solving by partial integration"
     ]
    },
    {
     "cell_type": "markdown",
     "metadata": {},
     "source": [
      "$$\n",
      "\\int_0^\\infty re^{-\\mu r} \\, \\mathrm{d} r = \\left[ -\\frac{r}{\\mu} e^{-\\mu r} \\right]_0^\\infty + \\frac{1}{\\mu} \\int_0^\\infty e^{-\\mu r} \\, \\mathrm{d} r\n",
      "= \\frac{1}{\\mu} \\left[ - \\frac{1}{\\mu} e^{-\\mu r} \\right]_0^\\infty = \\frac{1}{\\mu^2},\n",
      "$$"
     ]
    },
    {
     "cell_type": "markdown",
     "metadata": {},
     "source": [
      "gives"
     ]
    },
    {
     "cell_type": "markdown",
     "metadata": {},
     "source": [
      "$$\n",
      "\\hat{H}_b = \\frac{e^2}{2} \\frac{N_e^2}{\\Omega} \\frac{4\\pi}{\\mu^2} .\n",
      "$$"
     ]
    },
    {
     "cell_type": "markdown",
     "metadata": {},
     "source": [
      "The next term is"
     ]
    },
    {
     "cell_type": "markdown",
     "metadata": {},
     "source": [
      "$$\n",
      "\\hat H_{el-b} = -e^2 \\sum_{i = 1}^N \\int \\frac{n(\\mathbf{r}) e^{-\\mu |\\mathbf{r} - \\mathbf{x}_i|}}{|\\mathbf{r} - \\mathbf{x}_i|} \\mathbf{r} .\n",
      "$$"
     ]
    },
    {
     "cell_type": "markdown",
     "metadata": {},
     "source": [
      "Inserting  $n(\\mathbf{r})$ and changing variables in the same way as in the previous integral $\\mathbf{y} = \\mathbf{r} - \\mathbf{x}_i$, we get $\\mathrm{d}^3 \\mathbf{y} = \\mathrm{d}^3 \\mathbf{r}$. This gives"
     ]
    },
    {
     "cell_type": "markdown",
     "metadata": {},
     "source": [
      "$$\n",
      "\\begin{equation}\n",
      "\\hat H_{el-b} = -\\frac{e^2 N_e}{\\Omega} \\sum_{i = 1^N} \\int \\frac{e^{-\\mu |\\mathbf{y}|}}{|\\mathbf{y}|} \\, \\mathrm{d}^3 \\mathbf{y}\n",
      "=  -\\frac{4\\pi e^2 N_e}{\\Omega} \\sum_{i = 1}^N \\int_0^\\infty y e^{-\\mu y} \\mathrm{d} y. \n",
      "\\end{equation}\n",
      "$$"
     ]
    },
    {
     "cell_type": "markdown",
     "metadata": {},
     "source": [
      "We have already seen this  type of integral. The answer is"
     ]
    },
    {
     "cell_type": "markdown",
     "metadata": {},
     "source": [
      "$$\n",
      "\\hat H_{el-b} = -\\frac{4\\pi e^2 N_e}{\\Omega} \\sum_{i = 1}^N \\frac{1}{\\mu^2},\n",
      "$$"
     ]
    },
    {
     "cell_type": "markdown",
     "metadata": {},
     "source": [
      "which gives"
     ]
    },
    {
     "cell_type": "markdown",
     "metadata": {},
     "source": [
      "$$\n",
      "\\hat H_{el-b} = -e^2 \\frac{N_e^2}{\\Omega} \\frac{4\\pi}{\\mu^2} .\n",
      "$$"
     ]
    },
    {
     "cell_type": "markdown",
     "metadata": {},
     "source": [
      "Finally, we need to evaluate $\\hat H_{el}$. This term reads"
     ]
    },
    {
     "cell_type": "markdown",
     "metadata": {},
     "source": [
      "$$\n",
      "\\hat H_{el} = \\sum_{i=1}^{N_e} \\frac{\\hat{\\vec p}_i^2}{2m_e} + \\frac{e^2}{2} \\sum_{i \\neq j} \\frac{e^{-\\mu |\\mathbf{r}_i - \\mathbf{r}_j|}}{\\mathbf{r}_i - \\mathbf{r}_j} .\n",
      "$$"
     ]
    },
    {
     "cell_type": "markdown",
     "metadata": {},
     "source": [
      "The last term represents the repulsion between two electrons. It is a central symmetric interaction\n",
      "and is translationally invariant. The potential is given by the expression"
     ]
    },
    {
     "cell_type": "markdown",
     "metadata": {},
     "source": [
      "$$\n",
      "v(|\\mathbf{r}|) = e^2 \\frac{e^{\\mu|\\mathbf{r}|}}{|\\mathbf{r}|},\n",
      "$$"
     ]
    },
    {
     "cell_type": "markdown",
     "metadata": {},
     "source": [
      "which we derived in connection with the single-particle Hartree-Fock derivation.\n",
      "\n",
      "More material will be added here!\n",
      "\n",
      "\n",
      "\n",
      "\n",
      "\n",
      "<!-- --- end exercise --- -->\n",
      "\n",
      "\n",
      "### Preparing the ground for numerical calculations; kinetic energy and Ewald term\n",
      "\n",
      "The kinetic energy operator is"
     ]
    },
    {
     "cell_type": "markdown",
     "metadata": {},
     "source": [
      "$$\n",
      "\\begin{equation}\n",
      "  \\hat{H}_{\\text{kin}} = -\\frac{\\hbar^{2}}{2m}\\sum_{i=1}^{N}\\nabla_{i}^{2},\n",
      "\\end{equation}\n",
      "$$"
     ]
    },
    {
     "cell_type": "markdown",
     "metadata": {},
     "source": [
      "where the sum is taken over all particles in the finite\n",
      "box. The Ewald electron-electron interaction operator \n",
      "can be written as"
     ]
    },
    {
     "cell_type": "markdown",
     "metadata": {},
     "source": [
      "$$\n",
      "\\begin{equation}\n",
      "  \\hat{H}_{ee} = \\sum_{i < j}^{N} v_{E}\\left( \\mathbf{r}_{i}-\\mathbf{r}_{j}\\right)\n",
      "  + \\frac{1}{2}Nv_{0},\n",
      "\\end{equation}\n",
      "$$"
     ]
    },
    {
     "cell_type": "markdown",
     "metadata": {},
     "source": [
      "where $v_{E}(\\mathbf{r})$ is the effective two-body \n",
      "interaction and $v_{0}$ is the self-interaction, defined \n",
      "as $v_{0} = \\lim_{\\mathbf{r} \\rightarrow 0} \\left\\{ v_{E}(\\mathbf{r}) - 1/r\\right\\} $. \n",
      "\n",
      "The negative \n",
      "electron charges are neutralized by a positive, homogeneous \n",
      "background charge. Fraser *et al.* explain how the\n",
      "electron-background and background-background terms, \n",
      "$\\hat{H}_{eb}$ and $\\hat{H}_{bb}$, vanish\n",
      "when using Ewald's interaction for the three-dimensional\n",
      "electron gas. Using the same arguments, one can show that\n",
      "these terms are also zero in the corresponding \n",
      "two-dimensional system. \n",
      "\n",
      "\n",
      "\n",
      "\n",
      "### Ewald correction term\n",
      "\n",
      "In the three-dimensional electron gas, the Ewald \n",
      "interaction is"
     ]
    },
    {
     "cell_type": "markdown",
     "metadata": {},
     "source": [
      "$$\n",
      "\\begin{equation}\n",
      "  v_{E}(\\mathbf{r}) = \\sum_{\\mathbf{k} \\neq \\mathbf{0}}\n",
      "  \\frac{4\\pi }{L^{3}k^{2}}e^{i\\mathbf{k}\\cdot \\mathbf{r}}\n",
      "  e^{-\\eta^{2}k^{2}/4} \\nonumber \n",
      "\\end{equation}\n",
      "$$"
     ]
    },
    {
     "cell_type": "markdown",
     "metadata": {},
     "source": [
      "$$\n",
      "\\begin{equation} \n",
      "  + \\sum_{\\mathbf{R}}\\frac{1}{\\left| \\mathbf{r}\n",
      "    -\\mathbf{R}\\right| } \\mathrm{erfc} \\left( \\frac{\\left| \n",
      "    \\mathbf{r}-\\mathbf{R}\\right|}{\\eta }\\right)\n",
      "  - \\frac{\\pi \\eta^{2}}{L^{3}},\n",
      "\\end{equation}\n",
      "$$"
     ]
    },
    {
     "cell_type": "markdown",
     "metadata": {},
     "source": [
      "where $L$ is the box side length, $\\mathrm{erfc}(x)$ is the \n",
      "complementary error function, and $\\eta $ is a free\n",
      "parameter that can take any value in the interval \n",
      "$(0, \\infty )$.\n",
      "\n",
      "\n",
      "\n",
      "### Interaction in momentum space\n",
      "\n",
      "The translational vector"
     ]
    },
    {
     "cell_type": "markdown",
     "metadata": {},
     "source": [
      "$$\n",
      "\\begin{equation}\n",
      "  \\mathbf{R} = L\\left(n_{x}\\mathbf{u}_{x} + n_{y}\n",
      "  \\mathbf{u}_{y} + n_{z}\\mathbf{u}_{z}\\right) ,\n",
      "\\end{equation}\n",
      "$$"
     ]
    },
    {
     "cell_type": "markdown",
     "metadata": {},
     "source": [
      "where $\\mathbf{u}_{i}$ is the unit vector for dimension $i$,\n",
      "is defined for all integers $n_{x}$, $n_{y}$, and \n",
      "$n_{z}$. These vectors are used to obtain all image\n",
      "cells in the entire real space. \n",
      "The parameter $\\eta $ decides how \n",
      "the Coulomb interaction is divided into a short-ranged\n",
      "and long-ranged part, and does not alter the total\n",
      "function. However, the number of operations needed\n",
      "to calculate the Ewald interaction with a desired \n",
      "accuracy depends on $\\eta $, and $\\eta $ is therefore \n",
      "often chosen to optimize the convergence as a function\n",
      "of the simulation-cell size. In\n",
      "our calculations, we choose $\\eta $ to be an infinitesimally\n",
      "small positive number, similarly as was done by [Shepherd *et al.*](https://journals.aps.org/prb/abstract/10.1103/PhysRevB.86.035111) and [Roggero *et al.*](https://journals.aps.org/prb/abstract/10.1103/PhysRevB.88.115138).\n",
      "\n",
      "This gives an interaction that is evaluated only in\n",
      "Fourier space. \n",
      "\n",
      "When studying the two-dimensional electron gas, we\n",
      "use an Ewald interaction that is quasi two-dimensional.\n",
      "The interaction is derived in three dimensions, with \n",
      "Fourier discretization in only two dimensions. The Ewald effective\n",
      "interaction has the form"
     ]
    },
    {
     "cell_type": "markdown",
     "metadata": {},
     "source": [
      "$$\n",
      "\\begin{equation}\n",
      "  v_{E}(\\mathbf{r}) = \\sum_{\\mathbf{k} \\neq \\mathbf{0}} \n",
      "  \\frac{\\pi }{L^{2}k}\\left\\{ e^{-kz} \\mathrm{erfc} \\left(\n",
      "  \\frac{\\eta k}{2} - \\frac{z}{\\eta }\\right)+ \\right. \\nonumber \n",
      "\\end{equation}\n",
      "$$"
     ]
    },
    {
     "cell_type": "markdown",
     "metadata": {},
     "source": [
      "$$\n",
      "\\begin{equation} \n",
      "   \\left. e^{kz}\\mathrm{erfc} \\left( \\frac{\\eta k}{2} + \\frac{z}{\\eta }\n",
      "  \\right) \\right\\} e^{i\\mathbf{k}\\cdot \\mathbf{r}_{xy}} \n",
      "  \\nonumber \n",
      "\\end{equation}\n",
      "$$"
     ]
    },
    {
     "cell_type": "markdown",
     "metadata": {},
     "source": [
      "$$\n",
      "\\begin{equation} \n",
      "   + \\sum_{\\mathbf{R}}\\frac{1}{\\left| \\mathbf{r}-\\mathbf{R}\n",
      "    \\right| } \\mathrm{erfc} \\left( \\frac{\\left| \\mathbf{r}-\\mathbf{R}\n",
      "    \\right|}{\\eta }\\right) \\nonumber \n",
      "\\end{equation}\n",
      "$$"
     ]
    },
    {
     "cell_type": "markdown",
     "metadata": {},
     "source": [
      "$$\n",
      "\\begin{equation} \n",
      "   - \\frac{2\\pi}{L^{2}}\\left\\{ z\\mathrm{erf} \\left( \\frac{z}{\\eta }\n",
      "  \\right) + \\frac{\\eta }{\\sqrt{\\pi }}e^{-z^{2}/\\eta^{2}}\\right\\},\n",
      "\\end{equation}\n",
      "$$"
     ]
    },
    {
     "cell_type": "markdown",
     "metadata": {},
     "source": [
      "where the Fourier vectors $\\mathbf{k}$ and the position vector\n",
      "$\\mathbf{r}_{xy}$ are defined in the $(x,y)$ plane. When\n",
      "applying the interaction $v_{E}(\\mathbf{r})$ to two-dimensional\n",
      "systems, we set $z$ to zero. \n",
      "\n",
      "\n",
      "Similarly as in the \n",
      "three-dimensional case, also here we \n",
      "choose $\\eta $ to approach zero from above. The resulting \n",
      "Fourier-transformed interaction is"
     ]
    },
    {
     "cell_type": "markdown",
     "metadata": {},
     "source": [
      "$$\n",
      "\\begin{equation}\n",
      "  v_{E}^{\\eta = 0, z = 0}(\\mathbf{r}) = \\sum_{\\mathbf{k} \\neq \\mathbf{0}} \n",
      "  \\frac{2\\pi }{L^{2}k}e^{i\\mathbf{k}\\cdot \\mathbf{r}_{xy}}. \n",
      "\\end{equation}\n",
      "$$"
     ]
    },
    {
     "cell_type": "markdown",
     "metadata": {},
     "source": [
      "The self-interaction $v_{0}$ is a constant that can be \n",
      "included in the reference energy.\n",
      "\n",
      "\n",
      "\n",
      "\n",
      "### Antisymmetrized matrix elements in three dimensions\n",
      "\n",
      "In the three-dimensional electron gas, the antisymmetrized\n",
      "matrix elements are"
     ]
    },
    {
     "cell_type": "markdown",
     "metadata": {},
     "source": [
      "<!-- Equation labels as ordinary links -->\n",
      "<div id=\"eq:vmat_3dheg\"></div>\n",
      "\n",
      "$$\n",
      "\\begin{equation} \\label{eq:vmat_3dheg} \\tag{133}\n",
      "   \\langle \\mathbf{k}_{p}m_{s_{p}}\\mathbf{k}_{q}m_{s_{q}}\n",
      "  |\\tilde{v}|\\mathbf{k}_{r}m_{s_{r}}\\mathbf{k}_{s}m_{s_{s}}\\rangle_{AS} \n",
      "  \\nonumber \n",
      "\\end{equation}\n",
      "$$"
     ]
    },
    {
     "cell_type": "markdown",
     "metadata": {},
     "source": [
      "$$\n",
      "\\begin{equation} \n",
      "   = \\frac{4\\pi }{L^{3}}\\delta_{\\mathbf{k}_{p}+\\mathbf{k}_{q},\n",
      "    \\mathbf{k}_{r}+\\mathbf{k}_{s}}\\left\\{ \n",
      "  \\delta_{m_{s_{p}}m_{s_{r}}}\\delta_{m_{s_{q}}m_{s_{s}}}\n",
      "  \\left( 1 - \\delta_{\\mathbf{k}_{p}\\mathbf{k}_{r}}\\right) \n",
      "  \\frac{1}{|\\mathbf{k}_{r}-\\mathbf{k}_{p}|^{2}}\n",
      "  \\right. \\nonumber \n",
      "\\end{equation}\n",
      "$$"
     ]
    },
    {
     "cell_type": "markdown",
     "metadata": {},
     "source": [
      "$$\n",
      "\\begin{equation} \n",
      "   \\left. - \\delta_{m_{s_{p}}m_{s_{s}}}\\delta_{m_{s_{q}}m_{s_{r}}}\n",
      "  \\left( 1 - \\delta_{\\mathbf{k}_{p}\\mathbf{k}_{s}} \\right)\n",
      "  \\frac{1}{|\\mathbf{k}_{s}-\\mathbf{k}_{p}|^{2}} \n",
      "  \\right\\} ,\n",
      "\\end{equation}\n",
      "$$"
     ]
    },
    {
     "cell_type": "markdown",
     "metadata": {},
     "source": [
      "where the Kronecker delta functions \n",
      "$\\delta_{\\mathbf{k}_{p}\\mathbf{k}_{r}}$ and\n",
      "$\\delta_{\\mathbf{k}_{p}\\mathbf{k}_{s}}$ ensure that the \n",
      "contribution with zero momentum transfer vanishes.\n",
      "\n",
      "\n",
      "Similarly, the matrix elements for the two-dimensional\n",
      "electron gas are"
     ]
    },
    {
     "cell_type": "markdown",
     "metadata": {},
     "source": [
      "<!-- Equation labels as ordinary links -->\n",
      "<div id=\"eq:vmat_2dheg\"></div>\n",
      "\n",
      "$$\n",
      "\\begin{equation} \\label{eq:vmat_2dheg} \\tag{134}\n",
      "   \\langle \\mathbf{k}_{p}m_{s_{p}}\\mathbf{k}_{q}m_{s_{q}}\n",
      "  |v|\\mathbf{k}_{r}m_{s_{r}}\\mathbf{k}_{s}m_{s_{s}}\\rangle_{AS} \n",
      "  \\nonumber \n",
      "\\end{equation}\n",
      "$$"
     ]
    },
    {
     "cell_type": "markdown",
     "metadata": {},
     "source": [
      "$$\n",
      "\\begin{equation} \n",
      "   = \\frac{2\\pi }{L^{2}}\n",
      "  \\delta_{\\mathbf{k}_{p}+\\mathbf{k}_{q},\\mathbf{k}_{r}+\\mathbf{k}_{s}}\n",
      "  \\left\\{ \\delta_{m_{s_{p}}m_{s_{r}}}\\delta_{m_{s_{q}}m_{s_{s}}} \n",
      "  \\left( 1 - \\delta_{\\mathbf{k}_{p}\\mathbf{k}_{r}}\\right)\n",
      "  \\frac{1}{\n",
      "    |\\mathbf{k}_{r}-\\mathbf{k}_{p}|} \\right.\n",
      "  \\nonumber \n",
      "\\end{equation}\n",
      "$$"
     ]
    },
    {
     "cell_type": "markdown",
     "metadata": {},
     "source": [
      "$$\n",
      "\\begin{equation} \n",
      "   - \\left. \\delta_{m_{s_{p}}m_{s_{s}}}\\delta_{m_{s_{q}}m_{s_{r}}}\n",
      "  \\left( 1 - \\delta_{\\mathbf{k}_{p}\\mathbf{k}_{s}}\\right)\n",
      "  \\frac{1}{ \n",
      "    |\\mathbf{k}_{s}-\\mathbf{k}_{p}|}\n",
      "  \\right\\} ,\n",
      "\\end{equation}\n",
      "$$"
     ]
    },
    {
     "cell_type": "markdown",
     "metadata": {},
     "source": [
      "where the single-particle momentum vectors $\\mathbf{k}_{p,q,r,s}$\n",
      "are now defined in two dimensions.\n",
      "\n",
      "\n",
      "\n",
      "### Fock operator\n",
      "\n",
      "In the calculations, the \n",
      "self-interaction constant is included in the reference \n",
      "energy. We therefore get the \n",
      "Fock-operator matrix elements"
     ]
    },
    {
     "cell_type": "markdown",
     "metadata": {},
     "source": [
      "<!-- Equation labels as ordinary links -->\n",
      "<div id=\"eq:fock_heg\"></div>\n",
      "\n",
      "$$\n",
      "\\begin{equation}\n",
      "  \\langle \\mathbf{k}_{p}|f|\\mathbf{k}_{q} \\rangle\n",
      "  = \\frac{\\hbar^{2}k_{p}^{2}}{2m}\\delta_{\\mathbf{k}_{p},\n",
      "  \\mathbf{k}_{q}} + \\sum_{\\mathbf{k}_{i}}\\langle \n",
      "  \\mathbf{k}_{p}\\mathbf{k}_{i}|v|\\mathbf{k}_{q}\n",
      "  \\mathbf{k}_{i}\\rangle_{AS}.\n",
      "  \\label{eq:fock_heg} \\tag{135}\n",
      "\\end{equation}\n",
      "$$"
     ]
    },
    {
     "cell_type": "markdown",
     "metadata": {},
     "source": [
      "In work of Shepherd *et al.* the matrix elements were \n",
      "defined with the self-interaction constant included in the\n",
      "two-body interaction. This gives Fock-operator matrix \n",
      "elements with a gap constant.\n",
      "\n",
      "\n",
      "\n",
      "### Periodic boundary conditions and single-particle states\n",
      "\n",
      "When using periodic boundary conditions, the \n",
      "discrete-momentum single-particle basis functions"
     ]
    },
    {
     "cell_type": "markdown",
     "metadata": {},
     "source": [
      "$$\n",
      "\\phi_{\\mathbf{k}}(\\mathbf{r}) =\n",
      "e^{i\\mathbf{k}\\cdot \\mathbf{r}}/L^{d/2}\n",
      "$$"
     ]
    },
    {
     "cell_type": "markdown",
     "metadata": {},
     "source": [
      "are associated with \n",
      "the single-particle energy"
     ]
    },
    {
     "cell_type": "markdown",
     "metadata": {},
     "source": [
      "$$\n",
      "\\begin{equation}\n",
      "  \\varepsilon_{n_{x}, n_{y}} = \\frac{\\hbar^{2}}{2m} \\left( \\frac{2\\pi }{L}\\right)^{2}\\left( n_{x}^{2} + n_{y}^{2}\\right)\n",
      "\\end{equation}\n",
      "$$"
     ]
    },
    {
     "cell_type": "markdown",
     "metadata": {},
     "source": [
      "for two-dimensional sytems and"
     ]
    },
    {
     "cell_type": "markdown",
     "metadata": {},
     "source": [
      "$$\n",
      "\\begin{equation}\n",
      "  \\varepsilon_{n_{x}, n_{y}, n_{z}} = \\frac{\\hbar^{2}}{2m}\n",
      "  \\left( \\frac{2\\pi }{L}\\right)^{2}\n",
      "  \\left( n_{x}^{2} + n_{y}^{2} + n_{z}^{2}\\right)\n",
      "\\end{equation}\n",
      "$$"
     ]
    },
    {
     "cell_type": "markdown",
     "metadata": {},
     "source": [
      "for three-dimensional systems.\n",
      "\n",
      "\n",
      "We choose  the single-particle basis such that both the occupied and \n",
      "unoccupied single-particle spaces have a closed-shell \n",
      "structure. This means that all single-particle states \n",
      "corresponding to energies below a chosen cutoff are\n",
      "included in the basis. We study only the unpolarized spin\n",
      "phase, in which all orbitals are occupied with one spin-up \n",
      "and one spin-down electron. \n",
      "\n",
      "\n",
      "The table illustrates  how single-particle energies\n",
      "    fill energy shells in a two-dimensional electron box.\n",
      "  Here $n_{x}$ and $n_{y}$ are the momentum quantum numbers,\n",
      "  $n_{x}^{2} + n_{y}^{2}$ determines the single-particle \n",
      "  energy level, $N_{\\uparrow \\downarrow }$ represents the \n",
      "  cumulated number of spin-orbitals in an unpolarized spin\n",
      "  phase, and $N_{\\uparrow \\uparrow }$ stands for the\n",
      "  cumulated number of spin-orbitals in a spin-polarized\n",
      "  system.\n",
      "\n",
      "\n",
      "\n",
      "\n",
      "### Magic number for the two-dimensional electron gas\n",
      "\n",
      "\n",
      "<table border=\"1\">\n",
      "<thead>\n",
      "<tr><th align=\"center\">$n_{x}^{2}+n_{y}^{2}$</th> <th align=\"center\">$n_{x}$</th> <th align=\"center\">$n_{y}$</th> <th align=\"center\">$N_{\\uparrow \\downarrow }$</th> <th align=\"center\">$N_{\\uparrow \\uparrow }$</th> </tr>\n",
      "</thead>\n",
      "<tbody>\n",
      "<tr><td align=\"center\">   0                        </td> <td align=\"center\">   0          </td> <td align=\"center\">   0          </td> <td align=\"center\">   2                             </td> <td align=\"center\">   1                           </td> </tr>\n",
      "<tr><td align=\"center\">   1                        </td> <td align=\"center\">   -1         </td> <td align=\"center\">   0          </td> <td align=\"center\">                                 </td> <td align=\"center\">                               </td> </tr>\n",
      "<tr><td align=\"center\">                            </td> <td align=\"center\">   1          </td> <td align=\"center\">   0          </td> <td align=\"center\">                                 </td> <td align=\"center\">                               </td> </tr>\n",
      "<tr><td align=\"center\">                            </td> <td align=\"center\">   0          </td> <td align=\"center\">   -1         </td> <td align=\"center\">                                 </td> <td align=\"center\">                               </td> </tr>\n",
      "<tr><td align=\"center\">                            </td> <td align=\"center\">   0          </td> <td align=\"center\">   1          </td> <td align=\"center\">   10                            </td> <td align=\"center\">   5                           </td> </tr>\n",
      "<tr><td align=\"center\">   2                        </td> <td align=\"center\">   -1         </td> <td align=\"center\">   -1         </td> <td align=\"center\">                                 </td> <td align=\"center\">                               </td> </tr>\n",
      "<tr><td align=\"center\">                            </td> <td align=\"center\">   -1         </td> <td align=\"center\">   1          </td> <td align=\"center\">                                 </td> <td align=\"center\">                               </td> </tr>\n",
      "<tr><td align=\"center\">                            </td> <td align=\"center\">   1          </td> <td align=\"center\">   -1         </td> <td align=\"center\">                                 </td> <td align=\"center\">                               </td> </tr>\n",
      "<tr><td align=\"center\">                            </td> <td align=\"center\">   1          </td> <td align=\"center\">   1          </td> <td align=\"center\">   18                            </td> <td align=\"center\">   9                           </td> </tr>\n",
      "<tr><td align=\"center\">   4                        </td> <td align=\"center\">   -2         </td> <td align=\"center\">   0          </td> <td align=\"center\">                                 </td> <td align=\"center\">                               </td> </tr>\n",
      "<tr><td align=\"center\">                            </td> <td align=\"center\">   2          </td> <td align=\"center\">   0          </td> <td align=\"center\">                                 </td> <td align=\"center\">                               </td> </tr>\n",
      "<tr><td align=\"center\">                            </td> <td align=\"center\">   0          </td> <td align=\"center\">   -2         </td> <td align=\"center\">                                 </td> <td align=\"center\">                               </td> </tr>\n",
      "<tr><td align=\"center\">                            </td> <td align=\"center\">   0          </td> <td align=\"center\">   2          </td> <td align=\"center\">   26                            </td> <td align=\"center\">   13                          </td> </tr>\n",
      "<tr><td align=\"center\">   5                        </td> <td align=\"center\">   -2         </td> <td align=\"center\">   -1         </td> <td align=\"center\">                                 </td> <td align=\"center\">                               </td> </tr>\n",
      "<tr><td align=\"center\">                            </td> <td align=\"center\">   2          </td> <td align=\"center\">   -1         </td> <td align=\"center\">                                 </td> <td align=\"center\">                               </td> </tr>\n",
      "<tr><td align=\"center\">                            </td> <td align=\"center\">   -2         </td> <td align=\"center\">   1          </td> <td align=\"center\">                                 </td> <td align=\"center\">                               </td> </tr>\n",
      "<tr><td align=\"center\">                            </td> <td align=\"center\">   2          </td> <td align=\"center\">   1          </td> <td align=\"center\">                                 </td> <td align=\"center\">                               </td> </tr>\n",
      "<tr><td align=\"center\">                            </td> <td align=\"center\">   -1         </td> <td align=\"center\">   -2         </td> <td align=\"center\">                                 </td> <td align=\"center\">                               </td> </tr>\n",
      "<tr><td align=\"center\">                            </td> <td align=\"center\">   -1         </td> <td align=\"center\">   2          </td> <td align=\"center\">                                 </td> <td align=\"center\">                               </td> </tr>\n",
      "<tr><td align=\"center\">                            </td> <td align=\"center\">   1          </td> <td align=\"center\">   -2         </td> <td align=\"center\">                                 </td> <td align=\"center\">                               </td> </tr>\n",
      "<tr><td align=\"center\">                            </td> <td align=\"center\">   1          </td> <td align=\"center\">   2          </td> <td align=\"center\">   42                            </td> <td align=\"center\">   21                          </td> </tr>\n",
      "</tbody>\n",
      "</table>\n",
      "### Hartree-Fock energies\n",
      "\n",
      "Finally, a useful benchmark for our calculations is the expression for\n",
      "the reference energy $E_0$ per particle.\n",
      "Defining the $T=0$ density $\\rho_0$, we can in turn determine in three\n",
      "dimensions the radius $r_0$ of a sphere representing the volume an\n",
      "electron occupies (the classical electron radius) as"
     ]
    },
    {
     "cell_type": "markdown",
     "metadata": {},
     "source": [
      "$$\n",
      "r_0= \\left(\\frac{3}{4\\pi \\rho}\\right)^{1/3}.\n",
      "$$"
     ]
    },
    {
     "cell_type": "markdown",
     "metadata": {},
     "source": [
      "In two dimensions the corresponding quantity is"
     ]
    },
    {
     "cell_type": "markdown",
     "metadata": {},
     "source": [
      "$$\n",
      "r_0= \\left(\\frac{1}{\\pi \\rho}\\right)^{1/2}.\n",
      "$$"
     ]
    },
    {
     "cell_type": "markdown",
     "metadata": {},
     "source": [
      "One can then express the reference energy per electron in terms of the\n",
      "dimensionless quantity $r_s=r_0/a_0$, where we have introduced the\n",
      "Bohr radius $a_0=\\hbar^2/e^2m$. The energy per electron computed with\n",
      "the reference Slater determinant can then be written as\n",
      "(using hereafter only atomic units, meaning that $\\hbar = m = e = 1$)"
     ]
    },
    {
     "cell_type": "markdown",
     "metadata": {},
     "source": [
      "$$\n",
      "E_0/N=\\frac{1}{2}\\left[\\frac{2.21}{r_s^2}-\\frac{0.916}{r_s}\\right],\n",
      "$$"
     ]
    },
    {
     "cell_type": "markdown",
     "metadata": {},
     "source": [
      "for the three-dimensional electron gas.  For the two-dimensional gas\n",
      "the corresponding expression is (show this)"
     ]
    },
    {
     "cell_type": "markdown",
     "metadata": {},
     "source": [
      "$$\n",
      "E_0/N=\\frac{1}{r_s^2}-\\frac{8\\sqrt{2}}{3\\pi r_s}.\n",
      "$$"
     ]
    },
    {
     "cell_type": "markdown",
     "metadata": {},
     "source": [
      "For an infinite homogeneous system, there are some particular\n",
      "simplications due to the conservation of the total momentum of the\n",
      "particles.  By symmetry considerations, the total momentum of the\n",
      "system has to be zero. Both the kinetic energy operator and the\n",
      "total Hamiltonian $\\hat{H}$ are assumed to be diagonal in the total\n",
      "momentum $\\mathbf{K}$. Hence, both the reference state $\\Phi_{0}$ and\n",
      "the correlated ground state $\\Psi$ must be eigenfunctions of the\n",
      "operator $\\mathbf{\\hat{K}}$ with the corresponding eigenvalue\n",
      "$\\mathbf{K} = \\mathbf{0}$.  This leads to important\n",
      "simplications to our different many-body methods. In coupled cluster\n",
      "theory for example, all\n",
      "terms that involve single particle-hole excitations vanish. \n",
      "\n",
      "\n",
      "\n",
      "\n",
      "\n",
      "\n",
      "\n",
      "\n",
      "\n",
      "\n",
      "\n",
      "# Decays\n",
      "<div id=\"ch:decay\"></div>\n",
      "\n",
      "## Electromagnetic multipole moments and transitions\n",
      "The reduced\n",
      "transition probability $B$ is defined in terms of reduced matrix\n",
      "elements of a one-body operator by"
     ]
    },
    {
     "cell_type": "markdown",
     "metadata": {},
     "source": [
      "$$\n",
      "B(i \\rightarrow f)= \\frac{\\langle J_{f}||{\\cal O}(\\lambda )||J_{i}\\rangle^{2}}{(2J_{i}+1)}.\n",
      "$$"
     ]
    },
    {
     "cell_type": "markdown",
     "metadata": {},
     "source": [
      "With our definition of the reduced matrix element,"
     ]
    },
    {
     "cell_type": "markdown",
     "metadata": {},
     "source": [
      "$$\n",
      "\\langle J_{f}||{\\cal O}(\\lambda )||J_{i}\\rangle^{2} =\\langle J_{i}||{\\cal O}(\\lambda )||J_{f}\\rangle^{2},\n",
      "$$"
     ]
    },
    {
     "cell_type": "markdown",
     "metadata": {},
     "source": [
      "the transition probability $B$ depends upon the direction of the transition by the factor\n",
      "of $(2J_{i}+1)$. For electromagnetic\n",
      "transitions $J_{i}$ is that for the higher-energy initial state. But in\n",
      "Coulomb excitation the initial state is usually\n",
      "taken as the ground state, and it is normal to use the notation $B(\\uparrow)$ for transitions from the ground state.\n",
      "\n",
      "The one-body operators $  {\\cal O}(\\lambda )  $ represent a sum over\n",
      "the operators for the individual nucleon degrees of freedom  $  i  $"
     ]
    },
    {
     "cell_type": "markdown",
     "metadata": {},
     "source": [
      "$$\n",
      "{\\cal O}(\\lambda ) = \\sum_{i} O(\\lambda ,i).\n",
      "$$"
     ]
    },
    {
     "cell_type": "markdown",
     "metadata": {},
     "source": [
      "The electric transition operator is given by"
     ]
    },
    {
     "cell_type": "markdown",
     "metadata": {},
     "source": [
      "$$\n",
      "O(E\\lambda ) = r^{\\lambda } \\; Y^{\\lambda }_{\\mu }(\\hat{r}) \\; e_{q} e,\n",
      "$$"
     ]
    },
    {
     "cell_type": "markdown",
     "metadata": {},
     "source": [
      "were $Y^{\\lambda }_{\\mu }$ are the spherical harmonics\n",
      "and $q$ stands for proton $q=p$ or neutron $q=n$.\n",
      "\n",
      "\n",
      "Gamma transitions\n",
      "with $\\lambda=0$ are forbidden because the photon must carry off\n",
      "at least one unit of angular momentum. The $e_{q}$\n",
      "are the electric charges for the proton and neutron in units of $  e  $.\n",
      "For the free-nucleon\n",
      "charge we would take $e_{p}=1$ and $e_{n}=0$, for the\n",
      "proton and neutron, respectively.\n",
      "Although the bare operator acts upon the protons,\n",
      "we will keep the general expression in terms of $e_{q}$ in order\n",
      "to incorporate the **effective charges** for the proton and\n",
      "neutron, which represent the center-of-mass corrections and the\n",
      "average effects of the renormalization from wavefunction\n",
      "admixtures outside the model space.\n",
      "\n",
      "\n",
      "\n",
      "The magnetic transition operator is given by:"
     ]
    },
    {
     "cell_type": "markdown",
     "metadata": {},
     "source": [
      "1\n",
      "0\n",
      "5\n",
      "5\n",
      " \n",
      "<\n",
      "<\n",
      "<\n",
      "!\n",
      "!\n",
      "M\n",
      "A\n",
      "T\n",
      "H\n",
      "_\n",
      "B\n",
      "L\n",
      "O\n",
      "C\n",
      "K"
     ]
    },
    {
     "cell_type": "markdown",
     "metadata": {},
     "source": [
      "$$\n",
      "= \\sqrt{\\lambda (2\\lambda +1)}\\left[[Y^{\\lambda -1}(\\hat{r})\\otimes \\mathbf{l}\\,]^{\\lambda }_{\\mu }\\frac{2g^{l}_{q}}{(\\lambda +1)}\n",
      "+ [Y^{\\lambda -1}(\\hat{r})\\otimes \\mathbf{s}\\,]^{\\lambda }_{\\mu }g^{s}_{q}\\right]r^{\\lambda -1}\\mu _{N},\n",
      "$$"
     ]
    },
    {
     "cell_type": "markdown",
     "metadata": {},
     "source": [
      "where $\\mu_{N}$ is the nuclear magneton,"
     ]
    },
    {
     "cell_type": "markdown",
     "metadata": {},
     "source": [
      "$$\n",
      "\\mu _{N}=\\frac{e\\hbar }{2m_{p}c} = 0.105 \\; e {\\rm fm},\n",
      "$$"
     ]
    },
    {
     "cell_type": "markdown",
     "metadata": {},
     "source": [
      "and where $m_{p}$ is the mass of the proton.\n",
      "\n",
      "\n",
      "The g-factors $g^{l}_{q}$ and $g^{s}_{q}$\n",
      "are the orbital and spin g-factors\n",
      "for the proton and neutron, respectively.\n",
      "The\n",
      "free-nucleon values for the g-factors are $g^{l}_{p}=1$, $g^{l}_{n}=0$,\n",
      "$g^{s}_{p}=5.586$ and $g^{s}_{n}=-3.826$. We may use effective values\n",
      "for these g-factors to take into account the truncation of the model\n",
      "space.\n",
      "\n",
      "\n",
      "The most common types of transitions are $E1$, $E2$ and $M1$.\n",
      "The $E1$ transition operator is given by $\\lambda$=1:"
     ]
    },
    {
     "cell_type": "markdown",
     "metadata": {},
     "source": [
      "$$\n",
      "O(E1) = rY^{(1)}_{\\mu }(\\hat{r})e_{q} e= \\sqrt{\\frac{3}{4\\pi }}\\mathbf{r}e_{q} e.\n",
      "$$"
     ]
    },
    {
     "cell_type": "markdown",
     "metadata": {},
     "source": [
      "The $E2$ transition operator with $\\lambda$=2:"
     ]
    },
    {
     "cell_type": "markdown",
     "metadata": {},
     "source": [
      "$$\n",
      "O(E2) = r^{2}Y^{(2)}_{\\mu }(\\hat{r})e_{q} e,\n",
      "$$"
     ]
    },
    {
     "cell_type": "markdown",
     "metadata": {},
     "source": [
      "The $M1$ transition operator with $\\lambda=1$ and with"
     ]
    },
    {
     "cell_type": "markdown",
     "metadata": {},
     "source": [
      "$$\n",
      "Y^{0}=1/\\sqrt{4\\pi },\n",
      "$$"
     ]
    },
    {
     "cell_type": "markdown",
     "metadata": {},
     "source": [
      "we have"
     ]
    },
    {
     "cell_type": "markdown",
     "metadata": {},
     "source": [
      "$$\n",
      "O(M1)=\\sqrt{\\frac{3}{4\\pi }}[\\mathbf{l}g^{l }_{q}+\\mathbf{s} \\; g^{s}_{q}]\\mu _{N}.\n",
      "$$"
     ]
    },
    {
     "cell_type": "markdown",
     "metadata": {},
     "source": [
      "The selection rules are given by the triangle condition for the\n",
      "angular momenta, $  \\Delta (J_{i},J_{f},\\lambda )  $. The electromagnetic\n",
      "interaction conserves parity, and the elements of the\n",
      "operators for $  E\\lambda   $ and $  M\\lambda   $\n",
      "can be classified according to their transformation under parity\n",
      "change"
     ]
    },
    {
     "cell_type": "markdown",
     "metadata": {},
     "source": [
      "$$\n",
      "\\hat{P}\\hat{O}\\hat{P}^{-1}=\\pi_{O}\\hat{O},\n",
      "$$"
     ]
    },
    {
     "cell_type": "markdown",
     "metadata": {},
     "source": [
      "where we have $\\pi _{O}=(-1)^{\\lambda }$ for $Y^{\\lambda }$,\n",
      "$\\pi _{O}=-1$ for the vectors\n",
      "$\\mathbf{r}$, $\\mathbf{\\nabla}$ and $\\mathbf{p}$, and $  \\pi _{O}=+1  $ for the \n",
      "pseudo vectors\n",
      "$\\mathbf{l}=\\mathbf{r}\\times\\mathbf{p}$ and $\\mathbf{\\sigma}$. For a given matrix element we have:"
     ]
    },
    {
     "cell_type": "markdown",
     "metadata": {},
     "source": [
      "$$\n",
      "\\langle\\Psi _{f}\\vert {\\cal O}\\vert \\Psi _{i}\\rangle =\\langle\\Psi _{f}\\vert P^{-1}P{\\cal O}P^{-1}P\\vert \\Psi _{i}\\rangle=\\pi _{i}\\pi _{f}\\pi _{O} \\langle\\Psi _{f}\\vert {\\cal O}\\vert \\Psi _{i}\\rangle.\n",
      "$$"
     ]
    },
    {
     "cell_type": "markdown",
     "metadata": {},
     "source": [
      "The matrix element will vanish unless  $\\pi _{i}\\pi _{f}\\pi _{O}=+1$.\n",
      "\n",
      "\n",
      "\n",
      "The transitions are divided into two classes, those\n",
      "which do not change parity change $\\pi _{i}\\pi _{f}=+1$ which go by the\n",
      "operators with $\\pi _{O}=+1$:"
     ]
    },
    {
     "cell_type": "markdown",
     "metadata": {},
     "source": [
      "$$\n",
      "\\pi _{i}\\pi _{f}=+1 \\; \\mathrm{for} \\; M1, E2, M3, E4 \\dots,\n",
      "$$"
     ]
    },
    {
     "cell_type": "markdown",
     "metadata": {},
     "source": [
      "and the ones which do change parity change $\\pi _{i}\\pi _{f}=-1$\n",
      "which go by the operators with $\\pi _{O}=-1$:"
     ]
    },
    {
     "cell_type": "markdown",
     "metadata": {},
     "source": [
      "$$\n",
      "\\pi _{i}\\pi _{f}=-1 \\; \\mathrm{for} \\; E1, M2, E3, M4 \\dots.\n",
      "$$"
     ]
    },
    {
     "cell_type": "markdown",
     "metadata": {},
     "source": [
      "The \n",
      "electromagnetic moment operator can be expressed in terms of the\n",
      "electromagnetic transition operators.\n",
      "By the parity selection rule of the moments are nonzero\n",
      "only for $M1$, $E2$, $M3$, $E4,\\ldots$.\n",
      "The most common are:"
     ]
    },
    {
     "cell_type": "markdown",
     "metadata": {},
     "source": [
      "$$\n",
      "\\mu =\\sqrt{\\frac{4\\pi }{3}}\\langle J,M=J\\vert {\\cal O}(M1)\\vert J,M=J\\rangle= \\sqrt{\\frac{4\\pi }{3}}\\left\\{\\begin{array}{ccc} J & 1 &J \\\\  -J &  0 &  J \\end{array}\\right\\}\n",
      "\\langle J\\vert \\vert {\\cal O}(M1)\\vert \\vert J\\rangle,\n",
      "$$"
     ]
    },
    {
     "cell_type": "markdown",
     "metadata": {},
     "source": [
      "and"
     ]
    },
    {
     "cell_type": "markdown",
     "metadata": {},
     "source": [
      "$$\n",
      "Q = \\sqrt{\\frac{16\\pi }{5}}\\langle J,M=J\\vert {\\cal O}(E2)\\vert J,M=J\\rangle= \\sqrt{\\frac{16\\pi }{5}}\\,\n",
      "  \\left(\\begin{array}{ccc}  {J}&  {2} & {J}\\\\  {-J} & {0}&  {J}\\end{array}\\right)\\langle J\\vert\\vert {\\cal O}(E2)\\vert\\vert J\\rangle.\n",
      "$$"
     ]
    },
    {
     "cell_type": "markdown",
     "metadata": {},
     "source": [
      "Electromagnetic transitions and moments depend upon the reduced nuclear\n",
      "matrix elements $\\langle f\\vert\\vert {\\cal O}(\\lambda )\\vert\\vert i\\rangle$. These can be expressed as a sum over one-body transition\n",
      "densities (OBTD) times single-particle matrix elements"
     ]
    },
    {
     "cell_type": "markdown",
     "metadata": {},
     "source": [
      "$$\n",
      "\\langle f\\vert\\vert {\\cal O}(\\lambda )\\vert\\vert i\\rangle\n",
      "=\\sum _{k_{\\alpha } k_{\\beta }}\\mathrm{OBTD}(f i k_{\\alpha } k_{\\beta } \\lambda )\n",
      " \\langle k_{\\alpha }\\vert\\vert O(\\lambda )\\vert\\vert k_{\\beta }\\rangle,\n",
      "$$"
     ]
    },
    {
     "cell_type": "markdown",
     "metadata": {},
     "source": [
      "where the OBTD is given by"
     ]
    },
    {
     "cell_type": "markdown",
     "metadata": {},
     "source": [
      "$$\n",
      "\\mathrm{OBTD}(f i k_{\\alpha} k_{\\beta}\\lambda)= \\frac{\\langle f\\vert\\vert [a^{+}_{k_{\\alpha }}\\otimes \\tilde{a}_{k_{\\beta }}]^{\\lambda }\\vert\\vert i\\rangle}{\\sqrt{(2\\lambda +1)}}.\n",
      "$$"
     ]
    },
    {
     "cell_type": "markdown",
     "metadata": {},
     "source": [
      "The labels $i$ and $f$ are a short-hand notation for the initial\n",
      "and final state quantum numbers $(n \\omega _{i}J_{i})$ and $(n\\omega_{f}J_{f})$,\n",
      "respectively. Thus the problem is divided into two parts, one\n",
      "involving the nuclear structure dependent one-body transition\n",
      "densities OBTD, and the other involving the reduced\n",
      "single-particle matrix\n",
      "elements (SPME).\n",
      "\n",
      "\n",
      "\n",
      "\n",
      "The SPME for the $  E\\lambda   $ operator is given by:"
     ]
    },
    {
     "cell_type": "markdown",
     "metadata": {},
     "source": [
      "1\n",
      "0\n",
      "7\n",
      "0\n",
      " \n",
      "<\n",
      "<\n",
      "<\n",
      "!\n",
      "!\n",
      "M\n",
      "A\n",
      "T\n",
      "H\n",
      "_\n",
      "B\n",
      "L\n",
      "O\n",
      "C\n",
      "K"
     ]
    },
    {
     "cell_type": "markdown",
     "metadata": {},
     "source": [
      "$$\n",
      "\\times\\sqrt{ {(2j_{a}+1)(2\\lambda +1)(2j_{b}+1)\\over4\\pi }}\\left(\\begin{array}{ccc}  {j_{a}}&  {\\lambda} &  {j_{b}}\\\\  {1/2} & {0}&  {-1/2}\\end{array}\\right)\\langle k_{a}\\vert r^{\\lambda }\\vert k_{b}\\rangle e_{q} e.\n",
      "$$"
     ]
    },
    {
     "cell_type": "markdown",
     "metadata": {},
     "source": [
      "The SPME for the spin part of the magnetic operator is"
     ]
    },
    {
     "cell_type": "markdown",
     "metadata": {},
     "source": [
      "1\n",
      "0\n",
      "7\n",
      "2\n",
      " \n",
      "<\n",
      "<\n",
      "<\n",
      "!\n",
      "!\n",
      "M\n",
      "A\n",
      "T\n",
      "H\n",
      "_\n",
      "B\n",
      "L\n",
      "O\n",
      "C\n",
      "K"
     ]
    },
    {
     "cell_type": "markdown",
     "metadata": {},
     "source": [
      "1\n",
      "0\n",
      "7\n",
      "3\n",
      " \n",
      "<\n",
      "<\n",
      "<\n",
      "!\n",
      "!\n",
      "M\n",
      "A\n",
      "T\n",
      "H\n",
      "_\n",
      "B\n",
      "L\n",
      "O\n",
      "C\n",
      "K"
     ]
    },
    {
     "cell_type": "markdown",
     "metadata": {},
     "source": [
      "1\n",
      "0\n",
      "7\n",
      "4\n",
      " \n",
      "<\n",
      "<\n",
      "<\n",
      "!\n",
      "!\n",
      "M\n",
      "A\n",
      "T\n",
      "H\n",
      "_\n",
      "B\n",
      "L\n",
      "O\n",
      "C\n",
      "K"
     ]
    },
    {
     "cell_type": "markdown",
     "metadata": {},
     "source": [
      "$$\n",
      "\\times \\langle l _{a}\\vert\\vert Y^{\\lambda -1}(\\hat{r})\\vert\\vert l _{b}\\rangle\\langle\\vert\\vert \\mathbf{s}\\vert\\vert s\\rangle\\langle k_{a}\\vert r^{\\lambda -1}\\vert k_{b}\\rangle g^{s}_{q}\\mu _{N},\n",
      "$$"
     ]
    },
    {
     "cell_type": "markdown",
     "metadata": {},
     "source": [
      "where"
     ]
    },
    {
     "cell_type": "markdown",
     "metadata": {},
     "source": [
      "$$\n",
      "\\langle\\vert\\vert \\mathbf{s}\\vert\\vert s\\rangle = \\sqrt{3/2}.\n",
      "$$"
     ]
    },
    {
     "cell_type": "markdown",
     "metadata": {},
     "source": [
      "The SPME for the orbital part of the magnetic operator is:"
     ]
    },
    {
     "cell_type": "markdown",
     "metadata": {},
     "source": [
      "1\n",
      "0\n",
      "7\n",
      "7\n",
      " \n",
      "<\n",
      "<\n",
      "<\n",
      "!\n",
      "!\n",
      "M\n",
      "A\n",
      "T\n",
      "H\n",
      "_\n",
      "B\n",
      "L\n",
      "O\n",
      "C\n",
      "K"
     ]
    },
    {
     "cell_type": "markdown",
     "metadata": {},
     "source": [
      "1\n",
      "0\n",
      "7\n",
      "8\n",
      " \n",
      "<\n",
      "<\n",
      "<\n",
      "!\n",
      "!\n",
      "M\n",
      "A\n",
      "T\n",
      "H\n",
      "_\n",
      "B\n",
      "L\n",
      "O\n",
      "C\n",
      "K"
     ]
    },
    {
     "cell_type": "markdown",
     "metadata": {},
     "source": [
      "1\n",
      "0\n",
      "7\n",
      "9\n",
      " \n",
      "<\n",
      "<\n",
      "<\n",
      "!\n",
      "!\n",
      "M\n",
      "A\n",
      "T\n",
      "H\n",
      "_\n",
      "B\n",
      "L\n",
      "O\n",
      "C\n",
      "K"
     ]
    },
    {
     "cell_type": "markdown",
     "metadata": {},
     "source": [
      "$$\n",
      "\\times\\left\\{\\begin{array}{ccc}  {l _{a}} &  {l _{b}} & {\\lambda} \\\\  {j_{b}}&  {j_{a}}&  {1/2}\\end{array}\\right\\}\n",
      "\\langle l _{a}\\vert\\vert [Y^{\\lambda -1}(\\hat{r})\\otimes\\mathbf{l}\\,]^{\\lambda }\\vert\\vert l _{b}\\rangle\n",
      "\\langle k_{a}\\vert r^{\\lambda -1}\\vert k_{b}\\rangle g^{l }_{q}\\mu _{N},\n",
      "$$"
     ]
    },
    {
     "cell_type": "markdown",
     "metadata": {},
     "source": [
      "where we have defined"
     ]
    },
    {
     "cell_type": "markdown",
     "metadata": {},
     "source": [
      "1\n",
      "0\n",
      "8\n",
      "1\n",
      " \n",
      "<\n",
      "<\n",
      "<\n",
      "!\n",
      "!\n",
      "M\n",
      "A\n",
      "T\n",
      "H\n",
      "_\n",
      "B\n",
      "L\n",
      "O\n",
      "C\n",
      "K"
     ]
    },
    {
     "cell_type": "markdown",
     "metadata": {},
     "source": [
      "$$\n",
      "\\times\\left\\{\\begin{array}{ccc}  {\\lambda -1} & {1}&  {\\lambda}\\\\   {l _{b}}&  {l _{a}} &  {l _{b}} \\end{array}\\right\\}\n",
      "\\langle l _{a}\\vert\\vert Y^{\\lambda -1}(\\hat{r})\\vert\\vert l _{b}\\rangle,\n",
      "$$"
     ]
    },
    {
     "cell_type": "markdown",
     "metadata": {},
     "source": [
      "with"
     ]
    },
    {
     "cell_type": "markdown",
     "metadata": {},
     "source": [
      "$$\n",
      "\\langle l _{a}\\vert\\vert Y^{\\lambda -1}(\\hat{r})\\vert\\vert l _{b}\\rangle=(-1)^{l _{a}} \\sqrt{\\frac{(2l _{a}+1)(2l _{b}+1)(2\\lambda -1)}{4\\pi }}\\left(\\begin{array}{ccc}  {l _{a}} & {\\lambda -1} & {l _{b}}\\\\  {0} & {0}&  {0}\\end{array}\\right)\n",
      ".\n",
      "$$"
     ]
    },
    {
     "cell_type": "markdown",
     "metadata": {},
     "source": [
      "For the $M1$ operator the radial matrix element is"
     ]
    },
    {
     "cell_type": "markdown",
     "metadata": {},
     "source": [
      "$$\n",
      "<k_{a}\\vert r^{0}\\vert k_{b}>\\, = \\delta _{n_{a},n_{b}},\n",
      "$$"
     ]
    },
    {
     "cell_type": "markdown",
     "metadata": {},
     "source": [
      "and the SPME simplify to:"
     ]
    },
    {
     "cell_type": "markdown",
     "metadata": {},
     "source": [
      "1\n",
      "0\n",
      "8\n",
      "5\n",
      " \n",
      "<\n",
      "<\n",
      "<\n",
      "!\n",
      "!\n",
      "M\n",
      "A\n",
      "T\n",
      "H\n",
      "_\n",
      "B\n",
      "L\n",
      "O\n",
      "C\n",
      "K"
     ]
    },
    {
     "cell_type": "markdown",
     "metadata": {},
     "source": [
      "1\n",
      "0\n",
      "8\n",
      "6\n",
      " \n",
      "<\n",
      "<\n",
      "<\n",
      "!\n",
      "!\n",
      "M\n",
      "A\n",
      "T\n",
      "H\n",
      "_\n",
      "B\n",
      "L\n",
      "O\n",
      "C\n",
      "K"
     ]
    },
    {
     "cell_type": "markdown",
     "metadata": {},
     "source": [
      "$$\n",
      "\\times\\langle s\\vert\\vert \\mathbf{s}\\vert\\vert s\\rangle \\delta _{l _{a},l _{b}} \\delta _{n_{a},n_{b}}g^{s}_{q}\\mu _{N},\n",
      "$$"
     ]
    },
    {
     "cell_type": "markdown",
     "metadata": {},
     "source": [
      "where we have"
     ]
    },
    {
     "cell_type": "markdown",
     "metadata": {},
     "source": [
      "$$\n",
      "<s\\vert\\vert \\mathbf{s}\\,\\vert\\vert s>\\, = \\sqrt{3/2}\\, ,\n",
      "$$"
     ]
    },
    {
     "cell_type": "markdown",
     "metadata": {},
     "source": [
      "and"
     ]
    },
    {
     "cell_type": "markdown",
     "metadata": {},
     "source": [
      "1\n",
      "0\n",
      "8\n",
      "9\n",
      " \n",
      "<\n",
      "<\n",
      "<\n",
      "!\n",
      "!\n",
      "M\n",
      "A\n",
      "T\n",
      "H\n",
      "_\n",
      "B\n",
      "L\n",
      "O\n",
      "C\n",
      "K"
     ]
    },
    {
     "cell_type": "markdown",
     "metadata": {},
     "source": [
      "1\n",
      "0\n",
      "9\n",
      "0\n",
      " \n",
      "<\n",
      "<\n",
      "<\n",
      "!\n",
      "!\n",
      "M\n",
      "A\n",
      "T\n",
      "H\n",
      "_\n",
      "B\n",
      "L\n",
      "O\n",
      "C\n",
      "K"
     ]
    },
    {
     "cell_type": "markdown",
     "metadata": {},
     "source": [
      "$$\n",
      "\\times\\langle l _{a}\\vert\\vert \\mathbf{l}\\,\\vert\\vert l _{b}\\rangle \\delta _{n_{a},n_{b}}g^{l }_{q}\\mu _{N} ,\n",
      "$$"
     ]
    },
    {
     "cell_type": "markdown",
     "metadata": {},
     "source": [
      "where"
     ]
    },
    {
     "cell_type": "markdown",
     "metadata": {},
     "source": [
      "$$\n",
      "\\langle l _{a}\\vert\\vert \\mathbf{l}\\,\\vert\\vert l _{b}\\rangle = \\delta _{l _{a},l _{b}} \\sqrt{l _{a}(l_{a}+1)(2l _{a}+1)}.\n",
      "$$"
     ]
    },
    {
     "cell_type": "markdown",
     "metadata": {},
     "source": [
      "Thus the $M1$ operator connects only\n",
      "those orbitals which have the same $n$ and $l$ values.\n",
      "\n",
      "\n",
      "\n",
      "## $\\beta$-decay\n",
      "\n",
      "We will now focus on  allowed $\\beta$-decay.  \n",
      "The allowed beta decay rate $W$ between a specific set of\n",
      "initial and final states is given by"
     ]
    },
    {
     "cell_type": "markdown",
     "metadata": {},
     "source": [
      "$$\n",
      "W_{i,f} = (f/K_{o}) \\left[ g_{V}^{2} \\; B_{i,f}(F_{\\pm})+ g_{A}^{2}B_{i,f}(GT_{\\pm})\\right],\n",
      "$$"
     ]
    },
    {
     "cell_type": "markdown",
     "metadata": {},
     "source": [
      "where $f$ is dimensionless three-body\n",
      "phase-space factor which depends upon the\n",
      "beta-decay $Q$ value,\n",
      "and $K_{o}$ is a specific combination of fundamental constants"
     ]
    },
    {
     "cell_type": "markdown",
     "metadata": {},
     "source": [
      "$$\n",
      "K_{o}=\\frac{2\\pi^{3}\\hbar^{7}}{ m_{e}^{5} c^{4}}= 1.8844 \\times 10^{-94}\\mathrm{erg}^{2}\\mathrm{cm}^{6}\\mathrm{s}.\n",
      "$$"
     ]
    },
    {
     "cell_type": "markdown",
     "metadata": {},
     "source": [
      "The $\\pm$ signrefer to $\\beta_{\\pm}$ decay of nucleus\n",
      "$(A_{i},Z_{i})$ into nucleus $(A_{i},Z_{i} \\mp 1)  $.\n",
      "The weak-interaction vector ($V$) and axial-vector ($A$) coupling\n",
      "constants for the decay of neutron into a proton are denoted by $g_{V}$\n",
      "and $g_{A}$, respectively.\n",
      "\n",
      "The total decay rate for a given\n",
      "initial state is obtained by summing the partial rates over all\n",
      "final states"
     ]
    },
    {
     "cell_type": "markdown",
     "metadata": {},
     "source": [
      "$$\n",
      "W = \\displaystyle\\sum _{f} W_{if},\n",
      "$$"
     ]
    },
    {
     "cell_type": "markdown",
     "metadata": {},
     "source": [
      "with the branching fraction to a specific final state given by"
     ]
    },
    {
     "cell_type": "markdown",
     "metadata": {},
     "source": [
      "$$\n",
      "b_{if} = \\frac{W_{if}}{W}.\n",
      "$$"
     ]
    },
    {
     "cell_type": "markdown",
     "metadata": {},
     "source": [
      "Beta decay lifetime are usually given in terms of the half-life with\n",
      "a total half-life of"
     ]
    },
    {
     "cell_type": "markdown",
     "metadata": {},
     "source": [
      "$$\n",
      "T_{1/2} = \\frac{{\\rm ln}(2)}{W}.\n",
      "$$"
     ]
    },
    {
     "cell_type": "markdown",
     "metadata": {},
     "source": [
      "The partial half-life for a particular final state will be\n",
      "denoted by $  t_{1/2}  $"
     ]
    },
    {
     "cell_type": "markdown",
     "metadata": {},
     "source": [
      "$$\n",
      "t_{1/2} = \\frac{T_{1/2}}{b_{if}}.\n",
      "$$"
     ]
    },
    {
     "cell_type": "markdown",
     "metadata": {},
     "source": [
      "Historically\n",
      "one combines the partial half-life for a particular decay\n",
      "with the calculated\n",
      "phase-space factor $f$ to obtain  an **ft** value given by"
     ]
    },
    {
     "cell_type": "markdown",
     "metadata": {},
     "source": [
      "$$\n",
      "f t_{1/2}=\\frac{C }{\\left[B(F_{\\pm})+(g_{A}/g_{V})^{2} B(GT_{\\pm}) \\right] }\n",
      "$$"
     ]
    },
    {
     "cell_type": "markdown",
     "metadata": {},
     "source": [
      "where"
     ]
    },
    {
     "cell_type": "markdown",
     "metadata": {},
     "source": [
      "$$\n",
      "C = \\frac{{\\rm ln}(2)K_{o}}{(g_{V})^{2}}.\n",
      "$$"
     ]
    },
    {
     "cell_type": "markdown",
     "metadata": {},
     "source": [
      "One often compiles the allowed beta decay in terms of a **logft**\n",
      "which stands for log$_{10}$ of the $ft_{1/2}$ value.\n",
      "\n",
      "     The values of the coupling constants for Fermi decay,\n",
      "$g_{V}$, and Gamow-Teller decay, $g_{A}$ are obtained as follows.\n",
      "For a $0^{+} \\rightarrow  0^{+}$ nuclear transition $B(GT)=0$, and for a\n",
      "transition between $  T=1  $ analogue states with $B(F)=2$ we find"
     ]
    },
    {
     "cell_type": "markdown",
     "metadata": {},
     "source": [
      "$$\n",
      "C = 2 t_{1/2} f.\n",
      "$$"
     ]
    },
    {
     "cell_type": "markdown",
     "metadata": {},
     "source": [
      "The partial half-lives and $Q$ values for several $0^{+} \\rightarrow  0^{+}$ analogue\n",
      "transitions have been measured to an accuracy of about one part in\n",
      "10000. With  phase space factors one obtains"
     ]
    },
    {
     "cell_type": "markdown",
     "metadata": {},
     "source": [
      "$$\n",
      "C = 6170(4)\n",
      "$$"
     ]
    },
    {
     "cell_type": "markdown",
     "metadata": {},
     "source": [
      "This result, together with the value of $K_{o}$ can be used to obtain $g_{V}$.\n",
      "\n",
      "\n",
      "At the quark level $g_{V}=-g_{A}$.\n",
      "But for nuclear structure we use the value obtained from the\n",
      "neutron to proton beta decay"
     ]
    },
    {
     "cell_type": "markdown",
     "metadata": {},
     "source": [
      "$$\n",
      "\\vert g_{A}/g_{V}\\vert  = 1.261(8).\n",
      "$$"
     ]
    },
    {
     "cell_type": "markdown",
     "metadata": {},
     "source": [
      "The operator for Fermi beta decay in terms of sums\n",
      "over the nucleons is"
     ]
    },
    {
     "cell_type": "markdown",
     "metadata": {},
     "source": [
      "$$\n",
      "{\\cal O}(F_{\\pm}) =  \\displaystyle\\sum _{k} t_{k\\pm}.\n",
      "$$"
     ]
    },
    {
     "cell_type": "markdown",
     "metadata": {},
     "source": [
      "The matrix element is"
     ]
    },
    {
     "cell_type": "markdown",
     "metadata": {},
     "source": [
      "$$\n",
      "B(F) =\\, \\vert \\langle f\\vert  T_{\\pm} \\vert i\\rangle\\vert ^{2},\n",
      "$$"
     ]
    },
    {
     "cell_type": "markdown",
     "metadata": {},
     "source": [
      "where"
     ]
    },
    {
     "cell_type": "markdown",
     "metadata": {},
     "source": [
      "$$\n",
      "T_{\\pm} = \\sum _{k} t_{\\pm}\n",
      "$$"
     ]
    },
    {
     "cell_type": "markdown",
     "metadata": {},
     "source": [
      "is the total isospin raising and lowering operator for total\n",
      "isospin constructed out of the\n",
      "basic nucleon isospin raising and lowering operators"
     ]
    },
    {
     "cell_type": "markdown",
     "metadata": {},
     "source": [
      "$$\n",
      "t_{-}\\vert n\\rangle=\\vert p\\rangle \\hspace{1cm} t_{-}\\vert p\\rangle= 0,\n",
      "$$"
     ]
    },
    {
     "cell_type": "markdown",
     "metadata": {},
     "source": [
      "and"
     ]
    },
    {
     "cell_type": "markdown",
     "metadata": {},
     "source": [
      "$$\n",
      "t_{+}\\vert p\\rangle=\\vert n\\rangle, \\;\\; t_{+}\\vert n\\rangle= 0.\n",
      "$$"
     ]
    },
    {
     "cell_type": "markdown",
     "metadata": {},
     "source": [
      "The matrix elements obey the triangle\n",
      "conditions $J_{f}=J_{i}$ ($\\Delta J=0$). The Fermi operator has\n",
      "$\\pi _{O}=+1$, and thus the\n",
      "initial and final nuclear states must have $\\pi _{i}\\pi _{f}=+1$ for\n",
      "the matrix element to be\n",
      "nonzero under the parity transform.\n",
      "\n",
      "When isospin is conserved\n",
      "the Fermi matrix element must obey the isospin triangle condition\n",
      "$T_{f}=T_{i}$ $(\\Delta T=0)$, and the Fermi operator can only connect\n",
      "isobaric analogue states.\n",
      "\n",
      "\n",
      "\n",
      "For $\\beta_{-}$ decay"
     ]
    },
    {
     "cell_type": "markdown",
     "metadata": {},
     "source": [
      "1\n",
      "1\n",
      "0\n",
      "9\n",
      " \n",
      "<\n",
      "<\n",
      "<\n",
      "!\n",
      "!\n",
      "M\n",
      "A\n",
      "T\n",
      "H\n",
      "_\n",
      "B\n",
      "L\n",
      "O\n",
      "C\n",
      "K"
     ]
    },
    {
     "cell_type": "markdown",
     "metadata": {},
     "source": [
      "$$\n",
      "= \\sqrt{(T_{i}(T_{i}+1)-T_{zi}(T_{zi}-1)}\\vert \\omega _{i},J_{i},M_{i},T_{i},T_{zi}-1\\rangle,\n",
      "$$"
     ]
    },
    {
     "cell_type": "markdown",
     "metadata": {},
     "source": [
      "and"
     ]
    },
    {
     "cell_type": "markdown",
     "metadata": {},
     "source": [
      "1\n",
      "1\n",
      "1\n",
      "1\n",
      " \n",
      "<\n",
      "<\n",
      "<\n",
      "!\n",
      "!\n",
      "M\n",
      "A\n",
      "T\n",
      "H\n",
      "_\n",
      "B\n",
      "L\n",
      "O\n",
      "C\n",
      "K"
     ]
    },
    {
     "cell_type": "markdown",
     "metadata": {},
     "source": [
      "$$\n",
      "= [T_{i}(T_{i}+1)-T_{zi}(T_{zi}-1)]\n",
      "\\delta _{\\omega _{f},\\omega }\\;\\delta _{J_{i},J_{f}}\\;\\delta _{M_{i},M_{f}}\\;\\delta _{T_{i},T_{f}}.\n",
      "$$"
     ]
    },
    {
     "cell_type": "markdown",
     "metadata": {},
     "source": [
      "For $\\beta_{ + }$ we have"
     ]
    },
    {
     "cell_type": "markdown",
     "metadata": {},
     "source": [
      "1\n",
      "1\n",
      "1\n",
      "3\n",
      " \n",
      "<\n",
      "<\n",
      "<\n",
      "!\n",
      "!\n",
      "M\n",
      "A\n",
      "T\n",
      "H\n",
      "_\n",
      "B\n",
      "L\n",
      "O\n",
      "C\n",
      "K"
     ]
    },
    {
     "cell_type": "markdown",
     "metadata": {},
     "source": [
      "$$\n",
      "= [T_{i}(T_{i}+1)-T_{zi}(T_{zi}+1)]\n",
      "\\delta _{\\omega _{f},\\omega }\\;\\delta _{J_{i},J_{f}}\\delta _{M_{i},M_{f}}\\delta _{T_{i},T_{f}}.\n",
      "$$"
     ]
    },
    {
     "cell_type": "markdown",
     "metadata": {},
     "source": [
      "For neutron-rich nuclei ($N_{i}> Z_{i}$) we have $T_{i}=T_{zi}$ and thus"
     ]
    },
    {
     "cell_type": "markdown",
     "metadata": {},
     "source": [
      "$$\n",
      "B(F_{-})(N_{i}> Z_{i}) = 2T_{zi} = (N_{i}-Z_{i})\\delta _{\\omega _{f},\\omega }\\delta _{J_{i},J_{f}}\\;\\delta _{M_{i},M_{f}}\\;\\delta _{T_{i},T_{f}},\n",
      "$$"
     ]
    },
    {
     "cell_type": "markdown",
     "metadata": {},
     "source": [
      "and"
     ]
    },
    {
     "cell_type": "markdown",
     "metadata": {},
     "source": [
      "$$\n",
      "B(F_{+})(N_{i}> Z_{i}) = 0.\n",
      "$$"
     ]
    },
    {
     "cell_type": "markdown",
     "metadata": {},
     "source": [
      "The reduced single-particle\n",
      "matrix elements are given by"
     ]
    },
    {
     "cell_type": "markdown",
     "metadata": {},
     "source": [
      "$$\n",
      "\\langle k_{a},p\\vert\\vert \\sigma  t_{-}\\vert\\vert k_{b},n\\rangle=\\langle k_{a},n\\vert\\vert \\sigma  t_{+}\\vert\\vert k_{b},p\\rangle= 2\\langle k_{a}\\vert\\vert \\mathbf{s}\\vert\\vert k_{b}\\rangle,\n",
      "$$"
     ]
    },
    {
     "cell_type": "markdown",
     "metadata": {},
     "source": [
      "where the matrix elements of $\\mathbf{s}$ are given by"
     ]
    },
    {
     "cell_type": "markdown",
     "metadata": {},
     "source": [
      "1\n",
      "1\n",
      "1\n",
      "8\n",
      " \n",
      "<\n",
      "<\n",
      "<\n",
      "!\n",
      "!\n",
      "M\n",
      "A\n",
      "T\n",
      "H\n",
      "_\n",
      "B\n",
      "L\n",
      "O\n",
      "C\n",
      "K"
     ]
    },
    {
     "cell_type": "markdown",
     "metadata": {},
     "source": [
      "$$\n",
      "=(-1)^{l_{a}+j_{a}+3/2}\n",
      "\\sqrt{(2j_{a}+1)(2j_{b}+1)}\\left\\{\\begin{array}{ccc}  {1/2}&  {1/2}&  {1} \\\\ {j_{b}}&  {j_{a}}&  {l_{a}}\\end{array}\\right\\}\n",
      "\\langle s\\vert\\vert \\mathbf{s}\\,\\vert\\vert s\\rangle \\delta _{\\ell _{a},\\ell _{b}} \\delta_{n_{a},n_{b}}\n",
      ",\n",
      "$$"
     ]
    },
    {
     "cell_type": "markdown",
     "metadata": {},
     "source": [
      "with"
     ]
    },
    {
     "cell_type": "markdown",
     "metadata": {},
     "source": [
      "$$\n",
      "\\langle s\\vert\\vert \\mathbf{s}\\vert\\vert s\\rangle= \\sqrt{3/2}.\n",
      "$$"
     ]
    },
    {
     "cell_type": "markdown",
     "metadata": {},
     "source": [
      "The matrix elements of $\\mathbf{s}$ has the selection rules $\\delta_{ \\ell_{a} , \\ell_{b} }$\n",
      "and $\\delta_{n _{a} ,n _{b} }$. Thus the orbits which are connected by the GT operator\n",
      "are very selective; they are those in the same major oscillator shell\n",
      "with the same $\\ell$ value. The matrix elements such as\n",
      "$1s_{1/2}-0d_{3/2}$ which have the allowed $\\Delta j$ coupling but\n",
      "are zero due to the $\\Delta\\ell$ coupling are called $\\ell$-**forbidden** matrix\n",
      "elements.\n",
      "\n",
      "\n",
      "Sum rules for Fermi and Gamow-Teller matrix elements can be obtained easily.\n",
      "\n",
      "The sum rule for Fermi is obtained from the sum"
     ]
    },
    {
     "cell_type": "markdown",
     "metadata": {},
     "source": [
      "$$\n",
      "\\sum _{f} \\left[ B_{fi}(F_{-}) - B_{fi}(F_{+}) \\right]\n",
      "=\\sum _{f} \\left[ \\vert \\langle f\\vert  T_{-} \\vert i\\rangle\\vert ^{2} -  \\vert \\langle f\\vert  T_{+} \\vert \n",
      "i\\rangle\\vert ^{2} \\right]\n",
      "$$"
     ]
    },
    {
     "cell_type": "markdown",
     "metadata": {},
     "source": [
      "The final states $f$ in the $T_{-}$ matrix element go\n",
      "with the $Z_{f}=Z_{i}+1$ nucleus and those in the $T_{+}$ matrix element\n",
      "to with the $Z_{f}=Z_{i}-1$ nucleus. One can explicitly sum over the\n",
      "final states to obtain"
     ]
    },
    {
     "cell_type": "markdown",
     "metadata": {},
     "source": [
      "1\n",
      "1\n",
      "2\n",
      "2\n",
      " \n",
      "<\n",
      "<\n",
      "<\n",
      "!\n",
      "!\n",
      "M\n",
      "A\n",
      "T\n",
      "H\n",
      "_\n",
      "B\n",
      "L\n",
      "O\n",
      "C\n",
      "K"
     ]
    },
    {
     "cell_type": "markdown",
     "metadata": {},
     "source": [
      "$$\n",
      "= \\langle i\\vert  T_{+} T_{-} -  T_{-} T_{+}\\vert i\\rangle =\\langle i\\vert  2T_{z}\\vert i\\rangle  = (N_{i}-Z_{i}).\n",
      "$$"
     ]
    },
    {
     "cell_type": "markdown",
     "metadata": {},
     "source": [
      "The sum rule for Gamow-Teller is obtained as follows"
     ]
    },
    {
     "cell_type": "markdown",
     "metadata": {},
     "source": [
      "1\n",
      "1\n",
      "2\n",
      "4\n",
      " \n",
      "<\n",
      "<\n",
      "<\n",
      "!\n",
      "!\n",
      "M\n",
      "A\n",
      "T\n",
      "H\n",
      "_\n",
      "B\n",
      "L\n",
      "O\n",
      "C\n",
      "K"
     ]
    },
    {
     "cell_type": "markdown",
     "metadata": {},
     "source": [
      "1\n",
      "1\n",
      "2\n",
      "5\n",
      " \n",
      "<\n",
      "<\n",
      "<\n",
      "!\n",
      "!\n",
      "M\n",
      "A\n",
      "T\n",
      "H\n",
      "_\n",
      "B\n",
      "L\n",
      "O\n",
      "C\n",
      "K"
     ]
    },
    {
     "cell_type": "markdown",
     "metadata": {},
     "source": [
      "1\n",
      "1\n",
      "2\n",
      "6\n",
      " \n",
      "<\n",
      "<\n",
      "<\n",
      "!\n",
      "!\n",
      "M\n",
      "A\n",
      "T\n",
      "H\n",
      "_\n",
      "B\n",
      "L\n",
      "O\n",
      "C\n",
      "K"
     ]
    },
    {
     "cell_type": "markdown",
     "metadata": {},
     "source": [
      "1\n",
      "1\n",
      "2\n",
      "7\n",
      " \n",
      "<\n",
      "<\n",
      "<\n",
      "!\n",
      "!\n",
      "M\n",
      "A\n",
      "T\n",
      "H\n",
      "_\n",
      "B\n",
      "L\n",
      "O\n",
      "C\n",
      "K"
     ]
    },
    {
     "cell_type": "markdown",
     "metadata": {},
     "source": [
      "1\n",
      "1\n",
      "2\n",
      "8\n",
      " \n",
      "<\n",
      "<\n",
      "<\n",
      "!\n",
      "!\n",
      "M\n",
      "A\n",
      "T\n",
      "H\n",
      "_\n",
      "B\n",
      "L\n",
      "O\n",
      "C\n",
      "K"
     ]
    },
    {
     "cell_type": "markdown",
     "metadata": {},
     "source": [
      "$$\n",
      "=   3\\langle i\\vert  T_{+} T_{-} -  T_{-} T_{+}\\vert i\\rangle= 3\\langle i\\vert  2T_{z}\\vert i\\rangle  = 3(N_{i}-Z_{i}).\n",
      "$$"
     ]
    },
    {
     "cell_type": "markdown",
     "metadata": {},
     "source": [
      "We have used the fact that $\\sigma ^{2}_{x} = \\sigma ^{2}_{y}=\\sigma ^{2}_{z}=1$.\n",
      "When $k \\neq k'$ the operators commute and cancel.\n",
      "Thus"
     ]
    },
    {
     "cell_type": "markdown",
     "metadata": {},
     "source": [
      "$$\n",
      "\\sum_{f} \\left[B_{fi}(F_{-}) - B_{fi}(F_{+}) \\right] = (N_{i}-Z_{i}),\n",
      "$$"
     ]
    },
    {
     "cell_type": "markdown",
     "metadata": {},
     "source": [
      "and"
     ]
    },
    {
     "cell_type": "markdown",
     "metadata": {},
     "source": [
      "$$\n",
      "\\sum_{f} \\left[ B_{fi}(GT_{-}) - B_{fi}(GT_{+}) \\right] = 3(N_{i}-Z_{i}).\n",
      "$$"
     ]
    },
    {
     "cell_type": "markdown",
     "metadata": {},
     "source": [
      "The sum-rule for the Fermi matrix elements applies even\n",
      "when isospin is not conserved.\n",
      "\n",
      "\n",
      "For $N > Z$ we usually have\n",
      "$T_{i}=T_{zi}$ which means that $B(F_{+})=0$.\n",
      "\n",
      "For $N=Z (T_{zi}=0)$ and $T_{i}=0$ we get \n",
      "$B(F_{+})=B(F_{-})=0$, and for $T_{i}=1$ we\n",
      "have $B(F_{+}) = B(F_{-}) = 2$. Fermi transitions which would be zero\n",
      "if isospin is conserved are called isospin-forbidden Fermi transitions.\n",
      "\n",
      "When $N > Z$ there are some situations where one has $B(GT_{+})=0$,\n",
      "and then we obtain $B(GT_{-}) = 3(N_{i}-Z_{i})$. In particular\n",
      "for the $\\beta_{-}$ decay of the neutron we have $B(F_{-})=1$\n",
      "and $B(GT_{-})=3$.\n",
      "\n",
      "\n",
      "\n",
      "\n",
      "\n",
      "\n",
      "\n",
      "\n",
      "\n",
      "\n",
      "\n",
      "\n",
      "\n",
      "\n",
      "\n",
      "\n",
      "\n",
      "\n",
      "\n",
      "\n",
      "\n",
      "\n",
      "\n",
      "\n",
      "\n",
      "\n",
      "\n",
      "## References\n",
      "\n",
      "<!-- BIBFILE: ../chapters/papers.pub -->"
     ]
    }
   ],
   "metadata": {}
  }
 ]
}
